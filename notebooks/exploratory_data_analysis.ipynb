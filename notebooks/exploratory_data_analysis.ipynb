{
 "cells": [
  {
   "cell_type": "markdown",
   "metadata": {},
   "source": [
    "# Exploratory Data Analysis Notebook"
   ]
  },
  {
   "cell_type": "code",
   "execution_count": 3,
   "metadata": {},
   "outputs": [],
   "source": [
    "import import_tool\n",
    "\n",
    "import pandas as pd\n",
    "import numpy as np\n",
    "import json\n",
    "import seaborn as sns\n",
    "import datetime\n",
    "import tools\n",
    "import pre_process as pp\n",
    "import nest_asyncio\n",
    "import matplotlib.pyplot as plt\n",
    "import seaborn as sns\n",
    "import plotly.express as px\n",
    "import logging"
   ]
  },
  {
   "cell_type": "code",
   "execution_count": 4,
   "metadata": {},
   "outputs": [],
   "source": [
    "#%% Logging set up\n",
    "logger = logging.basicConfig(format='[%(levelname)s %(module)s] %(asctime)s - %(message)s', level = logging.INFO)\n",
    "logger = logging.getLogger(__name__)\n",
    "pd.set_option('display.max_columns', None)\n",
    "player_categories = [\"Goalkeeper\", \"Defender\", \"Midfielder\", \"Forward\"]\n",
    "position_colors_list = [\"red\", \"blue\", \"Orange\", \"Green\"]\n",
    "position_colors = {cat: color for cat, color in zip(player_categories, position_colors_list)}"
   ]
  },
  {
   "cell_type": "code",
   "execution_count": 5,
   "metadata": {},
   "outputs": [
    {
     "name": "stderr",
     "output_type": "stream",
     "text": [
      "[INFO 4205385147] 2022-03-11 16:29:05,376 - Looking for files dated - 2022_03_11\n",
      "[INFO 4205385147] 2022-03-11 16:29:05,391 - Files found, skipping data download and procesing\n"
     ]
    }
   ],
   "source": [
    "today = '_'.join(str(datetime.datetime.today()).split(' ')[0].split('-'))\n",
    "try:\n",
    "    logger.info(f\"Looking for files dated - {today}\")\n",
    "    df = pd.read_pickle(\"../.data/\" + today + \"_df\")\n",
    "    gw_df = pd.read_pickle(\"../.data/\" + today + \"_gw_df\")\n",
    "    logger.info(\"Files found, skipping data download and procesing\")\n",
    "except FileNotFoundError:\n",
    "    logger.info(\"Files not found. Attempting to download and process data now.\")\n",
    "    df, gw_df = pp.main(save_to_file=True)\n",
    "    logger.info(\"Successfully downloaded and processed data.\")"
   ]
  },
  {
   "cell_type": "code",
   "execution_count": 6,
   "metadata": {},
   "outputs": [
    {
     "data": {
      "application/vnd.plotly.v1+json": {
       "config": {
        "plotlyServerURL": "https://plot.ly"
       },
       "data": [
        {
         "customdata": [
          [
           "Defender"
          ],
          [
           "Forward"
          ],
          [
           "Goalkeeper"
          ],
          [
           "Midfielder"
          ]
         ],
         "domain": {
          "x": [
           0,
           1
          ],
          "y": [
           0,
           1
          ]
         },
         "hole": 0.3,
         "hovertemplate": "element_type=%{customdata[0]}<br>player_name=%{value}<extra></extra>",
         "labels": [
          "Defender",
          "Forward",
          "Goalkeeper",
          "Midfielder"
         ],
         "legendgroup": "",
         "marker": {
          "colors": [
           "blue",
           "Green",
           "red",
           "Orange"
          ]
         },
         "name": "",
         "showlegend": true,
         "type": "pie",
         "values": [
          132,
          42,
          28,
          143
         ]
        }
       ],
       "layout": {
        "legend": {
         "tracegroupgap": 0
        },
        "margin": {
         "t": 60
        },
        "template": {
         "data": {
          "bar": [
           {
            "error_x": {
             "color": "#2a3f5f"
            },
            "error_y": {
             "color": "#2a3f5f"
            },
            "marker": {
             "line": {
              "color": "#E5ECF6",
              "width": 0.5
             },
             "pattern": {
              "fillmode": "overlay",
              "size": 10,
              "solidity": 0.2
             }
            },
            "type": "bar"
           }
          ],
          "barpolar": [
           {
            "marker": {
             "line": {
              "color": "#E5ECF6",
              "width": 0.5
             },
             "pattern": {
              "fillmode": "overlay",
              "size": 10,
              "solidity": 0.2
             }
            },
            "type": "barpolar"
           }
          ],
          "carpet": [
           {
            "aaxis": {
             "endlinecolor": "#2a3f5f",
             "gridcolor": "white",
             "linecolor": "white",
             "minorgridcolor": "white",
             "startlinecolor": "#2a3f5f"
            },
            "baxis": {
             "endlinecolor": "#2a3f5f",
             "gridcolor": "white",
             "linecolor": "white",
             "minorgridcolor": "white",
             "startlinecolor": "#2a3f5f"
            },
            "type": "carpet"
           }
          ],
          "choropleth": [
           {
            "colorbar": {
             "outlinewidth": 0,
             "ticks": ""
            },
            "type": "choropleth"
           }
          ],
          "contour": [
           {
            "colorbar": {
             "outlinewidth": 0,
             "ticks": ""
            },
            "colorscale": [
             [
              0,
              "#0d0887"
             ],
             [
              0.1111111111111111,
              "#46039f"
             ],
             [
              0.2222222222222222,
              "#7201a8"
             ],
             [
              0.3333333333333333,
              "#9c179e"
             ],
             [
              0.4444444444444444,
              "#bd3786"
             ],
             [
              0.5555555555555556,
              "#d8576b"
             ],
             [
              0.6666666666666666,
              "#ed7953"
             ],
             [
              0.7777777777777778,
              "#fb9f3a"
             ],
             [
              0.8888888888888888,
              "#fdca26"
             ],
             [
              1,
              "#f0f921"
             ]
            ],
            "type": "contour"
           }
          ],
          "contourcarpet": [
           {
            "colorbar": {
             "outlinewidth": 0,
             "ticks": ""
            },
            "type": "contourcarpet"
           }
          ],
          "heatmap": [
           {
            "colorbar": {
             "outlinewidth": 0,
             "ticks": ""
            },
            "colorscale": [
             [
              0,
              "#0d0887"
             ],
             [
              0.1111111111111111,
              "#46039f"
             ],
             [
              0.2222222222222222,
              "#7201a8"
             ],
             [
              0.3333333333333333,
              "#9c179e"
             ],
             [
              0.4444444444444444,
              "#bd3786"
             ],
             [
              0.5555555555555556,
              "#d8576b"
             ],
             [
              0.6666666666666666,
              "#ed7953"
             ],
             [
              0.7777777777777778,
              "#fb9f3a"
             ],
             [
              0.8888888888888888,
              "#fdca26"
             ],
             [
              1,
              "#f0f921"
             ]
            ],
            "type": "heatmap"
           }
          ],
          "heatmapgl": [
           {
            "colorbar": {
             "outlinewidth": 0,
             "ticks": ""
            },
            "colorscale": [
             [
              0,
              "#0d0887"
             ],
             [
              0.1111111111111111,
              "#46039f"
             ],
             [
              0.2222222222222222,
              "#7201a8"
             ],
             [
              0.3333333333333333,
              "#9c179e"
             ],
             [
              0.4444444444444444,
              "#bd3786"
             ],
             [
              0.5555555555555556,
              "#d8576b"
             ],
             [
              0.6666666666666666,
              "#ed7953"
             ],
             [
              0.7777777777777778,
              "#fb9f3a"
             ],
             [
              0.8888888888888888,
              "#fdca26"
             ],
             [
              1,
              "#f0f921"
             ]
            ],
            "type": "heatmapgl"
           }
          ],
          "histogram": [
           {
            "marker": {
             "pattern": {
              "fillmode": "overlay",
              "size": 10,
              "solidity": 0.2
             }
            },
            "type": "histogram"
           }
          ],
          "histogram2d": [
           {
            "colorbar": {
             "outlinewidth": 0,
             "ticks": ""
            },
            "colorscale": [
             [
              0,
              "#0d0887"
             ],
             [
              0.1111111111111111,
              "#46039f"
             ],
             [
              0.2222222222222222,
              "#7201a8"
             ],
             [
              0.3333333333333333,
              "#9c179e"
             ],
             [
              0.4444444444444444,
              "#bd3786"
             ],
             [
              0.5555555555555556,
              "#d8576b"
             ],
             [
              0.6666666666666666,
              "#ed7953"
             ],
             [
              0.7777777777777778,
              "#fb9f3a"
             ],
             [
              0.8888888888888888,
              "#fdca26"
             ],
             [
              1,
              "#f0f921"
             ]
            ],
            "type": "histogram2d"
           }
          ],
          "histogram2dcontour": [
           {
            "colorbar": {
             "outlinewidth": 0,
             "ticks": ""
            },
            "colorscale": [
             [
              0,
              "#0d0887"
             ],
             [
              0.1111111111111111,
              "#46039f"
             ],
             [
              0.2222222222222222,
              "#7201a8"
             ],
             [
              0.3333333333333333,
              "#9c179e"
             ],
             [
              0.4444444444444444,
              "#bd3786"
             ],
             [
              0.5555555555555556,
              "#d8576b"
             ],
             [
              0.6666666666666666,
              "#ed7953"
             ],
             [
              0.7777777777777778,
              "#fb9f3a"
             ],
             [
              0.8888888888888888,
              "#fdca26"
             ],
             [
              1,
              "#f0f921"
             ]
            ],
            "type": "histogram2dcontour"
           }
          ],
          "mesh3d": [
           {
            "colorbar": {
             "outlinewidth": 0,
             "ticks": ""
            },
            "type": "mesh3d"
           }
          ],
          "parcoords": [
           {
            "line": {
             "colorbar": {
              "outlinewidth": 0,
              "ticks": ""
             }
            },
            "type": "parcoords"
           }
          ],
          "pie": [
           {
            "automargin": true,
            "type": "pie"
           }
          ],
          "scatter": [
           {
            "marker": {
             "colorbar": {
              "outlinewidth": 0,
              "ticks": ""
             }
            },
            "type": "scatter"
           }
          ],
          "scatter3d": [
           {
            "line": {
             "colorbar": {
              "outlinewidth": 0,
              "ticks": ""
             }
            },
            "marker": {
             "colorbar": {
              "outlinewidth": 0,
              "ticks": ""
             }
            },
            "type": "scatter3d"
           }
          ],
          "scattercarpet": [
           {
            "marker": {
             "colorbar": {
              "outlinewidth": 0,
              "ticks": ""
             }
            },
            "type": "scattercarpet"
           }
          ],
          "scattergeo": [
           {
            "marker": {
             "colorbar": {
              "outlinewidth": 0,
              "ticks": ""
             }
            },
            "type": "scattergeo"
           }
          ],
          "scattergl": [
           {
            "marker": {
             "colorbar": {
              "outlinewidth": 0,
              "ticks": ""
             }
            },
            "type": "scattergl"
           }
          ],
          "scattermapbox": [
           {
            "marker": {
             "colorbar": {
              "outlinewidth": 0,
              "ticks": ""
             }
            },
            "type": "scattermapbox"
           }
          ],
          "scatterpolar": [
           {
            "marker": {
             "colorbar": {
              "outlinewidth": 0,
              "ticks": ""
             }
            },
            "type": "scatterpolar"
           }
          ],
          "scatterpolargl": [
           {
            "marker": {
             "colorbar": {
              "outlinewidth": 0,
              "ticks": ""
             }
            },
            "type": "scatterpolargl"
           }
          ],
          "scatterternary": [
           {
            "marker": {
             "colorbar": {
              "outlinewidth": 0,
              "ticks": ""
             }
            },
            "type": "scatterternary"
           }
          ],
          "surface": [
           {
            "colorbar": {
             "outlinewidth": 0,
             "ticks": ""
            },
            "colorscale": [
             [
              0,
              "#0d0887"
             ],
             [
              0.1111111111111111,
              "#46039f"
             ],
             [
              0.2222222222222222,
              "#7201a8"
             ],
             [
              0.3333333333333333,
              "#9c179e"
             ],
             [
              0.4444444444444444,
              "#bd3786"
             ],
             [
              0.5555555555555556,
              "#d8576b"
             ],
             [
              0.6666666666666666,
              "#ed7953"
             ],
             [
              0.7777777777777778,
              "#fb9f3a"
             ],
             [
              0.8888888888888888,
              "#fdca26"
             ],
             [
              1,
              "#f0f921"
             ]
            ],
            "type": "surface"
           }
          ],
          "table": [
           {
            "cells": {
             "fill": {
              "color": "#EBF0F8"
             },
             "line": {
              "color": "white"
             }
            },
            "header": {
             "fill": {
              "color": "#C8D4E3"
             },
             "line": {
              "color": "white"
             }
            },
            "type": "table"
           }
          ]
         },
         "layout": {
          "annotationdefaults": {
           "arrowcolor": "#2a3f5f",
           "arrowhead": 0,
           "arrowwidth": 1
          },
          "autotypenumbers": "strict",
          "coloraxis": {
           "colorbar": {
            "outlinewidth": 0,
            "ticks": ""
           }
          },
          "colorscale": {
           "diverging": [
            [
             0,
             "#8e0152"
            ],
            [
             0.1,
             "#c51b7d"
            ],
            [
             0.2,
             "#de77ae"
            ],
            [
             0.3,
             "#f1b6da"
            ],
            [
             0.4,
             "#fde0ef"
            ],
            [
             0.5,
             "#f7f7f7"
            ],
            [
             0.6,
             "#e6f5d0"
            ],
            [
             0.7,
             "#b8e186"
            ],
            [
             0.8,
             "#7fbc41"
            ],
            [
             0.9,
             "#4d9221"
            ],
            [
             1,
             "#276419"
            ]
           ],
           "sequential": [
            [
             0,
             "#0d0887"
            ],
            [
             0.1111111111111111,
             "#46039f"
            ],
            [
             0.2222222222222222,
             "#7201a8"
            ],
            [
             0.3333333333333333,
             "#9c179e"
            ],
            [
             0.4444444444444444,
             "#bd3786"
            ],
            [
             0.5555555555555556,
             "#d8576b"
            ],
            [
             0.6666666666666666,
             "#ed7953"
            ],
            [
             0.7777777777777778,
             "#fb9f3a"
            ],
            [
             0.8888888888888888,
             "#fdca26"
            ],
            [
             1,
             "#f0f921"
            ]
           ],
           "sequentialminus": [
            [
             0,
             "#0d0887"
            ],
            [
             0.1111111111111111,
             "#46039f"
            ],
            [
             0.2222222222222222,
             "#7201a8"
            ],
            [
             0.3333333333333333,
             "#9c179e"
            ],
            [
             0.4444444444444444,
             "#bd3786"
            ],
            [
             0.5555555555555556,
             "#d8576b"
            ],
            [
             0.6666666666666666,
             "#ed7953"
            ],
            [
             0.7777777777777778,
             "#fb9f3a"
            ],
            [
             0.8888888888888888,
             "#fdca26"
            ],
            [
             1,
             "#f0f921"
            ]
           ]
          },
          "colorway": [
           "#636efa",
           "#EF553B",
           "#00cc96",
           "#ab63fa",
           "#FFA15A",
           "#19d3f3",
           "#FF6692",
           "#B6E880",
           "#FF97FF",
           "#FECB52"
          ],
          "font": {
           "color": "#2a3f5f"
          },
          "geo": {
           "bgcolor": "white",
           "lakecolor": "white",
           "landcolor": "#E5ECF6",
           "showlakes": true,
           "showland": true,
           "subunitcolor": "white"
          },
          "hoverlabel": {
           "align": "left"
          },
          "hovermode": "closest",
          "mapbox": {
           "style": "light"
          },
          "paper_bgcolor": "white",
          "plot_bgcolor": "#E5ECF6",
          "polar": {
           "angularaxis": {
            "gridcolor": "white",
            "linecolor": "white",
            "ticks": ""
           },
           "bgcolor": "#E5ECF6",
           "radialaxis": {
            "gridcolor": "white",
            "linecolor": "white",
            "ticks": ""
           }
          },
          "scene": {
           "xaxis": {
            "backgroundcolor": "#E5ECF6",
            "gridcolor": "white",
            "gridwidth": 2,
            "linecolor": "white",
            "showbackground": true,
            "ticks": "",
            "zerolinecolor": "white"
           },
           "yaxis": {
            "backgroundcolor": "#E5ECF6",
            "gridcolor": "white",
            "gridwidth": 2,
            "linecolor": "white",
            "showbackground": true,
            "ticks": "",
            "zerolinecolor": "white"
           },
           "zaxis": {
            "backgroundcolor": "#E5ECF6",
            "gridcolor": "white",
            "gridwidth": 2,
            "linecolor": "white",
            "showbackground": true,
            "ticks": "",
            "zerolinecolor": "white"
           }
          },
          "shapedefaults": {
           "line": {
            "color": "#2a3f5f"
           }
          },
          "ternary": {
           "aaxis": {
            "gridcolor": "white",
            "linecolor": "white",
            "ticks": ""
           },
           "baxis": {
            "gridcolor": "white",
            "linecolor": "white",
            "ticks": ""
           },
           "bgcolor": "#E5ECF6",
           "caxis": {
            "gridcolor": "white",
            "linecolor": "white",
            "ticks": ""
           }
          },
          "title": {
           "x": 0.05
          },
          "xaxis": {
           "automargin": true,
           "gridcolor": "white",
           "linecolor": "white",
           "ticks": "",
           "title": {
            "standoff": 15
           },
           "zerolinecolor": "white",
           "zerolinewidth": 2
          },
          "yaxis": {
           "automargin": true,
           "gridcolor": "white",
           "linecolor": "white",
           "ticks": "",
           "title": {
            "standoff": 15
           },
           "zerolinecolor": "white",
           "zerolinewidth": 2
          }
         }
        }
       }
      }
     },
     "metadata": {},
     "output_type": "display_data"
    }
   ],
   "source": [
    "px.pie(df.groupby(['element_type'])['player_name'].count().reset_index(),\n",
    "                  names='element_type',\n",
    "                  values='player_name',\n",
    "                  color='element_type',\n",
    "                  hole=.3,\n",
    "                  color_discrete_map=position_colors\n",
    "                  )"
   ]
  },
  {
   "cell_type": "code",
   "execution_count": 7,
   "metadata": {},
   "outputs": [
    {
     "data": {
      "application/vnd.plotly.v1+json": {
       "config": {
        "plotlyServerURL": "https://plot.ly"
       },
       "data": [
        {
         "customdata": [
          [
           "Defender"
          ],
          [
           "Forward"
          ],
          [
           "Goalkeeper"
          ],
          [
           "Midfielder"
          ]
         ],
         "domain": {
          "x": [
           0,
           1
          ],
          "y": [
           0,
           1
          ]
         },
         "hole": 0.3,
         "hovertemplate": "element_type=%{customdata[0]}<br>total_points=%{value}<extra></extra>",
         "labels": [
          "Defender",
          "Forward",
          "Goalkeeper",
          "Midfielder"
         ],
         "legendgroup": "",
         "marker": {
          "colors": [
           "blue",
           "Green",
           "red",
           "Orange"
          ]
         },
         "name": "",
         "showlegend": true,
         "type": "pie",
         "values": [
          46.628787878787875,
          59.23809523809524,
          48.357142857142854,
          49.41258741258741
         ]
        }
       ],
       "layout": {
        "legend": {
         "tracegroupgap": 0
        },
        "margin": {
         "t": 60
        },
        "template": {
         "data": {
          "bar": [
           {
            "error_x": {
             "color": "#2a3f5f"
            },
            "error_y": {
             "color": "#2a3f5f"
            },
            "marker": {
             "line": {
              "color": "#E5ECF6",
              "width": 0.5
             },
             "pattern": {
              "fillmode": "overlay",
              "size": 10,
              "solidity": 0.2
             }
            },
            "type": "bar"
           }
          ],
          "barpolar": [
           {
            "marker": {
             "line": {
              "color": "#E5ECF6",
              "width": 0.5
             },
             "pattern": {
              "fillmode": "overlay",
              "size": 10,
              "solidity": 0.2
             }
            },
            "type": "barpolar"
           }
          ],
          "carpet": [
           {
            "aaxis": {
             "endlinecolor": "#2a3f5f",
             "gridcolor": "white",
             "linecolor": "white",
             "minorgridcolor": "white",
             "startlinecolor": "#2a3f5f"
            },
            "baxis": {
             "endlinecolor": "#2a3f5f",
             "gridcolor": "white",
             "linecolor": "white",
             "minorgridcolor": "white",
             "startlinecolor": "#2a3f5f"
            },
            "type": "carpet"
           }
          ],
          "choropleth": [
           {
            "colorbar": {
             "outlinewidth": 0,
             "ticks": ""
            },
            "type": "choropleth"
           }
          ],
          "contour": [
           {
            "colorbar": {
             "outlinewidth": 0,
             "ticks": ""
            },
            "colorscale": [
             [
              0,
              "#0d0887"
             ],
             [
              0.1111111111111111,
              "#46039f"
             ],
             [
              0.2222222222222222,
              "#7201a8"
             ],
             [
              0.3333333333333333,
              "#9c179e"
             ],
             [
              0.4444444444444444,
              "#bd3786"
             ],
             [
              0.5555555555555556,
              "#d8576b"
             ],
             [
              0.6666666666666666,
              "#ed7953"
             ],
             [
              0.7777777777777778,
              "#fb9f3a"
             ],
             [
              0.8888888888888888,
              "#fdca26"
             ],
             [
              1,
              "#f0f921"
             ]
            ],
            "type": "contour"
           }
          ],
          "contourcarpet": [
           {
            "colorbar": {
             "outlinewidth": 0,
             "ticks": ""
            },
            "type": "contourcarpet"
           }
          ],
          "heatmap": [
           {
            "colorbar": {
             "outlinewidth": 0,
             "ticks": ""
            },
            "colorscale": [
             [
              0,
              "#0d0887"
             ],
             [
              0.1111111111111111,
              "#46039f"
             ],
             [
              0.2222222222222222,
              "#7201a8"
             ],
             [
              0.3333333333333333,
              "#9c179e"
             ],
             [
              0.4444444444444444,
              "#bd3786"
             ],
             [
              0.5555555555555556,
              "#d8576b"
             ],
             [
              0.6666666666666666,
              "#ed7953"
             ],
             [
              0.7777777777777778,
              "#fb9f3a"
             ],
             [
              0.8888888888888888,
              "#fdca26"
             ],
             [
              1,
              "#f0f921"
             ]
            ],
            "type": "heatmap"
           }
          ],
          "heatmapgl": [
           {
            "colorbar": {
             "outlinewidth": 0,
             "ticks": ""
            },
            "colorscale": [
             [
              0,
              "#0d0887"
             ],
             [
              0.1111111111111111,
              "#46039f"
             ],
             [
              0.2222222222222222,
              "#7201a8"
             ],
             [
              0.3333333333333333,
              "#9c179e"
             ],
             [
              0.4444444444444444,
              "#bd3786"
             ],
             [
              0.5555555555555556,
              "#d8576b"
             ],
             [
              0.6666666666666666,
              "#ed7953"
             ],
             [
              0.7777777777777778,
              "#fb9f3a"
             ],
             [
              0.8888888888888888,
              "#fdca26"
             ],
             [
              1,
              "#f0f921"
             ]
            ],
            "type": "heatmapgl"
           }
          ],
          "histogram": [
           {
            "marker": {
             "pattern": {
              "fillmode": "overlay",
              "size": 10,
              "solidity": 0.2
             }
            },
            "type": "histogram"
           }
          ],
          "histogram2d": [
           {
            "colorbar": {
             "outlinewidth": 0,
             "ticks": ""
            },
            "colorscale": [
             [
              0,
              "#0d0887"
             ],
             [
              0.1111111111111111,
              "#46039f"
             ],
             [
              0.2222222222222222,
              "#7201a8"
             ],
             [
              0.3333333333333333,
              "#9c179e"
             ],
             [
              0.4444444444444444,
              "#bd3786"
             ],
             [
              0.5555555555555556,
              "#d8576b"
             ],
             [
              0.6666666666666666,
              "#ed7953"
             ],
             [
              0.7777777777777778,
              "#fb9f3a"
             ],
             [
              0.8888888888888888,
              "#fdca26"
             ],
             [
              1,
              "#f0f921"
             ]
            ],
            "type": "histogram2d"
           }
          ],
          "histogram2dcontour": [
           {
            "colorbar": {
             "outlinewidth": 0,
             "ticks": ""
            },
            "colorscale": [
             [
              0,
              "#0d0887"
             ],
             [
              0.1111111111111111,
              "#46039f"
             ],
             [
              0.2222222222222222,
              "#7201a8"
             ],
             [
              0.3333333333333333,
              "#9c179e"
             ],
             [
              0.4444444444444444,
              "#bd3786"
             ],
             [
              0.5555555555555556,
              "#d8576b"
             ],
             [
              0.6666666666666666,
              "#ed7953"
             ],
             [
              0.7777777777777778,
              "#fb9f3a"
             ],
             [
              0.8888888888888888,
              "#fdca26"
             ],
             [
              1,
              "#f0f921"
             ]
            ],
            "type": "histogram2dcontour"
           }
          ],
          "mesh3d": [
           {
            "colorbar": {
             "outlinewidth": 0,
             "ticks": ""
            },
            "type": "mesh3d"
           }
          ],
          "parcoords": [
           {
            "line": {
             "colorbar": {
              "outlinewidth": 0,
              "ticks": ""
             }
            },
            "type": "parcoords"
           }
          ],
          "pie": [
           {
            "automargin": true,
            "type": "pie"
           }
          ],
          "scatter": [
           {
            "marker": {
             "colorbar": {
              "outlinewidth": 0,
              "ticks": ""
             }
            },
            "type": "scatter"
           }
          ],
          "scatter3d": [
           {
            "line": {
             "colorbar": {
              "outlinewidth": 0,
              "ticks": ""
             }
            },
            "marker": {
             "colorbar": {
              "outlinewidth": 0,
              "ticks": ""
             }
            },
            "type": "scatter3d"
           }
          ],
          "scattercarpet": [
           {
            "marker": {
             "colorbar": {
              "outlinewidth": 0,
              "ticks": ""
             }
            },
            "type": "scattercarpet"
           }
          ],
          "scattergeo": [
           {
            "marker": {
             "colorbar": {
              "outlinewidth": 0,
              "ticks": ""
             }
            },
            "type": "scattergeo"
           }
          ],
          "scattergl": [
           {
            "marker": {
             "colorbar": {
              "outlinewidth": 0,
              "ticks": ""
             }
            },
            "type": "scattergl"
           }
          ],
          "scattermapbox": [
           {
            "marker": {
             "colorbar": {
              "outlinewidth": 0,
              "ticks": ""
             }
            },
            "type": "scattermapbox"
           }
          ],
          "scatterpolar": [
           {
            "marker": {
             "colorbar": {
              "outlinewidth": 0,
              "ticks": ""
             }
            },
            "type": "scatterpolar"
           }
          ],
          "scatterpolargl": [
           {
            "marker": {
             "colorbar": {
              "outlinewidth": 0,
              "ticks": ""
             }
            },
            "type": "scatterpolargl"
           }
          ],
          "scatterternary": [
           {
            "marker": {
             "colorbar": {
              "outlinewidth": 0,
              "ticks": ""
             }
            },
            "type": "scatterternary"
           }
          ],
          "surface": [
           {
            "colorbar": {
             "outlinewidth": 0,
             "ticks": ""
            },
            "colorscale": [
             [
              0,
              "#0d0887"
             ],
             [
              0.1111111111111111,
              "#46039f"
             ],
             [
              0.2222222222222222,
              "#7201a8"
             ],
             [
              0.3333333333333333,
              "#9c179e"
             ],
             [
              0.4444444444444444,
              "#bd3786"
             ],
             [
              0.5555555555555556,
              "#d8576b"
             ],
             [
              0.6666666666666666,
              "#ed7953"
             ],
             [
              0.7777777777777778,
              "#fb9f3a"
             ],
             [
              0.8888888888888888,
              "#fdca26"
             ],
             [
              1,
              "#f0f921"
             ]
            ],
            "type": "surface"
           }
          ],
          "table": [
           {
            "cells": {
             "fill": {
              "color": "#EBF0F8"
             },
             "line": {
              "color": "white"
             }
            },
            "header": {
             "fill": {
              "color": "#C8D4E3"
             },
             "line": {
              "color": "white"
             }
            },
            "type": "table"
           }
          ]
         },
         "layout": {
          "annotationdefaults": {
           "arrowcolor": "#2a3f5f",
           "arrowhead": 0,
           "arrowwidth": 1
          },
          "autotypenumbers": "strict",
          "coloraxis": {
           "colorbar": {
            "outlinewidth": 0,
            "ticks": ""
           }
          },
          "colorscale": {
           "diverging": [
            [
             0,
             "#8e0152"
            ],
            [
             0.1,
             "#c51b7d"
            ],
            [
             0.2,
             "#de77ae"
            ],
            [
             0.3,
             "#f1b6da"
            ],
            [
             0.4,
             "#fde0ef"
            ],
            [
             0.5,
             "#f7f7f7"
            ],
            [
             0.6,
             "#e6f5d0"
            ],
            [
             0.7,
             "#b8e186"
            ],
            [
             0.8,
             "#7fbc41"
            ],
            [
             0.9,
             "#4d9221"
            ],
            [
             1,
             "#276419"
            ]
           ],
           "sequential": [
            [
             0,
             "#0d0887"
            ],
            [
             0.1111111111111111,
             "#46039f"
            ],
            [
             0.2222222222222222,
             "#7201a8"
            ],
            [
             0.3333333333333333,
             "#9c179e"
            ],
            [
             0.4444444444444444,
             "#bd3786"
            ],
            [
             0.5555555555555556,
             "#d8576b"
            ],
            [
             0.6666666666666666,
             "#ed7953"
            ],
            [
             0.7777777777777778,
             "#fb9f3a"
            ],
            [
             0.8888888888888888,
             "#fdca26"
            ],
            [
             1,
             "#f0f921"
            ]
           ],
           "sequentialminus": [
            [
             0,
             "#0d0887"
            ],
            [
             0.1111111111111111,
             "#46039f"
            ],
            [
             0.2222222222222222,
             "#7201a8"
            ],
            [
             0.3333333333333333,
             "#9c179e"
            ],
            [
             0.4444444444444444,
             "#bd3786"
            ],
            [
             0.5555555555555556,
             "#d8576b"
            ],
            [
             0.6666666666666666,
             "#ed7953"
            ],
            [
             0.7777777777777778,
             "#fb9f3a"
            ],
            [
             0.8888888888888888,
             "#fdca26"
            ],
            [
             1,
             "#f0f921"
            ]
           ]
          },
          "colorway": [
           "#636efa",
           "#EF553B",
           "#00cc96",
           "#ab63fa",
           "#FFA15A",
           "#19d3f3",
           "#FF6692",
           "#B6E880",
           "#FF97FF",
           "#FECB52"
          ],
          "font": {
           "color": "#2a3f5f"
          },
          "geo": {
           "bgcolor": "white",
           "lakecolor": "white",
           "landcolor": "#E5ECF6",
           "showlakes": true,
           "showland": true,
           "subunitcolor": "white"
          },
          "hoverlabel": {
           "align": "left"
          },
          "hovermode": "closest",
          "mapbox": {
           "style": "light"
          },
          "paper_bgcolor": "white",
          "plot_bgcolor": "#E5ECF6",
          "polar": {
           "angularaxis": {
            "gridcolor": "white",
            "linecolor": "white",
            "ticks": ""
           },
           "bgcolor": "#E5ECF6",
           "radialaxis": {
            "gridcolor": "white",
            "linecolor": "white",
            "ticks": ""
           }
          },
          "scene": {
           "xaxis": {
            "backgroundcolor": "#E5ECF6",
            "gridcolor": "white",
            "gridwidth": 2,
            "linecolor": "white",
            "showbackground": true,
            "ticks": "",
            "zerolinecolor": "white"
           },
           "yaxis": {
            "backgroundcolor": "#E5ECF6",
            "gridcolor": "white",
            "gridwidth": 2,
            "linecolor": "white",
            "showbackground": true,
            "ticks": "",
            "zerolinecolor": "white"
           },
           "zaxis": {
            "backgroundcolor": "#E5ECF6",
            "gridcolor": "white",
            "gridwidth": 2,
            "linecolor": "white",
            "showbackground": true,
            "ticks": "",
            "zerolinecolor": "white"
           }
          },
          "shapedefaults": {
           "line": {
            "color": "#2a3f5f"
           }
          },
          "ternary": {
           "aaxis": {
            "gridcolor": "white",
            "linecolor": "white",
            "ticks": ""
           },
           "baxis": {
            "gridcolor": "white",
            "linecolor": "white",
            "ticks": ""
           },
           "bgcolor": "#E5ECF6",
           "caxis": {
            "gridcolor": "white",
            "linecolor": "white",
            "ticks": ""
           }
          },
          "title": {
           "x": 0.05
          },
          "xaxis": {
           "automargin": true,
           "gridcolor": "white",
           "linecolor": "white",
           "ticks": "",
           "title": {
            "standoff": 15
           },
           "zerolinecolor": "white",
           "zerolinewidth": 2
          },
          "yaxis": {
           "automargin": true,
           "gridcolor": "white",
           "linecolor": "white",
           "ticks": "",
           "title": {
            "standoff": 15
           },
           "zerolinecolor": "white",
           "zerolinewidth": 2
          }
         }
        }
       }
      }
     },
     "metadata": {},
     "output_type": "display_data"
    }
   ],
   "source": [
    "#Mean total points\n",
    "px.pie(df.groupby(['element_type'])['total_points'].mean().reset_index(),\n",
    "                  names='element_type',\n",
    "                  values='total_points',\n",
    "                  color='element_type',\n",
    "                  hole=.3,\n",
    "                  color_discrete_map=position_colors\n",
    "                  )"
   ]
  },
  {
   "cell_type": "code",
   "execution_count": 8,
   "metadata": {},
   "outputs": [
    {
     "data": {
      "text/html": [
       "<div>\n",
       "<style scoped>\n",
       "    .dataframe tbody tr th:only-of-type {\n",
       "        vertical-align: middle;\n",
       "    }\n",
       "\n",
       "    .dataframe tbody tr th {\n",
       "        vertical-align: top;\n",
       "    }\n",
       "\n",
       "    .dataframe thead th {\n",
       "        text-align: right;\n",
       "    }\n",
       "</style>\n",
       "<table border=\"1\" class=\"dataframe\">\n",
       "  <thead>\n",
       "    <tr style=\"text-align: right;\">\n",
       "      <th></th>\n",
       "      <th></th>\n",
       "      <th>value</th>\n",
       "    </tr>\n",
       "    <tr>\n",
       "      <th>player_name</th>\n",
       "      <th>round</th>\n",
       "      <th></th>\n",
       "    </tr>\n",
       "  </thead>\n",
       "  <tbody>\n",
       "    <tr>\n",
       "      <th rowspan=\"5\" valign=\"top\">Aaron Cresswell</th>\n",
       "      <th>1</th>\n",
       "      <td>55.0</td>\n",
       "    </tr>\n",
       "    <tr>\n",
       "      <th>2</th>\n",
       "      <td>55.0</td>\n",
       "    </tr>\n",
       "    <tr>\n",
       "      <th>3</th>\n",
       "      <td>55.0</td>\n",
       "    </tr>\n",
       "    <tr>\n",
       "      <th>4</th>\n",
       "      <td>55.0</td>\n",
       "    </tr>\n",
       "    <tr>\n",
       "      <th>5</th>\n",
       "      <td>55.0</td>\n",
       "    </tr>\n",
       "    <tr>\n",
       "      <th>...</th>\n",
       "      <th>...</th>\n",
       "      <td>...</td>\n",
       "    </tr>\n",
       "    <tr>\n",
       "      <th rowspan=\"5\" valign=\"top\">Álvaro Fernández</th>\n",
       "      <th>24</th>\n",
       "      <td>45.0</td>\n",
       "    </tr>\n",
       "    <tr>\n",
       "      <th>25</th>\n",
       "      <td>45.0</td>\n",
       "    </tr>\n",
       "    <tr>\n",
       "      <th>26</th>\n",
       "      <td>45.0</td>\n",
       "    </tr>\n",
       "    <tr>\n",
       "      <th>27</th>\n",
       "      <td>45.0</td>\n",
       "    </tr>\n",
       "    <tr>\n",
       "      <th>28</th>\n",
       "      <td>45.0</td>\n",
       "    </tr>\n",
       "  </tbody>\n",
       "</table>\n",
       "<p>9660 rows × 1 columns</p>\n",
       "</div>"
      ],
      "text/plain": [
       "                        value\n",
       "player_name      round       \n",
       "Aaron Cresswell  1       55.0\n",
       "                 2       55.0\n",
       "                 3       55.0\n",
       "                 4       55.0\n",
       "                 5       55.0\n",
       "...                       ...\n",
       "Álvaro Fernández 24      45.0\n",
       "                 25      45.0\n",
       "                 26      45.0\n",
       "                 27      45.0\n",
       "                 28      45.0\n",
       "\n",
       "[9660 rows x 1 columns]"
      ]
     },
     "execution_count": 8,
     "metadata": {},
     "output_type": "execute_result"
    }
   ],
   "source": [
    "value_df = gw_df.groupby(['player_name','round'])[['value']].max()\n",
    "value_df #= value_df[value_df['value'] >]"
   ]
  },
  {
   "cell_type": "code",
   "execution_count": 9,
   "metadata": {},
   "outputs": [
    {
     "data": {
      "application/vnd.plotly.v1+json": {
       "config": {
        "plotlyServerURL": "https://plot.ly"
       },
       "data": [
        {
         "customdata": [
          [
           "Bernd Leno"
          ],
          [
           "Aaron Ramsdale"
          ],
          [
           "Álvaro Fernández"
          ],
          [
           "Jonas Lössl"
          ],
          [
           "Jason Steele"
          ],
          [
           "Robert Sánchez"
          ],
          [
           "Nick Pope"
          ],
          [
           "Wayne Hennessey"
          ],
          [
           "Edouard Mendy"
          ],
          [
           "Vicente Guaita"
          ],
          [
           "Jack Butland"
          ],
          [
           "Jordan Pickford"
          ],
          [
           "Kasper Schmeichel"
          ],
          [
           "Illan Meslier"
          ],
          [
           "Caoimhin Kelleher"
          ],
          [
           "Zack Steffen"
          ],
          [
           "David de Gea"
          ],
          [
           "Karl Darlow"
          ],
          [
           "Martin Dubravka"
          ],
          [
           "Tim Krul"
          ],
          [
           "Angus Gunn"
          ],
          [
           "Fraser Forster"
          ],
          [
           "Willy Caballero"
          ],
          [
           "Hugo Lloris"
          ],
          [
           "Ben Foster"
          ],
          [
           "Daniel Bachmann"
          ],
          [
           "Lukasz Fabianski"
          ],
          [
           "Alphonse Areola"
          ]
         ],
         "hovertemplate": "element_type=Goalkeeper<br>now_cost=%{x}<br>total_points=%{y}<br>player_name=%{customdata[0]}<extra></extra>",
         "legendgroup": "Goalkeeper",
         "marker": {
          "color": "red",
          "symbol": "circle"
         },
         "mode": "markers",
         "name": "Goalkeeper",
         "orientation": "v",
         "showlegend": true,
         "type": "scatter",
         "x": [
          45,
          51,
          45,
          45,
          40,
          46,
          54,
          45,
          61,
          46,
          44,
          49,
          48,
          48,
          43,
          44,
          52,
          45,
          44,
          45,
          40,
          44,
          43,
          54,
          41,
          41,
          50,
          47
         ],
         "xaxis": "x",
         "y": [
          4,
          107,
          31,
          2,
          2,
          86,
          90,
          4,
          96,
          80,
          19,
          73,
          85,
          72,
          8,
          7,
          112,
          20,
          53,
          58,
          26,
          35,
          2,
          104,
          57,
          22,
          97,
          2
         ],
         "yaxis": "y"
        },
        {
         "customdata": [
          [
           "Cédric Soares"
          ],
          [
           "Rob Holding"
          ],
          [
           "Kieran Tierney"
          ],
          [
           "Ben White"
          ],
          [
           "Takehiro Tomiyasu"
          ],
          [
           "Calum Chambers"
          ],
          [
           "Kortney Hause"
          ],
          [
           "Tyrone Mings"
          ],
          [
           "Matthew Cash"
          ],
          [
           "Ezri Konsa Ngoyo"
          ],
          [
           "Ashley Young"
          ],
          [
           "Lucas Digne"
          ],
          [
           "Pontus Jansson"
          ],
          [
           "Rico Henry"
          ],
          [
           "Mads Bech Sørensen"
          ],
          [
           "Ethan Pinnock"
          ],
          [
           "Kristoffer Ajer"
          ],
          [
           "Shane Duffy"
          ],
          [
           "Lewis Dunk"
          ],
          [
           "Adam Webster"
          ],
          [
           "Joël Veltman"
          ],
          [
           "Tariq Lamptey"
          ],
          [
           "Marc Cucurella"
          ],
          [
           "James Tarkowski"
          ],
          [
           "Erik Pieters"
          ],
          [
           "Ben Mee"
          ],
          [
           "Matthew Lowton"
          ],
          [
           "Charlie Taylor"
          ],
          [
           "Nathan Collins"
          ],
          [
           "Connor Roberts"
          ],
          [
           "César Azpilicueta"
          ],
          [
           "Marcos Alonso"
          ],
          [
           "Antonio Rüdiger"
          ],
          [
           "Andreas Christensen"
          ],
          [
           "Reece James"
          ],
          [
           "Malang Sarr"
          ],
          [
           "Trevoh Chalobah"
          ],
          [
           "James Tomkins"
          ],
          [
           "Cheikhou Kouyaté"
          ],
          [
           "Tyrick Mitchell"
          ],
          [
           "Joel Ward"
          ],
          [
           "Joachim Andersen"
          ],
          [
           "Nathaniel Clyne"
          ],
          [
           "Seamus Coleman"
          ],
          [
           "Michael Keane"
          ],
          [
           "Yerry Mina"
          ],
          [
           "Mason Holgate"
          ],
          [
           "Ben Godfrey"
          ],
          [
           "Jonjoe Kenny"
          ],
          [
           "Jarrad Branthwaite"
          ],
          [
           "Vitalii Mykolenko"
          ],
          [
           "Jonny Evans"
          ],
          [
           "Daniel Amartey"
          ],
          [
           "Timothy Castagne"
          ],
          [
           "James Justin"
          ],
          [
           "Luke Thomas"
          ],
          [
           "Jannik Vestergaard"
          ],
          [
           "Liam Cooper"
          ],
          [
           "Luke Ayling"
          ],
          [
           "Diego Llorente"
          ],
          [
           "Robin Koch"
          ],
          [
           "Pascal Struijk"
          ],
          [
           "Charlie Cresswell"
          ],
          [
           "Joel Matip"
          ],
          [
           "Virgil van Dijk"
          ],
          [
           "Andrew Robertson"
          ],
          [
           "Trent Alexander-Arnold"
          ],
          [
           "Joseph Gomez"
          ],
          [
           "Ibrahima Konaté"
          ],
          [
           "Konstantinos Tsimikas"
          ],
          [
           "Kyle Walker"
          ],
          [
           "John Stones"
          ],
          [
           "Nathan Aké"
          ],
          [
           "Aymeric Laporte"
          ],
          [
           "Rúben Santos Gato Alves Dias"
          ],
          [
           "Oleksandr Zinchenko"
          ],
          [
           "Harry Maguire"
          ],
          [
           "Luke Shaw"
          ],
          [
           "Victor Lindelöf"
          ],
          [
           "Eric Bailly"
          ],
          [
           "Aaron Wan-Bissaka"
          ],
          [
           "Phil Jones"
          ],
          [
           "Matt Targett"
          ],
          [
           "Dan Burn"
          ],
          [
           "Matt Ritchie"
          ],
          [
           "Jamaal Lascelles"
          ],
          [
           "Paul Dummett"
          ],
          [
           "Javier Manquillo"
          ],
          [
           "Emil Krafth"
          ],
          [
           "Fabian Schär"
          ],
          [
           "Federico Fernández"
          ],
          [
           "Brandon Williams"
          ],
          [
           "Grant Hanley"
          ],
          [
           "Sam Byram"
          ],
          [
           "Max Aarons"
          ],
          [
           "Jacob Sørensen"
          ],
          [
           "Ben Gibson"
          ],
          [
           "Dimitris Giannoulis"
          ],
          [
           "Ozan Kabak"
          ],
          [
           "Jack Stephens"
          ],
          [
           "Kyle Walker-Peters"
          ],
          [
           "Jan Bednarek"
          ],
          [
           "Mohammed Salisu"
          ],
          [
           "Romain Perraud"
          ],
          [
           "Yan Valery"
          ],
          [
           "Matt Doherty"
          ],
          [
           "Eric Dier"
          ],
          [
           "Ben Davies"
          ],
          [
           "Davinson Sánchez"
          ],
          [
           "Ryan Sessegnon"
          ],
          [
           "Sergio Reguilón"
          ],
          [
           "Cristian Romero"
          ],
          [
           "Craig Cathcart"
          ],
          [
           "Christian Kabasele"
          ],
          [
           "William Troost-Ekong"
          ],
          [
           "Adam Masina"
          ],
          [
           "Francisco Sierralta"
          ],
          [
           "Jeremy Ngakia"
          ],
          [
           "Hassane Kamara"
          ],
          [
           "Kurt Zouma"
          ],
          [
           "Aaron Cresswell"
          ],
          [
           "Craig Dawson"
          ],
          [
           "Ryan Fredericks"
          ],
          [
           "Arthur Masuaku"
          ],
          [
           "Issa Diop"
          ],
          [
           "Ben Johnson"
          ],
          [
           "Willy Boly"
          ],
          [
           "Conor Coady"
          ],
          [
           "Fernando Marçal"
          ],
          [
           "Max Kilman"
          ],
          [
           "Ki-Jana Hoever"
          ],
          [
           "Rayan Ait Nouri"
          ]
         ],
         "hovertemplate": "element_type=Defender<br>now_cost=%{x}<br>total_points=%{y}<br>player_name=%{customdata[0]}<extra></extra>",
         "legendgroup": "Defender",
         "marker": {
          "color": "blue",
          "symbol": "circle"
         },
         "mode": "markers",
         "name": "Defender",
         "orientation": "v",
         "showlegend": true,
         "type": "scatter",
         "x": [
          42,
          41,
          51,
          45,
          46,
          42,
          44,
          50,
          51,
          49,
          47,
          51,
          45,
          45,
          43,
          45,
          44,
          41,
          48,
          43,
          42,
          45,
          50,
          49,
          42,
          48,
          44,
          44,
          43,
          45,
          56,
          56,
          61,
          46,
          62,
          49,
          47,
          43,
          45,
          45,
          45,
          45,
          43,
          49,
          47,
          49,
          42,
          47,
          44,
          40,
          49,
          54,
          39,
          53,
          49,
          43,
          47,
          44,
          43,
          45,
          43,
          43,
          40,
          49,
          67,
          72,
          85,
          47,
          51,
          37,
          54,
          52,
          47,
          58,
          62,
          53,
          54,
          50,
          48,
          49,
          51,
          45,
          47,
          44,
          49,
          44,
          45,
          39,
          43,
          43,
          43,
          39,
          44,
          44,
          43,
          43,
          44,
          44,
          43,
          44,
          48,
          44,
          45,
          48,
          39,
          47,
          46,
          44,
          45,
          43,
          52,
          48,
          43,
          43,
          43,
          43,
          43,
          43,
          45,
          54,
          54,
          49,
          44,
          44,
          43,
          39,
          49,
          48,
          42,
          46,
          39,
          44
         ],
         "xaxis": "x",
         "y": [
          12,
          15,
          93,
          88,
          69,
          26,
          20,
          97,
          117,
          66,
          40,
          56,
          79,
          68,
          6,
          73,
          46,
          47,
          60,
          53,
          55,
          53,
          81,
          65,
          33,
          74,
          56,
          47,
          21,
          37,
          68,
          78,
          114,
          50,
          109,
          21,
          74,
          17,
          63,
          84,
          55,
          73,
          14,
          49,
          69,
          16,
          23,
          29,
          17,
          9,
          2,
          19,
          38,
          29,
          4,
          45,
          11,
          41,
          29,
          47,
          8,
          17,
          4,
          94,
          136,
          124,
          174,
          6,
          27,
          38,
          72,
          55,
          38,
          117,
          122,
          34,
          62,
          46,
          53,
          2,
          39,
          2,
          62,
          56,
          18,
          33,
          7,
          35,
          23,
          61,
          11,
          34,
          52,
          3,
          48,
          8,
          37,
          23,
          17,
          12,
          65,
          77,
          54,
          29,
          2,
          43,
          85,
          55,
          67,
          23,
          85,
          23,
          44,
          8,
          17,
          12,
          5,
          20,
          26,
          53,
          91,
          70,
          3,
          27,
          26,
          39,
          6,
          108,
          53,
          94,
          14,
          71
         ],
         "yaxis": "y"
        },
        {
         "customdata": [
          [
           "Alexandre Lacazette"
          ],
          [
           "Ollie Watkins"
          ],
          [
           "Danny Ings"
          ],
          [
           "Ivan Toney"
          ],
          [
           "Neal Maupay"
          ],
          [
           "Danny Welbeck"
          ],
          [
           "Jay Rodriguez"
          ],
          [
           "Ashley Barnes"
          ],
          [
           "Matej Vydra"
          ],
          [
           "Wout Weghorst"
          ],
          [
           "Timo Werner"
          ],
          [
           "Romelu Lukaku"
          ],
          [
           "Christian Benteke"
          ],
          [
           "Jordan Ayew"
          ],
          [
           "Jean-Philippe Mateta"
          ],
          [
           "Odsonne Edouard"
          ],
          [
           "Dominic Calvert-Lewin"
          ],
          [
           "Salomón Rondón"
          ],
          [
           "Jamie Vardy"
          ],
          [
           "Kelechi Iheanacho"
          ],
          [
           "Patson Daka"
          ],
          [
           "Patrick Bamford"
          ],
          [
           "Joe Gelhardt"
          ],
          [
           "Roberto Firmino"
          ],
          [
           "Edinson Cavani"
          ],
          [
           "Chris Wood"
          ],
          [
           "Callum Wilson"
          ],
          [
           "Allan Saint-Maximin"
          ],
          [
           "Teemu Pukki"
          ],
          [
           "Adam Idah"
          ],
          [
           "Joshua Sargent"
          ],
          [
           "Che Adams"
          ],
          [
           "Armando Broja"
          ],
          [
           "Shane Long"
          ],
          [
           "Adam Armstrong"
          ],
          [
           "Harry Kane"
          ],
          [
           "Emmanuel Dennis"
          ],
          [
           "Joshua King"
          ],
          [
           "Michail Antonio"
          ],
          [
           "Raúl Jiménez"
          ],
          [
           "Fabio Silva"
          ],
          [
           "Hee-Chan Hwang"
          ]
         ],
         "hovertemplate": "element_type=Forward<br>now_cost=%{x}<br>total_points=%{y}<br>player_name=%{customdata[0]}<extra></extra>",
         "legendgroup": "Forward",
         "marker": {
          "color": "Green",
          "symbol": "circle"
         },
         "mode": "markers",
         "name": "Forward",
         "orientation": "v",
         "showlegend": true,
         "type": "scatter",
         "x": [
          83,
          75,
          77,
          65,
          65,
          59,
          52,
          52,
          52,
          66,
          86,
          115,
          60,
          58,
          52,
          63,
          77,
          60,
          103,
          69,
          71,
          77,
          46,
          87,
          84,
          67,
          72,
          68,
          58,
          49,
          54,
          70,
          55,
          54,
          57,
          123,
          61,
          58,
          76,
          76,
          56,
          54
         ],
         "xaxis": "x",
         "y": [
          71,
          83,
          80,
          95,
          92,
          39,
          40,
          15,
          27,
          28,
          27,
          62,
          55,
          56,
          36,
          81,
          31,
          24,
          92,
          50,
          50,
          26,
          25,
          49,
          29,
          68,
          59,
          92,
          99,
          36,
          57,
          87,
          80,
          12,
          52,
          109,
          113,
          78,
          112,
          87,
          17,
          67
         ],
         "yaxis": "y"
        },
        {
         "customdata": [
          [
           "Granit Xhaka"
          ],
          [
           "Thomas Partey"
          ],
          [
           "Bukayo Saka"
          ],
          [
           "Albert Sambi Lokonga"
          ],
          [
           "Bertrand Traoré"
          ],
          [
           "Morgan Sanson"
          ],
          [
           "John McGinn"
          ],
          [
           "Marvelous Nakamba"
          ],
          [
           "Jacob Ramsey"
          ],
          [
           "Leon Bailey"
          ],
          [
           "Carney Chukwuemeka"
          ],
          [
           "Christian Nørgaard"
          ],
          [
           "Vitaly Janelt"
          ],
          [
           "Saman Ghoddos"
          ],
          [
           "Mathias Jensen"
          ],
          [
           "Bryan Mbeumo"
          ],
          [
           "Frank Onyeka"
          ],
          [
           "Shandon Baptiste"
          ],
          [
           "Yoane Wissa"
          ],
          [
           "Christian Eriksen"
          ],
          [
           "Adam Lallana"
          ],
          [
           "Pascal Groß"
          ],
          [
           "Leandro Trossard"
          ],
          [
           "Yves Bissouma"
          ],
          [
           "Steven Alzate"
          ],
          [
           "Alexis Mac Allister"
          ],
          [
           "Jakub Moder"
          ],
          [
           "Enock Mwepu"
          ],
          [
           "Jack Cork"
          ],
          [
           "Dale Stephens"
          ],
          [
           "Ashley Westwood"
          ],
          [
           "Josh Brownhill"
          ],
          [
           "Dwight McNeil"
          ],
          [
           "Aaron Lennon"
          ],
          [
           "Maxwel Cornet"
          ],
          [
           "Ross Barkley"
          ],
          [
           "Mateo Kovacic"
          ],
          [
           "Hakim Ziyech"
          ],
          [
           "Ruben Loftus-Cheek"
          ],
          [
           "Christian Pulisic"
          ],
          [
           "Mason Mount"
          ],
          [
           "Callum Hudson-Odoi"
          ],
          [
           "Kai Havertz"
          ],
          [
           "Saúl Ñíguez"
          ],
          [
           "Conor Gallagher"
          ],
          [
           "James McArthur"
          ],
          [
           "Luka Milivojevic"
          ],
          [
           "Wilfried Zaha"
          ],
          [
           "Jeffrey Schlupp"
          ],
          [
           "Jairo Riedewald"
          ],
          [
           "Eberechi Eze"
          ],
          [
           "Will Hughes"
          ],
          [
           "Michael Olise"
          ],
          [
           "Anwar El Ghazi"
          ],
          [
           "Fabian Delph"
          ],
          [
           "Abdoulaye Doucouré"
          ],
          [
           "Alex Iwobi"
          ],
          [
           "Donny van de Beek"
          ],
          [
           "Andros Townsend"
          ],
          [
           "Demarai Gray"
          ],
          [
           "Anthony Gordon"
          ],
          [
           "Marc Albrighton"
          ],
          [
           "Youri Tielemans"
          ],
          [
           "Ayoze Pérez"
          ],
          [
           "James Maddison"
          ],
          [
           "Hamza Choudhury"
          ],
          [
           "Harvey Barnes"
          ],
          [
           "Wilfred Ndidi"
          ],
          [
           "Kiernan Dewsbury-Hall"
          ],
          [
           "Ademola Lookman"
          ],
          [
           "Mateusz Klich"
          ],
          [
           "Stuart Dallas"
          ],
          [
           "Kalvin Phillips"
          ],
          [
           "Tyler Roberts"
          ],
          [
           "Jamie Shackleton"
          ],
          [
           "Jack Harrison"
          ],
          [
           "Daniel James"
          ],
          [
           "Crysencio Summerville"
          ],
          [
           "Adam Forshaw"
          ],
          [
           "James Milner"
          ],
          [
           "Jordan Henderson"
          ],
          [
           "Alex Oxlade-Chamberlain"
          ],
          [
           "Sadio Mané"
          ],
          [
           "Mohamed Salah"
          ],
          [
           "Naby Keita"
          ],
          [
           "Diogo Jota"
          ],
          [
           "Curtis Jones"
          ],
          [
           "Harvey Elliott"
          ],
          [
           "Luis Díaz"
          ],
          [
           "Jack Grealish"
          ],
          [
           "Ilkay Gündogan"
          ],
          [
           "Kevin De Bruyne"
          ],
          [
           "Riyad Mahrez"
          ],
          [
           "Raheem Sterling"
          ],
          [
           "Phil Foden"
          ],
          [
           "Cole Palmer"
          ],
          [
           "Nemanja Matic"
          ],
          [
           "Paul Pogba"
          ],
          [
           "Jesse Lingard"
          ],
          [
           "Marcus Rashford"
          ],
          [
           "Scott McTominay"
          ],
          [
           "Jadon Sancho"
          ],
          [
           "Anthony Elanga"
          ],
          [
           "Jonjo Shelvey"
          ],
          [
           "Ryan Fraser"
          ],
          [
           "Jacob Murphy"
          ],
          [
           "Miguel Almirón"
          ],
          [
           "Sean Longstaff"
          ],
          [
           "Billy Gilmour"
          ],
          [
           "Lukas Rupp"
          ],
          [
           "Kenny McLean"
          ],
          [
           "Kieran Dowell"
          ],
          [
           "Przemyslaw Placheta"
          ],
          [
           "Milot Rashica"
          ],
          [
           "Pierre Lees-Melou"
          ],
          [
           "Christos Tzolis"
          ],
          [
           "Mathias Normann"
          ],
          [
           "Theo Walcott"
          ],
          [
           "Nathan Redmond"
          ],
          [
           "Stuart Armstrong"
          ],
          [
           "James Ward-Prowse"
          ],
          [
           "Nathan Tella"
          ],
          [
           "Ibrahima Diallo"
          ],
          [
           "Moussa Djenepo"
          ],
          [
           "Mohamed Elyounoussi"
          ],
          [
           "Pierre-Emile Højbjerg"
          ],
          [
           "Harry Winks"
          ],
          [
           "Steven Bergwijn"
          ],
          [
           "Dejan Kulusevski"
          ],
          [
           "Rodrigo Bentancur"
          ],
          [
           "Moussa Sissoko"
          ],
          [
           "Tom Cleverley"
          ],
          [
           "Ken Sema"
          ],
          [
           "Juraj Kucka"
          ],
          [
           "Edo Kayembe"
          ],
          [
           "Mark Noble"
          ],
          [
           "Manuel Lanzini"
          ],
          [
           "Jarrod Bowen"
          ],
          [
           "Declan Rice"
          ],
          [
           "Tomas Soucek"
          ],
          [
           "Pablo Fornals"
          ],
          [
           "Nikola Vlasic"
          ],
          [
           "Leander Dendoncker"
          ]
         ],
         "hovertemplate": "element_type=Midfielder<br>now_cost=%{x}<br>total_points=%{y}<br>player_name=%{customdata[0]}<extra></extra>",
         "legendgroup": "Midfielder",
         "marker": {
          "color": "Orange",
          "symbol": "circle"
         },
         "mode": "markers",
         "name": "Midfielder",
         "orientation": "v",
         "showlegend": true,
         "type": "scatter",
         "x": [
          48,
          50,
          65,
          48,
          57,
          50,
          57,
          44,
          48,
          63,
          45,
          50,
          49,
          53,
          49,
          52,
          49,
          49,
          58,
          55,
          53,
          57,
          59,
          44,
          48,
          52,
          45,
          59,
          44,
          44,
          53,
          43,
          57,
          49,
          59,
          52,
          50,
          73,
          54,
          79,
          75,
          53,
          78,
          49,
          62,
          43,
          53,
          68,
          54,
          47,
          59,
          47,
          54,
          56,
          43,
          53,
          58,
          57,
          52,
          55,
          45,
          52,
          64,
          57,
          67,
          44,
          65,
          48,
          44,
          60,
          52,
          49,
          47,
          48,
          44,
          55,
          60,
          45,
          45,
          49,
          50,
          58,
          117,
          132,
          50,
          83,
          50,
          53,
          80,
          75,
          71,
          118,
          87,
          107,
          79,
          45,
          43,
          74,
          67,
          94,
          54,
          89,
          48,
          53,
          53,
          47,
          51,
          44,
          43,
          44,
          49,
          51,
          47,
          52,
          48,
          48,
          45,
          58,
          59,
          58,
          66,
          47,
          45,
          52,
          54,
          49,
          44,
          59,
          61,
          49,
          44,
          48,
          52,
          55,
          47,
          44,
          57,
          69,
          51,
          57,
          60,
          56,
          47
         ],
         "xaxis": "x",
         "y": [
          26,
          52,
          122,
          26,
          10,
          11,
          78,
          16,
          84,
          29,
          13,
          69,
          58,
          26,
          38,
          75,
          34,
          32,
          45,
          2,
          40,
          46,
          80,
          36,
          12,
          66,
          56,
          35,
          22,
          3,
          54,
          52,
          61,
          43,
          62,
          7,
          68,
          63,
          33,
          52,
          120,
          49,
          78,
          13,
          121,
          43,
          15,
          97,
          61,
          4,
          7,
          29,
          62,
          22,
          6,
          67,
          38,
          23,
          64,
          74,
          63,
          33,
          92,
          13,
          106,
          7,
          81,
          40,
          33,
          53,
          48,
          67,
          25,
          34,
          18,
          71,
          77,
          5,
          33,
          29,
          84,
          42,
          134,
          212,
          42,
          126,
          32,
          10,
          18,
          60,
          89,
          120,
          111,
          113,
          100,
          9,
          28,
          59,
          24,
          52,
          57,
          75,
          30,
          51,
          70,
          45,
          31,
          34,
          36,
          16,
          53,
          16,
          15,
          51,
          44,
          13,
          35,
          12,
          59,
          37,
          109,
          17,
          38,
          12,
          65,
          80,
          27,
          40,
          34,
          8,
          66,
          41,
          17,
          37,
          13,
          10,
          66,
          153,
          74,
          90,
          89,
          25,
          52
         ],
         "yaxis": "y"
        }
       ],
       "layout": {
        "legend": {
         "title": {
          "text": "element_type"
         },
         "tracegroupgap": 0
        },
        "template": {
         "data": {
          "bar": [
           {
            "error_x": {
             "color": "#2a3f5f"
            },
            "error_y": {
             "color": "#2a3f5f"
            },
            "marker": {
             "line": {
              "color": "#E5ECF6",
              "width": 0.5
             },
             "pattern": {
              "fillmode": "overlay",
              "size": 10,
              "solidity": 0.2
             }
            },
            "type": "bar"
           }
          ],
          "barpolar": [
           {
            "marker": {
             "line": {
              "color": "#E5ECF6",
              "width": 0.5
             },
             "pattern": {
              "fillmode": "overlay",
              "size": 10,
              "solidity": 0.2
             }
            },
            "type": "barpolar"
           }
          ],
          "carpet": [
           {
            "aaxis": {
             "endlinecolor": "#2a3f5f",
             "gridcolor": "white",
             "linecolor": "white",
             "minorgridcolor": "white",
             "startlinecolor": "#2a3f5f"
            },
            "baxis": {
             "endlinecolor": "#2a3f5f",
             "gridcolor": "white",
             "linecolor": "white",
             "minorgridcolor": "white",
             "startlinecolor": "#2a3f5f"
            },
            "type": "carpet"
           }
          ],
          "choropleth": [
           {
            "colorbar": {
             "outlinewidth": 0,
             "ticks": ""
            },
            "type": "choropleth"
           }
          ],
          "contour": [
           {
            "colorbar": {
             "outlinewidth": 0,
             "ticks": ""
            },
            "colorscale": [
             [
              0,
              "#0d0887"
             ],
             [
              0.1111111111111111,
              "#46039f"
             ],
             [
              0.2222222222222222,
              "#7201a8"
             ],
             [
              0.3333333333333333,
              "#9c179e"
             ],
             [
              0.4444444444444444,
              "#bd3786"
             ],
             [
              0.5555555555555556,
              "#d8576b"
             ],
             [
              0.6666666666666666,
              "#ed7953"
             ],
             [
              0.7777777777777778,
              "#fb9f3a"
             ],
             [
              0.8888888888888888,
              "#fdca26"
             ],
             [
              1,
              "#f0f921"
             ]
            ],
            "type": "contour"
           }
          ],
          "contourcarpet": [
           {
            "colorbar": {
             "outlinewidth": 0,
             "ticks": ""
            },
            "type": "contourcarpet"
           }
          ],
          "heatmap": [
           {
            "colorbar": {
             "outlinewidth": 0,
             "ticks": ""
            },
            "colorscale": [
             [
              0,
              "#0d0887"
             ],
             [
              0.1111111111111111,
              "#46039f"
             ],
             [
              0.2222222222222222,
              "#7201a8"
             ],
             [
              0.3333333333333333,
              "#9c179e"
             ],
             [
              0.4444444444444444,
              "#bd3786"
             ],
             [
              0.5555555555555556,
              "#d8576b"
             ],
             [
              0.6666666666666666,
              "#ed7953"
             ],
             [
              0.7777777777777778,
              "#fb9f3a"
             ],
             [
              0.8888888888888888,
              "#fdca26"
             ],
             [
              1,
              "#f0f921"
             ]
            ],
            "type": "heatmap"
           }
          ],
          "heatmapgl": [
           {
            "colorbar": {
             "outlinewidth": 0,
             "ticks": ""
            },
            "colorscale": [
             [
              0,
              "#0d0887"
             ],
             [
              0.1111111111111111,
              "#46039f"
             ],
             [
              0.2222222222222222,
              "#7201a8"
             ],
             [
              0.3333333333333333,
              "#9c179e"
             ],
             [
              0.4444444444444444,
              "#bd3786"
             ],
             [
              0.5555555555555556,
              "#d8576b"
             ],
             [
              0.6666666666666666,
              "#ed7953"
             ],
             [
              0.7777777777777778,
              "#fb9f3a"
             ],
             [
              0.8888888888888888,
              "#fdca26"
             ],
             [
              1,
              "#f0f921"
             ]
            ],
            "type": "heatmapgl"
           }
          ],
          "histogram": [
           {
            "marker": {
             "pattern": {
              "fillmode": "overlay",
              "size": 10,
              "solidity": 0.2
             }
            },
            "type": "histogram"
           }
          ],
          "histogram2d": [
           {
            "colorbar": {
             "outlinewidth": 0,
             "ticks": ""
            },
            "colorscale": [
             [
              0,
              "#0d0887"
             ],
             [
              0.1111111111111111,
              "#46039f"
             ],
             [
              0.2222222222222222,
              "#7201a8"
             ],
             [
              0.3333333333333333,
              "#9c179e"
             ],
             [
              0.4444444444444444,
              "#bd3786"
             ],
             [
              0.5555555555555556,
              "#d8576b"
             ],
             [
              0.6666666666666666,
              "#ed7953"
             ],
             [
              0.7777777777777778,
              "#fb9f3a"
             ],
             [
              0.8888888888888888,
              "#fdca26"
             ],
             [
              1,
              "#f0f921"
             ]
            ],
            "type": "histogram2d"
           }
          ],
          "histogram2dcontour": [
           {
            "colorbar": {
             "outlinewidth": 0,
             "ticks": ""
            },
            "colorscale": [
             [
              0,
              "#0d0887"
             ],
             [
              0.1111111111111111,
              "#46039f"
             ],
             [
              0.2222222222222222,
              "#7201a8"
             ],
             [
              0.3333333333333333,
              "#9c179e"
             ],
             [
              0.4444444444444444,
              "#bd3786"
             ],
             [
              0.5555555555555556,
              "#d8576b"
             ],
             [
              0.6666666666666666,
              "#ed7953"
             ],
             [
              0.7777777777777778,
              "#fb9f3a"
             ],
             [
              0.8888888888888888,
              "#fdca26"
             ],
             [
              1,
              "#f0f921"
             ]
            ],
            "type": "histogram2dcontour"
           }
          ],
          "mesh3d": [
           {
            "colorbar": {
             "outlinewidth": 0,
             "ticks": ""
            },
            "type": "mesh3d"
           }
          ],
          "parcoords": [
           {
            "line": {
             "colorbar": {
              "outlinewidth": 0,
              "ticks": ""
             }
            },
            "type": "parcoords"
           }
          ],
          "pie": [
           {
            "automargin": true,
            "type": "pie"
           }
          ],
          "scatter": [
           {
            "marker": {
             "colorbar": {
              "outlinewidth": 0,
              "ticks": ""
             }
            },
            "type": "scatter"
           }
          ],
          "scatter3d": [
           {
            "line": {
             "colorbar": {
              "outlinewidth": 0,
              "ticks": ""
             }
            },
            "marker": {
             "colorbar": {
              "outlinewidth": 0,
              "ticks": ""
             }
            },
            "type": "scatter3d"
           }
          ],
          "scattercarpet": [
           {
            "marker": {
             "colorbar": {
              "outlinewidth": 0,
              "ticks": ""
             }
            },
            "type": "scattercarpet"
           }
          ],
          "scattergeo": [
           {
            "marker": {
             "colorbar": {
              "outlinewidth": 0,
              "ticks": ""
             }
            },
            "type": "scattergeo"
           }
          ],
          "scattergl": [
           {
            "marker": {
             "colorbar": {
              "outlinewidth": 0,
              "ticks": ""
             }
            },
            "type": "scattergl"
           }
          ],
          "scattermapbox": [
           {
            "marker": {
             "colorbar": {
              "outlinewidth": 0,
              "ticks": ""
             }
            },
            "type": "scattermapbox"
           }
          ],
          "scatterpolar": [
           {
            "marker": {
             "colorbar": {
              "outlinewidth": 0,
              "ticks": ""
             }
            },
            "type": "scatterpolar"
           }
          ],
          "scatterpolargl": [
           {
            "marker": {
             "colorbar": {
              "outlinewidth": 0,
              "ticks": ""
             }
            },
            "type": "scatterpolargl"
           }
          ],
          "scatterternary": [
           {
            "marker": {
             "colorbar": {
              "outlinewidth": 0,
              "ticks": ""
             }
            },
            "type": "scatterternary"
           }
          ],
          "surface": [
           {
            "colorbar": {
             "outlinewidth": 0,
             "ticks": ""
            },
            "colorscale": [
             [
              0,
              "#0d0887"
             ],
             [
              0.1111111111111111,
              "#46039f"
             ],
             [
              0.2222222222222222,
              "#7201a8"
             ],
             [
              0.3333333333333333,
              "#9c179e"
             ],
             [
              0.4444444444444444,
              "#bd3786"
             ],
             [
              0.5555555555555556,
              "#d8576b"
             ],
             [
              0.6666666666666666,
              "#ed7953"
             ],
             [
              0.7777777777777778,
              "#fb9f3a"
             ],
             [
              0.8888888888888888,
              "#fdca26"
             ],
             [
              1,
              "#f0f921"
             ]
            ],
            "type": "surface"
           }
          ],
          "table": [
           {
            "cells": {
             "fill": {
              "color": "#EBF0F8"
             },
             "line": {
              "color": "white"
             }
            },
            "header": {
             "fill": {
              "color": "#C8D4E3"
             },
             "line": {
              "color": "white"
             }
            },
            "type": "table"
           }
          ]
         },
         "layout": {
          "annotationdefaults": {
           "arrowcolor": "#2a3f5f",
           "arrowhead": 0,
           "arrowwidth": 1
          },
          "autotypenumbers": "strict",
          "coloraxis": {
           "colorbar": {
            "outlinewidth": 0,
            "ticks": ""
           }
          },
          "colorscale": {
           "diverging": [
            [
             0,
             "#8e0152"
            ],
            [
             0.1,
             "#c51b7d"
            ],
            [
             0.2,
             "#de77ae"
            ],
            [
             0.3,
             "#f1b6da"
            ],
            [
             0.4,
             "#fde0ef"
            ],
            [
             0.5,
             "#f7f7f7"
            ],
            [
             0.6,
             "#e6f5d0"
            ],
            [
             0.7,
             "#b8e186"
            ],
            [
             0.8,
             "#7fbc41"
            ],
            [
             0.9,
             "#4d9221"
            ],
            [
             1,
             "#276419"
            ]
           ],
           "sequential": [
            [
             0,
             "#0d0887"
            ],
            [
             0.1111111111111111,
             "#46039f"
            ],
            [
             0.2222222222222222,
             "#7201a8"
            ],
            [
             0.3333333333333333,
             "#9c179e"
            ],
            [
             0.4444444444444444,
             "#bd3786"
            ],
            [
             0.5555555555555556,
             "#d8576b"
            ],
            [
             0.6666666666666666,
             "#ed7953"
            ],
            [
             0.7777777777777778,
             "#fb9f3a"
            ],
            [
             0.8888888888888888,
             "#fdca26"
            ],
            [
             1,
             "#f0f921"
            ]
           ],
           "sequentialminus": [
            [
             0,
             "#0d0887"
            ],
            [
             0.1111111111111111,
             "#46039f"
            ],
            [
             0.2222222222222222,
             "#7201a8"
            ],
            [
             0.3333333333333333,
             "#9c179e"
            ],
            [
             0.4444444444444444,
             "#bd3786"
            ],
            [
             0.5555555555555556,
             "#d8576b"
            ],
            [
             0.6666666666666666,
             "#ed7953"
            ],
            [
             0.7777777777777778,
             "#fb9f3a"
            ],
            [
             0.8888888888888888,
             "#fdca26"
            ],
            [
             1,
             "#f0f921"
            ]
           ]
          },
          "colorway": [
           "#636efa",
           "#EF553B",
           "#00cc96",
           "#ab63fa",
           "#FFA15A",
           "#19d3f3",
           "#FF6692",
           "#B6E880",
           "#FF97FF",
           "#FECB52"
          ],
          "font": {
           "color": "#2a3f5f"
          },
          "geo": {
           "bgcolor": "white",
           "lakecolor": "white",
           "landcolor": "#E5ECF6",
           "showlakes": true,
           "showland": true,
           "subunitcolor": "white"
          },
          "hoverlabel": {
           "align": "left"
          },
          "hovermode": "closest",
          "mapbox": {
           "style": "light"
          },
          "paper_bgcolor": "white",
          "plot_bgcolor": "#E5ECF6",
          "polar": {
           "angularaxis": {
            "gridcolor": "white",
            "linecolor": "white",
            "ticks": ""
           },
           "bgcolor": "#E5ECF6",
           "radialaxis": {
            "gridcolor": "white",
            "linecolor": "white",
            "ticks": ""
           }
          },
          "scene": {
           "xaxis": {
            "backgroundcolor": "#E5ECF6",
            "gridcolor": "white",
            "gridwidth": 2,
            "linecolor": "white",
            "showbackground": true,
            "ticks": "",
            "zerolinecolor": "white"
           },
           "yaxis": {
            "backgroundcolor": "#E5ECF6",
            "gridcolor": "white",
            "gridwidth": 2,
            "linecolor": "white",
            "showbackground": true,
            "ticks": "",
            "zerolinecolor": "white"
           },
           "zaxis": {
            "backgroundcolor": "#E5ECF6",
            "gridcolor": "white",
            "gridwidth": 2,
            "linecolor": "white",
            "showbackground": true,
            "ticks": "",
            "zerolinecolor": "white"
           }
          },
          "shapedefaults": {
           "line": {
            "color": "#2a3f5f"
           }
          },
          "ternary": {
           "aaxis": {
            "gridcolor": "white",
            "linecolor": "white",
            "ticks": ""
           },
           "baxis": {
            "gridcolor": "white",
            "linecolor": "white",
            "ticks": ""
           },
           "bgcolor": "#E5ECF6",
           "caxis": {
            "gridcolor": "white",
            "linecolor": "white",
            "ticks": ""
           }
          },
          "title": {
           "x": 0.05
          },
          "xaxis": {
           "automargin": true,
           "gridcolor": "white",
           "linecolor": "white",
           "ticks": "",
           "title": {
            "standoff": 15
           },
           "zerolinecolor": "white",
           "zerolinewidth": 2
          },
          "yaxis": {
           "automargin": true,
           "gridcolor": "white",
           "linecolor": "white",
           "ticks": "",
           "title": {
            "standoff": 15
           },
           "zerolinecolor": "white",
           "zerolinewidth": 2
          }
         }
        },
        "title": {
         "text": "Total points vs Current Price"
        },
        "xaxis": {
         "anchor": "y",
         "domain": [
          0,
          1
         ],
         "title": {
          "text": "now_cost"
         }
        },
        "yaxis": {
         "anchor": "x",
         "domain": [
          0,
          1
         ],
         "title": {
          "text": "total_points"
         }
        }
       }
      }
     },
     "metadata": {},
     "output_type": "display_data"
    }
   ],
   "source": [
    "# px.pie(df.groupby(['element_type'])['player_name'].count().reset_index(),\n",
    "#                   names='element_type',\n",
    "#                   values='player_name',\n",
    "#                   color='element_type',\n",
    "#                   hole=.3,\n",
    "#                   color_discrete_map=position_colors\n",
    "#                   )\n",
    "\n",
    "px.scatter(df, \n",
    "           x='now_cost', y='total_points',\n",
    "           color='element_type',\n",
    "           color_discrete_map=position_colors,\n",
    "           hover_data= ['player_name'],\n",
    "           title='Total points vs Current Price'\n",
    "              )\n",
    "\n",
    "# sns.scatterplot(x = df['now_cost'], y = df['total_points'], hue=df['element_type'], palette=position_colors)"
   ]
  },
  {
   "cell_type": "code",
   "execution_count": 10,
   "metadata": {},
   "outputs": [
    {
     "data": {
      "application/vnd.plotly.v1+json": {
       "config": {
        "plotlyServerURL": "https://plot.ly"
       },
       "data": [
        {
         "customdata": [
          [
           "Bernd Leno",
           3
          ],
          [
           "Aaron Ramsdale",
           22
          ],
          [
           "Álvaro Fernández",
           12
          ],
          [
           "Jonas Lössl",
           2
          ],
          [
           "Jason Steele",
           1
          ],
          [
           "Robert Sánchez",
           26
          ],
          [
           "Nick Pope",
           24
          ],
          [
           "Wayne Hennessey",
           2
          ],
          [
           "Edouard Mendy",
           23
          ],
          [
           "Vicente Guaita",
           23
          ],
          [
           "Jack Butland",
           6
          ],
          [
           "Jordan Pickford",
           24
          ],
          [
           "Kasper Schmeichel",
           25
          ],
          [
           "Illan Meslier",
           28
          ],
          [
           "Caoimhin Kelleher",
           2
          ],
          [
           "Zack Steffen",
           1
          ],
          [
           "David de Gea",
           28
          ],
          [
           "Karl Darlow",
           8
          ],
          [
           "Martin Dubravka",
           15
          ],
          [
           "Tim Krul",
           21
          ],
          [
           "Angus Gunn",
           7
          ],
          [
           "Fraser Forster",
           11
          ],
          [
           "Willy Caballero",
           2
          ],
          [
           "Hugo Lloris",
           26
          ],
          [
           "Ben Foster",
           17
          ],
          [
           "Daniel Bachmann",
           11
          ],
          [
           "Lukasz Fabianski",
           27
          ],
          [
           "Alphonse Areola",
           1
          ]
         ],
         "hovertemplate": "element_type=Goalkeeper<br>now_cost=%{x}<br>points_per_game=%{y}<br>player_name=%{customdata[0]}<br>games=%{customdata[1]}<extra></extra>",
         "legendgroup": "Goalkeeper",
         "marker": {
          "color": "red",
          "symbol": "circle"
         },
         "mode": "markers",
         "name": "Goalkeeper",
         "orientation": "v",
         "showlegend": true,
         "type": "scatter",
         "x": [
          45,
          51,
          45,
          45,
          40,
          46,
          54,
          45,
          61,
          46,
          44,
          49,
          48,
          48,
          43,
          44,
          52,
          45,
          44,
          45,
          40,
          44,
          43,
          54,
          41,
          41,
          50,
          47
         ],
         "xaxis": "x",
         "y": [
          1.3,
          4.9,
          2.6,
          1,
          2,
          3.3,
          3.8,
          2,
          4.2,
          3.5,
          3.2,
          3,
          3.4,
          2.6,
          4,
          7,
          4,
          2.5,
          3.5,
          2.8,
          3.7,
          3.2,
          1,
          4,
          3.4,
          2,
          3.6,
          2
         ],
         "yaxis": "y"
        },
        {
         "customdata": [
          [
           "Cédric Soares",
           8
          ],
          [
           "Rob Holding",
           8
          ],
          [
           "Kieran Tierney",
           19
          ],
          [
           "Ben White",
           23
          ],
          [
           "Takehiro Tomiyasu",
           16
          ],
          [
           "Calum Chambers",
           7
          ],
          [
           "Kortney Hause",
           7
          ],
          [
           "Tyrone Mings",
           25
          ],
          [
           "Matthew Cash",
           27
          ],
          [
           "Ezri Konsa Ngoyo",
           22
          ],
          [
           "Ashley Young",
           17
          ],
          [
           "Lucas Digne",
           20
          ],
          [
           "Pontus Jansson",
           28
          ],
          [
           "Rico Henry",
           24
          ],
          [
           "Mads Bech Sørensen",
           5
          ],
          [
           "Ethan Pinnock",
           27
          ],
          [
           "Kristoffer Ajer",
           15
          ],
          [
           "Shane Duffy",
           17
          ],
          [
           "Lewis Dunk",
           18
          ],
          [
           "Adam Webster",
           15
          ],
          [
           "Joël Veltman",
           23
          ],
          [
           "Tariq Lamptey",
           20
          ],
          [
           "Marc Cucurella",
           24
          ],
          [
           "James Tarkowski",
           24
          ],
          [
           "Erik Pieters",
           11
          ],
          [
           "Ben Mee",
           21
          ],
          [
           "Matthew Lowton",
           18
          ],
          [
           "Charlie Taylor",
           19
          ],
          [
           "Nathan Collins",
           8
          ],
          [
           "Connor Roberts",
           10
          ],
          [
           "César Azpilicueta",
           18
          ],
          [
           "Marcos Alonso",
           19
          ],
          [
           "Antonio Rüdiger",
           25
          ],
          [
           "Andreas Christensen",
           15
          ],
          [
           "Reece James",
           17
          ],
          [
           "Malang Sarr",
           4
          ],
          [
           "Trevoh Chalobah",
           16
          ],
          [
           "James Tomkins",
           8
          ],
          [
           "Cheikhou Kouyaté",
           21
          ],
          [
           "Tyrick Mitchell",
           28
          ],
          [
           "Joel Ward",
           23
          ],
          [
           "Joachim Andersen",
           24
          ],
          [
           "Nathaniel Clyne",
           6
          ],
          [
           "Seamus Coleman",
           20
          ],
          [
           "Michael Keane",
           24
          ],
          [
           "Yerry Mina",
           10
          ],
          [
           "Mason Holgate",
           14
          ],
          [
           "Ben Godfrey",
           17
          ],
          [
           "Jonjoe Kenny",
           8
          ],
          [
           "Jarrad Branthwaite",
           3
          ],
          [
           "Vitalii Mykolenko",
           2
          ],
          [
           "Jonny Evans",
           10
          ],
          [
           "Daniel Amartey",
           16
          ],
          [
           "Timothy Castagne",
           16
          ],
          [
           "James Justin",
           4
          ],
          [
           "Luke Thomas",
           17
          ],
          [
           "Jannik Vestergaard",
           10
          ],
          [
           "Liam Cooper",
           15
          ],
          [
           "Luke Ayling",
           19
          ],
          [
           "Diego Llorente",
           19
          ],
          [
           "Robin Koch",
           11
          ],
          [
           "Pascal Struijk",
           21
          ],
          [
           "Charlie Cresswell",
           4
          ],
          [
           "Joel Matip",
           21
          ],
          [
           "Virgil van Dijk",
           25
          ],
          [
           "Andrew Robertson",
           20
          ],
          [
           "Trent Alexander-Arnold",
           24
          ],
          [
           "Joseph Gomez",
           5
          ],
          [
           "Ibrahima Konaté",
           8
          ],
          [
           "Konstantinos Tsimikas",
           10
          ],
          [
           "Kyle Walker",
           17
          ],
          [
           "John Stones",
           10
          ],
          [
           "Nathan Aké",
           9
          ],
          [
           "Aymeric Laporte",
           23
          ],
          [
           "Rúben Santos Gato Alves Dias",
           25
          ],
          [
           "Oleksandr Zinchenko",
           8
          ],
          [
           "Harry Maguire",
           23
          ],
          [
           "Luke Shaw",
           19
          ],
          [
           "Victor Lindelöf",
           19
          ],
          [
           "Eric Bailly",
           4
          ],
          [
           "Aaron Wan-Bissaka",
           18
          ],
          [
           "Phil Jones",
           1
          ],
          [
           "Matt Targett",
           22
          ],
          [
           "Dan Burn",
           18
          ],
          [
           "Matt Ritchie",
           16
          ],
          [
           "Jamaal Lascelles",
           19
          ],
          [
           "Paul Dummett",
           3
          ],
          [
           "Javier Manquillo",
           16
          ],
          [
           "Emil Krafth",
           12
          ],
          [
           "Fabian Schär",
           17
          ],
          [
           "Federico Fernández",
           7
          ],
          [
           "Brandon Williams",
           22
          ],
          [
           "Grant Hanley",
           24
          ],
          [
           "Sam Byram",
           6
          ],
          [
           "Max Aarons",
           27
          ],
          [
           "Jacob Sørensen",
           6
          ],
          [
           "Ben Gibson",
           23
          ],
          [
           "Dimitris Giannoulis",
           11
          ],
          [
           "Ozan Kabak",
           10
          ],
          [
           "Jack Stephens",
           9
          ],
          [
           "Kyle Walker-Peters",
           22
          ],
          [
           "Jan Bednarek",
           23
          ],
          [
           "Mohammed Salisu",
           26
          ],
          [
           "Romain Perraud",
           14
          ],
          [
           "Yan Valery",
           2
          ],
          [
           "Matt Doherty",
           10
          ],
          [
           "Eric Dier",
           23
          ],
          [
           "Ben Davies",
           17
          ],
          [
           "Davinson Sánchez",
           18
          ],
          [
           "Ryan Sessegnon",
           9
          ],
          [
           "Sergio Reguilón",
           20
          ],
          [
           "Cristian Romero",
           13
          ],
          [
           "Craig Cathcart",
           25
          ],
          [
           "Christian Kabasele",
           7
          ],
          [
           "William Troost-Ekong",
           16
          ],
          [
           "Adam Masina",
           11
          ],
          [
           "Francisco Sierralta",
           5
          ],
          [
           "Jeremy Ngakia",
           13
          ],
          [
           "Hassane Kamara",
           10
          ],
          [
           "Kurt Zouma",
           16
          ],
          [
           "Aaron Cresswell",
           21
          ],
          [
           "Craig Dawson",
           25
          ],
          [
           "Ryan Fredericks",
           4
          ],
          [
           "Arthur Masuaku",
           11
          ],
          [
           "Issa Diop",
           10
          ],
          [
           "Ben Johnson",
           14
          ],
          [
           "Willy Boly",
           1
          ],
          [
           "Conor Coady",
           28
          ],
          [
           "Fernando Marçal",
           15
          ],
          [
           "Max Kilman",
           27
          ],
          [
           "Ki-Jana Hoever",
           8
          ],
          [
           "Rayan Ait Nouri",
           16
          ]
         ],
         "hovertemplate": "element_type=Defender<br>now_cost=%{x}<br>points_per_game=%{y}<br>player_name=%{customdata[0]}<br>games=%{customdata[1]}<extra></extra>",
         "legendgroup": "Defender",
         "marker": {
          "color": "blue",
          "symbol": "circle"
         },
         "mode": "markers",
         "name": "Defender",
         "orientation": "v",
         "showlegend": true,
         "type": "scatter",
         "x": [
          42,
          41,
          51,
          45,
          46,
          42,
          44,
          50,
          51,
          49,
          47,
          51,
          45,
          45,
          43,
          45,
          44,
          41,
          48,
          43,
          42,
          45,
          50,
          49,
          42,
          48,
          44,
          44,
          43,
          45,
          56,
          56,
          61,
          46,
          62,
          49,
          47,
          43,
          45,
          45,
          45,
          45,
          43,
          49,
          47,
          49,
          42,
          47,
          44,
          40,
          49,
          54,
          39,
          53,
          49,
          43,
          47,
          44,
          43,
          45,
          43,
          43,
          40,
          49,
          67,
          72,
          85,
          47,
          51,
          37,
          54,
          52,
          47,
          58,
          62,
          53,
          54,
          50,
          48,
          49,
          51,
          45,
          47,
          44,
          49,
          44,
          45,
          39,
          43,
          43,
          43,
          39,
          44,
          44,
          43,
          43,
          44,
          44,
          43,
          44,
          48,
          44,
          45,
          48,
          39,
          47,
          46,
          44,
          45,
          43,
          52,
          48,
          43,
          43,
          43,
          43,
          43,
          43,
          45,
          54,
          54,
          49,
          44,
          44,
          43,
          39,
          49,
          48,
          42,
          46,
          39,
          44
         ],
         "xaxis": "x",
         "y": [
          1.5,
          1.9,
          4.9,
          3.8,
          4.3,
          3.7,
          2.9,
          3.9,
          4.3,
          3,
          2.4,
          2.8,
          2.8,
          2.8,
          1.2,
          2.7,
          3.1,
          2.8,
          3.3,
          3.5,
          2.4,
          2.6,
          3.4,
          2.7,
          3,
          3.5,
          3.1,
          2.5,
          2.6,
          3.7,
          3.8,
          4.1,
          4.6,
          3.3,
          6.4,
          5.2,
          4.6,
          2.1,
          3,
          3,
          2.4,
          3,
          2.3,
          2.5,
          2.9,
          1.6,
          1.6,
          1.7,
          2.1,
          3,
          1,
          1.9,
          2.4,
          1.8,
          1,
          2.6,
          1.1,
          2.7,
          1.5,
          2.5,
          0.7,
          0.8,
          1,
          4.5,
          5.4,
          6.2,
          7.2,
          1.2,
          3.4,
          3.8,
          4.2,
          5.5,
          4.2,
          5.1,
          4.9,
          4.2,
          2.7,
          2.4,
          2.8,
          0.5,
          2.2,
          2,
          2.8,
          3.1,
          1.1,
          1.7,
          2.3,
          2.2,
          1.9,
          3.6,
          1.6,
          1.5,
          2.2,
          0.5,
          1.8,
          1.3,
          1.6,
          2.1,
          1.7,
          1.3,
          3,
          3.3,
          2.1,
          2.1,
          1,
          4.3,
          3.7,
          3.2,
          3.7,
          2.6,
          4.2,
          1.8,
          1.8,
          1.1,
          1.1,
          1.1,
          1,
          1.5,
          2.6,
          3.3,
          4.3,
          2.8,
          0.8,
          2.5,
          2.6,
          2.8,
          6,
          3.9,
          3.5,
          3.5,
          1.8,
          4.4
         ],
         "yaxis": "y"
        },
        {
         "customdata": [
          [
           "Alexandre Lacazette",
           20
          ],
          [
           "Ollie Watkins",
           24
          ],
          [
           "Danny Ings",
           21
          ],
          [
           "Ivan Toney",
           23
          ],
          [
           "Neal Maupay",
           25
          ],
          [
           "Danny Welbeck",
           14
          ],
          [
           "Jay Rodriguez",
           22
          ],
          [
           "Ashley Barnes",
           15
          ],
          [
           "Matej Vydra",
           16
          ],
          [
           "Wout Weghorst",
           8
          ],
          [
           "Timo Werner",
           13
          ],
          [
           "Romelu Lukaku",
           18
          ],
          [
           "Christian Benteke",
           22
          ],
          [
           "Jordan Ayew",
           24
          ],
          [
           "Jean-Philippe Mateta",
           13
          ],
          [
           "Odsonne Edouard",
           22
          ],
          [
           "Dominic Calvert-Lewin",
           9
          ],
          [
           "Salomón Rondón",
           14
          ],
          [
           "Jamie Vardy",
           18
          ],
          [
           "Kelechi Iheanacho",
           17
          ],
          [
           "Patson Daka",
           13
          ],
          [
           "Patrick Bamford",
           7
          ],
          [
           "Joe Gelhardt",
           12
          ],
          [
           "Roberto Firmino",
           15
          ],
          [
           "Edinson Cavani",
           11
          ],
          [
           "Chris Wood",
           25
          ],
          [
           "Callum Wilson",
           15
          ],
          [
           "Allan Saint-Maximin",
           24
          ],
          [
           "Teemu Pukki",
           27
          ],
          [
           "Adam Idah",
           17
          ],
          [
           "Joshua Sargent",
           24
          ],
          [
           "Che Adams",
           22
          ],
          [
           "Armando Broja",
           24
          ],
          [
           "Shane Long",
           7
          ],
          [
           "Adam Armstrong",
           20
          ],
          [
           "Harry Kane",
           25
          ],
          [
           "Emmanuel Dennis",
           26
          ],
          [
           "Joshua King",
           25
          ],
          [
           "Michail Antonio",
           27
          ],
          [
           "Raúl Jiménez",
           26
          ],
          [
           "Fabio Silva",
           15
          ],
          [
           "Hee-Chan Hwang",
           20
          ]
         ],
         "hovertemplate": "element_type=Forward<br>now_cost=%{x}<br>points_per_game=%{y}<br>player_name=%{customdata[0]}<br>games=%{customdata[1]}<extra></extra>",
         "legendgroup": "Forward",
         "marker": {
          "color": "Green",
          "symbol": "circle"
         },
         "mode": "markers",
         "name": "Forward",
         "orientation": "v",
         "showlegend": true,
         "type": "scatter",
         "x": [
          83,
          75,
          77,
          65,
          65,
          59,
          52,
          52,
          52,
          66,
          86,
          115,
          60,
          58,
          52,
          63,
          77,
          60,
          103,
          69,
          71,
          77,
          46,
          87,
          84,
          67,
          72,
          68,
          58,
          49,
          54,
          70,
          55,
          54,
          57,
          123,
          61,
          58,
          76,
          76,
          56,
          54
         ],
         "xaxis": "x",
         "y": [
          3.5,
          3.5,
          3.8,
          4.1,
          3.7,
          2.8,
          1.8,
          1,
          1.7,
          3.5,
          2.1,
          3.4,
          2.5,
          2.3,
          2.8,
          3.7,
          3.4,
          1.7,
          5.1,
          2.9,
          3.8,
          3.7,
          2.1,
          3.3,
          2.6,
          2.7,
          3.9,
          3.8,
          3.7,
          2.1,
          2.4,
          4,
          3.3,
          1.7,
          2.6,
          4.4,
          4.3,
          3.1,
          4.1,
          3.3,
          1.1,
          3.4
         ],
         "yaxis": "y"
        },
        {
         "customdata": [
          [
           "Granit Xhaka",
           14
          ],
          [
           "Thomas Partey",
           20
          ],
          [
           "Bukayo Saka",
           25
          ],
          [
           "Albert Sambi Lokonga",
           14
          ],
          [
           "Bertrand Traoré",
           6
          ],
          [
           "Morgan Sanson",
           9
          ],
          [
           "John McGinn",
           24
          ],
          [
           "Marvelous Nakamba",
           12
          ],
          [
           "Jacob Ramsey",
           25
          ],
          [
           "Leon Bailey",
           12
          ],
          [
           "Carney Chukwuemeka",
           9
          ],
          [
           "Christian Nørgaard",
           27
          ],
          [
           "Vitaly Janelt",
           22
          ],
          [
           "Saman Ghoddos",
           15
          ],
          [
           "Mathias Jensen",
           21
          ],
          [
           "Bryan Mbeumo",
           25
          ],
          [
           "Frank Onyeka",
           19
          ],
          [
           "Shandon Baptiste",
           19
          ],
          [
           "Yoane Wissa",
           20
          ],
          [
           "Christian Eriksen",
           2
          ],
          [
           "Adam Lallana",
           20
          ],
          [
           "Pascal Groß",
           18
          ],
          [
           "Leandro Trossard",
           25
          ],
          [
           "Yves Bissouma",
           18
          ],
          [
           "Steven Alzate",
           8
          ],
          [
           "Alexis Mac Allister",
           22
          ],
          [
           "Jakub Moder",
           26
          ],
          [
           "Enock Mwepu",
           11
          ],
          [
           "Jack Cork",
           11
          ],
          [
           "Dale Stephens",
           2
          ],
          [
           "Ashley Westwood",
           22
          ],
          [
           "Josh Brownhill",
           23
          ],
          [
           "Dwight McNeil",
           26
          ],
          [
           "Aaron Lennon",
           17
          ],
          [
           "Maxwel Cornet",
           16
          ],
          [
           "Ross Barkley",
           5
          ],
          [
           "Mateo Kovacic",
           19
          ],
          [
           "Hakim Ziyech",
           14
          ],
          [
           "Ruben Loftus-Cheek",
           15
          ],
          [
           "Christian Pulisic",
           14
          ],
          [
           "Mason Mount",
           23
          ],
          [
           "Callum Hudson-Odoi",
           15
          ],
          [
           "Kai Havertz",
           19
          ],
          [
           "Saúl Ñíguez",
           8
          ],
          [
           "Conor Gallagher",
           24
          ],
          [
           "James McArthur",
           15
          ],
          [
           "Luka Milivojevic",
           12
          ],
          [
           "Wilfried Zaha",
           23
          ],
          [
           "Jeffrey Schlupp",
           22
          ],
          [
           "Jairo Riedewald",
           3
          ],
          [
           "Eberechi Eze",
           6
          ],
          [
           "Will Hughes",
           12
          ],
          [
           "Michael Olise",
           21
          ],
          [
           "Anwar El Ghazi",
           11
          ],
          [
           "Fabian Delph",
           6
          ],
          [
           "Abdoulaye Doucouré",
           18
          ],
          [
           "Alex Iwobi",
           16
          ],
          [
           "Donny van de Beek",
           13
          ],
          [
           "Andros Townsend",
           19
          ],
          [
           "Demarai Gray",
           21
          ],
          [
           "Anthony Gordon",
           22
          ],
          [
           "Marc Albrighton",
           14
          ],
          [
           "Youri Tielemans",
           21
          ],
          [
           "Ayoze Pérez",
           8
          ],
          [
           "James Maddison",
           24
          ],
          [
           "Hamza Choudhury",
           5
          ],
          [
           "Harvey Barnes",
           20
          ],
          [
           "Wilfred Ndidi",
           18
          ],
          [
           "Kiernan Dewsbury-Hall",
           16
          ],
          [
           "Ademola Lookman",
           19
          ],
          [
           "Mateusz Klich",
           23
          ],
          [
           "Stuart Dallas",
           28
          ],
          [
           "Kalvin Phillips",
           12
          ],
          [
           "Tyler Roberts",
           23
          ],
          [
           "Jamie Shackleton",
           13
          ],
          [
           "Jack Harrison",
           25
          ],
          [
           "Daniel James",
           26
          ],
          [
           "Crysencio Summerville",
           5
          ],
          [
           "Adam Forshaw",
           19
          ],
          [
           "James Milner",
           18
          ],
          [
           "Jordan Henderson",
           24
          ],
          [
           "Alex Oxlade-Chamberlain",
           17
          ],
          [
           "Sadio Mané",
           24
          ],
          [
           "Mohamed Salah",
           25
          ],
          [
           "Naby Keita",
           14
          ],
          [
           "Diogo Jota",
           24
          ],
          [
           "Curtis Jones",
           11
          ],
          [
           "Harvey Elliott",
           5
          ],
          [
           "Luis Díaz",
           4
          ],
          [
           "Jack Grealish",
           18
          ],
          [
           "Ilkay Gündogan",
           20
          ],
          [
           "Kevin De Bruyne",
           21
          ],
          [
           "Riyad Mahrez",
           21
          ],
          [
           "Raheem Sterling",
           23
          ],
          [
           "Phil Foden",
           20
          ],
          [
           "Cole Palmer",
           4
          ],
          [
           "Nemanja Matic",
           14
          ],
          [
           "Paul Pogba",
           15
          ],
          [
           "Jesse Lingard",
           13
          ],
          [
           "Marcus Rashford",
           18
          ],
          [
           "Scott McTominay",
           24
          ],
          [
           "Jadon Sancho",
           23
          ],
          [
           "Anthony Elanga",
           11
          ],
          [
           "Jonjo Shelvey",
           19
          ],
          [
           "Ryan Fraser",
           22
          ],
          [
           "Jacob Murphy",
           22
          ],
          [
           "Miguel Almirón",
           20
          ],
          [
           "Sean Longstaff",
           17
          ],
          [
           "Billy Gilmour",
           17
          ],
          [
           "Lukas Rupp",
           12
          ],
          [
           "Kenny McLean",
           26
          ],
          [
           "Kieran Dowell",
           11
          ],
          [
           "Przemyslaw Placheta",
           9
          ],
          [
           "Milot Rashica",
           22
          ],
          [
           "Pierre Lees-Melou",
           23
          ],
          [
           "Christos Tzolis",
           11
          ],
          [
           "Mathias Normann",
           15
          ],
          [
           "Theo Walcott",
           9
          ],
          [
           "Nathan Redmond",
           19
          ],
          [
           "Stuart Armstrong",
           15
          ],
          [
           "James Ward-Prowse",
           26
          ],
          [
           "Nathan Tella",
           10
          ],
          [
           "Ibrahima Diallo",
           19
          ],
          [
           "Moussa Djenepo",
           11
          ],
          [
           "Mohamed Elyounoussi",
           21
          ],
          [
           "Pierre-Emile Højbjerg",
           24
          ],
          [
           "Harry Winks",
           13
          ],
          [
           "Steven Bergwijn",
           15
          ],
          [
           "Dejan Kulusevski",
           6
          ],
          [
           "Rodrigo Bentancur",
           5
          ],
          [
           "Moussa Sissoko",
           26
          ],
          [
           "Tom Cleverley",
           23
          ],
          [
           "Ken Sema",
           13
          ],
          [
           "Juraj Kucka",
           21
          ],
          [
           "Edo Kayembe",
           7
          ],
          [
           "Mark Noble",
           5
          ],
          [
           "Manuel Lanzini",
           21
          ],
          [
           "Jarrod Bowen",
           28
          ],
          [
           "Declan Rice",
           26
          ],
          [
           "Tomas Soucek",
           26
          ],
          [
           "Pablo Fornals",
           26
          ],
          [
           "Nikola Vlasic",
           15
          ],
          [
           "Leander Dendoncker",
           22
          ]
         ],
         "hovertemplate": "element_type=Midfielder<br>now_cost=%{x}<br>points_per_game=%{y}<br>player_name=%{customdata[0]}<br>games=%{customdata[1]}<extra></extra>",
         "legendgroup": "Midfielder",
         "marker": {
          "color": "Orange",
          "symbol": "circle"
         },
         "mode": "markers",
         "name": "Midfielder",
         "orientation": "v",
         "showlegend": true,
         "type": "scatter",
         "x": [
          48,
          50,
          65,
          48,
          57,
          50,
          57,
          44,
          48,
          63,
          45,
          50,
          49,
          53,
          49,
          52,
          49,
          49,
          58,
          55,
          53,
          57,
          59,
          44,
          48,
          52,
          45,
          59,
          44,
          44,
          53,
          43,
          57,
          49,
          59,
          52,
          50,
          73,
          54,
          79,
          75,
          53,
          78,
          49,
          62,
          43,
          53,
          68,
          54,
          47,
          59,
          47,
          54,
          56,
          43,
          53,
          58,
          57,
          52,
          55,
          45,
          52,
          64,
          57,
          67,
          44,
          65,
          48,
          44,
          60,
          52,
          49,
          47,
          48,
          44,
          55,
          60,
          45,
          45,
          49,
          50,
          58,
          117,
          132,
          50,
          83,
          50,
          53,
          80,
          75,
          71,
          118,
          87,
          107,
          79,
          45,
          43,
          74,
          67,
          94,
          54,
          89,
          48,
          53,
          53,
          47,
          51,
          44,
          43,
          44,
          49,
          51,
          47,
          52,
          48,
          48,
          45,
          58,
          59,
          58,
          66,
          47,
          45,
          52,
          54,
          49,
          44,
          59,
          61,
          49,
          44,
          48,
          52,
          55,
          47,
          44,
          57,
          69,
          51,
          57,
          60,
          56,
          47
         ],
         "xaxis": "x",
         "y": [
          1.9,
          2.6,
          4.9,
          1.9,
          1.7,
          1.2,
          3.2,
          1.3,
          3.4,
          2.4,
          1.4,
          2.6,
          2.6,
          1.7,
          1.8,
          3,
          1.8,
          1.7,
          2.2,
          1,
          2,
          2.6,
          3.2,
          2,
          1.5,
          3,
          2.2,
          3.2,
          2,
          1.5,
          2.5,
          2.3,
          2.3,
          2.5,
          3.9,
          1.4,
          3.6,
          4.5,
          2.2,
          3.7,
          5.2,
          3.3,
          4.1,
          1.6,
          5,
          2.9,
          1.2,
          4.2,
          2.8,
          1.3,
          1.2,
          2.4,
          3,
          2,
          1,
          3.7,
          2.4,
          1.8,
          3.4,
          3.5,
          2.9,
          2.4,
          4.4,
          1.6,
          4.4,
          1.4,
          4,
          2.2,
          2.1,
          2.8,
          2.1,
          2.4,
          2.1,
          1.5,
          1.4,
          2.8,
          3,
          1,
          1.7,
          1.6,
          3.5,
          2.5,
          5.6,
          8.5,
          3,
          5.2,
          2.9,
          2,
          4.5,
          3.3,
          4.5,
          5.7,
          5.3,
          4.9,
          5,
          2.2,
          2,
          3.9,
          1.8,
          2.9,
          2.4,
          3.3,
          2.7,
          2.7,
          3.2,
          2,
          1.6,
          2,
          2.1,
          1.3,
          2,
          1.5,
          1.7,
          2.3,
          1.9,
          1.2,
          2.3,
          1.3,
          3.1,
          2.5,
          4.2,
          1.7,
          2,
          1.1,
          3.1,
          3.3,
          2.1,
          2.7,
          5.7,
          1.6,
          2.5,
          1.8,
          1.3,
          1.8,
          1.9,
          2,
          3.1,
          5.5,
          2.8,
          3.5,
          3.4,
          1.7,
          2.4
         ],
         "yaxis": "y"
        }
       ],
       "layout": {
        "legend": {
         "title": {
          "text": "element_type"
         },
         "tracegroupgap": 0
        },
        "template": {
         "data": {
          "bar": [
           {
            "error_x": {
             "color": "#2a3f5f"
            },
            "error_y": {
             "color": "#2a3f5f"
            },
            "marker": {
             "line": {
              "color": "#E5ECF6",
              "width": 0.5
             },
             "pattern": {
              "fillmode": "overlay",
              "size": 10,
              "solidity": 0.2
             }
            },
            "type": "bar"
           }
          ],
          "barpolar": [
           {
            "marker": {
             "line": {
              "color": "#E5ECF6",
              "width": 0.5
             },
             "pattern": {
              "fillmode": "overlay",
              "size": 10,
              "solidity": 0.2
             }
            },
            "type": "barpolar"
           }
          ],
          "carpet": [
           {
            "aaxis": {
             "endlinecolor": "#2a3f5f",
             "gridcolor": "white",
             "linecolor": "white",
             "minorgridcolor": "white",
             "startlinecolor": "#2a3f5f"
            },
            "baxis": {
             "endlinecolor": "#2a3f5f",
             "gridcolor": "white",
             "linecolor": "white",
             "minorgridcolor": "white",
             "startlinecolor": "#2a3f5f"
            },
            "type": "carpet"
           }
          ],
          "choropleth": [
           {
            "colorbar": {
             "outlinewidth": 0,
             "ticks": ""
            },
            "type": "choropleth"
           }
          ],
          "contour": [
           {
            "colorbar": {
             "outlinewidth": 0,
             "ticks": ""
            },
            "colorscale": [
             [
              0,
              "#0d0887"
             ],
             [
              0.1111111111111111,
              "#46039f"
             ],
             [
              0.2222222222222222,
              "#7201a8"
             ],
             [
              0.3333333333333333,
              "#9c179e"
             ],
             [
              0.4444444444444444,
              "#bd3786"
             ],
             [
              0.5555555555555556,
              "#d8576b"
             ],
             [
              0.6666666666666666,
              "#ed7953"
             ],
             [
              0.7777777777777778,
              "#fb9f3a"
             ],
             [
              0.8888888888888888,
              "#fdca26"
             ],
             [
              1,
              "#f0f921"
             ]
            ],
            "type": "contour"
           }
          ],
          "contourcarpet": [
           {
            "colorbar": {
             "outlinewidth": 0,
             "ticks": ""
            },
            "type": "contourcarpet"
           }
          ],
          "heatmap": [
           {
            "colorbar": {
             "outlinewidth": 0,
             "ticks": ""
            },
            "colorscale": [
             [
              0,
              "#0d0887"
             ],
             [
              0.1111111111111111,
              "#46039f"
             ],
             [
              0.2222222222222222,
              "#7201a8"
             ],
             [
              0.3333333333333333,
              "#9c179e"
             ],
             [
              0.4444444444444444,
              "#bd3786"
             ],
             [
              0.5555555555555556,
              "#d8576b"
             ],
             [
              0.6666666666666666,
              "#ed7953"
             ],
             [
              0.7777777777777778,
              "#fb9f3a"
             ],
             [
              0.8888888888888888,
              "#fdca26"
             ],
             [
              1,
              "#f0f921"
             ]
            ],
            "type": "heatmap"
           }
          ],
          "heatmapgl": [
           {
            "colorbar": {
             "outlinewidth": 0,
             "ticks": ""
            },
            "colorscale": [
             [
              0,
              "#0d0887"
             ],
             [
              0.1111111111111111,
              "#46039f"
             ],
             [
              0.2222222222222222,
              "#7201a8"
             ],
             [
              0.3333333333333333,
              "#9c179e"
             ],
             [
              0.4444444444444444,
              "#bd3786"
             ],
             [
              0.5555555555555556,
              "#d8576b"
             ],
             [
              0.6666666666666666,
              "#ed7953"
             ],
             [
              0.7777777777777778,
              "#fb9f3a"
             ],
             [
              0.8888888888888888,
              "#fdca26"
             ],
             [
              1,
              "#f0f921"
             ]
            ],
            "type": "heatmapgl"
           }
          ],
          "histogram": [
           {
            "marker": {
             "pattern": {
              "fillmode": "overlay",
              "size": 10,
              "solidity": 0.2
             }
            },
            "type": "histogram"
           }
          ],
          "histogram2d": [
           {
            "colorbar": {
             "outlinewidth": 0,
             "ticks": ""
            },
            "colorscale": [
             [
              0,
              "#0d0887"
             ],
             [
              0.1111111111111111,
              "#46039f"
             ],
             [
              0.2222222222222222,
              "#7201a8"
             ],
             [
              0.3333333333333333,
              "#9c179e"
             ],
             [
              0.4444444444444444,
              "#bd3786"
             ],
             [
              0.5555555555555556,
              "#d8576b"
             ],
             [
              0.6666666666666666,
              "#ed7953"
             ],
             [
              0.7777777777777778,
              "#fb9f3a"
             ],
             [
              0.8888888888888888,
              "#fdca26"
             ],
             [
              1,
              "#f0f921"
             ]
            ],
            "type": "histogram2d"
           }
          ],
          "histogram2dcontour": [
           {
            "colorbar": {
             "outlinewidth": 0,
             "ticks": ""
            },
            "colorscale": [
             [
              0,
              "#0d0887"
             ],
             [
              0.1111111111111111,
              "#46039f"
             ],
             [
              0.2222222222222222,
              "#7201a8"
             ],
             [
              0.3333333333333333,
              "#9c179e"
             ],
             [
              0.4444444444444444,
              "#bd3786"
             ],
             [
              0.5555555555555556,
              "#d8576b"
             ],
             [
              0.6666666666666666,
              "#ed7953"
             ],
             [
              0.7777777777777778,
              "#fb9f3a"
             ],
             [
              0.8888888888888888,
              "#fdca26"
             ],
             [
              1,
              "#f0f921"
             ]
            ],
            "type": "histogram2dcontour"
           }
          ],
          "mesh3d": [
           {
            "colorbar": {
             "outlinewidth": 0,
             "ticks": ""
            },
            "type": "mesh3d"
           }
          ],
          "parcoords": [
           {
            "line": {
             "colorbar": {
              "outlinewidth": 0,
              "ticks": ""
             }
            },
            "type": "parcoords"
           }
          ],
          "pie": [
           {
            "automargin": true,
            "type": "pie"
           }
          ],
          "scatter": [
           {
            "marker": {
             "colorbar": {
              "outlinewidth": 0,
              "ticks": ""
             }
            },
            "type": "scatter"
           }
          ],
          "scatter3d": [
           {
            "line": {
             "colorbar": {
              "outlinewidth": 0,
              "ticks": ""
             }
            },
            "marker": {
             "colorbar": {
              "outlinewidth": 0,
              "ticks": ""
             }
            },
            "type": "scatter3d"
           }
          ],
          "scattercarpet": [
           {
            "marker": {
             "colorbar": {
              "outlinewidth": 0,
              "ticks": ""
             }
            },
            "type": "scattercarpet"
           }
          ],
          "scattergeo": [
           {
            "marker": {
             "colorbar": {
              "outlinewidth": 0,
              "ticks": ""
             }
            },
            "type": "scattergeo"
           }
          ],
          "scattergl": [
           {
            "marker": {
             "colorbar": {
              "outlinewidth": 0,
              "ticks": ""
             }
            },
            "type": "scattergl"
           }
          ],
          "scattermapbox": [
           {
            "marker": {
             "colorbar": {
              "outlinewidth": 0,
              "ticks": ""
             }
            },
            "type": "scattermapbox"
           }
          ],
          "scatterpolar": [
           {
            "marker": {
             "colorbar": {
              "outlinewidth": 0,
              "ticks": ""
             }
            },
            "type": "scatterpolar"
           }
          ],
          "scatterpolargl": [
           {
            "marker": {
             "colorbar": {
              "outlinewidth": 0,
              "ticks": ""
             }
            },
            "type": "scatterpolargl"
           }
          ],
          "scatterternary": [
           {
            "marker": {
             "colorbar": {
              "outlinewidth": 0,
              "ticks": ""
             }
            },
            "type": "scatterternary"
           }
          ],
          "surface": [
           {
            "colorbar": {
             "outlinewidth": 0,
             "ticks": ""
            },
            "colorscale": [
             [
              0,
              "#0d0887"
             ],
             [
              0.1111111111111111,
              "#46039f"
             ],
             [
              0.2222222222222222,
              "#7201a8"
             ],
             [
              0.3333333333333333,
              "#9c179e"
             ],
             [
              0.4444444444444444,
              "#bd3786"
             ],
             [
              0.5555555555555556,
              "#d8576b"
             ],
             [
              0.6666666666666666,
              "#ed7953"
             ],
             [
              0.7777777777777778,
              "#fb9f3a"
             ],
             [
              0.8888888888888888,
              "#fdca26"
             ],
             [
              1,
              "#f0f921"
             ]
            ],
            "type": "surface"
           }
          ],
          "table": [
           {
            "cells": {
             "fill": {
              "color": "#EBF0F8"
             },
             "line": {
              "color": "white"
             }
            },
            "header": {
             "fill": {
              "color": "#C8D4E3"
             },
             "line": {
              "color": "white"
             }
            },
            "type": "table"
           }
          ]
         },
         "layout": {
          "annotationdefaults": {
           "arrowcolor": "#2a3f5f",
           "arrowhead": 0,
           "arrowwidth": 1
          },
          "autotypenumbers": "strict",
          "coloraxis": {
           "colorbar": {
            "outlinewidth": 0,
            "ticks": ""
           }
          },
          "colorscale": {
           "diverging": [
            [
             0,
             "#8e0152"
            ],
            [
             0.1,
             "#c51b7d"
            ],
            [
             0.2,
             "#de77ae"
            ],
            [
             0.3,
             "#f1b6da"
            ],
            [
             0.4,
             "#fde0ef"
            ],
            [
             0.5,
             "#f7f7f7"
            ],
            [
             0.6,
             "#e6f5d0"
            ],
            [
             0.7,
             "#b8e186"
            ],
            [
             0.8,
             "#7fbc41"
            ],
            [
             0.9,
             "#4d9221"
            ],
            [
             1,
             "#276419"
            ]
           ],
           "sequential": [
            [
             0,
             "#0d0887"
            ],
            [
             0.1111111111111111,
             "#46039f"
            ],
            [
             0.2222222222222222,
             "#7201a8"
            ],
            [
             0.3333333333333333,
             "#9c179e"
            ],
            [
             0.4444444444444444,
             "#bd3786"
            ],
            [
             0.5555555555555556,
             "#d8576b"
            ],
            [
             0.6666666666666666,
             "#ed7953"
            ],
            [
             0.7777777777777778,
             "#fb9f3a"
            ],
            [
             0.8888888888888888,
             "#fdca26"
            ],
            [
             1,
             "#f0f921"
            ]
           ],
           "sequentialminus": [
            [
             0,
             "#0d0887"
            ],
            [
             0.1111111111111111,
             "#46039f"
            ],
            [
             0.2222222222222222,
             "#7201a8"
            ],
            [
             0.3333333333333333,
             "#9c179e"
            ],
            [
             0.4444444444444444,
             "#bd3786"
            ],
            [
             0.5555555555555556,
             "#d8576b"
            ],
            [
             0.6666666666666666,
             "#ed7953"
            ],
            [
             0.7777777777777778,
             "#fb9f3a"
            ],
            [
             0.8888888888888888,
             "#fdca26"
            ],
            [
             1,
             "#f0f921"
            ]
           ]
          },
          "colorway": [
           "#636efa",
           "#EF553B",
           "#00cc96",
           "#ab63fa",
           "#FFA15A",
           "#19d3f3",
           "#FF6692",
           "#B6E880",
           "#FF97FF",
           "#FECB52"
          ],
          "font": {
           "color": "#2a3f5f"
          },
          "geo": {
           "bgcolor": "white",
           "lakecolor": "white",
           "landcolor": "#E5ECF6",
           "showlakes": true,
           "showland": true,
           "subunitcolor": "white"
          },
          "hoverlabel": {
           "align": "left"
          },
          "hovermode": "closest",
          "mapbox": {
           "style": "light"
          },
          "paper_bgcolor": "white",
          "plot_bgcolor": "#E5ECF6",
          "polar": {
           "angularaxis": {
            "gridcolor": "white",
            "linecolor": "white",
            "ticks": ""
           },
           "bgcolor": "#E5ECF6",
           "radialaxis": {
            "gridcolor": "white",
            "linecolor": "white",
            "ticks": ""
           }
          },
          "scene": {
           "xaxis": {
            "backgroundcolor": "#E5ECF6",
            "gridcolor": "white",
            "gridwidth": 2,
            "linecolor": "white",
            "showbackground": true,
            "ticks": "",
            "zerolinecolor": "white"
           },
           "yaxis": {
            "backgroundcolor": "#E5ECF6",
            "gridcolor": "white",
            "gridwidth": 2,
            "linecolor": "white",
            "showbackground": true,
            "ticks": "",
            "zerolinecolor": "white"
           },
           "zaxis": {
            "backgroundcolor": "#E5ECF6",
            "gridcolor": "white",
            "gridwidth": 2,
            "linecolor": "white",
            "showbackground": true,
            "ticks": "",
            "zerolinecolor": "white"
           }
          },
          "shapedefaults": {
           "line": {
            "color": "#2a3f5f"
           }
          },
          "ternary": {
           "aaxis": {
            "gridcolor": "white",
            "linecolor": "white",
            "ticks": ""
           },
           "baxis": {
            "gridcolor": "white",
            "linecolor": "white",
            "ticks": ""
           },
           "bgcolor": "#E5ECF6",
           "caxis": {
            "gridcolor": "white",
            "linecolor": "white",
            "ticks": ""
           }
          },
          "title": {
           "x": 0.05
          },
          "xaxis": {
           "automargin": true,
           "gridcolor": "white",
           "linecolor": "white",
           "ticks": "",
           "title": {
            "standoff": 15
           },
           "zerolinecolor": "white",
           "zerolinewidth": 2
          },
          "yaxis": {
           "automargin": true,
           "gridcolor": "white",
           "linecolor": "white",
           "ticks": "",
           "title": {
            "standoff": 15
           },
           "zerolinecolor": "white",
           "zerolinewidth": 2
          }
         }
        },
        "title": {
         "text": "Points per Game vs Current Price"
        },
        "xaxis": {
         "anchor": "y",
         "domain": [
          0,
          1
         ],
         "title": {
          "text": "now_cost"
         }
        },
        "yaxis": {
         "anchor": "x",
         "domain": [
          0,
          1
         ],
         "title": {
          "text": "points_per_game"
         }
        }
       }
      }
     },
     "metadata": {},
     "output_type": "display_data"
    }
   ],
   "source": [
    "df['points_per_game'] = pd.to_numeric(df['points_per_game'])\n",
    "df['xA'] = pd.to_numeric(df['xA'])\n",
    "df['xG'] = pd.to_numeric(df['xG'])\n",
    "df['shots'] = pd.to_numeric(df['shots'])\n",
    "df['key_passes'] = pd.to_numeric(df['key_passes'])\n",
    "df['selected_by_percent'] = pd.to_numeric(df['selected_by_percent'])\n",
    "df['form'] = pd.to_numeric(df['form'])\n",
    "\n",
    "px.scatter(df, \n",
    "           x='now_cost', y='points_per_game',\n",
    "           color='element_type',\n",
    "           color_discrete_map=position_colors,\n",
    "           hover_data= ['player_name', 'games'],\n",
    "           title='Points per Game vs Current Price'\n",
    "              )\n",
    "\n",
    "\n",
    "#sns.scatterplot(x = df['now_cost'], y = df['points_per_game'], hue=df['element_type'], palette=position_colors)"
   ]
  },
  {
   "cell_type": "code",
   "execution_count": 11,
   "metadata": {},
   "outputs": [
    {
     "data": {
      "application/vnd.plotly.v1+json": {
       "config": {
        "plotlyServerURL": "https://plot.ly"
       },
       "data": [
        {
         "customdata": [
          [
           "Bernd Leno"
          ],
          [
           "Aaron Ramsdale"
          ],
          [
           "Álvaro Fernández"
          ],
          [
           "Jonas Lössl"
          ],
          [
           "Jason Steele"
          ],
          [
           "Robert Sánchez"
          ],
          [
           "Nick Pope"
          ],
          [
           "Wayne Hennessey"
          ],
          [
           "Edouard Mendy"
          ],
          [
           "Vicente Guaita"
          ],
          [
           "Jack Butland"
          ],
          [
           "Jordan Pickford"
          ],
          [
           "Kasper Schmeichel"
          ],
          [
           "Illan Meslier"
          ],
          [
           "Caoimhin Kelleher"
          ],
          [
           "Zack Steffen"
          ],
          [
           "David de Gea"
          ],
          [
           "Karl Darlow"
          ],
          [
           "Martin Dubravka"
          ],
          [
           "Tim Krul"
          ],
          [
           "Angus Gunn"
          ],
          [
           "Fraser Forster"
          ],
          [
           "Willy Caballero"
          ],
          [
           "Hugo Lloris"
          ],
          [
           "Ben Foster"
          ],
          [
           "Daniel Bachmann"
          ],
          [
           "Lukasz Fabianski"
          ],
          [
           "Alphonse Areola"
          ]
         ],
         "hovertemplate": "element_type=Goalkeeper<br>xG=%{x}<br>goals_scored=%{y}<br>player_name=%{customdata[0]}<extra></extra>",
         "legendgroup": "Goalkeeper",
         "marker": {
          "color": "red",
          "symbol": "circle"
         },
         "mode": "markers",
         "name": "Goalkeeper",
         "orientation": "v",
         "showlegend": true,
         "type": "scatter",
         "x": [
          0,
          0,
          0,
          0,
          0,
          0,
          0,
          0,
          0,
          0,
          0,
          0,
          0,
          0,
          0,
          0,
          0,
          0,
          0,
          0,
          0,
          0,
          0,
          0,
          0,
          0,
          0,
          0
         ],
         "xaxis": "x",
         "y": [
          0,
          0,
          0,
          0,
          0,
          0,
          0,
          0,
          0,
          0,
          0,
          0,
          0,
          0,
          0,
          0,
          0,
          0,
          0,
          0,
          0,
          0,
          0,
          0,
          0,
          0,
          0,
          0
         ],
         "yaxis": "y"
        },
        {
         "customdata": [
          [
           "Cédric Soares"
          ],
          [
           "Rob Holding"
          ],
          [
           "Kieran Tierney"
          ],
          [
           "Ben White"
          ],
          [
           "Takehiro Tomiyasu"
          ],
          [
           "Calum Chambers"
          ],
          [
           "Kortney Hause"
          ],
          [
           "Tyrone Mings"
          ],
          [
           "Matthew Cash"
          ],
          [
           "Ezri Konsa Ngoyo"
          ],
          [
           "Ashley Young"
          ],
          [
           "Lucas Digne"
          ],
          [
           "Pontus Jansson"
          ],
          [
           "Rico Henry"
          ],
          [
           "Mads Bech Sørensen"
          ],
          [
           "Ethan Pinnock"
          ],
          [
           "Kristoffer Ajer"
          ],
          [
           "Shane Duffy"
          ],
          [
           "Lewis Dunk"
          ],
          [
           "Adam Webster"
          ],
          [
           "Joël Veltman"
          ],
          [
           "Tariq Lamptey"
          ],
          [
           "Marc Cucurella"
          ],
          [
           "James Tarkowski"
          ],
          [
           "Erik Pieters"
          ],
          [
           "Ben Mee"
          ],
          [
           "Matthew Lowton"
          ],
          [
           "Charlie Taylor"
          ],
          [
           "Nathan Collins"
          ],
          [
           "Connor Roberts"
          ],
          [
           "César Azpilicueta"
          ],
          [
           "Marcos Alonso"
          ],
          [
           "Antonio Rüdiger"
          ],
          [
           "Andreas Christensen"
          ],
          [
           "Reece James"
          ],
          [
           "Malang Sarr"
          ],
          [
           "Trevoh Chalobah"
          ],
          [
           "James Tomkins"
          ],
          [
           "Cheikhou Kouyaté"
          ],
          [
           "Tyrick Mitchell"
          ],
          [
           "Joel Ward"
          ],
          [
           "Joachim Andersen"
          ],
          [
           "Nathaniel Clyne"
          ],
          [
           "Seamus Coleman"
          ],
          [
           "Michael Keane"
          ],
          [
           "Yerry Mina"
          ],
          [
           "Mason Holgate"
          ],
          [
           "Ben Godfrey"
          ],
          [
           "Jonjoe Kenny"
          ],
          [
           "Jarrad Branthwaite"
          ],
          [
           "Vitalii Mykolenko"
          ],
          [
           "Jonny Evans"
          ],
          [
           "Daniel Amartey"
          ],
          [
           "Timothy Castagne"
          ],
          [
           "James Justin"
          ],
          [
           "Luke Thomas"
          ],
          [
           "Jannik Vestergaard"
          ],
          [
           "Liam Cooper"
          ],
          [
           "Luke Ayling"
          ],
          [
           "Diego Llorente"
          ],
          [
           "Robin Koch"
          ],
          [
           "Pascal Struijk"
          ],
          [
           "Charlie Cresswell"
          ],
          [
           "Joel Matip"
          ],
          [
           "Virgil van Dijk"
          ],
          [
           "Andrew Robertson"
          ],
          [
           "Trent Alexander-Arnold"
          ],
          [
           "Joseph Gomez"
          ],
          [
           "Ibrahima Konaté"
          ],
          [
           "Konstantinos Tsimikas"
          ],
          [
           "Kyle Walker"
          ],
          [
           "John Stones"
          ],
          [
           "Nathan Aké"
          ],
          [
           "Aymeric Laporte"
          ],
          [
           "Rúben Santos Gato Alves Dias"
          ],
          [
           "Oleksandr Zinchenko"
          ],
          [
           "Harry Maguire"
          ],
          [
           "Luke Shaw"
          ],
          [
           "Victor Lindelöf"
          ],
          [
           "Eric Bailly"
          ],
          [
           "Aaron Wan-Bissaka"
          ],
          [
           "Phil Jones"
          ],
          [
           "Matt Targett"
          ],
          [
           "Dan Burn"
          ],
          [
           "Matt Ritchie"
          ],
          [
           "Jamaal Lascelles"
          ],
          [
           "Paul Dummett"
          ],
          [
           "Javier Manquillo"
          ],
          [
           "Emil Krafth"
          ],
          [
           "Fabian Schär"
          ],
          [
           "Federico Fernández"
          ],
          [
           "Brandon Williams"
          ],
          [
           "Grant Hanley"
          ],
          [
           "Sam Byram"
          ],
          [
           "Max Aarons"
          ],
          [
           "Jacob Sørensen"
          ],
          [
           "Ben Gibson"
          ],
          [
           "Dimitris Giannoulis"
          ],
          [
           "Ozan Kabak"
          ],
          [
           "Jack Stephens"
          ],
          [
           "Kyle Walker-Peters"
          ],
          [
           "Jan Bednarek"
          ],
          [
           "Mohammed Salisu"
          ],
          [
           "Romain Perraud"
          ],
          [
           "Yan Valery"
          ],
          [
           "Matt Doherty"
          ],
          [
           "Eric Dier"
          ],
          [
           "Ben Davies"
          ],
          [
           "Davinson Sánchez"
          ],
          [
           "Ryan Sessegnon"
          ],
          [
           "Sergio Reguilón"
          ],
          [
           "Cristian Romero"
          ],
          [
           "Craig Cathcart"
          ],
          [
           "Christian Kabasele"
          ],
          [
           "William Troost-Ekong"
          ],
          [
           "Adam Masina"
          ],
          [
           "Francisco Sierralta"
          ],
          [
           "Jeremy Ngakia"
          ],
          [
           "Hassane Kamara"
          ],
          [
           "Kurt Zouma"
          ],
          [
           "Aaron Cresswell"
          ],
          [
           "Craig Dawson"
          ],
          [
           "Ryan Fredericks"
          ],
          [
           "Arthur Masuaku"
          ],
          [
           "Issa Diop"
          ],
          [
           "Ben Johnson"
          ],
          [
           "Willy Boly"
          ],
          [
           "Conor Coady"
          ],
          [
           "Fernando Marçal"
          ],
          [
           "Max Kilman"
          ],
          [
           "Ki-Jana Hoever"
          ],
          [
           "Rayan Ait Nouri"
          ]
         ],
         "hovertemplate": "element_type=Defender<br>xG=%{x}<br>goals_scored=%{y}<br>player_name=%{customdata[0]}<extra></extra>",
         "legendgroup": "Defender",
         "marker": {
          "color": "blue",
          "symbol": "circle"
         },
         "mode": "markers",
         "name": "Defender",
         "orientation": "v",
         "showlegend": true,
         "type": "scatter",
         "x": [
          0.0711097978055477,
          0.4889362007379532,
          0.6144812004640698,
          0.5055014565587044,
          0.2693182500079274,
          0.105070374906063,
          0.0640325816348195,
          1.1800545640289783,
          1.6222466481849551,
          1.1516407397575676,
          0.3852716945111751,
          0.7803997974842787,
          2.239774087443948,
          1.500701205804944,
          0.058680523186922,
          1.7465086551383138,
          0.2215736620128154,
          0.8278952091932297,
          1.2441690703853965,
          1.3734299913048744,
          0.1447789128869772,
          0.8104112446308136,
          0.3941319193691015,
          2.3731514755636454,
          0.1498641669750213,
          2.5610949099063878,
          0.7138775950297713,
          0.108427545055747,
          0.1647187303751707,
          0.0593020999804139,
          0.7845652215182781,
          1.6831710208207369,
          1.748666631989181,
          0.7878910098224878,
          2.0194583516567945,
          0.0206521544605493,
          1.037388550117612,
          0.6890933271497488,
          0.1211588140577077,
          0.1674872580915689,
          0.2970032133162021,
          0.2915987577289343,
          0.0147142522037029,
          1.061729014851153,
          1.0053598461672664,
          0.20001863501966,
          0.9684227705001832,
          1.197433720342815,
          0.1327102091163396,
          0.5833113379776478,
          0,
          1.2847998961806295,
          0.0098498305305838,
          0.0542993023991584,
          0,
          0.1825287789106369,
          0.0387555845081806,
          0.1779925245791673,
          0.6557026989758015,
          1.2115023471415045,
          0.6564520224928856,
          1.0742318937554955,
          0,
          1.5235314117744565,
          1.735625134781003,
          1.2669859398156404,
          1.7677459958940744,
          0,
          0.0711852312088012,
          0.6347904950380325,
          0.2076803185045719,
          0.956200510263443,
          0.7131218779832125,
          2.7738655852153897,
          1.7493817331269383,
          0.1570894699543714,
          1.986979840323329,
          0.1659516524523496,
          0.0896087167784571,
          0,
          0.1864608060568571,
          0,
          0.9872296266257764,
          1.2741363598033786,
          0.3662856444716453,
          0.9930624524131416,
          0,
          0.3779595121741295,
          0.1944460272789001,
          0.4890796281397342,
          0.3371330089867115,
          0.0585550479590892,
          0.689437473192811,
          0.0995188951492309,
          0.7553038271144032,
          0.1814582012593746,
          1.3600877039134502,
          0.0357109904289245,
          0.5807486493140459,
          0,
          0.9035413153469564,
          2.6034789197146893,
          1.3813979625701904,
          0.4395200423896312,
          0.025073179975152,
          2.2516390085220337,
          0.9650365561246872,
          1.7157062822952869,
          1.98822458460927,
          0.1728937104344368,
          2.463965270668268,
          0.1812189817428589,
          0.1187146268784999,
          0.4818742275238037,
          0.1041933577507734,
          0.1415592636913061,
          0.0323923006653785,
          0.0784772187471389,
          0.0913975611329078,
          0.640797171741724,
          0.6420307010412216,
          2.1719191633164883,
          0,
          0.0428707115352153,
          0.0286491680890321,
          0.1015413915738463,
          0,
          1.741349346935749,
          0.5747353369370103,
          1.3776240274310112,
          0.0338298976421356,
          0.3620986640453338
         ],
         "xaxis": "x",
         "y": [
          0,
          0,
          1,
          0,
          0,
          1,
          1,
          1,
          3,
          2,
          0,
          0,
          1,
          2,
          0,
          1,
          0,
          1,
          1,
          2,
          0,
          0,
          0,
          1,
          0,
          3,
          1,
          0,
          0,
          0,
          0,
          1,
          2,
          0,
          5,
          0,
          3,
          1,
          0,
          0,
          0,
          0,
          0,
          1,
          2,
          0,
          0,
          0,
          0,
          1,
          0,
          1,
          0,
          0,
          0,
          0,
          0,
          0,
          1,
          2,
          0,
          0,
          0,
          1,
          3,
          1,
          2,
          0,
          0,
          0,
          0,
          1,
          1,
          3,
          2,
          0,
          1,
          0,
          0,
          0,
          0,
          0,
          1,
          1,
          0,
          1,
          0,
          1,
          0,
          1,
          0,
          0,
          1,
          0,
          0,
          0,
          0,
          0,
          0,
          0,
          1,
          3,
          0,
          0,
          0,
          1,
          0,
          0,
          2,
          0,
          2,
          0,
          0,
          0,
          0,
          0,
          0,
          0,
          0,
          1,
          1,
          2,
          0,
          1,
          0,
          1,
          0,
          2,
          0,
          1,
          0,
          0
         ],
         "yaxis": "y"
        },
        {
         "customdata": [
          [
           "Alexandre Lacazette"
          ],
          [
           "Ollie Watkins"
          ],
          [
           "Danny Ings"
          ],
          [
           "Ivan Toney"
          ],
          [
           "Neal Maupay"
          ],
          [
           "Danny Welbeck"
          ],
          [
           "Jay Rodriguez"
          ],
          [
           "Ashley Barnes"
          ],
          [
           "Matej Vydra"
          ],
          [
           "Wout Weghorst"
          ],
          [
           "Timo Werner"
          ],
          [
           "Romelu Lukaku"
          ],
          [
           "Christian Benteke"
          ],
          [
           "Jordan Ayew"
          ],
          [
           "Jean-Philippe Mateta"
          ],
          [
           "Odsonne Edouard"
          ],
          [
           "Dominic Calvert-Lewin"
          ],
          [
           "Salomón Rondón"
          ],
          [
           "Jamie Vardy"
          ],
          [
           "Kelechi Iheanacho"
          ],
          [
           "Patson Daka"
          ],
          [
           "Patrick Bamford"
          ],
          [
           "Joe Gelhardt"
          ],
          [
           "Roberto Firmino"
          ],
          [
           "Edinson Cavani"
          ],
          [
           "Chris Wood"
          ],
          [
           "Callum Wilson"
          ],
          [
           "Allan Saint-Maximin"
          ],
          [
           "Teemu Pukki"
          ],
          [
           "Adam Idah"
          ],
          [
           "Joshua Sargent"
          ],
          [
           "Che Adams"
          ],
          [
           "Armando Broja"
          ],
          [
           "Shane Long"
          ],
          [
           "Adam Armstrong"
          ],
          [
           "Harry Kane"
          ],
          [
           "Emmanuel Dennis"
          ],
          [
           "Joshua King"
          ],
          [
           "Michail Antonio"
          ],
          [
           "Raúl Jiménez"
          ],
          [
           "Fabio Silva"
          ],
          [
           "Hee-Chan Hwang"
          ]
         ],
         "hovertemplate": "element_type=Forward<br>xG=%{x}<br>goals_scored=%{y}<br>player_name=%{customdata[0]}<extra></extra>",
         "legendgroup": "Forward",
         "marker": {
          "color": "Green",
          "symbol": "circle"
         },
         "mode": "markers",
         "name": "Forward",
         "orientation": "v",
         "showlegend": true,
         "type": "scatter",
         "x": [
          6.137330990284681,
          7.79214864037931,
          4.041821029037237,
          7.095608178526163,
          6.538990665227175,
          2.573061231523752,
          3.0976101150736213,
          0.6575422324240208,
          1.1928256303071976,
          1.9977553356438875,
          2.9091455675661564,
          5.051143925637007,
          4.719367414712906,
          2.931545168161392,
          2.903859604150057,
          6.154559943825007,
          4.99976459890604,
          2.412409179843962,
          6.538666434586048,
          2.062020353972912,
          4.030671484768391,
          2.501977600157261,
          1.991069957613945,
          3.9826595038175583,
          3.3277666829526424,
          6.74560971185565,
          5.126593586988747,
          4.782842196524143,
          7.012112457305193,
          1.9293008372187612,
          2.0443058479577303,
          6.294122003018856,
          5.294967683032155,
          0.6535555273294449,
          4.09680631197989,
          12.265675738453863,
          6.454782212153077,
          7.84304716438055,
          10.042947940528393,
          6.125056066550314,
          1.341725850477815,
          3.2554577346891165
         ],
         "xaxis": "x",
         "y": [
          3,
          7,
          5,
          9,
          8,
          3,
          1,
          0,
          1,
          1,
          1,
          5,
          4,
          1,
          3,
          6,
          3,
          1,
          10,
          2,
          4,
          2,
          1,
          4,
          2,
          4,
          6,
          5,
          8,
          1,
          2,
          7,
          6,
          1,
          2,
          10,
          9,
          5,
          8,
          6,
          0,
          5
         ],
         "yaxis": "y"
        },
        {
         "customdata": [
          [
           "Granit Xhaka"
          ],
          [
           "Thomas Partey"
          ],
          [
           "Bukayo Saka"
          ],
          [
           "Albert Sambi Lokonga"
          ],
          [
           "Bertrand Traoré"
          ],
          [
           "Morgan Sanson"
          ],
          [
           "John McGinn"
          ],
          [
           "Marvelous Nakamba"
          ],
          [
           "Jacob Ramsey"
          ],
          [
           "Leon Bailey"
          ],
          [
           "Carney Chukwuemeka"
          ],
          [
           "Christian Nørgaard"
          ],
          [
           "Vitaly Janelt"
          ],
          [
           "Saman Ghoddos"
          ],
          [
           "Mathias Jensen"
          ],
          [
           "Bryan Mbeumo"
          ],
          [
           "Frank Onyeka"
          ],
          [
           "Shandon Baptiste"
          ],
          [
           "Yoane Wissa"
          ],
          [
           "Christian Eriksen"
          ],
          [
           "Adam Lallana"
          ],
          [
           "Pascal Groß"
          ],
          [
           "Leandro Trossard"
          ],
          [
           "Yves Bissouma"
          ],
          [
           "Steven Alzate"
          ],
          [
           "Alexis Mac Allister"
          ],
          [
           "Jakub Moder"
          ],
          [
           "Enock Mwepu"
          ],
          [
           "Jack Cork"
          ],
          [
           "Dale Stephens"
          ],
          [
           "Ashley Westwood"
          ],
          [
           "Josh Brownhill"
          ],
          [
           "Dwight McNeil"
          ],
          [
           "Aaron Lennon"
          ],
          [
           "Maxwel Cornet"
          ],
          [
           "Ross Barkley"
          ],
          [
           "Mateo Kovacic"
          ],
          [
           "Hakim Ziyech"
          ],
          [
           "Ruben Loftus-Cheek"
          ],
          [
           "Christian Pulisic"
          ],
          [
           "Mason Mount"
          ],
          [
           "Callum Hudson-Odoi"
          ],
          [
           "Kai Havertz"
          ],
          [
           "Saúl Ñíguez"
          ],
          [
           "Conor Gallagher"
          ],
          [
           "James McArthur"
          ],
          [
           "Luka Milivojevic"
          ],
          [
           "Wilfried Zaha"
          ],
          [
           "Jeffrey Schlupp"
          ],
          [
           "Jairo Riedewald"
          ],
          [
           "Eberechi Eze"
          ],
          [
           "Will Hughes"
          ],
          [
           "Michael Olise"
          ],
          [
           "Anwar El Ghazi"
          ],
          [
           "Fabian Delph"
          ],
          [
           "Abdoulaye Doucouré"
          ],
          [
           "Alex Iwobi"
          ],
          [
           "Donny van de Beek"
          ],
          [
           "Andros Townsend"
          ],
          [
           "Demarai Gray"
          ],
          [
           "Anthony Gordon"
          ],
          [
           "Marc Albrighton"
          ],
          [
           "Youri Tielemans"
          ],
          [
           "Ayoze Pérez"
          ],
          [
           "James Maddison"
          ],
          [
           "Hamza Choudhury"
          ],
          [
           "Harvey Barnes"
          ],
          [
           "Wilfred Ndidi"
          ],
          [
           "Kiernan Dewsbury-Hall"
          ],
          [
           "Ademola Lookman"
          ],
          [
           "Mateusz Klich"
          ],
          [
           "Stuart Dallas"
          ],
          [
           "Kalvin Phillips"
          ],
          [
           "Tyler Roberts"
          ],
          [
           "Jamie Shackleton"
          ],
          [
           "Jack Harrison"
          ],
          [
           "Daniel James"
          ],
          [
           "Crysencio Summerville"
          ],
          [
           "Adam Forshaw"
          ],
          [
           "James Milner"
          ],
          [
           "Jordan Henderson"
          ],
          [
           "Alex Oxlade-Chamberlain"
          ],
          [
           "Sadio Mané"
          ],
          [
           "Mohamed Salah"
          ],
          [
           "Naby Keita"
          ],
          [
           "Diogo Jota"
          ],
          [
           "Curtis Jones"
          ],
          [
           "Harvey Elliott"
          ],
          [
           "Luis Díaz"
          ],
          [
           "Jack Grealish"
          ],
          [
           "Ilkay Gündogan"
          ],
          [
           "Kevin De Bruyne"
          ],
          [
           "Riyad Mahrez"
          ],
          [
           "Raheem Sterling"
          ],
          [
           "Phil Foden"
          ],
          [
           "Cole Palmer"
          ],
          [
           "Nemanja Matic"
          ],
          [
           "Paul Pogba"
          ],
          [
           "Jesse Lingard"
          ],
          [
           "Marcus Rashford"
          ],
          [
           "Scott McTominay"
          ],
          [
           "Jadon Sancho"
          ],
          [
           "Anthony Elanga"
          ],
          [
           "Jonjo Shelvey"
          ],
          [
           "Ryan Fraser"
          ],
          [
           "Jacob Murphy"
          ],
          [
           "Miguel Almirón"
          ],
          [
           "Sean Longstaff"
          ],
          [
           "Billy Gilmour"
          ],
          [
           "Lukas Rupp"
          ],
          [
           "Kenny McLean"
          ],
          [
           "Kieran Dowell"
          ],
          [
           "Przemyslaw Placheta"
          ],
          [
           "Milot Rashica"
          ],
          [
           "Pierre Lees-Melou"
          ],
          [
           "Christos Tzolis"
          ],
          [
           "Mathias Normann"
          ],
          [
           "Theo Walcott"
          ],
          [
           "Nathan Redmond"
          ],
          [
           "Stuart Armstrong"
          ],
          [
           "James Ward-Prowse"
          ],
          [
           "Nathan Tella"
          ],
          [
           "Ibrahima Diallo"
          ],
          [
           "Moussa Djenepo"
          ],
          [
           "Mohamed Elyounoussi"
          ],
          [
           "Pierre-Emile Højbjerg"
          ],
          [
           "Harry Winks"
          ],
          [
           "Steven Bergwijn"
          ],
          [
           "Dejan Kulusevski"
          ],
          [
           "Rodrigo Bentancur"
          ],
          [
           "Moussa Sissoko"
          ],
          [
           "Tom Cleverley"
          ],
          [
           "Ken Sema"
          ],
          [
           "Juraj Kucka"
          ],
          [
           "Edo Kayembe"
          ],
          [
           "Mark Noble"
          ],
          [
           "Manuel Lanzini"
          ],
          [
           "Jarrod Bowen"
          ],
          [
           "Declan Rice"
          ],
          [
           "Tomas Soucek"
          ],
          [
           "Pablo Fornals"
          ],
          [
           "Nikola Vlasic"
          ],
          [
           "Leander Dendoncker"
          ]
         ],
         "hovertemplate": "element_type=Midfielder<br>xG=%{x}<br>goals_scored=%{y}<br>player_name=%{customdata[0]}<extra></extra>",
         "legendgroup": "Midfielder",
         "marker": {
          "color": "Orange",
          "symbol": "circle"
         },
         "mode": "markers",
         "name": "Midfielder",
         "orientation": "v",
         "showlegend": true,
         "type": "scatter",
         "x": [
          0.5690411180257797,
          2.1546339578926563,
          5.97535952553153,
          0.4106621332466602,
          0.1529682436957955,
          0.0118105579167604,
          1.49793472699821,
          0,
          2.913938283920288,
          1.1401313692331314,
          0.5134838670492172,
          4.182875318452716,
          2.123485867865384,
          0.6922268867492676,
          1.238945774268359,
          6.539794206619263,
          0.7653763052076101,
          0.4449052046984434,
          1.825086113996804,
          0.0492128320038318,
          0.8801136892288923,
          2.000053256750107,
          4.771370051428676,
          0.9502553041093053,
          0.0812435895204544,
          3.25041866209358,
          3.1035469863563776,
          1.5956154577434063,
          0.1095925439149141,
          0.0446143895387649,
          0.2788367597386241,
          0.7659910973161459,
          1.445264152251184,
          0.6613812446594238,
          2.203830063343048,
          0.7709845006465912,
          1.4042623564600945,
          2.5504362620413303,
          0.7562576532363892,
          4.515827365219593,
          6.053199827671051,
          2.775725405663252,
          5.620521150529385,
          0.0809134300798177,
          7.112181412056088,
          0.2333385087549686,
          0.2893703170120716,
          6.303926387801766,
          2.253535246476531,
          0,
          0.0419322848320007,
          0.0815527681261301,
          1.081308640539646,
          0.9790221825242044,
          0.0133977904915809,
          1.7508166581392288,
          1.8009522017091513,
          0.8427473604679108,
          2.188496366143226,
          3.2441350910812616,
          2.203430777415633,
          0.41476721316576,
          3.963926490396261,
          0.9622879773378372,
          4.512528534978628,
          0.0202268231660127,
          3.8641328997910014,
          0.5835883095860481,
          0.8075508624315262,
          3.738644020631909,
          2.3948664274066687,
          1.7024079719558358,
          0.6855863500386477,
          2.4348467718809843,
          0.1673048697412014,
          3.3870617765933275,
          6.029694464057684,
          0.3223912231624126,
          0.3802642486989498,
          0.2743346411734819,
          1.1205918174237013,
          1.1809543520212171,
          14.396435152739286,
          19.89119153469801,
          0.9175454396754504,
          13.914576683193443,
          0.5919512333348393,
          0.4808208048343658,
          1.6619602143764496,
          4.662041120231152,
          7.326865121722221,
          3.8522378485649824,
          8.013188323006034,
          11.37231402285397,
          7.664534471929073,
          0.280721366405487,
          0.158847420476377,
          2.090287022292614,
          0.5386798195540905,
          2.6224545165896416,
          0.8952525183558464,
          3.815535623580218,
          2.1791431177407503,
          0.7424793783575296,
          2.379898665472865,
          2.055495814420283,
          0.8486099801957607,
          0.6790169896557927,
          0.571153343655169,
          0.4285062281414866,
          1.336657889187336,
          0.1798663921654224,
          0.3261748496443033,
          1.596187099814415,
          0.9599262522533536,
          0.3333490621298551,
          0.658739254809916,
          0.862159663811326,
          1.460683104582131,
          2.354758959263563,
          3.4997627045959234,
          0.6171830762177706,
          0.3187319859862327,
          1.254247801378369,
          4.335542596876621,
          2.186291830614209,
          0.0504800844937562,
          2.53124425560236,
          1.1291610151529312,
          0.0409077489748597,
          3.22241890989244,
          0.6841247100383043,
          0.0732036642730236,
          1.3110647955909371,
          0.0414977483451366,
          1.5223376750946045,
          2.536151068285108,
          10.57111357152462,
          0.6787159079685807,
          4.550642538815737,
          3.6441493202000856,
          0.8438284117728472,
          1.6469853483140469
         ],
         "xaxis": "x",
         "y": [
          0,
          1,
          8,
          0,
          0,
          0,
          3,
          0,
          5,
          1,
          0,
          2,
          2,
          1,
          0,
          3,
          0,
          1,
          3,
          0,
          0,
          0,
          4,
          0,
          0,
          4,
          0,
          1,
          0,
          0,
          0,
          1,
          0,
          2,
          6,
          0,
          2,
          4,
          0,
          4,
          8,
          1,
          5,
          0,
          8,
          0,
          0,
          9,
          3,
          0,
          0,
          0,
          2,
          1,
          0,
          2,
          1,
          1,
          3,
          5,
          3,
          1,
          6,
          0,
          7,
          0,
          3,
          0,
          0,
          4,
          1,
          1,
          0,
          1,
          0,
          4,
          4,
          0,
          0,
          0,
          2,
          2,
          12,
          19,
          2,
          12,
          1,
          0,
          1,
          2,
          5,
          9,
          10,
          10,
          7,
          0,
          0,
          1,
          2,
          4,
          1,
          3,
          2,
          2,
          2,
          1,
          0,
          1,
          0,
          0,
          0,
          0,
          0,
          1,
          0,
          0,
          1,
          0,
          0,
          2,
          6,
          0,
          0,
          0,
          3,
          2,
          0,
          2,
          2,
          0,
          2,
          0,
          0,
          1,
          0,
          1,
          4,
          8,
          1,
          4,
          5,
          1,
          1
         ],
         "yaxis": "y"
        }
       ],
       "layout": {
        "legend": {
         "title": {
          "text": "element_type"
         },
         "tracegroupgap": 0
        },
        "template": {
         "data": {
          "bar": [
           {
            "error_x": {
             "color": "#2a3f5f"
            },
            "error_y": {
             "color": "#2a3f5f"
            },
            "marker": {
             "line": {
              "color": "#E5ECF6",
              "width": 0.5
             },
             "pattern": {
              "fillmode": "overlay",
              "size": 10,
              "solidity": 0.2
             }
            },
            "type": "bar"
           }
          ],
          "barpolar": [
           {
            "marker": {
             "line": {
              "color": "#E5ECF6",
              "width": 0.5
             },
             "pattern": {
              "fillmode": "overlay",
              "size": 10,
              "solidity": 0.2
             }
            },
            "type": "barpolar"
           }
          ],
          "carpet": [
           {
            "aaxis": {
             "endlinecolor": "#2a3f5f",
             "gridcolor": "white",
             "linecolor": "white",
             "minorgridcolor": "white",
             "startlinecolor": "#2a3f5f"
            },
            "baxis": {
             "endlinecolor": "#2a3f5f",
             "gridcolor": "white",
             "linecolor": "white",
             "minorgridcolor": "white",
             "startlinecolor": "#2a3f5f"
            },
            "type": "carpet"
           }
          ],
          "choropleth": [
           {
            "colorbar": {
             "outlinewidth": 0,
             "ticks": ""
            },
            "type": "choropleth"
           }
          ],
          "contour": [
           {
            "colorbar": {
             "outlinewidth": 0,
             "ticks": ""
            },
            "colorscale": [
             [
              0,
              "#0d0887"
             ],
             [
              0.1111111111111111,
              "#46039f"
             ],
             [
              0.2222222222222222,
              "#7201a8"
             ],
             [
              0.3333333333333333,
              "#9c179e"
             ],
             [
              0.4444444444444444,
              "#bd3786"
             ],
             [
              0.5555555555555556,
              "#d8576b"
             ],
             [
              0.6666666666666666,
              "#ed7953"
             ],
             [
              0.7777777777777778,
              "#fb9f3a"
             ],
             [
              0.8888888888888888,
              "#fdca26"
             ],
             [
              1,
              "#f0f921"
             ]
            ],
            "type": "contour"
           }
          ],
          "contourcarpet": [
           {
            "colorbar": {
             "outlinewidth": 0,
             "ticks": ""
            },
            "type": "contourcarpet"
           }
          ],
          "heatmap": [
           {
            "colorbar": {
             "outlinewidth": 0,
             "ticks": ""
            },
            "colorscale": [
             [
              0,
              "#0d0887"
             ],
             [
              0.1111111111111111,
              "#46039f"
             ],
             [
              0.2222222222222222,
              "#7201a8"
             ],
             [
              0.3333333333333333,
              "#9c179e"
             ],
             [
              0.4444444444444444,
              "#bd3786"
             ],
             [
              0.5555555555555556,
              "#d8576b"
             ],
             [
              0.6666666666666666,
              "#ed7953"
             ],
             [
              0.7777777777777778,
              "#fb9f3a"
             ],
             [
              0.8888888888888888,
              "#fdca26"
             ],
             [
              1,
              "#f0f921"
             ]
            ],
            "type": "heatmap"
           }
          ],
          "heatmapgl": [
           {
            "colorbar": {
             "outlinewidth": 0,
             "ticks": ""
            },
            "colorscale": [
             [
              0,
              "#0d0887"
             ],
             [
              0.1111111111111111,
              "#46039f"
             ],
             [
              0.2222222222222222,
              "#7201a8"
             ],
             [
              0.3333333333333333,
              "#9c179e"
             ],
             [
              0.4444444444444444,
              "#bd3786"
             ],
             [
              0.5555555555555556,
              "#d8576b"
             ],
             [
              0.6666666666666666,
              "#ed7953"
             ],
             [
              0.7777777777777778,
              "#fb9f3a"
             ],
             [
              0.8888888888888888,
              "#fdca26"
             ],
             [
              1,
              "#f0f921"
             ]
            ],
            "type": "heatmapgl"
           }
          ],
          "histogram": [
           {
            "marker": {
             "pattern": {
              "fillmode": "overlay",
              "size": 10,
              "solidity": 0.2
             }
            },
            "type": "histogram"
           }
          ],
          "histogram2d": [
           {
            "colorbar": {
             "outlinewidth": 0,
             "ticks": ""
            },
            "colorscale": [
             [
              0,
              "#0d0887"
             ],
             [
              0.1111111111111111,
              "#46039f"
             ],
             [
              0.2222222222222222,
              "#7201a8"
             ],
             [
              0.3333333333333333,
              "#9c179e"
             ],
             [
              0.4444444444444444,
              "#bd3786"
             ],
             [
              0.5555555555555556,
              "#d8576b"
             ],
             [
              0.6666666666666666,
              "#ed7953"
             ],
             [
              0.7777777777777778,
              "#fb9f3a"
             ],
             [
              0.8888888888888888,
              "#fdca26"
             ],
             [
              1,
              "#f0f921"
             ]
            ],
            "type": "histogram2d"
           }
          ],
          "histogram2dcontour": [
           {
            "colorbar": {
             "outlinewidth": 0,
             "ticks": ""
            },
            "colorscale": [
             [
              0,
              "#0d0887"
             ],
             [
              0.1111111111111111,
              "#46039f"
             ],
             [
              0.2222222222222222,
              "#7201a8"
             ],
             [
              0.3333333333333333,
              "#9c179e"
             ],
             [
              0.4444444444444444,
              "#bd3786"
             ],
             [
              0.5555555555555556,
              "#d8576b"
             ],
             [
              0.6666666666666666,
              "#ed7953"
             ],
             [
              0.7777777777777778,
              "#fb9f3a"
             ],
             [
              0.8888888888888888,
              "#fdca26"
             ],
             [
              1,
              "#f0f921"
             ]
            ],
            "type": "histogram2dcontour"
           }
          ],
          "mesh3d": [
           {
            "colorbar": {
             "outlinewidth": 0,
             "ticks": ""
            },
            "type": "mesh3d"
           }
          ],
          "parcoords": [
           {
            "line": {
             "colorbar": {
              "outlinewidth": 0,
              "ticks": ""
             }
            },
            "type": "parcoords"
           }
          ],
          "pie": [
           {
            "automargin": true,
            "type": "pie"
           }
          ],
          "scatter": [
           {
            "marker": {
             "colorbar": {
              "outlinewidth": 0,
              "ticks": ""
             }
            },
            "type": "scatter"
           }
          ],
          "scatter3d": [
           {
            "line": {
             "colorbar": {
              "outlinewidth": 0,
              "ticks": ""
             }
            },
            "marker": {
             "colorbar": {
              "outlinewidth": 0,
              "ticks": ""
             }
            },
            "type": "scatter3d"
           }
          ],
          "scattercarpet": [
           {
            "marker": {
             "colorbar": {
              "outlinewidth": 0,
              "ticks": ""
             }
            },
            "type": "scattercarpet"
           }
          ],
          "scattergeo": [
           {
            "marker": {
             "colorbar": {
              "outlinewidth": 0,
              "ticks": ""
             }
            },
            "type": "scattergeo"
           }
          ],
          "scattergl": [
           {
            "marker": {
             "colorbar": {
              "outlinewidth": 0,
              "ticks": ""
             }
            },
            "type": "scattergl"
           }
          ],
          "scattermapbox": [
           {
            "marker": {
             "colorbar": {
              "outlinewidth": 0,
              "ticks": ""
             }
            },
            "type": "scattermapbox"
           }
          ],
          "scatterpolar": [
           {
            "marker": {
             "colorbar": {
              "outlinewidth": 0,
              "ticks": ""
             }
            },
            "type": "scatterpolar"
           }
          ],
          "scatterpolargl": [
           {
            "marker": {
             "colorbar": {
              "outlinewidth": 0,
              "ticks": ""
             }
            },
            "type": "scatterpolargl"
           }
          ],
          "scatterternary": [
           {
            "marker": {
             "colorbar": {
              "outlinewidth": 0,
              "ticks": ""
             }
            },
            "type": "scatterternary"
           }
          ],
          "surface": [
           {
            "colorbar": {
             "outlinewidth": 0,
             "ticks": ""
            },
            "colorscale": [
             [
              0,
              "#0d0887"
             ],
             [
              0.1111111111111111,
              "#46039f"
             ],
             [
              0.2222222222222222,
              "#7201a8"
             ],
             [
              0.3333333333333333,
              "#9c179e"
             ],
             [
              0.4444444444444444,
              "#bd3786"
             ],
             [
              0.5555555555555556,
              "#d8576b"
             ],
             [
              0.6666666666666666,
              "#ed7953"
             ],
             [
              0.7777777777777778,
              "#fb9f3a"
             ],
             [
              0.8888888888888888,
              "#fdca26"
             ],
             [
              1,
              "#f0f921"
             ]
            ],
            "type": "surface"
           }
          ],
          "table": [
           {
            "cells": {
             "fill": {
              "color": "#EBF0F8"
             },
             "line": {
              "color": "white"
             }
            },
            "header": {
             "fill": {
              "color": "#C8D4E3"
             },
             "line": {
              "color": "white"
             }
            },
            "type": "table"
           }
          ]
         },
         "layout": {
          "annotationdefaults": {
           "arrowcolor": "#2a3f5f",
           "arrowhead": 0,
           "arrowwidth": 1
          },
          "autotypenumbers": "strict",
          "coloraxis": {
           "colorbar": {
            "outlinewidth": 0,
            "ticks": ""
           }
          },
          "colorscale": {
           "diverging": [
            [
             0,
             "#8e0152"
            ],
            [
             0.1,
             "#c51b7d"
            ],
            [
             0.2,
             "#de77ae"
            ],
            [
             0.3,
             "#f1b6da"
            ],
            [
             0.4,
             "#fde0ef"
            ],
            [
             0.5,
             "#f7f7f7"
            ],
            [
             0.6,
             "#e6f5d0"
            ],
            [
             0.7,
             "#b8e186"
            ],
            [
             0.8,
             "#7fbc41"
            ],
            [
             0.9,
             "#4d9221"
            ],
            [
             1,
             "#276419"
            ]
           ],
           "sequential": [
            [
             0,
             "#0d0887"
            ],
            [
             0.1111111111111111,
             "#46039f"
            ],
            [
             0.2222222222222222,
             "#7201a8"
            ],
            [
             0.3333333333333333,
             "#9c179e"
            ],
            [
             0.4444444444444444,
             "#bd3786"
            ],
            [
             0.5555555555555556,
             "#d8576b"
            ],
            [
             0.6666666666666666,
             "#ed7953"
            ],
            [
             0.7777777777777778,
             "#fb9f3a"
            ],
            [
             0.8888888888888888,
             "#fdca26"
            ],
            [
             1,
             "#f0f921"
            ]
           ],
           "sequentialminus": [
            [
             0,
             "#0d0887"
            ],
            [
             0.1111111111111111,
             "#46039f"
            ],
            [
             0.2222222222222222,
             "#7201a8"
            ],
            [
             0.3333333333333333,
             "#9c179e"
            ],
            [
             0.4444444444444444,
             "#bd3786"
            ],
            [
             0.5555555555555556,
             "#d8576b"
            ],
            [
             0.6666666666666666,
             "#ed7953"
            ],
            [
             0.7777777777777778,
             "#fb9f3a"
            ],
            [
             0.8888888888888888,
             "#fdca26"
            ],
            [
             1,
             "#f0f921"
            ]
           ]
          },
          "colorway": [
           "#636efa",
           "#EF553B",
           "#00cc96",
           "#ab63fa",
           "#FFA15A",
           "#19d3f3",
           "#FF6692",
           "#B6E880",
           "#FF97FF",
           "#FECB52"
          ],
          "font": {
           "color": "#2a3f5f"
          },
          "geo": {
           "bgcolor": "white",
           "lakecolor": "white",
           "landcolor": "#E5ECF6",
           "showlakes": true,
           "showland": true,
           "subunitcolor": "white"
          },
          "hoverlabel": {
           "align": "left"
          },
          "hovermode": "closest",
          "mapbox": {
           "style": "light"
          },
          "paper_bgcolor": "white",
          "plot_bgcolor": "#E5ECF6",
          "polar": {
           "angularaxis": {
            "gridcolor": "white",
            "linecolor": "white",
            "ticks": ""
           },
           "bgcolor": "#E5ECF6",
           "radialaxis": {
            "gridcolor": "white",
            "linecolor": "white",
            "ticks": ""
           }
          },
          "scene": {
           "xaxis": {
            "backgroundcolor": "#E5ECF6",
            "gridcolor": "white",
            "gridwidth": 2,
            "linecolor": "white",
            "showbackground": true,
            "ticks": "",
            "zerolinecolor": "white"
           },
           "yaxis": {
            "backgroundcolor": "#E5ECF6",
            "gridcolor": "white",
            "gridwidth": 2,
            "linecolor": "white",
            "showbackground": true,
            "ticks": "",
            "zerolinecolor": "white"
           },
           "zaxis": {
            "backgroundcolor": "#E5ECF6",
            "gridcolor": "white",
            "gridwidth": 2,
            "linecolor": "white",
            "showbackground": true,
            "ticks": "",
            "zerolinecolor": "white"
           }
          },
          "shapedefaults": {
           "line": {
            "color": "#2a3f5f"
           }
          },
          "ternary": {
           "aaxis": {
            "gridcolor": "white",
            "linecolor": "white",
            "ticks": ""
           },
           "baxis": {
            "gridcolor": "white",
            "linecolor": "white",
            "ticks": ""
           },
           "bgcolor": "#E5ECF6",
           "caxis": {
            "gridcolor": "white",
            "linecolor": "white",
            "ticks": ""
           }
          },
          "title": {
           "x": 0.05
          },
          "xaxis": {
           "automargin": true,
           "gridcolor": "white",
           "linecolor": "white",
           "ticks": "",
           "title": {
            "standoff": 15
           },
           "zerolinecolor": "white",
           "zerolinewidth": 2
          },
          "yaxis": {
           "automargin": true,
           "gridcolor": "white",
           "linecolor": "white",
           "ticks": "",
           "title": {
            "standoff": 15
           },
           "zerolinecolor": "white",
           "zerolinewidth": 2
          }
         }
        },
        "title": {
         "text": "Goals scored vs xG"
        },
        "xaxis": {
         "anchor": "y",
         "domain": [
          0,
          1
         ],
         "title": {
          "text": "xG"
         }
        },
        "yaxis": {
         "anchor": "x",
         "domain": [
          0,
          1
         ],
         "title": {
          "text": "goals_scored"
         }
        }
       }
      }
     },
     "metadata": {},
     "output_type": "display_data"
    }
   ],
   "source": [
    "px.scatter(df, \n",
    "           x='xG', y='goals_scored',\n",
    "           color='element_type',\n",
    "           color_discrete_map=position_colors,\n",
    "           hover_data= ['player_name'],\n",
    "           title='Goals scored vs xG'\n",
    "              )\n",
    "\n",
    "#sns.scatterplot(x = df['xG'], y = df['goals_scored'], hue=df['element_type'], palette=position_colors)"
   ]
  },
  {
   "cell_type": "code",
   "execution_count": 12,
   "metadata": {},
   "outputs": [
    {
     "data": {
      "application/vnd.plotly.v1+json": {
       "config": {
        "plotlyServerURL": "https://plot.ly"
       },
       "data": [
        {
         "customdata": [
          [
           "Bernd Leno"
          ],
          [
           "Aaron Ramsdale"
          ],
          [
           "Álvaro Fernández"
          ],
          [
           "Jonas Lössl"
          ],
          [
           "Jason Steele"
          ],
          [
           "Robert Sánchez"
          ],
          [
           "Nick Pope"
          ],
          [
           "Wayne Hennessey"
          ],
          [
           "Edouard Mendy"
          ],
          [
           "Vicente Guaita"
          ],
          [
           "Jack Butland"
          ],
          [
           "Jordan Pickford"
          ],
          [
           "Kasper Schmeichel"
          ],
          [
           "Illan Meslier"
          ],
          [
           "Caoimhin Kelleher"
          ],
          [
           "Zack Steffen"
          ],
          [
           "David de Gea"
          ],
          [
           "Karl Darlow"
          ],
          [
           "Martin Dubravka"
          ],
          [
           "Tim Krul"
          ],
          [
           "Angus Gunn"
          ],
          [
           "Fraser Forster"
          ],
          [
           "Willy Caballero"
          ],
          [
           "Hugo Lloris"
          ],
          [
           "Ben Foster"
          ],
          [
           "Daniel Bachmann"
          ],
          [
           "Lukasz Fabianski"
          ],
          [
           "Alphonse Areola"
          ]
         ],
         "hovertemplate": "element_type=Goalkeeper<br>xA=%{x}<br>assists=%{y}<br>player_name=%{customdata[0]}<extra></extra>",
         "legendgroup": "Goalkeeper",
         "marker": {
          "color": "red",
          "symbol": "circle"
         },
         "mode": "markers",
         "name": "Goalkeeper",
         "orientation": "v",
         "showlegend": true,
         "type": "scatter",
         "x": [
          0,
          0,
          0,
          0,
          0,
          0.6362467408180237,
          0.0706123113632202,
          0.1527586430311203,
          0,
          0,
          0,
          0.0770951267331838,
          0.015869190916419,
          0,
          0,
          0,
          0,
          0,
          0,
          0,
          0,
          0,
          0,
          0.2063242979347705,
          0.0675887167453765,
          0,
          0,
          0
         ],
         "xaxis": "x",
         "y": [
          0,
          0,
          0,
          0,
          0,
          0,
          0,
          0,
          0,
          0,
          0,
          0,
          0,
          0,
          0,
          0,
          0,
          0,
          0,
          0,
          0,
          0,
          0,
          0,
          1,
          0,
          0,
          0
         ],
         "yaxis": "y"
        },
        {
         "customdata": [
          [
           "Cédric Soares"
          ],
          [
           "Rob Holding"
          ],
          [
           "Kieran Tierney"
          ],
          [
           "Ben White"
          ],
          [
           "Takehiro Tomiyasu"
          ],
          [
           "Calum Chambers"
          ],
          [
           "Kortney Hause"
          ],
          [
           "Tyrone Mings"
          ],
          [
           "Matthew Cash"
          ],
          [
           "Ezri Konsa Ngoyo"
          ],
          [
           "Ashley Young"
          ],
          [
           "Lucas Digne"
          ],
          [
           "Pontus Jansson"
          ],
          [
           "Rico Henry"
          ],
          [
           "Mads Bech Sørensen"
          ],
          [
           "Ethan Pinnock"
          ],
          [
           "Kristoffer Ajer"
          ],
          [
           "Shane Duffy"
          ],
          [
           "Lewis Dunk"
          ],
          [
           "Adam Webster"
          ],
          [
           "Joël Veltman"
          ],
          [
           "Tariq Lamptey"
          ],
          [
           "Marc Cucurella"
          ],
          [
           "James Tarkowski"
          ],
          [
           "Erik Pieters"
          ],
          [
           "Ben Mee"
          ],
          [
           "Matthew Lowton"
          ],
          [
           "Charlie Taylor"
          ],
          [
           "Nathan Collins"
          ],
          [
           "Connor Roberts"
          ],
          [
           "César Azpilicueta"
          ],
          [
           "Marcos Alonso"
          ],
          [
           "Antonio Rüdiger"
          ],
          [
           "Andreas Christensen"
          ],
          [
           "Reece James"
          ],
          [
           "Malang Sarr"
          ],
          [
           "Trevoh Chalobah"
          ],
          [
           "James Tomkins"
          ],
          [
           "Cheikhou Kouyaté"
          ],
          [
           "Tyrick Mitchell"
          ],
          [
           "Joel Ward"
          ],
          [
           "Joachim Andersen"
          ],
          [
           "Nathaniel Clyne"
          ],
          [
           "Seamus Coleman"
          ],
          [
           "Michael Keane"
          ],
          [
           "Yerry Mina"
          ],
          [
           "Mason Holgate"
          ],
          [
           "Ben Godfrey"
          ],
          [
           "Jonjoe Kenny"
          ],
          [
           "Jarrad Branthwaite"
          ],
          [
           "Vitalii Mykolenko"
          ],
          [
           "Jonny Evans"
          ],
          [
           "Daniel Amartey"
          ],
          [
           "Timothy Castagne"
          ],
          [
           "James Justin"
          ],
          [
           "Luke Thomas"
          ],
          [
           "Jannik Vestergaard"
          ],
          [
           "Liam Cooper"
          ],
          [
           "Luke Ayling"
          ],
          [
           "Diego Llorente"
          ],
          [
           "Robin Koch"
          ],
          [
           "Pascal Struijk"
          ],
          [
           "Charlie Cresswell"
          ],
          [
           "Joel Matip"
          ],
          [
           "Virgil van Dijk"
          ],
          [
           "Andrew Robertson"
          ],
          [
           "Trent Alexander-Arnold"
          ],
          [
           "Joseph Gomez"
          ],
          [
           "Ibrahima Konaté"
          ],
          [
           "Konstantinos Tsimikas"
          ],
          [
           "Kyle Walker"
          ],
          [
           "John Stones"
          ],
          [
           "Nathan Aké"
          ],
          [
           "Aymeric Laporte"
          ],
          [
           "Rúben Santos Gato Alves Dias"
          ],
          [
           "Oleksandr Zinchenko"
          ],
          [
           "Harry Maguire"
          ],
          [
           "Luke Shaw"
          ],
          [
           "Victor Lindelöf"
          ],
          [
           "Eric Bailly"
          ],
          [
           "Aaron Wan-Bissaka"
          ],
          [
           "Phil Jones"
          ],
          [
           "Matt Targett"
          ],
          [
           "Dan Burn"
          ],
          [
           "Matt Ritchie"
          ],
          [
           "Jamaal Lascelles"
          ],
          [
           "Paul Dummett"
          ],
          [
           "Javier Manquillo"
          ],
          [
           "Emil Krafth"
          ],
          [
           "Fabian Schär"
          ],
          [
           "Federico Fernández"
          ],
          [
           "Brandon Williams"
          ],
          [
           "Grant Hanley"
          ],
          [
           "Sam Byram"
          ],
          [
           "Max Aarons"
          ],
          [
           "Jacob Sørensen"
          ],
          [
           "Ben Gibson"
          ],
          [
           "Dimitris Giannoulis"
          ],
          [
           "Ozan Kabak"
          ],
          [
           "Jack Stephens"
          ],
          [
           "Kyle Walker-Peters"
          ],
          [
           "Jan Bednarek"
          ],
          [
           "Mohammed Salisu"
          ],
          [
           "Romain Perraud"
          ],
          [
           "Yan Valery"
          ],
          [
           "Matt Doherty"
          ],
          [
           "Eric Dier"
          ],
          [
           "Ben Davies"
          ],
          [
           "Davinson Sánchez"
          ],
          [
           "Ryan Sessegnon"
          ],
          [
           "Sergio Reguilón"
          ],
          [
           "Cristian Romero"
          ],
          [
           "Craig Cathcart"
          ],
          [
           "Christian Kabasele"
          ],
          [
           "William Troost-Ekong"
          ],
          [
           "Adam Masina"
          ],
          [
           "Francisco Sierralta"
          ],
          [
           "Jeremy Ngakia"
          ],
          [
           "Hassane Kamara"
          ],
          [
           "Kurt Zouma"
          ],
          [
           "Aaron Cresswell"
          ],
          [
           "Craig Dawson"
          ],
          [
           "Ryan Fredericks"
          ],
          [
           "Arthur Masuaku"
          ],
          [
           "Issa Diop"
          ],
          [
           "Ben Johnson"
          ],
          [
           "Willy Boly"
          ],
          [
           "Conor Coady"
          ],
          [
           "Fernando Marçal"
          ],
          [
           "Max Kilman"
          ],
          [
           "Ki-Jana Hoever"
          ],
          [
           "Rayan Ait Nouri"
          ]
         ],
         "hovertemplate": "element_type=Defender<br>xA=%{x}<br>assists=%{y}<br>player_name=%{customdata[0]}<extra></extra>",
         "legendgroup": "Defender",
         "marker": {
          "color": "blue",
          "symbol": "circle"
         },
         "mode": "markers",
         "name": "Defender",
         "orientation": "v",
         "showlegend": true,
         "type": "scatter",
         "x": [
          0.3677573464810848,
          0,
          1.150213511660695,
          1.134619476273656,
          0.8683442883193493,
          0.0555610507726669,
          0,
          1.1579454354941845,
          2.7651955727487803,
          0.2706998288631439,
          0.3717363448813557,
          2.405578799545765,
          0.4942300096154213,
          0.5246701184660196,
          0.1333552990108728,
          1.7245037853717804,
          0.9794593304395676,
          0.0819577015936374,
          0.095023937523365,
          0.0369059294462204,
          1.4837300069630146,
          2.203330250456929,
          1.967729679308832,
          0.2838664501905441,
          0.0204200576990842,
          1.2749733906239271,
          2.0866365376859903,
          1.6444662027060986,
          0.5499800555408001,
          0.3161044120788574,
          1.956879323348403,
          2.961708150804043,
          0.7046160791069269,
          0.1679816264659166,
          4.61812474578619,
          0.361977607011795,
          0.1202509701251983,
          0.3527828902006149,
          0.5975878108292818,
          1.8649194464087488,
          0.3251228369772434,
          0.5206340784206986,
          0.034269593656063,
          0.5437640883028507,
          1.3396282345056534,
          0,
          0,
          0.6254459293559194,
          0.3345212452113628,
          0,
          0,
          0.4210729673504829,
          0.1808526515960693,
          0.3571612723171711,
          0.238167442381382,
          1.3112468998879194,
          0.0672715455293655,
          0.0830003097653389,
          1.9833142841234803,
          0.0478120651096105,
          0.1651592478156089,
          0.3201574701815843,
          0,
          0.8033009953796864,
          1.4132683537900448,
          4.736449524760246,
          10.791974158026278,
          0.0410771481692791,
          0,
          1.7341715060174463,
          1.4295887760818005,
          0.0998304821550846,
          0.617275595664978,
          0.397720230743289,
          2.5079004913568497,
          0.6696433834731579,
          0.0503690363839268,
          3.610125934705138,
          0.6558026969432831,
          0,
          0.9214210398495196,
          0,
          2.970207580365241,
          0.8176510129123926,
          1.9647234054282308,
          0.2316509298980236,
          0,
          0.4709691517055034,
          0.8791877049952745,
          1.2566925399005413,
          0.2842389643192291,
          1.8073991034179928,
          0.2979576885700226,
          0.1200375482439994,
          1.4177726674824953,
          0,
          0.1156430328264832,
          0.410059530287981,
          0.0303338142111897,
          0.2442822121083736,
          2.845248769968748,
          0.3253357950598001,
          0.5275280196219683,
          0.2779939407482743,
          0.2550512850284576,
          1.9641865603625772,
          1.2294063176959753,
          0.4708574563264847,
          0.1723331529647112,
          0.5429178094491363,
          3.3480468429625034,
          0.1488732025027275,
          1.4212617091834543,
          0.0532903671264648,
          0.0705595538020134,
          0.6399356294423342,
          0,
          0.1568174585700035,
          0.562067405320704,
          0.0838833805173635,
          2.7334696128964424,
          0.6956739276647568,
          0.0535743311047554,
          0.7584338430315256,
          0.2918313443660736,
          0.4671482313424349,
          0,
          0.0130844162777066,
          0.5654059555381536,
          0.1449058810248971,
          0.0863142684102058,
          1.561429723165929
         ],
         "xaxis": "x",
         "y": [
          0,
          0,
          3,
          0,
          1,
          0,
          0,
          4,
          3,
          0,
          2,
          1,
          4,
          0,
          0,
          1,
          2,
          1,
          0,
          0,
          1,
          2,
          1,
          2,
          0,
          0,
          3,
          1,
          0,
          1,
          3,
          4,
          3,
          0,
          6,
          0,
          1,
          0,
          1,
          2,
          0,
          2,
          0,
          1,
          2,
          0,
          1,
          0,
          1,
          0,
          0,
          1,
          0,
          0,
          0,
          1,
          0,
          2,
          2,
          0,
          0,
          1,
          0,
          1,
          2,
          10,
          11,
          0,
          0,
          2,
          2,
          0,
          0,
          2,
          3,
          1,
          0,
          3,
          2,
          0,
          0,
          0,
          2,
          1,
          2,
          1,
          0,
          3,
          1,
          2,
          1,
          1,
          0,
          0,
          1,
          0,
          0,
          1,
          0,
          0,
          2,
          0,
          0,
          1,
          0,
          4,
          1,
          2,
          0,
          2,
          3,
          0,
          1,
          0,
          0,
          0,
          0,
          0,
          0,
          0,
          4,
          1,
          0,
          1,
          1,
          0,
          0,
          0,
          2,
          1,
          0,
          4
         ],
         "yaxis": "y"
        },
        {
         "customdata": [
          [
           "Alexandre Lacazette"
          ],
          [
           "Ollie Watkins"
          ],
          [
           "Danny Ings"
          ],
          [
           "Ivan Toney"
          ],
          [
           "Neal Maupay"
          ],
          [
           "Danny Welbeck"
          ],
          [
           "Jay Rodriguez"
          ],
          [
           "Ashley Barnes"
          ],
          [
           "Matej Vydra"
          ],
          [
           "Wout Weghorst"
          ],
          [
           "Timo Werner"
          ],
          [
           "Romelu Lukaku"
          ],
          [
           "Christian Benteke"
          ],
          [
           "Jordan Ayew"
          ],
          [
           "Jean-Philippe Mateta"
          ],
          [
           "Odsonne Edouard"
          ],
          [
           "Dominic Calvert-Lewin"
          ],
          [
           "Salomón Rondón"
          ],
          [
           "Jamie Vardy"
          ],
          [
           "Kelechi Iheanacho"
          ],
          [
           "Patson Daka"
          ],
          [
           "Patrick Bamford"
          ],
          [
           "Joe Gelhardt"
          ],
          [
           "Roberto Firmino"
          ],
          [
           "Edinson Cavani"
          ],
          [
           "Chris Wood"
          ],
          [
           "Callum Wilson"
          ],
          [
           "Allan Saint-Maximin"
          ],
          [
           "Teemu Pukki"
          ],
          [
           "Adam Idah"
          ],
          [
           "Joshua Sargent"
          ],
          [
           "Che Adams"
          ],
          [
           "Armando Broja"
          ],
          [
           "Shane Long"
          ],
          [
           "Adam Armstrong"
          ],
          [
           "Harry Kane"
          ],
          [
           "Emmanuel Dennis"
          ],
          [
           "Joshua King"
          ],
          [
           "Michail Antonio"
          ],
          [
           "Raúl Jiménez"
          ],
          [
           "Fabio Silva"
          ],
          [
           "Hee-Chan Hwang"
          ]
         ],
         "hovertemplate": "element_type=Forward<br>xA=%{x}<br>assists=%{y}<br>player_name=%{customdata[0]}<extra></extra>",
         "legendgroup": "Forward",
         "marker": {
          "color": "Green",
          "symbol": "circle"
         },
         "mode": "markers",
         "name": "Forward",
         "orientation": "v",
         "showlegend": true,
         "type": "scatter",
         "x": [
          2.796951025724411,
          1.828206181526184,
          1.0431258771568537,
          4.48953405674547,
          1.955231294035912,
          0.2148136645555496,
          1.7781125698238611,
          0.3867453038692474,
          0.1781554520130157,
          0.7530978433787823,
          0.0854049511253833,
          2.356433991342783,
          1.6455406285822392,
          2.942340726032853,
          0.4920910112559795,
          1.9331107567995789,
          0.283976212143898,
          0.5214151497930288,
          1.2708313576877115,
          2.203008908778429,
          1.4648500755429268,
          0.4631695235148072,
          0.5918155647814274,
          1.472150744870305,
          1.0626687463372946,
          1.215698870830238,
          0.4431503433734178,
          3.9745332580059767,
          1.7654086481779814,
          0.4609227031469345,
          0.5363336000591516,
          2.070286300033331,
          0.6405650749802589,
          0,
          1.624623842537403,
          5.718805953860283,
          3.3322388380765915,
          3.7709941789507866,
          5.436785809695721,
          2.392231646925211,
          0.3367272317409515,
          1.3080357247963548
         ],
         "xaxis": "x",
         "y": [
          8,
          2,
          5,
          2,
          3,
          0,
          2,
          0,
          1,
          2,
          1,
          1,
          1,
          4,
          1,
          4,
          0,
          0,
          2,
          5,
          3,
          2,
          3,
          3,
          1,
          0,
          0,
          5,
          1,
          2,
          2,
          3,
          2,
          0,
          3,
          3,
          6,
          4,
          8,
          4,
          0,
          1
         ],
         "yaxis": "y"
        },
        {
         "customdata": [
          [
           "Granit Xhaka"
          ],
          [
           "Thomas Partey"
          ],
          [
           "Bukayo Saka"
          ],
          [
           "Albert Sambi Lokonga"
          ],
          [
           "Bertrand Traoré"
          ],
          [
           "Morgan Sanson"
          ],
          [
           "John McGinn"
          ],
          [
           "Marvelous Nakamba"
          ],
          [
           "Jacob Ramsey"
          ],
          [
           "Leon Bailey"
          ],
          [
           "Carney Chukwuemeka"
          ],
          [
           "Christian Nørgaard"
          ],
          [
           "Vitaly Janelt"
          ],
          [
           "Saman Ghoddos"
          ],
          [
           "Mathias Jensen"
          ],
          [
           "Bryan Mbeumo"
          ],
          [
           "Frank Onyeka"
          ],
          [
           "Shandon Baptiste"
          ],
          [
           "Yoane Wissa"
          ],
          [
           "Christian Eriksen"
          ],
          [
           "Adam Lallana"
          ],
          [
           "Pascal Groß"
          ],
          [
           "Leandro Trossard"
          ],
          [
           "Yves Bissouma"
          ],
          [
           "Steven Alzate"
          ],
          [
           "Alexis Mac Allister"
          ],
          [
           "Jakub Moder"
          ],
          [
           "Enock Mwepu"
          ],
          [
           "Jack Cork"
          ],
          [
           "Dale Stephens"
          ],
          [
           "Ashley Westwood"
          ],
          [
           "Josh Brownhill"
          ],
          [
           "Dwight McNeil"
          ],
          [
           "Aaron Lennon"
          ],
          [
           "Maxwel Cornet"
          ],
          [
           "Ross Barkley"
          ],
          [
           "Mateo Kovacic"
          ],
          [
           "Hakim Ziyech"
          ],
          [
           "Ruben Loftus-Cheek"
          ],
          [
           "Christian Pulisic"
          ],
          [
           "Mason Mount"
          ],
          [
           "Callum Hudson-Odoi"
          ],
          [
           "Kai Havertz"
          ],
          [
           "Saúl Ñíguez"
          ],
          [
           "Conor Gallagher"
          ],
          [
           "James McArthur"
          ],
          [
           "Luka Milivojevic"
          ],
          [
           "Wilfried Zaha"
          ],
          [
           "Jeffrey Schlupp"
          ],
          [
           "Jairo Riedewald"
          ],
          [
           "Eberechi Eze"
          ],
          [
           "Will Hughes"
          ],
          [
           "Michael Olise"
          ],
          [
           "Anwar El Ghazi"
          ],
          [
           "Fabian Delph"
          ],
          [
           "Abdoulaye Doucouré"
          ],
          [
           "Alex Iwobi"
          ],
          [
           "Donny van de Beek"
          ],
          [
           "Andros Townsend"
          ],
          [
           "Demarai Gray"
          ],
          [
           "Anthony Gordon"
          ],
          [
           "Marc Albrighton"
          ],
          [
           "Youri Tielemans"
          ],
          [
           "Ayoze Pérez"
          ],
          [
           "James Maddison"
          ],
          [
           "Hamza Choudhury"
          ],
          [
           "Harvey Barnes"
          ],
          [
           "Wilfred Ndidi"
          ],
          [
           "Kiernan Dewsbury-Hall"
          ],
          [
           "Ademola Lookman"
          ],
          [
           "Mateusz Klich"
          ],
          [
           "Stuart Dallas"
          ],
          [
           "Kalvin Phillips"
          ],
          [
           "Tyler Roberts"
          ],
          [
           "Jamie Shackleton"
          ],
          [
           "Jack Harrison"
          ],
          [
           "Daniel James"
          ],
          [
           "Crysencio Summerville"
          ],
          [
           "Adam Forshaw"
          ],
          [
           "James Milner"
          ],
          [
           "Jordan Henderson"
          ],
          [
           "Alex Oxlade-Chamberlain"
          ],
          [
           "Sadio Mané"
          ],
          [
           "Mohamed Salah"
          ],
          [
           "Naby Keita"
          ],
          [
           "Diogo Jota"
          ],
          [
           "Curtis Jones"
          ],
          [
           "Harvey Elliott"
          ],
          [
           "Luis Díaz"
          ],
          [
           "Jack Grealish"
          ],
          [
           "Ilkay Gündogan"
          ],
          [
           "Kevin De Bruyne"
          ],
          [
           "Riyad Mahrez"
          ],
          [
           "Raheem Sterling"
          ],
          [
           "Phil Foden"
          ],
          [
           "Cole Palmer"
          ],
          [
           "Nemanja Matic"
          ],
          [
           "Paul Pogba"
          ],
          [
           "Jesse Lingard"
          ],
          [
           "Marcus Rashford"
          ],
          [
           "Scott McTominay"
          ],
          [
           "Jadon Sancho"
          ],
          [
           "Anthony Elanga"
          ],
          [
           "Jonjo Shelvey"
          ],
          [
           "Ryan Fraser"
          ],
          [
           "Jacob Murphy"
          ],
          [
           "Miguel Almirón"
          ],
          [
           "Sean Longstaff"
          ],
          [
           "Billy Gilmour"
          ],
          [
           "Lukas Rupp"
          ],
          [
           "Kenny McLean"
          ],
          [
           "Kieran Dowell"
          ],
          [
           "Przemyslaw Placheta"
          ],
          [
           "Milot Rashica"
          ],
          [
           "Pierre Lees-Melou"
          ],
          [
           "Christos Tzolis"
          ],
          [
           "Mathias Normann"
          ],
          [
           "Theo Walcott"
          ],
          [
           "Nathan Redmond"
          ],
          [
           "Stuart Armstrong"
          ],
          [
           "James Ward-Prowse"
          ],
          [
           "Nathan Tella"
          ],
          [
           "Ibrahima Diallo"
          ],
          [
           "Moussa Djenepo"
          ],
          [
           "Mohamed Elyounoussi"
          ],
          [
           "Pierre-Emile Højbjerg"
          ],
          [
           "Harry Winks"
          ],
          [
           "Steven Bergwijn"
          ],
          [
           "Dejan Kulusevski"
          ],
          [
           "Rodrigo Bentancur"
          ],
          [
           "Moussa Sissoko"
          ],
          [
           "Tom Cleverley"
          ],
          [
           "Ken Sema"
          ],
          [
           "Juraj Kucka"
          ],
          [
           "Edo Kayembe"
          ],
          [
           "Mark Noble"
          ],
          [
           "Manuel Lanzini"
          ],
          [
           "Jarrod Bowen"
          ],
          [
           "Declan Rice"
          ],
          [
           "Tomas Soucek"
          ],
          [
           "Pablo Fornals"
          ],
          [
           "Nikola Vlasic"
          ],
          [
           "Leander Dendoncker"
          ]
         ],
         "hovertemplate": "element_type=Midfielder<br>xA=%{x}<br>assists=%{y}<br>player_name=%{customdata[0]}<extra></extra>",
         "legendgroup": "Midfielder",
         "marker": {
          "color": "Orange",
          "symbol": "circle"
         },
         "mode": "markers",
         "name": "Midfielder",
         "orientation": "v",
         "showlegend": true,
         "type": "scatter",
         "x": [
          1.1968239024281502,
          0.8076088428497314,
          5.2096878327429295,
          0.6833233442157507,
          0,
          0.0282063353806734,
          3.545507083646953,
          0.0453882701694965,
          1.5938200764358044,
          0.2306462302803993,
          0.9877788871526718,
          2.7980521647259597,
          1.0265479311347008,
          1.1907195542007685,
          2.679550819098949,
          2.2574979290366173,
          0.1635155109688639,
          0.440178882330656,
          0.1857357993721962,
          0.0651361346244812,
          0.9317839946597816,
          3.920845087617636,
          2.001511987298727,
          0.5288825668394566,
          0.1467899084091186,
          1.2409310368821025,
          2.582662910223007,
          1.0714490823447704,
          0.1356595484539866,
          0.0172725114971399,
          3.9052777253091335,
          1.3243898339569569,
          3.25325979012996,
          0.2082181125879287,
          0.6911471858620644,
          0.5811443775892258,
          3.466832378879189,
          2.4087133333086967,
          1.491435218602419,
          0.8385996799916029,
          5.333742398768663,
          2.6389927733689547,
          1.4871273580938578,
          0.0886712670326232,
          3.888116180896759,
          1.097993707284331,
          0.5382447391748428,
          3.740637719631195,
          1.4884518831968307,
          0.053624365478754,
          0.0738932341337204,
          0.9000852331519127,
          4.212422616779804,
          0.2625086233019829,
          0.0194574072957038,
          1.8035241570323703,
          2.12492298707366,
          0.4375310707837343,
          2.849117286503315,
          2.3550217747688293,
          1.950473761186004,
          1.2729843957349658,
          3.0975198075175285,
          1.0273897796869278,
          2.707218838855624,
          0,
          2.5724790692329407,
          0.0464392937719821,
          1.4079832956194878,
          1.6659838072955608,
          1.4319527260959148,
          2.710592912510037,
          1.1149944383651018,
          1.4724860806018114,
          0.0133305806666612,
          2.238144554197788,
          3.2666263319551945,
          0.0137273948639631,
          1.020045405253768,
          1.4986780621111393,
          3.85290464386344,
          1.2662947922945025,
          4.493414713069797,
          7.715996598824859,
          1.3182651959359646,
          4.069446869194508,
          0.4768154192715883,
          0.4289150834083557,
          0.6675181211903691,
          3.4286717595532537,
          4.396434424445033,
          6.178842589259148,
          3.3017299817875028,
          3.5034336298704147,
          4.960145428776741,
          0.44644495844841,
          1.005657298490405,
          3.8411444146186113,
          0.1596688609570264,
          2.4275266602635384,
          1.591099115088582,
          2.8592875953763723,
          0.6244650781154633,
          0.9432062916457652,
          1.8503275997936728,
          1.169756478164345,
          0.7572217243723571,
          0.2898642942309379,
          0.9906700486317276,
          1.2350856140255928,
          0.8784443773329258,
          0.2034686114639043,
          0.0705275386571884,
          1.2543519278988242,
          1.207797098904848,
          0.7744668982923031,
          0.4558039531111717,
          0.0219031609594821,
          3.376613602042198,
          1.0233925823122263,
          4.935143327340484,
          0.5362992808222771,
          0.9301615059375764,
          0.2697713356465101,
          1.7858063150197268,
          1.2383815478533506,
          1.5235148128122091,
          0.7698730677366257,
          2.082548808306456,
          0.0892646536231041,
          1.4643646264448762,
          1.2796033499762416,
          0.6261508855968714,
          0.74985596165061,
          0.350892961025238,
          0,
          1.7695809174329042,
          5.058655148372054,
          1.3874680008739233,
          2.0042219161987305,
          4.454509619623423,
          0.4924897104501724,
          0.935354808345437
         ],
         "xaxis": "x",
         "y": [
          1,
          1,
          6,
          0,
          1,
          0,
          2,
          0,
          1,
          3,
          1,
          2,
          0,
          2,
          1,
          3,
          2,
          0,
          0,
          0,
          1,
          3,
          1,
          1,
          0,
          2,
          3,
          4,
          0,
          0,
          4,
          1,
          1,
          1,
          0,
          0,
          5,
          2,
          3,
          1,
          8,
          4,
          3,
          1,
          6,
          3,
          0,
          1,
          2,
          0,
          0,
          2,
          5,
          1,
          0,
          5,
          1,
          0,
          2,
          3,
          2,
          1,
          2,
          2,
          6,
          0,
          7,
          1,
          1,
          0,
          2,
          1,
          1,
          1,
          1,
          1,
          3,
          0,
          1,
          1,
          5,
          1,
          4,
          11,
          1,
          3,
          1,
          0,
          0,
          2,
          5,
          3,
          5,
          3,
          4,
          1,
          2,
          9,
          0,
          2,
          2,
          3,
          0,
          1,
          5,
          3,
          0,
          1,
          1,
          0,
          0,
          0,
          0,
          2,
          2,
          0,
          1,
          0,
          6,
          0,
          4,
          0,
          3,
          0,
          2,
          3,
          2,
          2,
          3,
          0,
          1,
          2,
          0,
          0,
          0,
          0,
          2,
          13,
          4,
          1,
          3,
          0,
          3
         ],
         "yaxis": "y"
        }
       ],
       "layout": {
        "legend": {
         "title": {
          "text": "element_type"
         },
         "tracegroupgap": 0
        },
        "template": {
         "data": {
          "bar": [
           {
            "error_x": {
             "color": "#2a3f5f"
            },
            "error_y": {
             "color": "#2a3f5f"
            },
            "marker": {
             "line": {
              "color": "#E5ECF6",
              "width": 0.5
             },
             "pattern": {
              "fillmode": "overlay",
              "size": 10,
              "solidity": 0.2
             }
            },
            "type": "bar"
           }
          ],
          "barpolar": [
           {
            "marker": {
             "line": {
              "color": "#E5ECF6",
              "width": 0.5
             },
             "pattern": {
              "fillmode": "overlay",
              "size": 10,
              "solidity": 0.2
             }
            },
            "type": "barpolar"
           }
          ],
          "carpet": [
           {
            "aaxis": {
             "endlinecolor": "#2a3f5f",
             "gridcolor": "white",
             "linecolor": "white",
             "minorgridcolor": "white",
             "startlinecolor": "#2a3f5f"
            },
            "baxis": {
             "endlinecolor": "#2a3f5f",
             "gridcolor": "white",
             "linecolor": "white",
             "minorgridcolor": "white",
             "startlinecolor": "#2a3f5f"
            },
            "type": "carpet"
           }
          ],
          "choropleth": [
           {
            "colorbar": {
             "outlinewidth": 0,
             "ticks": ""
            },
            "type": "choropleth"
           }
          ],
          "contour": [
           {
            "colorbar": {
             "outlinewidth": 0,
             "ticks": ""
            },
            "colorscale": [
             [
              0,
              "#0d0887"
             ],
             [
              0.1111111111111111,
              "#46039f"
             ],
             [
              0.2222222222222222,
              "#7201a8"
             ],
             [
              0.3333333333333333,
              "#9c179e"
             ],
             [
              0.4444444444444444,
              "#bd3786"
             ],
             [
              0.5555555555555556,
              "#d8576b"
             ],
             [
              0.6666666666666666,
              "#ed7953"
             ],
             [
              0.7777777777777778,
              "#fb9f3a"
             ],
             [
              0.8888888888888888,
              "#fdca26"
             ],
             [
              1,
              "#f0f921"
             ]
            ],
            "type": "contour"
           }
          ],
          "contourcarpet": [
           {
            "colorbar": {
             "outlinewidth": 0,
             "ticks": ""
            },
            "type": "contourcarpet"
           }
          ],
          "heatmap": [
           {
            "colorbar": {
             "outlinewidth": 0,
             "ticks": ""
            },
            "colorscale": [
             [
              0,
              "#0d0887"
             ],
             [
              0.1111111111111111,
              "#46039f"
             ],
             [
              0.2222222222222222,
              "#7201a8"
             ],
             [
              0.3333333333333333,
              "#9c179e"
             ],
             [
              0.4444444444444444,
              "#bd3786"
             ],
             [
              0.5555555555555556,
              "#d8576b"
             ],
             [
              0.6666666666666666,
              "#ed7953"
             ],
             [
              0.7777777777777778,
              "#fb9f3a"
             ],
             [
              0.8888888888888888,
              "#fdca26"
             ],
             [
              1,
              "#f0f921"
             ]
            ],
            "type": "heatmap"
           }
          ],
          "heatmapgl": [
           {
            "colorbar": {
             "outlinewidth": 0,
             "ticks": ""
            },
            "colorscale": [
             [
              0,
              "#0d0887"
             ],
             [
              0.1111111111111111,
              "#46039f"
             ],
             [
              0.2222222222222222,
              "#7201a8"
             ],
             [
              0.3333333333333333,
              "#9c179e"
             ],
             [
              0.4444444444444444,
              "#bd3786"
             ],
             [
              0.5555555555555556,
              "#d8576b"
             ],
             [
              0.6666666666666666,
              "#ed7953"
             ],
             [
              0.7777777777777778,
              "#fb9f3a"
             ],
             [
              0.8888888888888888,
              "#fdca26"
             ],
             [
              1,
              "#f0f921"
             ]
            ],
            "type": "heatmapgl"
           }
          ],
          "histogram": [
           {
            "marker": {
             "pattern": {
              "fillmode": "overlay",
              "size": 10,
              "solidity": 0.2
             }
            },
            "type": "histogram"
           }
          ],
          "histogram2d": [
           {
            "colorbar": {
             "outlinewidth": 0,
             "ticks": ""
            },
            "colorscale": [
             [
              0,
              "#0d0887"
             ],
             [
              0.1111111111111111,
              "#46039f"
             ],
             [
              0.2222222222222222,
              "#7201a8"
             ],
             [
              0.3333333333333333,
              "#9c179e"
             ],
             [
              0.4444444444444444,
              "#bd3786"
             ],
             [
              0.5555555555555556,
              "#d8576b"
             ],
             [
              0.6666666666666666,
              "#ed7953"
             ],
             [
              0.7777777777777778,
              "#fb9f3a"
             ],
             [
              0.8888888888888888,
              "#fdca26"
             ],
             [
              1,
              "#f0f921"
             ]
            ],
            "type": "histogram2d"
           }
          ],
          "histogram2dcontour": [
           {
            "colorbar": {
             "outlinewidth": 0,
             "ticks": ""
            },
            "colorscale": [
             [
              0,
              "#0d0887"
             ],
             [
              0.1111111111111111,
              "#46039f"
             ],
             [
              0.2222222222222222,
              "#7201a8"
             ],
             [
              0.3333333333333333,
              "#9c179e"
             ],
             [
              0.4444444444444444,
              "#bd3786"
             ],
             [
              0.5555555555555556,
              "#d8576b"
             ],
             [
              0.6666666666666666,
              "#ed7953"
             ],
             [
              0.7777777777777778,
              "#fb9f3a"
             ],
             [
              0.8888888888888888,
              "#fdca26"
             ],
             [
              1,
              "#f0f921"
             ]
            ],
            "type": "histogram2dcontour"
           }
          ],
          "mesh3d": [
           {
            "colorbar": {
             "outlinewidth": 0,
             "ticks": ""
            },
            "type": "mesh3d"
           }
          ],
          "parcoords": [
           {
            "line": {
             "colorbar": {
              "outlinewidth": 0,
              "ticks": ""
             }
            },
            "type": "parcoords"
           }
          ],
          "pie": [
           {
            "automargin": true,
            "type": "pie"
           }
          ],
          "scatter": [
           {
            "marker": {
             "colorbar": {
              "outlinewidth": 0,
              "ticks": ""
             }
            },
            "type": "scatter"
           }
          ],
          "scatter3d": [
           {
            "line": {
             "colorbar": {
              "outlinewidth": 0,
              "ticks": ""
             }
            },
            "marker": {
             "colorbar": {
              "outlinewidth": 0,
              "ticks": ""
             }
            },
            "type": "scatter3d"
           }
          ],
          "scattercarpet": [
           {
            "marker": {
             "colorbar": {
              "outlinewidth": 0,
              "ticks": ""
             }
            },
            "type": "scattercarpet"
           }
          ],
          "scattergeo": [
           {
            "marker": {
             "colorbar": {
              "outlinewidth": 0,
              "ticks": ""
             }
            },
            "type": "scattergeo"
           }
          ],
          "scattergl": [
           {
            "marker": {
             "colorbar": {
              "outlinewidth": 0,
              "ticks": ""
             }
            },
            "type": "scattergl"
           }
          ],
          "scattermapbox": [
           {
            "marker": {
             "colorbar": {
              "outlinewidth": 0,
              "ticks": ""
             }
            },
            "type": "scattermapbox"
           }
          ],
          "scatterpolar": [
           {
            "marker": {
             "colorbar": {
              "outlinewidth": 0,
              "ticks": ""
             }
            },
            "type": "scatterpolar"
           }
          ],
          "scatterpolargl": [
           {
            "marker": {
             "colorbar": {
              "outlinewidth": 0,
              "ticks": ""
             }
            },
            "type": "scatterpolargl"
           }
          ],
          "scatterternary": [
           {
            "marker": {
             "colorbar": {
              "outlinewidth": 0,
              "ticks": ""
             }
            },
            "type": "scatterternary"
           }
          ],
          "surface": [
           {
            "colorbar": {
             "outlinewidth": 0,
             "ticks": ""
            },
            "colorscale": [
             [
              0,
              "#0d0887"
             ],
             [
              0.1111111111111111,
              "#46039f"
             ],
             [
              0.2222222222222222,
              "#7201a8"
             ],
             [
              0.3333333333333333,
              "#9c179e"
             ],
             [
              0.4444444444444444,
              "#bd3786"
             ],
             [
              0.5555555555555556,
              "#d8576b"
             ],
             [
              0.6666666666666666,
              "#ed7953"
             ],
             [
              0.7777777777777778,
              "#fb9f3a"
             ],
             [
              0.8888888888888888,
              "#fdca26"
             ],
             [
              1,
              "#f0f921"
             ]
            ],
            "type": "surface"
           }
          ],
          "table": [
           {
            "cells": {
             "fill": {
              "color": "#EBF0F8"
             },
             "line": {
              "color": "white"
             }
            },
            "header": {
             "fill": {
              "color": "#C8D4E3"
             },
             "line": {
              "color": "white"
             }
            },
            "type": "table"
           }
          ]
         },
         "layout": {
          "annotationdefaults": {
           "arrowcolor": "#2a3f5f",
           "arrowhead": 0,
           "arrowwidth": 1
          },
          "autotypenumbers": "strict",
          "coloraxis": {
           "colorbar": {
            "outlinewidth": 0,
            "ticks": ""
           }
          },
          "colorscale": {
           "diverging": [
            [
             0,
             "#8e0152"
            ],
            [
             0.1,
             "#c51b7d"
            ],
            [
             0.2,
             "#de77ae"
            ],
            [
             0.3,
             "#f1b6da"
            ],
            [
             0.4,
             "#fde0ef"
            ],
            [
             0.5,
             "#f7f7f7"
            ],
            [
             0.6,
             "#e6f5d0"
            ],
            [
             0.7,
             "#b8e186"
            ],
            [
             0.8,
             "#7fbc41"
            ],
            [
             0.9,
             "#4d9221"
            ],
            [
             1,
             "#276419"
            ]
           ],
           "sequential": [
            [
             0,
             "#0d0887"
            ],
            [
             0.1111111111111111,
             "#46039f"
            ],
            [
             0.2222222222222222,
             "#7201a8"
            ],
            [
             0.3333333333333333,
             "#9c179e"
            ],
            [
             0.4444444444444444,
             "#bd3786"
            ],
            [
             0.5555555555555556,
             "#d8576b"
            ],
            [
             0.6666666666666666,
             "#ed7953"
            ],
            [
             0.7777777777777778,
             "#fb9f3a"
            ],
            [
             0.8888888888888888,
             "#fdca26"
            ],
            [
             1,
             "#f0f921"
            ]
           ],
           "sequentialminus": [
            [
             0,
             "#0d0887"
            ],
            [
             0.1111111111111111,
             "#46039f"
            ],
            [
             0.2222222222222222,
             "#7201a8"
            ],
            [
             0.3333333333333333,
             "#9c179e"
            ],
            [
             0.4444444444444444,
             "#bd3786"
            ],
            [
             0.5555555555555556,
             "#d8576b"
            ],
            [
             0.6666666666666666,
             "#ed7953"
            ],
            [
             0.7777777777777778,
             "#fb9f3a"
            ],
            [
             0.8888888888888888,
             "#fdca26"
            ],
            [
             1,
             "#f0f921"
            ]
           ]
          },
          "colorway": [
           "#636efa",
           "#EF553B",
           "#00cc96",
           "#ab63fa",
           "#FFA15A",
           "#19d3f3",
           "#FF6692",
           "#B6E880",
           "#FF97FF",
           "#FECB52"
          ],
          "font": {
           "color": "#2a3f5f"
          },
          "geo": {
           "bgcolor": "white",
           "lakecolor": "white",
           "landcolor": "#E5ECF6",
           "showlakes": true,
           "showland": true,
           "subunitcolor": "white"
          },
          "hoverlabel": {
           "align": "left"
          },
          "hovermode": "closest",
          "mapbox": {
           "style": "light"
          },
          "paper_bgcolor": "white",
          "plot_bgcolor": "#E5ECF6",
          "polar": {
           "angularaxis": {
            "gridcolor": "white",
            "linecolor": "white",
            "ticks": ""
           },
           "bgcolor": "#E5ECF6",
           "radialaxis": {
            "gridcolor": "white",
            "linecolor": "white",
            "ticks": ""
           }
          },
          "scene": {
           "xaxis": {
            "backgroundcolor": "#E5ECF6",
            "gridcolor": "white",
            "gridwidth": 2,
            "linecolor": "white",
            "showbackground": true,
            "ticks": "",
            "zerolinecolor": "white"
           },
           "yaxis": {
            "backgroundcolor": "#E5ECF6",
            "gridcolor": "white",
            "gridwidth": 2,
            "linecolor": "white",
            "showbackground": true,
            "ticks": "",
            "zerolinecolor": "white"
           },
           "zaxis": {
            "backgroundcolor": "#E5ECF6",
            "gridcolor": "white",
            "gridwidth": 2,
            "linecolor": "white",
            "showbackground": true,
            "ticks": "",
            "zerolinecolor": "white"
           }
          },
          "shapedefaults": {
           "line": {
            "color": "#2a3f5f"
           }
          },
          "ternary": {
           "aaxis": {
            "gridcolor": "white",
            "linecolor": "white",
            "ticks": ""
           },
           "baxis": {
            "gridcolor": "white",
            "linecolor": "white",
            "ticks": ""
           },
           "bgcolor": "#E5ECF6",
           "caxis": {
            "gridcolor": "white",
            "linecolor": "white",
            "ticks": ""
           }
          },
          "title": {
           "x": 0.05
          },
          "xaxis": {
           "automargin": true,
           "gridcolor": "white",
           "linecolor": "white",
           "ticks": "",
           "title": {
            "standoff": 15
           },
           "zerolinecolor": "white",
           "zerolinewidth": 2
          },
          "yaxis": {
           "automargin": true,
           "gridcolor": "white",
           "linecolor": "white",
           "ticks": "",
           "title": {
            "standoff": 15
           },
           "zerolinecolor": "white",
           "zerolinewidth": 2
          }
         }
        },
        "title": {
         "text": "Assists provided vs xA"
        },
        "xaxis": {
         "anchor": "y",
         "domain": [
          0,
          1
         ],
         "title": {
          "text": "xA"
         }
        },
        "yaxis": {
         "anchor": "x",
         "domain": [
          0,
          1
         ],
         "title": {
          "text": "assists"
         }
        }
       }
      }
     },
     "metadata": {},
     "output_type": "display_data"
    }
   ],
   "source": [
    "px.scatter(df, \n",
    "           x='xA', y='assists',\n",
    "           color='element_type',\n",
    "           color_discrete_map=position_colors,\n",
    "           hover_data= ['player_name'],\n",
    "           title='Assists provided vs xA'\n",
    "              )\n",
    "\n",
    "#sns.scatterplot(x = df['xA'], y = df['assists'], hue=df['element_type'], palette=position_colors)"
   ]
  },
  {
   "cell_type": "code",
   "execution_count": 13,
   "metadata": {},
   "outputs": [
    {
     "data": {
      "application/vnd.plotly.v1+json": {
       "config": {
        "plotlyServerURL": "https://plot.ly"
       },
       "data": [
        {
         "customdata": [
          [
           "Bernd Leno"
          ],
          [
           "Aaron Ramsdale"
          ],
          [
           "Álvaro Fernández"
          ],
          [
           "Jonas Lössl"
          ],
          [
           "Jason Steele"
          ],
          [
           "Robert Sánchez"
          ],
          [
           "Nick Pope"
          ],
          [
           "Wayne Hennessey"
          ],
          [
           "Edouard Mendy"
          ],
          [
           "Vicente Guaita"
          ],
          [
           "Jack Butland"
          ],
          [
           "Jordan Pickford"
          ],
          [
           "Kasper Schmeichel"
          ],
          [
           "Illan Meslier"
          ],
          [
           "Caoimhin Kelleher"
          ],
          [
           "Zack Steffen"
          ],
          [
           "David de Gea"
          ],
          [
           "Karl Darlow"
          ],
          [
           "Martin Dubravka"
          ],
          [
           "Tim Krul"
          ],
          [
           "Angus Gunn"
          ],
          [
           "Fraser Forster"
          ],
          [
           "Willy Caballero"
          ],
          [
           "Hugo Lloris"
          ],
          [
           "Ben Foster"
          ],
          [
           "Daniel Bachmann"
          ],
          [
           "Lukasz Fabianski"
          ],
          [
           "Alphonse Areola"
          ]
         ],
         "hovertemplate": "element_type=Goalkeeper<br>xA=%{x}<br>xG=%{y}<br>player_name=%{customdata[0]}<extra></extra>",
         "legendgroup": "Goalkeeper",
         "marker": {
          "color": "red",
          "symbol": "circle"
         },
         "mode": "markers",
         "name": "Goalkeeper",
         "orientation": "v",
         "showlegend": true,
         "type": "scatter",
         "x": [
          0,
          0,
          0,
          0,
          0,
          0.6362467408180237,
          0.0706123113632202,
          0.1527586430311203,
          0,
          0,
          0,
          0.0770951267331838,
          0.015869190916419,
          0,
          0,
          0,
          0,
          0,
          0,
          0,
          0,
          0,
          0,
          0.2063242979347705,
          0.0675887167453765,
          0,
          0,
          0
         ],
         "xaxis": "x",
         "y": [
          0,
          0,
          0,
          0,
          0,
          0,
          0,
          0,
          0,
          0,
          0,
          0,
          0,
          0,
          0,
          0,
          0,
          0,
          0,
          0,
          0,
          0,
          0,
          0,
          0,
          0,
          0,
          0
         ],
         "yaxis": "y"
        },
        {
         "customdata": [
          [
           "Cédric Soares"
          ],
          [
           "Rob Holding"
          ],
          [
           "Kieran Tierney"
          ],
          [
           "Ben White"
          ],
          [
           "Takehiro Tomiyasu"
          ],
          [
           "Calum Chambers"
          ],
          [
           "Kortney Hause"
          ],
          [
           "Tyrone Mings"
          ],
          [
           "Matthew Cash"
          ],
          [
           "Ezri Konsa Ngoyo"
          ],
          [
           "Ashley Young"
          ],
          [
           "Lucas Digne"
          ],
          [
           "Pontus Jansson"
          ],
          [
           "Rico Henry"
          ],
          [
           "Mads Bech Sørensen"
          ],
          [
           "Ethan Pinnock"
          ],
          [
           "Kristoffer Ajer"
          ],
          [
           "Shane Duffy"
          ],
          [
           "Lewis Dunk"
          ],
          [
           "Adam Webster"
          ],
          [
           "Joël Veltman"
          ],
          [
           "Tariq Lamptey"
          ],
          [
           "Marc Cucurella"
          ],
          [
           "James Tarkowski"
          ],
          [
           "Erik Pieters"
          ],
          [
           "Ben Mee"
          ],
          [
           "Matthew Lowton"
          ],
          [
           "Charlie Taylor"
          ],
          [
           "Nathan Collins"
          ],
          [
           "Connor Roberts"
          ],
          [
           "César Azpilicueta"
          ],
          [
           "Marcos Alonso"
          ],
          [
           "Antonio Rüdiger"
          ],
          [
           "Andreas Christensen"
          ],
          [
           "Reece James"
          ],
          [
           "Malang Sarr"
          ],
          [
           "Trevoh Chalobah"
          ],
          [
           "James Tomkins"
          ],
          [
           "Cheikhou Kouyaté"
          ],
          [
           "Tyrick Mitchell"
          ],
          [
           "Joel Ward"
          ],
          [
           "Joachim Andersen"
          ],
          [
           "Nathaniel Clyne"
          ],
          [
           "Seamus Coleman"
          ],
          [
           "Michael Keane"
          ],
          [
           "Yerry Mina"
          ],
          [
           "Mason Holgate"
          ],
          [
           "Ben Godfrey"
          ],
          [
           "Jonjoe Kenny"
          ],
          [
           "Jarrad Branthwaite"
          ],
          [
           "Vitalii Mykolenko"
          ],
          [
           "Jonny Evans"
          ],
          [
           "Daniel Amartey"
          ],
          [
           "Timothy Castagne"
          ],
          [
           "James Justin"
          ],
          [
           "Luke Thomas"
          ],
          [
           "Jannik Vestergaard"
          ],
          [
           "Liam Cooper"
          ],
          [
           "Luke Ayling"
          ],
          [
           "Diego Llorente"
          ],
          [
           "Robin Koch"
          ],
          [
           "Pascal Struijk"
          ],
          [
           "Charlie Cresswell"
          ],
          [
           "Joel Matip"
          ],
          [
           "Virgil van Dijk"
          ],
          [
           "Andrew Robertson"
          ],
          [
           "Trent Alexander-Arnold"
          ],
          [
           "Joseph Gomez"
          ],
          [
           "Ibrahima Konaté"
          ],
          [
           "Konstantinos Tsimikas"
          ],
          [
           "Kyle Walker"
          ],
          [
           "John Stones"
          ],
          [
           "Nathan Aké"
          ],
          [
           "Aymeric Laporte"
          ],
          [
           "Rúben Santos Gato Alves Dias"
          ],
          [
           "Oleksandr Zinchenko"
          ],
          [
           "Harry Maguire"
          ],
          [
           "Luke Shaw"
          ],
          [
           "Victor Lindelöf"
          ],
          [
           "Eric Bailly"
          ],
          [
           "Aaron Wan-Bissaka"
          ],
          [
           "Phil Jones"
          ],
          [
           "Matt Targett"
          ],
          [
           "Dan Burn"
          ],
          [
           "Matt Ritchie"
          ],
          [
           "Jamaal Lascelles"
          ],
          [
           "Paul Dummett"
          ],
          [
           "Javier Manquillo"
          ],
          [
           "Emil Krafth"
          ],
          [
           "Fabian Schär"
          ],
          [
           "Federico Fernández"
          ],
          [
           "Brandon Williams"
          ],
          [
           "Grant Hanley"
          ],
          [
           "Sam Byram"
          ],
          [
           "Max Aarons"
          ],
          [
           "Jacob Sørensen"
          ],
          [
           "Ben Gibson"
          ],
          [
           "Dimitris Giannoulis"
          ],
          [
           "Ozan Kabak"
          ],
          [
           "Jack Stephens"
          ],
          [
           "Kyle Walker-Peters"
          ],
          [
           "Jan Bednarek"
          ],
          [
           "Mohammed Salisu"
          ],
          [
           "Romain Perraud"
          ],
          [
           "Yan Valery"
          ],
          [
           "Matt Doherty"
          ],
          [
           "Eric Dier"
          ],
          [
           "Ben Davies"
          ],
          [
           "Davinson Sánchez"
          ],
          [
           "Ryan Sessegnon"
          ],
          [
           "Sergio Reguilón"
          ],
          [
           "Cristian Romero"
          ],
          [
           "Craig Cathcart"
          ],
          [
           "Christian Kabasele"
          ],
          [
           "William Troost-Ekong"
          ],
          [
           "Adam Masina"
          ],
          [
           "Francisco Sierralta"
          ],
          [
           "Jeremy Ngakia"
          ],
          [
           "Hassane Kamara"
          ],
          [
           "Kurt Zouma"
          ],
          [
           "Aaron Cresswell"
          ],
          [
           "Craig Dawson"
          ],
          [
           "Ryan Fredericks"
          ],
          [
           "Arthur Masuaku"
          ],
          [
           "Issa Diop"
          ],
          [
           "Ben Johnson"
          ],
          [
           "Willy Boly"
          ],
          [
           "Conor Coady"
          ],
          [
           "Fernando Marçal"
          ],
          [
           "Max Kilman"
          ],
          [
           "Ki-Jana Hoever"
          ],
          [
           "Rayan Ait Nouri"
          ]
         ],
         "hovertemplate": "element_type=Defender<br>xA=%{x}<br>xG=%{y}<br>player_name=%{customdata[0]}<extra></extra>",
         "legendgroup": "Defender",
         "marker": {
          "color": "blue",
          "symbol": "circle"
         },
         "mode": "markers",
         "name": "Defender",
         "orientation": "v",
         "showlegend": true,
         "type": "scatter",
         "x": [
          0.3677573464810848,
          0,
          1.150213511660695,
          1.134619476273656,
          0.8683442883193493,
          0.0555610507726669,
          0,
          1.1579454354941845,
          2.7651955727487803,
          0.2706998288631439,
          0.3717363448813557,
          2.405578799545765,
          0.4942300096154213,
          0.5246701184660196,
          0.1333552990108728,
          1.7245037853717804,
          0.9794593304395676,
          0.0819577015936374,
          0.095023937523365,
          0.0369059294462204,
          1.4837300069630146,
          2.203330250456929,
          1.967729679308832,
          0.2838664501905441,
          0.0204200576990842,
          1.2749733906239271,
          2.0866365376859903,
          1.6444662027060986,
          0.5499800555408001,
          0.3161044120788574,
          1.956879323348403,
          2.961708150804043,
          0.7046160791069269,
          0.1679816264659166,
          4.61812474578619,
          0.361977607011795,
          0.1202509701251983,
          0.3527828902006149,
          0.5975878108292818,
          1.8649194464087488,
          0.3251228369772434,
          0.5206340784206986,
          0.034269593656063,
          0.5437640883028507,
          1.3396282345056534,
          0,
          0,
          0.6254459293559194,
          0.3345212452113628,
          0,
          0,
          0.4210729673504829,
          0.1808526515960693,
          0.3571612723171711,
          0.238167442381382,
          1.3112468998879194,
          0.0672715455293655,
          0.0830003097653389,
          1.9833142841234803,
          0.0478120651096105,
          0.1651592478156089,
          0.3201574701815843,
          0,
          0.8033009953796864,
          1.4132683537900448,
          4.736449524760246,
          10.791974158026278,
          0.0410771481692791,
          0,
          1.7341715060174463,
          1.4295887760818005,
          0.0998304821550846,
          0.617275595664978,
          0.397720230743289,
          2.5079004913568497,
          0.6696433834731579,
          0.0503690363839268,
          3.610125934705138,
          0.6558026969432831,
          0,
          0.9214210398495196,
          0,
          2.970207580365241,
          0.8176510129123926,
          1.9647234054282308,
          0.2316509298980236,
          0,
          0.4709691517055034,
          0.8791877049952745,
          1.2566925399005413,
          0.2842389643192291,
          1.8073991034179928,
          0.2979576885700226,
          0.1200375482439994,
          1.4177726674824953,
          0,
          0.1156430328264832,
          0.410059530287981,
          0.0303338142111897,
          0.2442822121083736,
          2.845248769968748,
          0.3253357950598001,
          0.5275280196219683,
          0.2779939407482743,
          0.2550512850284576,
          1.9641865603625772,
          1.2294063176959753,
          0.4708574563264847,
          0.1723331529647112,
          0.5429178094491363,
          3.3480468429625034,
          0.1488732025027275,
          1.4212617091834543,
          0.0532903671264648,
          0.0705595538020134,
          0.6399356294423342,
          0,
          0.1568174585700035,
          0.562067405320704,
          0.0838833805173635,
          2.7334696128964424,
          0.6956739276647568,
          0.0535743311047554,
          0.7584338430315256,
          0.2918313443660736,
          0.4671482313424349,
          0,
          0.0130844162777066,
          0.5654059555381536,
          0.1449058810248971,
          0.0863142684102058,
          1.561429723165929
         ],
         "xaxis": "x",
         "y": [
          0.0711097978055477,
          0.4889362007379532,
          0.6144812004640698,
          0.5055014565587044,
          0.2693182500079274,
          0.105070374906063,
          0.0640325816348195,
          1.1800545640289783,
          1.6222466481849551,
          1.1516407397575676,
          0.3852716945111751,
          0.7803997974842787,
          2.239774087443948,
          1.500701205804944,
          0.058680523186922,
          1.7465086551383138,
          0.2215736620128154,
          0.8278952091932297,
          1.2441690703853965,
          1.3734299913048744,
          0.1447789128869772,
          0.8104112446308136,
          0.3941319193691015,
          2.3731514755636454,
          0.1498641669750213,
          2.5610949099063878,
          0.7138775950297713,
          0.108427545055747,
          0.1647187303751707,
          0.0593020999804139,
          0.7845652215182781,
          1.6831710208207369,
          1.748666631989181,
          0.7878910098224878,
          2.0194583516567945,
          0.0206521544605493,
          1.037388550117612,
          0.6890933271497488,
          0.1211588140577077,
          0.1674872580915689,
          0.2970032133162021,
          0.2915987577289343,
          0.0147142522037029,
          1.061729014851153,
          1.0053598461672664,
          0.20001863501966,
          0.9684227705001832,
          1.197433720342815,
          0.1327102091163396,
          0.5833113379776478,
          0,
          1.2847998961806295,
          0.0098498305305838,
          0.0542993023991584,
          0,
          0.1825287789106369,
          0.0387555845081806,
          0.1779925245791673,
          0.6557026989758015,
          1.2115023471415045,
          0.6564520224928856,
          1.0742318937554955,
          0,
          1.5235314117744565,
          1.735625134781003,
          1.2669859398156404,
          1.7677459958940744,
          0,
          0.0711852312088012,
          0.6347904950380325,
          0.2076803185045719,
          0.956200510263443,
          0.7131218779832125,
          2.7738655852153897,
          1.7493817331269383,
          0.1570894699543714,
          1.986979840323329,
          0.1659516524523496,
          0.0896087167784571,
          0,
          0.1864608060568571,
          0,
          0.9872296266257764,
          1.2741363598033786,
          0.3662856444716453,
          0.9930624524131416,
          0,
          0.3779595121741295,
          0.1944460272789001,
          0.4890796281397342,
          0.3371330089867115,
          0.0585550479590892,
          0.689437473192811,
          0.0995188951492309,
          0.7553038271144032,
          0.1814582012593746,
          1.3600877039134502,
          0.0357109904289245,
          0.5807486493140459,
          0,
          0.9035413153469564,
          2.6034789197146893,
          1.3813979625701904,
          0.4395200423896312,
          0.025073179975152,
          2.2516390085220337,
          0.9650365561246872,
          1.7157062822952869,
          1.98822458460927,
          0.1728937104344368,
          2.463965270668268,
          0.1812189817428589,
          0.1187146268784999,
          0.4818742275238037,
          0.1041933577507734,
          0.1415592636913061,
          0.0323923006653785,
          0.0784772187471389,
          0.0913975611329078,
          0.640797171741724,
          0.6420307010412216,
          2.1719191633164883,
          0,
          0.0428707115352153,
          0.0286491680890321,
          0.1015413915738463,
          0,
          1.741349346935749,
          0.5747353369370103,
          1.3776240274310112,
          0.0338298976421356,
          0.3620986640453338
         ],
         "yaxis": "y"
        },
        {
         "customdata": [
          [
           "Alexandre Lacazette"
          ],
          [
           "Ollie Watkins"
          ],
          [
           "Danny Ings"
          ],
          [
           "Ivan Toney"
          ],
          [
           "Neal Maupay"
          ],
          [
           "Danny Welbeck"
          ],
          [
           "Jay Rodriguez"
          ],
          [
           "Ashley Barnes"
          ],
          [
           "Matej Vydra"
          ],
          [
           "Wout Weghorst"
          ],
          [
           "Timo Werner"
          ],
          [
           "Romelu Lukaku"
          ],
          [
           "Christian Benteke"
          ],
          [
           "Jordan Ayew"
          ],
          [
           "Jean-Philippe Mateta"
          ],
          [
           "Odsonne Edouard"
          ],
          [
           "Dominic Calvert-Lewin"
          ],
          [
           "Salomón Rondón"
          ],
          [
           "Jamie Vardy"
          ],
          [
           "Kelechi Iheanacho"
          ],
          [
           "Patson Daka"
          ],
          [
           "Patrick Bamford"
          ],
          [
           "Joe Gelhardt"
          ],
          [
           "Roberto Firmino"
          ],
          [
           "Edinson Cavani"
          ],
          [
           "Chris Wood"
          ],
          [
           "Callum Wilson"
          ],
          [
           "Allan Saint-Maximin"
          ],
          [
           "Teemu Pukki"
          ],
          [
           "Adam Idah"
          ],
          [
           "Joshua Sargent"
          ],
          [
           "Che Adams"
          ],
          [
           "Armando Broja"
          ],
          [
           "Shane Long"
          ],
          [
           "Adam Armstrong"
          ],
          [
           "Harry Kane"
          ],
          [
           "Emmanuel Dennis"
          ],
          [
           "Joshua King"
          ],
          [
           "Michail Antonio"
          ],
          [
           "Raúl Jiménez"
          ],
          [
           "Fabio Silva"
          ],
          [
           "Hee-Chan Hwang"
          ]
         ],
         "hovertemplate": "element_type=Forward<br>xA=%{x}<br>xG=%{y}<br>player_name=%{customdata[0]}<extra></extra>",
         "legendgroup": "Forward",
         "marker": {
          "color": "Green",
          "symbol": "circle"
         },
         "mode": "markers",
         "name": "Forward",
         "orientation": "v",
         "showlegend": true,
         "type": "scatter",
         "x": [
          2.796951025724411,
          1.828206181526184,
          1.0431258771568537,
          4.48953405674547,
          1.955231294035912,
          0.2148136645555496,
          1.7781125698238611,
          0.3867453038692474,
          0.1781554520130157,
          0.7530978433787823,
          0.0854049511253833,
          2.356433991342783,
          1.6455406285822392,
          2.942340726032853,
          0.4920910112559795,
          1.9331107567995789,
          0.283976212143898,
          0.5214151497930288,
          1.2708313576877115,
          2.203008908778429,
          1.4648500755429268,
          0.4631695235148072,
          0.5918155647814274,
          1.472150744870305,
          1.0626687463372946,
          1.215698870830238,
          0.4431503433734178,
          3.9745332580059767,
          1.7654086481779814,
          0.4609227031469345,
          0.5363336000591516,
          2.070286300033331,
          0.6405650749802589,
          0,
          1.624623842537403,
          5.718805953860283,
          3.3322388380765915,
          3.7709941789507866,
          5.436785809695721,
          2.392231646925211,
          0.3367272317409515,
          1.3080357247963548
         ],
         "xaxis": "x",
         "y": [
          6.137330990284681,
          7.79214864037931,
          4.041821029037237,
          7.095608178526163,
          6.538990665227175,
          2.573061231523752,
          3.0976101150736213,
          0.6575422324240208,
          1.1928256303071976,
          1.9977553356438875,
          2.9091455675661564,
          5.051143925637007,
          4.719367414712906,
          2.931545168161392,
          2.903859604150057,
          6.154559943825007,
          4.99976459890604,
          2.412409179843962,
          6.538666434586048,
          2.062020353972912,
          4.030671484768391,
          2.501977600157261,
          1.991069957613945,
          3.9826595038175583,
          3.3277666829526424,
          6.74560971185565,
          5.126593586988747,
          4.782842196524143,
          7.012112457305193,
          1.9293008372187612,
          2.0443058479577303,
          6.294122003018856,
          5.294967683032155,
          0.6535555273294449,
          4.09680631197989,
          12.265675738453863,
          6.454782212153077,
          7.84304716438055,
          10.042947940528393,
          6.125056066550314,
          1.341725850477815,
          3.2554577346891165
         ],
         "yaxis": "y"
        },
        {
         "customdata": [
          [
           "Granit Xhaka"
          ],
          [
           "Thomas Partey"
          ],
          [
           "Bukayo Saka"
          ],
          [
           "Albert Sambi Lokonga"
          ],
          [
           "Bertrand Traoré"
          ],
          [
           "Morgan Sanson"
          ],
          [
           "John McGinn"
          ],
          [
           "Marvelous Nakamba"
          ],
          [
           "Jacob Ramsey"
          ],
          [
           "Leon Bailey"
          ],
          [
           "Carney Chukwuemeka"
          ],
          [
           "Christian Nørgaard"
          ],
          [
           "Vitaly Janelt"
          ],
          [
           "Saman Ghoddos"
          ],
          [
           "Mathias Jensen"
          ],
          [
           "Bryan Mbeumo"
          ],
          [
           "Frank Onyeka"
          ],
          [
           "Shandon Baptiste"
          ],
          [
           "Yoane Wissa"
          ],
          [
           "Christian Eriksen"
          ],
          [
           "Adam Lallana"
          ],
          [
           "Pascal Groß"
          ],
          [
           "Leandro Trossard"
          ],
          [
           "Yves Bissouma"
          ],
          [
           "Steven Alzate"
          ],
          [
           "Alexis Mac Allister"
          ],
          [
           "Jakub Moder"
          ],
          [
           "Enock Mwepu"
          ],
          [
           "Jack Cork"
          ],
          [
           "Dale Stephens"
          ],
          [
           "Ashley Westwood"
          ],
          [
           "Josh Brownhill"
          ],
          [
           "Dwight McNeil"
          ],
          [
           "Aaron Lennon"
          ],
          [
           "Maxwel Cornet"
          ],
          [
           "Ross Barkley"
          ],
          [
           "Mateo Kovacic"
          ],
          [
           "Hakim Ziyech"
          ],
          [
           "Ruben Loftus-Cheek"
          ],
          [
           "Christian Pulisic"
          ],
          [
           "Mason Mount"
          ],
          [
           "Callum Hudson-Odoi"
          ],
          [
           "Kai Havertz"
          ],
          [
           "Saúl Ñíguez"
          ],
          [
           "Conor Gallagher"
          ],
          [
           "James McArthur"
          ],
          [
           "Luka Milivojevic"
          ],
          [
           "Wilfried Zaha"
          ],
          [
           "Jeffrey Schlupp"
          ],
          [
           "Jairo Riedewald"
          ],
          [
           "Eberechi Eze"
          ],
          [
           "Will Hughes"
          ],
          [
           "Michael Olise"
          ],
          [
           "Anwar El Ghazi"
          ],
          [
           "Fabian Delph"
          ],
          [
           "Abdoulaye Doucouré"
          ],
          [
           "Alex Iwobi"
          ],
          [
           "Donny van de Beek"
          ],
          [
           "Andros Townsend"
          ],
          [
           "Demarai Gray"
          ],
          [
           "Anthony Gordon"
          ],
          [
           "Marc Albrighton"
          ],
          [
           "Youri Tielemans"
          ],
          [
           "Ayoze Pérez"
          ],
          [
           "James Maddison"
          ],
          [
           "Hamza Choudhury"
          ],
          [
           "Harvey Barnes"
          ],
          [
           "Wilfred Ndidi"
          ],
          [
           "Kiernan Dewsbury-Hall"
          ],
          [
           "Ademola Lookman"
          ],
          [
           "Mateusz Klich"
          ],
          [
           "Stuart Dallas"
          ],
          [
           "Kalvin Phillips"
          ],
          [
           "Tyler Roberts"
          ],
          [
           "Jamie Shackleton"
          ],
          [
           "Jack Harrison"
          ],
          [
           "Daniel James"
          ],
          [
           "Crysencio Summerville"
          ],
          [
           "Adam Forshaw"
          ],
          [
           "James Milner"
          ],
          [
           "Jordan Henderson"
          ],
          [
           "Alex Oxlade-Chamberlain"
          ],
          [
           "Sadio Mané"
          ],
          [
           "Mohamed Salah"
          ],
          [
           "Naby Keita"
          ],
          [
           "Diogo Jota"
          ],
          [
           "Curtis Jones"
          ],
          [
           "Harvey Elliott"
          ],
          [
           "Luis Díaz"
          ],
          [
           "Jack Grealish"
          ],
          [
           "Ilkay Gündogan"
          ],
          [
           "Kevin De Bruyne"
          ],
          [
           "Riyad Mahrez"
          ],
          [
           "Raheem Sterling"
          ],
          [
           "Phil Foden"
          ],
          [
           "Cole Palmer"
          ],
          [
           "Nemanja Matic"
          ],
          [
           "Paul Pogba"
          ],
          [
           "Jesse Lingard"
          ],
          [
           "Marcus Rashford"
          ],
          [
           "Scott McTominay"
          ],
          [
           "Jadon Sancho"
          ],
          [
           "Anthony Elanga"
          ],
          [
           "Jonjo Shelvey"
          ],
          [
           "Ryan Fraser"
          ],
          [
           "Jacob Murphy"
          ],
          [
           "Miguel Almirón"
          ],
          [
           "Sean Longstaff"
          ],
          [
           "Billy Gilmour"
          ],
          [
           "Lukas Rupp"
          ],
          [
           "Kenny McLean"
          ],
          [
           "Kieran Dowell"
          ],
          [
           "Przemyslaw Placheta"
          ],
          [
           "Milot Rashica"
          ],
          [
           "Pierre Lees-Melou"
          ],
          [
           "Christos Tzolis"
          ],
          [
           "Mathias Normann"
          ],
          [
           "Theo Walcott"
          ],
          [
           "Nathan Redmond"
          ],
          [
           "Stuart Armstrong"
          ],
          [
           "James Ward-Prowse"
          ],
          [
           "Nathan Tella"
          ],
          [
           "Ibrahima Diallo"
          ],
          [
           "Moussa Djenepo"
          ],
          [
           "Mohamed Elyounoussi"
          ],
          [
           "Pierre-Emile Højbjerg"
          ],
          [
           "Harry Winks"
          ],
          [
           "Steven Bergwijn"
          ],
          [
           "Dejan Kulusevski"
          ],
          [
           "Rodrigo Bentancur"
          ],
          [
           "Moussa Sissoko"
          ],
          [
           "Tom Cleverley"
          ],
          [
           "Ken Sema"
          ],
          [
           "Juraj Kucka"
          ],
          [
           "Edo Kayembe"
          ],
          [
           "Mark Noble"
          ],
          [
           "Manuel Lanzini"
          ],
          [
           "Jarrod Bowen"
          ],
          [
           "Declan Rice"
          ],
          [
           "Tomas Soucek"
          ],
          [
           "Pablo Fornals"
          ],
          [
           "Nikola Vlasic"
          ],
          [
           "Leander Dendoncker"
          ]
         ],
         "hovertemplate": "element_type=Midfielder<br>xA=%{x}<br>xG=%{y}<br>player_name=%{customdata[0]}<extra></extra>",
         "legendgroup": "Midfielder",
         "marker": {
          "color": "Orange",
          "symbol": "circle"
         },
         "mode": "markers",
         "name": "Midfielder",
         "orientation": "v",
         "showlegend": true,
         "type": "scatter",
         "x": [
          1.1968239024281502,
          0.8076088428497314,
          5.2096878327429295,
          0.6833233442157507,
          0,
          0.0282063353806734,
          3.545507083646953,
          0.0453882701694965,
          1.5938200764358044,
          0.2306462302803993,
          0.9877788871526718,
          2.7980521647259597,
          1.0265479311347008,
          1.1907195542007685,
          2.679550819098949,
          2.2574979290366173,
          0.1635155109688639,
          0.440178882330656,
          0.1857357993721962,
          0.0651361346244812,
          0.9317839946597816,
          3.920845087617636,
          2.001511987298727,
          0.5288825668394566,
          0.1467899084091186,
          1.2409310368821025,
          2.582662910223007,
          1.0714490823447704,
          0.1356595484539866,
          0.0172725114971399,
          3.9052777253091335,
          1.3243898339569569,
          3.25325979012996,
          0.2082181125879287,
          0.6911471858620644,
          0.5811443775892258,
          3.466832378879189,
          2.4087133333086967,
          1.491435218602419,
          0.8385996799916029,
          5.333742398768663,
          2.6389927733689547,
          1.4871273580938578,
          0.0886712670326232,
          3.888116180896759,
          1.097993707284331,
          0.5382447391748428,
          3.740637719631195,
          1.4884518831968307,
          0.053624365478754,
          0.0738932341337204,
          0.9000852331519127,
          4.212422616779804,
          0.2625086233019829,
          0.0194574072957038,
          1.8035241570323703,
          2.12492298707366,
          0.4375310707837343,
          2.849117286503315,
          2.3550217747688293,
          1.950473761186004,
          1.2729843957349658,
          3.0975198075175285,
          1.0273897796869278,
          2.707218838855624,
          0,
          2.5724790692329407,
          0.0464392937719821,
          1.4079832956194878,
          1.6659838072955608,
          1.4319527260959148,
          2.710592912510037,
          1.1149944383651018,
          1.4724860806018114,
          0.0133305806666612,
          2.238144554197788,
          3.2666263319551945,
          0.0137273948639631,
          1.020045405253768,
          1.4986780621111393,
          3.85290464386344,
          1.2662947922945025,
          4.493414713069797,
          7.715996598824859,
          1.3182651959359646,
          4.069446869194508,
          0.4768154192715883,
          0.4289150834083557,
          0.6675181211903691,
          3.4286717595532537,
          4.396434424445033,
          6.178842589259148,
          3.3017299817875028,
          3.5034336298704147,
          4.960145428776741,
          0.44644495844841,
          1.005657298490405,
          3.8411444146186113,
          0.1596688609570264,
          2.4275266602635384,
          1.591099115088582,
          2.8592875953763723,
          0.6244650781154633,
          0.9432062916457652,
          1.8503275997936728,
          1.169756478164345,
          0.7572217243723571,
          0.2898642942309379,
          0.9906700486317276,
          1.2350856140255928,
          0.8784443773329258,
          0.2034686114639043,
          0.0705275386571884,
          1.2543519278988242,
          1.207797098904848,
          0.7744668982923031,
          0.4558039531111717,
          0.0219031609594821,
          3.376613602042198,
          1.0233925823122263,
          4.935143327340484,
          0.5362992808222771,
          0.9301615059375764,
          0.2697713356465101,
          1.7858063150197268,
          1.2383815478533506,
          1.5235148128122091,
          0.7698730677366257,
          2.082548808306456,
          0.0892646536231041,
          1.4643646264448762,
          1.2796033499762416,
          0.6261508855968714,
          0.74985596165061,
          0.350892961025238,
          0,
          1.7695809174329042,
          5.058655148372054,
          1.3874680008739233,
          2.0042219161987305,
          4.454509619623423,
          0.4924897104501724,
          0.935354808345437
         ],
         "xaxis": "x",
         "y": [
          0.5690411180257797,
          2.1546339578926563,
          5.97535952553153,
          0.4106621332466602,
          0.1529682436957955,
          0.0118105579167604,
          1.49793472699821,
          0,
          2.913938283920288,
          1.1401313692331314,
          0.5134838670492172,
          4.182875318452716,
          2.123485867865384,
          0.6922268867492676,
          1.238945774268359,
          6.539794206619263,
          0.7653763052076101,
          0.4449052046984434,
          1.825086113996804,
          0.0492128320038318,
          0.8801136892288923,
          2.000053256750107,
          4.771370051428676,
          0.9502553041093053,
          0.0812435895204544,
          3.25041866209358,
          3.1035469863563776,
          1.5956154577434063,
          0.1095925439149141,
          0.0446143895387649,
          0.2788367597386241,
          0.7659910973161459,
          1.445264152251184,
          0.6613812446594238,
          2.203830063343048,
          0.7709845006465912,
          1.4042623564600945,
          2.5504362620413303,
          0.7562576532363892,
          4.515827365219593,
          6.053199827671051,
          2.775725405663252,
          5.620521150529385,
          0.0809134300798177,
          7.112181412056088,
          0.2333385087549686,
          0.2893703170120716,
          6.303926387801766,
          2.253535246476531,
          0,
          0.0419322848320007,
          0.0815527681261301,
          1.081308640539646,
          0.9790221825242044,
          0.0133977904915809,
          1.7508166581392288,
          1.8009522017091513,
          0.8427473604679108,
          2.188496366143226,
          3.2441350910812616,
          2.203430777415633,
          0.41476721316576,
          3.963926490396261,
          0.9622879773378372,
          4.512528534978628,
          0.0202268231660127,
          3.8641328997910014,
          0.5835883095860481,
          0.8075508624315262,
          3.738644020631909,
          2.3948664274066687,
          1.7024079719558358,
          0.6855863500386477,
          2.4348467718809843,
          0.1673048697412014,
          3.3870617765933275,
          6.029694464057684,
          0.3223912231624126,
          0.3802642486989498,
          0.2743346411734819,
          1.1205918174237013,
          1.1809543520212171,
          14.396435152739286,
          19.89119153469801,
          0.9175454396754504,
          13.914576683193443,
          0.5919512333348393,
          0.4808208048343658,
          1.6619602143764496,
          4.662041120231152,
          7.326865121722221,
          3.8522378485649824,
          8.013188323006034,
          11.37231402285397,
          7.664534471929073,
          0.280721366405487,
          0.158847420476377,
          2.090287022292614,
          0.5386798195540905,
          2.6224545165896416,
          0.8952525183558464,
          3.815535623580218,
          2.1791431177407503,
          0.7424793783575296,
          2.379898665472865,
          2.055495814420283,
          0.8486099801957607,
          0.6790169896557927,
          0.571153343655169,
          0.4285062281414866,
          1.336657889187336,
          0.1798663921654224,
          0.3261748496443033,
          1.596187099814415,
          0.9599262522533536,
          0.3333490621298551,
          0.658739254809916,
          0.862159663811326,
          1.460683104582131,
          2.354758959263563,
          3.4997627045959234,
          0.6171830762177706,
          0.3187319859862327,
          1.254247801378369,
          4.335542596876621,
          2.186291830614209,
          0.0504800844937562,
          2.53124425560236,
          1.1291610151529312,
          0.0409077489748597,
          3.22241890989244,
          0.6841247100383043,
          0.0732036642730236,
          1.3110647955909371,
          0.0414977483451366,
          1.5223376750946045,
          2.536151068285108,
          10.57111357152462,
          0.6787159079685807,
          4.550642538815737,
          3.6441493202000856,
          0.8438284117728472,
          1.6469853483140469
         ],
         "yaxis": "y"
        }
       ],
       "layout": {
        "legend": {
         "title": {
          "text": "element_type"
         },
         "tracegroupgap": 0
        },
        "template": {
         "data": {
          "bar": [
           {
            "error_x": {
             "color": "#2a3f5f"
            },
            "error_y": {
             "color": "#2a3f5f"
            },
            "marker": {
             "line": {
              "color": "#E5ECF6",
              "width": 0.5
             },
             "pattern": {
              "fillmode": "overlay",
              "size": 10,
              "solidity": 0.2
             }
            },
            "type": "bar"
           }
          ],
          "barpolar": [
           {
            "marker": {
             "line": {
              "color": "#E5ECF6",
              "width": 0.5
             },
             "pattern": {
              "fillmode": "overlay",
              "size": 10,
              "solidity": 0.2
             }
            },
            "type": "barpolar"
           }
          ],
          "carpet": [
           {
            "aaxis": {
             "endlinecolor": "#2a3f5f",
             "gridcolor": "white",
             "linecolor": "white",
             "minorgridcolor": "white",
             "startlinecolor": "#2a3f5f"
            },
            "baxis": {
             "endlinecolor": "#2a3f5f",
             "gridcolor": "white",
             "linecolor": "white",
             "minorgridcolor": "white",
             "startlinecolor": "#2a3f5f"
            },
            "type": "carpet"
           }
          ],
          "choropleth": [
           {
            "colorbar": {
             "outlinewidth": 0,
             "ticks": ""
            },
            "type": "choropleth"
           }
          ],
          "contour": [
           {
            "colorbar": {
             "outlinewidth": 0,
             "ticks": ""
            },
            "colorscale": [
             [
              0,
              "#0d0887"
             ],
             [
              0.1111111111111111,
              "#46039f"
             ],
             [
              0.2222222222222222,
              "#7201a8"
             ],
             [
              0.3333333333333333,
              "#9c179e"
             ],
             [
              0.4444444444444444,
              "#bd3786"
             ],
             [
              0.5555555555555556,
              "#d8576b"
             ],
             [
              0.6666666666666666,
              "#ed7953"
             ],
             [
              0.7777777777777778,
              "#fb9f3a"
             ],
             [
              0.8888888888888888,
              "#fdca26"
             ],
             [
              1,
              "#f0f921"
             ]
            ],
            "type": "contour"
           }
          ],
          "contourcarpet": [
           {
            "colorbar": {
             "outlinewidth": 0,
             "ticks": ""
            },
            "type": "contourcarpet"
           }
          ],
          "heatmap": [
           {
            "colorbar": {
             "outlinewidth": 0,
             "ticks": ""
            },
            "colorscale": [
             [
              0,
              "#0d0887"
             ],
             [
              0.1111111111111111,
              "#46039f"
             ],
             [
              0.2222222222222222,
              "#7201a8"
             ],
             [
              0.3333333333333333,
              "#9c179e"
             ],
             [
              0.4444444444444444,
              "#bd3786"
             ],
             [
              0.5555555555555556,
              "#d8576b"
             ],
             [
              0.6666666666666666,
              "#ed7953"
             ],
             [
              0.7777777777777778,
              "#fb9f3a"
             ],
             [
              0.8888888888888888,
              "#fdca26"
             ],
             [
              1,
              "#f0f921"
             ]
            ],
            "type": "heatmap"
           }
          ],
          "heatmapgl": [
           {
            "colorbar": {
             "outlinewidth": 0,
             "ticks": ""
            },
            "colorscale": [
             [
              0,
              "#0d0887"
             ],
             [
              0.1111111111111111,
              "#46039f"
             ],
             [
              0.2222222222222222,
              "#7201a8"
             ],
             [
              0.3333333333333333,
              "#9c179e"
             ],
             [
              0.4444444444444444,
              "#bd3786"
             ],
             [
              0.5555555555555556,
              "#d8576b"
             ],
             [
              0.6666666666666666,
              "#ed7953"
             ],
             [
              0.7777777777777778,
              "#fb9f3a"
             ],
             [
              0.8888888888888888,
              "#fdca26"
             ],
             [
              1,
              "#f0f921"
             ]
            ],
            "type": "heatmapgl"
           }
          ],
          "histogram": [
           {
            "marker": {
             "pattern": {
              "fillmode": "overlay",
              "size": 10,
              "solidity": 0.2
             }
            },
            "type": "histogram"
           }
          ],
          "histogram2d": [
           {
            "colorbar": {
             "outlinewidth": 0,
             "ticks": ""
            },
            "colorscale": [
             [
              0,
              "#0d0887"
             ],
             [
              0.1111111111111111,
              "#46039f"
             ],
             [
              0.2222222222222222,
              "#7201a8"
             ],
             [
              0.3333333333333333,
              "#9c179e"
             ],
             [
              0.4444444444444444,
              "#bd3786"
             ],
             [
              0.5555555555555556,
              "#d8576b"
             ],
             [
              0.6666666666666666,
              "#ed7953"
             ],
             [
              0.7777777777777778,
              "#fb9f3a"
             ],
             [
              0.8888888888888888,
              "#fdca26"
             ],
             [
              1,
              "#f0f921"
             ]
            ],
            "type": "histogram2d"
           }
          ],
          "histogram2dcontour": [
           {
            "colorbar": {
             "outlinewidth": 0,
             "ticks": ""
            },
            "colorscale": [
             [
              0,
              "#0d0887"
             ],
             [
              0.1111111111111111,
              "#46039f"
             ],
             [
              0.2222222222222222,
              "#7201a8"
             ],
             [
              0.3333333333333333,
              "#9c179e"
             ],
             [
              0.4444444444444444,
              "#bd3786"
             ],
             [
              0.5555555555555556,
              "#d8576b"
             ],
             [
              0.6666666666666666,
              "#ed7953"
             ],
             [
              0.7777777777777778,
              "#fb9f3a"
             ],
             [
              0.8888888888888888,
              "#fdca26"
             ],
             [
              1,
              "#f0f921"
             ]
            ],
            "type": "histogram2dcontour"
           }
          ],
          "mesh3d": [
           {
            "colorbar": {
             "outlinewidth": 0,
             "ticks": ""
            },
            "type": "mesh3d"
           }
          ],
          "parcoords": [
           {
            "line": {
             "colorbar": {
              "outlinewidth": 0,
              "ticks": ""
             }
            },
            "type": "parcoords"
           }
          ],
          "pie": [
           {
            "automargin": true,
            "type": "pie"
           }
          ],
          "scatter": [
           {
            "marker": {
             "colorbar": {
              "outlinewidth": 0,
              "ticks": ""
             }
            },
            "type": "scatter"
           }
          ],
          "scatter3d": [
           {
            "line": {
             "colorbar": {
              "outlinewidth": 0,
              "ticks": ""
             }
            },
            "marker": {
             "colorbar": {
              "outlinewidth": 0,
              "ticks": ""
             }
            },
            "type": "scatter3d"
           }
          ],
          "scattercarpet": [
           {
            "marker": {
             "colorbar": {
              "outlinewidth": 0,
              "ticks": ""
             }
            },
            "type": "scattercarpet"
           }
          ],
          "scattergeo": [
           {
            "marker": {
             "colorbar": {
              "outlinewidth": 0,
              "ticks": ""
             }
            },
            "type": "scattergeo"
           }
          ],
          "scattergl": [
           {
            "marker": {
             "colorbar": {
              "outlinewidth": 0,
              "ticks": ""
             }
            },
            "type": "scattergl"
           }
          ],
          "scattermapbox": [
           {
            "marker": {
             "colorbar": {
              "outlinewidth": 0,
              "ticks": ""
             }
            },
            "type": "scattermapbox"
           }
          ],
          "scatterpolar": [
           {
            "marker": {
             "colorbar": {
              "outlinewidth": 0,
              "ticks": ""
             }
            },
            "type": "scatterpolar"
           }
          ],
          "scatterpolargl": [
           {
            "marker": {
             "colorbar": {
              "outlinewidth": 0,
              "ticks": ""
             }
            },
            "type": "scatterpolargl"
           }
          ],
          "scatterternary": [
           {
            "marker": {
             "colorbar": {
              "outlinewidth": 0,
              "ticks": ""
             }
            },
            "type": "scatterternary"
           }
          ],
          "surface": [
           {
            "colorbar": {
             "outlinewidth": 0,
             "ticks": ""
            },
            "colorscale": [
             [
              0,
              "#0d0887"
             ],
             [
              0.1111111111111111,
              "#46039f"
             ],
             [
              0.2222222222222222,
              "#7201a8"
             ],
             [
              0.3333333333333333,
              "#9c179e"
             ],
             [
              0.4444444444444444,
              "#bd3786"
             ],
             [
              0.5555555555555556,
              "#d8576b"
             ],
             [
              0.6666666666666666,
              "#ed7953"
             ],
             [
              0.7777777777777778,
              "#fb9f3a"
             ],
             [
              0.8888888888888888,
              "#fdca26"
             ],
             [
              1,
              "#f0f921"
             ]
            ],
            "type": "surface"
           }
          ],
          "table": [
           {
            "cells": {
             "fill": {
              "color": "#EBF0F8"
             },
             "line": {
              "color": "white"
             }
            },
            "header": {
             "fill": {
              "color": "#C8D4E3"
             },
             "line": {
              "color": "white"
             }
            },
            "type": "table"
           }
          ]
         },
         "layout": {
          "annotationdefaults": {
           "arrowcolor": "#2a3f5f",
           "arrowhead": 0,
           "arrowwidth": 1
          },
          "autotypenumbers": "strict",
          "coloraxis": {
           "colorbar": {
            "outlinewidth": 0,
            "ticks": ""
           }
          },
          "colorscale": {
           "diverging": [
            [
             0,
             "#8e0152"
            ],
            [
             0.1,
             "#c51b7d"
            ],
            [
             0.2,
             "#de77ae"
            ],
            [
             0.3,
             "#f1b6da"
            ],
            [
             0.4,
             "#fde0ef"
            ],
            [
             0.5,
             "#f7f7f7"
            ],
            [
             0.6,
             "#e6f5d0"
            ],
            [
             0.7,
             "#b8e186"
            ],
            [
             0.8,
             "#7fbc41"
            ],
            [
             0.9,
             "#4d9221"
            ],
            [
             1,
             "#276419"
            ]
           ],
           "sequential": [
            [
             0,
             "#0d0887"
            ],
            [
             0.1111111111111111,
             "#46039f"
            ],
            [
             0.2222222222222222,
             "#7201a8"
            ],
            [
             0.3333333333333333,
             "#9c179e"
            ],
            [
             0.4444444444444444,
             "#bd3786"
            ],
            [
             0.5555555555555556,
             "#d8576b"
            ],
            [
             0.6666666666666666,
             "#ed7953"
            ],
            [
             0.7777777777777778,
             "#fb9f3a"
            ],
            [
             0.8888888888888888,
             "#fdca26"
            ],
            [
             1,
             "#f0f921"
            ]
           ],
           "sequentialminus": [
            [
             0,
             "#0d0887"
            ],
            [
             0.1111111111111111,
             "#46039f"
            ],
            [
             0.2222222222222222,
             "#7201a8"
            ],
            [
             0.3333333333333333,
             "#9c179e"
            ],
            [
             0.4444444444444444,
             "#bd3786"
            ],
            [
             0.5555555555555556,
             "#d8576b"
            ],
            [
             0.6666666666666666,
             "#ed7953"
            ],
            [
             0.7777777777777778,
             "#fb9f3a"
            ],
            [
             0.8888888888888888,
             "#fdca26"
            ],
            [
             1,
             "#f0f921"
            ]
           ]
          },
          "colorway": [
           "#636efa",
           "#EF553B",
           "#00cc96",
           "#ab63fa",
           "#FFA15A",
           "#19d3f3",
           "#FF6692",
           "#B6E880",
           "#FF97FF",
           "#FECB52"
          ],
          "font": {
           "color": "#2a3f5f"
          },
          "geo": {
           "bgcolor": "white",
           "lakecolor": "white",
           "landcolor": "#E5ECF6",
           "showlakes": true,
           "showland": true,
           "subunitcolor": "white"
          },
          "hoverlabel": {
           "align": "left"
          },
          "hovermode": "closest",
          "mapbox": {
           "style": "light"
          },
          "paper_bgcolor": "white",
          "plot_bgcolor": "#E5ECF6",
          "polar": {
           "angularaxis": {
            "gridcolor": "white",
            "linecolor": "white",
            "ticks": ""
           },
           "bgcolor": "#E5ECF6",
           "radialaxis": {
            "gridcolor": "white",
            "linecolor": "white",
            "ticks": ""
           }
          },
          "scene": {
           "xaxis": {
            "backgroundcolor": "#E5ECF6",
            "gridcolor": "white",
            "gridwidth": 2,
            "linecolor": "white",
            "showbackground": true,
            "ticks": "",
            "zerolinecolor": "white"
           },
           "yaxis": {
            "backgroundcolor": "#E5ECF6",
            "gridcolor": "white",
            "gridwidth": 2,
            "linecolor": "white",
            "showbackground": true,
            "ticks": "",
            "zerolinecolor": "white"
           },
           "zaxis": {
            "backgroundcolor": "#E5ECF6",
            "gridcolor": "white",
            "gridwidth": 2,
            "linecolor": "white",
            "showbackground": true,
            "ticks": "",
            "zerolinecolor": "white"
           }
          },
          "shapedefaults": {
           "line": {
            "color": "#2a3f5f"
           }
          },
          "ternary": {
           "aaxis": {
            "gridcolor": "white",
            "linecolor": "white",
            "ticks": ""
           },
           "baxis": {
            "gridcolor": "white",
            "linecolor": "white",
            "ticks": ""
           },
           "bgcolor": "#E5ECF6",
           "caxis": {
            "gridcolor": "white",
            "linecolor": "white",
            "ticks": ""
           }
          },
          "title": {
           "x": 0.05
          },
          "xaxis": {
           "automargin": true,
           "gridcolor": "white",
           "linecolor": "white",
           "ticks": "",
           "title": {
            "standoff": 15
           },
           "zerolinecolor": "white",
           "zerolinewidth": 2
          },
          "yaxis": {
           "automargin": true,
           "gridcolor": "white",
           "linecolor": "white",
           "ticks": "",
           "title": {
            "standoff": 15
           },
           "zerolinecolor": "white",
           "zerolinewidth": 2
          }
         }
        },
        "title": {
         "text": "xG vs xA"
        },
        "xaxis": {
         "anchor": "y",
         "domain": [
          0,
          1
         ],
         "title": {
          "text": "xA"
         }
        },
        "yaxis": {
         "anchor": "x",
         "domain": [
          0,
          1
         ],
         "title": {
          "text": "xG"
         }
        }
       }
      }
     },
     "metadata": {},
     "output_type": "display_data"
    }
   ],
   "source": [
    "px.scatter(df, \n",
    "           x='xA', y='xG',\n",
    "           color='element_type',\n",
    "           color_discrete_map=position_colors,\n",
    "           hover_data= ['player_name'],\n",
    "           title='xG vs xA'\n",
    "              )\n",
    "\n",
    "#sns.scatterplot(x = df['xA'], y = df['xG'], hue=df['element_type'], palette=position_colors)"
   ]
  },
  {
   "cell_type": "code",
   "execution_count": 14,
   "metadata": {},
   "outputs": [
    {
     "data": {
      "application/vnd.plotly.v1+json": {
       "config": {
        "plotlyServerURL": "https://plot.ly"
       },
       "data": [
        {
         "customdata": [
          [
           "Bernd Leno"
          ],
          [
           "Aaron Ramsdale"
          ],
          [
           "Álvaro Fernández"
          ],
          [
           "Jonas Lössl"
          ],
          [
           "Jason Steele"
          ],
          [
           "Robert Sánchez"
          ],
          [
           "Nick Pope"
          ],
          [
           "Wayne Hennessey"
          ],
          [
           "Edouard Mendy"
          ],
          [
           "Vicente Guaita"
          ],
          [
           "Jack Butland"
          ],
          [
           "Jordan Pickford"
          ],
          [
           "Kasper Schmeichel"
          ],
          [
           "Illan Meslier"
          ],
          [
           "Caoimhin Kelleher"
          ],
          [
           "Zack Steffen"
          ],
          [
           "David de Gea"
          ],
          [
           "Karl Darlow"
          ],
          [
           "Martin Dubravka"
          ],
          [
           "Tim Krul"
          ],
          [
           "Angus Gunn"
          ],
          [
           "Fraser Forster"
          ],
          [
           "Willy Caballero"
          ],
          [
           "Hugo Lloris"
          ],
          [
           "Ben Foster"
          ],
          [
           "Daniel Bachmann"
          ],
          [
           "Lukasz Fabianski"
          ],
          [
           "Alphonse Areola"
          ]
         ],
         "hovertemplate": "element_type=Goalkeeper<br>now_cost=%{x}<br>dreamteam_count=%{y}<br>player_name=%{customdata[0]}<extra></extra>",
         "legendgroup": "Goalkeeper",
         "marker": {
          "color": "red",
          "symbol": "circle"
         },
         "mode": "markers",
         "name": "Goalkeeper",
         "orientation": "v",
         "showlegend": true,
         "type": "scatter",
         "x": [
          45,
          51,
          45,
          45,
          40,
          46,
          54,
          45,
          61,
          46,
          44,
          49,
          48,
          48,
          43,
          44,
          52,
          45,
          44,
          45,
          40,
          44,
          43,
          54,
          41,
          41,
          50,
          47
         ],
         "xaxis": "x",
         "y": [
          0,
          3,
          0,
          0,
          0,
          1,
          2,
          0,
          0,
          0,
          1,
          0,
          1,
          1,
          0,
          0,
          2,
          0,
          1,
          2,
          0,
          0,
          0,
          2,
          2,
          0,
          2,
          0
         ],
         "yaxis": "y"
        },
        {
         "customdata": [
          [
           "Cédric Soares"
          ],
          [
           "Rob Holding"
          ],
          [
           "Kieran Tierney"
          ],
          [
           "Ben White"
          ],
          [
           "Takehiro Tomiyasu"
          ],
          [
           "Calum Chambers"
          ],
          [
           "Kortney Hause"
          ],
          [
           "Tyrone Mings"
          ],
          [
           "Matthew Cash"
          ],
          [
           "Ezri Konsa Ngoyo"
          ],
          [
           "Ashley Young"
          ],
          [
           "Lucas Digne"
          ],
          [
           "Pontus Jansson"
          ],
          [
           "Rico Henry"
          ],
          [
           "Mads Bech Sørensen"
          ],
          [
           "Ethan Pinnock"
          ],
          [
           "Kristoffer Ajer"
          ],
          [
           "Shane Duffy"
          ],
          [
           "Lewis Dunk"
          ],
          [
           "Adam Webster"
          ],
          [
           "Joël Veltman"
          ],
          [
           "Tariq Lamptey"
          ],
          [
           "Marc Cucurella"
          ],
          [
           "James Tarkowski"
          ],
          [
           "Erik Pieters"
          ],
          [
           "Ben Mee"
          ],
          [
           "Matthew Lowton"
          ],
          [
           "Charlie Taylor"
          ],
          [
           "Nathan Collins"
          ],
          [
           "Connor Roberts"
          ],
          [
           "César Azpilicueta"
          ],
          [
           "Marcos Alonso"
          ],
          [
           "Antonio Rüdiger"
          ],
          [
           "Andreas Christensen"
          ],
          [
           "Reece James"
          ],
          [
           "Malang Sarr"
          ],
          [
           "Trevoh Chalobah"
          ],
          [
           "James Tomkins"
          ],
          [
           "Cheikhou Kouyaté"
          ],
          [
           "Tyrick Mitchell"
          ],
          [
           "Joel Ward"
          ],
          [
           "Joachim Andersen"
          ],
          [
           "Nathaniel Clyne"
          ],
          [
           "Seamus Coleman"
          ],
          [
           "Michael Keane"
          ],
          [
           "Yerry Mina"
          ],
          [
           "Mason Holgate"
          ],
          [
           "Ben Godfrey"
          ],
          [
           "Jonjoe Kenny"
          ],
          [
           "Jarrad Branthwaite"
          ],
          [
           "Vitalii Mykolenko"
          ],
          [
           "Jonny Evans"
          ],
          [
           "Daniel Amartey"
          ],
          [
           "Timothy Castagne"
          ],
          [
           "James Justin"
          ],
          [
           "Luke Thomas"
          ],
          [
           "Jannik Vestergaard"
          ],
          [
           "Liam Cooper"
          ],
          [
           "Luke Ayling"
          ],
          [
           "Diego Llorente"
          ],
          [
           "Robin Koch"
          ],
          [
           "Pascal Struijk"
          ],
          [
           "Charlie Cresswell"
          ],
          [
           "Joel Matip"
          ],
          [
           "Virgil van Dijk"
          ],
          [
           "Andrew Robertson"
          ],
          [
           "Trent Alexander-Arnold"
          ],
          [
           "Joseph Gomez"
          ],
          [
           "Ibrahima Konaté"
          ],
          [
           "Konstantinos Tsimikas"
          ],
          [
           "Kyle Walker"
          ],
          [
           "John Stones"
          ],
          [
           "Nathan Aké"
          ],
          [
           "Aymeric Laporte"
          ],
          [
           "Rúben Santos Gato Alves Dias"
          ],
          [
           "Oleksandr Zinchenko"
          ],
          [
           "Harry Maguire"
          ],
          [
           "Luke Shaw"
          ],
          [
           "Victor Lindelöf"
          ],
          [
           "Eric Bailly"
          ],
          [
           "Aaron Wan-Bissaka"
          ],
          [
           "Phil Jones"
          ],
          [
           "Matt Targett"
          ],
          [
           "Dan Burn"
          ],
          [
           "Matt Ritchie"
          ],
          [
           "Jamaal Lascelles"
          ],
          [
           "Paul Dummett"
          ],
          [
           "Javier Manquillo"
          ],
          [
           "Emil Krafth"
          ],
          [
           "Fabian Schär"
          ],
          [
           "Federico Fernández"
          ],
          [
           "Brandon Williams"
          ],
          [
           "Grant Hanley"
          ],
          [
           "Sam Byram"
          ],
          [
           "Max Aarons"
          ],
          [
           "Jacob Sørensen"
          ],
          [
           "Ben Gibson"
          ],
          [
           "Dimitris Giannoulis"
          ],
          [
           "Ozan Kabak"
          ],
          [
           "Jack Stephens"
          ],
          [
           "Kyle Walker-Peters"
          ],
          [
           "Jan Bednarek"
          ],
          [
           "Mohammed Salisu"
          ],
          [
           "Romain Perraud"
          ],
          [
           "Yan Valery"
          ],
          [
           "Matt Doherty"
          ],
          [
           "Eric Dier"
          ],
          [
           "Ben Davies"
          ],
          [
           "Davinson Sánchez"
          ],
          [
           "Ryan Sessegnon"
          ],
          [
           "Sergio Reguilón"
          ],
          [
           "Cristian Romero"
          ],
          [
           "Craig Cathcart"
          ],
          [
           "Christian Kabasele"
          ],
          [
           "William Troost-Ekong"
          ],
          [
           "Adam Masina"
          ],
          [
           "Francisco Sierralta"
          ],
          [
           "Jeremy Ngakia"
          ],
          [
           "Hassane Kamara"
          ],
          [
           "Kurt Zouma"
          ],
          [
           "Aaron Cresswell"
          ],
          [
           "Craig Dawson"
          ],
          [
           "Ryan Fredericks"
          ],
          [
           "Arthur Masuaku"
          ],
          [
           "Issa Diop"
          ],
          [
           "Ben Johnson"
          ],
          [
           "Willy Boly"
          ],
          [
           "Conor Coady"
          ],
          [
           "Fernando Marçal"
          ],
          [
           "Max Kilman"
          ],
          [
           "Ki-Jana Hoever"
          ],
          [
           "Rayan Ait Nouri"
          ]
         ],
         "hovertemplate": "element_type=Defender<br>now_cost=%{x}<br>dreamteam_count=%{y}<br>player_name=%{customdata[0]}<extra></extra>",
         "legendgroup": "Defender",
         "marker": {
          "color": "blue",
          "symbol": "circle"
         },
         "mode": "markers",
         "name": "Defender",
         "orientation": "v",
         "showlegend": true,
         "type": "scatter",
         "x": [
          42,
          41,
          51,
          45,
          46,
          42,
          44,
          50,
          51,
          49,
          47,
          51,
          45,
          45,
          43,
          45,
          44,
          41,
          48,
          43,
          42,
          45,
          50,
          49,
          42,
          48,
          44,
          44,
          43,
          45,
          56,
          56,
          61,
          46,
          62,
          49,
          47,
          43,
          45,
          45,
          45,
          45,
          43,
          49,
          47,
          49,
          42,
          47,
          44,
          40,
          49,
          54,
          39,
          53,
          49,
          43,
          47,
          44,
          43,
          45,
          43,
          43,
          40,
          49,
          67,
          72,
          85,
          47,
          51,
          37,
          54,
          52,
          47,
          58,
          62,
          53,
          54,
          50,
          48,
          49,
          51,
          45,
          47,
          44,
          49,
          44,
          45,
          39,
          43,
          43,
          43,
          39,
          44,
          44,
          43,
          43,
          44,
          44,
          43,
          44,
          48,
          44,
          45,
          48,
          39,
          47,
          46,
          44,
          45,
          43,
          52,
          48,
          43,
          43,
          43,
          43,
          43,
          43,
          45,
          54,
          54,
          49,
          44,
          44,
          43,
          39,
          49,
          48,
          42,
          46,
          39,
          44
         ],
         "xaxis": "x",
         "y": [
          0,
          0,
          3,
          0,
          1,
          1,
          1,
          3,
          3,
          1,
          0,
          0,
          0,
          1,
          0,
          1,
          0,
          1,
          1,
          2,
          0,
          1,
          1,
          1,
          1,
          2,
          1,
          2,
          0,
          2,
          1,
          3,
          2,
          0,
          5,
          0,
          3,
          1,
          0,
          1,
          0,
          0,
          0,
          2,
          2,
          0,
          0,
          0,
          0,
          0,
          0,
          0,
          1,
          0,
          0,
          0,
          0,
          1,
          0,
          1,
          0,
          0,
          0,
          2,
          4,
          3,
          5,
          0,
          0,
          0,
          0,
          1,
          0,
          2,
          1,
          1,
          0,
          0,
          0,
          0,
          0,
          0,
          0,
          0,
          0,
          0,
          0,
          0,
          0,
          2,
          0,
          0,
          0,
          0,
          0,
          0,
          0,
          0,
          0,
          0,
          1,
          1,
          0,
          0,
          0,
          1,
          0,
          1,
          2,
          0,
          2,
          0,
          0,
          0,
          0,
          0,
          0,
          0,
          0,
          0,
          1,
          0,
          0,
          1,
          1,
          0,
          0,
          0,
          1,
          0,
          0,
          1
         ],
         "yaxis": "y"
        },
        {
         "customdata": [
          [
           "Alexandre Lacazette"
          ],
          [
           "Ollie Watkins"
          ],
          [
           "Danny Ings"
          ],
          [
           "Ivan Toney"
          ],
          [
           "Neal Maupay"
          ],
          [
           "Danny Welbeck"
          ],
          [
           "Jay Rodriguez"
          ],
          [
           "Ashley Barnes"
          ],
          [
           "Matej Vydra"
          ],
          [
           "Wout Weghorst"
          ],
          [
           "Timo Werner"
          ],
          [
           "Romelu Lukaku"
          ],
          [
           "Christian Benteke"
          ],
          [
           "Jordan Ayew"
          ],
          [
           "Jean-Philippe Mateta"
          ],
          [
           "Odsonne Edouard"
          ],
          [
           "Dominic Calvert-Lewin"
          ],
          [
           "Salomón Rondón"
          ],
          [
           "Jamie Vardy"
          ],
          [
           "Kelechi Iheanacho"
          ],
          [
           "Patson Daka"
          ],
          [
           "Patrick Bamford"
          ],
          [
           "Joe Gelhardt"
          ],
          [
           "Roberto Firmino"
          ],
          [
           "Edinson Cavani"
          ],
          [
           "Chris Wood"
          ],
          [
           "Callum Wilson"
          ],
          [
           "Allan Saint-Maximin"
          ],
          [
           "Teemu Pukki"
          ],
          [
           "Adam Idah"
          ],
          [
           "Joshua Sargent"
          ],
          [
           "Che Adams"
          ],
          [
           "Armando Broja"
          ],
          [
           "Shane Long"
          ],
          [
           "Adam Armstrong"
          ],
          [
           "Harry Kane"
          ],
          [
           "Emmanuel Dennis"
          ],
          [
           "Joshua King"
          ],
          [
           "Michail Antonio"
          ],
          [
           "Raúl Jiménez"
          ],
          [
           "Fabio Silva"
          ],
          [
           "Hee-Chan Hwang"
          ]
         ],
         "hovertemplate": "element_type=Forward<br>now_cost=%{x}<br>dreamteam_count=%{y}<br>player_name=%{customdata[0]}<extra></extra>",
         "legendgroup": "Forward",
         "marker": {
          "color": "Green",
          "symbol": "circle"
         },
         "mode": "markers",
         "name": "Forward",
         "orientation": "v",
         "showlegend": true,
         "type": "scatter",
         "x": [
          83,
          75,
          77,
          65,
          65,
          59,
          52,
          52,
          52,
          66,
          86,
          115,
          60,
          58,
          52,
          63,
          77,
          60,
          103,
          69,
          71,
          77,
          46,
          87,
          84,
          67,
          72,
          68,
          58,
          49,
          54,
          70,
          55,
          54,
          57,
          123,
          61,
          58,
          76,
          76,
          56,
          54
         ],
         "xaxis": "x",
         "y": [
          1,
          1,
          1,
          2,
          2,
          0,
          1,
          0,
          0,
          1,
          0,
          1,
          1,
          0,
          0,
          2,
          0,
          0,
          4,
          1,
          1,
          0,
          0,
          1,
          0,
          0,
          0,
          0,
          2,
          0,
          1,
          0,
          1,
          0,
          1,
          5,
          4,
          2,
          4,
          1,
          0,
          1
         ],
         "yaxis": "y"
        },
        {
         "customdata": [
          [
           "Granit Xhaka"
          ],
          [
           "Thomas Partey"
          ],
          [
           "Bukayo Saka"
          ],
          [
           "Albert Sambi Lokonga"
          ],
          [
           "Bertrand Traoré"
          ],
          [
           "Morgan Sanson"
          ],
          [
           "John McGinn"
          ],
          [
           "Marvelous Nakamba"
          ],
          [
           "Jacob Ramsey"
          ],
          [
           "Leon Bailey"
          ],
          [
           "Carney Chukwuemeka"
          ],
          [
           "Christian Nørgaard"
          ],
          [
           "Vitaly Janelt"
          ],
          [
           "Saman Ghoddos"
          ],
          [
           "Mathias Jensen"
          ],
          [
           "Bryan Mbeumo"
          ],
          [
           "Frank Onyeka"
          ],
          [
           "Shandon Baptiste"
          ],
          [
           "Yoane Wissa"
          ],
          [
           "Christian Eriksen"
          ],
          [
           "Adam Lallana"
          ],
          [
           "Pascal Groß"
          ],
          [
           "Leandro Trossard"
          ],
          [
           "Yves Bissouma"
          ],
          [
           "Steven Alzate"
          ],
          [
           "Alexis Mac Allister"
          ],
          [
           "Jakub Moder"
          ],
          [
           "Enock Mwepu"
          ],
          [
           "Jack Cork"
          ],
          [
           "Dale Stephens"
          ],
          [
           "Ashley Westwood"
          ],
          [
           "Josh Brownhill"
          ],
          [
           "Dwight McNeil"
          ],
          [
           "Aaron Lennon"
          ],
          [
           "Maxwel Cornet"
          ],
          [
           "Ross Barkley"
          ],
          [
           "Mateo Kovacic"
          ],
          [
           "Hakim Ziyech"
          ],
          [
           "Ruben Loftus-Cheek"
          ],
          [
           "Christian Pulisic"
          ],
          [
           "Mason Mount"
          ],
          [
           "Callum Hudson-Odoi"
          ],
          [
           "Kai Havertz"
          ],
          [
           "Saúl Ñíguez"
          ],
          [
           "Conor Gallagher"
          ],
          [
           "James McArthur"
          ],
          [
           "Luka Milivojevic"
          ],
          [
           "Wilfried Zaha"
          ],
          [
           "Jeffrey Schlupp"
          ],
          [
           "Jairo Riedewald"
          ],
          [
           "Eberechi Eze"
          ],
          [
           "Will Hughes"
          ],
          [
           "Michael Olise"
          ],
          [
           "Anwar El Ghazi"
          ],
          [
           "Fabian Delph"
          ],
          [
           "Abdoulaye Doucouré"
          ],
          [
           "Alex Iwobi"
          ],
          [
           "Donny van de Beek"
          ],
          [
           "Andros Townsend"
          ],
          [
           "Demarai Gray"
          ],
          [
           "Anthony Gordon"
          ],
          [
           "Marc Albrighton"
          ],
          [
           "Youri Tielemans"
          ],
          [
           "Ayoze Pérez"
          ],
          [
           "James Maddison"
          ],
          [
           "Hamza Choudhury"
          ],
          [
           "Harvey Barnes"
          ],
          [
           "Wilfred Ndidi"
          ],
          [
           "Kiernan Dewsbury-Hall"
          ],
          [
           "Ademola Lookman"
          ],
          [
           "Mateusz Klich"
          ],
          [
           "Stuart Dallas"
          ],
          [
           "Kalvin Phillips"
          ],
          [
           "Tyler Roberts"
          ],
          [
           "Jamie Shackleton"
          ],
          [
           "Jack Harrison"
          ],
          [
           "Daniel James"
          ],
          [
           "Crysencio Summerville"
          ],
          [
           "Adam Forshaw"
          ],
          [
           "James Milner"
          ],
          [
           "Jordan Henderson"
          ],
          [
           "Alex Oxlade-Chamberlain"
          ],
          [
           "Sadio Mané"
          ],
          [
           "Mohamed Salah"
          ],
          [
           "Naby Keita"
          ],
          [
           "Diogo Jota"
          ],
          [
           "Curtis Jones"
          ],
          [
           "Harvey Elliott"
          ],
          [
           "Luis Díaz"
          ],
          [
           "Jack Grealish"
          ],
          [
           "Ilkay Gündogan"
          ],
          [
           "Kevin De Bruyne"
          ],
          [
           "Riyad Mahrez"
          ],
          [
           "Raheem Sterling"
          ],
          [
           "Phil Foden"
          ],
          [
           "Cole Palmer"
          ],
          [
           "Nemanja Matic"
          ],
          [
           "Paul Pogba"
          ],
          [
           "Jesse Lingard"
          ],
          [
           "Marcus Rashford"
          ],
          [
           "Scott McTominay"
          ],
          [
           "Jadon Sancho"
          ],
          [
           "Anthony Elanga"
          ],
          [
           "Jonjo Shelvey"
          ],
          [
           "Ryan Fraser"
          ],
          [
           "Jacob Murphy"
          ],
          [
           "Miguel Almirón"
          ],
          [
           "Sean Longstaff"
          ],
          [
           "Billy Gilmour"
          ],
          [
           "Lukas Rupp"
          ],
          [
           "Kenny McLean"
          ],
          [
           "Kieran Dowell"
          ],
          [
           "Przemyslaw Placheta"
          ],
          [
           "Milot Rashica"
          ],
          [
           "Pierre Lees-Melou"
          ],
          [
           "Christos Tzolis"
          ],
          [
           "Mathias Normann"
          ],
          [
           "Theo Walcott"
          ],
          [
           "Nathan Redmond"
          ],
          [
           "Stuart Armstrong"
          ],
          [
           "James Ward-Prowse"
          ],
          [
           "Nathan Tella"
          ],
          [
           "Ibrahima Diallo"
          ],
          [
           "Moussa Djenepo"
          ],
          [
           "Mohamed Elyounoussi"
          ],
          [
           "Pierre-Emile Højbjerg"
          ],
          [
           "Harry Winks"
          ],
          [
           "Steven Bergwijn"
          ],
          [
           "Dejan Kulusevski"
          ],
          [
           "Rodrigo Bentancur"
          ],
          [
           "Moussa Sissoko"
          ],
          [
           "Tom Cleverley"
          ],
          [
           "Ken Sema"
          ],
          [
           "Juraj Kucka"
          ],
          [
           "Edo Kayembe"
          ],
          [
           "Mark Noble"
          ],
          [
           "Manuel Lanzini"
          ],
          [
           "Jarrod Bowen"
          ],
          [
           "Declan Rice"
          ],
          [
           "Tomas Soucek"
          ],
          [
           "Pablo Fornals"
          ],
          [
           "Nikola Vlasic"
          ],
          [
           "Leander Dendoncker"
          ]
         ],
         "hovertemplate": "element_type=Midfielder<br>now_cost=%{x}<br>dreamteam_count=%{y}<br>player_name=%{customdata[0]}<extra></extra>",
         "legendgroup": "Midfielder",
         "marker": {
          "color": "Orange",
          "symbol": "circle"
         },
         "mode": "markers",
         "name": "Midfielder",
         "orientation": "v",
         "showlegend": true,
         "type": "scatter",
         "x": [
          48,
          50,
          65,
          48,
          57,
          50,
          57,
          44,
          48,
          63,
          45,
          50,
          49,
          53,
          49,
          52,
          49,
          49,
          58,
          55,
          53,
          57,
          59,
          44,
          48,
          52,
          45,
          59,
          44,
          44,
          53,
          43,
          57,
          49,
          59,
          52,
          50,
          73,
          54,
          79,
          75,
          53,
          78,
          49,
          62,
          43,
          53,
          68,
          54,
          47,
          59,
          47,
          54,
          56,
          43,
          53,
          58,
          57,
          52,
          55,
          45,
          52,
          64,
          57,
          67,
          44,
          65,
          48,
          44,
          60,
          52,
          49,
          47,
          48,
          44,
          55,
          60,
          45,
          45,
          49,
          50,
          58,
          117,
          132,
          50,
          83,
          50,
          53,
          80,
          75,
          71,
          118,
          87,
          107,
          79,
          45,
          43,
          74,
          67,
          94,
          54,
          89,
          48,
          53,
          53,
          47,
          51,
          44,
          43,
          44,
          49,
          51,
          47,
          52,
          48,
          48,
          45,
          58,
          59,
          58,
          66,
          47,
          45,
          52,
          54,
          49,
          44,
          59,
          61,
          49,
          44,
          48,
          52,
          55,
          47,
          44,
          57,
          69,
          51,
          57,
          60,
          56,
          47
         ],
         "xaxis": "x",
         "y": [
          0,
          0,
          2,
          0,
          0,
          0,
          2,
          0,
          3,
          0,
          0,
          0,
          1,
          0,
          0,
          0,
          0,
          0,
          0,
          0,
          0,
          0,
          2,
          0,
          0,
          1,
          0,
          0,
          0,
          0,
          0,
          1,
          0,
          0,
          1,
          0,
          1,
          1,
          0,
          0,
          4,
          0,
          1,
          0,
          4,
          0,
          0,
          2,
          1,
          0,
          0,
          0,
          0,
          0,
          0,
          1,
          0,
          0,
          3,
          0,
          2,
          0,
          2,
          0,
          3,
          0,
          1,
          0,
          0,
          0,
          1,
          0,
          0,
          0,
          0,
          1,
          1,
          0,
          0,
          0,
          2,
          0,
          2,
          7,
          1,
          2,
          0,
          0,
          0,
          0,
          1,
          3,
          2,
          4,
          3,
          0,
          0,
          1,
          0,
          0,
          1,
          1,
          0,
          2,
          1,
          0,
          0,
          0,
          0,
          0,
          0,
          0,
          0,
          0,
          0,
          0,
          0,
          0,
          0,
          0,
          2,
          0,
          1,
          0,
          0,
          2,
          0,
          1,
          0,
          0,
          0,
          0,
          0,
          0,
          0,
          0,
          1,
          4,
          1,
          2,
          1,
          0,
          1
         ],
         "yaxis": "y"
        }
       ],
       "layout": {
        "legend": {
         "title": {
          "text": "element_type"
         },
         "tracegroupgap": 0
        },
        "template": {
         "data": {
          "bar": [
           {
            "error_x": {
             "color": "#2a3f5f"
            },
            "error_y": {
             "color": "#2a3f5f"
            },
            "marker": {
             "line": {
              "color": "#E5ECF6",
              "width": 0.5
             },
             "pattern": {
              "fillmode": "overlay",
              "size": 10,
              "solidity": 0.2
             }
            },
            "type": "bar"
           }
          ],
          "barpolar": [
           {
            "marker": {
             "line": {
              "color": "#E5ECF6",
              "width": 0.5
             },
             "pattern": {
              "fillmode": "overlay",
              "size": 10,
              "solidity": 0.2
             }
            },
            "type": "barpolar"
           }
          ],
          "carpet": [
           {
            "aaxis": {
             "endlinecolor": "#2a3f5f",
             "gridcolor": "white",
             "linecolor": "white",
             "minorgridcolor": "white",
             "startlinecolor": "#2a3f5f"
            },
            "baxis": {
             "endlinecolor": "#2a3f5f",
             "gridcolor": "white",
             "linecolor": "white",
             "minorgridcolor": "white",
             "startlinecolor": "#2a3f5f"
            },
            "type": "carpet"
           }
          ],
          "choropleth": [
           {
            "colorbar": {
             "outlinewidth": 0,
             "ticks": ""
            },
            "type": "choropleth"
           }
          ],
          "contour": [
           {
            "colorbar": {
             "outlinewidth": 0,
             "ticks": ""
            },
            "colorscale": [
             [
              0,
              "#0d0887"
             ],
             [
              0.1111111111111111,
              "#46039f"
             ],
             [
              0.2222222222222222,
              "#7201a8"
             ],
             [
              0.3333333333333333,
              "#9c179e"
             ],
             [
              0.4444444444444444,
              "#bd3786"
             ],
             [
              0.5555555555555556,
              "#d8576b"
             ],
             [
              0.6666666666666666,
              "#ed7953"
             ],
             [
              0.7777777777777778,
              "#fb9f3a"
             ],
             [
              0.8888888888888888,
              "#fdca26"
             ],
             [
              1,
              "#f0f921"
             ]
            ],
            "type": "contour"
           }
          ],
          "contourcarpet": [
           {
            "colorbar": {
             "outlinewidth": 0,
             "ticks": ""
            },
            "type": "contourcarpet"
           }
          ],
          "heatmap": [
           {
            "colorbar": {
             "outlinewidth": 0,
             "ticks": ""
            },
            "colorscale": [
             [
              0,
              "#0d0887"
             ],
             [
              0.1111111111111111,
              "#46039f"
             ],
             [
              0.2222222222222222,
              "#7201a8"
             ],
             [
              0.3333333333333333,
              "#9c179e"
             ],
             [
              0.4444444444444444,
              "#bd3786"
             ],
             [
              0.5555555555555556,
              "#d8576b"
             ],
             [
              0.6666666666666666,
              "#ed7953"
             ],
             [
              0.7777777777777778,
              "#fb9f3a"
             ],
             [
              0.8888888888888888,
              "#fdca26"
             ],
             [
              1,
              "#f0f921"
             ]
            ],
            "type": "heatmap"
           }
          ],
          "heatmapgl": [
           {
            "colorbar": {
             "outlinewidth": 0,
             "ticks": ""
            },
            "colorscale": [
             [
              0,
              "#0d0887"
             ],
             [
              0.1111111111111111,
              "#46039f"
             ],
             [
              0.2222222222222222,
              "#7201a8"
             ],
             [
              0.3333333333333333,
              "#9c179e"
             ],
             [
              0.4444444444444444,
              "#bd3786"
             ],
             [
              0.5555555555555556,
              "#d8576b"
             ],
             [
              0.6666666666666666,
              "#ed7953"
             ],
             [
              0.7777777777777778,
              "#fb9f3a"
             ],
             [
              0.8888888888888888,
              "#fdca26"
             ],
             [
              1,
              "#f0f921"
             ]
            ],
            "type": "heatmapgl"
           }
          ],
          "histogram": [
           {
            "marker": {
             "pattern": {
              "fillmode": "overlay",
              "size": 10,
              "solidity": 0.2
             }
            },
            "type": "histogram"
           }
          ],
          "histogram2d": [
           {
            "colorbar": {
             "outlinewidth": 0,
             "ticks": ""
            },
            "colorscale": [
             [
              0,
              "#0d0887"
             ],
             [
              0.1111111111111111,
              "#46039f"
             ],
             [
              0.2222222222222222,
              "#7201a8"
             ],
             [
              0.3333333333333333,
              "#9c179e"
             ],
             [
              0.4444444444444444,
              "#bd3786"
             ],
             [
              0.5555555555555556,
              "#d8576b"
             ],
             [
              0.6666666666666666,
              "#ed7953"
             ],
             [
              0.7777777777777778,
              "#fb9f3a"
             ],
             [
              0.8888888888888888,
              "#fdca26"
             ],
             [
              1,
              "#f0f921"
             ]
            ],
            "type": "histogram2d"
           }
          ],
          "histogram2dcontour": [
           {
            "colorbar": {
             "outlinewidth": 0,
             "ticks": ""
            },
            "colorscale": [
             [
              0,
              "#0d0887"
             ],
             [
              0.1111111111111111,
              "#46039f"
             ],
             [
              0.2222222222222222,
              "#7201a8"
             ],
             [
              0.3333333333333333,
              "#9c179e"
             ],
             [
              0.4444444444444444,
              "#bd3786"
             ],
             [
              0.5555555555555556,
              "#d8576b"
             ],
             [
              0.6666666666666666,
              "#ed7953"
             ],
             [
              0.7777777777777778,
              "#fb9f3a"
             ],
             [
              0.8888888888888888,
              "#fdca26"
             ],
             [
              1,
              "#f0f921"
             ]
            ],
            "type": "histogram2dcontour"
           }
          ],
          "mesh3d": [
           {
            "colorbar": {
             "outlinewidth": 0,
             "ticks": ""
            },
            "type": "mesh3d"
           }
          ],
          "parcoords": [
           {
            "line": {
             "colorbar": {
              "outlinewidth": 0,
              "ticks": ""
             }
            },
            "type": "parcoords"
           }
          ],
          "pie": [
           {
            "automargin": true,
            "type": "pie"
           }
          ],
          "scatter": [
           {
            "marker": {
             "colorbar": {
              "outlinewidth": 0,
              "ticks": ""
             }
            },
            "type": "scatter"
           }
          ],
          "scatter3d": [
           {
            "line": {
             "colorbar": {
              "outlinewidth": 0,
              "ticks": ""
             }
            },
            "marker": {
             "colorbar": {
              "outlinewidth": 0,
              "ticks": ""
             }
            },
            "type": "scatter3d"
           }
          ],
          "scattercarpet": [
           {
            "marker": {
             "colorbar": {
              "outlinewidth": 0,
              "ticks": ""
             }
            },
            "type": "scattercarpet"
           }
          ],
          "scattergeo": [
           {
            "marker": {
             "colorbar": {
              "outlinewidth": 0,
              "ticks": ""
             }
            },
            "type": "scattergeo"
           }
          ],
          "scattergl": [
           {
            "marker": {
             "colorbar": {
              "outlinewidth": 0,
              "ticks": ""
             }
            },
            "type": "scattergl"
           }
          ],
          "scattermapbox": [
           {
            "marker": {
             "colorbar": {
              "outlinewidth": 0,
              "ticks": ""
             }
            },
            "type": "scattermapbox"
           }
          ],
          "scatterpolar": [
           {
            "marker": {
             "colorbar": {
              "outlinewidth": 0,
              "ticks": ""
             }
            },
            "type": "scatterpolar"
           }
          ],
          "scatterpolargl": [
           {
            "marker": {
             "colorbar": {
              "outlinewidth": 0,
              "ticks": ""
             }
            },
            "type": "scatterpolargl"
           }
          ],
          "scatterternary": [
           {
            "marker": {
             "colorbar": {
              "outlinewidth": 0,
              "ticks": ""
             }
            },
            "type": "scatterternary"
           }
          ],
          "surface": [
           {
            "colorbar": {
             "outlinewidth": 0,
             "ticks": ""
            },
            "colorscale": [
             [
              0,
              "#0d0887"
             ],
             [
              0.1111111111111111,
              "#46039f"
             ],
             [
              0.2222222222222222,
              "#7201a8"
             ],
             [
              0.3333333333333333,
              "#9c179e"
             ],
             [
              0.4444444444444444,
              "#bd3786"
             ],
             [
              0.5555555555555556,
              "#d8576b"
             ],
             [
              0.6666666666666666,
              "#ed7953"
             ],
             [
              0.7777777777777778,
              "#fb9f3a"
             ],
             [
              0.8888888888888888,
              "#fdca26"
             ],
             [
              1,
              "#f0f921"
             ]
            ],
            "type": "surface"
           }
          ],
          "table": [
           {
            "cells": {
             "fill": {
              "color": "#EBF0F8"
             },
             "line": {
              "color": "white"
             }
            },
            "header": {
             "fill": {
              "color": "#C8D4E3"
             },
             "line": {
              "color": "white"
             }
            },
            "type": "table"
           }
          ]
         },
         "layout": {
          "annotationdefaults": {
           "arrowcolor": "#2a3f5f",
           "arrowhead": 0,
           "arrowwidth": 1
          },
          "autotypenumbers": "strict",
          "coloraxis": {
           "colorbar": {
            "outlinewidth": 0,
            "ticks": ""
           }
          },
          "colorscale": {
           "diverging": [
            [
             0,
             "#8e0152"
            ],
            [
             0.1,
             "#c51b7d"
            ],
            [
             0.2,
             "#de77ae"
            ],
            [
             0.3,
             "#f1b6da"
            ],
            [
             0.4,
             "#fde0ef"
            ],
            [
             0.5,
             "#f7f7f7"
            ],
            [
             0.6,
             "#e6f5d0"
            ],
            [
             0.7,
             "#b8e186"
            ],
            [
             0.8,
             "#7fbc41"
            ],
            [
             0.9,
             "#4d9221"
            ],
            [
             1,
             "#276419"
            ]
           ],
           "sequential": [
            [
             0,
             "#0d0887"
            ],
            [
             0.1111111111111111,
             "#46039f"
            ],
            [
             0.2222222222222222,
             "#7201a8"
            ],
            [
             0.3333333333333333,
             "#9c179e"
            ],
            [
             0.4444444444444444,
             "#bd3786"
            ],
            [
             0.5555555555555556,
             "#d8576b"
            ],
            [
             0.6666666666666666,
             "#ed7953"
            ],
            [
             0.7777777777777778,
             "#fb9f3a"
            ],
            [
             0.8888888888888888,
             "#fdca26"
            ],
            [
             1,
             "#f0f921"
            ]
           ],
           "sequentialminus": [
            [
             0,
             "#0d0887"
            ],
            [
             0.1111111111111111,
             "#46039f"
            ],
            [
             0.2222222222222222,
             "#7201a8"
            ],
            [
             0.3333333333333333,
             "#9c179e"
            ],
            [
             0.4444444444444444,
             "#bd3786"
            ],
            [
             0.5555555555555556,
             "#d8576b"
            ],
            [
             0.6666666666666666,
             "#ed7953"
            ],
            [
             0.7777777777777778,
             "#fb9f3a"
            ],
            [
             0.8888888888888888,
             "#fdca26"
            ],
            [
             1,
             "#f0f921"
            ]
           ]
          },
          "colorway": [
           "#636efa",
           "#EF553B",
           "#00cc96",
           "#ab63fa",
           "#FFA15A",
           "#19d3f3",
           "#FF6692",
           "#B6E880",
           "#FF97FF",
           "#FECB52"
          ],
          "font": {
           "color": "#2a3f5f"
          },
          "geo": {
           "bgcolor": "white",
           "lakecolor": "white",
           "landcolor": "#E5ECF6",
           "showlakes": true,
           "showland": true,
           "subunitcolor": "white"
          },
          "hoverlabel": {
           "align": "left"
          },
          "hovermode": "closest",
          "mapbox": {
           "style": "light"
          },
          "paper_bgcolor": "white",
          "plot_bgcolor": "#E5ECF6",
          "polar": {
           "angularaxis": {
            "gridcolor": "white",
            "linecolor": "white",
            "ticks": ""
           },
           "bgcolor": "#E5ECF6",
           "radialaxis": {
            "gridcolor": "white",
            "linecolor": "white",
            "ticks": ""
           }
          },
          "scene": {
           "xaxis": {
            "backgroundcolor": "#E5ECF6",
            "gridcolor": "white",
            "gridwidth": 2,
            "linecolor": "white",
            "showbackground": true,
            "ticks": "",
            "zerolinecolor": "white"
           },
           "yaxis": {
            "backgroundcolor": "#E5ECF6",
            "gridcolor": "white",
            "gridwidth": 2,
            "linecolor": "white",
            "showbackground": true,
            "ticks": "",
            "zerolinecolor": "white"
           },
           "zaxis": {
            "backgroundcolor": "#E5ECF6",
            "gridcolor": "white",
            "gridwidth": 2,
            "linecolor": "white",
            "showbackground": true,
            "ticks": "",
            "zerolinecolor": "white"
           }
          },
          "shapedefaults": {
           "line": {
            "color": "#2a3f5f"
           }
          },
          "ternary": {
           "aaxis": {
            "gridcolor": "white",
            "linecolor": "white",
            "ticks": ""
           },
           "baxis": {
            "gridcolor": "white",
            "linecolor": "white",
            "ticks": ""
           },
           "bgcolor": "#E5ECF6",
           "caxis": {
            "gridcolor": "white",
            "linecolor": "white",
            "ticks": ""
           }
          },
          "title": {
           "x": 0.05
          },
          "xaxis": {
           "automargin": true,
           "gridcolor": "white",
           "linecolor": "white",
           "ticks": "",
           "title": {
            "standoff": 15
           },
           "zerolinecolor": "white",
           "zerolinewidth": 2
          },
          "yaxis": {
           "automargin": true,
           "gridcolor": "white",
           "linecolor": "white",
           "ticks": "",
           "title": {
            "standoff": 15
           },
           "zerolinecolor": "white",
           "zerolinewidth": 2
          }
         }
        },
        "title": {
         "text": "Dreamteam count vs Cost"
        },
        "xaxis": {
         "anchor": "y",
         "domain": [
          0,
          1
         ],
         "title": {
          "text": "now_cost"
         }
        },
        "yaxis": {
         "anchor": "x",
         "domain": [
          0,
          1
         ],
         "title": {
          "text": "dreamteam_count"
         }
        }
       }
      }
     },
     "metadata": {},
     "output_type": "display_data"
    }
   ],
   "source": [
    "px.scatter(df, \n",
    "           x='now_cost', y='dreamteam_count',\n",
    "           color='element_type',\n",
    "           color_discrete_map=position_colors,\n",
    "           hover_data= ['player_name'],\n",
    "           title='Dreamteam count vs Cost'\n",
    "              )\n",
    "\n",
    "#sns.scatterplot(x = df['now_cost'], y = df['dreamteam_count'], hue=df['element_type'], palette=position_colors)"
   ]
  },
  {
   "cell_type": "code",
   "execution_count": 15,
   "metadata": {},
   "outputs": [
    {
     "data": {
      "application/vnd.plotly.v1+json": {
       "config": {
        "plotlyServerURL": "https://plot.ly"
       },
       "data": [
        {
         "customdata": [
          [
           "Bernd Leno"
          ],
          [
           "Aaron Ramsdale"
          ],
          [
           "Álvaro Fernández"
          ],
          [
           "Jonas Lössl"
          ],
          [
           "Jason Steele"
          ],
          [
           "Robert Sánchez"
          ],
          [
           "Nick Pope"
          ],
          [
           "Wayne Hennessey"
          ],
          [
           "Edouard Mendy"
          ],
          [
           "Vicente Guaita"
          ],
          [
           "Jack Butland"
          ],
          [
           "Jordan Pickford"
          ],
          [
           "Kasper Schmeichel"
          ],
          [
           "Illan Meslier"
          ],
          [
           "Caoimhin Kelleher"
          ],
          [
           "Zack Steffen"
          ],
          [
           "David de Gea"
          ],
          [
           "Karl Darlow"
          ],
          [
           "Martin Dubravka"
          ],
          [
           "Tim Krul"
          ],
          [
           "Angus Gunn"
          ],
          [
           "Fraser Forster"
          ],
          [
           "Willy Caballero"
          ],
          [
           "Hugo Lloris"
          ],
          [
           "Ben Foster"
          ],
          [
           "Daniel Bachmann"
          ],
          [
           "Lukasz Fabianski"
          ],
          [
           "Alphonse Areola"
          ]
         ],
         "hovertemplate": "element_type=Goalkeeper<br>selected_by_percent=%{x}<br>total_points=%{y}<br>player_name=%{customdata[0]}<extra></extra>",
         "legendgroup": "Goalkeeper",
         "marker": {
          "color": "red",
          "symbol": "circle"
         },
         "mode": "markers",
         "name": "Goalkeeper",
         "orientation": "v",
         "showlegend": true,
         "type": "scatter",
         "x": [
          0.8,
          20.4,
          0.6,
          0,
          1.8,
          16.7,
          3.3,
          0.3,
          11.8,
          6,
          0.4,
          4.5,
          12.1,
          2.1,
          0.1,
          0.2,
          11.6,
          0.3,
          2.7,
          1.1,
          1.9,
          1.3,
          0,
          7.8,
          18.9,
          1.6,
          2.7,
          0.7
         ],
         "xaxis": "x",
         "y": [
          4,
          107,
          31,
          2,
          2,
          86,
          90,
          4,
          96,
          80,
          19,
          73,
          85,
          72,
          8,
          7,
          112,
          20,
          53,
          58,
          26,
          35,
          2,
          104,
          57,
          22,
          97,
          2
         ],
         "yaxis": "y"
        },
        {
         "customdata": [
          [
           "Cédric Soares"
          ],
          [
           "Rob Holding"
          ],
          [
           "Kieran Tierney"
          ],
          [
           "Ben White"
          ],
          [
           "Takehiro Tomiyasu"
          ],
          [
           "Calum Chambers"
          ],
          [
           "Kortney Hause"
          ],
          [
           "Tyrone Mings"
          ],
          [
           "Matthew Cash"
          ],
          [
           "Ezri Konsa Ngoyo"
          ],
          [
           "Ashley Young"
          ],
          [
           "Lucas Digne"
          ],
          [
           "Pontus Jansson"
          ],
          [
           "Rico Henry"
          ],
          [
           "Mads Bech Sørensen"
          ],
          [
           "Ethan Pinnock"
          ],
          [
           "Kristoffer Ajer"
          ],
          [
           "Shane Duffy"
          ],
          [
           "Lewis Dunk"
          ],
          [
           "Adam Webster"
          ],
          [
           "Joël Veltman"
          ],
          [
           "Tariq Lamptey"
          ],
          [
           "Marc Cucurella"
          ],
          [
           "James Tarkowski"
          ],
          [
           "Erik Pieters"
          ],
          [
           "Ben Mee"
          ],
          [
           "Matthew Lowton"
          ],
          [
           "Charlie Taylor"
          ],
          [
           "Nathan Collins"
          ],
          [
           "Connor Roberts"
          ],
          [
           "César Azpilicueta"
          ],
          [
           "Marcos Alonso"
          ],
          [
           "Antonio Rüdiger"
          ],
          [
           "Andreas Christensen"
          ],
          [
           "Reece James"
          ],
          [
           "Malang Sarr"
          ],
          [
           "Trevoh Chalobah"
          ],
          [
           "James Tomkins"
          ],
          [
           "Cheikhou Kouyaté"
          ],
          [
           "Tyrick Mitchell"
          ],
          [
           "Joel Ward"
          ],
          [
           "Joachim Andersen"
          ],
          [
           "Nathaniel Clyne"
          ],
          [
           "Seamus Coleman"
          ],
          [
           "Michael Keane"
          ],
          [
           "Yerry Mina"
          ],
          [
           "Mason Holgate"
          ],
          [
           "Ben Godfrey"
          ],
          [
           "Jonjoe Kenny"
          ],
          [
           "Jarrad Branthwaite"
          ],
          [
           "Vitalii Mykolenko"
          ],
          [
           "Jonny Evans"
          ],
          [
           "Daniel Amartey"
          ],
          [
           "Timothy Castagne"
          ],
          [
           "James Justin"
          ],
          [
           "Luke Thomas"
          ],
          [
           "Jannik Vestergaard"
          ],
          [
           "Liam Cooper"
          ],
          [
           "Luke Ayling"
          ],
          [
           "Diego Llorente"
          ],
          [
           "Robin Koch"
          ],
          [
           "Pascal Struijk"
          ],
          [
           "Charlie Cresswell"
          ],
          [
           "Joel Matip"
          ],
          [
           "Virgil van Dijk"
          ],
          [
           "Andrew Robertson"
          ],
          [
           "Trent Alexander-Arnold"
          ],
          [
           "Joseph Gomez"
          ],
          [
           "Ibrahima Konaté"
          ],
          [
           "Konstantinos Tsimikas"
          ],
          [
           "Kyle Walker"
          ],
          [
           "John Stones"
          ],
          [
           "Nathan Aké"
          ],
          [
           "Aymeric Laporte"
          ],
          [
           "Rúben Santos Gato Alves Dias"
          ],
          [
           "Oleksandr Zinchenko"
          ],
          [
           "Harry Maguire"
          ],
          [
           "Luke Shaw"
          ],
          [
           "Victor Lindelöf"
          ],
          [
           "Eric Bailly"
          ],
          [
           "Aaron Wan-Bissaka"
          ],
          [
           "Phil Jones"
          ],
          [
           "Matt Targett"
          ],
          [
           "Dan Burn"
          ],
          [
           "Matt Ritchie"
          ],
          [
           "Jamaal Lascelles"
          ],
          [
           "Paul Dummett"
          ],
          [
           "Javier Manquillo"
          ],
          [
           "Emil Krafth"
          ],
          [
           "Fabian Schär"
          ],
          [
           "Federico Fernández"
          ],
          [
           "Brandon Williams"
          ],
          [
           "Grant Hanley"
          ],
          [
           "Sam Byram"
          ],
          [
           "Max Aarons"
          ],
          [
           "Jacob Sørensen"
          ],
          [
           "Ben Gibson"
          ],
          [
           "Dimitris Giannoulis"
          ],
          [
           "Ozan Kabak"
          ],
          [
           "Jack Stephens"
          ],
          [
           "Kyle Walker-Peters"
          ],
          [
           "Jan Bednarek"
          ],
          [
           "Mohammed Salisu"
          ],
          [
           "Romain Perraud"
          ],
          [
           "Yan Valery"
          ],
          [
           "Matt Doherty"
          ],
          [
           "Eric Dier"
          ],
          [
           "Ben Davies"
          ],
          [
           "Davinson Sánchez"
          ],
          [
           "Ryan Sessegnon"
          ],
          [
           "Sergio Reguilón"
          ],
          [
           "Cristian Romero"
          ],
          [
           "Craig Cathcart"
          ],
          [
           "Christian Kabasele"
          ],
          [
           "William Troost-Ekong"
          ],
          [
           "Adam Masina"
          ],
          [
           "Francisco Sierralta"
          ],
          [
           "Jeremy Ngakia"
          ],
          [
           "Hassane Kamara"
          ],
          [
           "Kurt Zouma"
          ],
          [
           "Aaron Cresswell"
          ],
          [
           "Craig Dawson"
          ],
          [
           "Ryan Fredericks"
          ],
          [
           "Arthur Masuaku"
          ],
          [
           "Issa Diop"
          ],
          [
           "Ben Johnson"
          ],
          [
           "Willy Boly"
          ],
          [
           "Conor Coady"
          ],
          [
           "Fernando Marçal"
          ],
          [
           "Max Kilman"
          ],
          [
           "Ki-Jana Hoever"
          ],
          [
           "Rayan Ait Nouri"
          ]
         ],
         "hovertemplate": "element_type=Defender<br>selected_by_percent=%{x}<br>total_points=%{y}<br>player_name=%{customdata[0]}<extra></extra>",
         "legendgroup": "Defender",
         "marker": {
          "color": "blue",
          "symbol": "circle"
         },
         "mode": "markers",
         "name": "Defender",
         "orientation": "v",
         "showlegend": true,
         "type": "scatter",
         "x": [
          0.2,
          0.6,
          12.3,
          13.1,
          2.1,
          0.2,
          0.2,
          6.2,
          6.4,
          0.9,
          0.4,
          9.3,
          5.8,
          0.9,
          0,
          3.2,
          0.5,
          8.7,
          2.1,
          0.4,
          1,
          2.4,
          3.2,
          1.4,
          0.3,
          2.1,
          1.3,
          0.3,
          0.1,
          0.5,
          3.1,
          8.3,
          25.6,
          1.4,
          14.8,
          0.2,
          1.9,
          0.1,
          0.5,
          1.3,
          0.2,
          0.4,
          0.1,
          0.6,
          2.4,
          0.3,
          0.5,
          0.4,
          0.1,
          0.3,
          0,
          0.2,
          9.6,
          0.5,
          0.1,
          0.7,
          0.5,
          0.2,
          2.8,
          0.3,
          0.1,
          0.1,
          0.3,
          3.1,
          18.8,
          7.5,
          46.3,
          0.4,
          1.1,
          10.7,
          5.3,
          2.7,
          0.4,
          8.8,
          20.2,
          0.7,
          4.8,
          12.2,
          0.5,
          0.1,
          3.1,
          0,
          2.6,
          0.6,
          0.2,
          0.2,
          0,
          5,
          0.1,
          1.9,
          0.1,
          5.2,
          0.1,
          0,
          1,
          0,
          0.1,
          0.1,
          0,
          0.1,
          1.2,
          1.8,
          0.3,
          0.1,
          0.5,
          1.9,
          4.3,
          1.7,
          2.3,
          0.1,
          10.8,
          0.4,
          0.3,
          0,
          0.1,
          0.1,
          0,
          0,
          0.1,
          1.2,
          7.7,
          1.1,
          0.1,
          0.1,
          0.3,
          3,
          0.1,
          15.1,
          1.5,
          3.9,
          1.8,
          1.9
         ],
         "xaxis": "x",
         "y": [
          12,
          15,
          93,
          88,
          69,
          26,
          20,
          97,
          117,
          66,
          40,
          56,
          79,
          68,
          6,
          73,
          46,
          47,
          60,
          53,
          55,
          53,
          81,
          65,
          33,
          74,
          56,
          47,
          21,
          37,
          68,
          78,
          114,
          50,
          109,
          21,
          74,
          17,
          63,
          84,
          55,
          73,
          14,
          49,
          69,
          16,
          23,
          29,
          17,
          9,
          2,
          19,
          38,
          29,
          4,
          45,
          11,
          41,
          29,
          47,
          8,
          17,
          4,
          94,
          136,
          124,
          174,
          6,
          27,
          38,
          72,
          55,
          38,
          117,
          122,
          34,
          62,
          46,
          53,
          2,
          39,
          2,
          62,
          56,
          18,
          33,
          7,
          35,
          23,
          61,
          11,
          34,
          52,
          3,
          48,
          8,
          37,
          23,
          17,
          12,
          65,
          77,
          54,
          29,
          2,
          43,
          85,
          55,
          67,
          23,
          85,
          23,
          44,
          8,
          17,
          12,
          5,
          20,
          26,
          53,
          91,
          70,
          3,
          27,
          26,
          39,
          6,
          108,
          53,
          94,
          14,
          71
         ],
         "yaxis": "y"
        },
        {
         "customdata": [
          [
           "Alexandre Lacazette"
          ],
          [
           "Ollie Watkins"
          ],
          [
           "Danny Ings"
          ],
          [
           "Ivan Toney"
          ],
          [
           "Neal Maupay"
          ],
          [
           "Danny Welbeck"
          ],
          [
           "Jay Rodriguez"
          ],
          [
           "Ashley Barnes"
          ],
          [
           "Matej Vydra"
          ],
          [
           "Wout Weghorst"
          ],
          [
           "Timo Werner"
          ],
          [
           "Romelu Lukaku"
          ],
          [
           "Christian Benteke"
          ],
          [
           "Jordan Ayew"
          ],
          [
           "Jean-Philippe Mateta"
          ],
          [
           "Odsonne Edouard"
          ],
          [
           "Dominic Calvert-Lewin"
          ],
          [
           "Salomón Rondón"
          ],
          [
           "Jamie Vardy"
          ],
          [
           "Kelechi Iheanacho"
          ],
          [
           "Patson Daka"
          ],
          [
           "Patrick Bamford"
          ],
          [
           "Joe Gelhardt"
          ],
          [
           "Roberto Firmino"
          ],
          [
           "Edinson Cavani"
          ],
          [
           "Chris Wood"
          ],
          [
           "Callum Wilson"
          ],
          [
           "Allan Saint-Maximin"
          ],
          [
           "Teemu Pukki"
          ],
          [
           "Adam Idah"
          ],
          [
           "Joshua Sargent"
          ],
          [
           "Che Adams"
          ],
          [
           "Armando Broja"
          ],
          [
           "Shane Long"
          ],
          [
           "Adam Armstrong"
          ],
          [
           "Harry Kane"
          ],
          [
           "Emmanuel Dennis"
          ],
          [
           "Joshua King"
          ],
          [
           "Michail Antonio"
          ],
          [
           "Raúl Jiménez"
          ],
          [
           "Fabio Silva"
          ],
          [
           "Hee-Chan Hwang"
          ]
         ],
         "hovertemplate": "element_type=Forward<br>selected_by_percent=%{x}<br>total_points=%{y}<br>player_name=%{customdata[0]}<extra></extra>",
         "legendgroup": "Forward",
         "marker": {
          "color": "Green",
          "symbol": "circle"
         },
         "mode": "markers",
         "name": "Forward",
         "orientation": "v",
         "showlegend": true,
         "type": "scatter",
         "x": [
          5.8,
          10.5,
          7.6,
          9.3,
          8.8,
          0.3,
          1.6,
          0.7,
          0.3,
          5.7,
          1.5,
          8.4,
          1.3,
          0.7,
          0.5,
          4.7,
          3.1,
          0.2,
          9.2,
          1.9,
          1.6,
          2.9,
          2.5,
          2.4,
          1.7,
          2.3,
          1.1,
          12.8,
          5.5,
          0.9,
          0.5,
          7.4,
          15.7,
          0.2,
          1.5,
          17,
          34.2,
          5.3,
          31.1,
          11.7,
          0.4,
          4.1
         ],
         "xaxis": "x",
         "y": [
          71,
          83,
          80,
          95,
          92,
          39,
          40,
          15,
          27,
          28,
          27,
          62,
          55,
          56,
          36,
          81,
          31,
          24,
          92,
          50,
          50,
          26,
          25,
          49,
          29,
          68,
          59,
          92,
          99,
          36,
          57,
          87,
          80,
          12,
          52,
          109,
          113,
          78,
          112,
          87,
          17,
          67
         ],
         "yaxis": "y"
        },
        {
         "customdata": [
          [
           "Granit Xhaka"
          ],
          [
           "Thomas Partey"
          ],
          [
           "Bukayo Saka"
          ],
          [
           "Albert Sambi Lokonga"
          ],
          [
           "Bertrand Traoré"
          ],
          [
           "Morgan Sanson"
          ],
          [
           "John McGinn"
          ],
          [
           "Marvelous Nakamba"
          ],
          [
           "Jacob Ramsey"
          ],
          [
           "Leon Bailey"
          ],
          [
           "Carney Chukwuemeka"
          ],
          [
           "Christian Nørgaard"
          ],
          [
           "Vitaly Janelt"
          ],
          [
           "Saman Ghoddos"
          ],
          [
           "Mathias Jensen"
          ],
          [
           "Bryan Mbeumo"
          ],
          [
           "Frank Onyeka"
          ],
          [
           "Shandon Baptiste"
          ],
          [
           "Yoane Wissa"
          ],
          [
           "Christian Eriksen"
          ],
          [
           "Adam Lallana"
          ],
          [
           "Pascal Groß"
          ],
          [
           "Leandro Trossard"
          ],
          [
           "Yves Bissouma"
          ],
          [
           "Steven Alzate"
          ],
          [
           "Alexis Mac Allister"
          ],
          [
           "Jakub Moder"
          ],
          [
           "Enock Mwepu"
          ],
          [
           "Jack Cork"
          ],
          [
           "Dale Stephens"
          ],
          [
           "Ashley Westwood"
          ],
          [
           "Josh Brownhill"
          ],
          [
           "Dwight McNeil"
          ],
          [
           "Aaron Lennon"
          ],
          [
           "Maxwel Cornet"
          ],
          [
           "Ross Barkley"
          ],
          [
           "Mateo Kovacic"
          ],
          [
           "Hakim Ziyech"
          ],
          [
           "Ruben Loftus-Cheek"
          ],
          [
           "Christian Pulisic"
          ],
          [
           "Mason Mount"
          ],
          [
           "Callum Hudson-Odoi"
          ],
          [
           "Kai Havertz"
          ],
          [
           "Saúl Ñíguez"
          ],
          [
           "Conor Gallagher"
          ],
          [
           "James McArthur"
          ],
          [
           "Luka Milivojevic"
          ],
          [
           "Wilfried Zaha"
          ],
          [
           "Jeffrey Schlupp"
          ],
          [
           "Jairo Riedewald"
          ],
          [
           "Eberechi Eze"
          ],
          [
           "Will Hughes"
          ],
          [
           "Michael Olise"
          ],
          [
           "Anwar El Ghazi"
          ],
          [
           "Fabian Delph"
          ],
          [
           "Abdoulaye Doucouré"
          ],
          [
           "Alex Iwobi"
          ],
          [
           "Donny van de Beek"
          ],
          [
           "Andros Townsend"
          ],
          [
           "Demarai Gray"
          ],
          [
           "Anthony Gordon"
          ],
          [
           "Marc Albrighton"
          ],
          [
           "Youri Tielemans"
          ],
          [
           "Ayoze Pérez"
          ],
          [
           "James Maddison"
          ],
          [
           "Hamza Choudhury"
          ],
          [
           "Harvey Barnes"
          ],
          [
           "Wilfred Ndidi"
          ],
          [
           "Kiernan Dewsbury-Hall"
          ],
          [
           "Ademola Lookman"
          ],
          [
           "Mateusz Klich"
          ],
          [
           "Stuart Dallas"
          ],
          [
           "Kalvin Phillips"
          ],
          [
           "Tyler Roberts"
          ],
          [
           "Jamie Shackleton"
          ],
          [
           "Jack Harrison"
          ],
          [
           "Daniel James"
          ],
          [
           "Crysencio Summerville"
          ],
          [
           "Adam Forshaw"
          ],
          [
           "James Milner"
          ],
          [
           "Jordan Henderson"
          ],
          [
           "Alex Oxlade-Chamberlain"
          ],
          [
           "Sadio Mané"
          ],
          [
           "Mohamed Salah"
          ],
          [
           "Naby Keita"
          ],
          [
           "Diogo Jota"
          ],
          [
           "Curtis Jones"
          ],
          [
           "Harvey Elliott"
          ],
          [
           "Luis Díaz"
          ],
          [
           "Jack Grealish"
          ],
          [
           "Ilkay Gündogan"
          ],
          [
           "Kevin De Bruyne"
          ],
          [
           "Riyad Mahrez"
          ],
          [
           "Raheem Sterling"
          ],
          [
           "Phil Foden"
          ],
          [
           "Cole Palmer"
          ],
          [
           "Nemanja Matic"
          ],
          [
           "Paul Pogba"
          ],
          [
           "Jesse Lingard"
          ],
          [
           "Marcus Rashford"
          ],
          [
           "Scott McTominay"
          ],
          [
           "Jadon Sancho"
          ],
          [
           "Anthony Elanga"
          ],
          [
           "Jonjo Shelvey"
          ],
          [
           "Ryan Fraser"
          ],
          [
           "Jacob Murphy"
          ],
          [
           "Miguel Almirón"
          ],
          [
           "Sean Longstaff"
          ],
          [
           "Billy Gilmour"
          ],
          [
           "Lukas Rupp"
          ],
          [
           "Kenny McLean"
          ],
          [
           "Kieran Dowell"
          ],
          [
           "Przemyslaw Placheta"
          ],
          [
           "Milot Rashica"
          ],
          [
           "Pierre Lees-Melou"
          ],
          [
           "Christos Tzolis"
          ],
          [
           "Mathias Normann"
          ],
          [
           "Theo Walcott"
          ],
          [
           "Nathan Redmond"
          ],
          [
           "Stuart Armstrong"
          ],
          [
           "James Ward-Prowse"
          ],
          [
           "Nathan Tella"
          ],
          [
           "Ibrahima Diallo"
          ],
          [
           "Moussa Djenepo"
          ],
          [
           "Mohamed Elyounoussi"
          ],
          [
           "Pierre-Emile Højbjerg"
          ],
          [
           "Harry Winks"
          ],
          [
           "Steven Bergwijn"
          ],
          [
           "Dejan Kulusevski"
          ],
          [
           "Rodrigo Bentancur"
          ],
          [
           "Moussa Sissoko"
          ],
          [
           "Tom Cleverley"
          ],
          [
           "Ken Sema"
          ],
          [
           "Juraj Kucka"
          ],
          [
           "Edo Kayembe"
          ],
          [
           "Mark Noble"
          ],
          [
           "Manuel Lanzini"
          ],
          [
           "Jarrod Bowen"
          ],
          [
           "Declan Rice"
          ],
          [
           "Tomas Soucek"
          ],
          [
           "Pablo Fornals"
          ],
          [
           "Nikola Vlasic"
          ],
          [
           "Leander Dendoncker"
          ]
         ],
         "hovertemplate": "element_type=Midfielder<br>selected_by_percent=%{x}<br>total_points=%{y}<br>player_name=%{customdata[0]}<extra></extra>",
         "legendgroup": "Midfielder",
         "marker": {
          "color": "Orange",
          "symbol": "circle"
         },
         "mode": "markers",
         "name": "Midfielder",
         "orientation": "v",
         "showlegend": true,
         "type": "scatter",
         "x": [
          0.3,
          0.3,
          24,
          0.1,
          0.3,
          0,
          1.1,
          0.1,
          10.1,
          0.4,
          0,
          0.6,
          0.1,
          0,
          0,
          1,
          0.1,
          0,
          0.1,
          0.1,
          0.2,
          0.3,
          1.5,
          5.1,
          0,
          0.7,
          0.7,
          0.1,
          0.1,
          0,
          0.3,
          2.7,
          0.3,
          0.1,
          0.9,
          0.1,
          2.1,
          1.4,
          0.1,
          0.8,
          14.8,
          0.3,
          4.7,
          0.1,
          13.7,
          1.2,
          0,
          5.5,
          0.1,
          0,
          0.1,
          0.1,
          0.6,
          0.3,
          0.3,
          1.2,
          0.2,
          0.6,
          2.4,
          5.1,
          1.8,
          0.1,
          3.6,
          0.1,
          7.1,
          0.1,
          2.3,
          0.8,
          0.2,
          0.3,
          0.3,
          3,
          0.9,
          0.1,
          0.1,
          1.6,
          1,
          0,
          0.1,
          0.1,
          1.8,
          0.2,
          3.6,
          61.7,
          0.2,
          18.7,
          0.1,
          0.1,
          2.2,
          7.2,
          2.8,
          8.1,
          4.2,
          3.1,
          6,
          0.1,
          0.4,
          7.1,
          1,
          0.7,
          0.4,
          2.7,
          0.6,
          0.2,
          1.3,
          0.4,
          0.2,
          0.4,
          3.3,
          0.2,
          0.1,
          0,
          0,
          0.1,
          0.1,
          0,
          0.1,
          0.1,
          0.2,
          0.3,
          8.6,
          0,
          0.2,
          0,
          0.2,
          2.8,
          1.1,
          0.4,
          4.5,
          0,
          2.3,
          0.1,
          0,
          0.1,
          0,
          0.6,
          0.4,
          24.5,
          4.4,
          3.5,
          1.3,
          0,
          0.5
         ],
         "xaxis": "x",
         "y": [
          26,
          52,
          122,
          26,
          10,
          11,
          78,
          16,
          84,
          29,
          13,
          69,
          58,
          26,
          38,
          75,
          34,
          32,
          45,
          2,
          40,
          46,
          80,
          36,
          12,
          66,
          56,
          35,
          22,
          3,
          54,
          52,
          61,
          43,
          62,
          7,
          68,
          63,
          33,
          52,
          120,
          49,
          78,
          13,
          121,
          43,
          15,
          97,
          61,
          4,
          7,
          29,
          62,
          22,
          6,
          67,
          38,
          23,
          64,
          74,
          63,
          33,
          92,
          13,
          106,
          7,
          81,
          40,
          33,
          53,
          48,
          67,
          25,
          34,
          18,
          71,
          77,
          5,
          33,
          29,
          84,
          42,
          134,
          212,
          42,
          126,
          32,
          10,
          18,
          60,
          89,
          120,
          111,
          113,
          100,
          9,
          28,
          59,
          24,
          52,
          57,
          75,
          30,
          51,
          70,
          45,
          31,
          34,
          36,
          16,
          53,
          16,
          15,
          51,
          44,
          13,
          35,
          12,
          59,
          37,
          109,
          17,
          38,
          12,
          65,
          80,
          27,
          40,
          34,
          8,
          66,
          41,
          17,
          37,
          13,
          10,
          66,
          153,
          74,
          90,
          89,
          25,
          52
         ],
         "yaxis": "y"
        }
       ],
       "layout": {
        "legend": {
         "title": {
          "text": "element_type"
         },
         "tracegroupgap": 0
        },
        "template": {
         "data": {
          "bar": [
           {
            "error_x": {
             "color": "#2a3f5f"
            },
            "error_y": {
             "color": "#2a3f5f"
            },
            "marker": {
             "line": {
              "color": "#E5ECF6",
              "width": 0.5
             },
             "pattern": {
              "fillmode": "overlay",
              "size": 10,
              "solidity": 0.2
             }
            },
            "type": "bar"
           }
          ],
          "barpolar": [
           {
            "marker": {
             "line": {
              "color": "#E5ECF6",
              "width": 0.5
             },
             "pattern": {
              "fillmode": "overlay",
              "size": 10,
              "solidity": 0.2
             }
            },
            "type": "barpolar"
           }
          ],
          "carpet": [
           {
            "aaxis": {
             "endlinecolor": "#2a3f5f",
             "gridcolor": "white",
             "linecolor": "white",
             "minorgridcolor": "white",
             "startlinecolor": "#2a3f5f"
            },
            "baxis": {
             "endlinecolor": "#2a3f5f",
             "gridcolor": "white",
             "linecolor": "white",
             "minorgridcolor": "white",
             "startlinecolor": "#2a3f5f"
            },
            "type": "carpet"
           }
          ],
          "choropleth": [
           {
            "colorbar": {
             "outlinewidth": 0,
             "ticks": ""
            },
            "type": "choropleth"
           }
          ],
          "contour": [
           {
            "colorbar": {
             "outlinewidth": 0,
             "ticks": ""
            },
            "colorscale": [
             [
              0,
              "#0d0887"
             ],
             [
              0.1111111111111111,
              "#46039f"
             ],
             [
              0.2222222222222222,
              "#7201a8"
             ],
             [
              0.3333333333333333,
              "#9c179e"
             ],
             [
              0.4444444444444444,
              "#bd3786"
             ],
             [
              0.5555555555555556,
              "#d8576b"
             ],
             [
              0.6666666666666666,
              "#ed7953"
             ],
             [
              0.7777777777777778,
              "#fb9f3a"
             ],
             [
              0.8888888888888888,
              "#fdca26"
             ],
             [
              1,
              "#f0f921"
             ]
            ],
            "type": "contour"
           }
          ],
          "contourcarpet": [
           {
            "colorbar": {
             "outlinewidth": 0,
             "ticks": ""
            },
            "type": "contourcarpet"
           }
          ],
          "heatmap": [
           {
            "colorbar": {
             "outlinewidth": 0,
             "ticks": ""
            },
            "colorscale": [
             [
              0,
              "#0d0887"
             ],
             [
              0.1111111111111111,
              "#46039f"
             ],
             [
              0.2222222222222222,
              "#7201a8"
             ],
             [
              0.3333333333333333,
              "#9c179e"
             ],
             [
              0.4444444444444444,
              "#bd3786"
             ],
             [
              0.5555555555555556,
              "#d8576b"
             ],
             [
              0.6666666666666666,
              "#ed7953"
             ],
             [
              0.7777777777777778,
              "#fb9f3a"
             ],
             [
              0.8888888888888888,
              "#fdca26"
             ],
             [
              1,
              "#f0f921"
             ]
            ],
            "type": "heatmap"
           }
          ],
          "heatmapgl": [
           {
            "colorbar": {
             "outlinewidth": 0,
             "ticks": ""
            },
            "colorscale": [
             [
              0,
              "#0d0887"
             ],
             [
              0.1111111111111111,
              "#46039f"
             ],
             [
              0.2222222222222222,
              "#7201a8"
             ],
             [
              0.3333333333333333,
              "#9c179e"
             ],
             [
              0.4444444444444444,
              "#bd3786"
             ],
             [
              0.5555555555555556,
              "#d8576b"
             ],
             [
              0.6666666666666666,
              "#ed7953"
             ],
             [
              0.7777777777777778,
              "#fb9f3a"
             ],
             [
              0.8888888888888888,
              "#fdca26"
             ],
             [
              1,
              "#f0f921"
             ]
            ],
            "type": "heatmapgl"
           }
          ],
          "histogram": [
           {
            "marker": {
             "pattern": {
              "fillmode": "overlay",
              "size": 10,
              "solidity": 0.2
             }
            },
            "type": "histogram"
           }
          ],
          "histogram2d": [
           {
            "colorbar": {
             "outlinewidth": 0,
             "ticks": ""
            },
            "colorscale": [
             [
              0,
              "#0d0887"
             ],
             [
              0.1111111111111111,
              "#46039f"
             ],
             [
              0.2222222222222222,
              "#7201a8"
             ],
             [
              0.3333333333333333,
              "#9c179e"
             ],
             [
              0.4444444444444444,
              "#bd3786"
             ],
             [
              0.5555555555555556,
              "#d8576b"
             ],
             [
              0.6666666666666666,
              "#ed7953"
             ],
             [
              0.7777777777777778,
              "#fb9f3a"
             ],
             [
              0.8888888888888888,
              "#fdca26"
             ],
             [
              1,
              "#f0f921"
             ]
            ],
            "type": "histogram2d"
           }
          ],
          "histogram2dcontour": [
           {
            "colorbar": {
             "outlinewidth": 0,
             "ticks": ""
            },
            "colorscale": [
             [
              0,
              "#0d0887"
             ],
             [
              0.1111111111111111,
              "#46039f"
             ],
             [
              0.2222222222222222,
              "#7201a8"
             ],
             [
              0.3333333333333333,
              "#9c179e"
             ],
             [
              0.4444444444444444,
              "#bd3786"
             ],
             [
              0.5555555555555556,
              "#d8576b"
             ],
             [
              0.6666666666666666,
              "#ed7953"
             ],
             [
              0.7777777777777778,
              "#fb9f3a"
             ],
             [
              0.8888888888888888,
              "#fdca26"
             ],
             [
              1,
              "#f0f921"
             ]
            ],
            "type": "histogram2dcontour"
           }
          ],
          "mesh3d": [
           {
            "colorbar": {
             "outlinewidth": 0,
             "ticks": ""
            },
            "type": "mesh3d"
           }
          ],
          "parcoords": [
           {
            "line": {
             "colorbar": {
              "outlinewidth": 0,
              "ticks": ""
             }
            },
            "type": "parcoords"
           }
          ],
          "pie": [
           {
            "automargin": true,
            "type": "pie"
           }
          ],
          "scatter": [
           {
            "marker": {
             "colorbar": {
              "outlinewidth": 0,
              "ticks": ""
             }
            },
            "type": "scatter"
           }
          ],
          "scatter3d": [
           {
            "line": {
             "colorbar": {
              "outlinewidth": 0,
              "ticks": ""
             }
            },
            "marker": {
             "colorbar": {
              "outlinewidth": 0,
              "ticks": ""
             }
            },
            "type": "scatter3d"
           }
          ],
          "scattercarpet": [
           {
            "marker": {
             "colorbar": {
              "outlinewidth": 0,
              "ticks": ""
             }
            },
            "type": "scattercarpet"
           }
          ],
          "scattergeo": [
           {
            "marker": {
             "colorbar": {
              "outlinewidth": 0,
              "ticks": ""
             }
            },
            "type": "scattergeo"
           }
          ],
          "scattergl": [
           {
            "marker": {
             "colorbar": {
              "outlinewidth": 0,
              "ticks": ""
             }
            },
            "type": "scattergl"
           }
          ],
          "scattermapbox": [
           {
            "marker": {
             "colorbar": {
              "outlinewidth": 0,
              "ticks": ""
             }
            },
            "type": "scattermapbox"
           }
          ],
          "scatterpolar": [
           {
            "marker": {
             "colorbar": {
              "outlinewidth": 0,
              "ticks": ""
             }
            },
            "type": "scatterpolar"
           }
          ],
          "scatterpolargl": [
           {
            "marker": {
             "colorbar": {
              "outlinewidth": 0,
              "ticks": ""
             }
            },
            "type": "scatterpolargl"
           }
          ],
          "scatterternary": [
           {
            "marker": {
             "colorbar": {
              "outlinewidth": 0,
              "ticks": ""
             }
            },
            "type": "scatterternary"
           }
          ],
          "surface": [
           {
            "colorbar": {
             "outlinewidth": 0,
             "ticks": ""
            },
            "colorscale": [
             [
              0,
              "#0d0887"
             ],
             [
              0.1111111111111111,
              "#46039f"
             ],
             [
              0.2222222222222222,
              "#7201a8"
             ],
             [
              0.3333333333333333,
              "#9c179e"
             ],
             [
              0.4444444444444444,
              "#bd3786"
             ],
             [
              0.5555555555555556,
              "#d8576b"
             ],
             [
              0.6666666666666666,
              "#ed7953"
             ],
             [
              0.7777777777777778,
              "#fb9f3a"
             ],
             [
              0.8888888888888888,
              "#fdca26"
             ],
             [
              1,
              "#f0f921"
             ]
            ],
            "type": "surface"
           }
          ],
          "table": [
           {
            "cells": {
             "fill": {
              "color": "#EBF0F8"
             },
             "line": {
              "color": "white"
             }
            },
            "header": {
             "fill": {
              "color": "#C8D4E3"
             },
             "line": {
              "color": "white"
             }
            },
            "type": "table"
           }
          ]
         },
         "layout": {
          "annotationdefaults": {
           "arrowcolor": "#2a3f5f",
           "arrowhead": 0,
           "arrowwidth": 1
          },
          "autotypenumbers": "strict",
          "coloraxis": {
           "colorbar": {
            "outlinewidth": 0,
            "ticks": ""
           }
          },
          "colorscale": {
           "diverging": [
            [
             0,
             "#8e0152"
            ],
            [
             0.1,
             "#c51b7d"
            ],
            [
             0.2,
             "#de77ae"
            ],
            [
             0.3,
             "#f1b6da"
            ],
            [
             0.4,
             "#fde0ef"
            ],
            [
             0.5,
             "#f7f7f7"
            ],
            [
             0.6,
             "#e6f5d0"
            ],
            [
             0.7,
             "#b8e186"
            ],
            [
             0.8,
             "#7fbc41"
            ],
            [
             0.9,
             "#4d9221"
            ],
            [
             1,
             "#276419"
            ]
           ],
           "sequential": [
            [
             0,
             "#0d0887"
            ],
            [
             0.1111111111111111,
             "#46039f"
            ],
            [
             0.2222222222222222,
             "#7201a8"
            ],
            [
             0.3333333333333333,
             "#9c179e"
            ],
            [
             0.4444444444444444,
             "#bd3786"
            ],
            [
             0.5555555555555556,
             "#d8576b"
            ],
            [
             0.6666666666666666,
             "#ed7953"
            ],
            [
             0.7777777777777778,
             "#fb9f3a"
            ],
            [
             0.8888888888888888,
             "#fdca26"
            ],
            [
             1,
             "#f0f921"
            ]
           ],
           "sequentialminus": [
            [
             0,
             "#0d0887"
            ],
            [
             0.1111111111111111,
             "#46039f"
            ],
            [
             0.2222222222222222,
             "#7201a8"
            ],
            [
             0.3333333333333333,
             "#9c179e"
            ],
            [
             0.4444444444444444,
             "#bd3786"
            ],
            [
             0.5555555555555556,
             "#d8576b"
            ],
            [
             0.6666666666666666,
             "#ed7953"
            ],
            [
             0.7777777777777778,
             "#fb9f3a"
            ],
            [
             0.8888888888888888,
             "#fdca26"
            ],
            [
             1,
             "#f0f921"
            ]
           ]
          },
          "colorway": [
           "#636efa",
           "#EF553B",
           "#00cc96",
           "#ab63fa",
           "#FFA15A",
           "#19d3f3",
           "#FF6692",
           "#B6E880",
           "#FF97FF",
           "#FECB52"
          ],
          "font": {
           "color": "#2a3f5f"
          },
          "geo": {
           "bgcolor": "white",
           "lakecolor": "white",
           "landcolor": "#E5ECF6",
           "showlakes": true,
           "showland": true,
           "subunitcolor": "white"
          },
          "hoverlabel": {
           "align": "left"
          },
          "hovermode": "closest",
          "mapbox": {
           "style": "light"
          },
          "paper_bgcolor": "white",
          "plot_bgcolor": "#E5ECF6",
          "polar": {
           "angularaxis": {
            "gridcolor": "white",
            "linecolor": "white",
            "ticks": ""
           },
           "bgcolor": "#E5ECF6",
           "radialaxis": {
            "gridcolor": "white",
            "linecolor": "white",
            "ticks": ""
           }
          },
          "scene": {
           "xaxis": {
            "backgroundcolor": "#E5ECF6",
            "gridcolor": "white",
            "gridwidth": 2,
            "linecolor": "white",
            "showbackground": true,
            "ticks": "",
            "zerolinecolor": "white"
           },
           "yaxis": {
            "backgroundcolor": "#E5ECF6",
            "gridcolor": "white",
            "gridwidth": 2,
            "linecolor": "white",
            "showbackground": true,
            "ticks": "",
            "zerolinecolor": "white"
           },
           "zaxis": {
            "backgroundcolor": "#E5ECF6",
            "gridcolor": "white",
            "gridwidth": 2,
            "linecolor": "white",
            "showbackground": true,
            "ticks": "",
            "zerolinecolor": "white"
           }
          },
          "shapedefaults": {
           "line": {
            "color": "#2a3f5f"
           }
          },
          "ternary": {
           "aaxis": {
            "gridcolor": "white",
            "linecolor": "white",
            "ticks": ""
           },
           "baxis": {
            "gridcolor": "white",
            "linecolor": "white",
            "ticks": ""
           },
           "bgcolor": "#E5ECF6",
           "caxis": {
            "gridcolor": "white",
            "linecolor": "white",
            "ticks": ""
           }
          },
          "title": {
           "x": 0.05
          },
          "xaxis": {
           "automargin": true,
           "gridcolor": "white",
           "linecolor": "white",
           "ticks": "",
           "title": {
            "standoff": 15
           },
           "zerolinecolor": "white",
           "zerolinewidth": 2
          },
          "yaxis": {
           "automargin": true,
           "gridcolor": "white",
           "linecolor": "white",
           "ticks": "",
           "title": {
            "standoff": 15
           },
           "zerolinecolor": "white",
           "zerolinewidth": 2
          }
         }
        },
        "title": {
         "text": "Total Points vs Selected By Percent"
        },
        "xaxis": {
         "anchor": "y",
         "domain": [
          0,
          1
         ],
         "title": {
          "text": "selected_by_percent"
         }
        },
        "yaxis": {
         "anchor": "x",
         "domain": [
          0,
          1
         ],
         "title": {
          "text": "total_points"
         }
        }
       }
      }
     },
     "metadata": {},
     "output_type": "display_data"
    }
   ],
   "source": [
    "px.scatter(df, \n",
    "           x='selected_by_percent', y='total_points',\n",
    "           color='element_type',\n",
    "           color_discrete_map=position_colors,\n",
    "           hover_data= ['player_name'],\n",
    "           title='Total Points vs Selected By Percent'\n",
    "              )\n",
    "\n",
    "#'selected_by_percent'sns.scatterplot(x = df['selected_by_percent'], y = df['total_points'], hue=df['element_type'], palette=position_colors)"
   ]
  },
  {
   "cell_type": "code",
   "execution_count": 16,
   "metadata": {},
   "outputs": [
    {
     "data": {
      "application/vnd.plotly.v1+json": {
       "config": {
        "plotlyServerURL": "https://plot.ly"
       },
       "data": [
        {
         "customdata": [
          [
           "Bernd Leno"
          ],
          [
           "Aaron Ramsdale"
          ],
          [
           "Álvaro Fernández"
          ],
          [
           "Jonas Lössl"
          ],
          [
           "Jason Steele"
          ],
          [
           "Robert Sánchez"
          ],
          [
           "Nick Pope"
          ],
          [
           "Wayne Hennessey"
          ],
          [
           "Edouard Mendy"
          ],
          [
           "Vicente Guaita"
          ],
          [
           "Jack Butland"
          ],
          [
           "Jordan Pickford"
          ],
          [
           "Kasper Schmeichel"
          ],
          [
           "Illan Meslier"
          ],
          [
           "Caoimhin Kelleher"
          ],
          [
           "Zack Steffen"
          ],
          [
           "David de Gea"
          ],
          [
           "Karl Darlow"
          ],
          [
           "Martin Dubravka"
          ],
          [
           "Tim Krul"
          ],
          [
           "Angus Gunn"
          ],
          [
           "Fraser Forster"
          ],
          [
           "Willy Caballero"
          ],
          [
           "Hugo Lloris"
          ],
          [
           "Ben Foster"
          ],
          [
           "Daniel Bachmann"
          ],
          [
           "Lukasz Fabianski"
          ],
          [
           "Alphonse Areola"
          ]
         ],
         "hovertemplate": "element_type=Goalkeeper<br>selected_by_percent=%{x}<br>form=%{y}<br>player_name=%{customdata[0]}<extra></extra>",
         "legendgroup": "Goalkeeper",
         "marker": {
          "color": "red",
          "symbol": "circle"
         },
         "mode": "markers",
         "name": "Goalkeeper",
         "orientation": "v",
         "showlegend": true,
         "type": "scatter",
         "x": [
          0.8,
          20.4,
          0.6,
          0,
          1.8,
          16.7,
          3.3,
          0.3,
          11.8,
          6,
          0.4,
          4.5,
          12.1,
          2.1,
          0.1,
          0.2,
          11.6,
          0.3,
          2.7,
          1.1,
          1.9,
          1.3,
          0,
          7.8,
          18.9,
          1.6,
          2.7,
          0.7
         ],
         "xaxis": "x",
         "y": [
          0,
          3.8,
          0,
          0,
          0,
          2.2,
          3.5,
          0,
          4.3,
          2.8,
          0.8,
          3.8,
          4.4,
          2,
          0,
          0,
          4,
          0,
          4.4,
          0.7,
          2.5,
          3.2,
          0,
          3.3,
          3.2,
          0,
          3,
          0
         ],
         "yaxis": "y"
        },
        {
         "customdata": [
          [
           "Cédric Soares"
          ],
          [
           "Rob Holding"
          ],
          [
           "Kieran Tierney"
          ],
          [
           "Ben White"
          ],
          [
           "Takehiro Tomiyasu"
          ],
          [
           "Calum Chambers"
          ],
          [
           "Kortney Hause"
          ],
          [
           "Tyrone Mings"
          ],
          [
           "Matthew Cash"
          ],
          [
           "Ezri Konsa Ngoyo"
          ],
          [
           "Ashley Young"
          ],
          [
           "Lucas Digne"
          ],
          [
           "Pontus Jansson"
          ],
          [
           "Rico Henry"
          ],
          [
           "Mads Bech Sørensen"
          ],
          [
           "Ethan Pinnock"
          ],
          [
           "Kristoffer Ajer"
          ],
          [
           "Shane Duffy"
          ],
          [
           "Lewis Dunk"
          ],
          [
           "Adam Webster"
          ],
          [
           "Joël Veltman"
          ],
          [
           "Tariq Lamptey"
          ],
          [
           "Marc Cucurella"
          ],
          [
           "James Tarkowski"
          ],
          [
           "Erik Pieters"
          ],
          [
           "Ben Mee"
          ],
          [
           "Matthew Lowton"
          ],
          [
           "Charlie Taylor"
          ],
          [
           "Nathan Collins"
          ],
          [
           "Connor Roberts"
          ],
          [
           "César Azpilicueta"
          ],
          [
           "Marcos Alonso"
          ],
          [
           "Antonio Rüdiger"
          ],
          [
           "Andreas Christensen"
          ],
          [
           "Reece James"
          ],
          [
           "Malang Sarr"
          ],
          [
           "Trevoh Chalobah"
          ],
          [
           "James Tomkins"
          ],
          [
           "Cheikhou Kouyaté"
          ],
          [
           "Tyrick Mitchell"
          ],
          [
           "Joel Ward"
          ],
          [
           "Joachim Andersen"
          ],
          [
           "Nathaniel Clyne"
          ],
          [
           "Seamus Coleman"
          ],
          [
           "Michael Keane"
          ],
          [
           "Yerry Mina"
          ],
          [
           "Mason Holgate"
          ],
          [
           "Ben Godfrey"
          ],
          [
           "Jonjoe Kenny"
          ],
          [
           "Jarrad Branthwaite"
          ],
          [
           "Vitalii Mykolenko"
          ],
          [
           "Jonny Evans"
          ],
          [
           "Daniel Amartey"
          ],
          [
           "Timothy Castagne"
          ],
          [
           "James Justin"
          ],
          [
           "Luke Thomas"
          ],
          [
           "Jannik Vestergaard"
          ],
          [
           "Liam Cooper"
          ],
          [
           "Luke Ayling"
          ],
          [
           "Diego Llorente"
          ],
          [
           "Robin Koch"
          ],
          [
           "Pascal Struijk"
          ],
          [
           "Charlie Cresswell"
          ],
          [
           "Joel Matip"
          ],
          [
           "Virgil van Dijk"
          ],
          [
           "Andrew Robertson"
          ],
          [
           "Trent Alexander-Arnold"
          ],
          [
           "Joseph Gomez"
          ],
          [
           "Ibrahima Konaté"
          ],
          [
           "Konstantinos Tsimikas"
          ],
          [
           "Kyle Walker"
          ],
          [
           "John Stones"
          ],
          [
           "Nathan Aké"
          ],
          [
           "Aymeric Laporte"
          ],
          [
           "Rúben Santos Gato Alves Dias"
          ],
          [
           "Oleksandr Zinchenko"
          ],
          [
           "Harry Maguire"
          ],
          [
           "Luke Shaw"
          ],
          [
           "Victor Lindelöf"
          ],
          [
           "Eric Bailly"
          ],
          [
           "Aaron Wan-Bissaka"
          ],
          [
           "Phil Jones"
          ],
          [
           "Matt Targett"
          ],
          [
           "Dan Burn"
          ],
          [
           "Matt Ritchie"
          ],
          [
           "Jamaal Lascelles"
          ],
          [
           "Paul Dummett"
          ],
          [
           "Javier Manquillo"
          ],
          [
           "Emil Krafth"
          ],
          [
           "Fabian Schär"
          ],
          [
           "Federico Fernández"
          ],
          [
           "Brandon Williams"
          ],
          [
           "Grant Hanley"
          ],
          [
           "Sam Byram"
          ],
          [
           "Max Aarons"
          ],
          [
           "Jacob Sørensen"
          ],
          [
           "Ben Gibson"
          ],
          [
           "Dimitris Giannoulis"
          ],
          [
           "Ozan Kabak"
          ],
          [
           "Jack Stephens"
          ],
          [
           "Kyle Walker-Peters"
          ],
          [
           "Jan Bednarek"
          ],
          [
           "Mohammed Salisu"
          ],
          [
           "Romain Perraud"
          ],
          [
           "Yan Valery"
          ],
          [
           "Matt Doherty"
          ],
          [
           "Eric Dier"
          ],
          [
           "Ben Davies"
          ],
          [
           "Davinson Sánchez"
          ],
          [
           "Ryan Sessegnon"
          ],
          [
           "Sergio Reguilón"
          ],
          [
           "Cristian Romero"
          ],
          [
           "Craig Cathcart"
          ],
          [
           "Christian Kabasele"
          ],
          [
           "William Troost-Ekong"
          ],
          [
           "Adam Masina"
          ],
          [
           "Francisco Sierralta"
          ],
          [
           "Jeremy Ngakia"
          ],
          [
           "Hassane Kamara"
          ],
          [
           "Kurt Zouma"
          ],
          [
           "Aaron Cresswell"
          ],
          [
           "Craig Dawson"
          ],
          [
           "Ryan Fredericks"
          ],
          [
           "Arthur Masuaku"
          ],
          [
           "Issa Diop"
          ],
          [
           "Ben Johnson"
          ],
          [
           "Willy Boly"
          ],
          [
           "Conor Coady"
          ],
          [
           "Fernando Marçal"
          ],
          [
           "Max Kilman"
          ],
          [
           "Ki-Jana Hoever"
          ],
          [
           "Rayan Ait Nouri"
          ]
         ],
         "hovertemplate": "element_type=Defender<br>selected_by_percent=%{x}<br>form=%{y}<br>player_name=%{customdata[0]}<extra></extra>",
         "legendgroup": "Defender",
         "marker": {
          "color": "blue",
          "symbol": "circle"
         },
         "mode": "markers",
         "name": "Defender",
         "orientation": "v",
         "showlegend": true,
         "type": "scatter",
         "x": [
          0.2,
          0.6,
          12.3,
          13.1,
          2.1,
          0.2,
          0.2,
          6.2,
          6.4,
          0.9,
          0.4,
          9.3,
          5.8,
          0.9,
          0,
          3.2,
          0.5,
          8.7,
          2.1,
          0.4,
          1,
          2.4,
          3.2,
          1.4,
          0.3,
          2.1,
          1.3,
          0.3,
          0.1,
          0.5,
          3.1,
          8.3,
          25.6,
          1.4,
          14.8,
          0.2,
          1.9,
          0.1,
          0.5,
          1.3,
          0.2,
          0.4,
          0.1,
          0.6,
          2.4,
          0.3,
          0.5,
          0.4,
          0.1,
          0.3,
          0,
          0.2,
          9.6,
          0.5,
          0.1,
          0.7,
          0.5,
          0.2,
          2.8,
          0.3,
          0.1,
          0.1,
          0.3,
          3.1,
          18.8,
          7.5,
          46.3,
          0.4,
          1.1,
          10.7,
          5.3,
          2.7,
          0.4,
          8.8,
          20.2,
          0.7,
          4.8,
          12.2,
          0.5,
          0.1,
          3.1,
          0,
          2.6,
          0.6,
          0.2,
          0.2,
          0,
          5,
          0.1,
          1.9,
          0.1,
          5.2,
          0.1,
          0,
          1,
          0,
          0.1,
          0.1,
          0,
          0.1,
          1.2,
          1.8,
          0.3,
          0.1,
          0.5,
          1.9,
          4.3,
          1.7,
          2.3,
          0.1,
          10.8,
          0.4,
          0.3,
          0,
          0.1,
          0.1,
          0,
          0,
          0.1,
          1.2,
          7.7,
          1.1,
          0.1,
          0.1,
          0.3,
          3,
          0.1,
          15.1,
          1.5,
          3.9,
          1.8,
          1.9
         ],
         "xaxis": "x",
         "y": [
          2.5,
          0.5,
          2.8,
          3,
          0,
          4.2,
          0,
          5,
          8.8,
          0.8,
          1.7,
          2.8,
          2.6,
          2.2,
          0,
          2.4,
          4.2,
          0.2,
          2,
          3.2,
          2,
          2.8,
          1.8,
          1.7,
          2.7,
          4.3,
          0.2,
          0.3,
          1,
          3.7,
          0.3,
          1.3,
          4,
          3,
          6,
          1.7,
          5.7,
          0,
          1.7,
          4,
          1.3,
          3.8,
          2,
          4.2,
          3.5,
          0,
          2.2,
          0,
          2.2,
          0,
          0.2,
          0,
          3.4,
          0,
          0.4,
          3,
          0.2,
          0,
          0.3,
          1.1,
          0.7,
          0.7,
          0,
          6.2,
          7.2,
          6.4,
          6,
          0.4,
          1.2,
          1,
          2.6,
          3.2,
          1.2,
          3.2,
          4.8,
          1.2,
          3,
          2.2,
          3.2,
          0,
          1.4,
          0,
          2.4,
          3.8,
          0,
          0.2,
          0.2,
          0.4,
          2.4,
          6.8,
          0,
          0.5,
          0.8,
          0.2,
          1.2,
          0,
          0.7,
          0,
          0.2,
          0.3,
          3.3,
          2,
          2.5,
          0.7,
          0,
          5.7,
          2.5,
          2.7,
          0.5,
          2.5,
          1.3,
          1.7,
          2.5,
          0.7,
          0,
          0,
          0,
          1,
          2,
          3,
          4.2,
          5.8,
          0.2,
          0,
          1.5,
          2.2,
          0.9,
          2.9,
          0.9,
          2.1,
          0.4,
          2.4
         ],
         "yaxis": "y"
        },
        {
         "customdata": [
          [
           "Alexandre Lacazette"
          ],
          [
           "Ollie Watkins"
          ],
          [
           "Danny Ings"
          ],
          [
           "Ivan Toney"
          ],
          [
           "Neal Maupay"
          ],
          [
           "Danny Welbeck"
          ],
          [
           "Jay Rodriguez"
          ],
          [
           "Ashley Barnes"
          ],
          [
           "Matej Vydra"
          ],
          [
           "Wout Weghorst"
          ],
          [
           "Timo Werner"
          ],
          [
           "Romelu Lukaku"
          ],
          [
           "Christian Benteke"
          ],
          [
           "Jordan Ayew"
          ],
          [
           "Jean-Philippe Mateta"
          ],
          [
           "Odsonne Edouard"
          ],
          [
           "Dominic Calvert-Lewin"
          ],
          [
           "Salomón Rondón"
          ],
          [
           "Jamie Vardy"
          ],
          [
           "Kelechi Iheanacho"
          ],
          [
           "Patson Daka"
          ],
          [
           "Patrick Bamford"
          ],
          [
           "Joe Gelhardt"
          ],
          [
           "Roberto Firmino"
          ],
          [
           "Edinson Cavani"
          ],
          [
           "Chris Wood"
          ],
          [
           "Callum Wilson"
          ],
          [
           "Allan Saint-Maximin"
          ],
          [
           "Teemu Pukki"
          ],
          [
           "Adam Idah"
          ],
          [
           "Joshua Sargent"
          ],
          [
           "Che Adams"
          ],
          [
           "Armando Broja"
          ],
          [
           "Shane Long"
          ],
          [
           "Adam Armstrong"
          ],
          [
           "Harry Kane"
          ],
          [
           "Emmanuel Dennis"
          ],
          [
           "Joshua King"
          ],
          [
           "Michail Antonio"
          ],
          [
           "Raúl Jiménez"
          ],
          [
           "Fabio Silva"
          ],
          [
           "Hee-Chan Hwang"
          ]
         ],
         "hovertemplate": "element_type=Forward<br>selected_by_percent=%{x}<br>form=%{y}<br>player_name=%{customdata[0]}<extra></extra>",
         "legendgroup": "Forward",
         "marker": {
          "color": "Green",
          "symbol": "circle"
         },
         "mode": "markers",
         "name": "Forward",
         "orientation": "v",
         "showlegend": true,
         "type": "scatter",
         "x": [
          5.8,
          10.5,
          7.6,
          9.3,
          8.8,
          0.3,
          1.6,
          0.7,
          0.3,
          5.7,
          1.5,
          8.4,
          1.3,
          0.7,
          0.5,
          4.7,
          3.1,
          0.2,
          9.2,
          1.9,
          1.6,
          2.9,
          2.5,
          2.4,
          1.7,
          2.3,
          1.1,
          12.8,
          5.5,
          0.9,
          0.5,
          7.4,
          15.7,
          0.2,
          1.5,
          17,
          34.2,
          5.3,
          31.1,
          11.7,
          0.4,
          4.1
         ],
         "xaxis": "x",
         "y": [
          5.8,
          2.7,
          4.2,
          3.6,
          2.6,
          1.6,
          2.2,
          0.8,
          0,
          3.5,
          1,
          1,
          0.2,
          1.5,
          3.3,
          0.7,
          1.2,
          0.2,
          2.6,
          1.2,
          1.4,
          0.1,
          0.3,
          0.4,
          0,
          3.2,
          0,
          0.6,
          4.8,
          0.8,
          2.2,
          5.2,
          2.7,
          1.3,
          0.3,
          7.2,
          3,
          1.3,
          2.5,
          3.4,
          0.7,
          2.9
         ],
         "yaxis": "y"
        },
        {
         "customdata": [
          [
           "Granit Xhaka"
          ],
          [
           "Thomas Partey"
          ],
          [
           "Bukayo Saka"
          ],
          [
           "Albert Sambi Lokonga"
          ],
          [
           "Bertrand Traoré"
          ],
          [
           "Morgan Sanson"
          ],
          [
           "John McGinn"
          ],
          [
           "Marvelous Nakamba"
          ],
          [
           "Jacob Ramsey"
          ],
          [
           "Leon Bailey"
          ],
          [
           "Carney Chukwuemeka"
          ],
          [
           "Christian Nørgaard"
          ],
          [
           "Vitaly Janelt"
          ],
          [
           "Saman Ghoddos"
          ],
          [
           "Mathias Jensen"
          ],
          [
           "Bryan Mbeumo"
          ],
          [
           "Frank Onyeka"
          ],
          [
           "Shandon Baptiste"
          ],
          [
           "Yoane Wissa"
          ],
          [
           "Christian Eriksen"
          ],
          [
           "Adam Lallana"
          ],
          [
           "Pascal Groß"
          ],
          [
           "Leandro Trossard"
          ],
          [
           "Yves Bissouma"
          ],
          [
           "Steven Alzate"
          ],
          [
           "Alexis Mac Allister"
          ],
          [
           "Jakub Moder"
          ],
          [
           "Enock Mwepu"
          ],
          [
           "Jack Cork"
          ],
          [
           "Dale Stephens"
          ],
          [
           "Ashley Westwood"
          ],
          [
           "Josh Brownhill"
          ],
          [
           "Dwight McNeil"
          ],
          [
           "Aaron Lennon"
          ],
          [
           "Maxwel Cornet"
          ],
          [
           "Ross Barkley"
          ],
          [
           "Mateo Kovacic"
          ],
          [
           "Hakim Ziyech"
          ],
          [
           "Ruben Loftus-Cheek"
          ],
          [
           "Christian Pulisic"
          ],
          [
           "Mason Mount"
          ],
          [
           "Callum Hudson-Odoi"
          ],
          [
           "Kai Havertz"
          ],
          [
           "Saúl Ñíguez"
          ],
          [
           "Conor Gallagher"
          ],
          [
           "James McArthur"
          ],
          [
           "Luka Milivojevic"
          ],
          [
           "Wilfried Zaha"
          ],
          [
           "Jeffrey Schlupp"
          ],
          [
           "Jairo Riedewald"
          ],
          [
           "Eberechi Eze"
          ],
          [
           "Will Hughes"
          ],
          [
           "Michael Olise"
          ],
          [
           "Anwar El Ghazi"
          ],
          [
           "Fabian Delph"
          ],
          [
           "Abdoulaye Doucouré"
          ],
          [
           "Alex Iwobi"
          ],
          [
           "Donny van de Beek"
          ],
          [
           "Andros Townsend"
          ],
          [
           "Demarai Gray"
          ],
          [
           "Anthony Gordon"
          ],
          [
           "Marc Albrighton"
          ],
          [
           "Youri Tielemans"
          ],
          [
           "Ayoze Pérez"
          ],
          [
           "James Maddison"
          ],
          [
           "Hamza Choudhury"
          ],
          [
           "Harvey Barnes"
          ],
          [
           "Wilfred Ndidi"
          ],
          [
           "Kiernan Dewsbury-Hall"
          ],
          [
           "Ademola Lookman"
          ],
          [
           "Mateusz Klich"
          ],
          [
           "Stuart Dallas"
          ],
          [
           "Kalvin Phillips"
          ],
          [
           "Tyler Roberts"
          ],
          [
           "Jamie Shackleton"
          ],
          [
           "Jack Harrison"
          ],
          [
           "Daniel James"
          ],
          [
           "Crysencio Summerville"
          ],
          [
           "Adam Forshaw"
          ],
          [
           "James Milner"
          ],
          [
           "Jordan Henderson"
          ],
          [
           "Alex Oxlade-Chamberlain"
          ],
          [
           "Sadio Mané"
          ],
          [
           "Mohamed Salah"
          ],
          [
           "Naby Keita"
          ],
          [
           "Diogo Jota"
          ],
          [
           "Curtis Jones"
          ],
          [
           "Harvey Elliott"
          ],
          [
           "Luis Díaz"
          ],
          [
           "Jack Grealish"
          ],
          [
           "Ilkay Gündogan"
          ],
          [
           "Kevin De Bruyne"
          ],
          [
           "Riyad Mahrez"
          ],
          [
           "Raheem Sterling"
          ],
          [
           "Phil Foden"
          ],
          [
           "Cole Palmer"
          ],
          [
           "Nemanja Matic"
          ],
          [
           "Paul Pogba"
          ],
          [
           "Jesse Lingard"
          ],
          [
           "Marcus Rashford"
          ],
          [
           "Scott McTominay"
          ],
          [
           "Jadon Sancho"
          ],
          [
           "Anthony Elanga"
          ],
          [
           "Jonjo Shelvey"
          ],
          [
           "Ryan Fraser"
          ],
          [
           "Jacob Murphy"
          ],
          [
           "Miguel Almirón"
          ],
          [
           "Sean Longstaff"
          ],
          [
           "Billy Gilmour"
          ],
          [
           "Lukas Rupp"
          ],
          [
           "Kenny McLean"
          ],
          [
           "Kieran Dowell"
          ],
          [
           "Przemyslaw Placheta"
          ],
          [
           "Milot Rashica"
          ],
          [
           "Pierre Lees-Melou"
          ],
          [
           "Christos Tzolis"
          ],
          [
           "Mathias Normann"
          ],
          [
           "Theo Walcott"
          ],
          [
           "Nathan Redmond"
          ],
          [
           "Stuart Armstrong"
          ],
          [
           "James Ward-Prowse"
          ],
          [
           "Nathan Tella"
          ],
          [
           "Ibrahima Diallo"
          ],
          [
           "Moussa Djenepo"
          ],
          [
           "Mohamed Elyounoussi"
          ],
          [
           "Pierre-Emile Højbjerg"
          ],
          [
           "Harry Winks"
          ],
          [
           "Steven Bergwijn"
          ],
          [
           "Dejan Kulusevski"
          ],
          [
           "Rodrigo Bentancur"
          ],
          [
           "Moussa Sissoko"
          ],
          [
           "Tom Cleverley"
          ],
          [
           "Ken Sema"
          ],
          [
           "Juraj Kucka"
          ],
          [
           "Edo Kayembe"
          ],
          [
           "Mark Noble"
          ],
          [
           "Manuel Lanzini"
          ],
          [
           "Jarrod Bowen"
          ],
          [
           "Declan Rice"
          ],
          [
           "Tomas Soucek"
          ],
          [
           "Pablo Fornals"
          ],
          [
           "Nikola Vlasic"
          ],
          [
           "Leander Dendoncker"
          ]
         ],
         "hovertemplate": "element_type=Midfielder<br>selected_by_percent=%{x}<br>form=%{y}<br>player_name=%{customdata[0]}<extra></extra>",
         "legendgroup": "Midfielder",
         "marker": {
          "color": "Orange",
          "symbol": "circle"
         },
         "mode": "markers",
         "name": "Midfielder",
         "orientation": "v",
         "showlegend": true,
         "type": "scatter",
         "x": [
          0.3,
          0.3,
          24,
          0.1,
          0.3,
          0,
          1.1,
          0.1,
          10.1,
          0.4,
          0,
          0.6,
          0.1,
          0,
          0,
          1,
          0.1,
          0,
          0.1,
          0.1,
          0.2,
          0.3,
          1.5,
          5.1,
          0,
          0.7,
          0.7,
          0.1,
          0.1,
          0,
          0.3,
          2.7,
          0.3,
          0.1,
          0.9,
          0.1,
          2.1,
          1.4,
          0.1,
          0.8,
          14.8,
          0.3,
          4.7,
          0.1,
          13.7,
          1.2,
          0,
          5.5,
          0.1,
          0,
          0.1,
          0.1,
          0.6,
          0.3,
          0.3,
          1.2,
          0.2,
          0.6,
          2.4,
          5.1,
          1.8,
          0.1,
          3.6,
          0.1,
          7.1,
          0.1,
          2.3,
          0.8,
          0.2,
          0.3,
          0.3,
          3,
          0.9,
          0.1,
          0.1,
          1.6,
          1,
          0,
          0.1,
          0.1,
          1.8,
          0.2,
          3.6,
          61.7,
          0.2,
          18.7,
          0.1,
          0.1,
          2.2,
          7.2,
          2.8,
          8.1,
          4.2,
          3.1,
          6,
          0.1,
          0.4,
          7.1,
          1,
          0.7,
          0.4,
          2.7,
          0.6,
          0.2,
          1.3,
          0.4,
          0.2,
          0.4,
          3.3,
          0.2,
          0.1,
          0,
          0,
          0.1,
          0.1,
          0,
          0.1,
          0.1,
          0.2,
          0.3,
          8.6,
          0,
          0.2,
          0,
          0.2,
          2.8,
          1.1,
          0.4,
          4.5,
          0,
          2.3,
          0.1,
          0,
          0.1,
          0,
          0.6,
          0.4,
          24.5,
          4.4,
          3.5,
          1.3,
          0,
          0.5
         ],
         "xaxis": "x",
         "y": [
          2,
          2.8,
          6.5,
          0,
          0,
          0.5,
          2.3,
          0,
          4.3,
          0.3,
          0.3,
          3,
          1.4,
          0.8,
          1.4,
          1.6,
          0.6,
          0.4,
          1.8,
          0.4,
          0.8,
          2,
          1,
          1.2,
          0.6,
          1.4,
          1.8,
          0,
          1,
          0,
          1,
          3.8,
          2.2,
          3.7,
          1.2,
          0,
          1.3,
          3.7,
          1,
          5,
          5.3,
          0,
          9.3,
          2.7,
          3.3,
          1.7,
          0,
          6,
          3.7,
          0,
          0.3,
          1.2,
          3.7,
          0.5,
          0,
          1,
          1.5,
          2,
          0.2,
          0.2,
          5.2,
          2.6,
          3.6,
          0,
          2.8,
          0.6,
          4.4,
          2.2,
          2.2,
          2.8,
          1.1,
          1.6,
          0,
          0.4,
          0.3,
          1.6,
          3.6,
          0,
          1.3,
          0.6,
          2.6,
          0.4,
          7.4,
          7,
          1.6,
          3.4,
          1,
          0.2,
          3.6,
          0.6,
          3.6,
          6.8,
          6.8,
          6.4,
          4.4,
          0,
          0.6,
          3,
          0.6,
          1.4,
          1.8,
          6.2,
          3,
          2.8,
          5.4,
          2.2,
          0.6,
          0.4,
          1.5,
          0.3,
          2,
          0.3,
          0.5,
          2.7,
          2,
          0,
          1.5,
          0.2,
          0,
          4.5,
          4,
          0,
          0.5,
          0.5,
          4.5,
          2.7,
          1.3,
          0.8,
          5.7,
          1.3,
          4,
          2.3,
          0.3,
          0.3,
          0.5,
          0.2,
          1.8,
          4.5,
          1.5,
          4.2,
          2,
          1.2,
          3.3
         ],
         "yaxis": "y"
        }
       ],
       "layout": {
        "legend": {
         "title": {
          "text": "element_type"
         },
         "tracegroupgap": 0
        },
        "template": {
         "data": {
          "bar": [
           {
            "error_x": {
             "color": "#2a3f5f"
            },
            "error_y": {
             "color": "#2a3f5f"
            },
            "marker": {
             "line": {
              "color": "#E5ECF6",
              "width": 0.5
             },
             "pattern": {
              "fillmode": "overlay",
              "size": 10,
              "solidity": 0.2
             }
            },
            "type": "bar"
           }
          ],
          "barpolar": [
           {
            "marker": {
             "line": {
              "color": "#E5ECF6",
              "width": 0.5
             },
             "pattern": {
              "fillmode": "overlay",
              "size": 10,
              "solidity": 0.2
             }
            },
            "type": "barpolar"
           }
          ],
          "carpet": [
           {
            "aaxis": {
             "endlinecolor": "#2a3f5f",
             "gridcolor": "white",
             "linecolor": "white",
             "minorgridcolor": "white",
             "startlinecolor": "#2a3f5f"
            },
            "baxis": {
             "endlinecolor": "#2a3f5f",
             "gridcolor": "white",
             "linecolor": "white",
             "minorgridcolor": "white",
             "startlinecolor": "#2a3f5f"
            },
            "type": "carpet"
           }
          ],
          "choropleth": [
           {
            "colorbar": {
             "outlinewidth": 0,
             "ticks": ""
            },
            "type": "choropleth"
           }
          ],
          "contour": [
           {
            "colorbar": {
             "outlinewidth": 0,
             "ticks": ""
            },
            "colorscale": [
             [
              0,
              "#0d0887"
             ],
             [
              0.1111111111111111,
              "#46039f"
             ],
             [
              0.2222222222222222,
              "#7201a8"
             ],
             [
              0.3333333333333333,
              "#9c179e"
             ],
             [
              0.4444444444444444,
              "#bd3786"
             ],
             [
              0.5555555555555556,
              "#d8576b"
             ],
             [
              0.6666666666666666,
              "#ed7953"
             ],
             [
              0.7777777777777778,
              "#fb9f3a"
             ],
             [
              0.8888888888888888,
              "#fdca26"
             ],
             [
              1,
              "#f0f921"
             ]
            ],
            "type": "contour"
           }
          ],
          "contourcarpet": [
           {
            "colorbar": {
             "outlinewidth": 0,
             "ticks": ""
            },
            "type": "contourcarpet"
           }
          ],
          "heatmap": [
           {
            "colorbar": {
             "outlinewidth": 0,
             "ticks": ""
            },
            "colorscale": [
             [
              0,
              "#0d0887"
             ],
             [
              0.1111111111111111,
              "#46039f"
             ],
             [
              0.2222222222222222,
              "#7201a8"
             ],
             [
              0.3333333333333333,
              "#9c179e"
             ],
             [
              0.4444444444444444,
              "#bd3786"
             ],
             [
              0.5555555555555556,
              "#d8576b"
             ],
             [
              0.6666666666666666,
              "#ed7953"
             ],
             [
              0.7777777777777778,
              "#fb9f3a"
             ],
             [
              0.8888888888888888,
              "#fdca26"
             ],
             [
              1,
              "#f0f921"
             ]
            ],
            "type": "heatmap"
           }
          ],
          "heatmapgl": [
           {
            "colorbar": {
             "outlinewidth": 0,
             "ticks": ""
            },
            "colorscale": [
             [
              0,
              "#0d0887"
             ],
             [
              0.1111111111111111,
              "#46039f"
             ],
             [
              0.2222222222222222,
              "#7201a8"
             ],
             [
              0.3333333333333333,
              "#9c179e"
             ],
             [
              0.4444444444444444,
              "#bd3786"
             ],
             [
              0.5555555555555556,
              "#d8576b"
             ],
             [
              0.6666666666666666,
              "#ed7953"
             ],
             [
              0.7777777777777778,
              "#fb9f3a"
             ],
             [
              0.8888888888888888,
              "#fdca26"
             ],
             [
              1,
              "#f0f921"
             ]
            ],
            "type": "heatmapgl"
           }
          ],
          "histogram": [
           {
            "marker": {
             "pattern": {
              "fillmode": "overlay",
              "size": 10,
              "solidity": 0.2
             }
            },
            "type": "histogram"
           }
          ],
          "histogram2d": [
           {
            "colorbar": {
             "outlinewidth": 0,
             "ticks": ""
            },
            "colorscale": [
             [
              0,
              "#0d0887"
             ],
             [
              0.1111111111111111,
              "#46039f"
             ],
             [
              0.2222222222222222,
              "#7201a8"
             ],
             [
              0.3333333333333333,
              "#9c179e"
             ],
             [
              0.4444444444444444,
              "#bd3786"
             ],
             [
              0.5555555555555556,
              "#d8576b"
             ],
             [
              0.6666666666666666,
              "#ed7953"
             ],
             [
              0.7777777777777778,
              "#fb9f3a"
             ],
             [
              0.8888888888888888,
              "#fdca26"
             ],
             [
              1,
              "#f0f921"
             ]
            ],
            "type": "histogram2d"
           }
          ],
          "histogram2dcontour": [
           {
            "colorbar": {
             "outlinewidth": 0,
             "ticks": ""
            },
            "colorscale": [
             [
              0,
              "#0d0887"
             ],
             [
              0.1111111111111111,
              "#46039f"
             ],
             [
              0.2222222222222222,
              "#7201a8"
             ],
             [
              0.3333333333333333,
              "#9c179e"
             ],
             [
              0.4444444444444444,
              "#bd3786"
             ],
             [
              0.5555555555555556,
              "#d8576b"
             ],
             [
              0.6666666666666666,
              "#ed7953"
             ],
             [
              0.7777777777777778,
              "#fb9f3a"
             ],
             [
              0.8888888888888888,
              "#fdca26"
             ],
             [
              1,
              "#f0f921"
             ]
            ],
            "type": "histogram2dcontour"
           }
          ],
          "mesh3d": [
           {
            "colorbar": {
             "outlinewidth": 0,
             "ticks": ""
            },
            "type": "mesh3d"
           }
          ],
          "parcoords": [
           {
            "line": {
             "colorbar": {
              "outlinewidth": 0,
              "ticks": ""
             }
            },
            "type": "parcoords"
           }
          ],
          "pie": [
           {
            "automargin": true,
            "type": "pie"
           }
          ],
          "scatter": [
           {
            "marker": {
             "colorbar": {
              "outlinewidth": 0,
              "ticks": ""
             }
            },
            "type": "scatter"
           }
          ],
          "scatter3d": [
           {
            "line": {
             "colorbar": {
              "outlinewidth": 0,
              "ticks": ""
             }
            },
            "marker": {
             "colorbar": {
              "outlinewidth": 0,
              "ticks": ""
             }
            },
            "type": "scatter3d"
           }
          ],
          "scattercarpet": [
           {
            "marker": {
             "colorbar": {
              "outlinewidth": 0,
              "ticks": ""
             }
            },
            "type": "scattercarpet"
           }
          ],
          "scattergeo": [
           {
            "marker": {
             "colorbar": {
              "outlinewidth": 0,
              "ticks": ""
             }
            },
            "type": "scattergeo"
           }
          ],
          "scattergl": [
           {
            "marker": {
             "colorbar": {
              "outlinewidth": 0,
              "ticks": ""
             }
            },
            "type": "scattergl"
           }
          ],
          "scattermapbox": [
           {
            "marker": {
             "colorbar": {
              "outlinewidth": 0,
              "ticks": ""
             }
            },
            "type": "scattermapbox"
           }
          ],
          "scatterpolar": [
           {
            "marker": {
             "colorbar": {
              "outlinewidth": 0,
              "ticks": ""
             }
            },
            "type": "scatterpolar"
           }
          ],
          "scatterpolargl": [
           {
            "marker": {
             "colorbar": {
              "outlinewidth": 0,
              "ticks": ""
             }
            },
            "type": "scatterpolargl"
           }
          ],
          "scatterternary": [
           {
            "marker": {
             "colorbar": {
              "outlinewidth": 0,
              "ticks": ""
             }
            },
            "type": "scatterternary"
           }
          ],
          "surface": [
           {
            "colorbar": {
             "outlinewidth": 0,
             "ticks": ""
            },
            "colorscale": [
             [
              0,
              "#0d0887"
             ],
             [
              0.1111111111111111,
              "#46039f"
             ],
             [
              0.2222222222222222,
              "#7201a8"
             ],
             [
              0.3333333333333333,
              "#9c179e"
             ],
             [
              0.4444444444444444,
              "#bd3786"
             ],
             [
              0.5555555555555556,
              "#d8576b"
             ],
             [
              0.6666666666666666,
              "#ed7953"
             ],
             [
              0.7777777777777778,
              "#fb9f3a"
             ],
             [
              0.8888888888888888,
              "#fdca26"
             ],
             [
              1,
              "#f0f921"
             ]
            ],
            "type": "surface"
           }
          ],
          "table": [
           {
            "cells": {
             "fill": {
              "color": "#EBF0F8"
             },
             "line": {
              "color": "white"
             }
            },
            "header": {
             "fill": {
              "color": "#C8D4E3"
             },
             "line": {
              "color": "white"
             }
            },
            "type": "table"
           }
          ]
         },
         "layout": {
          "annotationdefaults": {
           "arrowcolor": "#2a3f5f",
           "arrowhead": 0,
           "arrowwidth": 1
          },
          "autotypenumbers": "strict",
          "coloraxis": {
           "colorbar": {
            "outlinewidth": 0,
            "ticks": ""
           }
          },
          "colorscale": {
           "diverging": [
            [
             0,
             "#8e0152"
            ],
            [
             0.1,
             "#c51b7d"
            ],
            [
             0.2,
             "#de77ae"
            ],
            [
             0.3,
             "#f1b6da"
            ],
            [
             0.4,
             "#fde0ef"
            ],
            [
             0.5,
             "#f7f7f7"
            ],
            [
             0.6,
             "#e6f5d0"
            ],
            [
             0.7,
             "#b8e186"
            ],
            [
             0.8,
             "#7fbc41"
            ],
            [
             0.9,
             "#4d9221"
            ],
            [
             1,
             "#276419"
            ]
           ],
           "sequential": [
            [
             0,
             "#0d0887"
            ],
            [
             0.1111111111111111,
             "#46039f"
            ],
            [
             0.2222222222222222,
             "#7201a8"
            ],
            [
             0.3333333333333333,
             "#9c179e"
            ],
            [
             0.4444444444444444,
             "#bd3786"
            ],
            [
             0.5555555555555556,
             "#d8576b"
            ],
            [
             0.6666666666666666,
             "#ed7953"
            ],
            [
             0.7777777777777778,
             "#fb9f3a"
            ],
            [
             0.8888888888888888,
             "#fdca26"
            ],
            [
             1,
             "#f0f921"
            ]
           ],
           "sequentialminus": [
            [
             0,
             "#0d0887"
            ],
            [
             0.1111111111111111,
             "#46039f"
            ],
            [
             0.2222222222222222,
             "#7201a8"
            ],
            [
             0.3333333333333333,
             "#9c179e"
            ],
            [
             0.4444444444444444,
             "#bd3786"
            ],
            [
             0.5555555555555556,
             "#d8576b"
            ],
            [
             0.6666666666666666,
             "#ed7953"
            ],
            [
             0.7777777777777778,
             "#fb9f3a"
            ],
            [
             0.8888888888888888,
             "#fdca26"
            ],
            [
             1,
             "#f0f921"
            ]
           ]
          },
          "colorway": [
           "#636efa",
           "#EF553B",
           "#00cc96",
           "#ab63fa",
           "#FFA15A",
           "#19d3f3",
           "#FF6692",
           "#B6E880",
           "#FF97FF",
           "#FECB52"
          ],
          "font": {
           "color": "#2a3f5f"
          },
          "geo": {
           "bgcolor": "white",
           "lakecolor": "white",
           "landcolor": "#E5ECF6",
           "showlakes": true,
           "showland": true,
           "subunitcolor": "white"
          },
          "hoverlabel": {
           "align": "left"
          },
          "hovermode": "closest",
          "mapbox": {
           "style": "light"
          },
          "paper_bgcolor": "white",
          "plot_bgcolor": "#E5ECF6",
          "polar": {
           "angularaxis": {
            "gridcolor": "white",
            "linecolor": "white",
            "ticks": ""
           },
           "bgcolor": "#E5ECF6",
           "radialaxis": {
            "gridcolor": "white",
            "linecolor": "white",
            "ticks": ""
           }
          },
          "scene": {
           "xaxis": {
            "backgroundcolor": "#E5ECF6",
            "gridcolor": "white",
            "gridwidth": 2,
            "linecolor": "white",
            "showbackground": true,
            "ticks": "",
            "zerolinecolor": "white"
           },
           "yaxis": {
            "backgroundcolor": "#E5ECF6",
            "gridcolor": "white",
            "gridwidth": 2,
            "linecolor": "white",
            "showbackground": true,
            "ticks": "",
            "zerolinecolor": "white"
           },
           "zaxis": {
            "backgroundcolor": "#E5ECF6",
            "gridcolor": "white",
            "gridwidth": 2,
            "linecolor": "white",
            "showbackground": true,
            "ticks": "",
            "zerolinecolor": "white"
           }
          },
          "shapedefaults": {
           "line": {
            "color": "#2a3f5f"
           }
          },
          "ternary": {
           "aaxis": {
            "gridcolor": "white",
            "linecolor": "white",
            "ticks": ""
           },
           "baxis": {
            "gridcolor": "white",
            "linecolor": "white",
            "ticks": ""
           },
           "bgcolor": "#E5ECF6",
           "caxis": {
            "gridcolor": "white",
            "linecolor": "white",
            "ticks": ""
           }
          },
          "title": {
           "x": 0.05
          },
          "xaxis": {
           "automargin": true,
           "gridcolor": "white",
           "linecolor": "white",
           "ticks": "",
           "title": {
            "standoff": 15
           },
           "zerolinecolor": "white",
           "zerolinewidth": 2
          },
          "yaxis": {
           "automargin": true,
           "gridcolor": "white",
           "linecolor": "white",
           "ticks": "",
           "title": {
            "standoff": 15
           },
           "zerolinecolor": "white",
           "zerolinewidth": 2
          }
         }
        },
        "title": {
         "text": "Total Points vs Selected By Percent"
        },
        "xaxis": {
         "anchor": "y",
         "domain": [
          0,
          1
         ],
         "title": {
          "text": "selected_by_percent"
         }
        },
        "yaxis": {
         "anchor": "x",
         "domain": [
          0,
          1
         ],
         "title": {
          "text": "form"
         }
        }
       }
      }
     },
     "metadata": {},
     "output_type": "display_data"
    }
   ],
   "source": [
    "px.scatter(df, \n",
    "           x='selected_by_percent', y='form',\n",
    "           color='element_type',\n",
    "           color_discrete_map=position_colors,\n",
    "           hover_data= ['player_name'],\n",
    "           title='Total Points vs Selected By Percent'\n",
    "              )\n",
    "\n",
    "\n",
    "#sns.scatterplot(x = df['selected_by_percent'], y = df['form'], hue=df['element_type'], palette=position_colors)"
   ]
  },
  {
   "cell_type": "code",
   "execution_count": 17,
   "metadata": {},
   "outputs": [
    {
     "data": {
      "text/plain": [
       "<AxesSubplot:xlabel='total_points', ylabel='form'>"
      ]
     },
     "execution_count": 17,
     "metadata": {},
     "output_type": "execute_result"
    },
    {
     "data": {
      "image/png": "[encoded data removed]",
      "text/plain": [
       "<Figure size 432x288 with 1 Axes>"
      ]
     },
     "metadata": {
      "needs_background": "light"
     },
     "output_type": "display_data"
    }
   ],
   "source": [
    "px.scatter(df, \n",
    "           x='selected_by_percent', y='form',\n",
    "           color='element_type',\n",
    "           color_discrete_map=position_colors,\n",
    "           hover_data= ['player_name'],\n",
    "           title='Total Points vs Selected By Percent'\n",
    "              )\n",
    "\n",
    "\n",
    "sns.scatterplot(x = df['total_points'], y = df['form'], hue=df['element_type'], palette=position_colors)"
   ]
  },
  {
   "cell_type": "markdown",
   "metadata": {},
   "source": [
    "Data will be displayed using python dash dashboard"
   ]
  },
  {
   "cell_type": "markdown",
   "metadata": {},
   "source": []
  }
 ],
 "metadata": {
  "interpreter": {
   "hash": "602ae3b8aa80bb55b57bdc81efe3d4da12a1487e0cb891e0f15a9e50812d75a1"
  },
  "kernelspec": {
   "display_name": "Python 3.9.7 64-bit ('base': conda)",
   "language": "python",
   "name": "python3"
  },
  "language_info": {
   "codemirror_mode": {
    "name": "ipython",
    "version": 3
   },
   "file_extension": ".py",
   "mimetype": "text/x-python",
   "name": "python",
   "nbconvert_exporter": "python",
   "pygments_lexer": "ipython3",
   "version": "3.9.7"
  },
  "orig_nbformat": 4
 },
 "nbformat": 4,
 "nbformat_minor": 2
}
