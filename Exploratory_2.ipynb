{
 "cells": [
  {
   "cell_type": "markdown",
   "metadata": {},
   "source": [
    "# Exploratory Data Analysis Notebook"
   ]
  },
  {
   "cell_type": "code",
   "execution_count": 1,
   "metadata": {},
   "outputs": [],
   "source": [
    "import pandas as pd\n",
    "import numpy as np\n",
    "import json\n",
    "import seaborn as sns\n",
    "import src.tools\n",
    "import datetime\n",
    "import src.pre_process as pp\n",
    "import nest_asyncio\n",
    "import matplotlib.pyplot as plt\n",
    "import seaborn as sns\n",
    "import plotly.express as px\n",
    "pd.set_option('display.max_columns', None)"
   ]
  },
  {
   "cell_type": "code",
   "execution_count": 48,
   "metadata": {},
   "outputs": [],
   "source": [
    "#%% Ingest and or Process\n",
    "today = '_'.join(str(datetime.datetime.today()).split(' ')[0].split('-'))\n",
    "try:\n",
    "    df = pd.read_pickle(\".data/\" + today + \"_df\")\n",
    "    gw_df = pd.read_pickle(\".data/\" + today + \"_gw_df\")\n",
    "except FileNotFoundError:\n",
    "    nest_asyncio.apply()\n",
    "    print('Downloading')\n",
    "    df, gw_df = pp.main(save_to_file=True)"
   ]
  },
  {
   "cell_type": "code",
   "execution_count": 49,
   "metadata": {},
   "outputs": [],
   "source": [
    "player_categories = [\"Goalkeeper\", \"Defender\", \"Midfielder\", \"Forward\"]\n",
    "position_colors_list = [\"red\", \"blue\", \"Orange\", \"Green\"]\n",
    "position_colors = {cat: color for cat, color in zip(player_categories, position_colors_list)}"
   ]
  },
  {
   "cell_type": "code",
   "execution_count": 50,
   "metadata": {},
   "outputs": [
    {
     "data": {
      "text/html": [
       "<div>\n",
       "<style scoped>\n",
       "    .dataframe tbody tr th:only-of-type {\n",
       "        vertical-align: middle;\n",
       "    }\n",
       "\n",
       "    .dataframe tbody tr th {\n",
       "        vertical-align: top;\n",
       "    }\n",
       "\n",
       "    .dataframe thead th {\n",
       "        text-align: right;\n",
       "    }\n",
       "</style>\n",
       "<table border=\"1\" class=\"dataframe\">\n",
       "  <thead>\n",
       "    <tr style=\"text-align: right;\">\n",
       "      <th></th>\n",
       "      <th>dreamteam_count</th>\n",
       "      <th>element_type</th>\n",
       "      <th>event_points</th>\n",
       "      <th>form</th>\n",
       "      <th>in_dreamteam</th>\n",
       "      <th>now_cost</th>\n",
       "      <th>points_per_game</th>\n",
       "      <th>selected_by_percent</th>\n",
       "      <th>team</th>\n",
       "      <th>total_points</th>\n",
       "      <th>transfers_in</th>\n",
       "      <th>transfers_out</th>\n",
       "      <th>value_form</th>\n",
       "      <th>value_season</th>\n",
       "      <th>minutes</th>\n",
       "      <th>goals_scored</th>\n",
       "      <th>assists</th>\n",
       "      <th>clean_sheets</th>\n",
       "      <th>goals_conceded</th>\n",
       "      <th>own_goals</th>\n",
       "      <th>penalties_saved</th>\n",
       "      <th>penalties_missed</th>\n",
       "      <th>yellow_cards</th>\n",
       "      <th>red_cards</th>\n",
       "      <th>saves</th>\n",
       "      <th>bonus</th>\n",
       "      <th>bps</th>\n",
       "      <th>influence</th>\n",
       "      <th>creativity</th>\n",
       "      <th>threat</th>\n",
       "      <th>ict_index</th>\n",
       "      <th>influence_rank</th>\n",
       "      <th>creativity_rank</th>\n",
       "      <th>threat_rank</th>\n",
       "      <th>ict_index_rank</th>\n",
       "      <th>player_name</th>\n",
       "      <th>games</th>\n",
       "      <th>xG</th>\n",
       "      <th>xA</th>\n",
       "      <th>shots</th>\n",
       "      <th>key_passes</th>\n",
       "      <th>npg</th>\n",
       "      <th>npxG</th>\n",
       "      <th>xGChain</th>\n",
       "      <th>xGBuildup</th>\n",
       "    </tr>\n",
       "    <tr>\n",
       "      <th>index</th>\n",
       "      <th></th>\n",
       "      <th></th>\n",
       "      <th></th>\n",
       "      <th></th>\n",
       "      <th></th>\n",
       "      <th></th>\n",
       "      <th></th>\n",
       "      <th></th>\n",
       "      <th></th>\n",
       "      <th></th>\n",
       "      <th></th>\n",
       "      <th></th>\n",
       "      <th></th>\n",
       "      <th></th>\n",
       "      <th></th>\n",
       "      <th></th>\n",
       "      <th></th>\n",
       "      <th></th>\n",
       "      <th></th>\n",
       "      <th></th>\n",
       "      <th></th>\n",
       "      <th></th>\n",
       "      <th></th>\n",
       "      <th></th>\n",
       "      <th></th>\n",
       "      <th></th>\n",
       "      <th></th>\n",
       "      <th></th>\n",
       "      <th></th>\n",
       "      <th></th>\n",
       "      <th></th>\n",
       "      <th></th>\n",
       "      <th></th>\n",
       "      <th></th>\n",
       "      <th></th>\n",
       "      <th></th>\n",
       "      <th></th>\n",
       "      <th></th>\n",
       "      <th></th>\n",
       "      <th></th>\n",
       "      <th></th>\n",
       "      <th></th>\n",
       "      <th></th>\n",
       "      <th></th>\n",
       "      <th></th>\n",
       "    </tr>\n",
       "  </thead>\n",
       "  <tbody>\n",
       "    <tr>\n",
       "      <th>591</th>\n",
       "      <td>0</td>\n",
       "      <td>Forward</td>\n",
       "      <td>0</td>\n",
       "      <td>0.2</td>\n",
       "      <td>False</td>\n",
       "      <td>60</td>\n",
       "      <td>1.7</td>\n",
       "      <td>0.2</td>\n",
       "      <td>8</td>\n",
       "      <td>24</td>\n",
       "      <td>71096</td>\n",
       "      <td>64450</td>\n",
       "      <td>0.0</td>\n",
       "      <td>4.0</td>\n",
       "      <td>710</td>\n",
       "      <td>1</td>\n",
       "      <td>0</td>\n",
       "      <td>2</td>\n",
       "      <td>15</td>\n",
       "      <td>0</td>\n",
       "      <td>0</td>\n",
       "      <td>0</td>\n",
       "      <td>2</td>\n",
       "      <td>0</td>\n",
       "      <td>0</td>\n",
       "      <td>2</td>\n",
       "      <td>63</td>\n",
       "      <td>77.0</td>\n",
       "      <td>94.9</td>\n",
       "      <td>301.0</td>\n",
       "      <td>47.2</td>\n",
       "      <td>369</td>\n",
       "      <td>243</td>\n",
       "      <td>104</td>\n",
       "      <td>252</td>\n",
       "      <td>Salomón Rondón</td>\n",
       "      <td>14</td>\n",
       "      <td>2.412409179843962</td>\n",
       "      <td>0.5214151497930288</td>\n",
       "      <td>18</td>\n",
       "      <td>7</td>\n",
       "      <td>1</td>\n",
       "      <td>2.412409179843962</td>\n",
       "      <td>3.341835469007492</td>\n",
       "      <td>0.4856187906116247</td>\n",
       "    </tr>\n",
       "    <tr>\n",
       "      <th>152</th>\n",
       "      <td>0</td>\n",
       "      <td>Midfielder</td>\n",
       "      <td>1</td>\n",
       "      <td>0.0</td>\n",
       "      <td>False</td>\n",
       "      <td>53</td>\n",
       "      <td>1.2</td>\n",
       "      <td>0.0</td>\n",
       "      <td>7</td>\n",
       "      <td>15</td>\n",
       "      <td>3415</td>\n",
       "      <td>10112</td>\n",
       "      <td>0.0</td>\n",
       "      <td>2.8</td>\n",
       "      <td>647</td>\n",
       "      <td>0</td>\n",
       "      <td>0</td>\n",
       "      <td>1</td>\n",
       "      <td>13</td>\n",
       "      <td>1</td>\n",
       "      <td>0</td>\n",
       "      <td>0</td>\n",
       "      <td>1</td>\n",
       "      <td>0</td>\n",
       "      <td>0</td>\n",
       "      <td>0</td>\n",
       "      <td>98</td>\n",
       "      <td>70.2</td>\n",
       "      <td>145.2</td>\n",
       "      <td>38.0</td>\n",
       "      <td>25.3</td>\n",
       "      <td>378</td>\n",
       "      <td>188</td>\n",
       "      <td>342</td>\n",
       "      <td>340</td>\n",
       "      <td>Luka Milivojevic</td>\n",
       "      <td>12</td>\n",
       "      <td>0.2893703170120716</td>\n",
       "      <td>0.5382447391748428</td>\n",
       "      <td>8</td>\n",
       "      <td>7</td>\n",
       "      <td>0</td>\n",
       "      <td>0.2893703170120716</td>\n",
       "      <td>2.7315842732787132</td>\n",
       "      <td>2.410440620034933</td>\n",
       "    </tr>\n",
       "    <tr>\n",
       "      <th>317</th>\n",
       "      <td>0</td>\n",
       "      <td>Midfielder</td>\n",
       "      <td>0</td>\n",
       "      <td>0.2</td>\n",
       "      <td>False</td>\n",
       "      <td>44</td>\n",
       "      <td>1.4</td>\n",
       "      <td>0.2</td>\n",
       "      <td>15</td>\n",
       "      <td>15</td>\n",
       "      <td>48010</td>\n",
       "      <td>46960</td>\n",
       "      <td>0.0</td>\n",
       "      <td>3.4</td>\n",
       "      <td>490</td>\n",
       "      <td>0</td>\n",
       "      <td>0</td>\n",
       "      <td>0</td>\n",
       "      <td>10</td>\n",
       "      <td>0</td>\n",
       "      <td>0</td>\n",
       "      <td>0</td>\n",
       "      <td>0</td>\n",
       "      <td>0</td>\n",
       "      <td>0</td>\n",
       "      <td>0</td>\n",
       "      <td>84</td>\n",
       "      <td>67.0</td>\n",
       "      <td>111.5</td>\n",
       "      <td>108.0</td>\n",
       "      <td>28.6</td>\n",
       "      <td>383</td>\n",
       "      <td>226</td>\n",
       "      <td>246</td>\n",
       "      <td>323</td>\n",
       "      <td>Lukas Rupp</td>\n",
       "      <td>11</td>\n",
       "      <td>0.42850622814148664</td>\n",
       "      <td>1.2350856140255928</td>\n",
       "      <td>11</td>\n",
       "      <td>8</td>\n",
       "      <td>0</td>\n",
       "      <td>0.42850622814148664</td>\n",
       "      <td>2.236474161967635</td>\n",
       "      <td>1.3101458717137575</td>\n",
       "    </tr>\n",
       "    <tr>\n",
       "      <th>270</th>\n",
       "      <td>2</td>\n",
       "      <td>Goalkeeper</td>\n",
       "      <td>2</td>\n",
       "      <td>3.7</td>\n",
       "      <td>False</td>\n",
       "      <td>52</td>\n",
       "      <td>4.0</td>\n",
       "      <td>11.7</td>\n",
       "      <td>13</td>\n",
       "      <td>112</td>\n",
       "      <td>1828176</td>\n",
       "      <td>1219343</td>\n",
       "      <td>0.7</td>\n",
       "      <td>21.5</td>\n",
       "      <td>2520</td>\n",
       "      <td>0</td>\n",
       "      <td>0</td>\n",
       "      <td>7</td>\n",
       "      <td>38</td>\n",
       "      <td>0</td>\n",
       "      <td>2</td>\n",
       "      <td>0</td>\n",
       "      <td>0</td>\n",
       "      <td>0</td>\n",
       "      <td>103</td>\n",
       "      <td>7</td>\n",
       "      <td>530</td>\n",
       "      <td>795.6</td>\n",
       "      <td>0.3</td>\n",
       "      <td>0.0</td>\n",
       "      <td>79.2</td>\n",
       "      <td>2</td>\n",
       "      <td>472</td>\n",
       "      <td>689</td>\n",
       "      <td>143</td>\n",
       "      <td>David de Gea</td>\n",
       "      <td>28</td>\n",
       "      <td>0</td>\n",
       "      <td>0</td>\n",
       "      <td>0</td>\n",
       "      <td>0</td>\n",
       "      <td>0</td>\n",
       "      <td>0</td>\n",
       "      <td>2.726584111340344</td>\n",
       "      <td>2.726584111340344</td>\n",
       "    </tr>\n",
       "    <tr>\n",
       "      <th>122</th>\n",
       "      <td>3</td>\n",
       "      <td>Defender</td>\n",
       "      <td>0</td>\n",
       "      <td>1.3</td>\n",
       "      <td>False</td>\n",
       "      <td>56</td>\n",
       "      <td>4.1</td>\n",
       "      <td>8.4</td>\n",
       "      <td>6</td>\n",
       "      <td>78</td>\n",
       "      <td>3140122</td>\n",
       "      <td>2959975</td>\n",
       "      <td>0.2</td>\n",
       "      <td>13.9</td>\n",
       "      <td>1445</td>\n",
       "      <td>1</td>\n",
       "      <td>4</td>\n",
       "      <td>6</td>\n",
       "      <td>14</td>\n",
       "      <td>0</td>\n",
       "      <td>0</td>\n",
       "      <td>0</td>\n",
       "      <td>6</td>\n",
       "      <td>0</td>\n",
       "      <td>0</td>\n",
       "      <td>9</td>\n",
       "      <td>333</td>\n",
       "      <td>325.6</td>\n",
       "      <td>390.3</td>\n",
       "      <td>283.0</td>\n",
       "      <td>100.1</td>\n",
       "      <td>150</td>\n",
       "      <td>56</td>\n",
       "      <td>114</td>\n",
       "      <td>80</td>\n",
       "      <td>Marcos Alonso</td>\n",
       "      <td>19</td>\n",
       "      <td>1.6831710208207369</td>\n",
       "      <td>2.961708150804043</td>\n",
       "      <td>25</td>\n",
       "      <td>25</td>\n",
       "      <td>1</td>\n",
       "      <td>1.6831710208207369</td>\n",
       "      <td>7.900173470377922</td>\n",
       "      <td>5.878161035478115</td>\n",
       "    </tr>\n",
       "  </tbody>\n",
       "</table>\n",
       "</div>"
      ],
      "text/plain": [
       "       dreamteam_count element_type  event_points form  in_dreamteam  \\\n",
       "index                                                                  \n",
       "591                  0      Forward             0  0.2         False   \n",
       "152                  0   Midfielder             1  0.0         False   \n",
       "317                  0   Midfielder             0  0.2         False   \n",
       "270                  2   Goalkeeper             2  3.7         False   \n",
       "122                  3     Defender             0  1.3         False   \n",
       "\n",
       "       now_cost points_per_game selected_by_percent  team  total_points  \\\n",
       "index                                                                     \n",
       "591          60             1.7                 0.2     8            24   \n",
       "152          53             1.2                 0.0     7            15   \n",
       "317          44             1.4                 0.2    15            15   \n",
       "270          52             4.0                11.7    13           112   \n",
       "122          56             4.1                 8.4     6            78   \n",
       "\n",
       "       transfers_in  transfers_out value_form value_season  minutes  \\\n",
       "index                                                                 \n",
       "591           71096          64450        0.0          4.0      710   \n",
       "152            3415          10112        0.0          2.8      647   \n",
       "317           48010          46960        0.0          3.4      490   \n",
       "270         1828176        1219343        0.7         21.5     2520   \n",
       "122         3140122        2959975        0.2         13.9     1445   \n",
       "\n",
       "       goals_scored  assists  clean_sheets  goals_conceded  own_goals  \\\n",
       "index                                                                   \n",
       "591               1        0             2              15          0   \n",
       "152               0        0             1              13          1   \n",
       "317               0        0             0              10          0   \n",
       "270               0        0             7              38          0   \n",
       "122               1        4             6              14          0   \n",
       "\n",
       "       penalties_saved  penalties_missed  yellow_cards  red_cards  saves  \\\n",
       "index                                                                      \n",
       "591                  0                 0             2          0      0   \n",
       "152                  0                 0             1          0      0   \n",
       "317                  0                 0             0          0      0   \n",
       "270                  2                 0             0          0    103   \n",
       "122                  0                 0             6          0      0   \n",
       "\n",
       "       bonus  bps influence creativity threat ict_index  influence_rank  \\\n",
       "index                                                                     \n",
       "591        2   63      77.0       94.9  301.0      47.2             369   \n",
       "152        0   98      70.2      145.2   38.0      25.3             378   \n",
       "317        0   84      67.0      111.5  108.0      28.6             383   \n",
       "270        7  530     795.6        0.3    0.0      79.2               2   \n",
       "122        9  333     325.6      390.3  283.0     100.1             150   \n",
       "\n",
       "       creativity_rank  threat_rank  ict_index_rank       player_name games  \\\n",
       "index                                                                         \n",
       "591                243          104             252    Salomón Rondón    14   \n",
       "152                188          342             340  Luka Milivojevic    12   \n",
       "317                226          246             323        Lukas Rupp    11   \n",
       "270                472          689             143      David de Gea    28   \n",
       "122                 56          114              80     Marcos Alonso    19   \n",
       "\n",
       "                        xG                  xA shots key_passes npg  \\\n",
       "index                                                                 \n",
       "591      2.412409179843962  0.5214151497930288    18          7   1   \n",
       "152     0.2893703170120716  0.5382447391748428     8          7   0   \n",
       "317    0.42850622814148664  1.2350856140255928    11          8   0   \n",
       "270                      0                   0     0          0   0   \n",
       "122     1.6831710208207369   2.961708150804043    25         25   1   \n",
       "\n",
       "                      npxG             xGChain           xGBuildup  \n",
       "index                                                               \n",
       "591      2.412409179843962   3.341835469007492  0.4856187906116247  \n",
       "152     0.2893703170120716  2.7315842732787132   2.410440620034933  \n",
       "317    0.42850622814148664   2.236474161967635  1.3101458717137575  \n",
       "270                      0   2.726584111340344   2.726584111340344  \n",
       "122     1.6831710208207369   7.900173470377922   5.878161035478115  "
      ]
     },
     "execution_count": 50,
     "metadata": {},
     "output_type": "execute_result"
    }
   ],
   "source": [
    "df.sample(5)"
   ]
  },
  {
   "cell_type": "code",
   "execution_count": 51,
   "metadata": {},
   "outputs": [
    {
     "data": {
      "text/plain": [
       "344"
      ]
     },
     "execution_count": 51,
     "metadata": {},
     "output_type": "execute_result"
    }
   ],
   "source": [
    "len(df)"
   ]
  },
  {
   "cell_type": "code",
   "execution_count": 52,
   "metadata": {},
   "outputs": [
    {
     "name": "stdout",
     "output_type": "stream",
     "text": [
      "hello\n"
     ]
    }
   ],
   "source": [
    "df.groupby(['element_type'])['form'].count()\n",
    "\n",
    "def generate_pie(df,names, values):\n",
    "    df_plot = df.groupby([names])[values].count().reset_index()\n",
    "    print('hello')\n",
    "    px.pie(df_plot, names=names, values=values, hole=.3)\n",
    "\n",
    "generate_pie(df, 'element_type', 'form')"
   ]
  },
  {
   "cell_type": "code",
   "execution_count": 53,
   "metadata": {},
   "outputs": [
    {
     "name": "stdout",
     "output_type": "stream",
     "text": [
      "hello\n"
     ]
    }
   ],
   "source": [
    "generate_pie(df, 'element_type', 'form')"
   ]
  },
  {
   "cell_type": "code",
   "execution_count": 54,
   "metadata": {},
   "outputs": [
    {
     "data": {
      "application/vnd.plotly.v1+json": {
       "config": {
        "plotlyServerURL": "https://plot.ly"
       },
       "data": [
        {
         "customdata": [
          [
           "Defender"
          ],
          [
           "Forward"
          ],
          [
           "Goalkeeper"
          ],
          [
           "Midfielder"
          ]
         ],
         "domain": {
          "x": [
           0,
           1
          ],
          "y": [
           0,
           1
          ]
         },
         "hole": 0.3,
         "hovertemplate": "element_type=%{customdata[0]}<br>player_name=%{value}<extra></extra>",
         "labels": [
          "Defender",
          "Forward",
          "Goalkeeper",
          "Midfielder"
         ],
         "legendgroup": "",
         "marker": {
          "colors": [
           "blue",
           "Green",
           "red",
           "Orange"
          ]
         },
         "name": "",
         "showlegend": true,
         "type": "pie",
         "values": [
          131,
          42,
          28,
          143
         ]
        }
       ],
       "layout": {
        "legend": {
         "tracegroupgap": 0
        },
        "margin": {
         "t": 60
        },
        "template": {
         "data": {
          "bar": [
           {
            "error_x": {
             "color": "#2a3f5f"
            },
            "error_y": {
             "color": "#2a3f5f"
            },
            "marker": {
             "line": {
              "color": "#E5ECF6",
              "width": 0.5
             },
             "pattern": {
              "fillmode": "overlay",
              "size": 10,
              "solidity": 0.2
             }
            },
            "type": "bar"
           }
          ],
          "barpolar": [
           {
            "marker": {
             "line": {
              "color": "#E5ECF6",
              "width": 0.5
             },
             "pattern": {
              "fillmode": "overlay",
              "size": 10,
              "solidity": 0.2
             }
            },
            "type": "barpolar"
           }
          ],
          "carpet": [
           {
            "aaxis": {
             "endlinecolor": "#2a3f5f",
             "gridcolor": "white",
             "linecolor": "white",
             "minorgridcolor": "white",
             "startlinecolor": "#2a3f5f"
            },
            "baxis": {
             "endlinecolor": "#2a3f5f",
             "gridcolor": "white",
             "linecolor": "white",
             "minorgridcolor": "white",
             "startlinecolor": "#2a3f5f"
            },
            "type": "carpet"
           }
          ],
          "choropleth": [
           {
            "colorbar": {
             "outlinewidth": 0,
             "ticks": ""
            },
            "type": "choropleth"
           }
          ],
          "contour": [
           {
            "colorbar": {
             "outlinewidth": 0,
             "ticks": ""
            },
            "colorscale": [
             [
              0,
              "#0d0887"
             ],
             [
              0.1111111111111111,
              "#46039f"
             ],
             [
              0.2222222222222222,
              "#7201a8"
             ],
             [
              0.3333333333333333,
              "#9c179e"
             ],
             [
              0.4444444444444444,
              "#bd3786"
             ],
             [
              0.5555555555555556,
              "#d8576b"
             ],
             [
              0.6666666666666666,
              "#ed7953"
             ],
             [
              0.7777777777777778,
              "#fb9f3a"
             ],
             [
              0.8888888888888888,
              "#fdca26"
             ],
             [
              1,
              "#f0f921"
             ]
            ],
            "type": "contour"
           }
          ],
          "contourcarpet": [
           {
            "colorbar": {
             "outlinewidth": 0,
             "ticks": ""
            },
            "type": "contourcarpet"
           }
          ],
          "heatmap": [
           {
            "colorbar": {
             "outlinewidth": 0,
             "ticks": ""
            },
            "colorscale": [
             [
              0,
              "#0d0887"
             ],
             [
              0.1111111111111111,
              "#46039f"
             ],
             [
              0.2222222222222222,
              "#7201a8"
             ],
             [
              0.3333333333333333,
              "#9c179e"
             ],
             [
              0.4444444444444444,
              "#bd3786"
             ],
             [
              0.5555555555555556,
              "#d8576b"
             ],
             [
              0.6666666666666666,
              "#ed7953"
             ],
             [
              0.7777777777777778,
              "#fb9f3a"
             ],
             [
              0.8888888888888888,
              "#fdca26"
             ],
             [
              1,
              "#f0f921"
             ]
            ],
            "type": "heatmap"
           }
          ],
          "heatmapgl": [
           {
            "colorbar": {
             "outlinewidth": 0,
             "ticks": ""
            },
            "colorscale": [
             [
              0,
              "#0d0887"
             ],
             [
              0.1111111111111111,
              "#46039f"
             ],
             [
              0.2222222222222222,
              "#7201a8"
             ],
             [
              0.3333333333333333,
              "#9c179e"
             ],
             [
              0.4444444444444444,
              "#bd3786"
             ],
             [
              0.5555555555555556,
              "#d8576b"
             ],
             [
              0.6666666666666666,
              "#ed7953"
             ],
             [
              0.7777777777777778,
              "#fb9f3a"
             ],
             [
              0.8888888888888888,
              "#fdca26"
             ],
             [
              1,
              "#f0f921"
             ]
            ],
            "type": "heatmapgl"
           }
          ],
          "histogram": [
           {
            "marker": {
             "pattern": {
              "fillmode": "overlay",
              "size": 10,
              "solidity": 0.2
             }
            },
            "type": "histogram"
           }
          ],
          "histogram2d": [
           {
            "colorbar": {
             "outlinewidth": 0,
             "ticks": ""
            },
            "colorscale": [
             [
              0,
              "#0d0887"
             ],
             [
              0.1111111111111111,
              "#46039f"
             ],
             [
              0.2222222222222222,
              "#7201a8"
             ],
             [
              0.3333333333333333,
              "#9c179e"
             ],
             [
              0.4444444444444444,
              "#bd3786"
             ],
             [
              0.5555555555555556,
              "#d8576b"
             ],
             [
              0.6666666666666666,
              "#ed7953"
             ],
             [
              0.7777777777777778,
              "#fb9f3a"
             ],
             [
              0.8888888888888888,
              "#fdca26"
             ],
             [
              1,
              "#f0f921"
             ]
            ],
            "type": "histogram2d"
           }
          ],
          "histogram2dcontour": [
           {
            "colorbar": {
             "outlinewidth": 0,
             "ticks": ""
            },
            "colorscale": [
             [
              0,
              "#0d0887"
             ],
             [
              0.1111111111111111,
              "#46039f"
             ],
             [
              0.2222222222222222,
              "#7201a8"
             ],
             [
              0.3333333333333333,
              "#9c179e"
             ],
             [
              0.4444444444444444,
              "#bd3786"
             ],
             [
              0.5555555555555556,
              "#d8576b"
             ],
             [
              0.6666666666666666,
              "#ed7953"
             ],
             [
              0.7777777777777778,
              "#fb9f3a"
             ],
             [
              0.8888888888888888,
              "#fdca26"
             ],
             [
              1,
              "#f0f921"
             ]
            ],
            "type": "histogram2dcontour"
           }
          ],
          "mesh3d": [
           {
            "colorbar": {
             "outlinewidth": 0,
             "ticks": ""
            },
            "type": "mesh3d"
           }
          ],
          "parcoords": [
           {
            "line": {
             "colorbar": {
              "outlinewidth": 0,
              "ticks": ""
             }
            },
            "type": "parcoords"
           }
          ],
          "pie": [
           {
            "automargin": true,
            "type": "pie"
           }
          ],
          "scatter": [
           {
            "marker": {
             "colorbar": {
              "outlinewidth": 0,
              "ticks": ""
             }
            },
            "type": "scatter"
           }
          ],
          "scatter3d": [
           {
            "line": {
             "colorbar": {
              "outlinewidth": 0,
              "ticks": ""
             }
            },
            "marker": {
             "colorbar": {
              "outlinewidth": 0,
              "ticks": ""
             }
            },
            "type": "scatter3d"
           }
          ],
          "scattercarpet": [
           {
            "marker": {
             "colorbar": {
              "outlinewidth": 0,
              "ticks": ""
             }
            },
            "type": "scattercarpet"
           }
          ],
          "scattergeo": [
           {
            "marker": {
             "colorbar": {
              "outlinewidth": 0,
              "ticks": ""
             }
            },
            "type": "scattergeo"
           }
          ],
          "scattergl": [
           {
            "marker": {
             "colorbar": {
              "outlinewidth": 0,
              "ticks": ""
             }
            },
            "type": "scattergl"
           }
          ],
          "scattermapbox": [
           {
            "marker": {
             "colorbar": {
              "outlinewidth": 0,
              "ticks": ""
             }
            },
            "type": "scattermapbox"
           }
          ],
          "scatterpolar": [
           {
            "marker": {
             "colorbar": {
              "outlinewidth": 0,
              "ticks": ""
             }
            },
            "type": "scatterpolar"
           }
          ],
          "scatterpolargl": [
           {
            "marker": {
             "colorbar": {
              "outlinewidth": 0,
              "ticks": ""
             }
            },
            "type": "scatterpolargl"
           }
          ],
          "scatterternary": [
           {
            "marker": {
             "colorbar": {
              "outlinewidth": 0,
              "ticks": ""
             }
            },
            "type": "scatterternary"
           }
          ],
          "surface": [
           {
            "colorbar": {
             "outlinewidth": 0,
             "ticks": ""
            },
            "colorscale": [
             [
              0,
              "#0d0887"
             ],
             [
              0.1111111111111111,
              "#46039f"
             ],
             [
              0.2222222222222222,
              "#7201a8"
             ],
             [
              0.3333333333333333,
              "#9c179e"
             ],
             [
              0.4444444444444444,
              "#bd3786"
             ],
             [
              0.5555555555555556,
              "#d8576b"
             ],
             [
              0.6666666666666666,
              "#ed7953"
             ],
             [
              0.7777777777777778,
              "#fb9f3a"
             ],
             [
              0.8888888888888888,
              "#fdca26"
             ],
             [
              1,
              "#f0f921"
             ]
            ],
            "type": "surface"
           }
          ],
          "table": [
           {
            "cells": {
             "fill": {
              "color": "#EBF0F8"
             },
             "line": {
              "color": "white"
             }
            },
            "header": {
             "fill": {
              "color": "#C8D4E3"
             },
             "line": {
              "color": "white"
             }
            },
            "type": "table"
           }
          ]
         },
         "layout": {
          "annotationdefaults": {
           "arrowcolor": "#2a3f5f",
           "arrowhead": 0,
           "arrowwidth": 1
          },
          "autotypenumbers": "strict",
          "coloraxis": {
           "colorbar": {
            "outlinewidth": 0,
            "ticks": ""
           }
          },
          "colorscale": {
           "diverging": [
            [
             0,
             "#8e0152"
            ],
            [
             0.1,
             "#c51b7d"
            ],
            [
             0.2,
             "#de77ae"
            ],
            [
             0.3,
             "#f1b6da"
            ],
            [
             0.4,
             "#fde0ef"
            ],
            [
             0.5,
             "#f7f7f7"
            ],
            [
             0.6,
             "#e6f5d0"
            ],
            [
             0.7,
             "#b8e186"
            ],
            [
             0.8,
             "#7fbc41"
            ],
            [
             0.9,
             "#4d9221"
            ],
            [
             1,
             "#276419"
            ]
           ],
           "sequential": [
            [
             0,
             "#0d0887"
            ],
            [
             0.1111111111111111,
             "#46039f"
            ],
            [
             0.2222222222222222,
             "#7201a8"
            ],
            [
             0.3333333333333333,
             "#9c179e"
            ],
            [
             0.4444444444444444,
             "#bd3786"
            ],
            [
             0.5555555555555556,
             "#d8576b"
            ],
            [
             0.6666666666666666,
             "#ed7953"
            ],
            [
             0.7777777777777778,
             "#fb9f3a"
            ],
            [
             0.8888888888888888,
             "#fdca26"
            ],
            [
             1,
             "#f0f921"
            ]
           ],
           "sequentialminus": [
            [
             0,
             "#0d0887"
            ],
            [
             0.1111111111111111,
             "#46039f"
            ],
            [
             0.2222222222222222,
             "#7201a8"
            ],
            [
             0.3333333333333333,
             "#9c179e"
            ],
            [
             0.4444444444444444,
             "#bd3786"
            ],
            [
             0.5555555555555556,
             "#d8576b"
            ],
            [
             0.6666666666666666,
             "#ed7953"
            ],
            [
             0.7777777777777778,
             "#fb9f3a"
            ],
            [
             0.8888888888888888,
             "#fdca26"
            ],
            [
             1,
             "#f0f921"
            ]
           ]
          },
          "colorway": [
           "#636efa",
           "#EF553B",
           "#00cc96",
           "#ab63fa",
           "#FFA15A",
           "#19d3f3",
           "#FF6692",
           "#B6E880",
           "#FF97FF",
           "#FECB52"
          ],
          "font": {
           "color": "#2a3f5f"
          },
          "geo": {
           "bgcolor": "white",
           "lakecolor": "white",
           "landcolor": "#E5ECF6",
           "showlakes": true,
           "showland": true,
           "subunitcolor": "white"
          },
          "hoverlabel": {
           "align": "left"
          },
          "hovermode": "closest",
          "mapbox": {
           "style": "light"
          },
          "paper_bgcolor": "white",
          "plot_bgcolor": "#E5ECF6",
          "polar": {
           "angularaxis": {
            "gridcolor": "white",
            "linecolor": "white",
            "ticks": ""
           },
           "bgcolor": "#E5ECF6",
           "radialaxis": {
            "gridcolor": "white",
            "linecolor": "white",
            "ticks": ""
           }
          },
          "scene": {
           "xaxis": {
            "backgroundcolor": "#E5ECF6",
            "gridcolor": "white",
            "gridwidth": 2,
            "linecolor": "white",
            "showbackground": true,
            "ticks": "",
            "zerolinecolor": "white"
           },
           "yaxis": {
            "backgroundcolor": "#E5ECF6",
            "gridcolor": "white",
            "gridwidth": 2,
            "linecolor": "white",
            "showbackground": true,
            "ticks": "",
            "zerolinecolor": "white"
           },
           "zaxis": {
            "backgroundcolor": "#E5ECF6",
            "gridcolor": "white",
            "gridwidth": 2,
            "linecolor": "white",
            "showbackground": true,
            "ticks": "",
            "zerolinecolor": "white"
           }
          },
          "shapedefaults": {
           "line": {
            "color": "#2a3f5f"
           }
          },
          "ternary": {
           "aaxis": {
            "gridcolor": "white",
            "linecolor": "white",
            "ticks": ""
           },
           "baxis": {
            "gridcolor": "white",
            "linecolor": "white",
            "ticks": ""
           },
           "bgcolor": "#E5ECF6",
           "caxis": {
            "gridcolor": "white",
            "linecolor": "white",
            "ticks": ""
           }
          },
          "title": {
           "x": 0.05
          },
          "xaxis": {
           "automargin": true,
           "gridcolor": "white",
           "linecolor": "white",
           "ticks": "",
           "title": {
            "standoff": 15
           },
           "zerolinecolor": "white",
           "zerolinewidth": 2
          },
          "yaxis": {
           "automargin": true,
           "gridcolor": "white",
           "linecolor": "white",
           "ticks": "",
           "title": {
            "standoff": 15
           },
           "zerolinecolor": "white",
           "zerolinewidth": 2
          }
         }
        }
       }
      }
     },
     "metadata": {},
     "output_type": "display_data"
    }
   ],
   "source": [
    "px.pie(df.groupby(['element_type'])['player_name'].count().reset_index(),\n",
    "                  names='element_type',\n",
    "                  values='player_name',\n",
    "                  color='element_type',\n",
    "                  hole=.3,\n",
    "                  color_discrete_map=position_colors\n",
    "                  )"
   ]
  },
  {
   "cell_type": "code",
   "execution_count": 55,
   "metadata": {},
   "outputs": [
    {
     "data": {
      "application/vnd.plotly.v1+json": {
       "config": {
        "plotlyServerURL": "https://plot.ly"
       },
       "data": [
        {
         "customdata": [
          [
           "Defender"
          ],
          [
           "Forward"
          ],
          [
           "Goalkeeper"
          ],
          [
           "Midfielder"
          ]
         ],
         "domain": {
          "x": [
           0,
           1
          ],
          "y": [
           0,
           1
          ]
         },
         "hole": 0.3,
         "hovertemplate": "element_type=%{customdata[0]}<br>total_points=%{value}<extra></extra>",
         "labels": [
          "Defender",
          "Forward",
          "Goalkeeper",
          "Midfielder"
         ],
         "legendgroup": "",
         "marker": {
          "colors": [
           "blue",
           "Green",
           "red",
           "Orange"
          ]
         },
         "name": "",
         "showlegend": true,
         "type": "pie",
         "values": [
          46.221374045801525,
          58.04761904761905,
          48,
          48.82517482517483
         ]
        }
       ],
       "layout": {
        "legend": {
         "tracegroupgap": 0
        },
        "margin": {
         "t": 60
        },
        "template": {
         "data": {
          "bar": [
           {
            "error_x": {
             "color": "#2a3f5f"
            },
            "error_y": {
             "color": "#2a3f5f"
            },
            "marker": {
             "line": {
              "color": "#E5ECF6",
              "width": 0.5
             },
             "pattern": {
              "fillmode": "overlay",
              "size": 10,
              "solidity": 0.2
             }
            },
            "type": "bar"
           }
          ],
          "barpolar": [
           {
            "marker": {
             "line": {
              "color": "#E5ECF6",
              "width": 0.5
             },
             "pattern": {
              "fillmode": "overlay",
              "size": 10,
              "solidity": 0.2
             }
            },
            "type": "barpolar"
           }
          ],
          "carpet": [
           {
            "aaxis": {
             "endlinecolor": "#2a3f5f",
             "gridcolor": "white",
             "linecolor": "white",
             "minorgridcolor": "white",
             "startlinecolor": "#2a3f5f"
            },
            "baxis": {
             "endlinecolor": "#2a3f5f",
             "gridcolor": "white",
             "linecolor": "white",
             "minorgridcolor": "white",
             "startlinecolor": "#2a3f5f"
            },
            "type": "carpet"
           }
          ],
          "choropleth": [
           {
            "colorbar": {
             "outlinewidth": 0,
             "ticks": ""
            },
            "type": "choropleth"
           }
          ],
          "contour": [
           {
            "colorbar": {
             "outlinewidth": 0,
             "ticks": ""
            },
            "colorscale": [
             [
              0,
              "#0d0887"
             ],
             [
              0.1111111111111111,
              "#46039f"
             ],
             [
              0.2222222222222222,
              "#7201a8"
             ],
             [
              0.3333333333333333,
              "#9c179e"
             ],
             [
              0.4444444444444444,
              "#bd3786"
             ],
             [
              0.5555555555555556,
              "#d8576b"
             ],
             [
              0.6666666666666666,
              "#ed7953"
             ],
             [
              0.7777777777777778,
              "#fb9f3a"
             ],
             [
              0.8888888888888888,
              "#fdca26"
             ],
             [
              1,
              "#f0f921"
             ]
            ],
            "type": "contour"
           }
          ],
          "contourcarpet": [
           {
            "colorbar": {
             "outlinewidth": 0,
             "ticks": ""
            },
            "type": "contourcarpet"
           }
          ],
          "heatmap": [
           {
            "colorbar": {
             "outlinewidth": 0,
             "ticks": ""
            },
            "colorscale": [
             [
              0,
              "#0d0887"
             ],
             [
              0.1111111111111111,
              "#46039f"
             ],
             [
              0.2222222222222222,
              "#7201a8"
             ],
             [
              0.3333333333333333,
              "#9c179e"
             ],
             [
              0.4444444444444444,
              "#bd3786"
             ],
             [
              0.5555555555555556,
              "#d8576b"
             ],
             [
              0.6666666666666666,
              "#ed7953"
             ],
             [
              0.7777777777777778,
              "#fb9f3a"
             ],
             [
              0.8888888888888888,
              "#fdca26"
             ],
             [
              1,
              "#f0f921"
             ]
            ],
            "type": "heatmap"
           }
          ],
          "heatmapgl": [
           {
            "colorbar": {
             "outlinewidth": 0,
             "ticks": ""
            },
            "colorscale": [
             [
              0,
              "#0d0887"
             ],
             [
              0.1111111111111111,
              "#46039f"
             ],
             [
              0.2222222222222222,
              "#7201a8"
             ],
             [
              0.3333333333333333,
              "#9c179e"
             ],
             [
              0.4444444444444444,
              "#bd3786"
             ],
             [
              0.5555555555555556,
              "#d8576b"
             ],
             [
              0.6666666666666666,
              "#ed7953"
             ],
             [
              0.7777777777777778,
              "#fb9f3a"
             ],
             [
              0.8888888888888888,
              "#fdca26"
             ],
             [
              1,
              "#f0f921"
             ]
            ],
            "type": "heatmapgl"
           }
          ],
          "histogram": [
           {
            "marker": {
             "pattern": {
              "fillmode": "overlay",
              "size": 10,
              "solidity": 0.2
             }
            },
            "type": "histogram"
           }
          ],
          "histogram2d": [
           {
            "colorbar": {
             "outlinewidth": 0,
             "ticks": ""
            },
            "colorscale": [
             [
              0,
              "#0d0887"
             ],
             [
              0.1111111111111111,
              "#46039f"
             ],
             [
              0.2222222222222222,
              "#7201a8"
             ],
             [
              0.3333333333333333,
              "#9c179e"
             ],
             [
              0.4444444444444444,
              "#bd3786"
             ],
             [
              0.5555555555555556,
              "#d8576b"
             ],
             [
              0.6666666666666666,
              "#ed7953"
             ],
             [
              0.7777777777777778,
              "#fb9f3a"
             ],
             [
              0.8888888888888888,
              "#fdca26"
             ],
             [
              1,
              "#f0f921"
             ]
            ],
            "type": "histogram2d"
           }
          ],
          "histogram2dcontour": [
           {
            "colorbar": {
             "outlinewidth": 0,
             "ticks": ""
            },
            "colorscale": [
             [
              0,
              "#0d0887"
             ],
             [
              0.1111111111111111,
              "#46039f"
             ],
             [
              0.2222222222222222,
              "#7201a8"
             ],
             [
              0.3333333333333333,
              "#9c179e"
             ],
             [
              0.4444444444444444,
              "#bd3786"
             ],
             [
              0.5555555555555556,
              "#d8576b"
             ],
             [
              0.6666666666666666,
              "#ed7953"
             ],
             [
              0.7777777777777778,
              "#fb9f3a"
             ],
             [
              0.8888888888888888,
              "#fdca26"
             ],
             [
              1,
              "#f0f921"
             ]
            ],
            "type": "histogram2dcontour"
           }
          ],
          "mesh3d": [
           {
            "colorbar": {
             "outlinewidth": 0,
             "ticks": ""
            },
            "type": "mesh3d"
           }
          ],
          "parcoords": [
           {
            "line": {
             "colorbar": {
              "outlinewidth": 0,
              "ticks": ""
             }
            },
            "type": "parcoords"
           }
          ],
          "pie": [
           {
            "automargin": true,
            "type": "pie"
           }
          ],
          "scatter": [
           {
            "marker": {
             "colorbar": {
              "outlinewidth": 0,
              "ticks": ""
             }
            },
            "type": "scatter"
           }
          ],
          "scatter3d": [
           {
            "line": {
             "colorbar": {
              "outlinewidth": 0,
              "ticks": ""
             }
            },
            "marker": {
             "colorbar": {
              "outlinewidth": 0,
              "ticks": ""
             }
            },
            "type": "scatter3d"
           }
          ],
          "scattercarpet": [
           {
            "marker": {
             "colorbar": {
              "outlinewidth": 0,
              "ticks": ""
             }
            },
            "type": "scattercarpet"
           }
          ],
          "scattergeo": [
           {
            "marker": {
             "colorbar": {
              "outlinewidth": 0,
              "ticks": ""
             }
            },
            "type": "scattergeo"
           }
          ],
          "scattergl": [
           {
            "marker": {
             "colorbar": {
              "outlinewidth": 0,
              "ticks": ""
             }
            },
            "type": "scattergl"
           }
          ],
          "scattermapbox": [
           {
            "marker": {
             "colorbar": {
              "outlinewidth": 0,
              "ticks": ""
             }
            },
            "type": "scattermapbox"
           }
          ],
          "scatterpolar": [
           {
            "marker": {
             "colorbar": {
              "outlinewidth": 0,
              "ticks": ""
             }
            },
            "type": "scatterpolar"
           }
          ],
          "scatterpolargl": [
           {
            "marker": {
             "colorbar": {
              "outlinewidth": 0,
              "ticks": ""
             }
            },
            "type": "scatterpolargl"
           }
          ],
          "scatterternary": [
           {
            "marker": {
             "colorbar": {
              "outlinewidth": 0,
              "ticks": ""
             }
            },
            "type": "scatterternary"
           }
          ],
          "surface": [
           {
            "colorbar": {
             "outlinewidth": 0,
             "ticks": ""
            },
            "colorscale": [
             [
              0,
              "#0d0887"
             ],
             [
              0.1111111111111111,
              "#46039f"
             ],
             [
              0.2222222222222222,
              "#7201a8"
             ],
             [
              0.3333333333333333,
              "#9c179e"
             ],
             [
              0.4444444444444444,
              "#bd3786"
             ],
             [
              0.5555555555555556,
              "#d8576b"
             ],
             [
              0.6666666666666666,
              "#ed7953"
             ],
             [
              0.7777777777777778,
              "#fb9f3a"
             ],
             [
              0.8888888888888888,
              "#fdca26"
             ],
             [
              1,
              "#f0f921"
             ]
            ],
            "type": "surface"
           }
          ],
          "table": [
           {
            "cells": {
             "fill": {
              "color": "#EBF0F8"
             },
             "line": {
              "color": "white"
             }
            },
            "header": {
             "fill": {
              "color": "#C8D4E3"
             },
             "line": {
              "color": "white"
             }
            },
            "type": "table"
           }
          ]
         },
         "layout": {
          "annotationdefaults": {
           "arrowcolor": "#2a3f5f",
           "arrowhead": 0,
           "arrowwidth": 1
          },
          "autotypenumbers": "strict",
          "coloraxis": {
           "colorbar": {
            "outlinewidth": 0,
            "ticks": ""
           }
          },
          "colorscale": {
           "diverging": [
            [
             0,
             "#8e0152"
            ],
            [
             0.1,
             "#c51b7d"
            ],
            [
             0.2,
             "#de77ae"
            ],
            [
             0.3,
             "#f1b6da"
            ],
            [
             0.4,
             "#fde0ef"
            ],
            [
             0.5,
             "#f7f7f7"
            ],
            [
             0.6,
             "#e6f5d0"
            ],
            [
             0.7,
             "#b8e186"
            ],
            [
             0.8,
             "#7fbc41"
            ],
            [
             0.9,
             "#4d9221"
            ],
            [
             1,
             "#276419"
            ]
           ],
           "sequential": [
            [
             0,
             "#0d0887"
            ],
            [
             0.1111111111111111,
             "#46039f"
            ],
            [
             0.2222222222222222,
             "#7201a8"
            ],
            [
             0.3333333333333333,
             "#9c179e"
            ],
            [
             0.4444444444444444,
             "#bd3786"
            ],
            [
             0.5555555555555556,
             "#d8576b"
            ],
            [
             0.6666666666666666,
             "#ed7953"
            ],
            [
             0.7777777777777778,
             "#fb9f3a"
            ],
            [
             0.8888888888888888,
             "#fdca26"
            ],
            [
             1,
             "#f0f921"
            ]
           ],
           "sequentialminus": [
            [
             0,
             "#0d0887"
            ],
            [
             0.1111111111111111,
             "#46039f"
            ],
            [
             0.2222222222222222,
             "#7201a8"
            ],
            [
             0.3333333333333333,
             "#9c179e"
            ],
            [
             0.4444444444444444,
             "#bd3786"
            ],
            [
             0.5555555555555556,
             "#d8576b"
            ],
            [
             0.6666666666666666,
             "#ed7953"
            ],
            [
             0.7777777777777778,
             "#fb9f3a"
            ],
            [
             0.8888888888888888,
             "#fdca26"
            ],
            [
             1,
             "#f0f921"
            ]
           ]
          },
          "colorway": [
           "#636efa",
           "#EF553B",
           "#00cc96",
           "#ab63fa",
           "#FFA15A",
           "#19d3f3",
           "#FF6692",
           "#B6E880",
           "#FF97FF",
           "#FECB52"
          ],
          "font": {
           "color": "#2a3f5f"
          },
          "geo": {
           "bgcolor": "white",
           "lakecolor": "white",
           "landcolor": "#E5ECF6",
           "showlakes": true,
           "showland": true,
           "subunitcolor": "white"
          },
          "hoverlabel": {
           "align": "left"
          },
          "hovermode": "closest",
          "mapbox": {
           "style": "light"
          },
          "paper_bgcolor": "white",
          "plot_bgcolor": "#E5ECF6",
          "polar": {
           "angularaxis": {
            "gridcolor": "white",
            "linecolor": "white",
            "ticks": ""
           },
           "bgcolor": "#E5ECF6",
           "radialaxis": {
            "gridcolor": "white",
            "linecolor": "white",
            "ticks": ""
           }
          },
          "scene": {
           "xaxis": {
            "backgroundcolor": "#E5ECF6",
            "gridcolor": "white",
            "gridwidth": 2,
            "linecolor": "white",
            "showbackground": true,
            "ticks": "",
            "zerolinecolor": "white"
           },
           "yaxis": {
            "backgroundcolor": "#E5ECF6",
            "gridcolor": "white",
            "gridwidth": 2,
            "linecolor": "white",
            "showbackground": true,
            "ticks": "",
            "zerolinecolor": "white"
           },
           "zaxis": {
            "backgroundcolor": "#E5ECF6",
            "gridcolor": "white",
            "gridwidth": 2,
            "linecolor": "white",
            "showbackground": true,
            "ticks": "",
            "zerolinecolor": "white"
           }
          },
          "shapedefaults": {
           "line": {
            "color": "#2a3f5f"
           }
          },
          "ternary": {
           "aaxis": {
            "gridcolor": "white",
            "linecolor": "white",
            "ticks": ""
           },
           "baxis": {
            "gridcolor": "white",
            "linecolor": "white",
            "ticks": ""
           },
           "bgcolor": "#E5ECF6",
           "caxis": {
            "gridcolor": "white",
            "linecolor": "white",
            "ticks": ""
           }
          },
          "title": {
           "x": 0.05
          },
          "xaxis": {
           "automargin": true,
           "gridcolor": "white",
           "linecolor": "white",
           "ticks": "",
           "title": {
            "standoff": 15
           },
           "zerolinecolor": "white",
           "zerolinewidth": 2
          },
          "yaxis": {
           "automargin": true,
           "gridcolor": "white",
           "linecolor": "white",
           "ticks": "",
           "title": {
            "standoff": 15
           },
           "zerolinecolor": "white",
           "zerolinewidth": 2
          }
         }
        }
       }
      }
     },
     "metadata": {},
     "output_type": "display_data"
    }
   ],
   "source": [
    "#Mean total points\n",
    "px.pie(df.groupby(['element_type'])['total_points'].mean().reset_index(),\n",
    "                  names='element_type',\n",
    "                  values='total_points',\n",
    "                  color='element_type',\n",
    "                  hole=.3,\n",
    "                  color_discrete_map=position_colors\n",
    "                  )"
   ]
  },
  {
   "cell_type": "code",
   "execution_count": 56,
   "metadata": {},
   "outputs": [
    {
     "ename": "FileNotFoundError",
     "evalue": "[Errno 2] No such file or directory: '.data/history.json'",
     "output_type": "error",
     "traceback": [
      "\u001b[1;31m---------------------------------------------------------------------------\u001b[0m",
      "\u001b[1;31mFileNotFoundError\u001b[0m                         Traceback (most recent call last)",
      "\u001b[1;32mC:\\Users\\SAMAPO~1\\AppData\\Local\\Temp/ipykernel_13136/444691718.py\u001b[0m in \u001b[0;36m<module>\u001b[1;34m\u001b[0m\n\u001b[1;32m----> 1\u001b[1;33m \u001b[1;32mwith\u001b[0m \u001b[0mopen\u001b[0m\u001b[1;33m(\u001b[0m\u001b[1;34m'.data/history.json'\u001b[0m\u001b[1;33m,\u001b[0m \u001b[1;34m'r'\u001b[0m\u001b[1;33m)\u001b[0m \u001b[1;32mas\u001b[0m \u001b[0mf\u001b[0m\u001b[1;33m:\u001b[0m\u001b[1;33m\u001b[0m\u001b[1;33m\u001b[0m\u001b[0m\n\u001b[0m\u001b[0;32m      2\u001b[0m   \u001b[0mhist_data\u001b[0m \u001b[1;33m=\u001b[0m \u001b[0mjson\u001b[0m\u001b[1;33m.\u001b[0m\u001b[0mload\u001b[0m\u001b[1;33m(\u001b[0m\u001b[0mf\u001b[0m\u001b[1;33m)\u001b[0m\u001b[1;33m\u001b[0m\u001b[1;33m\u001b[0m\u001b[0m\n\u001b[0;32m      3\u001b[0m   \u001b[1;31m# ensuring player id is an integer\u001b[0m\u001b[1;33m\u001b[0m\u001b[1;33m\u001b[0m\u001b[0m\n\u001b[0;32m      4\u001b[0m \u001b[0mhist_data\u001b[0m \u001b[1;33m=\u001b[0m \u001b[1;33m{\u001b[0m\u001b[0mint\u001b[0m\u001b[1;33m(\u001b[0m\u001b[0mkey\u001b[0m\u001b[1;33m)\u001b[0m\u001b[1;33m:\u001b[0m\u001b[0mvalue\u001b[0m \u001b[1;32mfor\u001b[0m \u001b[0mkey\u001b[0m\u001b[1;33m,\u001b[0m\u001b[0mvalue\u001b[0m \u001b[1;32min\u001b[0m \u001b[0mhist_data\u001b[0m\u001b[1;33m.\u001b[0m\u001b[0mitems\u001b[0m\u001b[1;33m(\u001b[0m\u001b[1;33m)\u001b[0m\u001b[1;33m}\u001b[0m\u001b[1;33m\u001b[0m\u001b[1;33m\u001b[0m\u001b[0m\n",
      "\u001b[1;31mFileNotFoundError\u001b[0m: [Errno 2] No such file or directory: '.data/history.json'"
     ]
    }
   ],
   "source": [
    "with open('.data/history.json', 'r') as f:\n",
    "  hist_data = json.load(f)\n",
    "  # ensuring player id is an integer\n",
    "hist_data = {int(key):value for key,value in hist_data.items()}"
   ]
  },
  {
   "cell_type": "code",
   "execution_count": 16,
   "metadata": {},
   "outputs": [],
   "source": [
    "try:\n",
    "    detailed_df = pd.read_pickle(today2)\n",
    "except FileNotFoundError:\n",
    "    detailed_df = pd.DataFrame()\n",
    "\n",
    "    for id in df.index:\n",
    "        history = pd.DataFrame(hist_data[id]['history'])\n",
    "\n",
    "        # Goals for and against\n",
    "        history['goals_for'] = history['team_h_score'].where(history['was_home'], history['team_a_score'])\n",
    "        history['goals_against'] = history['team_a_score'].where(history['was_home'], history['team_h_score'])\n",
    "\n",
    "        # Drop irrelevant columns\n",
    "        history = history.drop(columns=['team_h_score','team_a_score','element','fixture','kickoff_time','opponent_team'])\n",
    "\n",
    "        # groupBY sum gameweeks\n",
    "        mean_cols =['value', 'transfers_balance', 'selected', 'transfers_in','transfers_out']\n",
    "        history = pd.concat([history.groupby('round').sum().drop(columns=mean_cols), history.groupby('round')[mean_cols].mean()], axis=1)\n",
    "\n",
    "        # Finding empty gameweeks\n",
    "        for empty_gw in np.arange(1,max(history.index)):\n",
    "            if empty_gw not in history.index:\n",
    "                history.loc[empty_gw] = None\n",
    "        history = history.sort_index()\n",
    "\n",
    "        # filling interpolated transfer data or zeros for gw data\n",
    "        history[['value', 'transfers_balance', 'selected','transfers_in', 'transfers_out']] = \\\n",
    "            history[['value', 'transfers_balance', 'selected', 'transfers_in', 'transfers_out']].interpolate(method='linear')\n",
    "        history = history.fillna(0)\n",
    "\n",
    "        # Adding a cumulative sum of points\n",
    "        history['points_cumsum'] = history['total_points'].cumsum()\n",
    "\n",
    "        # Adding player ID to df\n",
    "        history['id'] = id\n",
    "\n",
    "        # Adding general player data \n",
    "        player_df = pd.merge(history, df[['team', 'element_type', 'player_name']], left_on='id', right_index=True,)\n",
    "\n",
    "        detailed_df = pd.concat([detailed_df, player_df], axis=0)\n",
    "\n",
    "    detailed_df = detailed_df.reset_index()\n",
    "    detailed_df.to_pickle(today2)"
   ]
  },
  {
   "cell_type": "code",
   "execution_count": 17,
   "metadata": {},
   "outputs": [
    {
     "data": {
      "text/html": [
       "<div>\n",
       "<style scoped>\n",
       "    .dataframe tbody tr th:only-of-type {\n",
       "        vertical-align: middle;\n",
       "    }\n",
       "\n",
       "    .dataframe tbody tr th {\n",
       "        vertical-align: top;\n",
       "    }\n",
       "\n",
       "    .dataframe thead th {\n",
       "        text-align: right;\n",
       "    }\n",
       "</style>\n",
       "<table border=\"1\" class=\"dataframe\">\n",
       "  <thead>\n",
       "    <tr style=\"text-align: right;\">\n",
       "      <th></th>\n",
       "      <th>round</th>\n",
       "      <th>total_points</th>\n",
       "      <th>was_home</th>\n",
       "      <th>minutes</th>\n",
       "      <th>goals_scored</th>\n",
       "      <th>assists</th>\n",
       "      <th>clean_sheets</th>\n",
       "      <th>goals_conceded</th>\n",
       "      <th>own_goals</th>\n",
       "      <th>penalties_saved</th>\n",
       "      <th>penalties_missed</th>\n",
       "      <th>yellow_cards</th>\n",
       "      <th>red_cards</th>\n",
       "      <th>saves</th>\n",
       "      <th>bonus</th>\n",
       "      <th>bps</th>\n",
       "      <th>goals_for</th>\n",
       "      <th>goals_against</th>\n",
       "      <th>value</th>\n",
       "      <th>transfers_balance</th>\n",
       "      <th>selected</th>\n",
       "      <th>transfers_in</th>\n",
       "      <th>transfers_out</th>\n",
       "      <th>points_cumsum</th>\n",
       "      <th>id</th>\n",
       "      <th>team</th>\n",
       "      <th>element_type</th>\n",
       "      <th>player_name</th>\n",
       "    </tr>\n",
       "  </thead>\n",
       "  <tbody>\n",
       "    <tr>\n",
       "      <th>0</th>\n",
       "      <td>1</td>\n",
       "      <td>1.0</td>\n",
       "      <td>0.0</td>\n",
       "      <td>90.0</td>\n",
       "      <td>0.0</td>\n",
       "      <td>0.0</td>\n",
       "      <td>0.0</td>\n",
       "      <td>2.0</td>\n",
       "      <td>0.0</td>\n",
       "      <td>0.0</td>\n",
       "      <td>0.0</td>\n",
       "      <td>0.0</td>\n",
       "      <td>0.0</td>\n",
       "      <td>1.0</td>\n",
       "      <td>0.0</td>\n",
       "      <td>11.0</td>\n",
       "      <td>0.0</td>\n",
       "      <td>2.0</td>\n",
       "      <td>50.0</td>\n",
       "      <td>0.0</td>\n",
       "      <td>153122.0</td>\n",
       "      <td>0.0</td>\n",
       "      <td>0.0</td>\n",
       "      <td>1.0</td>\n",
       "      <td>1</td>\n",
       "      <td>1</td>\n",
       "      <td>1</td>\n",
       "      <td>Bernd Leno</td>\n",
       "    </tr>\n",
       "    <tr>\n",
       "      <th>1</th>\n",
       "      <td>2</td>\n",
       "      <td>2.0</td>\n",
       "      <td>1.0</td>\n",
       "      <td>90.0</td>\n",
       "      <td>0.0</td>\n",
       "      <td>0.0</td>\n",
       "      <td>0.0</td>\n",
       "      <td>2.0</td>\n",
       "      <td>0.0</td>\n",
       "      <td>0.0</td>\n",
       "      <td>0.0</td>\n",
       "      <td>0.0</td>\n",
       "      <td>0.0</td>\n",
       "      <td>3.0</td>\n",
       "      <td>0.0</td>\n",
       "      <td>17.0</td>\n",
       "      <td>0.0</td>\n",
       "      <td>2.0</td>\n",
       "      <td>50.0</td>\n",
       "      <td>-25816.0</td>\n",
       "      <td>144885.0</td>\n",
       "      <td>2627.0</td>\n",
       "      <td>28443.0</td>\n",
       "      <td>3.0</td>\n",
       "      <td>1</td>\n",
       "      <td>1</td>\n",
       "      <td>1</td>\n",
       "      <td>Bernd Leno</td>\n",
       "    </tr>\n",
       "    <tr>\n",
       "      <th>2</th>\n",
       "      <td>3</td>\n",
       "      <td>1.0</td>\n",
       "      <td>0.0</td>\n",
       "      <td>90.0</td>\n",
       "      <td>0.0</td>\n",
       "      <td>0.0</td>\n",
       "      <td>0.0</td>\n",
       "      <td>5.0</td>\n",
       "      <td>0.0</td>\n",
       "      <td>0.0</td>\n",
       "      <td>0.0</td>\n",
       "      <td>0.0</td>\n",
       "      <td>0.0</td>\n",
       "      <td>5.0</td>\n",
       "      <td>0.0</td>\n",
       "      <td>20.0</td>\n",
       "      <td>0.0</td>\n",
       "      <td>5.0</td>\n",
       "      <td>49.0</td>\n",
       "      <td>-14559.0</td>\n",
       "      <td>136757.0</td>\n",
       "      <td>5164.0</td>\n",
       "      <td>19723.0</td>\n",
       "      <td>4.0</td>\n",
       "      <td>1</td>\n",
       "      <td>1</td>\n",
       "      <td>1</td>\n",
       "      <td>Bernd Leno</td>\n",
       "    </tr>\n",
       "    <tr>\n",
       "      <th>3</th>\n",
       "      <td>4</td>\n",
       "      <td>0.0</td>\n",
       "      <td>1.0</td>\n",
       "      <td>0.0</td>\n",
       "      <td>0.0</td>\n",
       "      <td>0.0</td>\n",
       "      <td>0.0</td>\n",
       "      <td>0.0</td>\n",
       "      <td>0.0</td>\n",
       "      <td>0.0</td>\n",
       "      <td>0.0</td>\n",
       "      <td>0.0</td>\n",
       "      <td>0.0</td>\n",
       "      <td>0.0</td>\n",
       "      <td>0.0</td>\n",
       "      <td>0.0</td>\n",
       "      <td>1.0</td>\n",
       "      <td>0.0</td>\n",
       "      <td>49.0</td>\n",
       "      <td>6564.0</td>\n",
       "      <td>153130.0</td>\n",
       "      <td>35360.0</td>\n",
       "      <td>28796.0</td>\n",
       "      <td>4.0</td>\n",
       "      <td>1</td>\n",
       "      <td>1</td>\n",
       "      <td>1</td>\n",
       "      <td>Bernd Leno</td>\n",
       "    </tr>\n",
       "    <tr>\n",
       "      <th>4</th>\n",
       "      <td>5</td>\n",
       "      <td>0.0</td>\n",
       "      <td>0.0</td>\n",
       "      <td>0.0</td>\n",
       "      <td>0.0</td>\n",
       "      <td>0.0</td>\n",
       "      <td>0.0</td>\n",
       "      <td>0.0</td>\n",
       "      <td>0.0</td>\n",
       "      <td>0.0</td>\n",
       "      <td>0.0</td>\n",
       "      <td>0.0</td>\n",
       "      <td>0.0</td>\n",
       "      <td>0.0</td>\n",
       "      <td>0.0</td>\n",
       "      <td>0.0</td>\n",
       "      <td>1.0</td>\n",
       "      <td>0.0</td>\n",
       "      <td>49.0</td>\n",
       "      <td>-23847.0</td>\n",
       "      <td>129851.0</td>\n",
       "      <td>4822.0</td>\n",
       "      <td>28669.0</td>\n",
       "      <td>4.0</td>\n",
       "      <td>1</td>\n",
       "      <td>1</td>\n",
       "      <td>1</td>\n",
       "      <td>Bernd Leno</td>\n",
       "    </tr>\n",
       "    <tr>\n",
       "      <th>...</th>\n",
       "      <td>...</td>\n",
       "      <td>...</td>\n",
       "      <td>...</td>\n",
       "      <td>...</td>\n",
       "      <td>...</td>\n",
       "      <td>...</td>\n",
       "      <td>...</td>\n",
       "      <td>...</td>\n",
       "      <td>...</td>\n",
       "      <td>...</td>\n",
       "      <td>...</td>\n",
       "      <td>...</td>\n",
       "      <td>...</td>\n",
       "      <td>...</td>\n",
       "      <td>...</td>\n",
       "      <td>...</td>\n",
       "      <td>...</td>\n",
       "      <td>...</td>\n",
       "      <td>...</td>\n",
       "      <td>...</td>\n",
       "      <td>...</td>\n",
       "      <td>...</td>\n",
       "      <td>...</td>\n",
       "      <td>...</td>\n",
       "      <td>...</td>\n",
       "      <td>...</td>\n",
       "      <td>...</td>\n",
       "      <td>...</td>\n",
       "    </tr>\n",
       "    <tr>\n",
       "      <th>11811</th>\n",
       "      <td>24</td>\n",
       "      <td>0.0</td>\n",
       "      <td>1.0</td>\n",
       "      <td>0.0</td>\n",
       "      <td>0.0</td>\n",
       "      <td>0.0</td>\n",
       "      <td>0.0</td>\n",
       "      <td>0.0</td>\n",
       "      <td>0.0</td>\n",
       "      <td>0.0</td>\n",
       "      <td>0.0</td>\n",
       "      <td>0.0</td>\n",
       "      <td>0.0</td>\n",
       "      <td>0.0</td>\n",
       "      <td>0.0</td>\n",
       "      <td>0.0</td>\n",
       "      <td>0.0</td>\n",
       "      <td>1.0</td>\n",
       "      <td>45.0</td>\n",
       "      <td>30.0</td>\n",
       "      <td>321.0</td>\n",
       "      <td>105.0</td>\n",
       "      <td>75.0</td>\n",
       "      <td>3.0</td>\n",
       "      <td>685</td>\n",
       "      <td>20</td>\n",
       "      <td>2</td>\n",
       "      <td>Toti António Gomes</td>\n",
       "    </tr>\n",
       "    <tr>\n",
       "      <th>11812</th>\n",
       "      <td>25</td>\n",
       "      <td>0.0</td>\n",
       "      <td>0.0</td>\n",
       "      <td>0.0</td>\n",
       "      <td>0.0</td>\n",
       "      <td>0.0</td>\n",
       "      <td>0.0</td>\n",
       "      <td>0.0</td>\n",
       "      <td>0.0</td>\n",
       "      <td>0.0</td>\n",
       "      <td>0.0</td>\n",
       "      <td>0.0</td>\n",
       "      <td>0.0</td>\n",
       "      <td>0.0</td>\n",
       "      <td>0.0</td>\n",
       "      <td>0.0</td>\n",
       "      <td>2.0</td>\n",
       "      <td>0.0</td>\n",
       "      <td>45.0</td>\n",
       "      <td>2.0</td>\n",
       "      <td>357.0</td>\n",
       "      <td>31.0</td>\n",
       "      <td>29.0</td>\n",
       "      <td>3.0</td>\n",
       "      <td>685</td>\n",
       "      <td>20</td>\n",
       "      <td>2</td>\n",
       "      <td>Toti António Gomes</td>\n",
       "    </tr>\n",
       "    <tr>\n",
       "      <th>11813</th>\n",
       "      <td>26</td>\n",
       "      <td>0.0</td>\n",
       "      <td>1.0</td>\n",
       "      <td>0.0</td>\n",
       "      <td>0.0</td>\n",
       "      <td>0.0</td>\n",
       "      <td>0.0</td>\n",
       "      <td>0.0</td>\n",
       "      <td>0.0</td>\n",
       "      <td>0.0</td>\n",
       "      <td>0.0</td>\n",
       "      <td>0.0</td>\n",
       "      <td>0.0</td>\n",
       "      <td>0.0</td>\n",
       "      <td>0.0</td>\n",
       "      <td>0.0</td>\n",
       "      <td>3.0</td>\n",
       "      <td>3.0</td>\n",
       "      <td>45.0</td>\n",
       "      <td>-18.0</td>\n",
       "      <td>400.0</td>\n",
       "      <td>36.0</td>\n",
       "      <td>54.0</td>\n",
       "      <td>3.0</td>\n",
       "      <td>685</td>\n",
       "      <td>20</td>\n",
       "      <td>2</td>\n",
       "      <td>Toti António Gomes</td>\n",
       "    </tr>\n",
       "    <tr>\n",
       "      <th>11814</th>\n",
       "      <td>27</td>\n",
       "      <td>0.0</td>\n",
       "      <td>0.0</td>\n",
       "      <td>0.0</td>\n",
       "      <td>0.0</td>\n",
       "      <td>0.0</td>\n",
       "      <td>0.0</td>\n",
       "      <td>0.0</td>\n",
       "      <td>0.0</td>\n",
       "      <td>0.0</td>\n",
       "      <td>0.0</td>\n",
       "      <td>0.0</td>\n",
       "      <td>0.0</td>\n",
       "      <td>0.0</td>\n",
       "      <td>0.0</td>\n",
       "      <td>0.0</td>\n",
       "      <td>0.0</td>\n",
       "      <td>1.0</td>\n",
       "      <td>45.0</td>\n",
       "      <td>-12.0</td>\n",
       "      <td>462.0</td>\n",
       "      <td>38.0</td>\n",
       "      <td>50.0</td>\n",
       "      <td>3.0</td>\n",
       "      <td>685</td>\n",
       "      <td>20</td>\n",
       "      <td>2</td>\n",
       "      <td>Toti António Gomes</td>\n",
       "    </tr>\n",
       "    <tr>\n",
       "      <th>11815</th>\n",
       "      <td>28</td>\n",
       "      <td>0.0</td>\n",
       "      <td>2.0</td>\n",
       "      <td>0.0</td>\n",
       "      <td>0.0</td>\n",
       "      <td>0.0</td>\n",
       "      <td>0.0</td>\n",
       "      <td>0.0</td>\n",
       "      <td>0.0</td>\n",
       "      <td>0.0</td>\n",
       "      <td>0.0</td>\n",
       "      <td>0.0</td>\n",
       "      <td>0.0</td>\n",
       "      <td>0.0</td>\n",
       "      <td>0.0</td>\n",
       "      <td>0.0</td>\n",
       "      <td>0.0</td>\n",
       "      <td>2.0</td>\n",
       "      <td>45.0</td>\n",
       "      <td>-19.0</td>\n",
       "      <td>502.0</td>\n",
       "      <td>26.0</td>\n",
       "      <td>45.0</td>\n",
       "      <td>3.0</td>\n",
       "      <td>685</td>\n",
       "      <td>20</td>\n",
       "      <td>2</td>\n",
       "      <td>Toti António Gomes</td>\n",
       "    </tr>\n",
       "  </tbody>\n",
       "</table>\n",
       "<p>11816 rows × 28 columns</p>\n",
       "</div>"
      ],
      "text/plain": [
       "       round  total_points  was_home  minutes  goals_scored  assists  \\\n",
       "0          1           1.0       0.0     90.0           0.0      0.0   \n",
       "1          2           2.0       1.0     90.0           0.0      0.0   \n",
       "2          3           1.0       0.0     90.0           0.0      0.0   \n",
       "3          4           0.0       1.0      0.0           0.0      0.0   \n",
       "4          5           0.0       0.0      0.0           0.0      0.0   \n",
       "...      ...           ...       ...      ...           ...      ...   \n",
       "11811     24           0.0       1.0      0.0           0.0      0.0   \n",
       "11812     25           0.0       0.0      0.0           0.0      0.0   \n",
       "11813     26           0.0       1.0      0.0           0.0      0.0   \n",
       "11814     27           0.0       0.0      0.0           0.0      0.0   \n",
       "11815     28           0.0       2.0      0.0           0.0      0.0   \n",
       "\n",
       "       clean_sheets  goals_conceded  own_goals  penalties_saved  \\\n",
       "0               0.0             2.0        0.0              0.0   \n",
       "1               0.0             2.0        0.0              0.0   \n",
       "2               0.0             5.0        0.0              0.0   \n",
       "3               0.0             0.0        0.0              0.0   \n",
       "4               0.0             0.0        0.0              0.0   \n",
       "...             ...             ...        ...              ...   \n",
       "11811           0.0             0.0        0.0              0.0   \n",
       "11812           0.0             0.0        0.0              0.0   \n",
       "11813           0.0             0.0        0.0              0.0   \n",
       "11814           0.0             0.0        0.0              0.0   \n",
       "11815           0.0             0.0        0.0              0.0   \n",
       "\n",
       "       penalties_missed  yellow_cards  red_cards  saves  bonus   bps  \\\n",
       "0                   0.0           0.0        0.0    1.0    0.0  11.0   \n",
       "1                   0.0           0.0        0.0    3.0    0.0  17.0   \n",
       "2                   0.0           0.0        0.0    5.0    0.0  20.0   \n",
       "3                   0.0           0.0        0.0    0.0    0.0   0.0   \n",
       "4                   0.0           0.0        0.0    0.0    0.0   0.0   \n",
       "...                 ...           ...        ...    ...    ...   ...   \n",
       "11811               0.0           0.0        0.0    0.0    0.0   0.0   \n",
       "11812               0.0           0.0        0.0    0.0    0.0   0.0   \n",
       "11813               0.0           0.0        0.0    0.0    0.0   0.0   \n",
       "11814               0.0           0.0        0.0    0.0    0.0   0.0   \n",
       "11815               0.0           0.0        0.0    0.0    0.0   0.0   \n",
       "\n",
       "       goals_for  goals_against  value  transfers_balance  selected  \\\n",
       "0            0.0            2.0   50.0                0.0  153122.0   \n",
       "1            0.0            2.0   50.0           -25816.0  144885.0   \n",
       "2            0.0            5.0   49.0           -14559.0  136757.0   \n",
       "3            1.0            0.0   49.0             6564.0  153130.0   \n",
       "4            1.0            0.0   49.0           -23847.0  129851.0   \n",
       "...          ...            ...    ...                ...       ...   \n",
       "11811        0.0            1.0   45.0               30.0     321.0   \n",
       "11812        2.0            0.0   45.0                2.0     357.0   \n",
       "11813        3.0            3.0   45.0              -18.0     400.0   \n",
       "11814        0.0            1.0   45.0              -12.0     462.0   \n",
       "11815        0.0            2.0   45.0              -19.0     502.0   \n",
       "\n",
       "       transfers_in  transfers_out  points_cumsum   id  team  element_type  \\\n",
       "0               0.0            0.0            1.0    1     1             1   \n",
       "1            2627.0        28443.0            3.0    1     1             1   \n",
       "2            5164.0        19723.0            4.0    1     1             1   \n",
       "3           35360.0        28796.0            4.0    1     1             1   \n",
       "4            4822.0        28669.0            4.0    1     1             1   \n",
       "...             ...            ...            ...  ...   ...           ...   \n",
       "11811         105.0           75.0            3.0  685    20             2   \n",
       "11812          31.0           29.0            3.0  685    20             2   \n",
       "11813          36.0           54.0            3.0  685    20             2   \n",
       "11814          38.0           50.0            3.0  685    20             2   \n",
       "11815          26.0           45.0            3.0  685    20             2   \n",
       "\n",
       "              player_name  \n",
       "0              Bernd Leno  \n",
       "1              Bernd Leno  \n",
       "2              Bernd Leno  \n",
       "3              Bernd Leno  \n",
       "4              Bernd Leno  \n",
       "...                   ...  \n",
       "11811  Toti António Gomes  \n",
       "11812  Toti António Gomes  \n",
       "11813  Toti António Gomes  \n",
       "11814  Toti António Gomes  \n",
       "11815  Toti António Gomes  \n",
       "\n",
       "[11816 rows x 28 columns]"
      ]
     },
     "execution_count": 17,
     "metadata": {},
     "output_type": "execute_result"
    }
   ],
   "source": [
    "detailed_df"
   ]
  },
  {
   "cell_type": "code",
   "execution_count": 18,
   "metadata": {},
   "outputs": [
    {
     "data": {
      "text/html": [
       "<div>\n",
       "<style scoped>\n",
       "    .dataframe tbody tr th:only-of-type {\n",
       "        vertical-align: middle;\n",
       "    }\n",
       "\n",
       "    .dataframe tbody tr th {\n",
       "        vertical-align: top;\n",
       "    }\n",
       "\n",
       "    .dataframe thead th {\n",
       "        text-align: right;\n",
       "    }\n",
       "</style>\n",
       "<table border=\"1\" class=\"dataframe\">\n",
       "  <thead>\n",
       "    <tr style=\"text-align: right;\">\n",
       "      <th></th>\n",
       "      <th></th>\n",
       "      <th>value</th>\n",
       "    </tr>\n",
       "    <tr>\n",
       "      <th>player_name</th>\n",
       "      <th>round</th>\n",
       "      <th></th>\n",
       "    </tr>\n",
       "  </thead>\n",
       "  <tbody>\n",
       "    <tr>\n",
       "      <th rowspan=\"5\" valign=\"top\">Aaron Cresswell</th>\n",
       "      <th>1</th>\n",
       "      <td>55.0</td>\n",
       "    </tr>\n",
       "    <tr>\n",
       "      <th>2</th>\n",
       "      <td>55.0</td>\n",
       "    </tr>\n",
       "    <tr>\n",
       "      <th>3</th>\n",
       "      <td>55.0</td>\n",
       "    </tr>\n",
       "    <tr>\n",
       "      <th>4</th>\n",
       "      <td>55.0</td>\n",
       "    </tr>\n",
       "    <tr>\n",
       "      <th>5</th>\n",
       "      <td>55.0</td>\n",
       "    </tr>\n",
       "    <tr>\n",
       "      <th>...</th>\n",
       "      <th>...</th>\n",
       "      <td>...</td>\n",
       "    </tr>\n",
       "    <tr>\n",
       "      <th rowspan=\"5\" valign=\"top\">Çaglar Söyüncü</th>\n",
       "      <th>24</th>\n",
       "      <td>49.0</td>\n",
       "    </tr>\n",
       "    <tr>\n",
       "      <th>25</th>\n",
       "      <td>49.0</td>\n",
       "    </tr>\n",
       "    <tr>\n",
       "      <th>26</th>\n",
       "      <td>49.0</td>\n",
       "    </tr>\n",
       "    <tr>\n",
       "      <th>27</th>\n",
       "      <td>49.0</td>\n",
       "    </tr>\n",
       "    <tr>\n",
       "      <th>28</th>\n",
       "      <td>49.0</td>\n",
       "    </tr>\n",
       "  </tbody>\n",
       "</table>\n",
       "<p>11732 rows × 1 columns</p>\n",
       "</div>"
      ],
      "text/plain": [
       "                       value\n",
       "player_name     round       \n",
       "Aaron Cresswell 1       55.0\n",
       "                2       55.0\n",
       "                3       55.0\n",
       "                4       55.0\n",
       "                5       55.0\n",
       "...                      ...\n",
       "Çaglar Söyüncü  24      49.0\n",
       "                25      49.0\n",
       "                26      49.0\n",
       "                27      49.0\n",
       "                28      49.0\n",
       "\n",
       "[11732 rows x 1 columns]"
      ]
     },
     "execution_count": 18,
     "metadata": {},
     "output_type": "execute_result"
    }
   ],
   "source": [
    "value_df = detailed_df.groupby(['player_name','round'])[['value']].max()\n",
    "value_df #= value_df[value_df['value'] >]"
   ]
  },
  {
   "cell_type": "code",
   "execution_count": 19,
   "metadata": {},
   "outputs": [],
   "source": [
    "player_categories = [1, 2, 3, 4]\n",
    "position_colors_list = [\"red\", \"blue\", \"Orange\", \"Green\"]\n",
    "position_colors = {cat: color for cat, color in zip(player_categories, position_colors_list)}"
   ]
  },
  {
   "cell_type": "code",
   "execution_count": 57,
   "metadata": {},
   "outputs": [
    {
     "data": {
      "application/vnd.plotly.v1+json": {
       "config": {
        "plotlyServerURL": "https://plot.ly"
       },
       "data": [
        {
         "customdata": [
          [
           "Bernd Leno"
          ],
          [
           "Aaron Ramsdale"
          ],
          [
           "Álvaro Fernández"
          ],
          [
           "Jonas Lössl"
          ],
          [
           "Jason Steele"
          ],
          [
           "Robert Sánchez"
          ],
          [
           "Nick Pope"
          ],
          [
           "Wayne Hennessey"
          ],
          [
           "Edouard Mendy"
          ],
          [
           "Vicente Guaita"
          ],
          [
           "Jack Butland"
          ],
          [
           "Jordan Pickford"
          ],
          [
           "Kasper Schmeichel"
          ],
          [
           "Illan Meslier"
          ],
          [
           "Caoimhin Kelleher"
          ],
          [
           "Zack Steffen"
          ],
          [
           "David de Gea"
          ],
          [
           "Karl Darlow"
          ],
          [
           "Martin Dubravka"
          ],
          [
           "Tim Krul"
          ],
          [
           "Angus Gunn"
          ],
          [
           "Fraser Forster"
          ],
          [
           "Willy Caballero"
          ],
          [
           "Hugo Lloris"
          ],
          [
           "Ben Foster"
          ],
          [
           "Daniel Bachmann"
          ],
          [
           "Lukasz Fabianski"
          ],
          [
           "Alphonse Areola"
          ]
         ],
         "hovertemplate": "element_type=Goalkeeper<br>now_cost=%{x}<br>total_points=%{y}<br>player_name=%{customdata[0]}<extra></extra>",
         "legendgroup": "Goalkeeper",
         "marker": {
          "color": "red",
          "symbol": "circle"
         },
         "mode": "markers",
         "name": "Goalkeeper",
         "orientation": "v",
         "showlegend": true,
         "type": "scatter",
         "x": [
          45,
          51,
          45,
          45,
          40,
          46,
          54,
          45,
          61,
          46,
          44,
          49,
          48,
          48,
          43,
          44,
          52,
          45,
          44,
          45,
          40,
          44,
          43,
          54,
          41,
          41,
          50,
          47
         ],
         "xaxis": "x",
         "y": [
          4,
          107,
          31,
          2,
          2,
          86,
          90,
          4,
          95,
          80,
          19,
          73,
          85,
          69,
          8,
          7,
          112,
          20,
          50,
          56,
          26,
          34,
          2,
          104,
          57,
          22,
          97,
          2
         ],
         "yaxis": "y"
        },
        {
         "customdata": [
          [
           "Cédric Soares"
          ],
          [
           "Rob Holding"
          ],
          [
           "Kieran Tierney"
          ],
          [
           "Ben White"
          ],
          [
           "Takehiro Tomiyasu"
          ],
          [
           "Calum Chambers"
          ],
          [
           "Kortney Hause"
          ],
          [
           "Tyrone Mings"
          ],
          [
           "Matthew Cash"
          ],
          [
           "Ezri Konsa Ngoyo"
          ],
          [
           "Ashley Young"
          ],
          [
           "Lucas Digne"
          ],
          [
           "Pontus Jansson"
          ],
          [
           "Rico Henry"
          ],
          [
           "Mads Bech Sørensen"
          ],
          [
           "Ethan Pinnock"
          ],
          [
           "Kristoffer Ajer"
          ],
          [
           "Shane Duffy"
          ],
          [
           "Lewis Dunk"
          ],
          [
           "Adam Webster"
          ],
          [
           "Joël Veltman"
          ],
          [
           "Tariq Lamptey"
          ],
          [
           "Marc Cucurella"
          ],
          [
           "James Tarkowski"
          ],
          [
           "Erik Pieters"
          ],
          [
           "Ben Mee"
          ],
          [
           "Matthew Lowton"
          ],
          [
           "Charlie Taylor"
          ],
          [
           "Nathan Collins"
          ],
          [
           "Connor Roberts"
          ],
          [
           "César Azpilicueta"
          ],
          [
           "Marcos Alonso"
          ],
          [
           "Antonio Rüdiger"
          ],
          [
           "Andreas Christensen"
          ],
          [
           "Reece James"
          ],
          [
           "Malang Sarr"
          ],
          [
           "Trevoh Chalobah"
          ],
          [
           "James Tomkins"
          ],
          [
           "Cheikhou Kouyaté"
          ],
          [
           "Tyrick Mitchell"
          ],
          [
           "Joel Ward"
          ],
          [
           "Joachim Andersen"
          ],
          [
           "Nathaniel Clyne"
          ],
          [
           "Seamus Coleman"
          ],
          [
           "Michael Keane"
          ],
          [
           "Yerry Mina"
          ],
          [
           "Mason Holgate"
          ],
          [
           "Ben Godfrey"
          ],
          [
           "Jonjoe Kenny"
          ],
          [
           "Jarrad Branthwaite"
          ],
          [
           "Vitalii Mykolenko"
          ],
          [
           "Jonny Evans"
          ],
          [
           "Daniel Amartey"
          ],
          [
           "Timothy Castagne"
          ],
          [
           "James Justin"
          ],
          [
           "Luke Thomas"
          ],
          [
           "Jannik Vestergaard"
          ],
          [
           "Liam Cooper"
          ],
          [
           "Luke Ayling"
          ],
          [
           "Diego Llorente"
          ],
          [
           "Robin Koch"
          ],
          [
           "Pascal Struijk"
          ],
          [
           "Charlie Cresswell"
          ],
          [
           "Joel Matip"
          ],
          [
           "Virgil van Dijk"
          ],
          [
           "Andrew Robertson"
          ],
          [
           "Trent Alexander-Arnold"
          ],
          [
           "Joseph Gomez"
          ],
          [
           "Ibrahima Konaté"
          ],
          [
           "Konstantinos Tsimikas"
          ],
          [
           "Kyle Walker"
          ],
          [
           "John Stones"
          ],
          [
           "Nathan Aké"
          ],
          [
           "Aymeric Laporte"
          ],
          [
           "Rúben Santos Gato Alves Dias"
          ],
          [
           "Oleksandr Zinchenko"
          ],
          [
           "Harry Maguire"
          ],
          [
           "Luke Shaw"
          ],
          [
           "Victor Lindelöf"
          ],
          [
           "Eric Bailly"
          ],
          [
           "Aaron Wan-Bissaka"
          ],
          [
           "Phil Jones"
          ],
          [
           "Matt Targett"
          ],
          [
           "Dan Burn"
          ],
          [
           "Matt Ritchie"
          ],
          [
           "Jamaal Lascelles"
          ],
          [
           "Paul Dummett"
          ],
          [
           "Javier Manquillo"
          ],
          [
           "Emil Krafth"
          ],
          [
           "Fabian Schär"
          ],
          [
           "Federico Fernández"
          ],
          [
           "Brandon Williams"
          ],
          [
           "Grant Hanley"
          ],
          [
           "Sam Byram"
          ],
          [
           "Max Aarons"
          ],
          [
           "Jacob Sørensen"
          ],
          [
           "Ben Gibson"
          ],
          [
           "Dimitris Giannoulis"
          ],
          [
           "Ozan Kabak"
          ],
          [
           "Jack Stephens"
          ],
          [
           "Kyle Walker-Peters"
          ],
          [
           "Jan Bednarek"
          ],
          [
           "Mohammed Salisu"
          ],
          [
           "Romain Perraud"
          ],
          [
           "Yan Valery"
          ],
          [
           "Matt Doherty"
          ],
          [
           "Eric Dier"
          ],
          [
           "Ben Davies"
          ],
          [
           "Davinson Sánchez"
          ],
          [
           "Ryan Sessegnon"
          ],
          [
           "Sergio Reguilón"
          ],
          [
           "Cristian Romero"
          ],
          [
           "Craig Cathcart"
          ],
          [
           "Christian Kabasele"
          ],
          [
           "William Troost-Ekong"
          ],
          [
           "Adam Masina"
          ],
          [
           "Francisco Sierralta"
          ],
          [
           "Jeremy Ngakia"
          ],
          [
           "Hassane Kamara"
          ],
          [
           "Kurt Zouma"
          ],
          [
           "Aaron Cresswell"
          ],
          [
           "Craig Dawson"
          ],
          [
           "Ryan Fredericks"
          ],
          [
           "Arthur Masuaku"
          ],
          [
           "Issa Diop"
          ],
          [
           "Ben Johnson"
          ],
          [
           "Conor Coady"
          ],
          [
           "Fernando Marçal"
          ],
          [
           "Max Kilman"
          ],
          [
           "Ki-Jana Hoever"
          ],
          [
           "Rayan Ait Nouri"
          ]
         ],
         "hovertemplate": "element_type=Defender<br>now_cost=%{x}<br>total_points=%{y}<br>player_name=%{customdata[0]}<extra></extra>",
         "legendgroup": "Defender",
         "marker": {
          "color": "blue",
          "symbol": "circle"
         },
         "mode": "markers",
         "name": "Defender",
         "orientation": "v",
         "showlegend": true,
         "type": "scatter",
         "x": [
          42,
          41,
          51,
          45,
          46,
          42,
          44,
          50,
          51,
          49,
          47,
          51,
          45,
          45,
          43,
          45,
          44,
          41,
          48,
          43,
          42,
          45,
          50,
          49,
          42,
          48,
          44,
          44,
          43,
          45,
          56,
          56,
          61,
          46,
          62,
          49,
          47,
          43,
          45,
          45,
          45,
          45,
          43,
          49,
          47,
          49,
          42,
          47,
          44,
          40,
          49,
          54,
          39,
          53,
          49,
          43,
          47,
          44,
          43,
          45,
          43,
          43,
          40,
          49,
          67,
          72,
          85,
          47,
          51,
          37,
          54,
          52,
          47,
          58,
          62,
          53,
          54,
          50,
          48,
          49,
          51,
          45,
          47,
          44,
          49,
          44,
          45,
          39,
          43,
          43,
          43,
          39,
          44,
          44,
          43,
          43,
          44,
          44,
          43,
          44,
          48,
          44,
          45,
          48,
          39,
          47,
          46,
          44,
          45,
          43,
          52,
          48,
          43,
          43,
          43,
          43,
          43,
          43,
          45,
          54,
          54,
          49,
          44,
          44,
          43,
          39,
          48,
          42,
          46,
          39,
          44
         ],
         "xaxis": "x",
         "y": [
          12,
          15,
          93,
          88,
          69,
          12,
          20,
          89,
          99,
          66,
          39,
          50,
          79,
          68,
          6,
          73,
          46,
          47,
          60,
          53,
          55,
          53,
          81,
          65,
          33,
          74,
          56,
          47,
          21,
          37,
          67,
          78,
          114,
          48,
          109,
          21,
          67,
          17,
          63,
          84,
          55,
          73,
          14,
          49,
          69,
          16,
          23,
          29,
          17,
          9,
          2,
          19,
          38,
          29,
          4,
          45,
          11,
          41,
          28,
          47,
          8,
          16,
          4,
          94,
          136,
          124,
          174,
          6,
          27,
          38,
          72,
          55,
          38,
          117,
          122,
          34,
          62,
          46,
          53,
          2,
          39,
          2,
          60,
          51,
          18,
          33,
          7,
          34,
          21,
          59,
          11,
          33,
          51,
          3,
          47,
          8,
          37,
          23,
          16,
          12,
          64,
          77,
          53,
          29,
          2,
          43,
          85,
          55,
          67,
          23,
          85,
          23,
          44,
          6,
          17,
          12,
          5,
          20,
          26,
          53,
          91,
          70,
          3,
          27,
          26,
          39,
          102,
          53,
          94,
          14,
          62
         ],
         "yaxis": "y"
        },
        {
         "customdata": [
          [
           "Alexandre Lacazette"
          ],
          [
           "Ollie Watkins"
          ],
          [
           "Danny Ings"
          ],
          [
           "Ivan Toney"
          ],
          [
           "Neal Maupay"
          ],
          [
           "Danny Welbeck"
          ],
          [
           "Jay Rodriguez"
          ],
          [
           "Ashley Barnes"
          ],
          [
           "Matej Vydra"
          ],
          [
           "Wout Weghorst"
          ],
          [
           "Timo Werner"
          ],
          [
           "Romelu Lukaku"
          ],
          [
           "Christian Benteke"
          ],
          [
           "Jordan Ayew"
          ],
          [
           "Jean-Philippe Mateta"
          ],
          [
           "Odsonne Edouard"
          ],
          [
           "Dominic Calvert-Lewin"
          ],
          [
           "Salomón Rondón"
          ],
          [
           "Jamie Vardy"
          ],
          [
           "Kelechi Iheanacho"
          ],
          [
           "Patson Daka"
          ],
          [
           "Patrick Bamford"
          ],
          [
           "Joe Gelhardt"
          ],
          [
           "Roberto Firmino"
          ],
          [
           "Edinson Cavani"
          ],
          [
           "Chris Wood"
          ],
          [
           "Callum Wilson"
          ],
          [
           "Allan Saint-Maximin"
          ],
          [
           "Teemu Pukki"
          ],
          [
           "Adam Idah"
          ],
          [
           "Joshua Sargent"
          ],
          [
           "Che Adams"
          ],
          [
           "Armando Broja"
          ],
          [
           "Shane Long"
          ],
          [
           "Adam Armstrong"
          ],
          [
           "Harry Kane"
          ],
          [
           "Emmanuel Dennis"
          ],
          [
           "Joshua King"
          ],
          [
           "Michail Antonio"
          ],
          [
           "Raúl Jiménez"
          ],
          [
           "Fabio Silva"
          ],
          [
           "Hee-Chan Hwang"
          ]
         ],
         "hovertemplate": "element_type=Forward<br>now_cost=%{x}<br>total_points=%{y}<br>player_name=%{customdata[0]}<extra></extra>",
         "legendgroup": "Forward",
         "marker": {
          "color": "Green",
          "symbol": "circle"
         },
         "mode": "markers",
         "name": "Forward",
         "orientation": "v",
         "showlegend": true,
         "type": "scatter",
         "x": [
          83,
          75,
          77,
          65,
          65,
          59,
          52,
          52,
          52,
          66,
          86,
          115,
          60,
          58,
          52,
          63,
          77,
          60,
          103,
          69,
          71,
          77,
          46,
          87,
          84,
          67,
          72,
          68,
          58,
          49,
          54,
          70,
          55,
          54,
          57,
          123,
          61,
          58,
          76,
          76,
          56,
          54
         ],
         "xaxis": "x",
         "y": [
          71,
          82,
          75,
          95,
          92,
          39,
          40,
          15,
          27,
          28,
          25,
          61,
          55,
          56,
          36,
          81,
          31,
          24,
          92,
          50,
          50,
          25,
          25,
          49,
          29,
          60,
          59,
          92,
          92,
          36,
          55,
          85,
          78,
          11,
          51,
          109,
          111,
          77,
          112,
          79,
          16,
          62
         ],
         "yaxis": "y"
        },
        {
         "customdata": [
          [
           "Granit Xhaka"
          ],
          [
           "Thomas Partey"
          ],
          [
           "Bukayo Saka"
          ],
          [
           "Albert Sambi Lokonga"
          ],
          [
           "Bertrand Traoré"
          ],
          [
           "Morgan Sanson"
          ],
          [
           "John McGinn"
          ],
          [
           "Marvelous Nakamba"
          ],
          [
           "Jacob Ramsey"
          ],
          [
           "Leon Bailey"
          ],
          [
           "Carney Chukwuemeka"
          ],
          [
           "Christian Nørgaard"
          ],
          [
           "Vitaly Janelt"
          ],
          [
           "Saman Ghoddos"
          ],
          [
           "Mathias Jensen"
          ],
          [
           "Bryan Mbeumo"
          ],
          [
           "Frank Onyeka"
          ],
          [
           "Shandon Baptiste"
          ],
          [
           "Yoane Wissa"
          ],
          [
           "Christian Eriksen"
          ],
          [
           "Adam Lallana"
          ],
          [
           "Pascal Groß"
          ],
          [
           "Leandro Trossard"
          ],
          [
           "Yves Bissouma"
          ],
          [
           "Steven Alzate"
          ],
          [
           "Alexis Mac Allister"
          ],
          [
           "Jakub Moder"
          ],
          [
           "Enock Mwepu"
          ],
          [
           "Jack Cork"
          ],
          [
           "Dale Stephens"
          ],
          [
           "Ashley Westwood"
          ],
          [
           "Josh Brownhill"
          ],
          [
           "Dwight McNeil"
          ],
          [
           "Aaron Lennon"
          ],
          [
           "Maxwel Cornet"
          ],
          [
           "Ross Barkley"
          ],
          [
           "Mateo Kovacic"
          ],
          [
           "Hakim Ziyech"
          ],
          [
           "Ruben Loftus-Cheek"
          ],
          [
           "Christian Pulisic"
          ],
          [
           "Mason Mount"
          ],
          [
           "Callum Hudson-Odoi"
          ],
          [
           "Kai Havertz"
          ],
          [
           "Saúl Ñíguez"
          ],
          [
           "Conor Gallagher"
          ],
          [
           "James McArthur"
          ],
          [
           "Luka Milivojevic"
          ],
          [
           "Wilfried Zaha"
          ],
          [
           "Jeffrey Schlupp"
          ],
          [
           "Jairo Riedewald"
          ],
          [
           "Eberechi Eze"
          ],
          [
           "Will Hughes"
          ],
          [
           "Michael Olise"
          ],
          [
           "Anwar El Ghazi"
          ],
          [
           "Fabian Delph"
          ],
          [
           "Abdoulaye Doucouré"
          ],
          [
           "Alex Iwobi"
          ],
          [
           "Donny van de Beek"
          ],
          [
           "Andros Townsend"
          ],
          [
           "Demarai Gray"
          ],
          [
           "Anthony Gordon"
          ],
          [
           "Marc Albrighton"
          ],
          [
           "Youri Tielemans"
          ],
          [
           "Ayoze Pérez"
          ],
          [
           "James Maddison"
          ],
          [
           "Hamza Choudhury"
          ],
          [
           "Harvey Barnes"
          ],
          [
           "Wilfred Ndidi"
          ],
          [
           "Kiernan Dewsbury-Hall"
          ],
          [
           "Ademola Lookman"
          ],
          [
           "Mateusz Klich"
          ],
          [
           "Stuart Dallas"
          ],
          [
           "Kalvin Phillips"
          ],
          [
           "Tyler Roberts"
          ],
          [
           "Jamie Shackleton"
          ],
          [
           "Jack Harrison"
          ],
          [
           "Daniel James"
          ],
          [
           "Crysencio Summerville"
          ],
          [
           "Adam Forshaw"
          ],
          [
           "James Milner"
          ],
          [
           "Jordan Henderson"
          ],
          [
           "Alex Oxlade-Chamberlain"
          ],
          [
           "Sadio Mané"
          ],
          [
           "Mohamed Salah"
          ],
          [
           "Naby Keita"
          ],
          [
           "Diogo Jota"
          ],
          [
           "Curtis Jones"
          ],
          [
           "Harvey Elliott"
          ],
          [
           "Luis Díaz"
          ],
          [
           "Jack Grealish"
          ],
          [
           "Ilkay Gündogan"
          ],
          [
           "Kevin De Bruyne"
          ],
          [
           "Riyad Mahrez"
          ],
          [
           "Raheem Sterling"
          ],
          [
           "Phil Foden"
          ],
          [
           "Cole Palmer"
          ],
          [
           "Nemanja Matic"
          ],
          [
           "Paul Pogba"
          ],
          [
           "Jesse Lingard"
          ],
          [
           "Marcus Rashford"
          ],
          [
           "Scott McTominay"
          ],
          [
           "Jadon Sancho"
          ],
          [
           "Anthony Elanga"
          ],
          [
           "Jonjo Shelvey"
          ],
          [
           "Ryan Fraser"
          ],
          [
           "Jacob Murphy"
          ],
          [
           "Miguel Almirón"
          ],
          [
           "Sean Longstaff"
          ],
          [
           "Billy Gilmour"
          ],
          [
           "Lukas Rupp"
          ],
          [
           "Kenny McLean"
          ],
          [
           "Kieran Dowell"
          ],
          [
           "Przemyslaw Placheta"
          ],
          [
           "Milot Rashica"
          ],
          [
           "Pierre Lees-Melou"
          ],
          [
           "Christos Tzolis"
          ],
          [
           "Mathias Normann"
          ],
          [
           "Theo Walcott"
          ],
          [
           "Nathan Redmond"
          ],
          [
           "Stuart Armstrong"
          ],
          [
           "James Ward-Prowse"
          ],
          [
           "Nathan Tella"
          ],
          [
           "Ibrahima Diallo"
          ],
          [
           "Moussa Djenepo"
          ],
          [
           "Mohamed Elyounoussi"
          ],
          [
           "Pierre-Emile Højbjerg"
          ],
          [
           "Harry Winks"
          ],
          [
           "Steven Bergwijn"
          ],
          [
           "Dejan Kulusevski"
          ],
          [
           "Rodrigo Bentancur"
          ],
          [
           "Moussa Sissoko"
          ],
          [
           "Tom Cleverley"
          ],
          [
           "Ken Sema"
          ],
          [
           "Juraj Kucka"
          ],
          [
           "Edo Kayembe"
          ],
          [
           "Mark Noble"
          ],
          [
           "Manuel Lanzini"
          ],
          [
           "Jarrod Bowen"
          ],
          [
           "Declan Rice"
          ],
          [
           "Tomas Soucek"
          ],
          [
           "Pablo Fornals"
          ],
          [
           "Nikola Vlasic"
          ],
          [
           "Leander Dendoncker"
          ]
         ],
         "hovertemplate": "element_type=Midfielder<br>now_cost=%{x}<br>total_points=%{y}<br>player_name=%{customdata[0]}<extra></extra>",
         "legendgroup": "Midfielder",
         "marker": {
          "color": "Orange",
          "symbol": "circle"
         },
         "mode": "markers",
         "name": "Midfielder",
         "orientation": "v",
         "showlegend": true,
         "type": "scatter",
         "x": [
          48,
          50,
          65,
          48,
          57,
          50,
          57,
          44,
          48,
          63,
          45,
          50,
          49,
          53,
          49,
          52,
          49,
          49,
          58,
          55,
          53,
          57,
          59,
          44,
          48,
          52,
          45,
          59,
          44,
          44,
          53,
          43,
          57,
          49,
          59,
          52,
          50,
          73,
          54,
          79,
          75,
          53,
          78,
          49,
          62,
          43,
          53,
          68,
          54,
          47,
          59,
          47,
          54,
          56,
          43,
          53,
          58,
          57,
          52,
          55,
          45,
          52,
          64,
          57,
          67,
          44,
          65,
          48,
          44,
          60,
          52,
          49,
          47,
          48,
          44,
          55,
          60,
          45,
          45,
          49,
          50,
          58,
          117,
          132,
          50,
          83,
          50,
          53,
          80,
          75,
          71,
          118,
          87,
          107,
          79,
          45,
          43,
          74,
          67,
          94,
          54,
          89,
          48,
          53,
          53,
          47,
          51,
          44,
          43,
          44,
          49,
          51,
          47,
          52,
          48,
          48,
          45,
          58,
          59,
          58,
          66,
          47,
          45,
          52,
          54,
          49,
          44,
          59,
          61,
          49,
          44,
          48,
          52,
          55,
          47,
          44,
          57,
          69,
          51,
          57,
          60,
          56,
          47
         ],
         "xaxis": "x",
         "y": [
          26,
          52,
          122,
          26,
          10,
          10,
          75,
          16,
          81,
          29,
          13,
          69,
          58,
          26,
          38,
          75,
          34,
          32,
          45,
          2,
          40,
          46,
          80,
          36,
          12,
          66,
          56,
          35,
          22,
          3,
          54,
          52,
          61,
          43,
          62,
          7,
          66,
          63,
          32,
          52,
          107,
          49,
          66,
          11,
          121,
          43,
          15,
          97,
          61,
          4,
          7,
          29,
          62,
          22,
          6,
          67,
          38,
          23,
          64,
          74,
          63,
          33,
          92,
          13,
          106,
          7,
          81,
          40,
          33,
          53,
          47,
          65,
          25,
          34,
          18,
          70,
          76,
          5,
          31,
          29,
          84,
          42,
          134,
          212,
          42,
          126,
          32,
          10,
          18,
          60,
          89,
          120,
          111,
          113,
          100,
          9,
          28,
          59,
          24,
          52,
          57,
          75,
          30,
          46,
          68,
          44,
          30,
          33,
          36,
          15,
          51,
          16,
          15,
          50,
          39,
          13,
          34,
          12,
          59,
          29,
          107,
          17,
          38,
          11,
          60,
          80,
          27,
          40,
          34,
          8,
          64,
          39,
          17,
          37,
          13,
          10,
          66,
          153,
          74,
          90,
          89,
          25,
          52
         ],
         "yaxis": "y"
        }
       ],
       "layout": {
        "legend": {
         "title": {
          "text": "element_type"
         },
         "tracegroupgap": 0
        },
        "template": {
         "data": {
          "bar": [
           {
            "error_x": {
             "color": "#2a3f5f"
            },
            "error_y": {
             "color": "#2a3f5f"
            },
            "marker": {
             "line": {
              "color": "#E5ECF6",
              "width": 0.5
             },
             "pattern": {
              "fillmode": "overlay",
              "size": 10,
              "solidity": 0.2
             }
            },
            "type": "bar"
           }
          ],
          "barpolar": [
           {
            "marker": {
             "line": {
              "color": "#E5ECF6",
              "width": 0.5
             },
             "pattern": {
              "fillmode": "overlay",
              "size": 10,
              "solidity": 0.2
             }
            },
            "type": "barpolar"
           }
          ],
          "carpet": [
           {
            "aaxis": {
             "endlinecolor": "#2a3f5f",
             "gridcolor": "white",
             "linecolor": "white",
             "minorgridcolor": "white",
             "startlinecolor": "#2a3f5f"
            },
            "baxis": {
             "endlinecolor": "#2a3f5f",
             "gridcolor": "white",
             "linecolor": "white",
             "minorgridcolor": "white",
             "startlinecolor": "#2a3f5f"
            },
            "type": "carpet"
           }
          ],
          "choropleth": [
           {
            "colorbar": {
             "outlinewidth": 0,
             "ticks": ""
            },
            "type": "choropleth"
           }
          ],
          "contour": [
           {
            "colorbar": {
             "outlinewidth": 0,
             "ticks": ""
            },
            "colorscale": [
             [
              0,
              "#0d0887"
             ],
             [
              0.1111111111111111,
              "#46039f"
             ],
             [
              0.2222222222222222,
              "#7201a8"
             ],
             [
              0.3333333333333333,
              "#9c179e"
             ],
             [
              0.4444444444444444,
              "#bd3786"
             ],
             [
              0.5555555555555556,
              "#d8576b"
             ],
             [
              0.6666666666666666,
              "#ed7953"
             ],
             [
              0.7777777777777778,
              "#fb9f3a"
             ],
             [
              0.8888888888888888,
              "#fdca26"
             ],
             [
              1,
              "#f0f921"
             ]
            ],
            "type": "contour"
           }
          ],
          "contourcarpet": [
           {
            "colorbar": {
             "outlinewidth": 0,
             "ticks": ""
            },
            "type": "contourcarpet"
           }
          ],
          "heatmap": [
           {
            "colorbar": {
             "outlinewidth": 0,
             "ticks": ""
            },
            "colorscale": [
             [
              0,
              "#0d0887"
             ],
             [
              0.1111111111111111,
              "#46039f"
             ],
             [
              0.2222222222222222,
              "#7201a8"
             ],
             [
              0.3333333333333333,
              "#9c179e"
             ],
             [
              0.4444444444444444,
              "#bd3786"
             ],
             [
              0.5555555555555556,
              "#d8576b"
             ],
             [
              0.6666666666666666,
              "#ed7953"
             ],
             [
              0.7777777777777778,
              "#fb9f3a"
             ],
             [
              0.8888888888888888,
              "#fdca26"
             ],
             [
              1,
              "#f0f921"
             ]
            ],
            "type": "heatmap"
           }
          ],
          "heatmapgl": [
           {
            "colorbar": {
             "outlinewidth": 0,
             "ticks": ""
            },
            "colorscale": [
             [
              0,
              "#0d0887"
             ],
             [
              0.1111111111111111,
              "#46039f"
             ],
             [
              0.2222222222222222,
              "#7201a8"
             ],
             [
              0.3333333333333333,
              "#9c179e"
             ],
             [
              0.4444444444444444,
              "#bd3786"
             ],
             [
              0.5555555555555556,
              "#d8576b"
             ],
             [
              0.6666666666666666,
              "#ed7953"
             ],
             [
              0.7777777777777778,
              "#fb9f3a"
             ],
             [
              0.8888888888888888,
              "#fdca26"
             ],
             [
              1,
              "#f0f921"
             ]
            ],
            "type": "heatmapgl"
           }
          ],
          "histogram": [
           {
            "marker": {
             "pattern": {
              "fillmode": "overlay",
              "size": 10,
              "solidity": 0.2
             }
            },
            "type": "histogram"
           }
          ],
          "histogram2d": [
           {
            "colorbar": {
             "outlinewidth": 0,
             "ticks": ""
            },
            "colorscale": [
             [
              0,
              "#0d0887"
             ],
             [
              0.1111111111111111,
              "#46039f"
             ],
             [
              0.2222222222222222,
              "#7201a8"
             ],
             [
              0.3333333333333333,
              "#9c179e"
             ],
             [
              0.4444444444444444,
              "#bd3786"
             ],
             [
              0.5555555555555556,
              "#d8576b"
             ],
             [
              0.6666666666666666,
              "#ed7953"
             ],
             [
              0.7777777777777778,
              "#fb9f3a"
             ],
             [
              0.8888888888888888,
              "#fdca26"
             ],
             [
              1,
              "#f0f921"
             ]
            ],
            "type": "histogram2d"
           }
          ],
          "histogram2dcontour": [
           {
            "colorbar": {
             "outlinewidth": 0,
             "ticks": ""
            },
            "colorscale": [
             [
              0,
              "#0d0887"
             ],
             [
              0.1111111111111111,
              "#46039f"
             ],
             [
              0.2222222222222222,
              "#7201a8"
             ],
             [
              0.3333333333333333,
              "#9c179e"
             ],
             [
              0.4444444444444444,
              "#bd3786"
             ],
             [
              0.5555555555555556,
              "#d8576b"
             ],
             [
              0.6666666666666666,
              "#ed7953"
             ],
             [
              0.7777777777777778,
              "#fb9f3a"
             ],
             [
              0.8888888888888888,
              "#fdca26"
             ],
             [
              1,
              "#f0f921"
             ]
            ],
            "type": "histogram2dcontour"
           }
          ],
          "mesh3d": [
           {
            "colorbar": {
             "outlinewidth": 0,
             "ticks": ""
            },
            "type": "mesh3d"
           }
          ],
          "parcoords": [
           {
            "line": {
             "colorbar": {
              "outlinewidth": 0,
              "ticks": ""
             }
            },
            "type": "parcoords"
           }
          ],
          "pie": [
           {
            "automargin": true,
            "type": "pie"
           }
          ],
          "scatter": [
           {
            "marker": {
             "colorbar": {
              "outlinewidth": 0,
              "ticks": ""
             }
            },
            "type": "scatter"
           }
          ],
          "scatter3d": [
           {
            "line": {
             "colorbar": {
              "outlinewidth": 0,
              "ticks": ""
             }
            },
            "marker": {
             "colorbar": {
              "outlinewidth": 0,
              "ticks": ""
             }
            },
            "type": "scatter3d"
           }
          ],
          "scattercarpet": [
           {
            "marker": {
             "colorbar": {
              "outlinewidth": 0,
              "ticks": ""
             }
            },
            "type": "scattercarpet"
           }
          ],
          "scattergeo": [
           {
            "marker": {
             "colorbar": {
              "outlinewidth": 0,
              "ticks": ""
             }
            },
            "type": "scattergeo"
           }
          ],
          "scattergl": [
           {
            "marker": {
             "colorbar": {
              "outlinewidth": 0,
              "ticks": ""
             }
            },
            "type": "scattergl"
           }
          ],
          "scattermapbox": [
           {
            "marker": {
             "colorbar": {
              "outlinewidth": 0,
              "ticks": ""
             }
            },
            "type": "scattermapbox"
           }
          ],
          "scatterpolar": [
           {
            "marker": {
             "colorbar": {
              "outlinewidth": 0,
              "ticks": ""
             }
            },
            "type": "scatterpolar"
           }
          ],
          "scatterpolargl": [
           {
            "marker": {
             "colorbar": {
              "outlinewidth": 0,
              "ticks": ""
             }
            },
            "type": "scatterpolargl"
           }
          ],
          "scatterternary": [
           {
            "marker": {
             "colorbar": {
              "outlinewidth": 0,
              "ticks": ""
             }
            },
            "type": "scatterternary"
           }
          ],
          "surface": [
           {
            "colorbar": {
             "outlinewidth": 0,
             "ticks": ""
            },
            "colorscale": [
             [
              0,
              "#0d0887"
             ],
             [
              0.1111111111111111,
              "#46039f"
             ],
             [
              0.2222222222222222,
              "#7201a8"
             ],
             [
              0.3333333333333333,
              "#9c179e"
             ],
             [
              0.4444444444444444,
              "#bd3786"
             ],
             [
              0.5555555555555556,
              "#d8576b"
             ],
             [
              0.6666666666666666,
              "#ed7953"
             ],
             [
              0.7777777777777778,
              "#fb9f3a"
             ],
             [
              0.8888888888888888,
              "#fdca26"
             ],
             [
              1,
              "#f0f921"
             ]
            ],
            "type": "surface"
           }
          ],
          "table": [
           {
            "cells": {
             "fill": {
              "color": "#EBF0F8"
             },
             "line": {
              "color": "white"
             }
            },
            "header": {
             "fill": {
              "color": "#C8D4E3"
             },
             "line": {
              "color": "white"
             }
            },
            "type": "table"
           }
          ]
         },
         "layout": {
          "annotationdefaults": {
           "arrowcolor": "#2a3f5f",
           "arrowhead": 0,
           "arrowwidth": 1
          },
          "autotypenumbers": "strict",
          "coloraxis": {
           "colorbar": {
            "outlinewidth": 0,
            "ticks": ""
           }
          },
          "colorscale": {
           "diverging": [
            [
             0,
             "#8e0152"
            ],
            [
             0.1,
             "#c51b7d"
            ],
            [
             0.2,
             "#de77ae"
            ],
            [
             0.3,
             "#f1b6da"
            ],
            [
             0.4,
             "#fde0ef"
            ],
            [
             0.5,
             "#f7f7f7"
            ],
            [
             0.6,
             "#e6f5d0"
            ],
            [
             0.7,
             "#b8e186"
            ],
            [
             0.8,
             "#7fbc41"
            ],
            [
             0.9,
             "#4d9221"
            ],
            [
             1,
             "#276419"
            ]
           ],
           "sequential": [
            [
             0,
             "#0d0887"
            ],
            [
             0.1111111111111111,
             "#46039f"
            ],
            [
             0.2222222222222222,
             "#7201a8"
            ],
            [
             0.3333333333333333,
             "#9c179e"
            ],
            [
             0.4444444444444444,
             "#bd3786"
            ],
            [
             0.5555555555555556,
             "#d8576b"
            ],
            [
             0.6666666666666666,
             "#ed7953"
            ],
            [
             0.7777777777777778,
             "#fb9f3a"
            ],
            [
             0.8888888888888888,
             "#fdca26"
            ],
            [
             1,
             "#f0f921"
            ]
           ],
           "sequentialminus": [
            [
             0,
             "#0d0887"
            ],
            [
             0.1111111111111111,
             "#46039f"
            ],
            [
             0.2222222222222222,
             "#7201a8"
            ],
            [
             0.3333333333333333,
             "#9c179e"
            ],
            [
             0.4444444444444444,
             "#bd3786"
            ],
            [
             0.5555555555555556,
             "#d8576b"
            ],
            [
             0.6666666666666666,
             "#ed7953"
            ],
            [
             0.7777777777777778,
             "#fb9f3a"
            ],
            [
             0.8888888888888888,
             "#fdca26"
            ],
            [
             1,
             "#f0f921"
            ]
           ]
          },
          "colorway": [
           "#636efa",
           "#EF553B",
           "#00cc96",
           "#ab63fa",
           "#FFA15A",
           "#19d3f3",
           "#FF6692",
           "#B6E880",
           "#FF97FF",
           "#FECB52"
          ],
          "font": {
           "color": "#2a3f5f"
          },
          "geo": {
           "bgcolor": "white",
           "lakecolor": "white",
           "landcolor": "#E5ECF6",
           "showlakes": true,
           "showland": true,
           "subunitcolor": "white"
          },
          "hoverlabel": {
           "align": "left"
          },
          "hovermode": "closest",
          "mapbox": {
           "style": "light"
          },
          "paper_bgcolor": "white",
          "plot_bgcolor": "#E5ECF6",
          "polar": {
           "angularaxis": {
            "gridcolor": "white",
            "linecolor": "white",
            "ticks": ""
           },
           "bgcolor": "#E5ECF6",
           "radialaxis": {
            "gridcolor": "white",
            "linecolor": "white",
            "ticks": ""
           }
          },
          "scene": {
           "xaxis": {
            "backgroundcolor": "#E5ECF6",
            "gridcolor": "white",
            "gridwidth": 2,
            "linecolor": "white",
            "showbackground": true,
            "ticks": "",
            "zerolinecolor": "white"
           },
           "yaxis": {
            "backgroundcolor": "#E5ECF6",
            "gridcolor": "white",
            "gridwidth": 2,
            "linecolor": "white",
            "showbackground": true,
            "ticks": "",
            "zerolinecolor": "white"
           },
           "zaxis": {
            "backgroundcolor": "#E5ECF6",
            "gridcolor": "white",
            "gridwidth": 2,
            "linecolor": "white",
            "showbackground": true,
            "ticks": "",
            "zerolinecolor": "white"
           }
          },
          "shapedefaults": {
           "line": {
            "color": "#2a3f5f"
           }
          },
          "ternary": {
           "aaxis": {
            "gridcolor": "white",
            "linecolor": "white",
            "ticks": ""
           },
           "baxis": {
            "gridcolor": "white",
            "linecolor": "white",
            "ticks": ""
           },
           "bgcolor": "#E5ECF6",
           "caxis": {
            "gridcolor": "white",
            "linecolor": "white",
            "ticks": ""
           }
          },
          "title": {
           "x": 0.05
          },
          "xaxis": {
           "automargin": true,
           "gridcolor": "white",
           "linecolor": "white",
           "ticks": "",
           "title": {
            "standoff": 15
           },
           "zerolinecolor": "white",
           "zerolinewidth": 2
          },
          "yaxis": {
           "automargin": true,
           "gridcolor": "white",
           "linecolor": "white",
           "ticks": "",
           "title": {
            "standoff": 15
           },
           "zerolinecolor": "white",
           "zerolinewidth": 2
          }
         }
        },
        "title": {
         "text": "Total points vs Current Price"
        },
        "xaxis": {
         "anchor": "y",
         "domain": [
          0,
          1
         ],
         "title": {
          "text": "now_cost"
         }
        },
        "yaxis": {
         "anchor": "x",
         "domain": [
          0,
          1
         ],
         "title": {
          "text": "total_points"
         }
        }
       }
      }
     },
     "metadata": {},
     "output_type": "display_data"
    }
   ],
   "source": [
    "# px.pie(df.groupby(['element_type'])['player_name'].count().reset_index(),\n",
    "#                   names='element_type',\n",
    "#                   values='player_name',\n",
    "#                   color='element_type',\n",
    "#                   hole=.3,\n",
    "#                   color_discrete_map=position_colors\n",
    "#                   )\n",
    "\n",
    "px.scatter(df, \n",
    "           x='now_cost', y='total_points',\n",
    "           color='element_type',\n",
    "           color_discrete_map=position_colors,\n",
    "           hover_data= ['player_name'],\n",
    "           title='Total points vs Current Price'\n",
    "              )\n",
    "\n",
    "# sns.scatterplot(x = df['now_cost'], y = df['total_points'], hue=df['element_type'], palette=position_colors)"
   ]
  },
  {
   "cell_type": "code",
   "execution_count": 94,
   "metadata": {},
   "outputs": [
    {
     "data": {
      "application/vnd.plotly.v1+json": {
       "config": {
        "plotlyServerURL": "https://plot.ly"
       },
       "data": [
        {
         "customdata": [
          [
           "Bernd Leno",
           "3"
          ],
          [
           "Aaron Ramsdale",
           "22"
          ],
          [
           "Emiliano Martínez",
           "25"
          ],
          [
           "David Raya Martin",
           "14"
          ],
          [
           "Álvaro Fernández",
           "12"
          ],
          [
           "Jonas Lössl",
           "2"
          ],
          [
           "Jason Steele",
           "1"
          ],
          [
           "Robert Sánchez",
           "26"
          ],
          [
           "Nick Pope",
           "24"
          ],
          [
           "Wayne Hennessey",
           "2"
          ],
          [
           "Kepa Arrizabalaga",
           "4"
          ],
          [
           "Edouard Mendy",
           "22"
          ],
          [
           "Vicente Guaita",
           "23"
          ],
          [
           "Jack Butland",
           "6"
          ],
          [
           "Jordan Pickford",
           "24"
          ],
          [
           "Asmir Begović",
           "1"
          ],
          [
           "Kasper Schmeichel",
           "25"
          ],
          [
           "Illan Meslier",
           "27"
          ],
          [
           "Alisson Ramses Becker",
           "25"
          ],
          [
           "Caoimhin Kelleher",
           "2"
          ],
          [
           "Ederson Santana de Moraes",
           "27"
          ],
          [
           "Zack Steffen",
           "1"
          ],
          [
           "David de Gea",
           "28"
          ],
          [
           "Karl Darlow",
           "8"
          ],
          [
           "Martin Dubravka",
           "14"
          ],
          [
           "Tim Krul",
           "20"
          ],
          [
           "Angus Gunn",
           "7"
          ],
          [
           "Fraser Forster",
           "10"
          ],
          [
           "Willy Caballero",
           "2"
          ],
          [
           "Hugo Lloris",
           "26"
          ],
          [
           "Ben Foster",
           "16"
          ],
          [
           "Daniel Bachmann",
           "11"
          ],
          [
           "Lukasz Fabianski",
           "27"
          ],
          [
           "Alphonse Areola",
           "1"
          ],
          [
           "José Malheiro de Sá",
           "27"
          ]
         ],
         "hovertemplate": "element_type=Goalkeeper<br>now_cost=%{x}<br>points_per_game=%{y}<br>player_name=%{customdata[0]}<br>games=%{customdata[1]}<extra></extra>",
         "legendgroup": "Goalkeeper",
         "marker": {
          "color": "red",
          "symbol": "circle"
         },
         "mode": "markers",
         "name": "Goalkeeper",
         "orientation": "v",
         "showlegend": true,
         "type": "scatter",
         "x": [
          45,
          51,
          55,
          43,
          45,
          45,
          40,
          46,
          54,
          45,
          46,
          61,
          46,
          44,
          49,
          40,
          48,
          48,
          60,
          43,
          61,
          44,
          52,
          45,
          44,
          45,
          40,
          44,
          43,
          54,
          41,
          41,
          50,
          47,
          53
         ],
         "xaxis": "x",
         "y": [
          1.3,
          4.9,
          3.7,
          4,
          2.6,
          1,
          2,
          3.3,
          3.8,
          2,
          4.8,
          4.3,
          3.5,
          3.2,
          3,
          1,
          3.4,
          2.6,
          4.9,
          4,
          4.3,
          7,
          4,
          2.5,
          3.6,
          2.8,
          3.7,
          3.4,
          1,
          4,
          3.6,
          2,
          3.6,
          2,
          4.4
         ],
         "yaxis": "y"
        },
        {
         "customdata": [
          [
           "Cédric Soares",
           "8"
          ],
          [
           "Rob Holding",
           "8"
          ],
          [
           "Kieran Tierney",
           "19"
          ],
          [
           "Gabriel Magalhães",
           "22"
          ],
          [
           "Ben White",
           "23"
          ],
          [
           "Nuno Varela Tavares",
           "14"
          ],
          [
           "Takehiro Tomiyasu",
           "16"
          ],
          [
           "Calum Chambers",
           "6"
          ],
          [
           "Kortney Hause",
           "7"
          ],
          [
           "Tyrone Mings",
           "24"
          ],
          [
           "Matthew Cash",
           "26"
          ],
          [
           "Ezri Konsa Ngoyo",
           "22"
          ],
          [
           "Ashley Young",
           "16"
          ],
          [
           "Lucas Digne",
           "19"
          ],
          [
           "Pontus Jansson",
           "28"
          ],
          [
           "Rico Henry",
           "24"
          ],
          [
           "Mads Roerslev Rasmussen",
           "15"
          ],
          [
           "Mads Bech Sørensen",
           "5"
          ],
          [
           "Ethan Pinnock",
           "27"
          ],
          [
           "Kristoffer Ajer",
           "15"
          ],
          [
           "Mathias Jorgensen",
           "7"
          ],
          [
           "Shane Duffy",
           "17"
          ],
          [
           "Lewis Dunk",
           "18"
          ],
          [
           "Adam Webster",
           "15"
          ],
          [
           "Joël Veltman",
           "23"
          ],
          [
           "Tariq Lamptey",
           "20"
          ],
          [
           "Marc Cucurella",
           "24"
          ],
          [
           "James Tarkowski",
           "24"
          ],
          [
           "Erik Pieters",
           "11"
          ],
          [
           "Ben Mee",
           "21"
          ],
          [
           "Matthew Lowton",
           "18"
          ],
          [
           "Charlie Taylor",
           "19"
          ],
          [
           "Nathan Collins",
           "8"
          ],
          [
           "Connor Roberts",
           "10"
          ],
          [
           "César Azpilicueta",
           "17"
          ],
          [
           "Thiago Emiliano da Silva",
           "22"
          ],
          [
           "Marcos Alonso",
           "19"
          ],
          [
           "Antonio Rüdiger",
           "25"
          ],
          [
           "Andreas Christensen",
           "14"
          ],
          [
           "Benjamin Chilwell",
           "6"
          ],
          [
           "Reece James",
           "17"
          ],
          [
           "Malang Sarr",
           "4"
          ],
          [
           "Trevoh Chalobah",
           "15"
          ],
          [
           "James Tomkins",
           "8"
          ],
          [
           "Cheikhou Kouyaté",
           "21"
          ],
          [
           "Tyrick Mitchell",
           "28"
          ],
          [
           "Joel Ward",
           "23"
          ],
          [
           "Marc Guéhi",
           "27"
          ],
          [
           "Joachim Andersen",
           "24"
          ],
          [
           "Nathaniel Clyne",
           "6"
          ],
          [
           "Seamus Coleman",
           "20"
          ],
          [
           "Michael Keane",
           "24"
          ],
          [
           "Yerry Mina",
           "10"
          ],
          [
           "Mason Holgate",
           "14"
          ],
          [
           "Ben Godfrey",
           "17"
          ],
          [
           "Jonjoe Kenny",
           "8"
          ],
          [
           "Jarrad Branthwaite",
           "3"
          ],
          [
           "Vitalii Mykolenko",
           "2"
          ],
          [
           "Jonny Evans",
           "10"
          ],
          [
           "Ricardo Domingos Barbosa Pereira",
           "11"
          ],
          [
           "Daniel Amartey",
           "16"
          ],
          [
           "Timothy Castagne",
           "16"
          ],
          [
           "Çaglar Söyüncü",
           "22"
          ],
          [
           "James Justin",
           "4"
          ],
          [
           "Luke Thomas",
           "17"
          ],
          [
           "Jannik Vestergaard",
           "10"
          ],
          [
           "Liam Cooper",
           "15"
          ],
          [
           "Luke Ayling",
           "18"
          ],
          [
           "Diego Llorente",
           "19"
          ],
          [
           "Robin Koch",
           "10"
          ],
          [
           "Pascal Struijk",
           "20"
          ],
          [
           "Héctor Junior Firpo Adames",
           "18"
          ],
          [
           "Charlie Cresswell",
           "4"
          ],
          [
           "Joel Matip",
           "21"
          ],
          [
           "Virgil van Dijk",
           "25"
          ],
          [
           "Andrew Robertson",
           "20"
          ],
          [
           "Trent Alexander-Arnold",
           "24"
          ],
          [
           "Joseph Gomez",
           "5"
          ],
          [
           "Ibrahima Konaté",
           "8"
          ],
          [
           "Konstantinos Tsimikas",
           "10"
          ],
          [
           "Kyle Walker",
           "21"
          ],
          [
           "John Stones",
           "10"
          ],
          [
           "João Pedro Cavaco Cancelo",
           "26"
          ],
          [
           "Nathan Aké",
           "9"
          ],
          [
           "Aymeric Laporte",
           "23"
          ],
          [
           "Rúben Santos Gato Alves Dias",
           "25"
          ],
          [
           "Oleksandr Zinchenko",
           "8"
          ],
          [
           "Harry Maguire",
           "23"
          ],
          [
           "Luke Shaw",
           "19"
          ],
          [
           "Alex Nicolao Telles",
           "12"
          ],
          [
           "Victor Lindelöf",
           "19"
          ],
          [
           "Eric Bailly",
           "4"
          ],
          [
           "Aaron Wan-Bissaka",
           "18"
          ],
          [
           "José Diogo Dalot Teixeira",
           "15"
          ],
          [
           "Raphaël Varane",
           "16"
          ],
          [
           "Phil Jones",
           "1"
          ],
          [
           "Matt Targett",
           "21"
          ],
          [
           "Dan Burn",
           "17"
          ],
          [
           "Matt Ritchie",
           "16"
          ],
          [
           "Jamaal Lascelles",
           "19"
          ],
          [
           "Paul Dummett",
           "3"
          ],
          [
           "Javier Manquillo",
           "15"
          ],
          [
           "Emil Krafth",
           "11"
          ],
          [
           "Fabian Schär",
           "16"
          ],
          [
           "Federico Fernández",
           "7"
          ],
          [
           "Brandon Williams",
           "21"
          ],
          [
           "Grant Hanley",
           "23"
          ],
          [
           "Sam Byram",
           "6"
          ],
          [
           "Max Aarons",
           "26"
          ],
          [
           "Jacob Sørensen",
           "6"
          ],
          [
           "Ben Gibson",
           "23"
          ],
          [
           "Dimitris Giannoulis",
           "11"
          ],
          [
           "Ozan Kabak",
           "9"
          ],
          [
           "Jack Stephens",
           "9"
          ],
          [
           "Kyle Walker-Peters",
           "17"
          ],
          [
           "Jan Bednarek",
           "22"
          ],
          [
           "Mohammed Salisu",
           "25"
          ],
          [
           "Romain Perraud",
           "14"
          ],
          [
           "Tino Livramento",
           "22"
          ],
          [
           "Yan Valery",
           "2"
          ],
          [
           "Lyanco Evangelista Silveira Neves Vojnovic",
           "11"
          ],
          [
           "Matt Doherty",
           "10"
          ],
          [
           "Eric Dier",
           "23"
          ],
          [
           "Ben Davies",
           "17"
          ],
          [
           "Davinson Sánchez",
           "18"
          ],
          [
           "Ryan Sessegnon",
           "9"
          ],
          [
           "Sergio Reguilón",
           "20"
          ],
          [
           "Cristian Romero",
           "13"
          ],
          [
           "Emerson Aparecido Leite de Souza Junior",
           "1"
          ],
          [
           "Emerson Aparecido Leite de Souza Junior",
           "20"
          ],
          [
           "Craig Cathcart",
           "24"
          ],
          [
           "Francisco Femenía Far",
           "19"
          ],
          [
           "Christian Kabasele",
           "6"
          ],
          [
           "William Troost-Ekong",
           "16"
          ],
          [
           "Adam Masina",
           "11"
          ],
          [
           "Francisco Sierralta",
           "5"
          ],
          [
           "Jeremy Ngakia",
           "13"
          ],
          [
           "Nicolas Nkoulou",
           "3"
          ],
          [
           "Hassane Kamara",
           "9"
          ],
          [
           "Samir Caetano de Souza Santos",
           "9"
          ],
          [
           "Kurt Zouma",
           "16"
          ],
          [
           "Aaron Cresswell",
           "21"
          ],
          [
           "Craig Dawson",
           "25"
          ],
          [
           "Ryan Fredericks",
           "4"
          ],
          [
           "Arthur Masuaku",
           "11"
          ],
          [
           "Issa Diop",
           "10"
          ],
          [
           "Ben Johnson",
           "14"
          ],
          [
           "Conor Coady",
           "27"
          ],
          [
           "Romain Saïss",
           "25"
          ],
          [
           "Fernando Marçal",
           "15"
          ],
          [
           "Jonathan Castro Otto",
           "2"
          ],
          [
           "Nélson Cabral Semedo",
           "23"
          ],
          [
           "Max Kilman",
           "27"
          ],
          [
           "Ki-Jana Hoever",
           "8"
          ],
          [
           "Rayan Ait Nouri",
           "15"
          ],
          [
           "Toti António Gomes",
           "2"
          ]
         ],
         "hovertemplate": "element_type=Defender<br>now_cost=%{x}<br>points_per_game=%{y}<br>player_name=%{customdata[0]}<br>games=%{customdata[1]}<extra></extra>",
         "legendgroup": "Defender",
         "marker": {
          "color": "blue",
          "symbol": "circle"
         },
         "mode": "markers",
         "name": "Defender",
         "orientation": "v",
         "showlegend": true,
         "type": "scatter",
         "x": [
          42,
          41,
          51,
          53,
          45,
          43,
          46,
          42,
          44,
          50,
          51,
          49,
          47,
          51,
          45,
          45,
          41,
          43,
          45,
          44,
          45,
          41,
          48,
          43,
          42,
          45,
          50,
          49,
          42,
          48,
          44,
          44,
          43,
          45,
          56,
          56,
          56,
          61,
          46,
          56,
          62,
          49,
          47,
          43,
          45,
          45,
          45,
          45,
          45,
          43,
          49,
          47,
          49,
          42,
          47,
          44,
          40,
          49,
          54,
          52,
          39,
          53,
          49,
          49,
          43,
          47,
          44,
          43,
          45,
          43,
          43,
          47,
          40,
          49,
          67,
          72,
          85,
          47,
          51,
          37,
          54,
          52,
          70,
          47,
          58,
          62,
          53,
          54,
          50,
          50,
          48,
          49,
          51,
          44,
          55,
          45,
          47,
          44,
          49,
          44,
          45,
          39,
          43,
          43,
          43,
          39,
          44,
          44,
          43,
          43,
          44,
          44,
          43,
          44,
          48,
          44,
          45,
          48,
          44,
          39,
          44,
          47,
          46,
          44,
          45,
          43,
          52,
          48,
          47,
          47,
          43,
          43,
          43,
          43,
          43,
          43,
          43,
          44,
          45,
          45,
          54,
          54,
          49,
          44,
          44,
          43,
          39,
          48,
          50,
          42,
          45,
          48,
          46,
          39,
          44,
          45
         ],
         "xaxis": "x",
         "y": [
          1.5,
          1.9,
          4.9,
          4.6,
          3.8,
          2.3,
          4.3,
          2,
          2.9,
          3.7,
          3.8,
          3,
          2.4,
          2.6,
          2.8,
          2.8,
          1.9,
          1.2,
          2.7,
          3.1,
          1.7,
          2.8,
          3.3,
          3.5,
          2.4,
          2.6,
          3.4,
          2.7,
          3,
          3.5,
          3.1,
          2.5,
          2.6,
          3.7,
          3.9,
          4.8,
          4.1,
          4.6,
          3.4,
          9,
          6.4,
          5.2,
          4.5,
          2.1,
          3,
          3,
          2.4,
          3.1,
          3,
          2.3,
          2.5,
          2.9,
          1.6,
          1.6,
          1.7,
          2.1,
          3,
          1,
          1.9,
          2.5,
          2.4,
          1.8,
          2.3,
          1,
          2.6,
          1.1,
          2.7,
          1.6,
          2.5,
          0.8,
          0.8,
          0.7,
          1,
          4.5,
          5.4,
          6.2,
          7.2,
          1.2,
          3.4,
          3.8,
          4.2,
          5.5,
          5.9,
          4.2,
          5.1,
          4.9,
          4.2,
          2.7,
          2.4,
          3.3,
          2.8,
          0.5,
          2.2,
          2.7,
          3.4,
          2,
          2.9,
          3,
          1.1,
          1.7,
          2.3,
          2.3,
          1.9,
          3.7,
          1.6,
          1.6,
          2.2,
          0.5,
          1.8,
          1.3,
          1.6,
          2.1,
          1.8,
          1.3,
          3,
          3.5,
          2.1,
          2.1,
          3.4,
          1,
          0.9,
          4.3,
          3.7,
          3.2,
          3.7,
          2.6,
          4.2,
          1.8,
          2.8,
          2.8,
          1.8,
          2.3,
          1,
          1.1,
          1.1,
          1,
          1.5,
          1.7,
          2.9,
          2.6,
          3.3,
          4.3,
          2.8,
          0.8,
          2.5,
          2.6,
          2.8,
          3.8,
          3.8,
          3.5,
          1,
          4,
          3.5,
          1.8,
          4.1,
          1.5
         ],
         "yaxis": "y"
        },
        {
         "customdata": [
          [
           "Alexandre Lacazette",
           "20"
          ],
          [
           "Edward Nketiah",
           "8"
          ],
          [
           "Ollie Watkins",
           "23"
          ],
          [
           "Danny Ings",
           "20"
          ],
          [
           "Ivan Toney",
           "23"
          ],
          [
           "Neal Maupay",
           "25"
          ],
          [
           "Danny Welbeck",
           "14"
          ],
          [
           "Jay Rodriguez",
           "22"
          ],
          [
           "Ashley Barnes",
           "15"
          ],
          [
           "Wout Weghorst",
           "8"
          ],
          [
           "Timo Werner",
           "12"
          ],
          [
           "Romelu Lukaku",
           "17"
          ],
          [
           "Christian Benteke",
           "22"
          ],
          [
           "Jordan Ayew",
           "24"
          ],
          [
           "Jean-Philippe Mateta",
           "13"
          ],
          [
           "Odsonne Edouard",
           "22"
          ],
          [
           "Dominic Calvert-Lewin",
           "9"
          ],
          [
           "Richarlison de Andrade",
           "18"
          ],
          [
           "Salomón Rondón",
           "14"
          ],
          [
           "Jamie Vardy",
           "18"
          ],
          [
           "Kelechi Iheanacho",
           "17"
          ],
          [
           "Patson Daka",
           "13"
          ],
          [
           "Rodrigo Moreno",
           "23"
          ],
          [
           "Patrick Bamford",
           "6"
          ],
          [
           "Joe Gelhardt",
           "11"
          ],
          [
           "Roberto Firmino",
           "15"
          ],
          [
           "Gabriel Fernando de Jesus",
           "20"
          ],
          [
           "Edinson Cavani",
           "11"
          ],
          [
           "Cristiano Ronaldo dos Santos Aveiro",
           "23"
          ],
          [
           "Chris Wood",
           "24"
          ],
          [
           "Callum Wilson",
           "15"
          ],
          [
           "Allan Saint-Maximin",
           "24"
          ],
          [
           "Joelinton Cássio Apolinário de Lira",
           "25"
          ],
          [
           "Teemu Pukki",
           "26"
          ],
          [
           "Adam Idah",
           "17"
          ],
          [
           "Joshua Sargent",
           "23"
          ],
          [
           "Che Adams",
           "21"
          ],
          [
           "Armando Broja",
           "23"
          ],
          [
           "Shane Long",
           "6"
          ],
          [
           "Adam Armstrong",
           "19"
          ],
          [
           "Harry Kane",
           "25"
          ],
          [
           "João Pedro Junqueira de Jesus",
           "19"
          ],
          [
           "Emmanuel Dennis",
           "25"
          ],
          [
           "Joshua King",
           "24"
          ],
          [
           "Juan Camilo Hernández Suárez",
           "20"
          ],
          [
           "Michail Antonio",
           "27"
          ],
          [
           "Raúl Jiménez",
           "25"
          ],
          [
           "Fabio Silva",
           "14"
          ],
          [
           "Hee-Chan Hwang",
           "19"
          ]
         ],
         "hovertemplate": "element_type=Forward<br>now_cost=%{x}<br>points_per_game=%{y}<br>player_name=%{customdata[0]}<br>games=%{customdata[1]}<extra></extra>",
         "legendgroup": "Forward",
         "marker": {
          "color": "Green",
          "symbol": "circle"
         },
         "mode": "markers",
         "name": "Forward",
         "orientation": "v",
         "showlegend": true,
         "type": "scatter",
         "x": [
          83,
          54,
          75,
          77,
          65,
          65,
          59,
          52,
          52,
          66,
          86,
          115,
          60,
          58,
          52,
          63,
          77,
          75,
          60,
          103,
          69,
          71,
          62,
          77,
          46,
          87,
          84,
          84,
          123,
          67,
          72,
          68,
          58,
          58,
          49,
          54,
          70,
          55,
          54,
          57,
          123,
          54,
          61,
          58,
          50,
          76,
          76,
          56,
          54
         ],
         "xaxis": "x",
         "y": [
          3.5,
          1.2,
          3.6,
          3.8,
          4.1,
          3.7,
          2.8,
          1.8,
          1,
          3.5,
          2.1,
          3.6,
          2.5,
          2.3,
          2.8,
          3.7,
          3.4,
          3.4,
          1.7,
          5.1,
          2.9,
          3.8,
          2.5,
          4.2,
          2.3,
          3.3,
          3.6,
          2.6,
          4.3,
          2.5,
          3.9,
          3.8,
          2.1,
          3.5,
          2.1,
          2.4,
          4,
          3.4,
          1.8,
          2.7,
          4.4,
          2.1,
          4.4,
          3.2,
          2.4,
          4.1,
          3.2,
          1.1,
          3.3
         ],
         "yaxis": "y"
        },
        {
         "customdata": [
          [
           "Granit Xhaka",
           "14"
          ],
          [
           "Mohamed Naser El Sayed Elneny",
           "7"
          ],
          [
           "Thomas Partey",
           "20"
          ],
          [
           "Nicolas Pépé",
           "12"
          ],
          [
           "Emile Smith Rowe",
           "21"
          ],
          [
           "Bukayo Saka",
           "25"
          ],
          [
           "Gabriel Teodoro Martinelli Silva",
           "17"
          ],
          [
           "Albert Sambi Lokonga",
           "14"
          ],
          [
           "Martin Ødegaard",
           "23"
          ],
          [
           "Bertrand Traoré",
           "6"
          ],
          [
           "Morgan Sanson",
           "8"
          ],
          [
           "John McGinn",
           "23"
          ],
          [
           "Marvelous Nakamba",
           "12"
          ],
          [
           "Emiliano Buendía Stati",
           "23"
          ],
          [
           "Douglas Luiz Soares de Paulo",
           "22"
          ],
          [
           "Jacob Ramsey",
           "24"
          ],
          [
           "Leon Bailey",
           "12"
          ],
          [
           "Carney Chukwuemeka",
           "9"
          ],
          [
           "Philippe Coutinho Correia",
           "7"
          ],
          [
           "Christian Nørgaard",
           "27"
          ],
          [
           "Sergi Canós",
           "27"
          ],
          [
           "Pelenda Joshua Dasilva",
           "4"
          ],
          [
           "Vitaly Janelt",
           "22"
          ],
          [
           "Saman Ghoddos",
           "15"
          ],
          [
           "Mathias Jensen",
           "21"
          ],
          [
           "Bryan Mbeumo",
           "25"
          ],
          [
           "Frank Onyeka",
           "19"
          ],
          [
           "Shandon Baptiste",
           "19"
          ],
          [
           "Yoane Wissa",
           "20"
          ],
          [
           "Christian Eriksen",
           "2"
          ],
          [
           "Adam Lallana",
           "20"
          ],
          [
           "Pascal Groß",
           "18"
          ],
          [
           "Solomon March",
           "21"
          ],
          [
           "Leandro Trossard",
           "25"
          ],
          [
           "Yves Bissouma",
           "18"
          ],
          [
           "Steven Alzate",
           "8"
          ],
          [
           "Alexis Mac Allister",
           "22"
          ],
          [
           "Jakub Moder",
           "26"
          ],
          [
           "Enock Mwepu",
           "11"
          ],
          [
           "Jack Cork",
           "11"
          ],
          [
           "Dale Stephens",
           "2"
          ],
          [
           "Ashley Westwood",
           "22"
          ],
          [
           "Josh Brownhill",
           "23"
          ],
          [
           "Dwight McNeil",
           "26"
          ],
          [
           "Aaron Lennon",
           "17"
          ],
          [
           "Maxwel Cornet",
           "16"
          ],
          [
           "Jorge Luiz Frello Filho",
           "22"
          ],
          [
           "Ross Barkley",
           "5"
          ],
          [
           "Mateo Kovacic",
           "18"
          ],
          [
           "N'Golo Kanté",
           "17"
          ],
          [
           "Hakim Ziyech",
           "14"
          ],
          [
           "Ruben Loftus-Cheek",
           "14"
          ],
          [
           "Christian Pulisic",
           "14"
          ],
          [
           "Mason Mount",
           "22"
          ],
          [
           "Callum Hudson-Odoi",
           "15"
          ],
          [
           "Kai Havertz",
           "18"
          ],
          [
           "Saúl Ñíguez",
           "7"
          ],
          [
           "Conor Gallagher",
           "24"
          ],
          [
           "James McArthur",
           "15"
          ],
          [
           "Luka Milivojevic",
           "12"
          ],
          [
           "Wilfried Zaha",
           "23"
          ],
          [
           "Jeffrey Schlupp",
           "22"
          ],
          [
           "Jairo Riedewald",
           "3"
          ],
          [
           "Eberechi Eze",
           "6"
          ],
          [
           "Will Hughes",
           "12"
          ],
          [
           "Michael Olise",
           "21"
          ],
          [
           "Anwar El Ghazi",
           "11"
          ],
          [
           "Fabian Delph",
           "6"
          ],
          [
           "Allan Marques Loureiro",
           "22"
          ],
          [
           "André Filipe Tavares Gomes",
           "11"
          ],
          [
           "Abdoulaye Doucouré",
           "18"
          ],
          [
           "Alex Iwobi",
           "16"
          ],
          [
           "Donny van de Beek",
           "13"
          ],
          [
           "Bamidele Alli",
           "15"
          ],
          [
           "Andros Townsend",
           "19"
          ],
          [
           "Demarai Gray",
           "21"
          ],
          [
           "Anthony Gordon",
           "22"
          ],
          [
           "Marc Albrighton",
           "14"
          ],
          [
           "Youri Tielemans",
           "21"
          ],
          [
           "Ayoze Pérez",
           "8"
          ],
          [
           "James Maddison",
           "24"
          ],
          [
           "Hamza Choudhury",
           "5"
          ],
          [
           "Harvey Barnes",
           "20"
          ],
          [
           "Wilfred Ndidi",
           "18"
          ],
          [
           "Boubakary Soumaré",
           "17"
          ],
          [
           "Kiernan Dewsbury-Hall",
           "16"
          ],
          [
           "Ademola Lookman",
           "19"
          ],
          [
           "Mateusz Klich",
           "22"
          ],
          [
           "Stuart Dallas",
           "27"
          ],
          [
           "Kalvin Phillips",
           "12"
          ],
          [
           "Tyler Roberts",
           "23"
          ],
          [
           "Raphael Dias Belloli",
           "25"
          ],
          [
           "Jamie Shackleton",
           "13"
          ],
          [
           "Jack Harrison",
           "24"
          ],
          [
           "Daniel James",
           "25"
          ],
          [
           "Crysencio Summerville",
           "5"
          ],
          [
           "Adam Forshaw",
           "18"
          ],
          [
           "James Milner",
           "18"
          ],
          [
           "Jordan Henderson",
           "24"
          ],
          [
           "Thiago Alcántara do Nascimento",
           "15"
          ],
          [
           "Alex Oxlade-Chamberlain",
           "17"
          ],
          [
           "Sadio Mané",
           "24"
          ],
          [
           "Fabio Henrique Tavares",
           "20"
          ],
          [
           "Mohamed Salah",
           "25"
          ],
          [
           "Naby Keita",
           "14"
          ],
          [
           "Diogo Jota",
           "24"
          ],
          [
           "Curtis Jones",
           "11"
          ],
          [
           "Harvey Elliott",
           "5"
          ],
          [
           "Luis Díaz",
           "4"
          ],
          [
           "Jack Grealish",
           "18"
          ],
          [
           "Ilkay Gündogan",
           "20"
          ],
          [
           "Kevin De Bruyne",
           "21"
          ],
          [
           "Riyad Mahrez",
           "21"
          ],
          [
           "Raheem Sterling",
           "23"
          ],
          [
           "Bernardo Mota Veiga de Carvalho e Silva",
           "27"
          ],
          [
           "Phil Foden",
           "20"
          ],
          [
           "Rodrigo Hernandez",
           "20"
          ],
          [
           "Fernando Luiz Rosa",
           "13"
          ],
          [
           "Cole Palmer",
           "4"
          ],
          [
           "Nemanja Matic",
           "14"
          ],
          [
           "Paul Pogba",
           "15"
          ],
          [
           "Frederico Rodrigues de Paula Santos",
           "22"
          ],
          [
           "Jesse Lingard",
           "13"
          ],
          [
           "Bruno Miguel Borges Fernandes",
           "27"
          ],
          [
           "Marcus Rashford",
           "18"
          ],
          [
           "Scott McTominay",
           "24"
          ],
          [
           "Jadon Sancho",
           "23"
          ],
          [
           "Anthony Elanga",
           "11"
          ],
          [
           "Joseph Willock",
           "22"
          ],
          [
           "Jonjo Shelvey",
           "18"
          ],
          [
           "Ryan Fraser",
           "21"
          ],
          [
           "Jacob Murphy",
           "21"
          ],
          [
           "Miguel Almirón",
           "19"
          ],
          [
           "Sean Longstaff",
           "16"
          ],
          [
           "Billy Gilmour",
           "17"
          ],
          [
           "Lukas Rupp",
           "11"
          ],
          [
           "Kenny McLean",
           "25"
          ],
          [
           "Kieran Dowell",
           "11"
          ],
          [
           "Przemyslaw Placheta",
           "9"
          ],
          [
           "Milot Rashica",
           "21"
          ],
          [
           "Pierre Lees-Melou",
           "22"
          ],
          [
           "Christos Tzolis",
           "11"
          ],
          [
           "Mathias Normann",
           "14"
          ],
          [
           "Theo Walcott",
           "9"
          ],
          [
           "Oriol Romeu Vidal",
           "25"
          ],
          [
           "Nathan Redmond",
           "19"
          ],
          [
           "Stuart Armstrong",
           "14"
          ],
          [
           "James Ward-Prowse",
           "25"
          ],
          [
           "Nathan Tella",
           "10"
          ],
          [
           "Ibrahima Diallo",
           "19"
          ],
          [
           "Moussa Djenepo",
           "10"
          ],
          [
           "Mohamed Elyounoussi",
           "20"
          ],
          [
           "Heung-Min Son",
           "23"
          ],
          [
           "Lucas Rodrigues Moura da Silva",
           "23"
          ],
          [
           "Pierre-Emile Højbjerg",
           "24"
          ],
          [
           "Harry Winks",
           "13"
          ],
          [
           "Steven Bergwijn",
           "15"
          ],
          [
           "Dejan Kulusevski",
           "6"
          ],
          [
           "Rodrigo Bentancur",
           "5"
          ],
          [
           "Moussa Sissoko",
           "25"
          ],
          [
           "Tom Cleverley",
           "22"
          ],
          [
           "Ken Sema",
           "13"
          ],
          [
           "Imrân Louza",
           "13"
          ],
          [
           "Oghenekaro Peter Etebo",
           "6"
          ],
          [
           "Juraj Kucka",
           "21"
          ],
          [
           "Edo Kayembe",
           "7"
          ],
          [
           "Mark Noble",
           "5"
          ],
          [
           "Manuel Lanzini",
           "21"
          ],
          [
           "Saïd Benrahma",
           "24"
          ],
          [
           "Jarrod Bowen",
           "28"
          ],
          [
           "Declan Rice",
           "26"
          ],
          [
           "Tomas Soucek",
           "26"
          ],
          [
           "Pablo Fornals",
           "26"
          ],
          [
           "Nikola Vlasic",
           "15"
          ],
          [
           "João Filipe Iria Santos Moutinho",
           "24"
          ],
          [
           "Leander Dendoncker",
           "22"
          ],
          [
           "Rúben Diogo da Silva Neves",
           "25"
          ],
          [
           "Daniel Castelo Podence",
           "21"
          ],
          [
           "Pedro Lomba Neto",
           "4"
          ],
          [
           "Francisco Machado Mota de Castro Trincão",
           "20"
          ]
         ],
         "hovertemplate": "element_type=Midfielder<br>now_cost=%{x}<br>points_per_game=%{y}<br>player_name=%{customdata[0]}<br>games=%{customdata[1]}<extra></extra>",
         "legendgroup": "Midfielder",
         "marker": {
          "color": "Orange",
          "symbol": "circle"
         },
         "mode": "markers",
         "name": "Midfielder",
         "orientation": "v",
         "showlegend": true,
         "type": "scatter",
         "x": [
          48,
          44,
          50,
          69,
          58,
          65,
          53,
          48,
          55,
          57,
          50,
          57,
          44,
          62,
          44,
          48,
          63,
          45,
          74,
          50,
          55,
          53,
          49,
          53,
          49,
          52,
          49,
          49,
          58,
          55,
          53,
          57,
          53,
          59,
          44,
          48,
          52,
          45,
          59,
          44,
          44,
          53,
          43,
          57,
          49,
          59,
          58,
          52,
          50,
          49,
          73,
          54,
          79,
          75,
          53,
          78,
          49,
          62,
          43,
          53,
          68,
          54,
          47,
          59,
          47,
          54,
          56,
          43,
          43,
          49,
          53,
          58,
          57,
          62,
          52,
          55,
          45,
          52,
          64,
          57,
          67,
          44,
          65,
          48,
          48,
          44,
          60,
          52,
          49,
          47,
          48,
          65,
          44,
          55,
          60,
          45,
          45,
          49,
          50,
          53,
          58,
          117,
          54,
          132,
          50,
          83,
          50,
          53,
          80,
          75,
          71,
          118,
          87,
          107,
          72,
          79,
          55,
          47,
          45,
          43,
          74,
          49,
          67,
          116,
          94,
          54,
          89,
          48,
          58,
          53,
          53,
          47,
          51,
          44,
          43,
          44,
          49,
          51,
          47,
          52,
          48,
          48,
          45,
          58,
          45,
          59,
          58,
          66,
          47,
          45,
          52,
          54,
          108,
          62,
          49,
          44,
          59,
          61,
          49,
          44,
          48,
          52,
          52,
          43,
          55,
          47,
          44,
          57,
          59,
          69,
          51,
          57,
          60,
          56,
          49,
          47,
          53,
          55,
          64,
          56
         ],
         "xaxis": "x",
         "y": [
          1.9,
          1.6,
          2.6,
          2.8,
          4.9,
          4.9,
          4.1,
          1.9,
          3.9,
          1.7,
          1.2,
          3.3,
          1.3,
          3,
          2.7,
          3.4,
          2.4,
          1.4,
          6.4,
          2.6,
          2.7,
          0.5,
          2.6,
          1.7,
          1.8,
          3,
          1.8,
          1.7,
          2.2,
          1,
          2,
          2.6,
          1.7,
          3.2,
          2,
          1.5,
          3,
          2.2,
          3.2,
          2,
          1.5,
          2.5,
          2.3,
          2.3,
          2.5,
          3.9,
          4,
          1.4,
          3.7,
          3,
          4.5,
          2.3,
          3.7,
          4.9,
          3.3,
          3.7,
          1.6,
          5,
          2.9,
          1.2,
          4.2,
          2.8,
          1.3,
          1.2,
          2.4,
          3,
          2,
          1,
          2.3,
          1.3,
          3.7,
          2.4,
          1.8,
          2,
          3.4,
          3.5,
          2.9,
          2.4,
          4.4,
          1.6,
          4.4,
          1.4,
          4,
          2.2,
          1.9,
          2.1,
          2.8,
          2.1,
          2.4,
          2.1,
          1.5,
          4.2,
          1.4,
          2.9,
          3,
          1,
          1.7,
          1.6,
          3.5,
          2.6,
          2.5,
          5.6,
          3.8,
          8.5,
          3,
          5.2,
          2.9,
          2,
          4.5,
          3.3,
          4.5,
          5.7,
          5.3,
          4.9,
          4.7,
          5,
          3.3,
          2.4,
          2.2,
          2,
          3.9,
          3.3,
          1.8,
          4.8,
          2.9,
          2.4,
          3.3,
          2.7,
          2.7,
          2.6,
          3.2,
          2.1,
          1.6,
          2.1,
          2.1,
          1.4,
          2,
          1.5,
          1.7,
          2.4,
          1.8,
          1.2,
          2.4,
          1.3,
          2.4,
          3.1,
          2.1,
          4.3,
          1.7,
          2,
          1.1,
          3,
          6.3,
          3,
          3.3,
          2.1,
          2.7,
          5.7,
          1.6,
          2.6,
          1.8,
          1.3,
          1.5,
          1.2,
          1.8,
          1.9,
          2,
          3.1,
          3.9,
          5.5,
          2.8,
          3.5,
          3.4,
          1.7,
          3,
          2.4,
          2.7,
          2.4,
          1.2,
          1.9
         ],
         "yaxis": "y"
        }
       ],
       "layout": {
        "legend": {
         "title": {
          "text": "element_type"
         },
         "tracegroupgap": 0
        },
        "template": {
         "data": {
          "bar": [
           {
            "error_x": {
             "color": "#2a3f5f"
            },
            "error_y": {
             "color": "#2a3f5f"
            },
            "marker": {
             "line": {
              "color": "#E5ECF6",
              "width": 0.5
             },
             "pattern": {
              "fillmode": "overlay",
              "size": 10,
              "solidity": 0.2
             }
            },
            "type": "bar"
           }
          ],
          "barpolar": [
           {
            "marker": {
             "line": {
              "color": "#E5ECF6",
              "width": 0.5
             },
             "pattern": {
              "fillmode": "overlay",
              "size": 10,
              "solidity": 0.2
             }
            },
            "type": "barpolar"
           }
          ],
          "carpet": [
           {
            "aaxis": {
             "endlinecolor": "#2a3f5f",
             "gridcolor": "white",
             "linecolor": "white",
             "minorgridcolor": "white",
             "startlinecolor": "#2a3f5f"
            },
            "baxis": {
             "endlinecolor": "#2a3f5f",
             "gridcolor": "white",
             "linecolor": "white",
             "minorgridcolor": "white",
             "startlinecolor": "#2a3f5f"
            },
            "type": "carpet"
           }
          ],
          "choropleth": [
           {
            "colorbar": {
             "outlinewidth": 0,
             "ticks": ""
            },
            "type": "choropleth"
           }
          ],
          "contour": [
           {
            "colorbar": {
             "outlinewidth": 0,
             "ticks": ""
            },
            "colorscale": [
             [
              0,
              "#0d0887"
             ],
             [
              0.1111111111111111,
              "#46039f"
             ],
             [
              0.2222222222222222,
              "#7201a8"
             ],
             [
              0.3333333333333333,
              "#9c179e"
             ],
             [
              0.4444444444444444,
              "#bd3786"
             ],
             [
              0.5555555555555556,
              "#d8576b"
             ],
             [
              0.6666666666666666,
              "#ed7953"
             ],
             [
              0.7777777777777778,
              "#fb9f3a"
             ],
             [
              0.8888888888888888,
              "#fdca26"
             ],
             [
              1,
              "#f0f921"
             ]
            ],
            "type": "contour"
           }
          ],
          "contourcarpet": [
           {
            "colorbar": {
             "outlinewidth": 0,
             "ticks": ""
            },
            "type": "contourcarpet"
           }
          ],
          "heatmap": [
           {
            "colorbar": {
             "outlinewidth": 0,
             "ticks": ""
            },
            "colorscale": [
             [
              0,
              "#0d0887"
             ],
             [
              0.1111111111111111,
              "#46039f"
             ],
             [
              0.2222222222222222,
              "#7201a8"
             ],
             [
              0.3333333333333333,
              "#9c179e"
             ],
             [
              0.4444444444444444,
              "#bd3786"
             ],
             [
              0.5555555555555556,
              "#d8576b"
             ],
             [
              0.6666666666666666,
              "#ed7953"
             ],
             [
              0.7777777777777778,
              "#fb9f3a"
             ],
             [
              0.8888888888888888,
              "#fdca26"
             ],
             [
              1,
              "#f0f921"
             ]
            ],
            "type": "heatmap"
           }
          ],
          "heatmapgl": [
           {
            "colorbar": {
             "outlinewidth": 0,
             "ticks": ""
            },
            "colorscale": [
             [
              0,
              "#0d0887"
             ],
             [
              0.1111111111111111,
              "#46039f"
             ],
             [
              0.2222222222222222,
              "#7201a8"
             ],
             [
              0.3333333333333333,
              "#9c179e"
             ],
             [
              0.4444444444444444,
              "#bd3786"
             ],
             [
              0.5555555555555556,
              "#d8576b"
             ],
             [
              0.6666666666666666,
              "#ed7953"
             ],
             [
              0.7777777777777778,
              "#fb9f3a"
             ],
             [
              0.8888888888888888,
              "#fdca26"
             ],
             [
              1,
              "#f0f921"
             ]
            ],
            "type": "heatmapgl"
           }
          ],
          "histogram": [
           {
            "marker": {
             "pattern": {
              "fillmode": "overlay",
              "size": 10,
              "solidity": 0.2
             }
            },
            "type": "histogram"
           }
          ],
          "histogram2d": [
           {
            "colorbar": {
             "outlinewidth": 0,
             "ticks": ""
            },
            "colorscale": [
             [
              0,
              "#0d0887"
             ],
             [
              0.1111111111111111,
              "#46039f"
             ],
             [
              0.2222222222222222,
              "#7201a8"
             ],
             [
              0.3333333333333333,
              "#9c179e"
             ],
             [
              0.4444444444444444,
              "#bd3786"
             ],
             [
              0.5555555555555556,
              "#d8576b"
             ],
             [
              0.6666666666666666,
              "#ed7953"
             ],
             [
              0.7777777777777778,
              "#fb9f3a"
             ],
             [
              0.8888888888888888,
              "#fdca26"
             ],
             [
              1,
              "#f0f921"
             ]
            ],
            "type": "histogram2d"
           }
          ],
          "histogram2dcontour": [
           {
            "colorbar": {
             "outlinewidth": 0,
             "ticks": ""
            },
            "colorscale": [
             [
              0,
              "#0d0887"
             ],
             [
              0.1111111111111111,
              "#46039f"
             ],
             [
              0.2222222222222222,
              "#7201a8"
             ],
             [
              0.3333333333333333,
              "#9c179e"
             ],
             [
              0.4444444444444444,
              "#bd3786"
             ],
             [
              0.5555555555555556,
              "#d8576b"
             ],
             [
              0.6666666666666666,
              "#ed7953"
             ],
             [
              0.7777777777777778,
              "#fb9f3a"
             ],
             [
              0.8888888888888888,
              "#fdca26"
             ],
             [
              1,
              "#f0f921"
             ]
            ],
            "type": "histogram2dcontour"
           }
          ],
          "mesh3d": [
           {
            "colorbar": {
             "outlinewidth": 0,
             "ticks": ""
            },
            "type": "mesh3d"
           }
          ],
          "parcoords": [
           {
            "line": {
             "colorbar": {
              "outlinewidth": 0,
              "ticks": ""
             }
            },
            "type": "parcoords"
           }
          ],
          "pie": [
           {
            "automargin": true,
            "type": "pie"
           }
          ],
          "scatter": [
           {
            "marker": {
             "colorbar": {
              "outlinewidth": 0,
              "ticks": ""
             }
            },
            "type": "scatter"
           }
          ],
          "scatter3d": [
           {
            "line": {
             "colorbar": {
              "outlinewidth": 0,
              "ticks": ""
             }
            },
            "marker": {
             "colorbar": {
              "outlinewidth": 0,
              "ticks": ""
             }
            },
            "type": "scatter3d"
           }
          ],
          "scattercarpet": [
           {
            "marker": {
             "colorbar": {
              "outlinewidth": 0,
              "ticks": ""
             }
            },
            "type": "scattercarpet"
           }
          ],
          "scattergeo": [
           {
            "marker": {
             "colorbar": {
              "outlinewidth": 0,
              "ticks": ""
             }
            },
            "type": "scattergeo"
           }
          ],
          "scattergl": [
           {
            "marker": {
             "colorbar": {
              "outlinewidth": 0,
              "ticks": ""
             }
            },
            "type": "scattergl"
           }
          ],
          "scattermapbox": [
           {
            "marker": {
             "colorbar": {
              "outlinewidth": 0,
              "ticks": ""
             }
            },
            "type": "scattermapbox"
           }
          ],
          "scatterpolar": [
           {
            "marker": {
             "colorbar": {
              "outlinewidth": 0,
              "ticks": ""
             }
            },
            "type": "scatterpolar"
           }
          ],
          "scatterpolargl": [
           {
            "marker": {
             "colorbar": {
              "outlinewidth": 0,
              "ticks": ""
             }
            },
            "type": "scatterpolargl"
           }
          ],
          "scatterternary": [
           {
            "marker": {
             "colorbar": {
              "outlinewidth": 0,
              "ticks": ""
             }
            },
            "type": "scatterternary"
           }
          ],
          "surface": [
           {
            "colorbar": {
             "outlinewidth": 0,
             "ticks": ""
            },
            "colorscale": [
             [
              0,
              "#0d0887"
             ],
             [
              0.1111111111111111,
              "#46039f"
             ],
             [
              0.2222222222222222,
              "#7201a8"
             ],
             [
              0.3333333333333333,
              "#9c179e"
             ],
             [
              0.4444444444444444,
              "#bd3786"
             ],
             [
              0.5555555555555556,
              "#d8576b"
             ],
             [
              0.6666666666666666,
              "#ed7953"
             ],
             [
              0.7777777777777778,
              "#fb9f3a"
             ],
             [
              0.8888888888888888,
              "#fdca26"
             ],
             [
              1,
              "#f0f921"
             ]
            ],
            "type": "surface"
           }
          ],
          "table": [
           {
            "cells": {
             "fill": {
              "color": "#EBF0F8"
             },
             "line": {
              "color": "white"
             }
            },
            "header": {
             "fill": {
              "color": "#C8D4E3"
             },
             "line": {
              "color": "white"
             }
            },
            "type": "table"
           }
          ]
         },
         "layout": {
          "annotationdefaults": {
           "arrowcolor": "#2a3f5f",
           "arrowhead": 0,
           "arrowwidth": 1
          },
          "autotypenumbers": "strict",
          "coloraxis": {
           "colorbar": {
            "outlinewidth": 0,
            "ticks": ""
           }
          },
          "colorscale": {
           "diverging": [
            [
             0,
             "#8e0152"
            ],
            [
             0.1,
             "#c51b7d"
            ],
            [
             0.2,
             "#de77ae"
            ],
            [
             0.3,
             "#f1b6da"
            ],
            [
             0.4,
             "#fde0ef"
            ],
            [
             0.5,
             "#f7f7f7"
            ],
            [
             0.6,
             "#e6f5d0"
            ],
            [
             0.7,
             "#b8e186"
            ],
            [
             0.8,
             "#7fbc41"
            ],
            [
             0.9,
             "#4d9221"
            ],
            [
             1,
             "#276419"
            ]
           ],
           "sequential": [
            [
             0,
             "#0d0887"
            ],
            [
             0.1111111111111111,
             "#46039f"
            ],
            [
             0.2222222222222222,
             "#7201a8"
            ],
            [
             0.3333333333333333,
             "#9c179e"
            ],
            [
             0.4444444444444444,
             "#bd3786"
            ],
            [
             0.5555555555555556,
             "#d8576b"
            ],
            [
             0.6666666666666666,
             "#ed7953"
            ],
            [
             0.7777777777777778,
             "#fb9f3a"
            ],
            [
             0.8888888888888888,
             "#fdca26"
            ],
            [
             1,
             "#f0f921"
            ]
           ],
           "sequentialminus": [
            [
             0,
             "#0d0887"
            ],
            [
             0.1111111111111111,
             "#46039f"
            ],
            [
             0.2222222222222222,
             "#7201a8"
            ],
            [
             0.3333333333333333,
             "#9c179e"
            ],
            [
             0.4444444444444444,
             "#bd3786"
            ],
            [
             0.5555555555555556,
             "#d8576b"
            ],
            [
             0.6666666666666666,
             "#ed7953"
            ],
            [
             0.7777777777777778,
             "#fb9f3a"
            ],
            [
             0.8888888888888888,
             "#fdca26"
            ],
            [
             1,
             "#f0f921"
            ]
           ]
          },
          "colorway": [
           "#636efa",
           "#EF553B",
           "#00cc96",
           "#ab63fa",
           "#FFA15A",
           "#19d3f3",
           "#FF6692",
           "#B6E880",
           "#FF97FF",
           "#FECB52"
          ],
          "font": {
           "color": "#2a3f5f"
          },
          "geo": {
           "bgcolor": "white",
           "lakecolor": "white",
           "landcolor": "#E5ECF6",
           "showlakes": true,
           "showland": true,
           "subunitcolor": "white"
          },
          "hoverlabel": {
           "align": "left"
          },
          "hovermode": "closest",
          "mapbox": {
           "style": "light"
          },
          "paper_bgcolor": "white",
          "plot_bgcolor": "#E5ECF6",
          "polar": {
           "angularaxis": {
            "gridcolor": "white",
            "linecolor": "white",
            "ticks": ""
           },
           "bgcolor": "#E5ECF6",
           "radialaxis": {
            "gridcolor": "white",
            "linecolor": "white",
            "ticks": ""
           }
          },
          "scene": {
           "xaxis": {
            "backgroundcolor": "#E5ECF6",
            "gridcolor": "white",
            "gridwidth": 2,
            "linecolor": "white",
            "showbackground": true,
            "ticks": "",
            "zerolinecolor": "white"
           },
           "yaxis": {
            "backgroundcolor": "#E5ECF6",
            "gridcolor": "white",
            "gridwidth": 2,
            "linecolor": "white",
            "showbackground": true,
            "ticks": "",
            "zerolinecolor": "white"
           },
           "zaxis": {
            "backgroundcolor": "#E5ECF6",
            "gridcolor": "white",
            "gridwidth": 2,
            "linecolor": "white",
            "showbackground": true,
            "ticks": "",
            "zerolinecolor": "white"
           }
          },
          "shapedefaults": {
           "line": {
            "color": "#2a3f5f"
           }
          },
          "ternary": {
           "aaxis": {
            "gridcolor": "white",
            "linecolor": "white",
            "ticks": ""
           },
           "baxis": {
            "gridcolor": "white",
            "linecolor": "white",
            "ticks": ""
           },
           "bgcolor": "#E5ECF6",
           "caxis": {
            "gridcolor": "white",
            "linecolor": "white",
            "ticks": ""
           }
          },
          "title": {
           "x": 0.05
          },
          "xaxis": {
           "automargin": true,
           "gridcolor": "white",
           "linecolor": "white",
           "ticks": "",
           "title": {
            "standoff": 15
           },
           "zerolinecolor": "white",
           "zerolinewidth": 2
          },
          "yaxis": {
           "automargin": true,
           "gridcolor": "white",
           "linecolor": "white",
           "ticks": "",
           "title": {
            "standoff": 15
           },
           "zerolinecolor": "white",
           "zerolinewidth": 2
          }
         }
        },
        "title": {
         "text": "Points per Game vs Current Price"
        },
        "xaxis": {
         "anchor": "y",
         "domain": [
          0,
          1
         ],
         "title": {
          "text": "now_cost"
         }
        },
        "yaxis": {
         "anchor": "x",
         "domain": [
          0,
          1
         ],
         "title": {
          "text": "points_per_game"
         }
        }
       }
      }
     },
     "metadata": {},
     "output_type": "display_data"
    }
   ],
   "source": [
    "df['points_per_game'] = pd.to_numeric(df['points_per_game'])\n",
    "df['xA'] = pd.to_numeric(df['xA'])\n",
    "df['xG'] = pd.to_numeric(df['xG'])\n",
    "df['shots'] = pd.to_numeric(df['shots'])\n",
    "df['key_passes'] = pd.to_numeric(df['key_passes'])\n",
    "df['selected_by_percent'] = pd.to_numeric(df['selected_by_percent'])\n",
    "df['form'] = pd.to_numeric(df['form'])\n",
    "\n",
    "px.scatter(df, \n",
    "           x='now_cost', y='points_per_game',\n",
    "           color='element_type',\n",
    "           color_discrete_map=position_colors,\n",
    "           hover_data= ['player_name', 'games'],\n",
    "           title='Points per Game vs Current Price'\n",
    "              )\n",
    "\n",
    "\n",
    "#sns.scatterplot(x = df['now_cost'], y = df['points_per_game'], hue=df['element_type'], palette=position_colors)"
   ]
  },
  {
   "cell_type": "code",
   "execution_count": 95,
   "metadata": {},
   "outputs": [
    {
     "data": {
      "application/vnd.plotly.v1+json": {
       "config": {
        "plotlyServerURL": "https://plot.ly"
       },
       "data": [
        {
         "customdata": [
          [
           "Bernd Leno"
          ],
          [
           "Aaron Ramsdale"
          ],
          [
           "Emiliano Martínez"
          ],
          [
           "David Raya Martin"
          ],
          [
           "Álvaro Fernández"
          ],
          [
           "Jonas Lössl"
          ],
          [
           "Jason Steele"
          ],
          [
           "Robert Sánchez"
          ],
          [
           "Nick Pope"
          ],
          [
           "Wayne Hennessey"
          ],
          [
           "Kepa Arrizabalaga"
          ],
          [
           "Edouard Mendy"
          ],
          [
           "Vicente Guaita"
          ],
          [
           "Jack Butland"
          ],
          [
           "Jordan Pickford"
          ],
          [
           "Asmir Begović"
          ],
          [
           "Kasper Schmeichel"
          ],
          [
           "Illan Meslier"
          ],
          [
           "Alisson Ramses Becker"
          ],
          [
           "Caoimhin Kelleher"
          ],
          [
           "Ederson Santana de Moraes"
          ],
          [
           "Zack Steffen"
          ],
          [
           "David de Gea"
          ],
          [
           "Karl Darlow"
          ],
          [
           "Martin Dubravka"
          ],
          [
           "Tim Krul"
          ],
          [
           "Angus Gunn"
          ],
          [
           "Fraser Forster"
          ],
          [
           "Willy Caballero"
          ],
          [
           "Hugo Lloris"
          ],
          [
           "Ben Foster"
          ],
          [
           "Daniel Bachmann"
          ],
          [
           "Lukasz Fabianski"
          ],
          [
           "Alphonse Areola"
          ],
          [
           "José Malheiro de Sá"
          ]
         ],
         "hovertemplate": "element_type=Goalkeeper<br>xG=%{x}<br>goals_scored=%{y}<br>player_name=%{customdata[0]}<extra></extra>",
         "legendgroup": "Goalkeeper",
         "marker": {
          "color": "red",
          "symbol": "circle"
         },
         "mode": "markers",
         "name": "Goalkeeper",
         "orientation": "v",
         "showlegend": true,
         "type": "scatter",
         "x": [
          0,
          0,
          0,
          0,
          0,
          0,
          0,
          0,
          0,
          0,
          0,
          0,
          0,
          0,
          0,
          0,
          0,
          0,
          0,
          0,
          0,
          0,
          0,
          0,
          0,
          0,
          0,
          0,
          0,
          0,
          0,
          0,
          0,
          0,
          0
         ],
         "xaxis": "x",
         "y": [
          0,
          0,
          0,
          0,
          0,
          0,
          0,
          0,
          0,
          0,
          0,
          0,
          0,
          0,
          0,
          0,
          0,
          0,
          0,
          0,
          0,
          0,
          0,
          0,
          0,
          0,
          0,
          0,
          0,
          0,
          0,
          0,
          0,
          0,
          0
         ],
         "yaxis": "y"
        },
        {
         "customdata": [
          [
           "Cédric Soares"
          ],
          [
           "Rob Holding"
          ],
          [
           "Kieran Tierney"
          ],
          [
           "Gabriel Magalhães"
          ],
          [
           "Ben White"
          ],
          [
           "Nuno Varela Tavares"
          ],
          [
           "Takehiro Tomiyasu"
          ],
          [
           "Calum Chambers"
          ],
          [
           "Kortney Hause"
          ],
          [
           "Tyrone Mings"
          ],
          [
           "Matthew Cash"
          ],
          [
           "Ezri Konsa Ngoyo"
          ],
          [
           "Ashley Young"
          ],
          [
           "Lucas Digne"
          ],
          [
           "Pontus Jansson"
          ],
          [
           "Rico Henry"
          ],
          [
           "Mads Roerslev Rasmussen"
          ],
          [
           "Mads Bech Sørensen"
          ],
          [
           "Ethan Pinnock"
          ],
          [
           "Kristoffer Ajer"
          ],
          [
           "Mathias Jorgensen"
          ],
          [
           "Shane Duffy"
          ],
          [
           "Lewis Dunk"
          ],
          [
           "Adam Webster"
          ],
          [
           "Joël Veltman"
          ],
          [
           "Tariq Lamptey"
          ],
          [
           "Marc Cucurella"
          ],
          [
           "James Tarkowski"
          ],
          [
           "Erik Pieters"
          ],
          [
           "Ben Mee"
          ],
          [
           "Matthew Lowton"
          ],
          [
           "Charlie Taylor"
          ],
          [
           "Nathan Collins"
          ],
          [
           "Connor Roberts"
          ],
          [
           "César Azpilicueta"
          ],
          [
           "Thiago Emiliano da Silva"
          ],
          [
           "Marcos Alonso"
          ],
          [
           "Antonio Rüdiger"
          ],
          [
           "Andreas Christensen"
          ],
          [
           "Benjamin Chilwell"
          ],
          [
           "Reece James"
          ],
          [
           "Malang Sarr"
          ],
          [
           "Trevoh Chalobah"
          ],
          [
           "James Tomkins"
          ],
          [
           "Cheikhou Kouyaté"
          ],
          [
           "Tyrick Mitchell"
          ],
          [
           "Joel Ward"
          ],
          [
           "Marc Guéhi"
          ],
          [
           "Joachim Andersen"
          ],
          [
           "Nathaniel Clyne"
          ],
          [
           "Seamus Coleman"
          ],
          [
           "Michael Keane"
          ],
          [
           "Yerry Mina"
          ],
          [
           "Mason Holgate"
          ],
          [
           "Ben Godfrey"
          ],
          [
           "Jonjoe Kenny"
          ],
          [
           "Jarrad Branthwaite"
          ],
          [
           "Vitalii Mykolenko"
          ],
          [
           "Jonny Evans"
          ],
          [
           "Ricardo Domingos Barbosa Pereira"
          ],
          [
           "Daniel Amartey"
          ],
          [
           "Timothy Castagne"
          ],
          [
           "Çaglar Söyüncü"
          ],
          [
           "James Justin"
          ],
          [
           "Luke Thomas"
          ],
          [
           "Jannik Vestergaard"
          ],
          [
           "Liam Cooper"
          ],
          [
           "Luke Ayling"
          ],
          [
           "Diego Llorente"
          ],
          [
           "Robin Koch"
          ],
          [
           "Pascal Struijk"
          ],
          [
           "Héctor Junior Firpo Adames"
          ],
          [
           "Charlie Cresswell"
          ],
          [
           "Joel Matip"
          ],
          [
           "Virgil van Dijk"
          ],
          [
           "Andrew Robertson"
          ],
          [
           "Trent Alexander-Arnold"
          ],
          [
           "Joseph Gomez"
          ],
          [
           "Ibrahima Konaté"
          ],
          [
           "Konstantinos Tsimikas"
          ],
          [
           "Kyle Walker"
          ],
          [
           "John Stones"
          ],
          [
           "João Pedro Cavaco Cancelo"
          ],
          [
           "Nathan Aké"
          ],
          [
           "Aymeric Laporte"
          ],
          [
           "Rúben Santos Gato Alves Dias"
          ],
          [
           "Oleksandr Zinchenko"
          ],
          [
           "Harry Maguire"
          ],
          [
           "Luke Shaw"
          ],
          [
           "Alex Nicolao Telles"
          ],
          [
           "Victor Lindelöf"
          ],
          [
           "Eric Bailly"
          ],
          [
           "Aaron Wan-Bissaka"
          ],
          [
           "José Diogo Dalot Teixeira"
          ],
          [
           "Raphaël Varane"
          ],
          [
           "Phil Jones"
          ],
          [
           "Matt Targett"
          ],
          [
           "Dan Burn"
          ],
          [
           "Matt Ritchie"
          ],
          [
           "Jamaal Lascelles"
          ],
          [
           "Paul Dummett"
          ],
          [
           "Javier Manquillo"
          ],
          [
           "Emil Krafth"
          ],
          [
           "Fabian Schär"
          ],
          [
           "Federico Fernández"
          ],
          [
           "Brandon Williams"
          ],
          [
           "Grant Hanley"
          ],
          [
           "Sam Byram"
          ],
          [
           "Max Aarons"
          ],
          [
           "Jacob Sørensen"
          ],
          [
           "Ben Gibson"
          ],
          [
           "Dimitris Giannoulis"
          ],
          [
           "Ozan Kabak"
          ],
          [
           "Jack Stephens"
          ],
          [
           "Kyle Walker-Peters"
          ],
          [
           "Jan Bednarek"
          ],
          [
           "Mohammed Salisu"
          ],
          [
           "Romain Perraud"
          ],
          [
           "Tino Livramento"
          ],
          [
           "Yan Valery"
          ],
          [
           "Lyanco Evangelista Silveira Neves Vojnovic"
          ],
          [
           "Matt Doherty"
          ],
          [
           "Eric Dier"
          ],
          [
           "Ben Davies"
          ],
          [
           "Davinson Sánchez"
          ],
          [
           "Ryan Sessegnon"
          ],
          [
           "Sergio Reguilón"
          ],
          [
           "Cristian Romero"
          ],
          [
           "Emerson Aparecido Leite de Souza Junior"
          ],
          [
           "Emerson Aparecido Leite de Souza Junior"
          ],
          [
           "Craig Cathcart"
          ],
          [
           "Francisco Femenía Far"
          ],
          [
           "Christian Kabasele"
          ],
          [
           "William Troost-Ekong"
          ],
          [
           "Adam Masina"
          ],
          [
           "Francisco Sierralta"
          ],
          [
           "Jeremy Ngakia"
          ],
          [
           "Nicolas Nkoulou"
          ],
          [
           "Hassane Kamara"
          ],
          [
           "Samir Caetano de Souza Santos"
          ],
          [
           "Kurt Zouma"
          ],
          [
           "Aaron Cresswell"
          ],
          [
           "Craig Dawson"
          ],
          [
           "Ryan Fredericks"
          ],
          [
           "Arthur Masuaku"
          ],
          [
           "Issa Diop"
          ],
          [
           "Ben Johnson"
          ],
          [
           "Conor Coady"
          ],
          [
           "Romain Saïss"
          ],
          [
           "Fernando Marçal"
          ],
          [
           "Jonathan Castro Otto"
          ],
          [
           "Nélson Cabral Semedo"
          ],
          [
           "Max Kilman"
          ],
          [
           "Ki-Jana Hoever"
          ],
          [
           "Rayan Ait Nouri"
          ],
          [
           "Toti António Gomes"
          ]
         ],
         "hovertemplate": "element_type=Defender<br>xG=%{x}<br>goals_scored=%{y}<br>player_name=%{customdata[0]}<extra></extra>",
         "legendgroup": "Defender",
         "marker": {
          "color": "blue",
          "symbol": "circle"
         },
         "mode": "markers",
         "name": "Defender",
         "orientation": "v",
         "showlegend": true,
         "type": "scatter",
         "x": [
          0.0711097978055477,
          0.4889362007379532,
          0.6144812004640698,
          2.404969258233905,
          0.5055014565587044,
          0.5362575305625796,
          0.2693182500079274,
          0.0617923513054847,
          0.0640325816348195,
          1.0838445983827114,
          1.2779249204322696,
          1.1516407397575676,
          0.3852716945111751,
          0.680194241926074,
          2.239774087443948,
          1.500701205804944,
          0.2831445559859276,
          0.058680523186922,
          1.7465086551383138,
          0.2215736620128154,
          0.1421728879213333,
          0.8278952091932297,
          1.2441690703853965,
          1.3734299913048744,
          0.1447789128869772,
          0.8104112446308136,
          0.3941319193691015,
          2.3731514755636454,
          0.1498641669750213,
          2.5610949099063878,
          0.7138775950297713,
          0.108427545055747,
          0.1647187303751707,
          0.0593020999804139,
          0.7845652215182781,
          0.8720123879611492,
          1.6831710208207369,
          1.748666631989181,
          0.5500213000923395,
          1.298326052725315,
          2.0194583516567945,
          0.0206521544605493,
          0.6108458805829287,
          0.6890933271497488,
          0.1211588140577077,
          0.1674872580915689,
          0.2970032133162021,
          1.872275025583804,
          0.2915987577289343,
          0.0147142522037029,
          1.061729014851153,
          1.0053598461672664,
          0.20001863501966,
          0.9684227705001832,
          1.197433720342815,
          0.1327102091163396,
          0.5833113379776478,
          0,
          1.2847998961806295,
          0.5450267121195793,
          0.0098498305305838,
          0.0542993023991584,
          0.9512924440205096,
          0,
          0.1825287789106369,
          0.0387555845081806,
          0.1779925245791673,
          0.6557026989758015,
          1.2115023471415045,
          0.6267822459340096,
          1.0742318937554955,
          0.8288049101829529,
          0,
          1.5235314117744565,
          1.735625134781003,
          1.2669859398156404,
          1.7677459958940744,
          0,
          0.0711852312088012,
          0.6347904950380325,
          0.9035413153469564,
          0.956200510263443,
          2.988678771071136,
          0.7131218779832125,
          2.7738655852153897,
          1.7493817331269383,
          0.1570894699543714,
          1.986979840323329,
          0.1659516524523496,
          0.403148609213531,
          0.0896087167784571,
          0,
          0.1864608060568571,
          0.2965388875454664,
          0.6407903358340263,
          0,
          0.9481155686080456,
          1.2741363598033786,
          0.3662856444716453,
          0.9930624524131416,
          0,
          0.3779595121741295,
          0.1944460272789001,
          0.4890796281397342,
          0.3371330089867115,
          0.0585550479590892,
          0.689437473192811,
          0.0995188951492309,
          0.7553038271144032,
          0.1814582012593746,
          1.3600877039134502,
          0.0357109904289245,
          0.5807486493140459,
          0,
          0.2076803185045719,
          2.6034789197146893,
          0.9557187259197236,
          0.4395200423896312,
          0.9927700608968736,
          0.025073179975152,
          0.1654339917004108,
          2.2516390085220337,
          0.9650365561246872,
          1.7157062822952869,
          1.98822458460927,
          0.1728937104344368,
          2.463965270668268,
          0.1812189817428589,
          0,
          0.4199276696890592,
          0.1187146268784999,
          0.0303274914622306,
          0.416583389043808,
          0.1041933577507734,
          0.1415592636913061,
          0.0323923006653785,
          0.0784772187471389,
          0,
          0.0913975611329078,
          0.1750798281282186,
          0.640797171741724,
          0.6420307010412216,
          2.1719191633164883,
          0,
          0.0428707115352153,
          0.0286491680890321,
          0.1015413915738463,
          1.741349346935749,
          2.74473471660167,
          0.5747353369370103,
          0.0427376590669155,
          1.3051469326019287,
          1.3776240274310112,
          0.0338298976421356,
          0.3620986640453338,
          0
         ],
         "xaxis": "x",
         "y": [
          0,
          0,
          1,
          3,
          0,
          0,
          0,
          0,
          1,
          1,
          2,
          2,
          0,
          0,
          1,
          2,
          1,
          0,
          1,
          0,
          1,
          1,
          1,
          2,
          0,
          0,
          0,
          1,
          0,
          3,
          1,
          0,
          0,
          0,
          0,
          3,
          1,
          2,
          0,
          3,
          5,
          0,
          2,
          1,
          0,
          0,
          0,
          2,
          0,
          0,
          1,
          2,
          0,
          0,
          0,
          0,
          1,
          0,
          1,
          1,
          0,
          0,
          1,
          0,
          0,
          0,
          0,
          1,
          2,
          0,
          0,
          0,
          0,
          1,
          3,
          1,
          2,
          0,
          0,
          0,
          0,
          1,
          1,
          1,
          3,
          2,
          0,
          1,
          0,
          0,
          0,
          0,
          0,
          0,
          0,
          0,
          1,
          1,
          0,
          1,
          0,
          1,
          0,
          1,
          0,
          0,
          1,
          0,
          0,
          0,
          0,
          0,
          0,
          0,
          1,
          3,
          0,
          0,
          1,
          0,
          0,
          1,
          0,
          0,
          2,
          0,
          2,
          0,
          0,
          0,
          0,
          0,
          0,
          0,
          0,
          0,
          0,
          0,
          0,
          0,
          1,
          1,
          2,
          0,
          1,
          0,
          1,
          2,
          2,
          0,
          0,
          0,
          1,
          0,
          0,
          0
         ],
         "yaxis": "y"
        },
        {
         "customdata": [
          [
           "Alexandre Lacazette"
          ],
          [
           "Edward Nketiah"
          ],
          [
           "Ollie Watkins"
          ],
          [
           "Danny Ings"
          ],
          [
           "Ivan Toney"
          ],
          [
           "Neal Maupay"
          ],
          [
           "Danny Welbeck"
          ],
          [
           "Jay Rodriguez"
          ],
          [
           "Ashley Barnes"
          ],
          [
           "Wout Weghorst"
          ],
          [
           "Timo Werner"
          ],
          [
           "Romelu Lukaku"
          ],
          [
           "Christian Benteke"
          ],
          [
           "Jordan Ayew"
          ],
          [
           "Jean-Philippe Mateta"
          ],
          [
           "Odsonne Edouard"
          ],
          [
           "Dominic Calvert-Lewin"
          ],
          [
           "Richarlison de Andrade"
          ],
          [
           "Salomón Rondón"
          ],
          [
           "Jamie Vardy"
          ],
          [
           "Kelechi Iheanacho"
          ],
          [
           "Patson Daka"
          ],
          [
           "Rodrigo Moreno"
          ],
          [
           "Patrick Bamford"
          ],
          [
           "Joe Gelhardt"
          ],
          [
           "Roberto Firmino"
          ],
          [
           "Gabriel Fernando de Jesus"
          ],
          [
           "Edinson Cavani"
          ],
          [
           "Cristiano Ronaldo dos Santos Aveiro"
          ],
          [
           "Chris Wood"
          ],
          [
           "Callum Wilson"
          ],
          [
           "Allan Saint-Maximin"
          ],
          [
           "Joelinton Cássio Apolinário de Lira"
          ],
          [
           "Teemu Pukki"
          ],
          [
           "Adam Idah"
          ],
          [
           "Joshua Sargent"
          ],
          [
           "Che Adams"
          ],
          [
           "Armando Broja"
          ],
          [
           "Shane Long"
          ],
          [
           "Adam Armstrong"
          ],
          [
           "Harry Kane"
          ],
          [
           "João Pedro Junqueira de Jesus"
          ],
          [
           "Emmanuel Dennis"
          ],
          [
           "Joshua King"
          ],
          [
           "Juan Camilo Hernández Suárez"
          ],
          [
           "Michail Antonio"
          ],
          [
           "Raúl Jiménez"
          ],
          [
           "Fabio Silva"
          ],
          [
           "Hee-Chan Hwang"
          ]
         ],
         "hovertemplate": "element_type=Forward<br>xG=%{x}<br>goals_scored=%{y}<br>player_name=%{customdata[0]}<extra></extra>",
         "legendgroup": "Forward",
         "marker": {
          "color": "Green",
          "symbol": "circle"
         },
         "mode": "markers",
         "name": "Forward",
         "orientation": "v",
         "showlegend": true,
         "type": "scatter",
         "x": [
          6.137330990284681,
          0.5858801975846291,
          7.5659837033599615,
          4.028961684554815,
          7.095608178526163,
          6.538990665227175,
          2.573061231523752,
          3.0976101150736213,
          0.6575422324240208,
          1.9977553356438875,
          2.708874423056841,
          4.910521801561117,
          4.719367414712906,
          2.931545168161392,
          2.903859604150057,
          6.154559943825007,
          4.99976459890604,
          3.374447272159159,
          2.412409179843962,
          6.538666434586048,
          2.062020353972912,
          4.030671484768391,
          1.1942495610564947,
          2.418504185974598,
          1.9101852774620056,
          3.9826595038175583,
          5.141317911446095,
          3.3277666829526424,
          13.320891559123991,
          6.450649719685316,
          5.126593586988747,
          4.782842196524143,
          2.5184979271143675,
          6.21592291072011,
          1.9293008372187612,
          2.0443058479577303,
          6.157029263675213,
          4.982552589848638,
          0.6535555273294449,
          4.066641267389059,
          12.265675738453863,
          2.102631349116564,
          6.355765493586659,
          7.751776278018951,
          1.7616488225758076,
          10.042947940528393,
          5.68696487788111,
          0.7735247854143381,
          3.135462796315551
         ],
         "xaxis": "x",
         "y": [
          3,
          0,
          7,
          5,
          9,
          8,
          3,
          1,
          0,
          1,
          1,
          5,
          4,
          1,
          3,
          6,
          3,
          4,
          1,
          10,
          2,
          4,
          3,
          2,
          1,
          4,
          2,
          2,
          9,
          3,
          6,
          5,
          2,
          7,
          1,
          2,
          7,
          6,
          1,
          2,
          10,
          2,
          9,
          5,
          3,
          8,
          5,
          0,
          5
         ],
         "yaxis": "y"
        },
        {
         "customdata": [
          [
           "Granit Xhaka"
          ],
          [
           "Mohamed Naser El Sayed Elneny"
          ],
          [
           "Thomas Partey"
          ],
          [
           "Nicolas Pépé"
          ],
          [
           "Emile Smith Rowe"
          ],
          [
           "Bukayo Saka"
          ],
          [
           "Gabriel Teodoro Martinelli Silva"
          ],
          [
           "Albert Sambi Lokonga"
          ],
          [
           "Martin Ødegaard"
          ],
          [
           "Bertrand Traoré"
          ],
          [
           "Morgan Sanson"
          ],
          [
           "John McGinn"
          ],
          [
           "Marvelous Nakamba"
          ],
          [
           "Emiliano Buendía Stati"
          ],
          [
           "Douglas Luiz Soares de Paulo"
          ],
          [
           "Jacob Ramsey"
          ],
          [
           "Leon Bailey"
          ],
          [
           "Carney Chukwuemeka"
          ],
          [
           "Philippe Coutinho Correia"
          ],
          [
           "Christian Nørgaard"
          ],
          [
           "Sergi Canós"
          ],
          [
           "Pelenda Joshua Dasilva"
          ],
          [
           "Vitaly Janelt"
          ],
          [
           "Saman Ghoddos"
          ],
          [
           "Mathias Jensen"
          ],
          [
           "Bryan Mbeumo"
          ],
          [
           "Frank Onyeka"
          ],
          [
           "Shandon Baptiste"
          ],
          [
           "Yoane Wissa"
          ],
          [
           "Christian Eriksen"
          ],
          [
           "Adam Lallana"
          ],
          [
           "Pascal Groß"
          ],
          [
           "Solomon March"
          ],
          [
           "Leandro Trossard"
          ],
          [
           "Yves Bissouma"
          ],
          [
           "Steven Alzate"
          ],
          [
           "Alexis Mac Allister"
          ],
          [
           "Jakub Moder"
          ],
          [
           "Enock Mwepu"
          ],
          [
           "Jack Cork"
          ],
          [
           "Dale Stephens"
          ],
          [
           "Ashley Westwood"
          ],
          [
           "Josh Brownhill"
          ],
          [
           "Dwight McNeil"
          ],
          [
           "Aaron Lennon"
          ],
          [
           "Maxwel Cornet"
          ],
          [
           "Jorge Luiz Frello Filho"
          ],
          [
           "Ross Barkley"
          ],
          [
           "Mateo Kovacic"
          ],
          [
           "N'Golo Kanté"
          ],
          [
           "Hakim Ziyech"
          ],
          [
           "Ruben Loftus-Cheek"
          ],
          [
           "Christian Pulisic"
          ],
          [
           "Mason Mount"
          ],
          [
           "Callum Hudson-Odoi"
          ],
          [
           "Kai Havertz"
          ],
          [
           "Saúl Ñíguez"
          ],
          [
           "Conor Gallagher"
          ],
          [
           "James McArthur"
          ],
          [
           "Luka Milivojevic"
          ],
          [
           "Wilfried Zaha"
          ],
          [
           "Jeffrey Schlupp"
          ],
          [
           "Jairo Riedewald"
          ],
          [
           "Eberechi Eze"
          ],
          [
           "Will Hughes"
          ],
          [
           "Michael Olise"
          ],
          [
           "Anwar El Ghazi"
          ],
          [
           "Fabian Delph"
          ],
          [
           "Allan Marques Loureiro"
          ],
          [
           "André Filipe Tavares Gomes"
          ],
          [
           "Abdoulaye Doucouré"
          ],
          [
           "Alex Iwobi"
          ],
          [
           "Donny van de Beek"
          ],
          [
           "Bamidele Alli"
          ],
          [
           "Andros Townsend"
          ],
          [
           "Demarai Gray"
          ],
          [
           "Anthony Gordon"
          ],
          [
           "Marc Albrighton"
          ],
          [
           "Youri Tielemans"
          ],
          [
           "Ayoze Pérez"
          ],
          [
           "James Maddison"
          ],
          [
           "Hamza Choudhury"
          ],
          [
           "Harvey Barnes"
          ],
          [
           "Wilfred Ndidi"
          ],
          [
           "Boubakary Soumaré"
          ],
          [
           "Kiernan Dewsbury-Hall"
          ],
          [
           "Ademola Lookman"
          ],
          [
           "Mateusz Klich"
          ],
          [
           "Stuart Dallas"
          ],
          [
           "Kalvin Phillips"
          ],
          [
           "Tyler Roberts"
          ],
          [
           "Raphael Dias Belloli"
          ],
          [
           "Jamie Shackleton"
          ],
          [
           "Jack Harrison"
          ],
          [
           "Daniel James"
          ],
          [
           "Crysencio Summerville"
          ],
          [
           "Adam Forshaw"
          ],
          [
           "James Milner"
          ],
          [
           "Jordan Henderson"
          ],
          [
           "Thiago Alcántara do Nascimento"
          ],
          [
           "Alex Oxlade-Chamberlain"
          ],
          [
           "Sadio Mané"
          ],
          [
           "Fabio Henrique Tavares"
          ],
          [
           "Mohamed Salah"
          ],
          [
           "Naby Keita"
          ],
          [
           "Diogo Jota"
          ],
          [
           "Curtis Jones"
          ],
          [
           "Harvey Elliott"
          ],
          [
           "Luis Díaz"
          ],
          [
           "Jack Grealish"
          ],
          [
           "Ilkay Gündogan"
          ],
          [
           "Kevin De Bruyne"
          ],
          [
           "Riyad Mahrez"
          ],
          [
           "Raheem Sterling"
          ],
          [
           "Bernardo Mota Veiga de Carvalho e Silva"
          ],
          [
           "Phil Foden"
          ],
          [
           "Rodrigo Hernandez"
          ],
          [
           "Fernando Luiz Rosa"
          ],
          [
           "Cole Palmer"
          ],
          [
           "Nemanja Matic"
          ],
          [
           "Paul Pogba"
          ],
          [
           "Frederico Rodrigues de Paula Santos"
          ],
          [
           "Jesse Lingard"
          ],
          [
           "Bruno Miguel Borges Fernandes"
          ],
          [
           "Marcus Rashford"
          ],
          [
           "Scott McTominay"
          ],
          [
           "Jadon Sancho"
          ],
          [
           "Anthony Elanga"
          ],
          [
           "Joseph Willock"
          ],
          [
           "Jonjo Shelvey"
          ],
          [
           "Ryan Fraser"
          ],
          [
           "Jacob Murphy"
          ],
          [
           "Miguel Almirón"
          ],
          [
           "Sean Longstaff"
          ],
          [
           "Billy Gilmour"
          ],
          [
           "Lukas Rupp"
          ],
          [
           "Kenny McLean"
          ],
          [
           "Kieran Dowell"
          ],
          [
           "Przemyslaw Placheta"
          ],
          [
           "Milot Rashica"
          ],
          [
           "Pierre Lees-Melou"
          ],
          [
           "Christos Tzolis"
          ],
          [
           "Mathias Normann"
          ],
          [
           "Theo Walcott"
          ],
          [
           "Oriol Romeu Vidal"
          ],
          [
           "Nathan Redmond"
          ],
          [
           "Stuart Armstrong"
          ],
          [
           "James Ward-Prowse"
          ],
          [
           "Nathan Tella"
          ],
          [
           "Ibrahima Diallo"
          ],
          [
           "Moussa Djenepo"
          ],
          [
           "Mohamed Elyounoussi"
          ],
          [
           "Heung-Min Son"
          ],
          [
           "Lucas Rodrigues Moura da Silva"
          ],
          [
           "Pierre-Emile Højbjerg"
          ],
          [
           "Harry Winks"
          ],
          [
           "Steven Bergwijn"
          ],
          [
           "Dejan Kulusevski"
          ],
          [
           "Rodrigo Bentancur"
          ],
          [
           "Moussa Sissoko"
          ],
          [
           "Tom Cleverley"
          ],
          [
           "Ken Sema"
          ],
          [
           "Imrân Louza"
          ],
          [
           "Oghenekaro Peter Etebo"
          ],
          [
           "Juraj Kucka"
          ],
          [
           "Edo Kayembe"
          ],
          [
           "Mark Noble"
          ],
          [
           "Manuel Lanzini"
          ],
          [
           "Saïd Benrahma"
          ],
          [
           "Jarrod Bowen"
          ],
          [
           "Declan Rice"
          ],
          [
           "Tomas Soucek"
          ],
          [
           "Pablo Fornals"
          ],
          [
           "Nikola Vlasic"
          ],
          [
           "João Filipe Iria Santos Moutinho"
          ],
          [
           "Leander Dendoncker"
          ],
          [
           "Rúben Diogo da Silva Neves"
          ],
          [
           "Daniel Castelo Podence"
          ],
          [
           "Pedro Lomba Neto"
          ],
          [
           "Francisco Machado Mota de Castro Trincão"
          ]
         ],
         "hovertemplate": "element_type=Midfielder<br>xG=%{x}<br>goals_scored=%{y}<br>player_name=%{customdata[0]}<extra></extra>",
         "legendgroup": "Midfielder",
         "marker": {
          "color": "Orange",
          "symbol": "circle"
         },
         "mode": "markers",
         "name": "Midfielder",
         "orientation": "v",
         "showlegend": true,
         "type": "scatter",
         "x": [
          0.5690411180257797,
          0.0155661171302199,
          2.1546339578926563,
          2.68067268282175,
          3.774641564115882,
          5.97535952553153,
          5.05171075835824,
          0.4106621332466602,
          2.274010881781578,
          0.1529682436957955,
          0.0118105579167604,
          1.4084307383745909,
          0,
          1.7908070404082537,
          0.9846349693834782,
          2.913938283920288,
          1.1401313692331314,
          0.5134838670492172,
          2.215429976582527,
          4.182875318452716,
          3.29684741795063,
          0,
          2.123485867865384,
          0.6922268867492676,
          1.238945774268359,
          6.539794206619263,
          0.7653763052076101,
          0.4449052046984434,
          1.825086113996804,
          0.0492128320038318,
          0.8801136892288923,
          2.000053256750107,
          0.9670705571770668,
          4.771370051428676,
          0.9502553041093053,
          0.0812435895204544,
          3.25041866209358,
          3.1035469863563776,
          1.5956154577434063,
          0.1095925439149141,
          0.0446143895387649,
          0.2788367597386241,
          0.7659910973161459,
          1.445264152251184,
          0.6613812446594238,
          2.203830063343048,
          5.137464450672269,
          0.7709845006465912,
          1.3848788533359766,
          1.2208307106047869,
          2.5504362620413303,
          0.7562576532363892,
          4.515827365219593,
          5.354633688926697,
          2.775725405663252,
          5.230845116078854,
          0.0630487278103828,
          7.112181412056088,
          0.2333385087549686,
          0.2893703170120716,
          6.303926387801766,
          2.253535246476531,
          0,
          0.0419322848320007,
          0.0815527681261301,
          1.081308640539646,
          0.9790221825242044,
          0.0133977904915809,
          0.2115664118900895,
          0.9573268974199892,
          1.7508166581392288,
          1.8009522017091513,
          0.8427473604679108,
          1.532490869052708,
          2.188496366143226,
          3.2441350910812616,
          2.203430777415633,
          0.41476721316576,
          3.963926490396261,
          0.9622879773378372,
          4.512528534978628,
          0.0202268231660127,
          3.8641328997910014,
          0.5835883095860481,
          0.3298371601849794,
          0.8075508624315262,
          3.738644020631909,
          2.3948664274066687,
          1.7024079719558358,
          0.6855863500386477,
          2.4348467718809843,
          7.383694421499968,
          0.1673048697412014,
          3.3870617765933275,
          6.029694464057684,
          0.3223912231624126,
          0.3802642486989498,
          0.2743346411734819,
          1.1205918174237013,
          1.3703060913830996,
          1.1809543520212171,
          14.396435152739286,
          4.178591672331095,
          19.89119153469801,
          0.9175454396754504,
          13.914576683193443,
          0.5919512333348393,
          0.4808208048343658,
          1.6619602143764496,
          4.662041120231152,
          7.326865121722221,
          3.8522378485649824,
          8.013188323006034,
          11.37231402285397,
          6.435443831607699,
          7.664534471929073,
          3.182455135509372,
          1.311300728470087,
          0.280721366405487,
          0.158847420476377,
          2.090287022292614,
          0.6307234717532992,
          0.5386798195540905,
          7.061855906620622,
          2.6224545165896416,
          0.8952525183558464,
          3.815535623580218,
          2.1791431177407503,
          2.913172172382474,
          0.7424793783575296,
          2.3525382801890373,
          2.0003232518211007,
          0.8486099801957607,
          0.6790169896557927,
          0.571153343655169,
          0.4285062281414866,
          1.2386347204446793,
          0.1798663921654224,
          0.3261748496443033,
          1.5778240840882063,
          0.9451598841696978,
          0.3333490621298551,
          0.6478438246995211,
          0.862159663811326,
          0.7093400051817298,
          1.460683104582131,
          1.6398063711822033,
          3.4997627045959234,
          0.6171830762177706,
          0.3187319859862327,
          1.254247801378369,
          4.262822948396206,
          9.35683636367321,
          3.117426598444581,
          2.186291830614209,
          0.0504800844937562,
          2.53124425560236,
          1.1291610151529312,
          0.0409077489748597,
          3.22241890989244,
          0.6841247100383043,
          0.0732036642730236,
          0.2571266116574406,
          0.037510578520596,
          1.3110647955909371,
          0.0414977483451366,
          1.5223376750946045,
          2.536151068285108,
          4.413865715265274,
          10.57111357152462,
          0.6787159079685807,
          4.550642538815737,
          3.6441493202000856,
          0.8438284117728472,
          0.7584931338205934,
          1.6469853483140469,
          0.8939016163349152,
          1.3922767248004675,
          0.1496650017797947,
          2.966266077011824
         ],
         "xaxis": "x",
         "y": [
          0,
          0,
          1,
          1,
          9,
          8,
          5,
          0,
          5,
          0,
          0,
          3,
          0,
          2,
          1,
          5,
          1,
          0,
          3,
          2,
          2,
          0,
          2,
          1,
          0,
          3,
          0,
          1,
          3,
          0,
          0,
          0,
          0,
          4,
          0,
          0,
          4,
          0,
          1,
          0,
          0,
          0,
          1,
          0,
          2,
          6,
          6,
          0,
          2,
          2,
          4,
          0,
          4,
          7,
          1,
          4,
          0,
          8,
          0,
          0,
          9,
          3,
          0,
          0,
          0,
          2,
          1,
          0,
          0,
          0,
          2,
          1,
          1,
          1,
          3,
          5,
          3,
          1,
          6,
          0,
          7,
          0,
          3,
          0,
          0,
          0,
          4,
          1,
          1,
          0,
          1,
          9,
          0,
          4,
          4,
          0,
          0,
          0,
          2,
          1,
          2,
          12,
          4,
          19,
          2,
          12,
          1,
          0,
          1,
          2,
          5,
          9,
          10,
          10,
          7,
          7,
          3,
          1,
          0,
          0,
          1,
          3,
          2,
          9,
          4,
          1,
          3,
          2,
          2,
          2,
          2,
          1,
          0,
          1,
          0,
          0,
          0,
          0,
          0,
          1,
          0,
          0,
          1,
          0,
          1,
          0,
          1,
          6,
          0,
          0,
          0,
          3,
          11,
          2,
          2,
          0,
          2,
          2,
          0,
          2,
          0,
          0,
          0,
          0,
          1,
          0,
          1,
          4,
          5,
          8,
          1,
          4,
          5,
          1,
          2,
          1,
          3,
          1,
          0,
          0
         ],
         "yaxis": "y"
        }
       ],
       "layout": {
        "legend": {
         "title": {
          "text": "element_type"
         },
         "tracegroupgap": 0
        },
        "template": {
         "data": {
          "bar": [
           {
            "error_x": {
             "color": "#2a3f5f"
            },
            "error_y": {
             "color": "#2a3f5f"
            },
            "marker": {
             "line": {
              "color": "#E5ECF6",
              "width": 0.5
             },
             "pattern": {
              "fillmode": "overlay",
              "size": 10,
              "solidity": 0.2
             }
            },
            "type": "bar"
           }
          ],
          "barpolar": [
           {
            "marker": {
             "line": {
              "color": "#E5ECF6",
              "width": 0.5
             },
             "pattern": {
              "fillmode": "overlay",
              "size": 10,
              "solidity": 0.2
             }
            },
            "type": "barpolar"
           }
          ],
          "carpet": [
           {
            "aaxis": {
             "endlinecolor": "#2a3f5f",
             "gridcolor": "white",
             "linecolor": "white",
             "minorgridcolor": "white",
             "startlinecolor": "#2a3f5f"
            },
            "baxis": {
             "endlinecolor": "#2a3f5f",
             "gridcolor": "white",
             "linecolor": "white",
             "minorgridcolor": "white",
             "startlinecolor": "#2a3f5f"
            },
            "type": "carpet"
           }
          ],
          "choropleth": [
           {
            "colorbar": {
             "outlinewidth": 0,
             "ticks": ""
            },
            "type": "choropleth"
           }
          ],
          "contour": [
           {
            "colorbar": {
             "outlinewidth": 0,
             "ticks": ""
            },
            "colorscale": [
             [
              0,
              "#0d0887"
             ],
             [
              0.1111111111111111,
              "#46039f"
             ],
             [
              0.2222222222222222,
              "#7201a8"
             ],
             [
              0.3333333333333333,
              "#9c179e"
             ],
             [
              0.4444444444444444,
              "#bd3786"
             ],
             [
              0.5555555555555556,
              "#d8576b"
             ],
             [
              0.6666666666666666,
              "#ed7953"
             ],
             [
              0.7777777777777778,
              "#fb9f3a"
             ],
             [
              0.8888888888888888,
              "#fdca26"
             ],
             [
              1,
              "#f0f921"
             ]
            ],
            "type": "contour"
           }
          ],
          "contourcarpet": [
           {
            "colorbar": {
             "outlinewidth": 0,
             "ticks": ""
            },
            "type": "contourcarpet"
           }
          ],
          "heatmap": [
           {
            "colorbar": {
             "outlinewidth": 0,
             "ticks": ""
            },
            "colorscale": [
             [
              0,
              "#0d0887"
             ],
             [
              0.1111111111111111,
              "#46039f"
             ],
             [
              0.2222222222222222,
              "#7201a8"
             ],
             [
              0.3333333333333333,
              "#9c179e"
             ],
             [
              0.4444444444444444,
              "#bd3786"
             ],
             [
              0.5555555555555556,
              "#d8576b"
             ],
             [
              0.6666666666666666,
              "#ed7953"
             ],
             [
              0.7777777777777778,
              "#fb9f3a"
             ],
             [
              0.8888888888888888,
              "#fdca26"
             ],
             [
              1,
              "#f0f921"
             ]
            ],
            "type": "heatmap"
           }
          ],
          "heatmapgl": [
           {
            "colorbar": {
             "outlinewidth": 0,
             "ticks": ""
            },
            "colorscale": [
             [
              0,
              "#0d0887"
             ],
             [
              0.1111111111111111,
              "#46039f"
             ],
             [
              0.2222222222222222,
              "#7201a8"
             ],
             [
              0.3333333333333333,
              "#9c179e"
             ],
             [
              0.4444444444444444,
              "#bd3786"
             ],
             [
              0.5555555555555556,
              "#d8576b"
             ],
             [
              0.6666666666666666,
              "#ed7953"
             ],
             [
              0.7777777777777778,
              "#fb9f3a"
             ],
             [
              0.8888888888888888,
              "#fdca26"
             ],
             [
              1,
              "#f0f921"
             ]
            ],
            "type": "heatmapgl"
           }
          ],
          "histogram": [
           {
            "marker": {
             "pattern": {
              "fillmode": "overlay",
              "size": 10,
              "solidity": 0.2
             }
            },
            "type": "histogram"
           }
          ],
          "histogram2d": [
           {
            "colorbar": {
             "outlinewidth": 0,
             "ticks": ""
            },
            "colorscale": [
             [
              0,
              "#0d0887"
             ],
             [
              0.1111111111111111,
              "#46039f"
             ],
             [
              0.2222222222222222,
              "#7201a8"
             ],
             [
              0.3333333333333333,
              "#9c179e"
             ],
             [
              0.4444444444444444,
              "#bd3786"
             ],
             [
              0.5555555555555556,
              "#d8576b"
             ],
             [
              0.6666666666666666,
              "#ed7953"
             ],
             [
              0.7777777777777778,
              "#fb9f3a"
             ],
             [
              0.8888888888888888,
              "#fdca26"
             ],
             [
              1,
              "#f0f921"
             ]
            ],
            "type": "histogram2d"
           }
          ],
          "histogram2dcontour": [
           {
            "colorbar": {
             "outlinewidth": 0,
             "ticks": ""
            },
            "colorscale": [
             [
              0,
              "#0d0887"
             ],
             [
              0.1111111111111111,
              "#46039f"
             ],
             [
              0.2222222222222222,
              "#7201a8"
             ],
             [
              0.3333333333333333,
              "#9c179e"
             ],
             [
              0.4444444444444444,
              "#bd3786"
             ],
             [
              0.5555555555555556,
              "#d8576b"
             ],
             [
              0.6666666666666666,
              "#ed7953"
             ],
             [
              0.7777777777777778,
              "#fb9f3a"
             ],
             [
              0.8888888888888888,
              "#fdca26"
             ],
             [
              1,
              "#f0f921"
             ]
            ],
            "type": "histogram2dcontour"
           }
          ],
          "mesh3d": [
           {
            "colorbar": {
             "outlinewidth": 0,
             "ticks": ""
            },
            "type": "mesh3d"
           }
          ],
          "parcoords": [
           {
            "line": {
             "colorbar": {
              "outlinewidth": 0,
              "ticks": ""
             }
            },
            "type": "parcoords"
           }
          ],
          "pie": [
           {
            "automargin": true,
            "type": "pie"
           }
          ],
          "scatter": [
           {
            "marker": {
             "colorbar": {
              "outlinewidth": 0,
              "ticks": ""
             }
            },
            "type": "scatter"
           }
          ],
          "scatter3d": [
           {
            "line": {
             "colorbar": {
              "outlinewidth": 0,
              "ticks": ""
             }
            },
            "marker": {
             "colorbar": {
              "outlinewidth": 0,
              "ticks": ""
             }
            },
            "type": "scatter3d"
           }
          ],
          "scattercarpet": [
           {
            "marker": {
             "colorbar": {
              "outlinewidth": 0,
              "ticks": ""
             }
            },
            "type": "scattercarpet"
           }
          ],
          "scattergeo": [
           {
            "marker": {
             "colorbar": {
              "outlinewidth": 0,
              "ticks": ""
             }
            },
            "type": "scattergeo"
           }
          ],
          "scattergl": [
           {
            "marker": {
             "colorbar": {
              "outlinewidth": 0,
              "ticks": ""
             }
            },
            "type": "scattergl"
           }
          ],
          "scattermapbox": [
           {
            "marker": {
             "colorbar": {
              "outlinewidth": 0,
              "ticks": ""
             }
            },
            "type": "scattermapbox"
           }
          ],
          "scatterpolar": [
           {
            "marker": {
             "colorbar": {
              "outlinewidth": 0,
              "ticks": ""
             }
            },
            "type": "scatterpolar"
           }
          ],
          "scatterpolargl": [
           {
            "marker": {
             "colorbar": {
              "outlinewidth": 0,
              "ticks": ""
             }
            },
            "type": "scatterpolargl"
           }
          ],
          "scatterternary": [
           {
            "marker": {
             "colorbar": {
              "outlinewidth": 0,
              "ticks": ""
             }
            },
            "type": "scatterternary"
           }
          ],
          "surface": [
           {
            "colorbar": {
             "outlinewidth": 0,
             "ticks": ""
            },
            "colorscale": [
             [
              0,
              "#0d0887"
             ],
             [
              0.1111111111111111,
              "#46039f"
             ],
             [
              0.2222222222222222,
              "#7201a8"
             ],
             [
              0.3333333333333333,
              "#9c179e"
             ],
             [
              0.4444444444444444,
              "#bd3786"
             ],
             [
              0.5555555555555556,
              "#d8576b"
             ],
             [
              0.6666666666666666,
              "#ed7953"
             ],
             [
              0.7777777777777778,
              "#fb9f3a"
             ],
             [
              0.8888888888888888,
              "#fdca26"
             ],
             [
              1,
              "#f0f921"
             ]
            ],
            "type": "surface"
           }
          ],
          "table": [
           {
            "cells": {
             "fill": {
              "color": "#EBF0F8"
             },
             "line": {
              "color": "white"
             }
            },
            "header": {
             "fill": {
              "color": "#C8D4E3"
             },
             "line": {
              "color": "white"
             }
            },
            "type": "table"
           }
          ]
         },
         "layout": {
          "annotationdefaults": {
           "arrowcolor": "#2a3f5f",
           "arrowhead": 0,
           "arrowwidth": 1
          },
          "autotypenumbers": "strict",
          "coloraxis": {
           "colorbar": {
            "outlinewidth": 0,
            "ticks": ""
           }
          },
          "colorscale": {
           "diverging": [
            [
             0,
             "#8e0152"
            ],
            [
             0.1,
             "#c51b7d"
            ],
            [
             0.2,
             "#de77ae"
            ],
            [
             0.3,
             "#f1b6da"
            ],
            [
             0.4,
             "#fde0ef"
            ],
            [
             0.5,
             "#f7f7f7"
            ],
            [
             0.6,
             "#e6f5d0"
            ],
            [
             0.7,
             "#b8e186"
            ],
            [
             0.8,
             "#7fbc41"
            ],
            [
             0.9,
             "#4d9221"
            ],
            [
             1,
             "#276419"
            ]
           ],
           "sequential": [
            [
             0,
             "#0d0887"
            ],
            [
             0.1111111111111111,
             "#46039f"
            ],
            [
             0.2222222222222222,
             "#7201a8"
            ],
            [
             0.3333333333333333,
             "#9c179e"
            ],
            [
             0.4444444444444444,
             "#bd3786"
            ],
            [
             0.5555555555555556,
             "#d8576b"
            ],
            [
             0.6666666666666666,
             "#ed7953"
            ],
            [
             0.7777777777777778,
             "#fb9f3a"
            ],
            [
             0.8888888888888888,
             "#fdca26"
            ],
            [
             1,
             "#f0f921"
            ]
           ],
           "sequentialminus": [
            [
             0,
             "#0d0887"
            ],
            [
             0.1111111111111111,
             "#46039f"
            ],
            [
             0.2222222222222222,
             "#7201a8"
            ],
            [
             0.3333333333333333,
             "#9c179e"
            ],
            [
             0.4444444444444444,
             "#bd3786"
            ],
            [
             0.5555555555555556,
             "#d8576b"
            ],
            [
             0.6666666666666666,
             "#ed7953"
            ],
            [
             0.7777777777777778,
             "#fb9f3a"
            ],
            [
             0.8888888888888888,
             "#fdca26"
            ],
            [
             1,
             "#f0f921"
            ]
           ]
          },
          "colorway": [
           "#636efa",
           "#EF553B",
           "#00cc96",
           "#ab63fa",
           "#FFA15A",
           "#19d3f3",
           "#FF6692",
           "#B6E880",
           "#FF97FF",
           "#FECB52"
          ],
          "font": {
           "color": "#2a3f5f"
          },
          "geo": {
           "bgcolor": "white",
           "lakecolor": "white",
           "landcolor": "#E5ECF6",
           "showlakes": true,
           "showland": true,
           "subunitcolor": "white"
          },
          "hoverlabel": {
           "align": "left"
          },
          "hovermode": "closest",
          "mapbox": {
           "style": "light"
          },
          "paper_bgcolor": "white",
          "plot_bgcolor": "#E5ECF6",
          "polar": {
           "angularaxis": {
            "gridcolor": "white",
            "linecolor": "white",
            "ticks": ""
           },
           "bgcolor": "#E5ECF6",
           "radialaxis": {
            "gridcolor": "white",
            "linecolor": "white",
            "ticks": ""
           }
          },
          "scene": {
           "xaxis": {
            "backgroundcolor": "#E5ECF6",
            "gridcolor": "white",
            "gridwidth": 2,
            "linecolor": "white",
            "showbackground": true,
            "ticks": "",
            "zerolinecolor": "white"
           },
           "yaxis": {
            "backgroundcolor": "#E5ECF6",
            "gridcolor": "white",
            "gridwidth": 2,
            "linecolor": "white",
            "showbackground": true,
            "ticks": "",
            "zerolinecolor": "white"
           },
           "zaxis": {
            "backgroundcolor": "#E5ECF6",
            "gridcolor": "white",
            "gridwidth": 2,
            "linecolor": "white",
            "showbackground": true,
            "ticks": "",
            "zerolinecolor": "white"
           }
          },
          "shapedefaults": {
           "line": {
            "color": "#2a3f5f"
           }
          },
          "ternary": {
           "aaxis": {
            "gridcolor": "white",
            "linecolor": "white",
            "ticks": ""
           },
           "baxis": {
            "gridcolor": "white",
            "linecolor": "white",
            "ticks": ""
           },
           "bgcolor": "#E5ECF6",
           "caxis": {
            "gridcolor": "white",
            "linecolor": "white",
            "ticks": ""
           }
          },
          "title": {
           "x": 0.05
          },
          "xaxis": {
           "automargin": true,
           "gridcolor": "white",
           "linecolor": "white",
           "ticks": "",
           "title": {
            "standoff": 15
           },
           "zerolinecolor": "white",
           "zerolinewidth": 2
          },
          "yaxis": {
           "automargin": true,
           "gridcolor": "white",
           "linecolor": "white",
           "ticks": "",
           "title": {
            "standoff": 15
           },
           "zerolinecolor": "white",
           "zerolinewidth": 2
          }
         }
        },
        "title": {
         "text": "Total points vs Current Price"
        },
        "xaxis": {
         "anchor": "y",
         "domain": [
          0,
          1
         ],
         "title": {
          "text": "xG"
         }
        },
        "yaxis": {
         "anchor": "x",
         "domain": [
          0,
          1
         ],
         "title": {
          "text": "goals_scored"
         }
        }
       }
      }
     },
     "metadata": {},
     "output_type": "display_data"
    }
   ],
   "source": [
    "px.scatter(df, \n",
    "           x='xG', y='goals_scored',\n",
    "           color='element_type',\n",
    "           color_discrete_map=position_colors,\n",
    "           hover_data= ['player_name'],\n",
    "           title='Goals scored vs xG'\n",
    "              )\n",
    "\n",
    "#sns.scatterplot(x = df['xG'], y = df['goals_scored'], hue=df['element_type'], palette=position_colors)"
   ]
  },
  {
   "cell_type": "code",
   "execution_count": 97,
   "metadata": {},
   "outputs": [
    {
     "data": {
      "application/vnd.plotly.v1+json": {
       "config": {
        "plotlyServerURL": "https://plot.ly"
       },
       "data": [
        {
         "customdata": [
          [
           "Bernd Leno"
          ],
          [
           "Aaron Ramsdale"
          ],
          [
           "Emiliano Martínez"
          ],
          [
           "David Raya Martin"
          ],
          [
           "Álvaro Fernández"
          ],
          [
           "Jonas Lössl"
          ],
          [
           "Jason Steele"
          ],
          [
           "Robert Sánchez"
          ],
          [
           "Nick Pope"
          ],
          [
           "Wayne Hennessey"
          ],
          [
           "Kepa Arrizabalaga"
          ],
          [
           "Edouard Mendy"
          ],
          [
           "Vicente Guaita"
          ],
          [
           "Jack Butland"
          ],
          [
           "Jordan Pickford"
          ],
          [
           "Asmir Begović"
          ],
          [
           "Kasper Schmeichel"
          ],
          [
           "Illan Meslier"
          ],
          [
           "Alisson Ramses Becker"
          ],
          [
           "Caoimhin Kelleher"
          ],
          [
           "Ederson Santana de Moraes"
          ],
          [
           "Zack Steffen"
          ],
          [
           "David de Gea"
          ],
          [
           "Karl Darlow"
          ],
          [
           "Martin Dubravka"
          ],
          [
           "Tim Krul"
          ],
          [
           "Angus Gunn"
          ],
          [
           "Fraser Forster"
          ],
          [
           "Willy Caballero"
          ],
          [
           "Hugo Lloris"
          ],
          [
           "Ben Foster"
          ],
          [
           "Daniel Bachmann"
          ],
          [
           "Lukasz Fabianski"
          ],
          [
           "Alphonse Areola"
          ],
          [
           "José Malheiro de Sá"
          ]
         ],
         "hovertemplate": "element_type=Goalkeeper<br>xA=%{x}<br>assists=%{y}<br>player_name=%{customdata[0]}<extra></extra>",
         "legendgroup": "Goalkeeper",
         "marker": {
          "color": "red",
          "symbol": "circle"
         },
         "mode": "markers",
         "name": "Goalkeeper",
         "orientation": "v",
         "showlegend": true,
         "type": "scatter",
         "x": [
          0,
          0,
          0,
          0,
          0,
          0,
          0,
          0.6362467408180237,
          0.0706123113632202,
          0.1527586430311203,
          0,
          0,
          0,
          0,
          0.0770951267331838,
          0,
          0.015869190916419,
          0,
          0.1280679851770401,
          0,
          0,
          0,
          0,
          0,
          0,
          0,
          0,
          0,
          0,
          0.2063242979347705,
          0.0675887167453765,
          0,
          0,
          0,
          0.3950190395116806
         ],
         "xaxis": "x",
         "y": [
          0,
          0,
          0,
          0,
          0,
          0,
          0,
          0,
          0,
          0,
          0,
          0,
          0,
          0,
          0,
          0,
          0,
          0,
          1,
          0,
          0,
          0,
          0,
          0,
          0,
          0,
          0,
          0,
          0,
          0,
          1,
          0,
          0,
          0,
          1
         ],
         "yaxis": "y"
        },
        {
         "customdata": [
          [
           "Cédric Soares"
          ],
          [
           "Rob Holding"
          ],
          [
           "Kieran Tierney"
          ],
          [
           "Gabriel Magalhães"
          ],
          [
           "Ben White"
          ],
          [
           "Nuno Varela Tavares"
          ],
          [
           "Takehiro Tomiyasu"
          ],
          [
           "Calum Chambers"
          ],
          [
           "Kortney Hause"
          ],
          [
           "Tyrone Mings"
          ],
          [
           "Matthew Cash"
          ],
          [
           "Ezri Konsa Ngoyo"
          ],
          [
           "Ashley Young"
          ],
          [
           "Lucas Digne"
          ],
          [
           "Pontus Jansson"
          ],
          [
           "Rico Henry"
          ],
          [
           "Mads Roerslev Rasmussen"
          ],
          [
           "Mads Bech Sørensen"
          ],
          [
           "Ethan Pinnock"
          ],
          [
           "Kristoffer Ajer"
          ],
          [
           "Mathias Jorgensen"
          ],
          [
           "Shane Duffy"
          ],
          [
           "Lewis Dunk"
          ],
          [
           "Adam Webster"
          ],
          [
           "Joël Veltman"
          ],
          [
           "Tariq Lamptey"
          ],
          [
           "Marc Cucurella"
          ],
          [
           "James Tarkowski"
          ],
          [
           "Erik Pieters"
          ],
          [
           "Ben Mee"
          ],
          [
           "Matthew Lowton"
          ],
          [
           "Charlie Taylor"
          ],
          [
           "Nathan Collins"
          ],
          [
           "Connor Roberts"
          ],
          [
           "César Azpilicueta"
          ],
          [
           "Thiago Emiliano da Silva"
          ],
          [
           "Marcos Alonso"
          ],
          [
           "Antonio Rüdiger"
          ],
          [
           "Andreas Christensen"
          ],
          [
           "Benjamin Chilwell"
          ],
          [
           "Reece James"
          ],
          [
           "Malang Sarr"
          ],
          [
           "Trevoh Chalobah"
          ],
          [
           "James Tomkins"
          ],
          [
           "Cheikhou Kouyaté"
          ],
          [
           "Tyrick Mitchell"
          ],
          [
           "Joel Ward"
          ],
          [
           "Marc Guéhi"
          ],
          [
           "Joachim Andersen"
          ],
          [
           "Nathaniel Clyne"
          ],
          [
           "Seamus Coleman"
          ],
          [
           "Michael Keane"
          ],
          [
           "Yerry Mina"
          ],
          [
           "Mason Holgate"
          ],
          [
           "Ben Godfrey"
          ],
          [
           "Jonjoe Kenny"
          ],
          [
           "Jarrad Branthwaite"
          ],
          [
           "Vitalii Mykolenko"
          ],
          [
           "Jonny Evans"
          ],
          [
           "Ricardo Domingos Barbosa Pereira"
          ],
          [
           "Daniel Amartey"
          ],
          [
           "Timothy Castagne"
          ],
          [
           "Çaglar Söyüncü"
          ],
          [
           "James Justin"
          ],
          [
           "Luke Thomas"
          ],
          [
           "Jannik Vestergaard"
          ],
          [
           "Liam Cooper"
          ],
          [
           "Luke Ayling"
          ],
          [
           "Diego Llorente"
          ],
          [
           "Robin Koch"
          ],
          [
           "Pascal Struijk"
          ],
          [
           "Héctor Junior Firpo Adames"
          ],
          [
           "Charlie Cresswell"
          ],
          [
           "Joel Matip"
          ],
          [
           "Virgil van Dijk"
          ],
          [
           "Andrew Robertson"
          ],
          [
           "Trent Alexander-Arnold"
          ],
          [
           "Joseph Gomez"
          ],
          [
           "Ibrahima Konaté"
          ],
          [
           "Konstantinos Tsimikas"
          ],
          [
           "Kyle Walker"
          ],
          [
           "John Stones"
          ],
          [
           "João Pedro Cavaco Cancelo"
          ],
          [
           "Nathan Aké"
          ],
          [
           "Aymeric Laporte"
          ],
          [
           "Rúben Santos Gato Alves Dias"
          ],
          [
           "Oleksandr Zinchenko"
          ],
          [
           "Harry Maguire"
          ],
          [
           "Luke Shaw"
          ],
          [
           "Alex Nicolao Telles"
          ],
          [
           "Victor Lindelöf"
          ],
          [
           "Eric Bailly"
          ],
          [
           "Aaron Wan-Bissaka"
          ],
          [
           "José Diogo Dalot Teixeira"
          ],
          [
           "Raphaël Varane"
          ],
          [
           "Phil Jones"
          ],
          [
           "Matt Targett"
          ],
          [
           "Dan Burn"
          ],
          [
           "Matt Ritchie"
          ],
          [
           "Jamaal Lascelles"
          ],
          [
           "Paul Dummett"
          ],
          [
           "Javier Manquillo"
          ],
          [
           "Emil Krafth"
          ],
          [
           "Fabian Schär"
          ],
          [
           "Federico Fernández"
          ],
          [
           "Brandon Williams"
          ],
          [
           "Grant Hanley"
          ],
          [
           "Sam Byram"
          ],
          [
           "Max Aarons"
          ],
          [
           "Jacob Sørensen"
          ],
          [
           "Ben Gibson"
          ],
          [
           "Dimitris Giannoulis"
          ],
          [
           "Ozan Kabak"
          ],
          [
           "Jack Stephens"
          ],
          [
           "Kyle Walker-Peters"
          ],
          [
           "Jan Bednarek"
          ],
          [
           "Mohammed Salisu"
          ],
          [
           "Romain Perraud"
          ],
          [
           "Tino Livramento"
          ],
          [
           "Yan Valery"
          ],
          [
           "Lyanco Evangelista Silveira Neves Vojnovic"
          ],
          [
           "Matt Doherty"
          ],
          [
           "Eric Dier"
          ],
          [
           "Ben Davies"
          ],
          [
           "Davinson Sánchez"
          ],
          [
           "Ryan Sessegnon"
          ],
          [
           "Sergio Reguilón"
          ],
          [
           "Cristian Romero"
          ],
          [
           "Emerson Aparecido Leite de Souza Junior"
          ],
          [
           "Emerson Aparecido Leite de Souza Junior"
          ],
          [
           "Craig Cathcart"
          ],
          [
           "Francisco Femenía Far"
          ],
          [
           "Christian Kabasele"
          ],
          [
           "William Troost-Ekong"
          ],
          [
           "Adam Masina"
          ],
          [
           "Francisco Sierralta"
          ],
          [
           "Jeremy Ngakia"
          ],
          [
           "Nicolas Nkoulou"
          ],
          [
           "Hassane Kamara"
          ],
          [
           "Samir Caetano de Souza Santos"
          ],
          [
           "Kurt Zouma"
          ],
          [
           "Aaron Cresswell"
          ],
          [
           "Craig Dawson"
          ],
          [
           "Ryan Fredericks"
          ],
          [
           "Arthur Masuaku"
          ],
          [
           "Issa Diop"
          ],
          [
           "Ben Johnson"
          ],
          [
           "Conor Coady"
          ],
          [
           "Romain Saïss"
          ],
          [
           "Fernando Marçal"
          ],
          [
           "Jonathan Castro Otto"
          ],
          [
           "Nélson Cabral Semedo"
          ],
          [
           "Max Kilman"
          ],
          [
           "Ki-Jana Hoever"
          ],
          [
           "Rayan Ait Nouri"
          ],
          [
           "Toti António Gomes"
          ]
         ],
         "hovertemplate": "element_type=Defender<br>xA=%{x}<br>assists=%{y}<br>player_name=%{customdata[0]}<extra></extra>",
         "legendgroup": "Defender",
         "marker": {
          "color": "blue",
          "symbol": "circle"
         },
         "mode": "markers",
         "name": "Defender",
         "orientation": "v",
         "showlegend": true,
         "type": "scatter",
         "x": [
          0.3677573464810848,
          0,
          1.150213511660695,
          0.1794012859463691,
          1.134619476273656,
          0.8272398812696338,
          0.8683442883193493,
          0.0555610507726669,
          0,
          1.1146674118936062,
          2.56251790560782,
          0.2706998288631439,
          0.3717363448813557,
          2.405578799545765,
          0.4942300096154213,
          0.5246701184660196,
          0.6295122681185603,
          0.1333552990108728,
          1.7245037853717804,
          0.9794593304395676,
          0.0767927952110767,
          0.0819577015936374,
          0.095023937523365,
          0.0369059294462204,
          1.4837300069630146,
          2.203330250456929,
          1.967729679308832,
          0.2838664501905441,
          0.0204200576990842,
          1.2749733906239271,
          2.0866365376859903,
          1.6444662027060986,
          0.5499800555408001,
          0.3161044120788574,
          1.8986496347934008,
          0.1812903899699449,
          2.961708150804043,
          0.7046160791069269,
          0.1679816264659166,
          0.8330149557441473,
          4.61812474578619,
          0.361977607011795,
          0.1202509701251983,
          0.3527828902006149,
          0.5975878108292818,
          1.8649194464087488,
          0.3251228369772434,
          0.1303826114162802,
          0.5206340784206986,
          0.034269593656063,
          0.5437640883028507,
          1.3396282345056534,
          0,
          0,
          0.6254459293559194,
          0.3345212452113628,
          0,
          0,
          0.4210729673504829,
          0.8321368303149939,
          0.1808526515960693,
          0.3571612723171711,
          0.0689336881041526,
          0.238167442381382,
          1.3112468998879194,
          0.0672715455293655,
          0.0830003097653389,
          1.9833142841234803,
          0.0478120651096105,
          0.081685833632946,
          0.3201574701815843,
          1.729521432891488,
          0,
          0.8033009953796864,
          1.4132683537900448,
          4.736449524760246,
          10.791974158026278,
          0.0410771481692791,
          0,
          1.7341715060174463,
          2.4091113917529583,
          0.0998304821550846,
          3.663659673184157,
          0.617275595664978,
          0.397720230743289,
          2.5079004913568497,
          0.6696433834731579,
          0.0503690363839268,
          3.610125934705138,
          1.14950861223042,
          0.6558026969432831,
          0,
          0.9214210398495196,
          0.466738823801279,
          0.1297597084194421,
          0,
          2.942847195081413,
          0.6954153571277857,
          1.9647234054282308,
          0.2316509298980236,
          0,
          0.4709691517055034,
          0.8791877049952745,
          1.2566925399005413,
          0.2842389643192291,
          1.7965036733075976,
          0.2979576885700226,
          0.1200375482439994,
          1.4177726674824953,
          0,
          0.1156430328264832,
          0.410059530287981,
          0.011970798484981,
          0.2442822121083736,
          1.4295887760818005,
          0.3025858253240585,
          0.5275280196219683,
          0.2779939407482743,
          2.814353964291513,
          0.2550512850284576,
          0.1741071790456771,
          1.9641865603625772,
          1.2294063176959753,
          0.4708574563264847,
          0.1723331529647112,
          0.5429178094491363,
          3.3480468429625034,
          0.1488732025027275,
          0,
          1.9138368759304285,
          1.4212617091834543,
          2.50327941775322,
          0.0532903671264648,
          0.0705595538020134,
          0.6399356294423342,
          0,
          0.1568174585700035,
          0.0129845160990953,
          0.562067405320704,
          0,
          0.0838833805173635,
          2.7334696128964424,
          0.6956739276647568,
          0.0535743311047554,
          0.7584338430315256,
          0.2918313443660736,
          0.4671482313424349,
          0.0130844162777066,
          0.3003287836909294,
          0.5654059555381536,
          0.0553075782954692,
          1.2611804734915495,
          0.1449058810248971,
          0.0863142684102058,
          1.462252995930612,
          0
         ],
         "xaxis": "x",
         "y": [
          0,
          0,
          3,
          0,
          0,
          1,
          1,
          0,
          0,
          3,
          2,
          0,
          2,
          1,
          4,
          0,
          1,
          0,
          1,
          2,
          0,
          1,
          0,
          0,
          1,
          2,
          1,
          2,
          0,
          0,
          3,
          1,
          0,
          1,
          3,
          1,
          4,
          3,
          0,
          1,
          6,
          0,
          1,
          0,
          1,
          2,
          0,
          0,
          2,
          0,
          1,
          2,
          0,
          1,
          0,
          1,
          0,
          0,
          1,
          2,
          0,
          0,
          0,
          0,
          1,
          0,
          2,
          2,
          0,
          0,
          1,
          1,
          0,
          1,
          2,
          10,
          11,
          0,
          0,
          2,
          2,
          0,
          8,
          0,
          2,
          3,
          1,
          0,
          3,
          1,
          2,
          0,
          0,
          0,
          1,
          0,
          2,
          0,
          2,
          1,
          0,
          3,
          1,
          2,
          1,
          1,
          0,
          0,
          1,
          0,
          0,
          1,
          0,
          0,
          2,
          0,
          0,
          1,
          2,
          0,
          0,
          4,
          1,
          2,
          0,
          2,
          3,
          0,
          1,
          1,
          1,
          5,
          0,
          0,
          0,
          0,
          0,
          0,
          0,
          0,
          0,
          4,
          1,
          0,
          1,
          1,
          0,
          0,
          0,
          2,
          0,
          1,
          1,
          0,
          3,
          0
         ],
         "yaxis": "y"
        },
        {
         "customdata": [
          [
           "Alexandre Lacazette"
          ],
          [
           "Edward Nketiah"
          ],
          [
           "Ollie Watkins"
          ],
          [
           "Danny Ings"
          ],
          [
           "Ivan Toney"
          ],
          [
           "Neal Maupay"
          ],
          [
           "Danny Welbeck"
          ],
          [
           "Jay Rodriguez"
          ],
          [
           "Ashley Barnes"
          ],
          [
           "Wout Weghorst"
          ],
          [
           "Timo Werner"
          ],
          [
           "Romelu Lukaku"
          ],
          [
           "Christian Benteke"
          ],
          [
           "Jordan Ayew"
          ],
          [
           "Jean-Philippe Mateta"
          ],
          [
           "Odsonne Edouard"
          ],
          [
           "Dominic Calvert-Lewin"
          ],
          [
           "Richarlison de Andrade"
          ],
          [
           "Salomón Rondón"
          ],
          [
           "Jamie Vardy"
          ],
          [
           "Kelechi Iheanacho"
          ],
          [
           "Patson Daka"
          ],
          [
           "Rodrigo Moreno"
          ],
          [
           "Patrick Bamford"
          ],
          [
           "Joe Gelhardt"
          ],
          [
           "Roberto Firmino"
          ],
          [
           "Gabriel Fernando de Jesus"
          ],
          [
           "Edinson Cavani"
          ],
          [
           "Cristiano Ronaldo dos Santos Aveiro"
          ],
          [
           "Chris Wood"
          ],
          [
           "Callum Wilson"
          ],
          [
           "Allan Saint-Maximin"
          ],
          [
           "Joelinton Cássio Apolinário de Lira"
          ],
          [
           "Teemu Pukki"
          ],
          [
           "Adam Idah"
          ],
          [
           "Joshua Sargent"
          ],
          [
           "Che Adams"
          ],
          [
           "Armando Broja"
          ],
          [
           "Shane Long"
          ],
          [
           "Adam Armstrong"
          ],
          [
           "Harry Kane"
          ],
          [
           "João Pedro Junqueira de Jesus"
          ],
          [
           "Emmanuel Dennis"
          ],
          [
           "Joshua King"
          ],
          [
           "Juan Camilo Hernández Suárez"
          ],
          [
           "Michail Antonio"
          ],
          [
           "Raúl Jiménez"
          ],
          [
           "Fabio Silva"
          ],
          [
           "Hee-Chan Hwang"
          ]
         ],
         "hovertemplate": "element_type=Forward<br>xA=%{x}<br>assists=%{y}<br>player_name=%{customdata[0]}<extra></extra>",
         "legendgroup": "Forward",
         "marker": {
          "color": "Green",
          "symbol": "circle"
         },
         "mode": "markers",
         "name": "Forward",
         "orientation": "v",
         "showlegend": true,
         "type": "scatter",
         "x": [
          2.796951025724411,
          0.7720417082309723,
          1.828206181526184,
          0.660776237025857,
          4.48953405674547,
          1.955231294035912,
          0.2148136645555496,
          1.7781125698238611,
          0.3867453038692474,
          0.7530978433787823,
          0.0854049511253833,
          2.356433991342783,
          1.6455406285822392,
          2.942340726032853,
          0.4920910112559795,
          1.9331107567995789,
          0.283976212143898,
          2.7604501582682133,
          0.5214151497930288,
          1.2708313576877115,
          2.203008908778429,
          1.4648500755429268,
          1.2917723283171654,
          0.39914455357939,
          0.5918155647814274,
          1.472150744870305,
          4.017523150891066,
          1.0626687463372946,
          3.676798276603222,
          1.215698870830238,
          0.4431503433734178,
          3.9745332580059767,
          1.4339480474591255,
          1.7654086481779814,
          0.4609227031469345,
          0.5363336000591516,
          1.7578712068498137,
          0.6405650749802589,
          0,
          1.624623842537403,
          5.718805953860283,
          1.5908869542181492,
          3.3322388380765915,
          3.686187520623207,
          1.659473140724003,
          5.436785809695721,
          2.2722367085516453,
          0.3367272317409515,
          0.8699445361271501
         ],
         "xaxis": "x",
         "y": [
          8,
          1,
          2,
          4,
          2,
          3,
          0,
          2,
          0,
          2,
          1,
          1,
          1,
          4,
          1,
          4,
          0,
          3,
          0,
          2,
          5,
          3,
          2,
          2,
          3,
          3,
          7,
          1,
          3,
          0,
          0,
          5,
          1,
          1,
          2,
          2,
          3,
          2,
          0,
          3,
          3,
          1,
          6,
          4,
          2,
          8,
          4,
          0,
          0
         ],
         "yaxis": "y"
        },
        {
         "customdata": [
          [
           "Granit Xhaka"
          ],
          [
           "Mohamed Naser El Sayed Elneny"
          ],
          [
           "Thomas Partey"
          ],
          [
           "Nicolas Pépé"
          ],
          [
           "Emile Smith Rowe"
          ],
          [
           "Bukayo Saka"
          ],
          [
           "Gabriel Teodoro Martinelli Silva"
          ],
          [
           "Albert Sambi Lokonga"
          ],
          [
           "Martin Ødegaard"
          ],
          [
           "Bertrand Traoré"
          ],
          [
           "Morgan Sanson"
          ],
          [
           "John McGinn"
          ],
          [
           "Marvelous Nakamba"
          ],
          [
           "Emiliano Buendía Stati"
          ],
          [
           "Douglas Luiz Soares de Paulo"
          ],
          [
           "Jacob Ramsey"
          ],
          [
           "Leon Bailey"
          ],
          [
           "Carney Chukwuemeka"
          ],
          [
           "Philippe Coutinho Correia"
          ],
          [
           "Christian Nørgaard"
          ],
          [
           "Sergi Canós"
          ],
          [
           "Pelenda Joshua Dasilva"
          ],
          [
           "Vitaly Janelt"
          ],
          [
           "Saman Ghoddos"
          ],
          [
           "Mathias Jensen"
          ],
          [
           "Bryan Mbeumo"
          ],
          [
           "Frank Onyeka"
          ],
          [
           "Shandon Baptiste"
          ],
          [
           "Yoane Wissa"
          ],
          [
           "Christian Eriksen"
          ],
          [
           "Adam Lallana"
          ],
          [
           "Pascal Groß"
          ],
          [
           "Solomon March"
          ],
          [
           "Leandro Trossard"
          ],
          [
           "Yves Bissouma"
          ],
          [
           "Steven Alzate"
          ],
          [
           "Alexis Mac Allister"
          ],
          [
           "Jakub Moder"
          ],
          [
           "Enock Mwepu"
          ],
          [
           "Jack Cork"
          ],
          [
           "Dale Stephens"
          ],
          [
           "Ashley Westwood"
          ],
          [
           "Josh Brownhill"
          ],
          [
           "Dwight McNeil"
          ],
          [
           "Aaron Lennon"
          ],
          [
           "Maxwel Cornet"
          ],
          [
           "Jorge Luiz Frello Filho"
          ],
          [
           "Ross Barkley"
          ],
          [
           "Mateo Kovacic"
          ],
          [
           "N'Golo Kanté"
          ],
          [
           "Hakim Ziyech"
          ],
          [
           "Ruben Loftus-Cheek"
          ],
          [
           "Christian Pulisic"
          ],
          [
           "Mason Mount"
          ],
          [
           "Callum Hudson-Odoi"
          ],
          [
           "Kai Havertz"
          ],
          [
           "Saúl Ñíguez"
          ],
          [
           "Conor Gallagher"
          ],
          [
           "James McArthur"
          ],
          [
           "Luka Milivojevic"
          ],
          [
           "Wilfried Zaha"
          ],
          [
           "Jeffrey Schlupp"
          ],
          [
           "Jairo Riedewald"
          ],
          [
           "Eberechi Eze"
          ],
          [
           "Will Hughes"
          ],
          [
           "Michael Olise"
          ],
          [
           "Anwar El Ghazi"
          ],
          [
           "Fabian Delph"
          ],
          [
           "Allan Marques Loureiro"
          ],
          [
           "André Filipe Tavares Gomes"
          ],
          [
           "Abdoulaye Doucouré"
          ],
          [
           "Alex Iwobi"
          ],
          [
           "Donny van de Beek"
          ],
          [
           "Bamidele Alli"
          ],
          [
           "Andros Townsend"
          ],
          [
           "Demarai Gray"
          ],
          [
           "Anthony Gordon"
          ],
          [
           "Marc Albrighton"
          ],
          [
           "Youri Tielemans"
          ],
          [
           "Ayoze Pérez"
          ],
          [
           "James Maddison"
          ],
          [
           "Hamza Choudhury"
          ],
          [
           "Harvey Barnes"
          ],
          [
           "Wilfred Ndidi"
          ],
          [
           "Boubakary Soumaré"
          ],
          [
           "Kiernan Dewsbury-Hall"
          ],
          [
           "Ademola Lookman"
          ],
          [
           "Mateusz Klich"
          ],
          [
           "Stuart Dallas"
          ],
          [
           "Kalvin Phillips"
          ],
          [
           "Tyler Roberts"
          ],
          [
           "Raphael Dias Belloli"
          ],
          [
           "Jamie Shackleton"
          ],
          [
           "Jack Harrison"
          ],
          [
           "Daniel James"
          ],
          [
           "Crysencio Summerville"
          ],
          [
           "Adam Forshaw"
          ],
          [
           "James Milner"
          ],
          [
           "Jordan Henderson"
          ],
          [
           "Thiago Alcántara do Nascimento"
          ],
          [
           "Alex Oxlade-Chamberlain"
          ],
          [
           "Sadio Mané"
          ],
          [
           "Fabio Henrique Tavares"
          ],
          [
           "Mohamed Salah"
          ],
          [
           "Naby Keita"
          ],
          [
           "Diogo Jota"
          ],
          [
           "Curtis Jones"
          ],
          [
           "Harvey Elliott"
          ],
          [
           "Luis Díaz"
          ],
          [
           "Jack Grealish"
          ],
          [
           "Ilkay Gündogan"
          ],
          [
           "Kevin De Bruyne"
          ],
          [
           "Riyad Mahrez"
          ],
          [
           "Raheem Sterling"
          ],
          [
           "Bernardo Mota Veiga de Carvalho e Silva"
          ],
          [
           "Phil Foden"
          ],
          [
           "Rodrigo Hernandez"
          ],
          [
           "Fernando Luiz Rosa"
          ],
          [
           "Cole Palmer"
          ],
          [
           "Nemanja Matic"
          ],
          [
           "Paul Pogba"
          ],
          [
           "Frederico Rodrigues de Paula Santos"
          ],
          [
           "Jesse Lingard"
          ],
          [
           "Bruno Miguel Borges Fernandes"
          ],
          [
           "Marcus Rashford"
          ],
          [
           "Scott McTominay"
          ],
          [
           "Jadon Sancho"
          ],
          [
           "Anthony Elanga"
          ],
          [
           "Joseph Willock"
          ],
          [
           "Jonjo Shelvey"
          ],
          [
           "Ryan Fraser"
          ],
          [
           "Jacob Murphy"
          ],
          [
           "Miguel Almirón"
          ],
          [
           "Sean Longstaff"
          ],
          [
           "Billy Gilmour"
          ],
          [
           "Lukas Rupp"
          ],
          [
           "Kenny McLean"
          ],
          [
           "Kieran Dowell"
          ],
          [
           "Przemyslaw Placheta"
          ],
          [
           "Milot Rashica"
          ],
          [
           "Pierre Lees-Melou"
          ],
          [
           "Christos Tzolis"
          ],
          [
           "Mathias Normann"
          ],
          [
           "Theo Walcott"
          ],
          [
           "Oriol Romeu Vidal"
          ],
          [
           "Nathan Redmond"
          ],
          [
           "Stuart Armstrong"
          ],
          [
           "James Ward-Prowse"
          ],
          [
           "Nathan Tella"
          ],
          [
           "Ibrahima Diallo"
          ],
          [
           "Moussa Djenepo"
          ],
          [
           "Mohamed Elyounoussi"
          ],
          [
           "Heung-Min Son"
          ],
          [
           "Lucas Rodrigues Moura da Silva"
          ],
          [
           "Pierre-Emile Højbjerg"
          ],
          [
           "Harry Winks"
          ],
          [
           "Steven Bergwijn"
          ],
          [
           "Dejan Kulusevski"
          ],
          [
           "Rodrigo Bentancur"
          ],
          [
           "Moussa Sissoko"
          ],
          [
           "Tom Cleverley"
          ],
          [
           "Ken Sema"
          ],
          [
           "Imrân Louza"
          ],
          [
           "Oghenekaro Peter Etebo"
          ],
          [
           "Juraj Kucka"
          ],
          [
           "Edo Kayembe"
          ],
          [
           "Mark Noble"
          ],
          [
           "Manuel Lanzini"
          ],
          [
           "Saïd Benrahma"
          ],
          [
           "Jarrod Bowen"
          ],
          [
           "Declan Rice"
          ],
          [
           "Tomas Soucek"
          ],
          [
           "Pablo Fornals"
          ],
          [
           "Nikola Vlasic"
          ],
          [
           "João Filipe Iria Santos Moutinho"
          ],
          [
           "Leander Dendoncker"
          ],
          [
           "Rúben Diogo da Silva Neves"
          ],
          [
           "Daniel Castelo Podence"
          ],
          [
           "Pedro Lomba Neto"
          ],
          [
           "Francisco Machado Mota de Castro Trincão"
          ]
         ],
         "hovertemplate": "element_type=Midfielder<br>xA=%{x}<br>assists=%{y}<br>player_name=%{customdata[0]}<extra></extra>",
         "legendgroup": "Midfielder",
         "marker": {
          "color": "Orange",
          "symbol": "circle"
         },
         "mode": "markers",
         "name": "Midfielder",
         "orientation": "v",
         "showlegend": true,
         "type": "scatter",
         "x": [
          1.1968239024281502,
          0.0942674651741981,
          0.8076088428497314,
          1.2396217733621595,
          2.6996852066367865,
          5.2096878327429295,
          2.048186272382736,
          0.6833233442157507,
          4.32984484732151,
          0,
          0,
          3.545507083646953,
          0.0453882701694965,
          3.0482456907629967,
          1.7401841459795833,
          1.4292752258479595,
          0.2306462302803993,
          0.9877788871526718,
          1.8116121627390385,
          2.7980521647259597,
          1.9569158479571345,
          0.1009131148457527,
          1.0265479311347008,
          1.1907195542007685,
          2.679550819098949,
          2.2574979290366173,
          0.1635155109688639,
          0.440178882330656,
          0.1857357993721962,
          0.0651361346244812,
          0.9317839946597816,
          3.920845087617636,
          2.304372796788812,
          2.001511987298727,
          0.5288825668394566,
          0.1467899084091186,
          1.2409310368821025,
          2.582662910223007,
          1.0714490823447704,
          0.1356595484539866,
          0.0172725114971399,
          3.9052777253091335,
          1.3243898339569569,
          3.25325979012996,
          0.2082181125879287,
          0.6911471858620644,
          2.147456353530288,
          0.5811443775892258,
          3.094632158055901,
          1.266227620653808,
          2.4087133333086967,
          1.350813094526529,
          0.8385996799916029,
          4.4501639790833,
          2.6389927733689547,
          1.2343621794134378,
          0.0886712670326232,
          3.888116180896759,
          1.097993707284331,
          0.5382447391748428,
          3.740637719631195,
          1.4884518831968307,
          0.053624365478754,
          0.0738932341337204,
          0.9000852331519127,
          4.212422616779804,
          0.2625086233019829,
          0.0194574072957038,
          0.5895537557080388,
          0.1564361816272139,
          1.8035241570323703,
          2.12492298707366,
          0.4375310707837343,
          1.0847909078001976,
          2.849117286503315,
          2.3550217747688293,
          1.950473761186004,
          1.2729843957349658,
          3.0975198075175285,
          1.0273897796869278,
          2.707218838855624,
          0,
          2.5724790692329407,
          0.0464392937719821,
          0.2148307561874389,
          1.4079832956194878,
          1.6659838072955608,
          1.4319527260959148,
          2.710592912510037,
          1.1149944383651018,
          1.4724860806018114,
          4.8272016160190105,
          0.0133305806666612,
          2.221284845843911,
          3.2666263319551945,
          0.0137273948639631,
          1.020045405253768,
          1.4986780621111393,
          3.85290464386344,
          1.153689492493868,
          1.2662947922945025,
          4.493414713069797,
          0.7719865310937166,
          7.715996598824859,
          1.3182651959359646,
          4.069446869194508,
          0.4768154192715883,
          0.4289150834083557,
          0.6675181211903691,
          3.4286717595532537,
          4.396434424445033,
          6.178842589259148,
          3.3017299817875028,
          3.5034336298704147,
          5.521851738914847,
          4.960145428776741,
          2.432457145303488,
          1.1635784972459078,
          0.44644495844841,
          1.005657298490405,
          3.8411444146186113,
          2.00665476731956,
          0.1596688609570264,
          8.171122238971293,
          2.4275266602635384,
          1.591099115088582,
          2.8592875953763723,
          0.6244650781154633,
          0.97156392224133,
          0.6482462994754314,
          1.8311872445046904,
          1.1196923577226698,
          0.7572217243723571,
          0.2898642942309379,
          0.9906700486317276,
          1.2350856140255928,
          0.8784443773329258,
          0.2034686114639043,
          0.0705275386571884,
          1.1364759942516685,
          1.207797098904848,
          0.7744668982923031,
          0.4558039531111717,
          0.0219031609594821,
          1.855612138286233,
          3.376613602042198,
          0.9638911578804256,
          4.769592544063926,
          0.5362992808222771,
          0.9301615059375764,
          0.2697713356465101,
          1.7858063150197268,
          5.381975241005421,
          4.045006565749645,
          1.2383815478533506,
          1.5235148128122091,
          0.7698730677366257,
          2.082548808306456,
          0.0892646536231041,
          1.268353425897658,
          1.2796033499762416,
          0.6261508855968714,
          0.4824371226131916,
          0.1159275881946086,
          0.74985596165061,
          0.350892961025238,
          0,
          1.7695809174329042,
          3.400549829006195,
          5.058655148372054,
          1.3874680008739233,
          2.0042219161987305,
          4.454509619623423,
          0.4924897104501724,
          2.247436448931694,
          0.935354808345437,
          1.6281064357608557,
          3.3647749852389097,
          0.0926504824310541,
          0.9992841091006994
         ],
         "xaxis": "x",
         "y": [
          1,
          1,
          1,
          3,
          2,
          6,
          3,
          0,
          3,
          1,
          0,
          2,
          0,
          3,
          3,
          1,
          3,
          1,
          3,
          2,
          3,
          0,
          0,
          2,
          1,
          3,
          2,
          0,
          0,
          0,
          1,
          3,
          1,
          1,
          1,
          0,
          2,
          3,
          4,
          0,
          0,
          4,
          1,
          1,
          1,
          0,
          1,
          0,
          5,
          2,
          2,
          3,
          1,
          7,
          4,
          2,
          1,
          6,
          3,
          0,
          1,
          2,
          0,
          0,
          2,
          5,
          1,
          0,
          3,
          1,
          5,
          1,
          0,
          0,
          2,
          3,
          2,
          1,
          2,
          2,
          6,
          0,
          7,
          1,
          1,
          1,
          0,
          2,
          1,
          1,
          1,
          2,
          1,
          1,
          3,
          0,
          1,
          1,
          5,
          1,
          1,
          4,
          1,
          11,
          1,
          3,
          1,
          0,
          0,
          2,
          5,
          3,
          5,
          3,
          6,
          4,
          1,
          1,
          1,
          2,
          9,
          4,
          0,
          6,
          2,
          2,
          3,
          0,
          1,
          0,
          5,
          3,
          0,
          1,
          1,
          0,
          0,
          0,
          0,
          2,
          1,
          0,
          1,
          0,
          1,
          6,
          0,
          4,
          0,
          3,
          0,
          1,
          7,
          4,
          3,
          2,
          2,
          3,
          0,
          1,
          2,
          0,
          0,
          0,
          0,
          0,
          0,
          2,
          4,
          13,
          4,
          1,
          3,
          0,
          1,
          3,
          1,
          2,
          0,
          0
         ],
         "yaxis": "y"
        }
       ],
       "layout": {
        "legend": {
         "title": {
          "text": "element_type"
         },
         "tracegroupgap": 0
        },
        "template": {
         "data": {
          "bar": [
           {
            "error_x": {
             "color": "#2a3f5f"
            },
            "error_y": {
             "color": "#2a3f5f"
            },
            "marker": {
             "line": {
              "color": "#E5ECF6",
              "width": 0.5
             },
             "pattern": {
              "fillmode": "overlay",
              "size": 10,
              "solidity": 0.2
             }
            },
            "type": "bar"
           }
          ],
          "barpolar": [
           {
            "marker": {
             "line": {
              "color": "#E5ECF6",
              "width": 0.5
             },
             "pattern": {
              "fillmode": "overlay",
              "size": 10,
              "solidity": 0.2
             }
            },
            "type": "barpolar"
           }
          ],
          "carpet": [
           {
            "aaxis": {
             "endlinecolor": "#2a3f5f",
             "gridcolor": "white",
             "linecolor": "white",
             "minorgridcolor": "white",
             "startlinecolor": "#2a3f5f"
            },
            "baxis": {
             "endlinecolor": "#2a3f5f",
             "gridcolor": "white",
             "linecolor": "white",
             "minorgridcolor": "white",
             "startlinecolor": "#2a3f5f"
            },
            "type": "carpet"
           }
          ],
          "choropleth": [
           {
            "colorbar": {
             "outlinewidth": 0,
             "ticks": ""
            },
            "type": "choropleth"
           }
          ],
          "contour": [
           {
            "colorbar": {
             "outlinewidth": 0,
             "ticks": ""
            },
            "colorscale": [
             [
              0,
              "#0d0887"
             ],
             [
              0.1111111111111111,
              "#46039f"
             ],
             [
              0.2222222222222222,
              "#7201a8"
             ],
             [
              0.3333333333333333,
              "#9c179e"
             ],
             [
              0.4444444444444444,
              "#bd3786"
             ],
             [
              0.5555555555555556,
              "#d8576b"
             ],
             [
              0.6666666666666666,
              "#ed7953"
             ],
             [
              0.7777777777777778,
              "#fb9f3a"
             ],
             [
              0.8888888888888888,
              "#fdca26"
             ],
             [
              1,
              "#f0f921"
             ]
            ],
            "type": "contour"
           }
          ],
          "contourcarpet": [
           {
            "colorbar": {
             "outlinewidth": 0,
             "ticks": ""
            },
            "type": "contourcarpet"
           }
          ],
          "heatmap": [
           {
            "colorbar": {
             "outlinewidth": 0,
             "ticks": ""
            },
            "colorscale": [
             [
              0,
              "#0d0887"
             ],
             [
              0.1111111111111111,
              "#46039f"
             ],
             [
              0.2222222222222222,
              "#7201a8"
             ],
             [
              0.3333333333333333,
              "#9c179e"
             ],
             [
              0.4444444444444444,
              "#bd3786"
             ],
             [
              0.5555555555555556,
              "#d8576b"
             ],
             [
              0.6666666666666666,
              "#ed7953"
             ],
             [
              0.7777777777777778,
              "#fb9f3a"
             ],
             [
              0.8888888888888888,
              "#fdca26"
             ],
             [
              1,
              "#f0f921"
             ]
            ],
            "type": "heatmap"
           }
          ],
          "heatmapgl": [
           {
            "colorbar": {
             "outlinewidth": 0,
             "ticks": ""
            },
            "colorscale": [
             [
              0,
              "#0d0887"
             ],
             [
              0.1111111111111111,
              "#46039f"
             ],
             [
              0.2222222222222222,
              "#7201a8"
             ],
             [
              0.3333333333333333,
              "#9c179e"
             ],
             [
              0.4444444444444444,
              "#bd3786"
             ],
             [
              0.5555555555555556,
              "#d8576b"
             ],
             [
              0.6666666666666666,
              "#ed7953"
             ],
             [
              0.7777777777777778,
              "#fb9f3a"
             ],
             [
              0.8888888888888888,
              "#fdca26"
             ],
             [
              1,
              "#f0f921"
             ]
            ],
            "type": "heatmapgl"
           }
          ],
          "histogram": [
           {
            "marker": {
             "pattern": {
              "fillmode": "overlay",
              "size": 10,
              "solidity": 0.2
             }
            },
            "type": "histogram"
           }
          ],
          "histogram2d": [
           {
            "colorbar": {
             "outlinewidth": 0,
             "ticks": ""
            },
            "colorscale": [
             [
              0,
              "#0d0887"
             ],
             [
              0.1111111111111111,
              "#46039f"
             ],
             [
              0.2222222222222222,
              "#7201a8"
             ],
             [
              0.3333333333333333,
              "#9c179e"
             ],
             [
              0.4444444444444444,
              "#bd3786"
             ],
             [
              0.5555555555555556,
              "#d8576b"
             ],
             [
              0.6666666666666666,
              "#ed7953"
             ],
             [
              0.7777777777777778,
              "#fb9f3a"
             ],
             [
              0.8888888888888888,
              "#fdca26"
             ],
             [
              1,
              "#f0f921"
             ]
            ],
            "type": "histogram2d"
           }
          ],
          "histogram2dcontour": [
           {
            "colorbar": {
             "outlinewidth": 0,
             "ticks": ""
            },
            "colorscale": [
             [
              0,
              "#0d0887"
             ],
             [
              0.1111111111111111,
              "#46039f"
             ],
             [
              0.2222222222222222,
              "#7201a8"
             ],
             [
              0.3333333333333333,
              "#9c179e"
             ],
             [
              0.4444444444444444,
              "#bd3786"
             ],
             [
              0.5555555555555556,
              "#d8576b"
             ],
             [
              0.6666666666666666,
              "#ed7953"
             ],
             [
              0.7777777777777778,
              "#fb9f3a"
             ],
             [
              0.8888888888888888,
              "#fdca26"
             ],
             [
              1,
              "#f0f921"
             ]
            ],
            "type": "histogram2dcontour"
           }
          ],
          "mesh3d": [
           {
            "colorbar": {
             "outlinewidth": 0,
             "ticks": ""
            },
            "type": "mesh3d"
           }
          ],
          "parcoords": [
           {
            "line": {
             "colorbar": {
              "outlinewidth": 0,
              "ticks": ""
             }
            },
            "type": "parcoords"
           }
          ],
          "pie": [
           {
            "automargin": true,
            "type": "pie"
           }
          ],
          "scatter": [
           {
            "marker": {
             "colorbar": {
              "outlinewidth": 0,
              "ticks": ""
             }
            },
            "type": "scatter"
           }
          ],
          "scatter3d": [
           {
            "line": {
             "colorbar": {
              "outlinewidth": 0,
              "ticks": ""
             }
            },
            "marker": {
             "colorbar": {
              "outlinewidth": 0,
              "ticks": ""
             }
            },
            "type": "scatter3d"
           }
          ],
          "scattercarpet": [
           {
            "marker": {
             "colorbar": {
              "outlinewidth": 0,
              "ticks": ""
             }
            },
            "type": "scattercarpet"
           }
          ],
          "scattergeo": [
           {
            "marker": {
             "colorbar": {
              "outlinewidth": 0,
              "ticks": ""
             }
            },
            "type": "scattergeo"
           }
          ],
          "scattergl": [
           {
            "marker": {
             "colorbar": {
              "outlinewidth": 0,
              "ticks": ""
             }
            },
            "type": "scattergl"
           }
          ],
          "scattermapbox": [
           {
            "marker": {
             "colorbar": {
              "outlinewidth": 0,
              "ticks": ""
             }
            },
            "type": "scattermapbox"
           }
          ],
          "scatterpolar": [
           {
            "marker": {
             "colorbar": {
              "outlinewidth": 0,
              "ticks": ""
             }
            },
            "type": "scatterpolar"
           }
          ],
          "scatterpolargl": [
           {
            "marker": {
             "colorbar": {
              "outlinewidth": 0,
              "ticks": ""
             }
            },
            "type": "scatterpolargl"
           }
          ],
          "scatterternary": [
           {
            "marker": {
             "colorbar": {
              "outlinewidth": 0,
              "ticks": ""
             }
            },
            "type": "scatterternary"
           }
          ],
          "surface": [
           {
            "colorbar": {
             "outlinewidth": 0,
             "ticks": ""
            },
            "colorscale": [
             [
              0,
              "#0d0887"
             ],
             [
              0.1111111111111111,
              "#46039f"
             ],
             [
              0.2222222222222222,
              "#7201a8"
             ],
             [
              0.3333333333333333,
              "#9c179e"
             ],
             [
              0.4444444444444444,
              "#bd3786"
             ],
             [
              0.5555555555555556,
              "#d8576b"
             ],
             [
              0.6666666666666666,
              "#ed7953"
             ],
             [
              0.7777777777777778,
              "#fb9f3a"
             ],
             [
              0.8888888888888888,
              "#fdca26"
             ],
             [
              1,
              "#f0f921"
             ]
            ],
            "type": "surface"
           }
          ],
          "table": [
           {
            "cells": {
             "fill": {
              "color": "#EBF0F8"
             },
             "line": {
              "color": "white"
             }
            },
            "header": {
             "fill": {
              "color": "#C8D4E3"
             },
             "line": {
              "color": "white"
             }
            },
            "type": "table"
           }
          ]
         },
         "layout": {
          "annotationdefaults": {
           "arrowcolor": "#2a3f5f",
           "arrowhead": 0,
           "arrowwidth": 1
          },
          "autotypenumbers": "strict",
          "coloraxis": {
           "colorbar": {
            "outlinewidth": 0,
            "ticks": ""
           }
          },
          "colorscale": {
           "diverging": [
            [
             0,
             "#8e0152"
            ],
            [
             0.1,
             "#c51b7d"
            ],
            [
             0.2,
             "#de77ae"
            ],
            [
             0.3,
             "#f1b6da"
            ],
            [
             0.4,
             "#fde0ef"
            ],
            [
             0.5,
             "#f7f7f7"
            ],
            [
             0.6,
             "#e6f5d0"
            ],
            [
             0.7,
             "#b8e186"
            ],
            [
             0.8,
             "#7fbc41"
            ],
            [
             0.9,
             "#4d9221"
            ],
            [
             1,
             "#276419"
            ]
           ],
           "sequential": [
            [
             0,
             "#0d0887"
            ],
            [
             0.1111111111111111,
             "#46039f"
            ],
            [
             0.2222222222222222,
             "#7201a8"
            ],
            [
             0.3333333333333333,
             "#9c179e"
            ],
            [
             0.4444444444444444,
             "#bd3786"
            ],
            [
             0.5555555555555556,
             "#d8576b"
            ],
            [
             0.6666666666666666,
             "#ed7953"
            ],
            [
             0.7777777777777778,
             "#fb9f3a"
            ],
            [
             0.8888888888888888,
             "#fdca26"
            ],
            [
             1,
             "#f0f921"
            ]
           ],
           "sequentialminus": [
            [
             0,
             "#0d0887"
            ],
            [
             0.1111111111111111,
             "#46039f"
            ],
            [
             0.2222222222222222,
             "#7201a8"
            ],
            [
             0.3333333333333333,
             "#9c179e"
            ],
            [
             0.4444444444444444,
             "#bd3786"
            ],
            [
             0.5555555555555556,
             "#d8576b"
            ],
            [
             0.6666666666666666,
             "#ed7953"
            ],
            [
             0.7777777777777778,
             "#fb9f3a"
            ],
            [
             0.8888888888888888,
             "#fdca26"
            ],
            [
             1,
             "#f0f921"
            ]
           ]
          },
          "colorway": [
           "#636efa",
           "#EF553B",
           "#00cc96",
           "#ab63fa",
           "#FFA15A",
           "#19d3f3",
           "#FF6692",
           "#B6E880",
           "#FF97FF",
           "#FECB52"
          ],
          "font": {
           "color": "#2a3f5f"
          },
          "geo": {
           "bgcolor": "white",
           "lakecolor": "white",
           "landcolor": "#E5ECF6",
           "showlakes": true,
           "showland": true,
           "subunitcolor": "white"
          },
          "hoverlabel": {
           "align": "left"
          },
          "hovermode": "closest",
          "mapbox": {
           "style": "light"
          },
          "paper_bgcolor": "white",
          "plot_bgcolor": "#E5ECF6",
          "polar": {
           "angularaxis": {
            "gridcolor": "white",
            "linecolor": "white",
            "ticks": ""
           },
           "bgcolor": "#E5ECF6",
           "radialaxis": {
            "gridcolor": "white",
            "linecolor": "white",
            "ticks": ""
           }
          },
          "scene": {
           "xaxis": {
            "backgroundcolor": "#E5ECF6",
            "gridcolor": "white",
            "gridwidth": 2,
            "linecolor": "white",
            "showbackground": true,
            "ticks": "",
            "zerolinecolor": "white"
           },
           "yaxis": {
            "backgroundcolor": "#E5ECF6",
            "gridcolor": "white",
            "gridwidth": 2,
            "linecolor": "white",
            "showbackground": true,
            "ticks": "",
            "zerolinecolor": "white"
           },
           "zaxis": {
            "backgroundcolor": "#E5ECF6",
            "gridcolor": "white",
            "gridwidth": 2,
            "linecolor": "white",
            "showbackground": true,
            "ticks": "",
            "zerolinecolor": "white"
           }
          },
          "shapedefaults": {
           "line": {
            "color": "#2a3f5f"
           }
          },
          "ternary": {
           "aaxis": {
            "gridcolor": "white",
            "linecolor": "white",
            "ticks": ""
           },
           "baxis": {
            "gridcolor": "white",
            "linecolor": "white",
            "ticks": ""
           },
           "bgcolor": "#E5ECF6",
           "caxis": {
            "gridcolor": "white",
            "linecolor": "white",
            "ticks": ""
           }
          },
          "title": {
           "x": 0.05
          },
          "xaxis": {
           "automargin": true,
           "gridcolor": "white",
           "linecolor": "white",
           "ticks": "",
           "title": {
            "standoff": 15
           },
           "zerolinecolor": "white",
           "zerolinewidth": 2
          },
          "yaxis": {
           "automargin": true,
           "gridcolor": "white",
           "linecolor": "white",
           "ticks": "",
           "title": {
            "standoff": 15
           },
           "zerolinecolor": "white",
           "zerolinewidth": 2
          }
         }
        },
        "title": {
         "text": "Assists provided vs xA"
        },
        "xaxis": {
         "anchor": "y",
         "domain": [
          0,
          1
         ],
         "title": {
          "text": "xA"
         }
        },
        "yaxis": {
         "anchor": "x",
         "domain": [
          0,
          1
         ],
         "title": {
          "text": "assists"
         }
        }
       }
      }
     },
     "metadata": {},
     "output_type": "display_data"
    }
   ],
   "source": [
    "px.scatter(df, \n",
    "           x='xA', y='assists',\n",
    "           color='element_type',\n",
    "           color_discrete_map=position_colors,\n",
    "           hover_data= ['player_name'],\n",
    "           title='Assists provided vs xA'\n",
    "              )\n",
    "\n",
    "#sns.scatterplot(x = df['xA'], y = df['assists'], hue=df['element_type'], palette=position_colors)"
   ]
  },
  {
   "cell_type": "code",
   "execution_count": 98,
   "metadata": {},
   "outputs": [
    {
     "data": {
      "application/vnd.plotly.v1+json": {
       "config": {
        "plotlyServerURL": "https://plot.ly"
       },
       "data": [
        {
         "customdata": [
          [
           "Bernd Leno"
          ],
          [
           "Aaron Ramsdale"
          ],
          [
           "Emiliano Martínez"
          ],
          [
           "David Raya Martin"
          ],
          [
           "Álvaro Fernández"
          ],
          [
           "Jonas Lössl"
          ],
          [
           "Jason Steele"
          ],
          [
           "Robert Sánchez"
          ],
          [
           "Nick Pope"
          ],
          [
           "Wayne Hennessey"
          ],
          [
           "Kepa Arrizabalaga"
          ],
          [
           "Edouard Mendy"
          ],
          [
           "Vicente Guaita"
          ],
          [
           "Jack Butland"
          ],
          [
           "Jordan Pickford"
          ],
          [
           "Asmir Begović"
          ],
          [
           "Kasper Schmeichel"
          ],
          [
           "Illan Meslier"
          ],
          [
           "Alisson Ramses Becker"
          ],
          [
           "Caoimhin Kelleher"
          ],
          [
           "Ederson Santana de Moraes"
          ],
          [
           "Zack Steffen"
          ],
          [
           "David de Gea"
          ],
          [
           "Karl Darlow"
          ],
          [
           "Martin Dubravka"
          ],
          [
           "Tim Krul"
          ],
          [
           "Angus Gunn"
          ],
          [
           "Fraser Forster"
          ],
          [
           "Willy Caballero"
          ],
          [
           "Hugo Lloris"
          ],
          [
           "Ben Foster"
          ],
          [
           "Daniel Bachmann"
          ],
          [
           "Lukasz Fabianski"
          ],
          [
           "Alphonse Areola"
          ],
          [
           "José Malheiro de Sá"
          ]
         ],
         "hovertemplate": "element_type=Goalkeeper<br>xA=%{x}<br>xG=%{y}<br>player_name=%{customdata[0]}<extra></extra>",
         "legendgroup": "Goalkeeper",
         "marker": {
          "color": "red",
          "symbol": "circle"
         },
         "mode": "markers",
         "name": "Goalkeeper",
         "orientation": "v",
         "showlegend": true,
         "type": "scatter",
         "x": [
          0,
          0,
          0,
          0,
          0,
          0,
          0,
          0.6362467408180237,
          0.0706123113632202,
          0.1527586430311203,
          0,
          0,
          0,
          0,
          0.0770951267331838,
          0,
          0.015869190916419,
          0,
          0.1280679851770401,
          0,
          0,
          0,
          0,
          0,
          0,
          0,
          0,
          0,
          0,
          0.2063242979347705,
          0.0675887167453765,
          0,
          0,
          0,
          0.3950190395116806
         ],
         "xaxis": "x",
         "y": [
          0,
          0,
          0,
          0,
          0,
          0,
          0,
          0,
          0,
          0,
          0,
          0,
          0,
          0,
          0,
          0,
          0,
          0,
          0,
          0,
          0,
          0,
          0,
          0,
          0,
          0,
          0,
          0,
          0,
          0,
          0,
          0,
          0,
          0,
          0
         ],
         "yaxis": "y"
        },
        {
         "customdata": [
          [
           "Cédric Soares"
          ],
          [
           "Rob Holding"
          ],
          [
           "Kieran Tierney"
          ],
          [
           "Gabriel Magalhães"
          ],
          [
           "Ben White"
          ],
          [
           "Nuno Varela Tavares"
          ],
          [
           "Takehiro Tomiyasu"
          ],
          [
           "Calum Chambers"
          ],
          [
           "Kortney Hause"
          ],
          [
           "Tyrone Mings"
          ],
          [
           "Matthew Cash"
          ],
          [
           "Ezri Konsa Ngoyo"
          ],
          [
           "Ashley Young"
          ],
          [
           "Lucas Digne"
          ],
          [
           "Pontus Jansson"
          ],
          [
           "Rico Henry"
          ],
          [
           "Mads Roerslev Rasmussen"
          ],
          [
           "Mads Bech Sørensen"
          ],
          [
           "Ethan Pinnock"
          ],
          [
           "Kristoffer Ajer"
          ],
          [
           "Mathias Jorgensen"
          ],
          [
           "Shane Duffy"
          ],
          [
           "Lewis Dunk"
          ],
          [
           "Adam Webster"
          ],
          [
           "Joël Veltman"
          ],
          [
           "Tariq Lamptey"
          ],
          [
           "Marc Cucurella"
          ],
          [
           "James Tarkowski"
          ],
          [
           "Erik Pieters"
          ],
          [
           "Ben Mee"
          ],
          [
           "Matthew Lowton"
          ],
          [
           "Charlie Taylor"
          ],
          [
           "Nathan Collins"
          ],
          [
           "Connor Roberts"
          ],
          [
           "César Azpilicueta"
          ],
          [
           "Thiago Emiliano da Silva"
          ],
          [
           "Marcos Alonso"
          ],
          [
           "Antonio Rüdiger"
          ],
          [
           "Andreas Christensen"
          ],
          [
           "Benjamin Chilwell"
          ],
          [
           "Reece James"
          ],
          [
           "Malang Sarr"
          ],
          [
           "Trevoh Chalobah"
          ],
          [
           "James Tomkins"
          ],
          [
           "Cheikhou Kouyaté"
          ],
          [
           "Tyrick Mitchell"
          ],
          [
           "Joel Ward"
          ],
          [
           "Marc Guéhi"
          ],
          [
           "Joachim Andersen"
          ],
          [
           "Nathaniel Clyne"
          ],
          [
           "Seamus Coleman"
          ],
          [
           "Michael Keane"
          ],
          [
           "Yerry Mina"
          ],
          [
           "Mason Holgate"
          ],
          [
           "Ben Godfrey"
          ],
          [
           "Jonjoe Kenny"
          ],
          [
           "Jarrad Branthwaite"
          ],
          [
           "Vitalii Mykolenko"
          ],
          [
           "Jonny Evans"
          ],
          [
           "Ricardo Domingos Barbosa Pereira"
          ],
          [
           "Daniel Amartey"
          ],
          [
           "Timothy Castagne"
          ],
          [
           "Çaglar Söyüncü"
          ],
          [
           "James Justin"
          ],
          [
           "Luke Thomas"
          ],
          [
           "Jannik Vestergaard"
          ],
          [
           "Liam Cooper"
          ],
          [
           "Luke Ayling"
          ],
          [
           "Diego Llorente"
          ],
          [
           "Robin Koch"
          ],
          [
           "Pascal Struijk"
          ],
          [
           "Héctor Junior Firpo Adames"
          ],
          [
           "Charlie Cresswell"
          ],
          [
           "Joel Matip"
          ],
          [
           "Virgil van Dijk"
          ],
          [
           "Andrew Robertson"
          ],
          [
           "Trent Alexander-Arnold"
          ],
          [
           "Joseph Gomez"
          ],
          [
           "Ibrahima Konaté"
          ],
          [
           "Konstantinos Tsimikas"
          ],
          [
           "Kyle Walker"
          ],
          [
           "John Stones"
          ],
          [
           "João Pedro Cavaco Cancelo"
          ],
          [
           "Nathan Aké"
          ],
          [
           "Aymeric Laporte"
          ],
          [
           "Rúben Santos Gato Alves Dias"
          ],
          [
           "Oleksandr Zinchenko"
          ],
          [
           "Harry Maguire"
          ],
          [
           "Luke Shaw"
          ],
          [
           "Alex Nicolao Telles"
          ],
          [
           "Victor Lindelöf"
          ],
          [
           "Eric Bailly"
          ],
          [
           "Aaron Wan-Bissaka"
          ],
          [
           "José Diogo Dalot Teixeira"
          ],
          [
           "Raphaël Varane"
          ],
          [
           "Phil Jones"
          ],
          [
           "Matt Targett"
          ],
          [
           "Dan Burn"
          ],
          [
           "Matt Ritchie"
          ],
          [
           "Jamaal Lascelles"
          ],
          [
           "Paul Dummett"
          ],
          [
           "Javier Manquillo"
          ],
          [
           "Emil Krafth"
          ],
          [
           "Fabian Schär"
          ],
          [
           "Federico Fernández"
          ],
          [
           "Brandon Williams"
          ],
          [
           "Grant Hanley"
          ],
          [
           "Sam Byram"
          ],
          [
           "Max Aarons"
          ],
          [
           "Jacob Sørensen"
          ],
          [
           "Ben Gibson"
          ],
          [
           "Dimitris Giannoulis"
          ],
          [
           "Ozan Kabak"
          ],
          [
           "Jack Stephens"
          ],
          [
           "Kyle Walker-Peters"
          ],
          [
           "Jan Bednarek"
          ],
          [
           "Mohammed Salisu"
          ],
          [
           "Romain Perraud"
          ],
          [
           "Tino Livramento"
          ],
          [
           "Yan Valery"
          ],
          [
           "Lyanco Evangelista Silveira Neves Vojnovic"
          ],
          [
           "Matt Doherty"
          ],
          [
           "Eric Dier"
          ],
          [
           "Ben Davies"
          ],
          [
           "Davinson Sánchez"
          ],
          [
           "Ryan Sessegnon"
          ],
          [
           "Sergio Reguilón"
          ],
          [
           "Cristian Romero"
          ],
          [
           "Emerson Aparecido Leite de Souza Junior"
          ],
          [
           "Emerson Aparecido Leite de Souza Junior"
          ],
          [
           "Craig Cathcart"
          ],
          [
           "Francisco Femenía Far"
          ],
          [
           "Christian Kabasele"
          ],
          [
           "William Troost-Ekong"
          ],
          [
           "Adam Masina"
          ],
          [
           "Francisco Sierralta"
          ],
          [
           "Jeremy Ngakia"
          ],
          [
           "Nicolas Nkoulou"
          ],
          [
           "Hassane Kamara"
          ],
          [
           "Samir Caetano de Souza Santos"
          ],
          [
           "Kurt Zouma"
          ],
          [
           "Aaron Cresswell"
          ],
          [
           "Craig Dawson"
          ],
          [
           "Ryan Fredericks"
          ],
          [
           "Arthur Masuaku"
          ],
          [
           "Issa Diop"
          ],
          [
           "Ben Johnson"
          ],
          [
           "Conor Coady"
          ],
          [
           "Romain Saïss"
          ],
          [
           "Fernando Marçal"
          ],
          [
           "Jonathan Castro Otto"
          ],
          [
           "Nélson Cabral Semedo"
          ],
          [
           "Max Kilman"
          ],
          [
           "Ki-Jana Hoever"
          ],
          [
           "Rayan Ait Nouri"
          ],
          [
           "Toti António Gomes"
          ]
         ],
         "hovertemplate": "element_type=Defender<br>xA=%{x}<br>xG=%{y}<br>player_name=%{customdata[0]}<extra></extra>",
         "legendgroup": "Defender",
         "marker": {
          "color": "blue",
          "symbol": "circle"
         },
         "mode": "markers",
         "name": "Defender",
         "orientation": "v",
         "showlegend": true,
         "type": "scatter",
         "x": [
          0.3677573464810848,
          0,
          1.150213511660695,
          0.1794012859463691,
          1.134619476273656,
          0.8272398812696338,
          0.8683442883193493,
          0.0555610507726669,
          0,
          1.1146674118936062,
          2.56251790560782,
          0.2706998288631439,
          0.3717363448813557,
          2.405578799545765,
          0.4942300096154213,
          0.5246701184660196,
          0.6295122681185603,
          0.1333552990108728,
          1.7245037853717804,
          0.9794593304395676,
          0.0767927952110767,
          0.0819577015936374,
          0.095023937523365,
          0.0369059294462204,
          1.4837300069630146,
          2.203330250456929,
          1.967729679308832,
          0.2838664501905441,
          0.0204200576990842,
          1.2749733906239271,
          2.0866365376859903,
          1.6444662027060986,
          0.5499800555408001,
          0.3161044120788574,
          1.8986496347934008,
          0.1812903899699449,
          2.961708150804043,
          0.7046160791069269,
          0.1679816264659166,
          0.8330149557441473,
          4.61812474578619,
          0.361977607011795,
          0.1202509701251983,
          0.3527828902006149,
          0.5975878108292818,
          1.8649194464087488,
          0.3251228369772434,
          0.1303826114162802,
          0.5206340784206986,
          0.034269593656063,
          0.5437640883028507,
          1.3396282345056534,
          0,
          0,
          0.6254459293559194,
          0.3345212452113628,
          0,
          0,
          0.4210729673504829,
          0.8321368303149939,
          0.1808526515960693,
          0.3571612723171711,
          0.0689336881041526,
          0.238167442381382,
          1.3112468998879194,
          0.0672715455293655,
          0.0830003097653389,
          1.9833142841234803,
          0.0478120651096105,
          0.081685833632946,
          0.3201574701815843,
          1.729521432891488,
          0,
          0.8033009953796864,
          1.4132683537900448,
          4.736449524760246,
          10.791974158026278,
          0.0410771481692791,
          0,
          1.7341715060174463,
          2.4091113917529583,
          0.0998304821550846,
          3.663659673184157,
          0.617275595664978,
          0.397720230743289,
          2.5079004913568497,
          0.6696433834731579,
          0.0503690363839268,
          3.610125934705138,
          1.14950861223042,
          0.6558026969432831,
          0,
          0.9214210398495196,
          0.466738823801279,
          0.1297597084194421,
          0,
          2.942847195081413,
          0.6954153571277857,
          1.9647234054282308,
          0.2316509298980236,
          0,
          0.4709691517055034,
          0.8791877049952745,
          1.2566925399005413,
          0.2842389643192291,
          1.7965036733075976,
          0.2979576885700226,
          0.1200375482439994,
          1.4177726674824953,
          0,
          0.1156430328264832,
          0.410059530287981,
          0.011970798484981,
          0.2442822121083736,
          1.4295887760818005,
          0.3025858253240585,
          0.5275280196219683,
          0.2779939407482743,
          2.814353964291513,
          0.2550512850284576,
          0.1741071790456771,
          1.9641865603625772,
          1.2294063176959753,
          0.4708574563264847,
          0.1723331529647112,
          0.5429178094491363,
          3.3480468429625034,
          0.1488732025027275,
          0,
          1.9138368759304285,
          1.4212617091834543,
          2.50327941775322,
          0.0532903671264648,
          0.0705595538020134,
          0.6399356294423342,
          0,
          0.1568174585700035,
          0.0129845160990953,
          0.562067405320704,
          0,
          0.0838833805173635,
          2.7334696128964424,
          0.6956739276647568,
          0.0535743311047554,
          0.7584338430315256,
          0.2918313443660736,
          0.4671482313424349,
          0.0130844162777066,
          0.3003287836909294,
          0.5654059555381536,
          0.0553075782954692,
          1.2611804734915495,
          0.1449058810248971,
          0.0863142684102058,
          1.462252995930612,
          0
         ],
         "xaxis": "x",
         "y": [
          0.0711097978055477,
          0.4889362007379532,
          0.6144812004640698,
          2.404969258233905,
          0.5055014565587044,
          0.5362575305625796,
          0.2693182500079274,
          0.0617923513054847,
          0.0640325816348195,
          1.0838445983827114,
          1.2779249204322696,
          1.1516407397575676,
          0.3852716945111751,
          0.680194241926074,
          2.239774087443948,
          1.500701205804944,
          0.2831445559859276,
          0.058680523186922,
          1.7465086551383138,
          0.2215736620128154,
          0.1421728879213333,
          0.8278952091932297,
          1.2441690703853965,
          1.3734299913048744,
          0.1447789128869772,
          0.8104112446308136,
          0.3941319193691015,
          2.3731514755636454,
          0.1498641669750213,
          2.5610949099063878,
          0.7138775950297713,
          0.108427545055747,
          0.1647187303751707,
          0.0593020999804139,
          0.7845652215182781,
          0.8720123879611492,
          1.6831710208207369,
          1.748666631989181,
          0.5500213000923395,
          1.298326052725315,
          2.0194583516567945,
          0.0206521544605493,
          0.6108458805829287,
          0.6890933271497488,
          0.1211588140577077,
          0.1674872580915689,
          0.2970032133162021,
          1.872275025583804,
          0.2915987577289343,
          0.0147142522037029,
          1.061729014851153,
          1.0053598461672664,
          0.20001863501966,
          0.9684227705001832,
          1.197433720342815,
          0.1327102091163396,
          0.5833113379776478,
          0,
          1.2847998961806295,
          0.5450267121195793,
          0.0098498305305838,
          0.0542993023991584,
          0.9512924440205096,
          0,
          0.1825287789106369,
          0.0387555845081806,
          0.1779925245791673,
          0.6557026989758015,
          1.2115023471415045,
          0.6267822459340096,
          1.0742318937554955,
          0.8288049101829529,
          0,
          1.5235314117744565,
          1.735625134781003,
          1.2669859398156404,
          1.7677459958940744,
          0,
          0.0711852312088012,
          0.6347904950380325,
          0.9035413153469564,
          0.956200510263443,
          2.988678771071136,
          0.7131218779832125,
          2.7738655852153897,
          1.7493817331269383,
          0.1570894699543714,
          1.986979840323329,
          0.1659516524523496,
          0.403148609213531,
          0.0896087167784571,
          0,
          0.1864608060568571,
          0.2965388875454664,
          0.6407903358340263,
          0,
          0.9481155686080456,
          1.2741363598033786,
          0.3662856444716453,
          0.9930624524131416,
          0,
          0.3779595121741295,
          0.1944460272789001,
          0.4890796281397342,
          0.3371330089867115,
          0.0585550479590892,
          0.689437473192811,
          0.0995188951492309,
          0.7553038271144032,
          0.1814582012593746,
          1.3600877039134502,
          0.0357109904289245,
          0.5807486493140459,
          0,
          0.2076803185045719,
          2.6034789197146893,
          0.9557187259197236,
          0.4395200423896312,
          0.9927700608968736,
          0.025073179975152,
          0.1654339917004108,
          2.2516390085220337,
          0.9650365561246872,
          1.7157062822952869,
          1.98822458460927,
          0.1728937104344368,
          2.463965270668268,
          0.1812189817428589,
          0,
          0.4199276696890592,
          0.1187146268784999,
          0.0303274914622306,
          0.416583389043808,
          0.1041933577507734,
          0.1415592636913061,
          0.0323923006653785,
          0.0784772187471389,
          0,
          0.0913975611329078,
          0.1750798281282186,
          0.640797171741724,
          0.6420307010412216,
          2.1719191633164883,
          0,
          0.0428707115352153,
          0.0286491680890321,
          0.1015413915738463,
          1.741349346935749,
          2.74473471660167,
          0.5747353369370103,
          0.0427376590669155,
          1.3051469326019287,
          1.3776240274310112,
          0.0338298976421356,
          0.3620986640453338,
          0
         ],
         "yaxis": "y"
        },
        {
         "customdata": [
          [
           "Alexandre Lacazette"
          ],
          [
           "Edward Nketiah"
          ],
          [
           "Ollie Watkins"
          ],
          [
           "Danny Ings"
          ],
          [
           "Ivan Toney"
          ],
          [
           "Neal Maupay"
          ],
          [
           "Danny Welbeck"
          ],
          [
           "Jay Rodriguez"
          ],
          [
           "Ashley Barnes"
          ],
          [
           "Wout Weghorst"
          ],
          [
           "Timo Werner"
          ],
          [
           "Romelu Lukaku"
          ],
          [
           "Christian Benteke"
          ],
          [
           "Jordan Ayew"
          ],
          [
           "Jean-Philippe Mateta"
          ],
          [
           "Odsonne Edouard"
          ],
          [
           "Dominic Calvert-Lewin"
          ],
          [
           "Richarlison de Andrade"
          ],
          [
           "Salomón Rondón"
          ],
          [
           "Jamie Vardy"
          ],
          [
           "Kelechi Iheanacho"
          ],
          [
           "Patson Daka"
          ],
          [
           "Rodrigo Moreno"
          ],
          [
           "Patrick Bamford"
          ],
          [
           "Joe Gelhardt"
          ],
          [
           "Roberto Firmino"
          ],
          [
           "Gabriel Fernando de Jesus"
          ],
          [
           "Edinson Cavani"
          ],
          [
           "Cristiano Ronaldo dos Santos Aveiro"
          ],
          [
           "Chris Wood"
          ],
          [
           "Callum Wilson"
          ],
          [
           "Allan Saint-Maximin"
          ],
          [
           "Joelinton Cássio Apolinário de Lira"
          ],
          [
           "Teemu Pukki"
          ],
          [
           "Adam Idah"
          ],
          [
           "Joshua Sargent"
          ],
          [
           "Che Adams"
          ],
          [
           "Armando Broja"
          ],
          [
           "Shane Long"
          ],
          [
           "Adam Armstrong"
          ],
          [
           "Harry Kane"
          ],
          [
           "João Pedro Junqueira de Jesus"
          ],
          [
           "Emmanuel Dennis"
          ],
          [
           "Joshua King"
          ],
          [
           "Juan Camilo Hernández Suárez"
          ],
          [
           "Michail Antonio"
          ],
          [
           "Raúl Jiménez"
          ],
          [
           "Fabio Silva"
          ],
          [
           "Hee-Chan Hwang"
          ]
         ],
         "hovertemplate": "element_type=Forward<br>xA=%{x}<br>xG=%{y}<br>player_name=%{customdata[0]}<extra></extra>",
         "legendgroup": "Forward",
         "marker": {
          "color": "Green",
          "symbol": "circle"
         },
         "mode": "markers",
         "name": "Forward",
         "orientation": "v",
         "showlegend": true,
         "type": "scatter",
         "x": [
          2.796951025724411,
          0.7720417082309723,
          1.828206181526184,
          0.660776237025857,
          4.48953405674547,
          1.955231294035912,
          0.2148136645555496,
          1.7781125698238611,
          0.3867453038692474,
          0.7530978433787823,
          0.0854049511253833,
          2.356433991342783,
          1.6455406285822392,
          2.942340726032853,
          0.4920910112559795,
          1.9331107567995789,
          0.283976212143898,
          2.7604501582682133,
          0.5214151497930288,
          1.2708313576877115,
          2.203008908778429,
          1.4648500755429268,
          1.2917723283171654,
          0.39914455357939,
          0.5918155647814274,
          1.472150744870305,
          4.017523150891066,
          1.0626687463372946,
          3.676798276603222,
          1.215698870830238,
          0.4431503433734178,
          3.9745332580059767,
          1.4339480474591255,
          1.7654086481779814,
          0.4609227031469345,
          0.5363336000591516,
          1.7578712068498137,
          0.6405650749802589,
          0,
          1.624623842537403,
          5.718805953860283,
          1.5908869542181492,
          3.3322388380765915,
          3.686187520623207,
          1.659473140724003,
          5.436785809695721,
          2.2722367085516453,
          0.3367272317409515,
          0.8699445361271501
         ],
         "xaxis": "x",
         "y": [
          6.137330990284681,
          0.5858801975846291,
          7.5659837033599615,
          4.028961684554815,
          7.095608178526163,
          6.538990665227175,
          2.573061231523752,
          3.0976101150736213,
          0.6575422324240208,
          1.9977553356438875,
          2.708874423056841,
          4.910521801561117,
          4.719367414712906,
          2.931545168161392,
          2.903859604150057,
          6.154559943825007,
          4.99976459890604,
          3.374447272159159,
          2.412409179843962,
          6.538666434586048,
          2.062020353972912,
          4.030671484768391,
          1.1942495610564947,
          2.418504185974598,
          1.9101852774620056,
          3.9826595038175583,
          5.141317911446095,
          3.3277666829526424,
          13.320891559123991,
          6.450649719685316,
          5.126593586988747,
          4.782842196524143,
          2.5184979271143675,
          6.21592291072011,
          1.9293008372187612,
          2.0443058479577303,
          6.157029263675213,
          4.982552589848638,
          0.6535555273294449,
          4.066641267389059,
          12.265675738453863,
          2.102631349116564,
          6.355765493586659,
          7.751776278018951,
          1.7616488225758076,
          10.042947940528393,
          5.68696487788111,
          0.7735247854143381,
          3.135462796315551
         ],
         "yaxis": "y"
        },
        {
         "customdata": [
          [
           "Granit Xhaka"
          ],
          [
           "Mohamed Naser El Sayed Elneny"
          ],
          [
           "Thomas Partey"
          ],
          [
           "Nicolas Pépé"
          ],
          [
           "Emile Smith Rowe"
          ],
          [
           "Bukayo Saka"
          ],
          [
           "Gabriel Teodoro Martinelli Silva"
          ],
          [
           "Albert Sambi Lokonga"
          ],
          [
           "Martin Ødegaard"
          ],
          [
           "Bertrand Traoré"
          ],
          [
           "Morgan Sanson"
          ],
          [
           "John McGinn"
          ],
          [
           "Marvelous Nakamba"
          ],
          [
           "Emiliano Buendía Stati"
          ],
          [
           "Douglas Luiz Soares de Paulo"
          ],
          [
           "Jacob Ramsey"
          ],
          [
           "Leon Bailey"
          ],
          [
           "Carney Chukwuemeka"
          ],
          [
           "Philippe Coutinho Correia"
          ],
          [
           "Christian Nørgaard"
          ],
          [
           "Sergi Canós"
          ],
          [
           "Pelenda Joshua Dasilva"
          ],
          [
           "Vitaly Janelt"
          ],
          [
           "Saman Ghoddos"
          ],
          [
           "Mathias Jensen"
          ],
          [
           "Bryan Mbeumo"
          ],
          [
           "Frank Onyeka"
          ],
          [
           "Shandon Baptiste"
          ],
          [
           "Yoane Wissa"
          ],
          [
           "Christian Eriksen"
          ],
          [
           "Adam Lallana"
          ],
          [
           "Pascal Groß"
          ],
          [
           "Solomon March"
          ],
          [
           "Leandro Trossard"
          ],
          [
           "Yves Bissouma"
          ],
          [
           "Steven Alzate"
          ],
          [
           "Alexis Mac Allister"
          ],
          [
           "Jakub Moder"
          ],
          [
           "Enock Mwepu"
          ],
          [
           "Jack Cork"
          ],
          [
           "Dale Stephens"
          ],
          [
           "Ashley Westwood"
          ],
          [
           "Josh Brownhill"
          ],
          [
           "Dwight McNeil"
          ],
          [
           "Aaron Lennon"
          ],
          [
           "Maxwel Cornet"
          ],
          [
           "Jorge Luiz Frello Filho"
          ],
          [
           "Ross Barkley"
          ],
          [
           "Mateo Kovacic"
          ],
          [
           "N'Golo Kanté"
          ],
          [
           "Hakim Ziyech"
          ],
          [
           "Ruben Loftus-Cheek"
          ],
          [
           "Christian Pulisic"
          ],
          [
           "Mason Mount"
          ],
          [
           "Callum Hudson-Odoi"
          ],
          [
           "Kai Havertz"
          ],
          [
           "Saúl Ñíguez"
          ],
          [
           "Conor Gallagher"
          ],
          [
           "James McArthur"
          ],
          [
           "Luka Milivojevic"
          ],
          [
           "Wilfried Zaha"
          ],
          [
           "Jeffrey Schlupp"
          ],
          [
           "Jairo Riedewald"
          ],
          [
           "Eberechi Eze"
          ],
          [
           "Will Hughes"
          ],
          [
           "Michael Olise"
          ],
          [
           "Anwar El Ghazi"
          ],
          [
           "Fabian Delph"
          ],
          [
           "Allan Marques Loureiro"
          ],
          [
           "André Filipe Tavares Gomes"
          ],
          [
           "Abdoulaye Doucouré"
          ],
          [
           "Alex Iwobi"
          ],
          [
           "Donny van de Beek"
          ],
          [
           "Bamidele Alli"
          ],
          [
           "Andros Townsend"
          ],
          [
           "Demarai Gray"
          ],
          [
           "Anthony Gordon"
          ],
          [
           "Marc Albrighton"
          ],
          [
           "Youri Tielemans"
          ],
          [
           "Ayoze Pérez"
          ],
          [
           "James Maddison"
          ],
          [
           "Hamza Choudhury"
          ],
          [
           "Harvey Barnes"
          ],
          [
           "Wilfred Ndidi"
          ],
          [
           "Boubakary Soumaré"
          ],
          [
           "Kiernan Dewsbury-Hall"
          ],
          [
           "Ademola Lookman"
          ],
          [
           "Mateusz Klich"
          ],
          [
           "Stuart Dallas"
          ],
          [
           "Kalvin Phillips"
          ],
          [
           "Tyler Roberts"
          ],
          [
           "Raphael Dias Belloli"
          ],
          [
           "Jamie Shackleton"
          ],
          [
           "Jack Harrison"
          ],
          [
           "Daniel James"
          ],
          [
           "Crysencio Summerville"
          ],
          [
           "Adam Forshaw"
          ],
          [
           "James Milner"
          ],
          [
           "Jordan Henderson"
          ],
          [
           "Thiago Alcántara do Nascimento"
          ],
          [
           "Alex Oxlade-Chamberlain"
          ],
          [
           "Sadio Mané"
          ],
          [
           "Fabio Henrique Tavares"
          ],
          [
           "Mohamed Salah"
          ],
          [
           "Naby Keita"
          ],
          [
           "Diogo Jota"
          ],
          [
           "Curtis Jones"
          ],
          [
           "Harvey Elliott"
          ],
          [
           "Luis Díaz"
          ],
          [
           "Jack Grealish"
          ],
          [
           "Ilkay Gündogan"
          ],
          [
           "Kevin De Bruyne"
          ],
          [
           "Riyad Mahrez"
          ],
          [
           "Raheem Sterling"
          ],
          [
           "Bernardo Mota Veiga de Carvalho e Silva"
          ],
          [
           "Phil Foden"
          ],
          [
           "Rodrigo Hernandez"
          ],
          [
           "Fernando Luiz Rosa"
          ],
          [
           "Cole Palmer"
          ],
          [
           "Nemanja Matic"
          ],
          [
           "Paul Pogba"
          ],
          [
           "Frederico Rodrigues de Paula Santos"
          ],
          [
           "Jesse Lingard"
          ],
          [
           "Bruno Miguel Borges Fernandes"
          ],
          [
           "Marcus Rashford"
          ],
          [
           "Scott McTominay"
          ],
          [
           "Jadon Sancho"
          ],
          [
           "Anthony Elanga"
          ],
          [
           "Joseph Willock"
          ],
          [
           "Jonjo Shelvey"
          ],
          [
           "Ryan Fraser"
          ],
          [
           "Jacob Murphy"
          ],
          [
           "Miguel Almirón"
          ],
          [
           "Sean Longstaff"
          ],
          [
           "Billy Gilmour"
          ],
          [
           "Lukas Rupp"
          ],
          [
           "Kenny McLean"
          ],
          [
           "Kieran Dowell"
          ],
          [
           "Przemyslaw Placheta"
          ],
          [
           "Milot Rashica"
          ],
          [
           "Pierre Lees-Melou"
          ],
          [
           "Christos Tzolis"
          ],
          [
           "Mathias Normann"
          ],
          [
           "Theo Walcott"
          ],
          [
           "Oriol Romeu Vidal"
          ],
          [
           "Nathan Redmond"
          ],
          [
           "Stuart Armstrong"
          ],
          [
           "James Ward-Prowse"
          ],
          [
           "Nathan Tella"
          ],
          [
           "Ibrahima Diallo"
          ],
          [
           "Moussa Djenepo"
          ],
          [
           "Mohamed Elyounoussi"
          ],
          [
           "Heung-Min Son"
          ],
          [
           "Lucas Rodrigues Moura da Silva"
          ],
          [
           "Pierre-Emile Højbjerg"
          ],
          [
           "Harry Winks"
          ],
          [
           "Steven Bergwijn"
          ],
          [
           "Dejan Kulusevski"
          ],
          [
           "Rodrigo Bentancur"
          ],
          [
           "Moussa Sissoko"
          ],
          [
           "Tom Cleverley"
          ],
          [
           "Ken Sema"
          ],
          [
           "Imrân Louza"
          ],
          [
           "Oghenekaro Peter Etebo"
          ],
          [
           "Juraj Kucka"
          ],
          [
           "Edo Kayembe"
          ],
          [
           "Mark Noble"
          ],
          [
           "Manuel Lanzini"
          ],
          [
           "Saïd Benrahma"
          ],
          [
           "Jarrod Bowen"
          ],
          [
           "Declan Rice"
          ],
          [
           "Tomas Soucek"
          ],
          [
           "Pablo Fornals"
          ],
          [
           "Nikola Vlasic"
          ],
          [
           "João Filipe Iria Santos Moutinho"
          ],
          [
           "Leander Dendoncker"
          ],
          [
           "Rúben Diogo da Silva Neves"
          ],
          [
           "Daniel Castelo Podence"
          ],
          [
           "Pedro Lomba Neto"
          ],
          [
           "Francisco Machado Mota de Castro Trincão"
          ]
         ],
         "hovertemplate": "element_type=Midfielder<br>xA=%{x}<br>xG=%{y}<br>player_name=%{customdata[0]}<extra></extra>",
         "legendgroup": "Midfielder",
         "marker": {
          "color": "Orange",
          "symbol": "circle"
         },
         "mode": "markers",
         "name": "Midfielder",
         "orientation": "v",
         "showlegend": true,
         "type": "scatter",
         "x": [
          1.1968239024281502,
          0.0942674651741981,
          0.8076088428497314,
          1.2396217733621595,
          2.6996852066367865,
          5.2096878327429295,
          2.048186272382736,
          0.6833233442157507,
          4.32984484732151,
          0,
          0,
          3.545507083646953,
          0.0453882701694965,
          3.0482456907629967,
          1.7401841459795833,
          1.4292752258479595,
          0.2306462302803993,
          0.9877788871526718,
          1.8116121627390385,
          2.7980521647259597,
          1.9569158479571345,
          0.1009131148457527,
          1.0265479311347008,
          1.1907195542007685,
          2.679550819098949,
          2.2574979290366173,
          0.1635155109688639,
          0.440178882330656,
          0.1857357993721962,
          0.0651361346244812,
          0.9317839946597816,
          3.920845087617636,
          2.304372796788812,
          2.001511987298727,
          0.5288825668394566,
          0.1467899084091186,
          1.2409310368821025,
          2.582662910223007,
          1.0714490823447704,
          0.1356595484539866,
          0.0172725114971399,
          3.9052777253091335,
          1.3243898339569569,
          3.25325979012996,
          0.2082181125879287,
          0.6911471858620644,
          2.147456353530288,
          0.5811443775892258,
          3.094632158055901,
          1.266227620653808,
          2.4087133333086967,
          1.350813094526529,
          0.8385996799916029,
          4.4501639790833,
          2.6389927733689547,
          1.2343621794134378,
          0.0886712670326232,
          3.888116180896759,
          1.097993707284331,
          0.5382447391748428,
          3.740637719631195,
          1.4884518831968307,
          0.053624365478754,
          0.0738932341337204,
          0.9000852331519127,
          4.212422616779804,
          0.2625086233019829,
          0.0194574072957038,
          0.5895537557080388,
          0.1564361816272139,
          1.8035241570323703,
          2.12492298707366,
          0.4375310707837343,
          1.0847909078001976,
          2.849117286503315,
          2.3550217747688293,
          1.950473761186004,
          1.2729843957349658,
          3.0975198075175285,
          1.0273897796869278,
          2.707218838855624,
          0,
          2.5724790692329407,
          0.0464392937719821,
          0.2148307561874389,
          1.4079832956194878,
          1.6659838072955608,
          1.4319527260959148,
          2.710592912510037,
          1.1149944383651018,
          1.4724860806018114,
          4.8272016160190105,
          0.0133305806666612,
          2.221284845843911,
          3.2666263319551945,
          0.0137273948639631,
          1.020045405253768,
          1.4986780621111393,
          3.85290464386344,
          1.153689492493868,
          1.2662947922945025,
          4.493414713069797,
          0.7719865310937166,
          7.715996598824859,
          1.3182651959359646,
          4.069446869194508,
          0.4768154192715883,
          0.4289150834083557,
          0.6675181211903691,
          3.4286717595532537,
          4.396434424445033,
          6.178842589259148,
          3.3017299817875028,
          3.5034336298704147,
          5.521851738914847,
          4.960145428776741,
          2.432457145303488,
          1.1635784972459078,
          0.44644495844841,
          1.005657298490405,
          3.8411444146186113,
          2.00665476731956,
          0.1596688609570264,
          8.171122238971293,
          2.4275266602635384,
          1.591099115088582,
          2.8592875953763723,
          0.6244650781154633,
          0.97156392224133,
          0.6482462994754314,
          1.8311872445046904,
          1.1196923577226698,
          0.7572217243723571,
          0.2898642942309379,
          0.9906700486317276,
          1.2350856140255928,
          0.8784443773329258,
          0.2034686114639043,
          0.0705275386571884,
          1.1364759942516685,
          1.207797098904848,
          0.7744668982923031,
          0.4558039531111717,
          0.0219031609594821,
          1.855612138286233,
          3.376613602042198,
          0.9638911578804256,
          4.769592544063926,
          0.5362992808222771,
          0.9301615059375764,
          0.2697713356465101,
          1.7858063150197268,
          5.381975241005421,
          4.045006565749645,
          1.2383815478533506,
          1.5235148128122091,
          0.7698730677366257,
          2.082548808306456,
          0.0892646536231041,
          1.268353425897658,
          1.2796033499762416,
          0.6261508855968714,
          0.4824371226131916,
          0.1159275881946086,
          0.74985596165061,
          0.350892961025238,
          0,
          1.7695809174329042,
          3.400549829006195,
          5.058655148372054,
          1.3874680008739233,
          2.0042219161987305,
          4.454509619623423,
          0.4924897104501724,
          2.247436448931694,
          0.935354808345437,
          1.6281064357608557,
          3.3647749852389097,
          0.0926504824310541,
          0.9992841091006994
         ],
         "xaxis": "x",
         "y": [
          0.5690411180257797,
          0.0155661171302199,
          2.1546339578926563,
          2.68067268282175,
          3.774641564115882,
          5.97535952553153,
          5.05171075835824,
          0.4106621332466602,
          2.274010881781578,
          0.1529682436957955,
          0.0118105579167604,
          1.4084307383745909,
          0,
          1.7908070404082537,
          0.9846349693834782,
          2.913938283920288,
          1.1401313692331314,
          0.5134838670492172,
          2.215429976582527,
          4.182875318452716,
          3.29684741795063,
          0,
          2.123485867865384,
          0.6922268867492676,
          1.238945774268359,
          6.539794206619263,
          0.7653763052076101,
          0.4449052046984434,
          1.825086113996804,
          0.0492128320038318,
          0.8801136892288923,
          2.000053256750107,
          0.9670705571770668,
          4.771370051428676,
          0.9502553041093053,
          0.0812435895204544,
          3.25041866209358,
          3.1035469863563776,
          1.5956154577434063,
          0.1095925439149141,
          0.0446143895387649,
          0.2788367597386241,
          0.7659910973161459,
          1.445264152251184,
          0.6613812446594238,
          2.203830063343048,
          5.137464450672269,
          0.7709845006465912,
          1.3848788533359766,
          1.2208307106047869,
          2.5504362620413303,
          0.7562576532363892,
          4.515827365219593,
          5.354633688926697,
          2.775725405663252,
          5.230845116078854,
          0.0630487278103828,
          7.112181412056088,
          0.2333385087549686,
          0.2893703170120716,
          6.303926387801766,
          2.253535246476531,
          0,
          0.0419322848320007,
          0.0815527681261301,
          1.081308640539646,
          0.9790221825242044,
          0.0133977904915809,
          0.2115664118900895,
          0.9573268974199892,
          1.7508166581392288,
          1.8009522017091513,
          0.8427473604679108,
          1.532490869052708,
          2.188496366143226,
          3.2441350910812616,
          2.203430777415633,
          0.41476721316576,
          3.963926490396261,
          0.9622879773378372,
          4.512528534978628,
          0.0202268231660127,
          3.8641328997910014,
          0.5835883095860481,
          0.3298371601849794,
          0.8075508624315262,
          3.738644020631909,
          2.3948664274066687,
          1.7024079719558358,
          0.6855863500386477,
          2.4348467718809843,
          7.383694421499968,
          0.1673048697412014,
          3.3870617765933275,
          6.029694464057684,
          0.3223912231624126,
          0.3802642486989498,
          0.2743346411734819,
          1.1205918174237013,
          1.3703060913830996,
          1.1809543520212171,
          14.396435152739286,
          4.178591672331095,
          19.89119153469801,
          0.9175454396754504,
          13.914576683193443,
          0.5919512333348393,
          0.4808208048343658,
          1.6619602143764496,
          4.662041120231152,
          7.326865121722221,
          3.8522378485649824,
          8.013188323006034,
          11.37231402285397,
          6.435443831607699,
          7.664534471929073,
          3.182455135509372,
          1.311300728470087,
          0.280721366405487,
          0.158847420476377,
          2.090287022292614,
          0.6307234717532992,
          0.5386798195540905,
          7.061855906620622,
          2.6224545165896416,
          0.8952525183558464,
          3.815535623580218,
          2.1791431177407503,
          2.913172172382474,
          0.7424793783575296,
          2.3525382801890373,
          2.0003232518211007,
          0.8486099801957607,
          0.6790169896557927,
          0.571153343655169,
          0.4285062281414866,
          1.2386347204446793,
          0.1798663921654224,
          0.3261748496443033,
          1.5778240840882063,
          0.9451598841696978,
          0.3333490621298551,
          0.6478438246995211,
          0.862159663811326,
          0.7093400051817298,
          1.460683104582131,
          1.6398063711822033,
          3.4997627045959234,
          0.6171830762177706,
          0.3187319859862327,
          1.254247801378369,
          4.262822948396206,
          9.35683636367321,
          3.117426598444581,
          2.186291830614209,
          0.0504800844937562,
          2.53124425560236,
          1.1291610151529312,
          0.0409077489748597,
          3.22241890989244,
          0.6841247100383043,
          0.0732036642730236,
          0.2571266116574406,
          0.037510578520596,
          1.3110647955909371,
          0.0414977483451366,
          1.5223376750946045,
          2.536151068285108,
          4.413865715265274,
          10.57111357152462,
          0.6787159079685807,
          4.550642538815737,
          3.6441493202000856,
          0.8438284117728472,
          0.7584931338205934,
          1.6469853483140469,
          0.8939016163349152,
          1.3922767248004675,
          0.1496650017797947,
          2.966266077011824
         ],
         "yaxis": "y"
        }
       ],
       "layout": {
        "legend": {
         "title": {
          "text": "element_type"
         },
         "tracegroupgap": 0
        },
        "template": {
         "data": {
          "bar": [
           {
            "error_x": {
             "color": "#2a3f5f"
            },
            "error_y": {
             "color": "#2a3f5f"
            },
            "marker": {
             "line": {
              "color": "#E5ECF6",
              "width": 0.5
             },
             "pattern": {
              "fillmode": "overlay",
              "size": 10,
              "solidity": 0.2
             }
            },
            "type": "bar"
           }
          ],
          "barpolar": [
           {
            "marker": {
             "line": {
              "color": "#E5ECF6",
              "width": 0.5
             },
             "pattern": {
              "fillmode": "overlay",
              "size": 10,
              "solidity": 0.2
             }
            },
            "type": "barpolar"
           }
          ],
          "carpet": [
           {
            "aaxis": {
             "endlinecolor": "#2a3f5f",
             "gridcolor": "white",
             "linecolor": "white",
             "minorgridcolor": "white",
             "startlinecolor": "#2a3f5f"
            },
            "baxis": {
             "endlinecolor": "#2a3f5f",
             "gridcolor": "white",
             "linecolor": "white",
             "minorgridcolor": "white",
             "startlinecolor": "#2a3f5f"
            },
            "type": "carpet"
           }
          ],
          "choropleth": [
           {
            "colorbar": {
             "outlinewidth": 0,
             "ticks": ""
            },
            "type": "choropleth"
           }
          ],
          "contour": [
           {
            "colorbar": {
             "outlinewidth": 0,
             "ticks": ""
            },
            "colorscale": [
             [
              0,
              "#0d0887"
             ],
             [
              0.1111111111111111,
              "#46039f"
             ],
             [
              0.2222222222222222,
              "#7201a8"
             ],
             [
              0.3333333333333333,
              "#9c179e"
             ],
             [
              0.4444444444444444,
              "#bd3786"
             ],
             [
              0.5555555555555556,
              "#d8576b"
             ],
             [
              0.6666666666666666,
              "#ed7953"
             ],
             [
              0.7777777777777778,
              "#fb9f3a"
             ],
             [
              0.8888888888888888,
              "#fdca26"
             ],
             [
              1,
              "#f0f921"
             ]
            ],
            "type": "contour"
           }
          ],
          "contourcarpet": [
           {
            "colorbar": {
             "outlinewidth": 0,
             "ticks": ""
            },
            "type": "contourcarpet"
           }
          ],
          "heatmap": [
           {
            "colorbar": {
             "outlinewidth": 0,
             "ticks": ""
            },
            "colorscale": [
             [
              0,
              "#0d0887"
             ],
             [
              0.1111111111111111,
              "#46039f"
             ],
             [
              0.2222222222222222,
              "#7201a8"
             ],
             [
              0.3333333333333333,
              "#9c179e"
             ],
             [
              0.4444444444444444,
              "#bd3786"
             ],
             [
              0.5555555555555556,
              "#d8576b"
             ],
             [
              0.6666666666666666,
              "#ed7953"
             ],
             [
              0.7777777777777778,
              "#fb9f3a"
             ],
             [
              0.8888888888888888,
              "#fdca26"
             ],
             [
              1,
              "#f0f921"
             ]
            ],
            "type": "heatmap"
           }
          ],
          "heatmapgl": [
           {
            "colorbar": {
             "outlinewidth": 0,
             "ticks": ""
            },
            "colorscale": [
             [
              0,
              "#0d0887"
             ],
             [
              0.1111111111111111,
              "#46039f"
             ],
             [
              0.2222222222222222,
              "#7201a8"
             ],
             [
              0.3333333333333333,
              "#9c179e"
             ],
             [
              0.4444444444444444,
              "#bd3786"
             ],
             [
              0.5555555555555556,
              "#d8576b"
             ],
             [
              0.6666666666666666,
              "#ed7953"
             ],
             [
              0.7777777777777778,
              "#fb9f3a"
             ],
             [
              0.8888888888888888,
              "#fdca26"
             ],
             [
              1,
              "#f0f921"
             ]
            ],
            "type": "heatmapgl"
           }
          ],
          "histogram": [
           {
            "marker": {
             "pattern": {
              "fillmode": "overlay",
              "size": 10,
              "solidity": 0.2
             }
            },
            "type": "histogram"
           }
          ],
          "histogram2d": [
           {
            "colorbar": {
             "outlinewidth": 0,
             "ticks": ""
            },
            "colorscale": [
             [
              0,
              "#0d0887"
             ],
             [
              0.1111111111111111,
              "#46039f"
             ],
             [
              0.2222222222222222,
              "#7201a8"
             ],
             [
              0.3333333333333333,
              "#9c179e"
             ],
             [
              0.4444444444444444,
              "#bd3786"
             ],
             [
              0.5555555555555556,
              "#d8576b"
             ],
             [
              0.6666666666666666,
              "#ed7953"
             ],
             [
              0.7777777777777778,
              "#fb9f3a"
             ],
             [
              0.8888888888888888,
              "#fdca26"
             ],
             [
              1,
              "#f0f921"
             ]
            ],
            "type": "histogram2d"
           }
          ],
          "histogram2dcontour": [
           {
            "colorbar": {
             "outlinewidth": 0,
             "ticks": ""
            },
            "colorscale": [
             [
              0,
              "#0d0887"
             ],
             [
              0.1111111111111111,
              "#46039f"
             ],
             [
              0.2222222222222222,
              "#7201a8"
             ],
             [
              0.3333333333333333,
              "#9c179e"
             ],
             [
              0.4444444444444444,
              "#bd3786"
             ],
             [
              0.5555555555555556,
              "#d8576b"
             ],
             [
              0.6666666666666666,
              "#ed7953"
             ],
             [
              0.7777777777777778,
              "#fb9f3a"
             ],
             [
              0.8888888888888888,
              "#fdca26"
             ],
             [
              1,
              "#f0f921"
             ]
            ],
            "type": "histogram2dcontour"
           }
          ],
          "mesh3d": [
           {
            "colorbar": {
             "outlinewidth": 0,
             "ticks": ""
            },
            "type": "mesh3d"
           }
          ],
          "parcoords": [
           {
            "line": {
             "colorbar": {
              "outlinewidth": 0,
              "ticks": ""
             }
            },
            "type": "parcoords"
           }
          ],
          "pie": [
           {
            "automargin": true,
            "type": "pie"
           }
          ],
          "scatter": [
           {
            "marker": {
             "colorbar": {
              "outlinewidth": 0,
              "ticks": ""
             }
            },
            "type": "scatter"
           }
          ],
          "scatter3d": [
           {
            "line": {
             "colorbar": {
              "outlinewidth": 0,
              "ticks": ""
             }
            },
            "marker": {
             "colorbar": {
              "outlinewidth": 0,
              "ticks": ""
             }
            },
            "type": "scatter3d"
           }
          ],
          "scattercarpet": [
           {
            "marker": {
             "colorbar": {
              "outlinewidth": 0,
              "ticks": ""
             }
            },
            "type": "scattercarpet"
           }
          ],
          "scattergeo": [
           {
            "marker": {
             "colorbar": {
              "outlinewidth": 0,
              "ticks": ""
             }
            },
            "type": "scattergeo"
           }
          ],
          "scattergl": [
           {
            "marker": {
             "colorbar": {
              "outlinewidth": 0,
              "ticks": ""
             }
            },
            "type": "scattergl"
           }
          ],
          "scattermapbox": [
           {
            "marker": {
             "colorbar": {
              "outlinewidth": 0,
              "ticks": ""
             }
            },
            "type": "scattermapbox"
           }
          ],
          "scatterpolar": [
           {
            "marker": {
             "colorbar": {
              "outlinewidth": 0,
              "ticks": ""
             }
            },
            "type": "scatterpolar"
           }
          ],
          "scatterpolargl": [
           {
            "marker": {
             "colorbar": {
              "outlinewidth": 0,
              "ticks": ""
             }
            },
            "type": "scatterpolargl"
           }
          ],
          "scatterternary": [
           {
            "marker": {
             "colorbar": {
              "outlinewidth": 0,
              "ticks": ""
             }
            },
            "type": "scatterternary"
           }
          ],
          "surface": [
           {
            "colorbar": {
             "outlinewidth": 0,
             "ticks": ""
            },
            "colorscale": [
             [
              0,
              "#0d0887"
             ],
             [
              0.1111111111111111,
              "#46039f"
             ],
             [
              0.2222222222222222,
              "#7201a8"
             ],
             [
              0.3333333333333333,
              "#9c179e"
             ],
             [
              0.4444444444444444,
              "#bd3786"
             ],
             [
              0.5555555555555556,
              "#d8576b"
             ],
             [
              0.6666666666666666,
              "#ed7953"
             ],
             [
              0.7777777777777778,
              "#fb9f3a"
             ],
             [
              0.8888888888888888,
              "#fdca26"
             ],
             [
              1,
              "#f0f921"
             ]
            ],
            "type": "surface"
           }
          ],
          "table": [
           {
            "cells": {
             "fill": {
              "color": "#EBF0F8"
             },
             "line": {
              "color": "white"
             }
            },
            "header": {
             "fill": {
              "color": "#C8D4E3"
             },
             "line": {
              "color": "white"
             }
            },
            "type": "table"
           }
          ]
         },
         "layout": {
          "annotationdefaults": {
           "arrowcolor": "#2a3f5f",
           "arrowhead": 0,
           "arrowwidth": 1
          },
          "autotypenumbers": "strict",
          "coloraxis": {
           "colorbar": {
            "outlinewidth": 0,
            "ticks": ""
           }
          },
          "colorscale": {
           "diverging": [
            [
             0,
             "#8e0152"
            ],
            [
             0.1,
             "#c51b7d"
            ],
            [
             0.2,
             "#de77ae"
            ],
            [
             0.3,
             "#f1b6da"
            ],
            [
             0.4,
             "#fde0ef"
            ],
            [
             0.5,
             "#f7f7f7"
            ],
            [
             0.6,
             "#e6f5d0"
            ],
            [
             0.7,
             "#b8e186"
            ],
            [
             0.8,
             "#7fbc41"
            ],
            [
             0.9,
             "#4d9221"
            ],
            [
             1,
             "#276419"
            ]
           ],
           "sequential": [
            [
             0,
             "#0d0887"
            ],
            [
             0.1111111111111111,
             "#46039f"
            ],
            [
             0.2222222222222222,
             "#7201a8"
            ],
            [
             0.3333333333333333,
             "#9c179e"
            ],
            [
             0.4444444444444444,
             "#bd3786"
            ],
            [
             0.5555555555555556,
             "#d8576b"
            ],
            [
             0.6666666666666666,
             "#ed7953"
            ],
            [
             0.7777777777777778,
             "#fb9f3a"
            ],
            [
             0.8888888888888888,
             "#fdca26"
            ],
            [
             1,
             "#f0f921"
            ]
           ],
           "sequentialminus": [
            [
             0,
             "#0d0887"
            ],
            [
             0.1111111111111111,
             "#46039f"
            ],
            [
             0.2222222222222222,
             "#7201a8"
            ],
            [
             0.3333333333333333,
             "#9c179e"
            ],
            [
             0.4444444444444444,
             "#bd3786"
            ],
            [
             0.5555555555555556,
             "#d8576b"
            ],
            [
             0.6666666666666666,
             "#ed7953"
            ],
            [
             0.7777777777777778,
             "#fb9f3a"
            ],
            [
             0.8888888888888888,
             "#fdca26"
            ],
            [
             1,
             "#f0f921"
            ]
           ]
          },
          "colorway": [
           "#636efa",
           "#EF553B",
           "#00cc96",
           "#ab63fa",
           "#FFA15A",
           "#19d3f3",
           "#FF6692",
           "#B6E880",
           "#FF97FF",
           "#FECB52"
          ],
          "font": {
           "color": "#2a3f5f"
          },
          "geo": {
           "bgcolor": "white",
           "lakecolor": "white",
           "landcolor": "#E5ECF6",
           "showlakes": true,
           "showland": true,
           "subunitcolor": "white"
          },
          "hoverlabel": {
           "align": "left"
          },
          "hovermode": "closest",
          "mapbox": {
           "style": "light"
          },
          "paper_bgcolor": "white",
          "plot_bgcolor": "#E5ECF6",
          "polar": {
           "angularaxis": {
            "gridcolor": "white",
            "linecolor": "white",
            "ticks": ""
           },
           "bgcolor": "#E5ECF6",
           "radialaxis": {
            "gridcolor": "white",
            "linecolor": "white",
            "ticks": ""
           }
          },
          "scene": {
           "xaxis": {
            "backgroundcolor": "#E5ECF6",
            "gridcolor": "white",
            "gridwidth": 2,
            "linecolor": "white",
            "showbackground": true,
            "ticks": "",
            "zerolinecolor": "white"
           },
           "yaxis": {
            "backgroundcolor": "#E5ECF6",
            "gridcolor": "white",
            "gridwidth": 2,
            "linecolor": "white",
            "showbackground": true,
            "ticks": "",
            "zerolinecolor": "white"
           },
           "zaxis": {
            "backgroundcolor": "#E5ECF6",
            "gridcolor": "white",
            "gridwidth": 2,
            "linecolor": "white",
            "showbackground": true,
            "ticks": "",
            "zerolinecolor": "white"
           }
          },
          "shapedefaults": {
           "line": {
            "color": "#2a3f5f"
           }
          },
          "ternary": {
           "aaxis": {
            "gridcolor": "white",
            "linecolor": "white",
            "ticks": ""
           },
           "baxis": {
            "gridcolor": "white",
            "linecolor": "white",
            "ticks": ""
           },
           "bgcolor": "#E5ECF6",
           "caxis": {
            "gridcolor": "white",
            "linecolor": "white",
            "ticks": ""
           }
          },
          "title": {
           "x": 0.05
          },
          "xaxis": {
           "automargin": true,
           "gridcolor": "white",
           "linecolor": "white",
           "ticks": "",
           "title": {
            "standoff": 15
           },
           "zerolinecolor": "white",
           "zerolinewidth": 2
          },
          "yaxis": {
           "automargin": true,
           "gridcolor": "white",
           "linecolor": "white",
           "ticks": "",
           "title": {
            "standoff": 15
           },
           "zerolinecolor": "white",
           "zerolinewidth": 2
          }
         }
        },
        "title": {
         "text": "xG vs xA"
        },
        "xaxis": {
         "anchor": "y",
         "domain": [
          0,
          1
         ],
         "title": {
          "text": "xA"
         }
        },
        "yaxis": {
         "anchor": "x",
         "domain": [
          0,
          1
         ],
         "title": {
          "text": "xG"
         }
        }
       }
      }
     },
     "metadata": {},
     "output_type": "display_data"
    }
   ],
   "source": [
    "px.scatter(df, \n",
    "           x='xA', y='xG',\n",
    "           color='element_type',\n",
    "           color_discrete_map=position_colors,\n",
    "           hover_data= ['player_name'],\n",
    "           title='xG vs xA'\n",
    "              )\n",
    "\n",
    "#sns.scatterplot(x = df['xA'], y = df['xG'], hue=df['element_type'], palette=position_colors)"
   ]
  },
  {
   "cell_type": "code",
   "execution_count": 99,
   "metadata": {},
   "outputs": [
    {
     "data": {
      "application/vnd.plotly.v1+json": {
       "config": {
        "plotlyServerURL": "https://plot.ly"
       },
       "data": [
        {
         "customdata": [
          [
           "Bernd Leno"
          ],
          [
           "Aaron Ramsdale"
          ],
          [
           "Emiliano Martínez"
          ],
          [
           "David Raya Martin"
          ],
          [
           "Álvaro Fernández"
          ],
          [
           "Jonas Lössl"
          ],
          [
           "Jason Steele"
          ],
          [
           "Robert Sánchez"
          ],
          [
           "Nick Pope"
          ],
          [
           "Wayne Hennessey"
          ],
          [
           "Kepa Arrizabalaga"
          ],
          [
           "Edouard Mendy"
          ],
          [
           "Vicente Guaita"
          ],
          [
           "Jack Butland"
          ],
          [
           "Jordan Pickford"
          ],
          [
           "Asmir Begović"
          ],
          [
           "Kasper Schmeichel"
          ],
          [
           "Illan Meslier"
          ],
          [
           "Alisson Ramses Becker"
          ],
          [
           "Caoimhin Kelleher"
          ],
          [
           "Ederson Santana de Moraes"
          ],
          [
           "Zack Steffen"
          ],
          [
           "David de Gea"
          ],
          [
           "Karl Darlow"
          ],
          [
           "Martin Dubravka"
          ],
          [
           "Tim Krul"
          ],
          [
           "Angus Gunn"
          ],
          [
           "Fraser Forster"
          ],
          [
           "Willy Caballero"
          ],
          [
           "Hugo Lloris"
          ],
          [
           "Ben Foster"
          ],
          [
           "Daniel Bachmann"
          ],
          [
           "Lukasz Fabianski"
          ],
          [
           "Alphonse Areola"
          ],
          [
           "José Malheiro de Sá"
          ]
         ],
         "hovertemplate": "element_type=Goalkeeper<br>now_cost=%{x}<br>dreamteam_count=%{y}<br>player_name=%{customdata[0]}<extra></extra>",
         "legendgroup": "Goalkeeper",
         "marker": {
          "color": "red",
          "symbol": "circle"
         },
         "mode": "markers",
         "name": "Goalkeeper",
         "orientation": "v",
         "showlegend": true,
         "type": "scatter",
         "x": [
          45,
          51,
          55,
          43,
          45,
          45,
          40,
          46,
          54,
          45,
          46,
          61,
          46,
          44,
          49,
          40,
          48,
          48,
          60,
          43,
          61,
          44,
          52,
          45,
          44,
          45,
          40,
          44,
          43,
          54,
          41,
          41,
          50,
          47,
          53
         ],
         "xaxis": "x",
         "y": [
          0,
          3,
          1,
          1,
          0,
          0,
          0,
          1,
          2,
          0,
          0,
          0,
          0,
          1,
          0,
          0,
          2,
          1,
          1,
          0,
          0,
          0,
          2,
          0,
          1,
          2,
          0,
          0,
          0,
          2,
          2,
          0,
          2,
          0,
          4
         ],
         "yaxis": "y"
        },
        {
         "customdata": [
          [
           "Cédric Soares"
          ],
          [
           "Rob Holding"
          ],
          [
           "Kieran Tierney"
          ],
          [
           "Gabriel Magalhães"
          ],
          [
           "Ben White"
          ],
          [
           "Nuno Varela Tavares"
          ],
          [
           "Takehiro Tomiyasu"
          ],
          [
           "Calum Chambers"
          ],
          [
           "Kortney Hause"
          ],
          [
           "Tyrone Mings"
          ],
          [
           "Matthew Cash"
          ],
          [
           "Ezri Konsa Ngoyo"
          ],
          [
           "Ashley Young"
          ],
          [
           "Lucas Digne"
          ],
          [
           "Pontus Jansson"
          ],
          [
           "Rico Henry"
          ],
          [
           "Mads Roerslev Rasmussen"
          ],
          [
           "Mads Bech Sørensen"
          ],
          [
           "Ethan Pinnock"
          ],
          [
           "Kristoffer Ajer"
          ],
          [
           "Mathias Jorgensen"
          ],
          [
           "Shane Duffy"
          ],
          [
           "Lewis Dunk"
          ],
          [
           "Adam Webster"
          ],
          [
           "Joël Veltman"
          ],
          [
           "Tariq Lamptey"
          ],
          [
           "Marc Cucurella"
          ],
          [
           "James Tarkowski"
          ],
          [
           "Erik Pieters"
          ],
          [
           "Ben Mee"
          ],
          [
           "Matthew Lowton"
          ],
          [
           "Charlie Taylor"
          ],
          [
           "Nathan Collins"
          ],
          [
           "Connor Roberts"
          ],
          [
           "César Azpilicueta"
          ],
          [
           "Thiago Emiliano da Silva"
          ],
          [
           "Marcos Alonso"
          ],
          [
           "Antonio Rüdiger"
          ],
          [
           "Andreas Christensen"
          ],
          [
           "Benjamin Chilwell"
          ],
          [
           "Reece James"
          ],
          [
           "Malang Sarr"
          ],
          [
           "Trevoh Chalobah"
          ],
          [
           "James Tomkins"
          ],
          [
           "Cheikhou Kouyaté"
          ],
          [
           "Tyrick Mitchell"
          ],
          [
           "Joel Ward"
          ],
          [
           "Marc Guéhi"
          ],
          [
           "Joachim Andersen"
          ],
          [
           "Nathaniel Clyne"
          ],
          [
           "Seamus Coleman"
          ],
          [
           "Michael Keane"
          ],
          [
           "Yerry Mina"
          ],
          [
           "Mason Holgate"
          ],
          [
           "Ben Godfrey"
          ],
          [
           "Jonjoe Kenny"
          ],
          [
           "Jarrad Branthwaite"
          ],
          [
           "Vitalii Mykolenko"
          ],
          [
           "Jonny Evans"
          ],
          [
           "Ricardo Domingos Barbosa Pereira"
          ],
          [
           "Daniel Amartey"
          ],
          [
           "Timothy Castagne"
          ],
          [
           "Çaglar Söyüncü"
          ],
          [
           "James Justin"
          ],
          [
           "Luke Thomas"
          ],
          [
           "Jannik Vestergaard"
          ],
          [
           "Liam Cooper"
          ],
          [
           "Luke Ayling"
          ],
          [
           "Diego Llorente"
          ],
          [
           "Robin Koch"
          ],
          [
           "Pascal Struijk"
          ],
          [
           "Héctor Junior Firpo Adames"
          ],
          [
           "Charlie Cresswell"
          ],
          [
           "Joel Matip"
          ],
          [
           "Virgil van Dijk"
          ],
          [
           "Andrew Robertson"
          ],
          [
           "Trent Alexander-Arnold"
          ],
          [
           "Joseph Gomez"
          ],
          [
           "Ibrahima Konaté"
          ],
          [
           "Konstantinos Tsimikas"
          ],
          [
           "Kyle Walker"
          ],
          [
           "John Stones"
          ],
          [
           "João Pedro Cavaco Cancelo"
          ],
          [
           "Nathan Aké"
          ],
          [
           "Aymeric Laporte"
          ],
          [
           "Rúben Santos Gato Alves Dias"
          ],
          [
           "Oleksandr Zinchenko"
          ],
          [
           "Harry Maguire"
          ],
          [
           "Luke Shaw"
          ],
          [
           "Alex Nicolao Telles"
          ],
          [
           "Victor Lindelöf"
          ],
          [
           "Eric Bailly"
          ],
          [
           "Aaron Wan-Bissaka"
          ],
          [
           "José Diogo Dalot Teixeira"
          ],
          [
           "Raphaël Varane"
          ],
          [
           "Phil Jones"
          ],
          [
           "Matt Targett"
          ],
          [
           "Dan Burn"
          ],
          [
           "Matt Ritchie"
          ],
          [
           "Jamaal Lascelles"
          ],
          [
           "Paul Dummett"
          ],
          [
           "Javier Manquillo"
          ],
          [
           "Emil Krafth"
          ],
          [
           "Fabian Schär"
          ],
          [
           "Federico Fernández"
          ],
          [
           "Brandon Williams"
          ],
          [
           "Grant Hanley"
          ],
          [
           "Sam Byram"
          ],
          [
           "Max Aarons"
          ],
          [
           "Jacob Sørensen"
          ],
          [
           "Ben Gibson"
          ],
          [
           "Dimitris Giannoulis"
          ],
          [
           "Ozan Kabak"
          ],
          [
           "Jack Stephens"
          ],
          [
           "Kyle Walker-Peters"
          ],
          [
           "Jan Bednarek"
          ],
          [
           "Mohammed Salisu"
          ],
          [
           "Romain Perraud"
          ],
          [
           "Tino Livramento"
          ],
          [
           "Yan Valery"
          ],
          [
           "Lyanco Evangelista Silveira Neves Vojnovic"
          ],
          [
           "Matt Doherty"
          ],
          [
           "Eric Dier"
          ],
          [
           "Ben Davies"
          ],
          [
           "Davinson Sánchez"
          ],
          [
           "Ryan Sessegnon"
          ],
          [
           "Sergio Reguilón"
          ],
          [
           "Cristian Romero"
          ],
          [
           "Emerson Aparecido Leite de Souza Junior"
          ],
          [
           "Emerson Aparecido Leite de Souza Junior"
          ],
          [
           "Craig Cathcart"
          ],
          [
           "Francisco Femenía Far"
          ],
          [
           "Christian Kabasele"
          ],
          [
           "William Troost-Ekong"
          ],
          [
           "Adam Masina"
          ],
          [
           "Francisco Sierralta"
          ],
          [
           "Jeremy Ngakia"
          ],
          [
           "Nicolas Nkoulou"
          ],
          [
           "Hassane Kamara"
          ],
          [
           "Samir Caetano de Souza Santos"
          ],
          [
           "Kurt Zouma"
          ],
          [
           "Aaron Cresswell"
          ],
          [
           "Craig Dawson"
          ],
          [
           "Ryan Fredericks"
          ],
          [
           "Arthur Masuaku"
          ],
          [
           "Issa Diop"
          ],
          [
           "Ben Johnson"
          ],
          [
           "Conor Coady"
          ],
          [
           "Romain Saïss"
          ],
          [
           "Fernando Marçal"
          ],
          [
           "Jonathan Castro Otto"
          ],
          [
           "Nélson Cabral Semedo"
          ],
          [
           "Max Kilman"
          ],
          [
           "Ki-Jana Hoever"
          ],
          [
           "Rayan Ait Nouri"
          ],
          [
           "Toti António Gomes"
          ]
         ],
         "hovertemplate": "element_type=Defender<br>now_cost=%{x}<br>dreamteam_count=%{y}<br>player_name=%{customdata[0]}<extra></extra>",
         "legendgroup": "Defender",
         "marker": {
          "color": "blue",
          "symbol": "circle"
         },
         "mode": "markers",
         "name": "Defender",
         "orientation": "v",
         "showlegend": true,
         "type": "scatter",
         "x": [
          42,
          41,
          51,
          53,
          45,
          43,
          46,
          42,
          44,
          50,
          51,
          49,
          47,
          51,
          45,
          45,
          41,
          43,
          45,
          44,
          45,
          41,
          48,
          43,
          42,
          45,
          50,
          49,
          42,
          48,
          44,
          44,
          43,
          45,
          56,
          56,
          56,
          61,
          46,
          56,
          62,
          49,
          47,
          43,
          45,
          45,
          45,
          45,
          45,
          43,
          49,
          47,
          49,
          42,
          47,
          44,
          40,
          49,
          54,
          52,
          39,
          53,
          49,
          49,
          43,
          47,
          44,
          43,
          45,
          43,
          43,
          47,
          40,
          49,
          67,
          72,
          85,
          47,
          51,
          37,
          54,
          52,
          70,
          47,
          58,
          62,
          53,
          54,
          50,
          50,
          48,
          49,
          51,
          44,
          55,
          45,
          47,
          44,
          49,
          44,
          45,
          39,
          43,
          43,
          43,
          39,
          44,
          44,
          43,
          43,
          44,
          44,
          43,
          44,
          48,
          44,
          45,
          48,
          44,
          39,
          44,
          47,
          46,
          44,
          45,
          43,
          52,
          48,
          47,
          47,
          43,
          43,
          43,
          43,
          43,
          43,
          43,
          44,
          45,
          45,
          54,
          54,
          49,
          44,
          44,
          43,
          39,
          48,
          50,
          42,
          45,
          48,
          46,
          39,
          44,
          45
         ],
         "xaxis": "x",
         "y": [
          0,
          0,
          3,
          3,
          0,
          1,
          1,
          0,
          1,
          3,
          2,
          1,
          0,
          0,
          0,
          1,
          1,
          0,
          1,
          0,
          0,
          1,
          1,
          2,
          0,
          1,
          1,
          1,
          1,
          2,
          1,
          2,
          0,
          2,
          1,
          2,
          3,
          2,
          0,
          2,
          5,
          0,
          2,
          1,
          0,
          1,
          0,
          0,
          0,
          0,
          2,
          2,
          0,
          0,
          0,
          0,
          0,
          0,
          0,
          1,
          1,
          0,
          0,
          0,
          0,
          0,
          1,
          0,
          1,
          0,
          0,
          0,
          0,
          2,
          4,
          3,
          6,
          0,
          0,
          0,
          0,
          1,
          6,
          0,
          2,
          1,
          1,
          0,
          0,
          0,
          0,
          0,
          0,
          0,
          1,
          0,
          0,
          0,
          0,
          0,
          0,
          0,
          0,
          2,
          0,
          0,
          0,
          0,
          0,
          0,
          0,
          0,
          0,
          0,
          1,
          1,
          0,
          0,
          0,
          0,
          0,
          2,
          0,
          1,
          2,
          0,
          2,
          0,
          1,
          1,
          0,
          0,
          0,
          0,
          0,
          0,
          0,
          0,
          0,
          0,
          0,
          1,
          0,
          0,
          1,
          1,
          0,
          0,
          1,
          1,
          0,
          0,
          0,
          0,
          1,
          0
         ],
         "yaxis": "y"
        },
        {
         "customdata": [
          [
           "Alexandre Lacazette"
          ],
          [
           "Edward Nketiah"
          ],
          [
           "Ollie Watkins"
          ],
          [
           "Danny Ings"
          ],
          [
           "Ivan Toney"
          ],
          [
           "Neal Maupay"
          ],
          [
           "Danny Welbeck"
          ],
          [
           "Jay Rodriguez"
          ],
          [
           "Ashley Barnes"
          ],
          [
           "Wout Weghorst"
          ],
          [
           "Timo Werner"
          ],
          [
           "Romelu Lukaku"
          ],
          [
           "Christian Benteke"
          ],
          [
           "Jordan Ayew"
          ],
          [
           "Jean-Philippe Mateta"
          ],
          [
           "Odsonne Edouard"
          ],
          [
           "Dominic Calvert-Lewin"
          ],
          [
           "Richarlison de Andrade"
          ],
          [
           "Salomón Rondón"
          ],
          [
           "Jamie Vardy"
          ],
          [
           "Kelechi Iheanacho"
          ],
          [
           "Patson Daka"
          ],
          [
           "Rodrigo Moreno"
          ],
          [
           "Patrick Bamford"
          ],
          [
           "Joe Gelhardt"
          ],
          [
           "Roberto Firmino"
          ],
          [
           "Gabriel Fernando de Jesus"
          ],
          [
           "Edinson Cavani"
          ],
          [
           "Cristiano Ronaldo dos Santos Aveiro"
          ],
          [
           "Chris Wood"
          ],
          [
           "Callum Wilson"
          ],
          [
           "Allan Saint-Maximin"
          ],
          [
           "Joelinton Cássio Apolinário de Lira"
          ],
          [
           "Teemu Pukki"
          ],
          [
           "Adam Idah"
          ],
          [
           "Joshua Sargent"
          ],
          [
           "Che Adams"
          ],
          [
           "Armando Broja"
          ],
          [
           "Shane Long"
          ],
          [
           "Adam Armstrong"
          ],
          [
           "Harry Kane"
          ],
          [
           "João Pedro Junqueira de Jesus"
          ],
          [
           "Emmanuel Dennis"
          ],
          [
           "Joshua King"
          ],
          [
           "Juan Camilo Hernández Suárez"
          ],
          [
           "Michail Antonio"
          ],
          [
           "Raúl Jiménez"
          ],
          [
           "Fabio Silva"
          ],
          [
           "Hee-Chan Hwang"
          ]
         ],
         "hovertemplate": "element_type=Forward<br>now_cost=%{x}<br>dreamteam_count=%{y}<br>player_name=%{customdata[0]}<extra></extra>",
         "legendgroup": "Forward",
         "marker": {
          "color": "Green",
          "symbol": "circle"
         },
         "mode": "markers",
         "name": "Forward",
         "orientation": "v",
         "showlegend": true,
         "type": "scatter",
         "x": [
          83,
          54,
          75,
          77,
          65,
          65,
          59,
          52,
          52,
          66,
          86,
          115,
          60,
          58,
          52,
          63,
          77,
          75,
          60,
          103,
          69,
          71,
          62,
          77,
          46,
          87,
          84,
          84,
          123,
          67,
          72,
          68,
          58,
          58,
          49,
          54,
          70,
          55,
          54,
          57,
          123,
          54,
          61,
          58,
          50,
          76,
          76,
          56,
          54
         ],
         "xaxis": "x",
         "y": [
          1,
          0,
          1,
          1,
          2,
          2,
          0,
          1,
          0,
          1,
          0,
          1,
          1,
          0,
          0,
          2,
          0,
          0,
          0,
          4,
          1,
          1,
          0,
          0,
          0,
          1,
          2,
          0,
          5,
          0,
          0,
          0,
          0,
          2,
          0,
          1,
          0,
          1,
          0,
          1,
          5,
          0,
          4,
          2,
          0,
          4,
          1,
          0,
          1
         ],
         "yaxis": "y"
        },
        {
         "customdata": [
          [
           "Granit Xhaka"
          ],
          [
           "Mohamed Naser El Sayed Elneny"
          ],
          [
           "Thomas Partey"
          ],
          [
           "Nicolas Pépé"
          ],
          [
           "Emile Smith Rowe"
          ],
          [
           "Bukayo Saka"
          ],
          [
           "Gabriel Teodoro Martinelli Silva"
          ],
          [
           "Albert Sambi Lokonga"
          ],
          [
           "Martin Ødegaard"
          ],
          [
           "Bertrand Traoré"
          ],
          [
           "Morgan Sanson"
          ],
          [
           "John McGinn"
          ],
          [
           "Marvelous Nakamba"
          ],
          [
           "Emiliano Buendía Stati"
          ],
          [
           "Douglas Luiz Soares de Paulo"
          ],
          [
           "Jacob Ramsey"
          ],
          [
           "Leon Bailey"
          ],
          [
           "Carney Chukwuemeka"
          ],
          [
           "Philippe Coutinho Correia"
          ],
          [
           "Christian Nørgaard"
          ],
          [
           "Sergi Canós"
          ],
          [
           "Pelenda Joshua Dasilva"
          ],
          [
           "Vitaly Janelt"
          ],
          [
           "Saman Ghoddos"
          ],
          [
           "Mathias Jensen"
          ],
          [
           "Bryan Mbeumo"
          ],
          [
           "Frank Onyeka"
          ],
          [
           "Shandon Baptiste"
          ],
          [
           "Yoane Wissa"
          ],
          [
           "Christian Eriksen"
          ],
          [
           "Adam Lallana"
          ],
          [
           "Pascal Groß"
          ],
          [
           "Solomon March"
          ],
          [
           "Leandro Trossard"
          ],
          [
           "Yves Bissouma"
          ],
          [
           "Steven Alzate"
          ],
          [
           "Alexis Mac Allister"
          ],
          [
           "Jakub Moder"
          ],
          [
           "Enock Mwepu"
          ],
          [
           "Jack Cork"
          ],
          [
           "Dale Stephens"
          ],
          [
           "Ashley Westwood"
          ],
          [
           "Josh Brownhill"
          ],
          [
           "Dwight McNeil"
          ],
          [
           "Aaron Lennon"
          ],
          [
           "Maxwel Cornet"
          ],
          [
           "Jorge Luiz Frello Filho"
          ],
          [
           "Ross Barkley"
          ],
          [
           "Mateo Kovacic"
          ],
          [
           "N'Golo Kanté"
          ],
          [
           "Hakim Ziyech"
          ],
          [
           "Ruben Loftus-Cheek"
          ],
          [
           "Christian Pulisic"
          ],
          [
           "Mason Mount"
          ],
          [
           "Callum Hudson-Odoi"
          ],
          [
           "Kai Havertz"
          ],
          [
           "Saúl Ñíguez"
          ],
          [
           "Conor Gallagher"
          ],
          [
           "James McArthur"
          ],
          [
           "Luka Milivojevic"
          ],
          [
           "Wilfried Zaha"
          ],
          [
           "Jeffrey Schlupp"
          ],
          [
           "Jairo Riedewald"
          ],
          [
           "Eberechi Eze"
          ],
          [
           "Will Hughes"
          ],
          [
           "Michael Olise"
          ],
          [
           "Anwar El Ghazi"
          ],
          [
           "Fabian Delph"
          ],
          [
           "Allan Marques Loureiro"
          ],
          [
           "André Filipe Tavares Gomes"
          ],
          [
           "Abdoulaye Doucouré"
          ],
          [
           "Alex Iwobi"
          ],
          [
           "Donny van de Beek"
          ],
          [
           "Bamidele Alli"
          ],
          [
           "Andros Townsend"
          ],
          [
           "Demarai Gray"
          ],
          [
           "Anthony Gordon"
          ],
          [
           "Marc Albrighton"
          ],
          [
           "Youri Tielemans"
          ],
          [
           "Ayoze Pérez"
          ],
          [
           "James Maddison"
          ],
          [
           "Hamza Choudhury"
          ],
          [
           "Harvey Barnes"
          ],
          [
           "Wilfred Ndidi"
          ],
          [
           "Boubakary Soumaré"
          ],
          [
           "Kiernan Dewsbury-Hall"
          ],
          [
           "Ademola Lookman"
          ],
          [
           "Mateusz Klich"
          ],
          [
           "Stuart Dallas"
          ],
          [
           "Kalvin Phillips"
          ],
          [
           "Tyler Roberts"
          ],
          [
           "Raphael Dias Belloli"
          ],
          [
           "Jamie Shackleton"
          ],
          [
           "Jack Harrison"
          ],
          [
           "Daniel James"
          ],
          [
           "Crysencio Summerville"
          ],
          [
           "Adam Forshaw"
          ],
          [
           "James Milner"
          ],
          [
           "Jordan Henderson"
          ],
          [
           "Thiago Alcántara do Nascimento"
          ],
          [
           "Alex Oxlade-Chamberlain"
          ],
          [
           "Sadio Mané"
          ],
          [
           "Fabio Henrique Tavares"
          ],
          [
           "Mohamed Salah"
          ],
          [
           "Naby Keita"
          ],
          [
           "Diogo Jota"
          ],
          [
           "Curtis Jones"
          ],
          [
           "Harvey Elliott"
          ],
          [
           "Luis Díaz"
          ],
          [
           "Jack Grealish"
          ],
          [
           "Ilkay Gündogan"
          ],
          [
           "Kevin De Bruyne"
          ],
          [
           "Riyad Mahrez"
          ],
          [
           "Raheem Sterling"
          ],
          [
           "Bernardo Mota Veiga de Carvalho e Silva"
          ],
          [
           "Phil Foden"
          ],
          [
           "Rodrigo Hernandez"
          ],
          [
           "Fernando Luiz Rosa"
          ],
          [
           "Cole Palmer"
          ],
          [
           "Nemanja Matic"
          ],
          [
           "Paul Pogba"
          ],
          [
           "Frederico Rodrigues de Paula Santos"
          ],
          [
           "Jesse Lingard"
          ],
          [
           "Bruno Miguel Borges Fernandes"
          ],
          [
           "Marcus Rashford"
          ],
          [
           "Scott McTominay"
          ],
          [
           "Jadon Sancho"
          ],
          [
           "Anthony Elanga"
          ],
          [
           "Joseph Willock"
          ],
          [
           "Jonjo Shelvey"
          ],
          [
           "Ryan Fraser"
          ],
          [
           "Jacob Murphy"
          ],
          [
           "Miguel Almirón"
          ],
          [
           "Sean Longstaff"
          ],
          [
           "Billy Gilmour"
          ],
          [
           "Lukas Rupp"
          ],
          [
           "Kenny McLean"
          ],
          [
           "Kieran Dowell"
          ],
          [
           "Przemyslaw Placheta"
          ],
          [
           "Milot Rashica"
          ],
          [
           "Pierre Lees-Melou"
          ],
          [
           "Christos Tzolis"
          ],
          [
           "Mathias Normann"
          ],
          [
           "Theo Walcott"
          ],
          [
           "Oriol Romeu Vidal"
          ],
          [
           "Nathan Redmond"
          ],
          [
           "Stuart Armstrong"
          ],
          [
           "James Ward-Prowse"
          ],
          [
           "Nathan Tella"
          ],
          [
           "Ibrahima Diallo"
          ],
          [
           "Moussa Djenepo"
          ],
          [
           "Mohamed Elyounoussi"
          ],
          [
           "Heung-Min Son"
          ],
          [
           "Lucas Rodrigues Moura da Silva"
          ],
          [
           "Pierre-Emile Højbjerg"
          ],
          [
           "Harry Winks"
          ],
          [
           "Steven Bergwijn"
          ],
          [
           "Dejan Kulusevski"
          ],
          [
           "Rodrigo Bentancur"
          ],
          [
           "Moussa Sissoko"
          ],
          [
           "Tom Cleverley"
          ],
          [
           "Ken Sema"
          ],
          [
           "Imrân Louza"
          ],
          [
           "Oghenekaro Peter Etebo"
          ],
          [
           "Juraj Kucka"
          ],
          [
           "Edo Kayembe"
          ],
          [
           "Mark Noble"
          ],
          [
           "Manuel Lanzini"
          ],
          [
           "Saïd Benrahma"
          ],
          [
           "Jarrod Bowen"
          ],
          [
           "Declan Rice"
          ],
          [
           "Tomas Soucek"
          ],
          [
           "Pablo Fornals"
          ],
          [
           "Nikola Vlasic"
          ],
          [
           "João Filipe Iria Santos Moutinho"
          ],
          [
           "Leander Dendoncker"
          ],
          [
           "Rúben Diogo da Silva Neves"
          ],
          [
           "Daniel Castelo Podence"
          ],
          [
           "Pedro Lomba Neto"
          ],
          [
           "Francisco Machado Mota de Castro Trincão"
          ]
         ],
         "hovertemplate": "element_type=Midfielder<br>now_cost=%{x}<br>dreamteam_count=%{y}<br>player_name=%{customdata[0]}<extra></extra>",
         "legendgroup": "Midfielder",
         "marker": {
          "color": "Orange",
          "symbol": "circle"
         },
         "mode": "markers",
         "name": "Midfielder",
         "orientation": "v",
         "showlegend": true,
         "type": "scatter",
         "x": [
          48,
          44,
          50,
          69,
          58,
          65,
          53,
          48,
          55,
          57,
          50,
          57,
          44,
          62,
          44,
          48,
          63,
          45,
          74,
          50,
          55,
          53,
          49,
          53,
          49,
          52,
          49,
          49,
          58,
          55,
          53,
          57,
          53,
          59,
          44,
          48,
          52,
          45,
          59,
          44,
          44,
          53,
          43,
          57,
          49,
          59,
          58,
          52,
          50,
          49,
          73,
          54,
          79,
          75,
          53,
          78,
          49,
          62,
          43,
          53,
          68,
          54,
          47,
          59,
          47,
          54,
          56,
          43,
          43,
          49,
          53,
          58,
          57,
          62,
          52,
          55,
          45,
          52,
          64,
          57,
          67,
          44,
          65,
          48,
          48,
          44,
          60,
          52,
          49,
          47,
          48,
          65,
          44,
          55,
          60,
          45,
          45,
          49,
          50,
          53,
          58,
          117,
          54,
          132,
          50,
          83,
          50,
          53,
          80,
          75,
          71,
          118,
          87,
          107,
          72,
          79,
          55,
          47,
          45,
          43,
          74,
          49,
          67,
          116,
          94,
          54,
          89,
          48,
          58,
          53,
          53,
          47,
          51,
          44,
          43,
          44,
          49,
          51,
          47,
          52,
          48,
          48,
          45,
          58,
          45,
          59,
          58,
          66,
          47,
          45,
          52,
          54,
          108,
          62,
          49,
          44,
          59,
          61,
          49,
          44,
          48,
          52,
          52,
          43,
          55,
          47,
          44,
          57,
          59,
          69,
          51,
          57,
          60,
          56,
          49,
          47,
          53,
          55,
          64,
          56
         ],
         "xaxis": "x",
         "y": [
          0,
          0,
          0,
          0,
          1,
          2,
          1,
          0,
          2,
          0,
          0,
          2,
          0,
          2,
          0,
          3,
          0,
          0,
          2,
          0,
          1,
          0,
          1,
          0,
          0,
          0,
          0,
          0,
          0,
          0,
          0,
          0,
          0,
          2,
          0,
          0,
          1,
          0,
          0,
          0,
          0,
          0,
          1,
          0,
          0,
          1,
          3,
          0,
          1,
          0,
          1,
          0,
          0,
          3,
          0,
          1,
          0,
          4,
          0,
          0,
          2,
          1,
          0,
          0,
          0,
          0,
          0,
          0,
          0,
          0,
          1,
          0,
          0,
          0,
          3,
          0,
          2,
          0,
          2,
          0,
          3,
          0,
          1,
          0,
          0,
          0,
          0,
          1,
          0,
          0,
          0,
          0,
          0,
          1,
          1,
          0,
          0,
          0,
          2,
          0,
          0,
          2,
          0,
          7,
          1,
          2,
          0,
          0,
          0,
          0,
          1,
          3,
          3,
          4,
          3,
          3,
          0,
          0,
          0,
          0,
          1,
          1,
          0,
          2,
          0,
          1,
          1,
          0,
          0,
          2,
          2,
          0,
          0,
          0,
          0,
          0,
          0,
          0,
          0,
          0,
          0,
          0,
          0,
          0,
          1,
          0,
          0,
          2,
          0,
          1,
          0,
          0,
          3,
          1,
          2,
          0,
          1,
          0,
          0,
          0,
          0,
          0,
          0,
          0,
          0,
          0,
          0,
          1,
          2,
          4,
          1,
          2,
          1,
          0,
          1,
          1,
          0,
          0,
          0,
          0
         ],
         "yaxis": "y"
        }
       ],
       "layout": {
        "legend": {
         "title": {
          "text": "element_type"
         },
         "tracegroupgap": 0
        },
        "template": {
         "data": {
          "bar": [
           {
            "error_x": {
             "color": "#2a3f5f"
            },
            "error_y": {
             "color": "#2a3f5f"
            },
            "marker": {
             "line": {
              "color": "#E5ECF6",
              "width": 0.5
             },
             "pattern": {
              "fillmode": "overlay",
              "size": 10,
              "solidity": 0.2
             }
            },
            "type": "bar"
           }
          ],
          "barpolar": [
           {
            "marker": {
             "line": {
              "color": "#E5ECF6",
              "width": 0.5
             },
             "pattern": {
              "fillmode": "overlay",
              "size": 10,
              "solidity": 0.2
             }
            },
            "type": "barpolar"
           }
          ],
          "carpet": [
           {
            "aaxis": {
             "endlinecolor": "#2a3f5f",
             "gridcolor": "white",
             "linecolor": "white",
             "minorgridcolor": "white",
             "startlinecolor": "#2a3f5f"
            },
            "baxis": {
             "endlinecolor": "#2a3f5f",
             "gridcolor": "white",
             "linecolor": "white",
             "minorgridcolor": "white",
             "startlinecolor": "#2a3f5f"
            },
            "type": "carpet"
           }
          ],
          "choropleth": [
           {
            "colorbar": {
             "outlinewidth": 0,
             "ticks": ""
            },
            "type": "choropleth"
           }
          ],
          "contour": [
           {
            "colorbar": {
             "outlinewidth": 0,
             "ticks": ""
            },
            "colorscale": [
             [
              0,
              "#0d0887"
             ],
             [
              0.1111111111111111,
              "#46039f"
             ],
             [
              0.2222222222222222,
              "#7201a8"
             ],
             [
              0.3333333333333333,
              "#9c179e"
             ],
             [
              0.4444444444444444,
              "#bd3786"
             ],
             [
              0.5555555555555556,
              "#d8576b"
             ],
             [
              0.6666666666666666,
              "#ed7953"
             ],
             [
              0.7777777777777778,
              "#fb9f3a"
             ],
             [
              0.8888888888888888,
              "#fdca26"
             ],
             [
              1,
              "#f0f921"
             ]
            ],
            "type": "contour"
           }
          ],
          "contourcarpet": [
           {
            "colorbar": {
             "outlinewidth": 0,
             "ticks": ""
            },
            "type": "contourcarpet"
           }
          ],
          "heatmap": [
           {
            "colorbar": {
             "outlinewidth": 0,
             "ticks": ""
            },
            "colorscale": [
             [
              0,
              "#0d0887"
             ],
             [
              0.1111111111111111,
              "#46039f"
             ],
             [
              0.2222222222222222,
              "#7201a8"
             ],
             [
              0.3333333333333333,
              "#9c179e"
             ],
             [
              0.4444444444444444,
              "#bd3786"
             ],
             [
              0.5555555555555556,
              "#d8576b"
             ],
             [
              0.6666666666666666,
              "#ed7953"
             ],
             [
              0.7777777777777778,
              "#fb9f3a"
             ],
             [
              0.8888888888888888,
              "#fdca26"
             ],
             [
              1,
              "#f0f921"
             ]
            ],
            "type": "heatmap"
           }
          ],
          "heatmapgl": [
           {
            "colorbar": {
             "outlinewidth": 0,
             "ticks": ""
            },
            "colorscale": [
             [
              0,
              "#0d0887"
             ],
             [
              0.1111111111111111,
              "#46039f"
             ],
             [
              0.2222222222222222,
              "#7201a8"
             ],
             [
              0.3333333333333333,
              "#9c179e"
             ],
             [
              0.4444444444444444,
              "#bd3786"
             ],
             [
              0.5555555555555556,
              "#d8576b"
             ],
             [
              0.6666666666666666,
              "#ed7953"
             ],
             [
              0.7777777777777778,
              "#fb9f3a"
             ],
             [
              0.8888888888888888,
              "#fdca26"
             ],
             [
              1,
              "#f0f921"
             ]
            ],
            "type": "heatmapgl"
           }
          ],
          "histogram": [
           {
            "marker": {
             "pattern": {
              "fillmode": "overlay",
              "size": 10,
              "solidity": 0.2
             }
            },
            "type": "histogram"
           }
          ],
          "histogram2d": [
           {
            "colorbar": {
             "outlinewidth": 0,
             "ticks": ""
            },
            "colorscale": [
             [
              0,
              "#0d0887"
             ],
             [
              0.1111111111111111,
              "#46039f"
             ],
             [
              0.2222222222222222,
              "#7201a8"
             ],
             [
              0.3333333333333333,
              "#9c179e"
             ],
             [
              0.4444444444444444,
              "#bd3786"
             ],
             [
              0.5555555555555556,
              "#d8576b"
             ],
             [
              0.6666666666666666,
              "#ed7953"
             ],
             [
              0.7777777777777778,
              "#fb9f3a"
             ],
             [
              0.8888888888888888,
              "#fdca26"
             ],
             [
              1,
              "#f0f921"
             ]
            ],
            "type": "histogram2d"
           }
          ],
          "histogram2dcontour": [
           {
            "colorbar": {
             "outlinewidth": 0,
             "ticks": ""
            },
            "colorscale": [
             [
              0,
              "#0d0887"
             ],
             [
              0.1111111111111111,
              "#46039f"
             ],
             [
              0.2222222222222222,
              "#7201a8"
             ],
             [
              0.3333333333333333,
              "#9c179e"
             ],
             [
              0.4444444444444444,
              "#bd3786"
             ],
             [
              0.5555555555555556,
              "#d8576b"
             ],
             [
              0.6666666666666666,
              "#ed7953"
             ],
             [
              0.7777777777777778,
              "#fb9f3a"
             ],
             [
              0.8888888888888888,
              "#fdca26"
             ],
             [
              1,
              "#f0f921"
             ]
            ],
            "type": "histogram2dcontour"
           }
          ],
          "mesh3d": [
           {
            "colorbar": {
             "outlinewidth": 0,
             "ticks": ""
            },
            "type": "mesh3d"
           }
          ],
          "parcoords": [
           {
            "line": {
             "colorbar": {
              "outlinewidth": 0,
              "ticks": ""
             }
            },
            "type": "parcoords"
           }
          ],
          "pie": [
           {
            "automargin": true,
            "type": "pie"
           }
          ],
          "scatter": [
           {
            "marker": {
             "colorbar": {
              "outlinewidth": 0,
              "ticks": ""
             }
            },
            "type": "scatter"
           }
          ],
          "scatter3d": [
           {
            "line": {
             "colorbar": {
              "outlinewidth": 0,
              "ticks": ""
             }
            },
            "marker": {
             "colorbar": {
              "outlinewidth": 0,
              "ticks": ""
             }
            },
            "type": "scatter3d"
           }
          ],
          "scattercarpet": [
           {
            "marker": {
             "colorbar": {
              "outlinewidth": 0,
              "ticks": ""
             }
            },
            "type": "scattercarpet"
           }
          ],
          "scattergeo": [
           {
            "marker": {
             "colorbar": {
              "outlinewidth": 0,
              "ticks": ""
             }
            },
            "type": "scattergeo"
           }
          ],
          "scattergl": [
           {
            "marker": {
             "colorbar": {
              "outlinewidth": 0,
              "ticks": ""
             }
            },
            "type": "scattergl"
           }
          ],
          "scattermapbox": [
           {
            "marker": {
             "colorbar": {
              "outlinewidth": 0,
              "ticks": ""
             }
            },
            "type": "scattermapbox"
           }
          ],
          "scatterpolar": [
           {
            "marker": {
             "colorbar": {
              "outlinewidth": 0,
              "ticks": ""
             }
            },
            "type": "scatterpolar"
           }
          ],
          "scatterpolargl": [
           {
            "marker": {
             "colorbar": {
              "outlinewidth": 0,
              "ticks": ""
             }
            },
            "type": "scatterpolargl"
           }
          ],
          "scatterternary": [
           {
            "marker": {
             "colorbar": {
              "outlinewidth": 0,
              "ticks": ""
             }
            },
            "type": "scatterternary"
           }
          ],
          "surface": [
           {
            "colorbar": {
             "outlinewidth": 0,
             "ticks": ""
            },
            "colorscale": [
             [
              0,
              "#0d0887"
             ],
             [
              0.1111111111111111,
              "#46039f"
             ],
             [
              0.2222222222222222,
              "#7201a8"
             ],
             [
              0.3333333333333333,
              "#9c179e"
             ],
             [
              0.4444444444444444,
              "#bd3786"
             ],
             [
              0.5555555555555556,
              "#d8576b"
             ],
             [
              0.6666666666666666,
              "#ed7953"
             ],
             [
              0.7777777777777778,
              "#fb9f3a"
             ],
             [
              0.8888888888888888,
              "#fdca26"
             ],
             [
              1,
              "#f0f921"
             ]
            ],
            "type": "surface"
           }
          ],
          "table": [
           {
            "cells": {
             "fill": {
              "color": "#EBF0F8"
             },
             "line": {
              "color": "white"
             }
            },
            "header": {
             "fill": {
              "color": "#C8D4E3"
             },
             "line": {
              "color": "white"
             }
            },
            "type": "table"
           }
          ]
         },
         "layout": {
          "annotationdefaults": {
           "arrowcolor": "#2a3f5f",
           "arrowhead": 0,
           "arrowwidth": 1
          },
          "autotypenumbers": "strict",
          "coloraxis": {
           "colorbar": {
            "outlinewidth": 0,
            "ticks": ""
           }
          },
          "colorscale": {
           "diverging": [
            [
             0,
             "#8e0152"
            ],
            [
             0.1,
             "#c51b7d"
            ],
            [
             0.2,
             "#de77ae"
            ],
            [
             0.3,
             "#f1b6da"
            ],
            [
             0.4,
             "#fde0ef"
            ],
            [
             0.5,
             "#f7f7f7"
            ],
            [
             0.6,
             "#e6f5d0"
            ],
            [
             0.7,
             "#b8e186"
            ],
            [
             0.8,
             "#7fbc41"
            ],
            [
             0.9,
             "#4d9221"
            ],
            [
             1,
             "#276419"
            ]
           ],
           "sequential": [
            [
             0,
             "#0d0887"
            ],
            [
             0.1111111111111111,
             "#46039f"
            ],
            [
             0.2222222222222222,
             "#7201a8"
            ],
            [
             0.3333333333333333,
             "#9c179e"
            ],
            [
             0.4444444444444444,
             "#bd3786"
            ],
            [
             0.5555555555555556,
             "#d8576b"
            ],
            [
             0.6666666666666666,
             "#ed7953"
            ],
            [
             0.7777777777777778,
             "#fb9f3a"
            ],
            [
             0.8888888888888888,
             "#fdca26"
            ],
            [
             1,
             "#f0f921"
            ]
           ],
           "sequentialminus": [
            [
             0,
             "#0d0887"
            ],
            [
             0.1111111111111111,
             "#46039f"
            ],
            [
             0.2222222222222222,
             "#7201a8"
            ],
            [
             0.3333333333333333,
             "#9c179e"
            ],
            [
             0.4444444444444444,
             "#bd3786"
            ],
            [
             0.5555555555555556,
             "#d8576b"
            ],
            [
             0.6666666666666666,
             "#ed7953"
            ],
            [
             0.7777777777777778,
             "#fb9f3a"
            ],
            [
             0.8888888888888888,
             "#fdca26"
            ],
            [
             1,
             "#f0f921"
            ]
           ]
          },
          "colorway": [
           "#636efa",
           "#EF553B",
           "#00cc96",
           "#ab63fa",
           "#FFA15A",
           "#19d3f3",
           "#FF6692",
           "#B6E880",
           "#FF97FF",
           "#FECB52"
          ],
          "font": {
           "color": "#2a3f5f"
          },
          "geo": {
           "bgcolor": "white",
           "lakecolor": "white",
           "landcolor": "#E5ECF6",
           "showlakes": true,
           "showland": true,
           "subunitcolor": "white"
          },
          "hoverlabel": {
           "align": "left"
          },
          "hovermode": "closest",
          "mapbox": {
           "style": "light"
          },
          "paper_bgcolor": "white",
          "plot_bgcolor": "#E5ECF6",
          "polar": {
           "angularaxis": {
            "gridcolor": "white",
            "linecolor": "white",
            "ticks": ""
           },
           "bgcolor": "#E5ECF6",
           "radialaxis": {
            "gridcolor": "white",
            "linecolor": "white",
            "ticks": ""
           }
          },
          "scene": {
           "xaxis": {
            "backgroundcolor": "#E5ECF6",
            "gridcolor": "white",
            "gridwidth": 2,
            "linecolor": "white",
            "showbackground": true,
            "ticks": "",
            "zerolinecolor": "white"
           },
           "yaxis": {
            "backgroundcolor": "#E5ECF6",
            "gridcolor": "white",
            "gridwidth": 2,
            "linecolor": "white",
            "showbackground": true,
            "ticks": "",
            "zerolinecolor": "white"
           },
           "zaxis": {
            "backgroundcolor": "#E5ECF6",
            "gridcolor": "white",
            "gridwidth": 2,
            "linecolor": "white",
            "showbackground": true,
            "ticks": "",
            "zerolinecolor": "white"
           }
          },
          "shapedefaults": {
           "line": {
            "color": "#2a3f5f"
           }
          },
          "ternary": {
           "aaxis": {
            "gridcolor": "white",
            "linecolor": "white",
            "ticks": ""
           },
           "baxis": {
            "gridcolor": "white",
            "linecolor": "white",
            "ticks": ""
           },
           "bgcolor": "#E5ECF6",
           "caxis": {
            "gridcolor": "white",
            "linecolor": "white",
            "ticks": ""
           }
          },
          "title": {
           "x": 0.05
          },
          "xaxis": {
           "automargin": true,
           "gridcolor": "white",
           "linecolor": "white",
           "ticks": "",
           "title": {
            "standoff": 15
           },
           "zerolinecolor": "white",
           "zerolinewidth": 2
          },
          "yaxis": {
           "automargin": true,
           "gridcolor": "white",
           "linecolor": "white",
           "ticks": "",
           "title": {
            "standoff": 15
           },
           "zerolinecolor": "white",
           "zerolinewidth": 2
          }
         }
        },
        "title": {
         "text": "Dreamteam count vs Cost"
        },
        "xaxis": {
         "anchor": "y",
         "domain": [
          0,
          1
         ],
         "title": {
          "text": "now_cost"
         }
        },
        "yaxis": {
         "anchor": "x",
         "domain": [
          0,
          1
         ],
         "title": {
          "text": "dreamteam_count"
         }
        }
       }
      }
     },
     "metadata": {},
     "output_type": "display_data"
    }
   ],
   "source": [
    "px.scatter(df, \n",
    "           x='now_cost', y='dreamteam_count',\n",
    "           color='element_type',\n",
    "           color_discrete_map=position_colors,\n",
    "           hover_data= ['player_name'],\n",
    "           title='Dreamteam count vs Cost'\n",
    "              )\n",
    "\n",
    "#sns.scatterplot(x = df['now_cost'], y = df['dreamteam_count'], hue=df['element_type'], palette=position_colors)"
   ]
  },
  {
   "cell_type": "code",
   "execution_count": 102,
   "metadata": {},
   "outputs": [
    {
     "data": {
      "application/vnd.plotly.v1+json": {
       "config": {
        "plotlyServerURL": "https://plot.ly"
       },
       "data": [
        {
         "customdata": [
          [
           "Bernd Leno"
          ],
          [
           "Aaron Ramsdale"
          ],
          [
           "Emiliano Martínez"
          ],
          [
           "David Raya Martin"
          ],
          [
           "Álvaro Fernández"
          ],
          [
           "Jonas Lössl"
          ],
          [
           "Jason Steele"
          ],
          [
           "Robert Sánchez"
          ],
          [
           "Nick Pope"
          ],
          [
           "Wayne Hennessey"
          ],
          [
           "Kepa Arrizabalaga"
          ],
          [
           "Edouard Mendy"
          ],
          [
           "Vicente Guaita"
          ],
          [
           "Jack Butland"
          ],
          [
           "Jordan Pickford"
          ],
          [
           "Asmir Begović"
          ],
          [
           "Kasper Schmeichel"
          ],
          [
           "Illan Meslier"
          ],
          [
           "Alisson Ramses Becker"
          ],
          [
           "Caoimhin Kelleher"
          ],
          [
           "Ederson Santana de Moraes"
          ],
          [
           "Zack Steffen"
          ],
          [
           "David de Gea"
          ],
          [
           "Karl Darlow"
          ],
          [
           "Martin Dubravka"
          ],
          [
           "Tim Krul"
          ],
          [
           "Angus Gunn"
          ],
          [
           "Fraser Forster"
          ],
          [
           "Willy Caballero"
          ],
          [
           "Hugo Lloris"
          ],
          [
           "Ben Foster"
          ],
          [
           "Daniel Bachmann"
          ],
          [
           "Lukasz Fabianski"
          ],
          [
           "Alphonse Areola"
          ],
          [
           "José Malheiro de Sá"
          ]
         ],
         "hovertemplate": "element_type=Goalkeeper<br>selected_by_percent=%{x}<br>total_points=%{y}<br>player_name=%{customdata[0]}<extra></extra>",
         "legendgroup": "Goalkeeper",
         "marker": {
          "color": "red",
          "symbol": "circle"
         },
         "mode": "markers",
         "name": "Goalkeeper",
         "orientation": "v",
         "showlegend": true,
         "type": "scatter",
         "x": [
          0.8,
          20.4,
          12.1,
          3.4,
          0.6,
          0,
          1.8,
          16.7,
          3.4,
          0.3,
          0.4,
          11.8,
          6,
          0.4,
          4.4,
          2.5,
          12.1,
          2.1,
          7.9,
          0.1,
          11.6,
          0.2,
          11.7,
          0.3,
          2.7,
          1.1,
          1.9,
          1.3,
          0,
          7.8,
          18.9,
          1.6,
          2.7,
          0.7,
          11.4
         ],
         "xaxis": "x",
         "y": [
          4,
          107,
          93,
          56,
          31,
          2,
          2,
          86,
          90,
          4,
          19,
          95,
          80,
          19,
          73,
          1,
          85,
          69,
          123,
          8,
          117,
          7,
          112,
          20,
          50,
          56,
          26,
          34,
          2,
          104,
          57,
          22,
          97,
          2,
          118
         ],
         "yaxis": "y"
        },
        {
         "customdata": [
          [
           "Cédric Soares"
          ],
          [
           "Rob Holding"
          ],
          [
           "Kieran Tierney"
          ],
          [
           "Gabriel Magalhães"
          ],
          [
           "Ben White"
          ],
          [
           "Nuno Varela Tavares"
          ],
          [
           "Takehiro Tomiyasu"
          ],
          [
           "Calum Chambers"
          ],
          [
           "Kortney Hause"
          ],
          [
           "Tyrone Mings"
          ],
          [
           "Matthew Cash"
          ],
          [
           "Ezri Konsa Ngoyo"
          ],
          [
           "Ashley Young"
          ],
          [
           "Lucas Digne"
          ],
          [
           "Pontus Jansson"
          ],
          [
           "Rico Henry"
          ],
          [
           "Mads Roerslev Rasmussen"
          ],
          [
           "Mads Bech Sørensen"
          ],
          [
           "Ethan Pinnock"
          ],
          [
           "Kristoffer Ajer"
          ],
          [
           "Mathias Jorgensen"
          ],
          [
           "Shane Duffy"
          ],
          [
           "Lewis Dunk"
          ],
          [
           "Adam Webster"
          ],
          [
           "Joël Veltman"
          ],
          [
           "Tariq Lamptey"
          ],
          [
           "Marc Cucurella"
          ],
          [
           "James Tarkowski"
          ],
          [
           "Erik Pieters"
          ],
          [
           "Ben Mee"
          ],
          [
           "Matthew Lowton"
          ],
          [
           "Charlie Taylor"
          ],
          [
           "Nathan Collins"
          ],
          [
           "Connor Roberts"
          ],
          [
           "César Azpilicueta"
          ],
          [
           "Thiago Emiliano da Silva"
          ],
          [
           "Marcos Alonso"
          ],
          [
           "Antonio Rüdiger"
          ],
          [
           "Andreas Christensen"
          ],
          [
           "Benjamin Chilwell"
          ],
          [
           "Reece James"
          ],
          [
           "Malang Sarr"
          ],
          [
           "Trevoh Chalobah"
          ],
          [
           "James Tomkins"
          ],
          [
           "Cheikhou Kouyaté"
          ],
          [
           "Tyrick Mitchell"
          ],
          [
           "Joel Ward"
          ],
          [
           "Marc Guéhi"
          ],
          [
           "Joachim Andersen"
          ],
          [
           "Nathaniel Clyne"
          ],
          [
           "Seamus Coleman"
          ],
          [
           "Michael Keane"
          ],
          [
           "Yerry Mina"
          ],
          [
           "Mason Holgate"
          ],
          [
           "Ben Godfrey"
          ],
          [
           "Jonjoe Kenny"
          ],
          [
           "Jarrad Branthwaite"
          ],
          [
           "Vitalii Mykolenko"
          ],
          [
           "Jonny Evans"
          ],
          [
           "Ricardo Domingos Barbosa Pereira"
          ],
          [
           "Daniel Amartey"
          ],
          [
           "Timothy Castagne"
          ],
          [
           "Çaglar Söyüncü"
          ],
          [
           "James Justin"
          ],
          [
           "Luke Thomas"
          ],
          [
           "Jannik Vestergaard"
          ],
          [
           "Liam Cooper"
          ],
          [
           "Luke Ayling"
          ],
          [
           "Diego Llorente"
          ],
          [
           "Robin Koch"
          ],
          [
           "Pascal Struijk"
          ],
          [
           "Héctor Junior Firpo Adames"
          ],
          [
           "Charlie Cresswell"
          ],
          [
           "Joel Matip"
          ],
          [
           "Virgil van Dijk"
          ],
          [
           "Andrew Robertson"
          ],
          [
           "Trent Alexander-Arnold"
          ],
          [
           "Joseph Gomez"
          ],
          [
           "Ibrahima Konaté"
          ],
          [
           "Konstantinos Tsimikas"
          ],
          [
           "Kyle Walker"
          ],
          [
           "John Stones"
          ],
          [
           "João Pedro Cavaco Cancelo"
          ],
          [
           "Nathan Aké"
          ],
          [
           "Aymeric Laporte"
          ],
          [
           "Rúben Santos Gato Alves Dias"
          ],
          [
           "Oleksandr Zinchenko"
          ],
          [
           "Harry Maguire"
          ],
          [
           "Luke Shaw"
          ],
          [
           "Alex Nicolao Telles"
          ],
          [
           "Victor Lindelöf"
          ],
          [
           "Eric Bailly"
          ],
          [
           "Aaron Wan-Bissaka"
          ],
          [
           "José Diogo Dalot Teixeira"
          ],
          [
           "Raphaël Varane"
          ],
          [
           "Phil Jones"
          ],
          [
           "Matt Targett"
          ],
          [
           "Dan Burn"
          ],
          [
           "Matt Ritchie"
          ],
          [
           "Jamaal Lascelles"
          ],
          [
           "Paul Dummett"
          ],
          [
           "Javier Manquillo"
          ],
          [
           "Emil Krafth"
          ],
          [
           "Fabian Schär"
          ],
          [
           "Federico Fernández"
          ],
          [
           "Brandon Williams"
          ],
          [
           "Grant Hanley"
          ],
          [
           "Sam Byram"
          ],
          [
           "Max Aarons"
          ],
          [
           "Jacob Sørensen"
          ],
          [
           "Ben Gibson"
          ],
          [
           "Dimitris Giannoulis"
          ],
          [
           "Ozan Kabak"
          ],
          [
           "Jack Stephens"
          ],
          [
           "Kyle Walker-Peters"
          ],
          [
           "Jan Bednarek"
          ],
          [
           "Mohammed Salisu"
          ],
          [
           "Romain Perraud"
          ],
          [
           "Tino Livramento"
          ],
          [
           "Yan Valery"
          ],
          [
           "Lyanco Evangelista Silveira Neves Vojnovic"
          ],
          [
           "Matt Doherty"
          ],
          [
           "Eric Dier"
          ],
          [
           "Ben Davies"
          ],
          [
           "Davinson Sánchez"
          ],
          [
           "Ryan Sessegnon"
          ],
          [
           "Sergio Reguilón"
          ],
          [
           "Cristian Romero"
          ],
          [
           "Emerson Aparecido Leite de Souza Junior"
          ],
          [
           "Emerson Aparecido Leite de Souza Junior"
          ],
          [
           "Craig Cathcart"
          ],
          [
           "Francisco Femenía Far"
          ],
          [
           "Christian Kabasele"
          ],
          [
           "William Troost-Ekong"
          ],
          [
           "Adam Masina"
          ],
          [
           "Francisco Sierralta"
          ],
          [
           "Jeremy Ngakia"
          ],
          [
           "Nicolas Nkoulou"
          ],
          [
           "Hassane Kamara"
          ],
          [
           "Samir Caetano de Souza Santos"
          ],
          [
           "Kurt Zouma"
          ],
          [
           "Aaron Cresswell"
          ],
          [
           "Craig Dawson"
          ],
          [
           "Ryan Fredericks"
          ],
          [
           "Arthur Masuaku"
          ],
          [
           "Issa Diop"
          ],
          [
           "Ben Johnson"
          ],
          [
           "Conor Coady"
          ],
          [
           "Romain Saïss"
          ],
          [
           "Fernando Marçal"
          ],
          [
           "Jonathan Castro Otto"
          ],
          [
           "Nélson Cabral Semedo"
          ],
          [
           "Max Kilman"
          ],
          [
           "Ki-Jana Hoever"
          ],
          [
           "Rayan Ait Nouri"
          ],
          [
           "Toti António Gomes"
          ]
         ],
         "hovertemplate": "element_type=Defender<br>selected_by_percent=%{x}<br>total_points=%{y}<br>player_name=%{customdata[0]}<extra></extra>",
         "legendgroup": "Defender",
         "marker": {
          "color": "blue",
          "symbol": "circle"
         },
         "mode": "markers",
         "name": "Defender",
         "orientation": "v",
         "showlegend": true,
         "type": "scatter",
         "x": [
          0.2,
          0.6,
          12.2,
          6.8,
          13.1,
          0.3,
          2.1,
          0.2,
          0.2,
          6.2,
          6.1,
          0.9,
          0.4,
          9.4,
          5.8,
          0.9,
          0.1,
          0,
          3.2,
          0.5,
          0,
          8.7,
          2.1,
          0.4,
          1,
          2.4,
          3.2,
          1.4,
          0.3,
          2.2,
          1.3,
          0.3,
          0.1,
          0.5,
          3.1,
          8.3,
          8.4,
          25.5,
          1.4,
          3.1,
          15.2,
          0.2,
          1.9,
          0.1,
          0.5,
          1.3,
          0.2,
          1.5,
          0.4,
          0.1,
          0.6,
          2.4,
          0.3,
          0.5,
          0.4,
          0.1,
          0.3,
          0,
          0.2,
          1.5,
          9.6,
          0.5,
          1.5,
          0.1,
          0.7,
          0.5,
          0.2,
          2.8,
          0.3,
          0.1,
          0.1,
          0.3,
          0.3,
          3,
          18.6,
          7.3,
          46.1,
          0.4,
          1.1,
          10.7,
          5.3,
          2.7,
          41.8,
          0.4,
          8.8,
          20.6,
          0.7,
          4.8,
          12.3,
          0.5,
          0.5,
          0.1,
          3.1,
          2.2,
          2.8,
          0,
          2.6,
          0.5,
          0.2,
          0.2,
          0,
          5,
          0.1,
          1.8,
          0.1,
          5.2,
          0.1,
          0,
          1,
          0,
          0.1,
          0.1,
          0,
          0.1,
          1.2,
          1.8,
          0.3,
          0.1,
          12.6,
          0.5,
          0,
          1.4,
          4.3,
          1.6,
          2.3,
          0.2,
          10.7,
          0.4,
          1.3,
          1.3,
          0.3,
          0.2,
          0,
          0.1,
          0.1,
          0,
          0,
          0,
          0.1,
          0,
          1.2,
          7.6,
          1.1,
          0.1,
          0.1,
          0.3,
          3,
          15.1,
          4,
          1.5,
          0.1,
          2,
          4,
          1.8,
          1.9,
          0
         ],
         "xaxis": "x",
         "y": [
          12,
          15,
          93,
          102,
          88,
          32,
          69,
          12,
          20,
          89,
          99,
          66,
          39,
          50,
          79,
          68,
          28,
          6,
          73,
          46,
          12,
          47,
          60,
          53,
          55,
          53,
          81,
          65,
          33,
          74,
          56,
          47,
          21,
          37,
          67,
          106,
          78,
          114,
          48,
          54,
          109,
          21,
          67,
          17,
          63,
          84,
          55,
          84,
          73,
          14,
          49,
          69,
          16,
          23,
          29,
          17,
          9,
          2,
          19,
          28,
          38,
          29,
          51,
          4,
          45,
          11,
          41,
          28,
          47,
          8,
          16,
          13,
          4,
          94,
          136,
          124,
          174,
          6,
          27,
          38,
          72,
          55,
          153,
          38,
          117,
          122,
          34,
          62,
          46,
          40,
          53,
          2,
          39,
          41,
          55,
          2,
          60,
          51,
          18,
          33,
          7,
          34,
          21,
          59,
          11,
          33,
          51,
          3,
          47,
          8,
          37,
          23,
          16,
          12,
          64,
          77,
          53,
          29,
          75,
          2,
          10,
          43,
          85,
          55,
          67,
          23,
          85,
          23,
          56,
          56,
          44,
          43,
          6,
          17,
          12,
          5,
          20,
          5,
          26,
          23,
          53,
          91,
          70,
          3,
          27,
          26,
          39,
          102,
          94,
          53,
          2,
          91,
          94,
          14,
          62,
          3
         ],
         "yaxis": "y"
        },
        {
         "customdata": [
          [
           "Alexandre Lacazette"
          ],
          [
           "Edward Nketiah"
          ],
          [
           "Ollie Watkins"
          ],
          [
           "Danny Ings"
          ],
          [
           "Ivan Toney"
          ],
          [
           "Neal Maupay"
          ],
          [
           "Danny Welbeck"
          ],
          [
           "Jay Rodriguez"
          ],
          [
           "Ashley Barnes"
          ],
          [
           "Wout Weghorst"
          ],
          [
           "Timo Werner"
          ],
          [
           "Romelu Lukaku"
          ],
          [
           "Christian Benteke"
          ],
          [
           "Jordan Ayew"
          ],
          [
           "Jean-Philippe Mateta"
          ],
          [
           "Odsonne Edouard"
          ],
          [
           "Dominic Calvert-Lewin"
          ],
          [
           "Richarlison de Andrade"
          ],
          [
           "Salomón Rondón"
          ],
          [
           "Jamie Vardy"
          ],
          [
           "Kelechi Iheanacho"
          ],
          [
           "Patson Daka"
          ],
          [
           "Rodrigo Moreno"
          ],
          [
           "Patrick Bamford"
          ],
          [
           "Joe Gelhardt"
          ],
          [
           "Roberto Firmino"
          ],
          [
           "Gabriel Fernando de Jesus"
          ],
          [
           "Edinson Cavani"
          ],
          [
           "Cristiano Ronaldo dos Santos Aveiro"
          ],
          [
           "Chris Wood"
          ],
          [
           "Callum Wilson"
          ],
          [
           "Allan Saint-Maximin"
          ],
          [
           "Joelinton Cássio Apolinário de Lira"
          ],
          [
           "Teemu Pukki"
          ],
          [
           "Adam Idah"
          ],
          [
           "Joshua Sargent"
          ],
          [
           "Che Adams"
          ],
          [
           "Armando Broja"
          ],
          [
           "Shane Long"
          ],
          [
           "Adam Armstrong"
          ],
          [
           "Harry Kane"
          ],
          [
           "João Pedro Junqueira de Jesus"
          ],
          [
           "Emmanuel Dennis"
          ],
          [
           "Joshua King"
          ],
          [
           "Juan Camilo Hernández Suárez"
          ],
          [
           "Michail Antonio"
          ],
          [
           "Raúl Jiménez"
          ],
          [
           "Fabio Silva"
          ],
          [
           "Hee-Chan Hwang"
          ]
         ],
         "hovertemplate": "element_type=Forward<br>selected_by_percent=%{x}<br>total_points=%{y}<br>player_name=%{customdata[0]}<extra></extra>",
         "legendgroup": "Forward",
         "marker": {
          "color": "Green",
          "symbol": "circle"
         },
         "mode": "markers",
         "name": "Forward",
         "orientation": "v",
         "showlegend": true,
         "type": "scatter",
         "x": [
          5.6,
          0.2,
          10.6,
          7.6,
          9.1,
          8.8,
          0.3,
          1.6,
          0.7,
          5.8,
          1.5,
          8.5,
          1.3,
          0.7,
          0.4,
          4.7,
          3.1,
          4.8,
          0.2,
          9.3,
          1.9,
          1.6,
          1.5,
          2.9,
          2.5,
          2.4,
          4.7,
          1.7,
          19.3,
          2.2,
          1.1,
          12.8,
          1.5,
          5.4,
          0.9,
          0.5,
          7.5,
          15.7,
          0.2,
          1.5,
          16.5,
          0.4,
          34.4,
          5.4,
          1.6,
          31.2,
          11.7,
          0.4,
          4.1
         ],
         "xaxis": "x",
         "y": [
          71,
          10,
          82,
          75,
          95,
          92,
          39,
          40,
          15,
          28,
          25,
          61,
          55,
          56,
          36,
          81,
          31,
          61,
          24,
          92,
          50,
          50,
          50,
          25,
          25,
          49,
          72,
          29,
          100,
          60,
          59,
          92,
          53,
          92,
          36,
          55,
          85,
          78,
          11,
          51,
          109,
          39,
          111,
          77,
          47,
          112,
          79,
          16,
          62
         ],
         "yaxis": "y"
        },
        {
         "customdata": [
          [
           "Granit Xhaka"
          ],
          [
           "Mohamed Naser El Sayed Elneny"
          ],
          [
           "Thomas Partey"
          ],
          [
           "Nicolas Pépé"
          ],
          [
           "Emile Smith Rowe"
          ],
          [
           "Bukayo Saka"
          ],
          [
           "Gabriel Teodoro Martinelli Silva"
          ],
          [
           "Albert Sambi Lokonga"
          ],
          [
           "Martin Ødegaard"
          ],
          [
           "Bertrand Traoré"
          ],
          [
           "Morgan Sanson"
          ],
          [
           "John McGinn"
          ],
          [
           "Marvelous Nakamba"
          ],
          [
           "Emiliano Buendía Stati"
          ],
          [
           "Douglas Luiz Soares de Paulo"
          ],
          [
           "Jacob Ramsey"
          ],
          [
           "Leon Bailey"
          ],
          [
           "Carney Chukwuemeka"
          ],
          [
           "Philippe Coutinho Correia"
          ],
          [
           "Christian Nørgaard"
          ],
          [
           "Sergi Canós"
          ],
          [
           "Pelenda Joshua Dasilva"
          ],
          [
           "Vitaly Janelt"
          ],
          [
           "Saman Ghoddos"
          ],
          [
           "Mathias Jensen"
          ],
          [
           "Bryan Mbeumo"
          ],
          [
           "Frank Onyeka"
          ],
          [
           "Shandon Baptiste"
          ],
          [
           "Yoane Wissa"
          ],
          [
           "Christian Eriksen"
          ],
          [
           "Adam Lallana"
          ],
          [
           "Pascal Groß"
          ],
          [
           "Solomon March"
          ],
          [
           "Leandro Trossard"
          ],
          [
           "Yves Bissouma"
          ],
          [
           "Steven Alzate"
          ],
          [
           "Alexis Mac Allister"
          ],
          [
           "Jakub Moder"
          ],
          [
           "Enock Mwepu"
          ],
          [
           "Jack Cork"
          ],
          [
           "Dale Stephens"
          ],
          [
           "Ashley Westwood"
          ],
          [
           "Josh Brownhill"
          ],
          [
           "Dwight McNeil"
          ],
          [
           "Aaron Lennon"
          ],
          [
           "Maxwel Cornet"
          ],
          [
           "Jorge Luiz Frello Filho"
          ],
          [
           "Ross Barkley"
          ],
          [
           "Mateo Kovacic"
          ],
          [
           "N'Golo Kanté"
          ],
          [
           "Hakim Ziyech"
          ],
          [
           "Ruben Loftus-Cheek"
          ],
          [
           "Christian Pulisic"
          ],
          [
           "Mason Mount"
          ],
          [
           "Callum Hudson-Odoi"
          ],
          [
           "Kai Havertz"
          ],
          [
           "Saúl Ñíguez"
          ],
          [
           "Conor Gallagher"
          ],
          [
           "James McArthur"
          ],
          [
           "Luka Milivojevic"
          ],
          [
           "Wilfried Zaha"
          ],
          [
           "Jeffrey Schlupp"
          ],
          [
           "Jairo Riedewald"
          ],
          [
           "Eberechi Eze"
          ],
          [
           "Will Hughes"
          ],
          [
           "Michael Olise"
          ],
          [
           "Anwar El Ghazi"
          ],
          [
           "Fabian Delph"
          ],
          [
           "Allan Marques Loureiro"
          ],
          [
           "André Filipe Tavares Gomes"
          ],
          [
           "Abdoulaye Doucouré"
          ],
          [
           "Alex Iwobi"
          ],
          [
           "Donny van de Beek"
          ],
          [
           "Bamidele Alli"
          ],
          [
           "Andros Townsend"
          ],
          [
           "Demarai Gray"
          ],
          [
           "Anthony Gordon"
          ],
          [
           "Marc Albrighton"
          ],
          [
           "Youri Tielemans"
          ],
          [
           "Ayoze Pérez"
          ],
          [
           "James Maddison"
          ],
          [
           "Hamza Choudhury"
          ],
          [
           "Harvey Barnes"
          ],
          [
           "Wilfred Ndidi"
          ],
          [
           "Boubakary Soumaré"
          ],
          [
           "Kiernan Dewsbury-Hall"
          ],
          [
           "Ademola Lookman"
          ],
          [
           "Mateusz Klich"
          ],
          [
           "Stuart Dallas"
          ],
          [
           "Kalvin Phillips"
          ],
          [
           "Tyler Roberts"
          ],
          [
           "Raphael Dias Belloli"
          ],
          [
           "Jamie Shackleton"
          ],
          [
           "Jack Harrison"
          ],
          [
           "Daniel James"
          ],
          [
           "Crysencio Summerville"
          ],
          [
           "Adam Forshaw"
          ],
          [
           "James Milner"
          ],
          [
           "Jordan Henderson"
          ],
          [
           "Thiago Alcántara do Nascimento"
          ],
          [
           "Alex Oxlade-Chamberlain"
          ],
          [
           "Sadio Mané"
          ],
          [
           "Fabio Henrique Tavares"
          ],
          [
           "Mohamed Salah"
          ],
          [
           "Naby Keita"
          ],
          [
           "Diogo Jota"
          ],
          [
           "Curtis Jones"
          ],
          [
           "Harvey Elliott"
          ],
          [
           "Luis Díaz"
          ],
          [
           "Jack Grealish"
          ],
          [
           "Ilkay Gündogan"
          ],
          [
           "Kevin De Bruyne"
          ],
          [
           "Riyad Mahrez"
          ],
          [
           "Raheem Sterling"
          ],
          [
           "Bernardo Mota Veiga de Carvalho e Silva"
          ],
          [
           "Phil Foden"
          ],
          [
           "Rodrigo Hernandez"
          ],
          [
           "Fernando Luiz Rosa"
          ],
          [
           "Cole Palmer"
          ],
          [
           "Nemanja Matic"
          ],
          [
           "Paul Pogba"
          ],
          [
           "Frederico Rodrigues de Paula Santos"
          ],
          [
           "Jesse Lingard"
          ],
          [
           "Bruno Miguel Borges Fernandes"
          ],
          [
           "Marcus Rashford"
          ],
          [
           "Scott McTominay"
          ],
          [
           "Jadon Sancho"
          ],
          [
           "Anthony Elanga"
          ],
          [
           "Joseph Willock"
          ],
          [
           "Jonjo Shelvey"
          ],
          [
           "Ryan Fraser"
          ],
          [
           "Jacob Murphy"
          ],
          [
           "Miguel Almirón"
          ],
          [
           "Sean Longstaff"
          ],
          [
           "Billy Gilmour"
          ],
          [
           "Lukas Rupp"
          ],
          [
           "Kenny McLean"
          ],
          [
           "Kieran Dowell"
          ],
          [
           "Przemyslaw Placheta"
          ],
          [
           "Milot Rashica"
          ],
          [
           "Pierre Lees-Melou"
          ],
          [
           "Christos Tzolis"
          ],
          [
           "Mathias Normann"
          ],
          [
           "Theo Walcott"
          ],
          [
           "Oriol Romeu Vidal"
          ],
          [
           "Nathan Redmond"
          ],
          [
           "Stuart Armstrong"
          ],
          [
           "James Ward-Prowse"
          ],
          [
           "Nathan Tella"
          ],
          [
           "Ibrahima Diallo"
          ],
          [
           "Moussa Djenepo"
          ],
          [
           "Mohamed Elyounoussi"
          ],
          [
           "Heung-Min Son"
          ],
          [
           "Lucas Rodrigues Moura da Silva"
          ],
          [
           "Pierre-Emile Højbjerg"
          ],
          [
           "Harry Winks"
          ],
          [
           "Steven Bergwijn"
          ],
          [
           "Dejan Kulusevski"
          ],
          [
           "Rodrigo Bentancur"
          ],
          [
           "Moussa Sissoko"
          ],
          [
           "Tom Cleverley"
          ],
          [
           "Ken Sema"
          ],
          [
           "Imrân Louza"
          ],
          [
           "Oghenekaro Peter Etebo"
          ],
          [
           "Juraj Kucka"
          ],
          [
           "Edo Kayembe"
          ],
          [
           "Mark Noble"
          ],
          [
           "Manuel Lanzini"
          ],
          [
           "Saïd Benrahma"
          ],
          [
           "Jarrod Bowen"
          ],
          [
           "Declan Rice"
          ],
          [
           "Tomas Soucek"
          ],
          [
           "Pablo Fornals"
          ],
          [
           "Nikola Vlasic"
          ],
          [
           "João Filipe Iria Santos Moutinho"
          ],
          [
           "Leander Dendoncker"
          ],
          [
           "Rúben Diogo da Silva Neves"
          ],
          [
           "Daniel Castelo Podence"
          ],
          [
           "Pedro Lomba Neto"
          ],
          [
           "Francisco Machado Mota de Castro Trincão"
          ]
         ],
         "hovertemplate": "element_type=Midfielder<br>selected_by_percent=%{x}<br>total_points=%{y}<br>player_name=%{customdata[0]}<extra></extra>",
         "legendgroup": "Midfielder",
         "marker": {
          "color": "Orange",
          "symbol": "circle"
         },
         "mode": "markers",
         "name": "Midfielder",
         "orientation": "v",
         "showlegend": true,
         "type": "scatter",
         "x": [
          0.3,
          0.3,
          0.3,
          0.8,
          12,
          23.4,
          2.7,
          0.1,
          4.3,
          0.3,
          0,
          1.1,
          0.1,
          1.1,
          1.7,
          10.2,
          0.4,
          0,
          22.8,
          0.6,
          1.2,
          0,
          0.1,
          0,
          0,
          1,
          0.1,
          0,
          0.1,
          0.1,
          0.2,
          0.3,
          0.1,
          1.5,
          5.1,
          0,
          0.7,
          0.7,
          0.1,
          0.1,
          0,
          0.3,
          2.7,
          0.3,
          0.1,
          0.9,
          4.8,
          0.1,
          2.1,
          2.4,
          1.4,
          0.1,
          0.8,
          14.8,
          0.3,
          4.6,
          0.1,
          13.8,
          1.3,
          0,
          5.5,
          0.1,
          0,
          0.1,
          0.1,
          0.6,
          0.3,
          0.3,
          3.4,
          0.1,
          1.2,
          0.2,
          0.6,
          1.1,
          2.4,
          5.2,
          1.7,
          0.1,
          3.6,
          0.1,
          7.1,
          0.1,
          2.2,
          0.8,
          0.1,
          0.2,
          0.3,
          0.3,
          3,
          0.9,
          0.1,
          17,
          0.1,
          1.6,
          1,
          0,
          0.1,
          0.1,
          1.8,
          0.4,
          0.2,
          3.6,
          1.2,
          61.5,
          0.2,
          18.8,
          0.1,
          0.1,
          2.1,
          7.2,
          2.8,
          8.1,
          4.2,
          3.1,
          17.4,
          6,
          0.9,
          0.3,
          0.1,
          0.4,
          7.2,
          1,
          1,
          16.4,
          0.7,
          0.4,
          2.7,
          0.6,
          4.3,
          0.2,
          1.3,
          0.4,
          0.2,
          0.4,
          3.3,
          0.2,
          0.1,
          0,
          0,
          0.1,
          0.1,
          0,
          0.1,
          0.1,
          0.5,
          0.2,
          0.3,
          8.8,
          0,
          0.2,
          0,
          0.2,
          21,
          2.1,
          2.8,
          1.1,
          0.4,
          4,
          0,
          2.3,
          0.1,
          0,
          0,
          0.2,
          0.1,
          0,
          0.6,
          0.4,
          11.2,
          25.3,
          4.4,
          3.5,
          1.3,
          0,
          0.9,
          0.5,
          1.3,
          0.5,
          0.1,
          0.3
         ],
         "xaxis": "x",
         "y": [
          26,
          11,
          52,
          34,
          103,
          122,
          69,
          26,
          90,
          10,
          10,
          75,
          16,
          68,
          60,
          81,
          29,
          13,
          45,
          69,
          73,
          2,
          58,
          26,
          38,
          75,
          34,
          32,
          45,
          2,
          40,
          46,
          36,
          80,
          36,
          12,
          66,
          56,
          35,
          22,
          3,
          54,
          52,
          61,
          43,
          62,
          89,
          7,
          66,
          51,
          63,
          32,
          52,
          107,
          49,
          66,
          11,
          121,
          43,
          15,
          97,
          61,
          4,
          7,
          29,
          62,
          22,
          6,
          51,
          14,
          67,
          38,
          23,
          30,
          64,
          74,
          63,
          33,
          92,
          13,
          106,
          7,
          81,
          40,
          33,
          33,
          53,
          47,
          65,
          25,
          34,
          106,
          18,
          70,
          76,
          5,
          31,
          29,
          84,
          39,
          42,
          134,
          75,
          212,
          42,
          126,
          32,
          10,
          18,
          60,
          89,
          120,
          111,
          113,
          128,
          100,
          75,
          31,
          9,
          28,
          59,
          73,
          24,
          129,
          52,
          57,
          75,
          30,
          60,
          46,
          68,
          44,
          30,
          33,
          36,
          15,
          51,
          16,
          15,
          50,
          39,
          13,
          34,
          12,
          59,
          59,
          29,
          107,
          17,
          38,
          11,
          60,
          145,
          69,
          80,
          27,
          40,
          34,
          8,
          64,
          39,
          17,
          20,
          7,
          37,
          13,
          10,
          66,
          94,
          153,
          74,
          90,
          89,
          25,
          73,
          52,
          68,
          50,
          5,
          39
         ],
         "yaxis": "y"
        }
       ],
       "layout": {
        "legend": {
         "title": {
          "text": "element_type"
         },
         "tracegroupgap": 0
        },
        "template": {
         "data": {
          "bar": [
           {
            "error_x": {
             "color": "#2a3f5f"
            },
            "error_y": {
             "color": "#2a3f5f"
            },
            "marker": {
             "line": {
              "color": "#E5ECF6",
              "width": 0.5
             },
             "pattern": {
              "fillmode": "overlay",
              "size": 10,
              "solidity": 0.2
             }
            },
            "type": "bar"
           }
          ],
          "barpolar": [
           {
            "marker": {
             "line": {
              "color": "#E5ECF6",
              "width": 0.5
             },
             "pattern": {
              "fillmode": "overlay",
              "size": 10,
              "solidity": 0.2
             }
            },
            "type": "barpolar"
           }
          ],
          "carpet": [
           {
            "aaxis": {
             "endlinecolor": "#2a3f5f",
             "gridcolor": "white",
             "linecolor": "white",
             "minorgridcolor": "white",
             "startlinecolor": "#2a3f5f"
            },
            "baxis": {
             "endlinecolor": "#2a3f5f",
             "gridcolor": "white",
             "linecolor": "white",
             "minorgridcolor": "white",
             "startlinecolor": "#2a3f5f"
            },
            "type": "carpet"
           }
          ],
          "choropleth": [
           {
            "colorbar": {
             "outlinewidth": 0,
             "ticks": ""
            },
            "type": "choropleth"
           }
          ],
          "contour": [
           {
            "colorbar": {
             "outlinewidth": 0,
             "ticks": ""
            },
            "colorscale": [
             [
              0,
              "#0d0887"
             ],
             [
              0.1111111111111111,
              "#46039f"
             ],
             [
              0.2222222222222222,
              "#7201a8"
             ],
             [
              0.3333333333333333,
              "#9c179e"
             ],
             [
              0.4444444444444444,
              "#bd3786"
             ],
             [
              0.5555555555555556,
              "#d8576b"
             ],
             [
              0.6666666666666666,
              "#ed7953"
             ],
             [
              0.7777777777777778,
              "#fb9f3a"
             ],
             [
              0.8888888888888888,
              "#fdca26"
             ],
             [
              1,
              "#f0f921"
             ]
            ],
            "type": "contour"
           }
          ],
          "contourcarpet": [
           {
            "colorbar": {
             "outlinewidth": 0,
             "ticks": ""
            },
            "type": "contourcarpet"
           }
          ],
          "heatmap": [
           {
            "colorbar": {
             "outlinewidth": 0,
             "ticks": ""
            },
            "colorscale": [
             [
              0,
              "#0d0887"
             ],
             [
              0.1111111111111111,
              "#46039f"
             ],
             [
              0.2222222222222222,
              "#7201a8"
             ],
             [
              0.3333333333333333,
              "#9c179e"
             ],
             [
              0.4444444444444444,
              "#bd3786"
             ],
             [
              0.5555555555555556,
              "#d8576b"
             ],
             [
              0.6666666666666666,
              "#ed7953"
             ],
             [
              0.7777777777777778,
              "#fb9f3a"
             ],
             [
              0.8888888888888888,
              "#fdca26"
             ],
             [
              1,
              "#f0f921"
             ]
            ],
            "type": "heatmap"
           }
          ],
          "heatmapgl": [
           {
            "colorbar": {
             "outlinewidth": 0,
             "ticks": ""
            },
            "colorscale": [
             [
              0,
              "#0d0887"
             ],
             [
              0.1111111111111111,
              "#46039f"
             ],
             [
              0.2222222222222222,
              "#7201a8"
             ],
             [
              0.3333333333333333,
              "#9c179e"
             ],
             [
              0.4444444444444444,
              "#bd3786"
             ],
             [
              0.5555555555555556,
              "#d8576b"
             ],
             [
              0.6666666666666666,
              "#ed7953"
             ],
             [
              0.7777777777777778,
              "#fb9f3a"
             ],
             [
              0.8888888888888888,
              "#fdca26"
             ],
             [
              1,
              "#f0f921"
             ]
            ],
            "type": "heatmapgl"
           }
          ],
          "histogram": [
           {
            "marker": {
             "pattern": {
              "fillmode": "overlay",
              "size": 10,
              "solidity": 0.2
             }
            },
            "type": "histogram"
           }
          ],
          "histogram2d": [
           {
            "colorbar": {
             "outlinewidth": 0,
             "ticks": ""
            },
            "colorscale": [
             [
              0,
              "#0d0887"
             ],
             [
              0.1111111111111111,
              "#46039f"
             ],
             [
              0.2222222222222222,
              "#7201a8"
             ],
             [
              0.3333333333333333,
              "#9c179e"
             ],
             [
              0.4444444444444444,
              "#bd3786"
             ],
             [
              0.5555555555555556,
              "#d8576b"
             ],
             [
              0.6666666666666666,
              "#ed7953"
             ],
             [
              0.7777777777777778,
              "#fb9f3a"
             ],
             [
              0.8888888888888888,
              "#fdca26"
             ],
             [
              1,
              "#f0f921"
             ]
            ],
            "type": "histogram2d"
           }
          ],
          "histogram2dcontour": [
           {
            "colorbar": {
             "outlinewidth": 0,
             "ticks": ""
            },
            "colorscale": [
             [
              0,
              "#0d0887"
             ],
             [
              0.1111111111111111,
              "#46039f"
             ],
             [
              0.2222222222222222,
              "#7201a8"
             ],
             [
              0.3333333333333333,
              "#9c179e"
             ],
             [
              0.4444444444444444,
              "#bd3786"
             ],
             [
              0.5555555555555556,
              "#d8576b"
             ],
             [
              0.6666666666666666,
              "#ed7953"
             ],
             [
              0.7777777777777778,
              "#fb9f3a"
             ],
             [
              0.8888888888888888,
              "#fdca26"
             ],
             [
              1,
              "#f0f921"
             ]
            ],
            "type": "histogram2dcontour"
           }
          ],
          "mesh3d": [
           {
            "colorbar": {
             "outlinewidth": 0,
             "ticks": ""
            },
            "type": "mesh3d"
           }
          ],
          "parcoords": [
           {
            "line": {
             "colorbar": {
              "outlinewidth": 0,
              "ticks": ""
             }
            },
            "type": "parcoords"
           }
          ],
          "pie": [
           {
            "automargin": true,
            "type": "pie"
           }
          ],
          "scatter": [
           {
            "marker": {
             "colorbar": {
              "outlinewidth": 0,
              "ticks": ""
             }
            },
            "type": "scatter"
           }
          ],
          "scatter3d": [
           {
            "line": {
             "colorbar": {
              "outlinewidth": 0,
              "ticks": ""
             }
            },
            "marker": {
             "colorbar": {
              "outlinewidth": 0,
              "ticks": ""
             }
            },
            "type": "scatter3d"
           }
          ],
          "scattercarpet": [
           {
            "marker": {
             "colorbar": {
              "outlinewidth": 0,
              "ticks": ""
             }
            },
            "type": "scattercarpet"
           }
          ],
          "scattergeo": [
           {
            "marker": {
             "colorbar": {
              "outlinewidth": 0,
              "ticks": ""
             }
            },
            "type": "scattergeo"
           }
          ],
          "scattergl": [
           {
            "marker": {
             "colorbar": {
              "outlinewidth": 0,
              "ticks": ""
             }
            },
            "type": "scattergl"
           }
          ],
          "scattermapbox": [
           {
            "marker": {
             "colorbar": {
              "outlinewidth": 0,
              "ticks": ""
             }
            },
            "type": "scattermapbox"
           }
          ],
          "scatterpolar": [
           {
            "marker": {
             "colorbar": {
              "outlinewidth": 0,
              "ticks": ""
             }
            },
            "type": "scatterpolar"
           }
          ],
          "scatterpolargl": [
           {
            "marker": {
             "colorbar": {
              "outlinewidth": 0,
              "ticks": ""
             }
            },
            "type": "scatterpolargl"
           }
          ],
          "scatterternary": [
           {
            "marker": {
             "colorbar": {
              "outlinewidth": 0,
              "ticks": ""
             }
            },
            "type": "scatterternary"
           }
          ],
          "surface": [
           {
            "colorbar": {
             "outlinewidth": 0,
             "ticks": ""
            },
            "colorscale": [
             [
              0,
              "#0d0887"
             ],
             [
              0.1111111111111111,
              "#46039f"
             ],
             [
              0.2222222222222222,
              "#7201a8"
             ],
             [
              0.3333333333333333,
              "#9c179e"
             ],
             [
              0.4444444444444444,
              "#bd3786"
             ],
             [
              0.5555555555555556,
              "#d8576b"
             ],
             [
              0.6666666666666666,
              "#ed7953"
             ],
             [
              0.7777777777777778,
              "#fb9f3a"
             ],
             [
              0.8888888888888888,
              "#fdca26"
             ],
             [
              1,
              "#f0f921"
             ]
            ],
            "type": "surface"
           }
          ],
          "table": [
           {
            "cells": {
             "fill": {
              "color": "#EBF0F8"
             },
             "line": {
              "color": "white"
             }
            },
            "header": {
             "fill": {
              "color": "#C8D4E3"
             },
             "line": {
              "color": "white"
             }
            },
            "type": "table"
           }
          ]
         },
         "layout": {
          "annotationdefaults": {
           "arrowcolor": "#2a3f5f",
           "arrowhead": 0,
           "arrowwidth": 1
          },
          "autotypenumbers": "strict",
          "coloraxis": {
           "colorbar": {
            "outlinewidth": 0,
            "ticks": ""
           }
          },
          "colorscale": {
           "diverging": [
            [
             0,
             "#8e0152"
            ],
            [
             0.1,
             "#c51b7d"
            ],
            [
             0.2,
             "#de77ae"
            ],
            [
             0.3,
             "#f1b6da"
            ],
            [
             0.4,
             "#fde0ef"
            ],
            [
             0.5,
             "#f7f7f7"
            ],
            [
             0.6,
             "#e6f5d0"
            ],
            [
             0.7,
             "#b8e186"
            ],
            [
             0.8,
             "#7fbc41"
            ],
            [
             0.9,
             "#4d9221"
            ],
            [
             1,
             "#276419"
            ]
           ],
           "sequential": [
            [
             0,
             "#0d0887"
            ],
            [
             0.1111111111111111,
             "#46039f"
            ],
            [
             0.2222222222222222,
             "#7201a8"
            ],
            [
             0.3333333333333333,
             "#9c179e"
            ],
            [
             0.4444444444444444,
             "#bd3786"
            ],
            [
             0.5555555555555556,
             "#d8576b"
            ],
            [
             0.6666666666666666,
             "#ed7953"
            ],
            [
             0.7777777777777778,
             "#fb9f3a"
            ],
            [
             0.8888888888888888,
             "#fdca26"
            ],
            [
             1,
             "#f0f921"
            ]
           ],
           "sequentialminus": [
            [
             0,
             "#0d0887"
            ],
            [
             0.1111111111111111,
             "#46039f"
            ],
            [
             0.2222222222222222,
             "#7201a8"
            ],
            [
             0.3333333333333333,
             "#9c179e"
            ],
            [
             0.4444444444444444,
             "#bd3786"
            ],
            [
             0.5555555555555556,
             "#d8576b"
            ],
            [
             0.6666666666666666,
             "#ed7953"
            ],
            [
             0.7777777777777778,
             "#fb9f3a"
            ],
            [
             0.8888888888888888,
             "#fdca26"
            ],
            [
             1,
             "#f0f921"
            ]
           ]
          },
          "colorway": [
           "#636efa",
           "#EF553B",
           "#00cc96",
           "#ab63fa",
           "#FFA15A",
           "#19d3f3",
           "#FF6692",
           "#B6E880",
           "#FF97FF",
           "#FECB52"
          ],
          "font": {
           "color": "#2a3f5f"
          },
          "geo": {
           "bgcolor": "white",
           "lakecolor": "white",
           "landcolor": "#E5ECF6",
           "showlakes": true,
           "showland": true,
           "subunitcolor": "white"
          },
          "hoverlabel": {
           "align": "left"
          },
          "hovermode": "closest",
          "mapbox": {
           "style": "light"
          },
          "paper_bgcolor": "white",
          "plot_bgcolor": "#E5ECF6",
          "polar": {
           "angularaxis": {
            "gridcolor": "white",
            "linecolor": "white",
            "ticks": ""
           },
           "bgcolor": "#E5ECF6",
           "radialaxis": {
            "gridcolor": "white",
            "linecolor": "white",
            "ticks": ""
           }
          },
          "scene": {
           "xaxis": {
            "backgroundcolor": "#E5ECF6",
            "gridcolor": "white",
            "gridwidth": 2,
            "linecolor": "white",
            "showbackground": true,
            "ticks": "",
            "zerolinecolor": "white"
           },
           "yaxis": {
            "backgroundcolor": "#E5ECF6",
            "gridcolor": "white",
            "gridwidth": 2,
            "linecolor": "white",
            "showbackground": true,
            "ticks": "",
            "zerolinecolor": "white"
           },
           "zaxis": {
            "backgroundcolor": "#E5ECF6",
            "gridcolor": "white",
            "gridwidth": 2,
            "linecolor": "white",
            "showbackground": true,
            "ticks": "",
            "zerolinecolor": "white"
           }
          },
          "shapedefaults": {
           "line": {
            "color": "#2a3f5f"
           }
          },
          "ternary": {
           "aaxis": {
            "gridcolor": "white",
            "linecolor": "white",
            "ticks": ""
           },
           "baxis": {
            "gridcolor": "white",
            "linecolor": "white",
            "ticks": ""
           },
           "bgcolor": "#E5ECF6",
           "caxis": {
            "gridcolor": "white",
            "linecolor": "white",
            "ticks": ""
           }
          },
          "title": {
           "x": 0.05
          },
          "xaxis": {
           "automargin": true,
           "gridcolor": "white",
           "linecolor": "white",
           "ticks": "",
           "title": {
            "standoff": 15
           },
           "zerolinecolor": "white",
           "zerolinewidth": 2
          },
          "yaxis": {
           "automargin": true,
           "gridcolor": "white",
           "linecolor": "white",
           "ticks": "",
           "title": {
            "standoff": 15
           },
           "zerolinecolor": "white",
           "zerolinewidth": 2
          }
         }
        },
        "title": {
         "text": "Total Points vs Selected By Percent"
        },
        "xaxis": {
         "anchor": "y",
         "domain": [
          0,
          1
         ],
         "title": {
          "text": "selected_by_percent"
         }
        },
        "yaxis": {
         "anchor": "x",
         "domain": [
          0,
          1
         ],
         "title": {
          "text": "total_points"
         }
        }
       }
      }
     },
     "metadata": {},
     "output_type": "display_data"
    }
   ],
   "source": [
    "px.scatter(df, \n",
    "           x='selected_by_percent', y='total_points',\n",
    "           color='element_type',\n",
    "           color_discrete_map=position_colors,\n",
    "           hover_data= ['player_name'],\n",
    "           title='Total Points vs Selected By Percent'\n",
    "              )\n",
    "\n",
    "#'selected_by_percent'sns.scatterplot(x = df['selected_by_percent'], y = df['total_points'], hue=df['element_type'], palette=position_colors)"
   ]
  },
  {
   "cell_type": "code",
   "execution_count": 103,
   "metadata": {},
   "outputs": [
    {
     "data": {
      "application/vnd.plotly.v1+json": {
       "config": {
        "plotlyServerURL": "https://plot.ly"
       },
       "data": [
        {
         "customdata": [
          [
           "Bernd Leno"
          ],
          [
           "Aaron Ramsdale"
          ],
          [
           "Emiliano Martínez"
          ],
          [
           "David Raya Martin"
          ],
          [
           "Álvaro Fernández"
          ],
          [
           "Jonas Lössl"
          ],
          [
           "Jason Steele"
          ],
          [
           "Robert Sánchez"
          ],
          [
           "Nick Pope"
          ],
          [
           "Wayne Hennessey"
          ],
          [
           "Kepa Arrizabalaga"
          ],
          [
           "Edouard Mendy"
          ],
          [
           "Vicente Guaita"
          ],
          [
           "Jack Butland"
          ],
          [
           "Jordan Pickford"
          ],
          [
           "Asmir Begović"
          ],
          [
           "Kasper Schmeichel"
          ],
          [
           "Illan Meslier"
          ],
          [
           "Alisson Ramses Becker"
          ],
          [
           "Caoimhin Kelleher"
          ],
          [
           "Ederson Santana de Moraes"
          ],
          [
           "Zack Steffen"
          ],
          [
           "David de Gea"
          ],
          [
           "Karl Darlow"
          ],
          [
           "Martin Dubravka"
          ],
          [
           "Tim Krul"
          ],
          [
           "Angus Gunn"
          ],
          [
           "Fraser Forster"
          ],
          [
           "Willy Caballero"
          ],
          [
           "Hugo Lloris"
          ],
          [
           "Ben Foster"
          ],
          [
           "Daniel Bachmann"
          ],
          [
           "Lukasz Fabianski"
          ],
          [
           "Alphonse Areola"
          ],
          [
           "José Malheiro de Sá"
          ]
         ],
         "hovertemplate": "element_type=Goalkeeper<br>selected_by_percent=%{x}<br>form=%{y}<br>player_name=%{customdata[0]}<extra></extra>",
         "legendgroup": "Goalkeeper",
         "marker": {
          "color": "red",
          "symbol": "circle"
         },
         "mode": "markers",
         "name": "Goalkeeper",
         "orientation": "v",
         "showlegend": true,
         "type": "scatter",
         "x": [
          0.8,
          20.4,
          12.1,
          3.4,
          0.6,
          0,
          1.8,
          16.7,
          3.4,
          0.3,
          0.4,
          11.8,
          6,
          0.4,
          4.4,
          2.5,
          12.1,
          2.1,
          7.9,
          0.1,
          11.6,
          0.2,
          11.7,
          0.3,
          2.7,
          1.1,
          1.9,
          1.3,
          0,
          7.8,
          18.9,
          1.6,
          2.7,
          0.7,
          11.4
         ],
         "xaxis": "x",
         "y": [
          0,
          3.8,
          3,
          4.4,
          0,
          0,
          0,
          2.2,
          3.4,
          0,
          0,
          4,
          2.8,
          0.8,
          3.8,
          0,
          4.4,
          1.6,
          7.2,
          0,
          4.2,
          0,
          3.7,
          0,
          3.5,
          0.3,
          2.5,
          3,
          0,
          3.3,
          3,
          0,
          3.6,
          0,
          3.1
         ],
         "yaxis": "y"
        },
        {
         "customdata": [
          [
           "Cédric Soares"
          ],
          [
           "Rob Holding"
          ],
          [
           "Kieran Tierney"
          ],
          [
           "Gabriel Magalhães"
          ],
          [
           "Ben White"
          ],
          [
           "Nuno Varela Tavares"
          ],
          [
           "Takehiro Tomiyasu"
          ],
          [
           "Calum Chambers"
          ],
          [
           "Kortney Hause"
          ],
          [
           "Tyrone Mings"
          ],
          [
           "Matthew Cash"
          ],
          [
           "Ezri Konsa Ngoyo"
          ],
          [
           "Ashley Young"
          ],
          [
           "Lucas Digne"
          ],
          [
           "Pontus Jansson"
          ],
          [
           "Rico Henry"
          ],
          [
           "Mads Roerslev Rasmussen"
          ],
          [
           "Mads Bech Sørensen"
          ],
          [
           "Ethan Pinnock"
          ],
          [
           "Kristoffer Ajer"
          ],
          [
           "Mathias Jorgensen"
          ],
          [
           "Shane Duffy"
          ],
          [
           "Lewis Dunk"
          ],
          [
           "Adam Webster"
          ],
          [
           "Joël Veltman"
          ],
          [
           "Tariq Lamptey"
          ],
          [
           "Marc Cucurella"
          ],
          [
           "James Tarkowski"
          ],
          [
           "Erik Pieters"
          ],
          [
           "Ben Mee"
          ],
          [
           "Matthew Lowton"
          ],
          [
           "Charlie Taylor"
          ],
          [
           "Nathan Collins"
          ],
          [
           "Connor Roberts"
          ],
          [
           "César Azpilicueta"
          ],
          [
           "Thiago Emiliano da Silva"
          ],
          [
           "Marcos Alonso"
          ],
          [
           "Antonio Rüdiger"
          ],
          [
           "Andreas Christensen"
          ],
          [
           "Benjamin Chilwell"
          ],
          [
           "Reece James"
          ],
          [
           "Malang Sarr"
          ],
          [
           "Trevoh Chalobah"
          ],
          [
           "James Tomkins"
          ],
          [
           "Cheikhou Kouyaté"
          ],
          [
           "Tyrick Mitchell"
          ],
          [
           "Joel Ward"
          ],
          [
           "Marc Guéhi"
          ],
          [
           "Joachim Andersen"
          ],
          [
           "Nathaniel Clyne"
          ],
          [
           "Seamus Coleman"
          ],
          [
           "Michael Keane"
          ],
          [
           "Yerry Mina"
          ],
          [
           "Mason Holgate"
          ],
          [
           "Ben Godfrey"
          ],
          [
           "Jonjoe Kenny"
          ],
          [
           "Jarrad Branthwaite"
          ],
          [
           "Vitalii Mykolenko"
          ],
          [
           "Jonny Evans"
          ],
          [
           "Ricardo Domingos Barbosa Pereira"
          ],
          [
           "Daniel Amartey"
          ],
          [
           "Timothy Castagne"
          ],
          [
           "Çaglar Söyüncü"
          ],
          [
           "James Justin"
          ],
          [
           "Luke Thomas"
          ],
          [
           "Jannik Vestergaard"
          ],
          [
           "Liam Cooper"
          ],
          [
           "Luke Ayling"
          ],
          [
           "Diego Llorente"
          ],
          [
           "Robin Koch"
          ],
          [
           "Pascal Struijk"
          ],
          [
           "Héctor Junior Firpo Adames"
          ],
          [
           "Charlie Cresswell"
          ],
          [
           "Joel Matip"
          ],
          [
           "Virgil van Dijk"
          ],
          [
           "Andrew Robertson"
          ],
          [
           "Trent Alexander-Arnold"
          ],
          [
           "Joseph Gomez"
          ],
          [
           "Ibrahima Konaté"
          ],
          [
           "Konstantinos Tsimikas"
          ],
          [
           "Kyle Walker"
          ],
          [
           "John Stones"
          ],
          [
           "João Pedro Cavaco Cancelo"
          ],
          [
           "Nathan Aké"
          ],
          [
           "Aymeric Laporte"
          ],
          [
           "Rúben Santos Gato Alves Dias"
          ],
          [
           "Oleksandr Zinchenko"
          ],
          [
           "Harry Maguire"
          ],
          [
           "Luke Shaw"
          ],
          [
           "Alex Nicolao Telles"
          ],
          [
           "Victor Lindelöf"
          ],
          [
           "Eric Bailly"
          ],
          [
           "Aaron Wan-Bissaka"
          ],
          [
           "José Diogo Dalot Teixeira"
          ],
          [
           "Raphaël Varane"
          ],
          [
           "Phil Jones"
          ],
          [
           "Matt Targett"
          ],
          [
           "Dan Burn"
          ],
          [
           "Matt Ritchie"
          ],
          [
           "Jamaal Lascelles"
          ],
          [
           "Paul Dummett"
          ],
          [
           "Javier Manquillo"
          ],
          [
           "Emil Krafth"
          ],
          [
           "Fabian Schär"
          ],
          [
           "Federico Fernández"
          ],
          [
           "Brandon Williams"
          ],
          [
           "Grant Hanley"
          ],
          [
           "Sam Byram"
          ],
          [
           "Max Aarons"
          ],
          [
           "Jacob Sørensen"
          ],
          [
           "Ben Gibson"
          ],
          [
           "Dimitris Giannoulis"
          ],
          [
           "Ozan Kabak"
          ],
          [
           "Jack Stephens"
          ],
          [
           "Kyle Walker-Peters"
          ],
          [
           "Jan Bednarek"
          ],
          [
           "Mohammed Salisu"
          ],
          [
           "Romain Perraud"
          ],
          [
           "Tino Livramento"
          ],
          [
           "Yan Valery"
          ],
          [
           "Lyanco Evangelista Silveira Neves Vojnovic"
          ],
          [
           "Matt Doherty"
          ],
          [
           "Eric Dier"
          ],
          [
           "Ben Davies"
          ],
          [
           "Davinson Sánchez"
          ],
          [
           "Ryan Sessegnon"
          ],
          [
           "Sergio Reguilón"
          ],
          [
           "Cristian Romero"
          ],
          [
           "Emerson Aparecido Leite de Souza Junior"
          ],
          [
           "Emerson Aparecido Leite de Souza Junior"
          ],
          [
           "Craig Cathcart"
          ],
          [
           "Francisco Femenía Far"
          ],
          [
           "Christian Kabasele"
          ],
          [
           "William Troost-Ekong"
          ],
          [
           "Adam Masina"
          ],
          [
           "Francisco Sierralta"
          ],
          [
           "Jeremy Ngakia"
          ],
          [
           "Nicolas Nkoulou"
          ],
          [
           "Hassane Kamara"
          ],
          [
           "Samir Caetano de Souza Santos"
          ],
          [
           "Kurt Zouma"
          ],
          [
           "Aaron Cresswell"
          ],
          [
           "Craig Dawson"
          ],
          [
           "Ryan Fredericks"
          ],
          [
           "Arthur Masuaku"
          ],
          [
           "Issa Diop"
          ],
          [
           "Ben Johnson"
          ],
          [
           "Conor Coady"
          ],
          [
           "Romain Saïss"
          ],
          [
           "Fernando Marçal"
          ],
          [
           "Jonathan Castro Otto"
          ],
          [
           "Nélson Cabral Semedo"
          ],
          [
           "Max Kilman"
          ],
          [
           "Ki-Jana Hoever"
          ],
          [
           "Rayan Ait Nouri"
          ],
          [
           "Toti António Gomes"
          ]
         ],
         "hovertemplate": "element_type=Defender<br>selected_by_percent=%{x}<br>form=%{y}<br>player_name=%{customdata[0]}<extra></extra>",
         "legendgroup": "Defender",
         "marker": {
          "color": "blue",
          "symbol": "circle"
         },
         "mode": "markers",
         "name": "Defender",
         "orientation": "v",
         "showlegend": true,
         "type": "scatter",
         "x": [
          0.2,
          0.6,
          12.2,
          6.8,
          13.1,
          0.3,
          2.1,
          0.2,
          0.2,
          6.2,
          6.1,
          0.9,
          0.4,
          9.4,
          5.8,
          0.9,
          0.1,
          0,
          3.2,
          0.5,
          0,
          8.7,
          2.1,
          0.4,
          1,
          2.4,
          3.2,
          1.4,
          0.3,
          2.2,
          1.3,
          0.3,
          0.1,
          0.5,
          3.1,
          8.3,
          8.4,
          25.5,
          1.4,
          3.1,
          15.2,
          0.2,
          1.9,
          0.1,
          0.5,
          1.3,
          0.2,
          1.5,
          0.4,
          0.1,
          0.6,
          2.4,
          0.3,
          0.5,
          0.4,
          0.1,
          0.3,
          0,
          0.2,
          1.5,
          9.6,
          0.5,
          1.5,
          0.1,
          0.7,
          0.5,
          0.2,
          2.8,
          0.3,
          0.1,
          0.1,
          0.3,
          0.3,
          3,
          18.6,
          7.3,
          46.1,
          0.4,
          1.1,
          10.7,
          5.3,
          2.7,
          41.8,
          0.4,
          8.8,
          20.6,
          0.7,
          4.8,
          12.3,
          0.5,
          0.5,
          0.1,
          3.1,
          2.2,
          2.8,
          0,
          2.6,
          0.5,
          0.2,
          0.2,
          0,
          5,
          0.1,
          1.8,
          0.1,
          5.2,
          0.1,
          0,
          1,
          0,
          0.1,
          0.1,
          0,
          0.1,
          1.2,
          1.8,
          0.3,
          0.1,
          12.6,
          0.5,
          0,
          1.4,
          4.3,
          1.6,
          2.3,
          0.2,
          10.7,
          0.4,
          1.3,
          1.3,
          0.3,
          0.2,
          0,
          0.1,
          0.1,
          0,
          0,
          0,
          0.1,
          0,
          1.2,
          7.6,
          1.1,
          0.1,
          0.1,
          0.3,
          3,
          15.1,
          4,
          1.5,
          0.1,
          2,
          4,
          1.8,
          1.9,
          0
         ],
         "xaxis": "x",
         "y": [
          2.5,
          0.5,
          2.8,
          4.5,
          3,
          0.2,
          0,
          1.8,
          0,
          3.7,
          5.8,
          0.8,
          1.5,
          1.8,
          2.6,
          2.2,
          0.2,
          0,
          2.4,
          4.2,
          0,
          0.2,
          2,
          3.2,
          2,
          2.8,
          1.8,
          1.7,
          2.4,
          4,
          0.1,
          0.3,
          0.9,
          3.4,
          0,
          4.7,
          1.3,
          4,
          2.3,
          0,
          6,
          1.7,
          3.3,
          0,
          1.7,
          4,
          1.3,
          3.3,
          3.8,
          2,
          4,
          3,
          0.2,
          2,
          0,
          1.8,
          0,
          0.2,
          0,
          1.4,
          3.4,
          0,
          3.2,
          0.4,
          3,
          0.2,
          0,
          0.1,
          1.1,
          0.7,
          0.6,
          0.1,
          0,
          6.2,
          7.2,
          6.4,
          6,
          0.4,
          1.2,
          1,
          2.6,
          3.2,
          3.8,
          1.2,
          3.2,
          4.8,
          1.2,
          2.7,
          2.8,
          1.7,
          2.7,
          0,
          1.2,
          1.7,
          1.8,
          0,
          2,
          2.3,
          0,
          0.7,
          0.2,
          0.3,
          1.7,
          5.5,
          0,
          0.3,
          0.7,
          0.2,
          1,
          0,
          0.7,
          0,
          0,
          0.3,
          3.2,
          2,
          2.3,
          0.7,
          3.5,
          0,
          0,
          5.7,
          2.5,
          2.7,
          0.5,
          2.5,
          1.3,
          1.7,
          1.8,
          1.8,
          2.4,
          2.1,
          0.3,
          0,
          0,
          0,
          1,
          0,
          2,
          2.1,
          3.8,
          5,
          5.8,
          0.2,
          0,
          1.2,
          1.8,
          2,
          1.9,
          0.9,
          0.3,
          2.6,
          2.1,
          0.4,
          1.1,
          0
         ],
         "yaxis": "y"
        },
        {
         "customdata": [
          [
           "Alexandre Lacazette"
          ],
          [
           "Edward Nketiah"
          ],
          [
           "Ollie Watkins"
          ],
          [
           "Danny Ings"
          ],
          [
           "Ivan Toney"
          ],
          [
           "Neal Maupay"
          ],
          [
           "Danny Welbeck"
          ],
          [
           "Jay Rodriguez"
          ],
          [
           "Ashley Barnes"
          ],
          [
           "Wout Weghorst"
          ],
          [
           "Timo Werner"
          ],
          [
           "Romelu Lukaku"
          ],
          [
           "Christian Benteke"
          ],
          [
           "Jordan Ayew"
          ],
          [
           "Jean-Philippe Mateta"
          ],
          [
           "Odsonne Edouard"
          ],
          [
           "Dominic Calvert-Lewin"
          ],
          [
           "Richarlison de Andrade"
          ],
          [
           "Salomón Rondón"
          ],
          [
           "Jamie Vardy"
          ],
          [
           "Kelechi Iheanacho"
          ],
          [
           "Patson Daka"
          ],
          [
           "Rodrigo Moreno"
          ],
          [
           "Patrick Bamford"
          ],
          [
           "Joe Gelhardt"
          ],
          [
           "Roberto Firmino"
          ],
          [
           "Gabriel Fernando de Jesus"
          ],
          [
           "Edinson Cavani"
          ],
          [
           "Cristiano Ronaldo dos Santos Aveiro"
          ],
          [
           "Chris Wood"
          ],
          [
           "Callum Wilson"
          ],
          [
           "Allan Saint-Maximin"
          ],
          [
           "Joelinton Cássio Apolinário de Lira"
          ],
          [
           "Teemu Pukki"
          ],
          [
           "Adam Idah"
          ],
          [
           "Joshua Sargent"
          ],
          [
           "Che Adams"
          ],
          [
           "Armando Broja"
          ],
          [
           "Shane Long"
          ],
          [
           "Adam Armstrong"
          ],
          [
           "Harry Kane"
          ],
          [
           "João Pedro Junqueira de Jesus"
          ],
          [
           "Emmanuel Dennis"
          ],
          [
           "Joshua King"
          ],
          [
           "Juan Camilo Hernández Suárez"
          ],
          [
           "Michail Antonio"
          ],
          [
           "Raúl Jiménez"
          ],
          [
           "Fabio Silva"
          ],
          [
           "Hee-Chan Hwang"
          ]
         ],
         "hovertemplate": "element_type=Forward<br>selected_by_percent=%{x}<br>form=%{y}<br>player_name=%{customdata[0]}<extra></extra>",
         "legendgroup": "Forward",
         "marker": {
          "color": "Green",
          "symbol": "circle"
         },
         "mode": "markers",
         "name": "Forward",
         "orientation": "v",
         "showlegend": true,
         "type": "scatter",
         "x": [
          5.6,
          0.2,
          10.6,
          7.6,
          9.1,
          8.8,
          0.3,
          1.6,
          0.7,
          5.8,
          1.5,
          8.5,
          1.3,
          0.7,
          0.4,
          4.7,
          3.1,
          4.8,
          0.2,
          9.3,
          1.9,
          1.6,
          1.5,
          2.9,
          2.5,
          2.4,
          4.7,
          1.7,
          19.3,
          2.2,
          1.1,
          12.8,
          1.5,
          5.4,
          0.9,
          0.5,
          7.5,
          15.7,
          0.2,
          1.5,
          16.5,
          0.4,
          34.4,
          5.4,
          1.6,
          31.2,
          11.7,
          0.4,
          4.1
         ],
         "xaxis": "x",
         "y": [
          5.8,
          1.5,
          2.5,
          3.3,
          3.6,
          2.6,
          1.6,
          3.1,
          0.9,
          3.7,
          0.3,
          0.7,
          0.2,
          1.5,
          3.3,
          0.7,
          1,
          2.6,
          0.2,
          2.6,
          1.2,
          1.4,
          2.7,
          0,
          0.3,
          0.4,
          0.2,
          0.3,
          2.3,
          1.7,
          0,
          1.3,
          2.2,
          3.7,
          0.8,
          1.8,
          4.8,
          2.3,
          1.2,
          0.2,
          7.2,
          0.6,
          2.6,
          1.3,
          1.9,
          2.4,
          2.3,
          0.6,
          2.1
         ],
         "yaxis": "y"
        },
        {
         "customdata": [
          [
           "Granit Xhaka"
          ],
          [
           "Mohamed Naser El Sayed Elneny"
          ],
          [
           "Thomas Partey"
          ],
          [
           "Nicolas Pépé"
          ],
          [
           "Emile Smith Rowe"
          ],
          [
           "Bukayo Saka"
          ],
          [
           "Gabriel Teodoro Martinelli Silva"
          ],
          [
           "Albert Sambi Lokonga"
          ],
          [
           "Martin Ødegaard"
          ],
          [
           "Bertrand Traoré"
          ],
          [
           "Morgan Sanson"
          ],
          [
           "John McGinn"
          ],
          [
           "Marvelous Nakamba"
          ],
          [
           "Emiliano Buendía Stati"
          ],
          [
           "Douglas Luiz Soares de Paulo"
          ],
          [
           "Jacob Ramsey"
          ],
          [
           "Leon Bailey"
          ],
          [
           "Carney Chukwuemeka"
          ],
          [
           "Philippe Coutinho Correia"
          ],
          [
           "Christian Nørgaard"
          ],
          [
           "Sergi Canós"
          ],
          [
           "Pelenda Joshua Dasilva"
          ],
          [
           "Vitaly Janelt"
          ],
          [
           "Saman Ghoddos"
          ],
          [
           "Mathias Jensen"
          ],
          [
           "Bryan Mbeumo"
          ],
          [
           "Frank Onyeka"
          ],
          [
           "Shandon Baptiste"
          ],
          [
           "Yoane Wissa"
          ],
          [
           "Christian Eriksen"
          ],
          [
           "Adam Lallana"
          ],
          [
           "Pascal Groß"
          ],
          [
           "Solomon March"
          ],
          [
           "Leandro Trossard"
          ],
          [
           "Yves Bissouma"
          ],
          [
           "Steven Alzate"
          ],
          [
           "Alexis Mac Allister"
          ],
          [
           "Jakub Moder"
          ],
          [
           "Enock Mwepu"
          ],
          [
           "Jack Cork"
          ],
          [
           "Dale Stephens"
          ],
          [
           "Ashley Westwood"
          ],
          [
           "Josh Brownhill"
          ],
          [
           "Dwight McNeil"
          ],
          [
           "Aaron Lennon"
          ],
          [
           "Maxwel Cornet"
          ],
          [
           "Jorge Luiz Frello Filho"
          ],
          [
           "Ross Barkley"
          ],
          [
           "Mateo Kovacic"
          ],
          [
           "N'Golo Kanté"
          ],
          [
           "Hakim Ziyech"
          ],
          [
           "Ruben Loftus-Cheek"
          ],
          [
           "Christian Pulisic"
          ],
          [
           "Mason Mount"
          ],
          [
           "Callum Hudson-Odoi"
          ],
          [
           "Kai Havertz"
          ],
          [
           "Saúl Ñíguez"
          ],
          [
           "Conor Gallagher"
          ],
          [
           "James McArthur"
          ],
          [
           "Luka Milivojevic"
          ],
          [
           "Wilfried Zaha"
          ],
          [
           "Jeffrey Schlupp"
          ],
          [
           "Jairo Riedewald"
          ],
          [
           "Eberechi Eze"
          ],
          [
           "Will Hughes"
          ],
          [
           "Michael Olise"
          ],
          [
           "Anwar El Ghazi"
          ],
          [
           "Fabian Delph"
          ],
          [
           "Allan Marques Loureiro"
          ],
          [
           "André Filipe Tavares Gomes"
          ],
          [
           "Abdoulaye Doucouré"
          ],
          [
           "Alex Iwobi"
          ],
          [
           "Donny van de Beek"
          ],
          [
           "Bamidele Alli"
          ],
          [
           "Andros Townsend"
          ],
          [
           "Demarai Gray"
          ],
          [
           "Anthony Gordon"
          ],
          [
           "Marc Albrighton"
          ],
          [
           "Youri Tielemans"
          ],
          [
           "Ayoze Pérez"
          ],
          [
           "James Maddison"
          ],
          [
           "Hamza Choudhury"
          ],
          [
           "Harvey Barnes"
          ],
          [
           "Wilfred Ndidi"
          ],
          [
           "Boubakary Soumaré"
          ],
          [
           "Kiernan Dewsbury-Hall"
          ],
          [
           "Ademola Lookman"
          ],
          [
           "Mateusz Klich"
          ],
          [
           "Stuart Dallas"
          ],
          [
           "Kalvin Phillips"
          ],
          [
           "Tyler Roberts"
          ],
          [
           "Raphael Dias Belloli"
          ],
          [
           "Jamie Shackleton"
          ],
          [
           "Jack Harrison"
          ],
          [
           "Daniel James"
          ],
          [
           "Crysencio Summerville"
          ],
          [
           "Adam Forshaw"
          ],
          [
           "James Milner"
          ],
          [
           "Jordan Henderson"
          ],
          [
           "Thiago Alcántara do Nascimento"
          ],
          [
           "Alex Oxlade-Chamberlain"
          ],
          [
           "Sadio Mané"
          ],
          [
           "Fabio Henrique Tavares"
          ],
          [
           "Mohamed Salah"
          ],
          [
           "Naby Keita"
          ],
          [
           "Diogo Jota"
          ],
          [
           "Curtis Jones"
          ],
          [
           "Harvey Elliott"
          ],
          [
           "Luis Díaz"
          ],
          [
           "Jack Grealish"
          ],
          [
           "Ilkay Gündogan"
          ],
          [
           "Kevin De Bruyne"
          ],
          [
           "Riyad Mahrez"
          ],
          [
           "Raheem Sterling"
          ],
          [
           "Bernardo Mota Veiga de Carvalho e Silva"
          ],
          [
           "Phil Foden"
          ],
          [
           "Rodrigo Hernandez"
          ],
          [
           "Fernando Luiz Rosa"
          ],
          [
           "Cole Palmer"
          ],
          [
           "Nemanja Matic"
          ],
          [
           "Paul Pogba"
          ],
          [
           "Frederico Rodrigues de Paula Santos"
          ],
          [
           "Jesse Lingard"
          ],
          [
           "Bruno Miguel Borges Fernandes"
          ],
          [
           "Marcus Rashford"
          ],
          [
           "Scott McTominay"
          ],
          [
           "Jadon Sancho"
          ],
          [
           "Anthony Elanga"
          ],
          [
           "Joseph Willock"
          ],
          [
           "Jonjo Shelvey"
          ],
          [
           "Ryan Fraser"
          ],
          [
           "Jacob Murphy"
          ],
          [
           "Miguel Almirón"
          ],
          [
           "Sean Longstaff"
          ],
          [
           "Billy Gilmour"
          ],
          [
           "Lukas Rupp"
          ],
          [
           "Kenny McLean"
          ],
          [
           "Kieran Dowell"
          ],
          [
           "Przemyslaw Placheta"
          ],
          [
           "Milot Rashica"
          ],
          [
           "Pierre Lees-Melou"
          ],
          [
           "Christos Tzolis"
          ],
          [
           "Mathias Normann"
          ],
          [
           "Theo Walcott"
          ],
          [
           "Oriol Romeu Vidal"
          ],
          [
           "Nathan Redmond"
          ],
          [
           "Stuart Armstrong"
          ],
          [
           "James Ward-Prowse"
          ],
          [
           "Nathan Tella"
          ],
          [
           "Ibrahima Diallo"
          ],
          [
           "Moussa Djenepo"
          ],
          [
           "Mohamed Elyounoussi"
          ],
          [
           "Heung-Min Son"
          ],
          [
           "Lucas Rodrigues Moura da Silva"
          ],
          [
           "Pierre-Emile Højbjerg"
          ],
          [
           "Harry Winks"
          ],
          [
           "Steven Bergwijn"
          ],
          [
           "Dejan Kulusevski"
          ],
          [
           "Rodrigo Bentancur"
          ],
          [
           "Moussa Sissoko"
          ],
          [
           "Tom Cleverley"
          ],
          [
           "Ken Sema"
          ],
          [
           "Imrân Louza"
          ],
          [
           "Oghenekaro Peter Etebo"
          ],
          [
           "Juraj Kucka"
          ],
          [
           "Edo Kayembe"
          ],
          [
           "Mark Noble"
          ],
          [
           "Manuel Lanzini"
          ],
          [
           "Saïd Benrahma"
          ],
          [
           "Jarrod Bowen"
          ],
          [
           "Declan Rice"
          ],
          [
           "Tomas Soucek"
          ],
          [
           "Pablo Fornals"
          ],
          [
           "Nikola Vlasic"
          ],
          [
           "João Filipe Iria Santos Moutinho"
          ],
          [
           "Leander Dendoncker"
          ],
          [
           "Rúben Diogo da Silva Neves"
          ],
          [
           "Daniel Castelo Podence"
          ],
          [
           "Pedro Lomba Neto"
          ],
          [
           "Francisco Machado Mota de Castro Trincão"
          ]
         ],
         "hovertemplate": "element_type=Midfielder<br>selected_by_percent=%{x}<br>form=%{y}<br>player_name=%{customdata[0]}<extra></extra>",
         "legendgroup": "Midfielder",
         "marker": {
          "color": "Orange",
          "symbol": "circle"
         },
         "mode": "markers",
         "name": "Midfielder",
         "orientation": "v",
         "showlegend": true,
         "type": "scatter",
         "x": [
          0.3,
          0.3,
          0.3,
          0.8,
          12,
          23.4,
          2.7,
          0.1,
          4.3,
          0.3,
          0,
          1.1,
          0.1,
          1.1,
          1.7,
          10.2,
          0.4,
          0,
          22.8,
          0.6,
          1.2,
          0,
          0.1,
          0,
          0,
          1,
          0.1,
          0,
          0.1,
          0.1,
          0.2,
          0.3,
          0.1,
          1.5,
          5.1,
          0,
          0.7,
          0.7,
          0.1,
          0.1,
          0,
          0.3,
          2.7,
          0.3,
          0.1,
          0.9,
          4.8,
          0.1,
          2.1,
          2.4,
          1.4,
          0.1,
          0.8,
          14.8,
          0.3,
          4.6,
          0.1,
          13.8,
          1.3,
          0,
          5.5,
          0.1,
          0,
          0.1,
          0.1,
          0.6,
          0.3,
          0.3,
          3.4,
          0.1,
          1.2,
          0.2,
          0.6,
          1.1,
          2.4,
          5.2,
          1.7,
          0.1,
          3.6,
          0.1,
          7.1,
          0.1,
          2.2,
          0.8,
          0.1,
          0.2,
          0.3,
          0.3,
          3,
          0.9,
          0.1,
          17,
          0.1,
          1.6,
          1,
          0,
          0.1,
          0.1,
          1.8,
          0.4,
          0.2,
          3.6,
          1.2,
          61.5,
          0.2,
          18.8,
          0.1,
          0.1,
          2.1,
          7.2,
          2.8,
          8.1,
          4.2,
          3.1,
          17.4,
          6,
          0.9,
          0.3,
          0.1,
          0.4,
          7.2,
          1,
          1,
          16.4,
          0.7,
          0.4,
          2.7,
          0.6,
          4.3,
          0.2,
          1.3,
          0.4,
          0.2,
          0.4,
          3.3,
          0.2,
          0.1,
          0,
          0,
          0.1,
          0.1,
          0,
          0.1,
          0.1,
          0.5,
          0.2,
          0.3,
          8.8,
          0,
          0.2,
          0,
          0.2,
          21,
          2.1,
          2.8,
          1.1,
          0.4,
          4,
          0,
          2.3,
          0.1,
          0,
          0,
          0.2,
          0.1,
          0,
          0.6,
          0.4,
          11.2,
          25.3,
          4.4,
          3.5,
          1.3,
          0,
          0.9,
          0.5,
          1.3,
          0.5,
          0.1,
          0.3
         ],
         "xaxis": "x",
         "y": [
          2,
          0,
          2.8,
          2.2,
          3,
          6.5,
          2.2,
          0,
          3.8,
          0,
          0.3,
          1.8,
          0,
          1.2,
          2.3,
          3.8,
          0.3,
          0.3,
          6,
          3,
          2,
          0.4,
          1.4,
          0.8,
          1.4,
          1.6,
          0.6,
          0.4,
          1.8,
          0.4,
          0.8,
          2,
          0.8,
          1,
          1.2,
          0.6,
          1.4,
          1.8,
          0,
          0.9,
          0,
          1.1,
          3.4,
          2.1,
          3.3,
          1.3,
          2,
          0,
          0.7,
          2,
          3.7,
          0.7,
          5,
          1,
          0,
          5.3,
          2,
          3.3,
          1.7,
          0,
          6,
          3.7,
          0,
          0.3,
          1.2,
          3.7,
          0.4,
          0,
          1.4,
          0.2,
          0.8,
          1.2,
          1.8,
          1,
          0.6,
          0.4,
          4.6,
          2.6,
          3.6,
          0,
          2.8,
          0.6,
          4.4,
          2.2,
          0.2,
          2.2,
          2.8,
          1,
          1.3,
          0,
          0.4,
          2,
          0.3,
          1.4,
          3.4,
          0,
          1,
          0.6,
          2.6,
          1.6,
          0.4,
          7.4,
          3.8,
          7,
          1.6,
          3.4,
          1,
          0.2,
          3.6,
          0.6,
          3.6,
          6.8,
          6.8,
          6.4,
          4,
          4.4,
          2,
          0.6,
          0,
          0.5,
          4,
          2.3,
          0.7,
          5.2,
          1.5,
          1.8,
          5.5,
          2.7,
          4.7,
          1.7,
          6.3,
          1.8,
          0.3,
          0.2,
          1.5,
          0.2,
          1.7,
          0.3,
          0.5,
          2.5,
          1.2,
          0,
          1.3,
          0.2,
          3,
          0,
          3.2,
          3.7,
          0,
          0.5,
          0.3,
          3.7,
          6.2,
          1.3,
          2.7,
          1.3,
          0.8,
          5.7,
          1.3,
          3.4,
          2,
          0.3,
          1.6,
          0,
          0.6,
          0.7,
          0.2,
          2.2,
          1,
          5.8,
          1.8,
          4,
          2.2,
          1,
          0.7,
          3.3,
          2.3,
          2.6,
          0.7,
          0.6
         ],
         "yaxis": "y"
        }
       ],
       "layout": {
        "legend": {
         "title": {
          "text": "element_type"
         },
         "tracegroupgap": 0
        },
        "template": {
         "data": {
          "bar": [
           {
            "error_x": {
             "color": "#2a3f5f"
            },
            "error_y": {
             "color": "#2a3f5f"
            },
            "marker": {
             "line": {
              "color": "#E5ECF6",
              "width": 0.5
             },
             "pattern": {
              "fillmode": "overlay",
              "size": 10,
              "solidity": 0.2
             }
            },
            "type": "bar"
           }
          ],
          "barpolar": [
           {
            "marker": {
             "line": {
              "color": "#E5ECF6",
              "width": 0.5
             },
             "pattern": {
              "fillmode": "overlay",
              "size": 10,
              "solidity": 0.2
             }
            },
            "type": "barpolar"
           }
          ],
          "carpet": [
           {
            "aaxis": {
             "endlinecolor": "#2a3f5f",
             "gridcolor": "white",
             "linecolor": "white",
             "minorgridcolor": "white",
             "startlinecolor": "#2a3f5f"
            },
            "baxis": {
             "endlinecolor": "#2a3f5f",
             "gridcolor": "white",
             "linecolor": "white",
             "minorgridcolor": "white",
             "startlinecolor": "#2a3f5f"
            },
            "type": "carpet"
           }
          ],
          "choropleth": [
           {
            "colorbar": {
             "outlinewidth": 0,
             "ticks": ""
            },
            "type": "choropleth"
           }
          ],
          "contour": [
           {
            "colorbar": {
             "outlinewidth": 0,
             "ticks": ""
            },
            "colorscale": [
             [
              0,
              "#0d0887"
             ],
             [
              0.1111111111111111,
              "#46039f"
             ],
             [
              0.2222222222222222,
              "#7201a8"
             ],
             [
              0.3333333333333333,
              "#9c179e"
             ],
             [
              0.4444444444444444,
              "#bd3786"
             ],
             [
              0.5555555555555556,
              "#d8576b"
             ],
             [
              0.6666666666666666,
              "#ed7953"
             ],
             [
              0.7777777777777778,
              "#fb9f3a"
             ],
             [
              0.8888888888888888,
              "#fdca26"
             ],
             [
              1,
              "#f0f921"
             ]
            ],
            "type": "contour"
           }
          ],
          "contourcarpet": [
           {
            "colorbar": {
             "outlinewidth": 0,
             "ticks": ""
            },
            "type": "contourcarpet"
           }
          ],
          "heatmap": [
           {
            "colorbar": {
             "outlinewidth": 0,
             "ticks": ""
            },
            "colorscale": [
             [
              0,
              "#0d0887"
             ],
             [
              0.1111111111111111,
              "#46039f"
             ],
             [
              0.2222222222222222,
              "#7201a8"
             ],
             [
              0.3333333333333333,
              "#9c179e"
             ],
             [
              0.4444444444444444,
              "#bd3786"
             ],
             [
              0.5555555555555556,
              "#d8576b"
             ],
             [
              0.6666666666666666,
              "#ed7953"
             ],
             [
              0.7777777777777778,
              "#fb9f3a"
             ],
             [
              0.8888888888888888,
              "#fdca26"
             ],
             [
              1,
              "#f0f921"
             ]
            ],
            "type": "heatmap"
           }
          ],
          "heatmapgl": [
           {
            "colorbar": {
             "outlinewidth": 0,
             "ticks": ""
            },
            "colorscale": [
             [
              0,
              "#0d0887"
             ],
             [
              0.1111111111111111,
              "#46039f"
             ],
             [
              0.2222222222222222,
              "#7201a8"
             ],
             [
              0.3333333333333333,
              "#9c179e"
             ],
             [
              0.4444444444444444,
              "#bd3786"
             ],
             [
              0.5555555555555556,
              "#d8576b"
             ],
             [
              0.6666666666666666,
              "#ed7953"
             ],
             [
              0.7777777777777778,
              "#fb9f3a"
             ],
             [
              0.8888888888888888,
              "#fdca26"
             ],
             [
              1,
              "#f0f921"
             ]
            ],
            "type": "heatmapgl"
           }
          ],
          "histogram": [
           {
            "marker": {
             "pattern": {
              "fillmode": "overlay",
              "size": 10,
              "solidity": 0.2
             }
            },
            "type": "histogram"
           }
          ],
          "histogram2d": [
           {
            "colorbar": {
             "outlinewidth": 0,
             "ticks": ""
            },
            "colorscale": [
             [
              0,
              "#0d0887"
             ],
             [
              0.1111111111111111,
              "#46039f"
             ],
             [
              0.2222222222222222,
              "#7201a8"
             ],
             [
              0.3333333333333333,
              "#9c179e"
             ],
             [
              0.4444444444444444,
              "#bd3786"
             ],
             [
              0.5555555555555556,
              "#d8576b"
             ],
             [
              0.6666666666666666,
              "#ed7953"
             ],
             [
              0.7777777777777778,
              "#fb9f3a"
             ],
             [
              0.8888888888888888,
              "#fdca26"
             ],
             [
              1,
              "#f0f921"
             ]
            ],
            "type": "histogram2d"
           }
          ],
          "histogram2dcontour": [
           {
            "colorbar": {
             "outlinewidth": 0,
             "ticks": ""
            },
            "colorscale": [
             [
              0,
              "#0d0887"
             ],
             [
              0.1111111111111111,
              "#46039f"
             ],
             [
              0.2222222222222222,
              "#7201a8"
             ],
             [
              0.3333333333333333,
              "#9c179e"
             ],
             [
              0.4444444444444444,
              "#bd3786"
             ],
             [
              0.5555555555555556,
              "#d8576b"
             ],
             [
              0.6666666666666666,
              "#ed7953"
             ],
             [
              0.7777777777777778,
              "#fb9f3a"
             ],
             [
              0.8888888888888888,
              "#fdca26"
             ],
             [
              1,
              "#f0f921"
             ]
            ],
            "type": "histogram2dcontour"
           }
          ],
          "mesh3d": [
           {
            "colorbar": {
             "outlinewidth": 0,
             "ticks": ""
            },
            "type": "mesh3d"
           }
          ],
          "parcoords": [
           {
            "line": {
             "colorbar": {
              "outlinewidth": 0,
              "ticks": ""
             }
            },
            "type": "parcoords"
           }
          ],
          "pie": [
           {
            "automargin": true,
            "type": "pie"
           }
          ],
          "scatter": [
           {
            "marker": {
             "colorbar": {
              "outlinewidth": 0,
              "ticks": ""
             }
            },
            "type": "scatter"
           }
          ],
          "scatter3d": [
           {
            "line": {
             "colorbar": {
              "outlinewidth": 0,
              "ticks": ""
             }
            },
            "marker": {
             "colorbar": {
              "outlinewidth": 0,
              "ticks": ""
             }
            },
            "type": "scatter3d"
           }
          ],
          "scattercarpet": [
           {
            "marker": {
             "colorbar": {
              "outlinewidth": 0,
              "ticks": ""
             }
            },
            "type": "scattercarpet"
           }
          ],
          "scattergeo": [
           {
            "marker": {
             "colorbar": {
              "outlinewidth": 0,
              "ticks": ""
             }
            },
            "type": "scattergeo"
           }
          ],
          "scattergl": [
           {
            "marker": {
             "colorbar": {
              "outlinewidth": 0,
              "ticks": ""
             }
            },
            "type": "scattergl"
           }
          ],
          "scattermapbox": [
           {
            "marker": {
             "colorbar": {
              "outlinewidth": 0,
              "ticks": ""
             }
            },
            "type": "scattermapbox"
           }
          ],
          "scatterpolar": [
           {
            "marker": {
             "colorbar": {
              "outlinewidth": 0,
              "ticks": ""
             }
            },
            "type": "scatterpolar"
           }
          ],
          "scatterpolargl": [
           {
            "marker": {
             "colorbar": {
              "outlinewidth": 0,
              "ticks": ""
             }
            },
            "type": "scatterpolargl"
           }
          ],
          "scatterternary": [
           {
            "marker": {
             "colorbar": {
              "outlinewidth": 0,
              "ticks": ""
             }
            },
            "type": "scatterternary"
           }
          ],
          "surface": [
           {
            "colorbar": {
             "outlinewidth": 0,
             "ticks": ""
            },
            "colorscale": [
             [
              0,
              "#0d0887"
             ],
             [
              0.1111111111111111,
              "#46039f"
             ],
             [
              0.2222222222222222,
              "#7201a8"
             ],
             [
              0.3333333333333333,
              "#9c179e"
             ],
             [
              0.4444444444444444,
              "#bd3786"
             ],
             [
              0.5555555555555556,
              "#d8576b"
             ],
             [
              0.6666666666666666,
              "#ed7953"
             ],
             [
              0.7777777777777778,
              "#fb9f3a"
             ],
             [
              0.8888888888888888,
              "#fdca26"
             ],
             [
              1,
              "#f0f921"
             ]
            ],
            "type": "surface"
           }
          ],
          "table": [
           {
            "cells": {
             "fill": {
              "color": "#EBF0F8"
             },
             "line": {
              "color": "white"
             }
            },
            "header": {
             "fill": {
              "color": "#C8D4E3"
             },
             "line": {
              "color": "white"
             }
            },
            "type": "table"
           }
          ]
         },
         "layout": {
          "annotationdefaults": {
           "arrowcolor": "#2a3f5f",
           "arrowhead": 0,
           "arrowwidth": 1
          },
          "autotypenumbers": "strict",
          "coloraxis": {
           "colorbar": {
            "outlinewidth": 0,
            "ticks": ""
           }
          },
          "colorscale": {
           "diverging": [
            [
             0,
             "#8e0152"
            ],
            [
             0.1,
             "#c51b7d"
            ],
            [
             0.2,
             "#de77ae"
            ],
            [
             0.3,
             "#f1b6da"
            ],
            [
             0.4,
             "#fde0ef"
            ],
            [
             0.5,
             "#f7f7f7"
            ],
            [
             0.6,
             "#e6f5d0"
            ],
            [
             0.7,
             "#b8e186"
            ],
            [
             0.8,
             "#7fbc41"
            ],
            [
             0.9,
             "#4d9221"
            ],
            [
             1,
             "#276419"
            ]
           ],
           "sequential": [
            [
             0,
             "#0d0887"
            ],
            [
             0.1111111111111111,
             "#46039f"
            ],
            [
             0.2222222222222222,
             "#7201a8"
            ],
            [
             0.3333333333333333,
             "#9c179e"
            ],
            [
             0.4444444444444444,
             "#bd3786"
            ],
            [
             0.5555555555555556,
             "#d8576b"
            ],
            [
             0.6666666666666666,
             "#ed7953"
            ],
            [
             0.7777777777777778,
             "#fb9f3a"
            ],
            [
             0.8888888888888888,
             "#fdca26"
            ],
            [
             1,
             "#f0f921"
            ]
           ],
           "sequentialminus": [
            [
             0,
             "#0d0887"
            ],
            [
             0.1111111111111111,
             "#46039f"
            ],
            [
             0.2222222222222222,
             "#7201a8"
            ],
            [
             0.3333333333333333,
             "#9c179e"
            ],
            [
             0.4444444444444444,
             "#bd3786"
            ],
            [
             0.5555555555555556,
             "#d8576b"
            ],
            [
             0.6666666666666666,
             "#ed7953"
            ],
            [
             0.7777777777777778,
             "#fb9f3a"
            ],
            [
             0.8888888888888888,
             "#fdca26"
            ],
            [
             1,
             "#f0f921"
            ]
           ]
          },
          "colorway": [
           "#636efa",
           "#EF553B",
           "#00cc96",
           "#ab63fa",
           "#FFA15A",
           "#19d3f3",
           "#FF6692",
           "#B6E880",
           "#FF97FF",
           "#FECB52"
          ],
          "font": {
           "color": "#2a3f5f"
          },
          "geo": {
           "bgcolor": "white",
           "lakecolor": "white",
           "landcolor": "#E5ECF6",
           "showlakes": true,
           "showland": true,
           "subunitcolor": "white"
          },
          "hoverlabel": {
           "align": "left"
          },
          "hovermode": "closest",
          "mapbox": {
           "style": "light"
          },
          "paper_bgcolor": "white",
          "plot_bgcolor": "#E5ECF6",
          "polar": {
           "angularaxis": {
            "gridcolor": "white",
            "linecolor": "white",
            "ticks": ""
           },
           "bgcolor": "#E5ECF6",
           "radialaxis": {
            "gridcolor": "white",
            "linecolor": "white",
            "ticks": ""
           }
          },
          "scene": {
           "xaxis": {
            "backgroundcolor": "#E5ECF6",
            "gridcolor": "white",
            "gridwidth": 2,
            "linecolor": "white",
            "showbackground": true,
            "ticks": "",
            "zerolinecolor": "white"
           },
           "yaxis": {
            "backgroundcolor": "#E5ECF6",
            "gridcolor": "white",
            "gridwidth": 2,
            "linecolor": "white",
            "showbackground": true,
            "ticks": "",
            "zerolinecolor": "white"
           },
           "zaxis": {
            "backgroundcolor": "#E5ECF6",
            "gridcolor": "white",
            "gridwidth": 2,
            "linecolor": "white",
            "showbackground": true,
            "ticks": "",
            "zerolinecolor": "white"
           }
          },
          "shapedefaults": {
           "line": {
            "color": "#2a3f5f"
           }
          },
          "ternary": {
           "aaxis": {
            "gridcolor": "white",
            "linecolor": "white",
            "ticks": ""
           },
           "baxis": {
            "gridcolor": "white",
            "linecolor": "white",
            "ticks": ""
           },
           "bgcolor": "#E5ECF6",
           "caxis": {
            "gridcolor": "white",
            "linecolor": "white",
            "ticks": ""
           }
          },
          "title": {
           "x": 0.05
          },
          "xaxis": {
           "automargin": true,
           "gridcolor": "white",
           "linecolor": "white",
           "ticks": "",
           "title": {
            "standoff": 15
           },
           "zerolinecolor": "white",
           "zerolinewidth": 2
          },
          "yaxis": {
           "automargin": true,
           "gridcolor": "white",
           "linecolor": "white",
           "ticks": "",
           "title": {
            "standoff": 15
           },
           "zerolinecolor": "white",
           "zerolinewidth": 2
          }
         }
        },
        "title": {
         "text": "Total Points vs Selected By Percent"
        },
        "xaxis": {
         "anchor": "y",
         "domain": [
          0,
          1
         ],
         "title": {
          "text": "selected_by_percent"
         }
        },
        "yaxis": {
         "anchor": "x",
         "domain": [
          0,
          1
         ],
         "title": {
          "text": "form"
         }
        }
       }
      }
     },
     "metadata": {},
     "output_type": "display_data"
    }
   ],
   "source": [
    "px.scatter(df, \n",
    "           x='selected_by_percent', y='form',\n",
    "           color='element_type',\n",
    "           color_discrete_map=position_colors,\n",
    "           hover_data= ['player_name'],\n",
    "           title='Total Points vs Selected By Percent'\n",
    "              )\n",
    "\n",
    "\n",
    "#sns.scatterplot(x = df['selected_by_percent'], y = df['form'], hue=df['element_type'], palette=position_colors)"
   ]
  },
  {
   "cell_type": "code",
   "execution_count": 47,
   "metadata": {},
   "outputs": [
    {
     "data": {
      "text/plain": [
       "<AxesSubplot:xlabel='total_points', ylabel='form'>"
      ]
     },
     "execution_count": 47,
     "metadata": {},
     "output_type": "execute_result"
    },
    {
     "data": {
      "image/png": "[encoded data removed]",
      "text/plain": [
       "<Figure size 432x288 with 1 Axes>"
      ]
     },
     "metadata": {
      "needs_background": "light"
     },
     "output_type": "display_data"
    }
   ],
   "source": [
    "px.scatter(df, \n",
    "           x='selected_by_percent', y='form',\n",
    "           color='element_type',\n",
    "           color_discrete_map=position_colors,\n",
    "           hover_data= ['player_name'],\n",
    "           title='Total Points vs Selected By Percent'\n",
    "              )\n",
    "\n",
    "\n",
    "sns.scatterplot(x = df['total_points'], y = df['form'], hue=df['element_type'], palette=position_colors)"
   ]
  },
  {
   "cell_type": "code",
   "execution_count": 44,
   "metadata": {},
   "outputs": [
    {
     "data": {
      "text/plain": [
       "Index(['dreamteam_count', 'element_type', 'event_points', 'form',\n",
       "       'in_dreamteam', 'now_cost', 'points_per_game', 'selected_by_percent',\n",
       "       'team', 'total_points', 'transfers_in', 'transfers_out', 'value_form',\n",
       "       'value_season', 'minutes', 'goals_scored', 'assists', 'clean_sheets',\n",
       "       'goals_conceded', 'own_goals', 'penalties_saved', 'penalties_missed',\n",
       "       'yellow_cards', 'red_cards', 'saves', 'bonus', 'bps', 'influence',\n",
       "       'creativity', 'threat', 'ict_index', 'influence_rank',\n",
       "       'creativity_rank', 'threat_rank', 'ict_index_rank', 'player_name',\n",
       "       'games', 'xG', 'xA', 'shots', 'key_passes', 'npg', 'npxG', 'xGChain',\n",
       "       'xGBuildup'],\n",
       "      dtype='object')"
      ]
     },
     "execution_count": 44,
     "metadata": {},
     "output_type": "execute_result"
    }
   ],
   "source": [
    "df.columns"
   ]
  },
  {
   "cell_type": "code",
   "execution_count": 46,
   "metadata": {},
   "outputs": [],
   "source": [
    "columns = ['dreamteam_count', 'form', 'now_cost', 'points_per_game', 'selected_by_percent',\n",
    "       'total_points', 'transfers_in', 'transfers_out', 'value_form',\n",
    "       'value_season', 'minutes', 'goals_scored', 'assists', 'clean_sheets',\n",
    "       'goals_conceded', 'own_goals', 'penalties_saved', 'penalties_missed',\n",
    "       'yellow_cards', 'red_cards', 'saves', 'bonus', 'bps', 'influence',\n",
    "       'creativity', 'threat', 'ict_index', 'games', 'xG', 'xA', 'shots', \n",
    "       'key_passes', 'npg', 'npxG', 'xGChain', 'xGBuildup']"
   ]
  },
  {
   "cell_type": "code",
   "execution_count": 47,
   "metadata": {},
   "outputs": [
    {
     "data": {
      "text/plain": [
       "[{'label': 'dreamteam_count', 'value': 'dreamteam_count'},\n",
       " {'label': 'form', 'value': 'form'},\n",
       " {'label': 'now_cost', 'value': 'now_cost'},\n",
       " {'label': 'points_per_game', 'value': 'points_per_game'},\n",
       " {'label': 'selected_by_percent', 'value': 'selected_by_percent'},\n",
       " {'label': 'total_points', 'value': 'total_points'},\n",
       " {'label': 'transfers_in', 'value': 'transfers_in'},\n",
       " {'label': 'transfers_out', 'value': 'transfers_out'},\n",
       " {'label': 'value_form', 'value': 'value_form'},\n",
       " {'label': 'value_season', 'value': 'value_season'},\n",
       " {'label': 'minutes', 'value': 'minutes'},\n",
       " {'label': 'goals_scored', 'value': 'goals_scored'},\n",
       " {'label': 'assists', 'value': 'assists'},\n",
       " {'label': 'clean_sheets', 'value': 'clean_sheets'},\n",
       " {'label': 'goals_conceded', 'value': 'goals_conceded'},\n",
       " {'label': 'own_goals', 'value': 'own_goals'},\n",
       " {'label': 'penalties_saved', 'value': 'penalties_saved'},\n",
       " {'label': 'penalties_missed', 'value': 'penalties_missed'},\n",
       " {'label': 'yellow_cards', 'value': 'yellow_cards'},\n",
       " {'label': 'red_cards', 'value': 'red_cards'},\n",
       " {'label': 'saves', 'value': 'saves'},\n",
       " {'label': 'bonus', 'value': 'bonus'},\n",
       " {'label': 'bps', 'value': 'bps'},\n",
       " {'label': 'influence', 'value': 'influence'},\n",
       " {'label': 'creativity', 'value': 'creativity'},\n",
       " {'label': 'threat', 'value': 'threat'},\n",
       " {'label': 'ict_index', 'value': 'ict_index'},\n",
       " {'label': 'games', 'value': 'games'},\n",
       " {'label': 'xG', 'value': 'xG'},\n",
       " {'label': 'xA', 'value': 'xA'},\n",
       " {'label': 'shots', 'value': 'shots'},\n",
       " {'label': 'key_passes', 'value': 'key_passes'},\n",
       " {'label': 'npg', 'value': 'npg'},\n",
       " {'label': 'npxG', 'value': 'npxG'},\n",
       " {'label': 'xGChain', 'value': 'xGChain'},\n",
       " {'label': 'xGBuildup', 'value': 'xGBuildup'}]"
      ]
     },
     "execution_count": 47,
     "metadata": {},
     "output_type": "execute_result"
    }
   ],
   "source": [
    "[{\"label\":value, \"value\":value} for value in columns]\n"
   ]
  },
  {
   "cell_type": "code",
   "execution_count": 49,
   "metadata": {},
   "outputs": [
    {
     "data": {
      "text/plain": [
       "<AxesSubplot:>"
      ]
     },
     "execution_count": 49,
     "metadata": {},
     "output_type": "execute_result"
    },
    {
     "name": "stdout",
     "output_type": "stream",
     "text": [
      "<Figure size 432x288 with 1 Axes>\n"
     ]
    }
   ],
   "source": [
    "data_points = []\n",
    "\n",
    "for id in df.index:\n",
    "    history = pd.DataFrame(hist_data[id]['history'])\n",
    "\n",
    "    # Create team columns\n",
    "    team_cols = {i:'opponent_team_is_'+str(i) for i in np.arange(1,21)}\n",
    "    history[list(team_cols.values())] = 0\n",
    "    opponent_dummies = pd.get_dummies(history['opponent_team']).rename(columns=team_cols)\n",
    "    history[list(opponent_dummies.columns)] = opponent_dummies\n",
    "\n",
    "    # Get fixture difficulty\n",
    "    history = pd.concat([history,get_difficulty(team_df=team_df, history=history)], axis=1)\n",
    "\n",
    "    # Goals for and against\n",
    "    history['goals_for'] = history['team_h_score'].where(history['was_home'], history['team_a_score'])\n",
    "    history['goals_against'] = history['team_a_score'].where(history['was_home'], history['team_h_score'])\n",
    "\n",
    "    # Drop irrelevant columns\n",
    "    history = history.drop(columns=['team_h_score','team_a_score','element','fixture','kickoff_time','opponent_team'])\n",
    "\n",
    "    # groupBY sum gameweeks\n",
    "    mean_cols =['value', 'transfers_balance', 'selected', 'transfers_in','transfers_out','opponent_strength', 'opponent_strength_overall',\n",
    "        'opponent_strength_attack', 'opponent_strength_defence']\n",
    "    history = pd.concat([history.groupby('round').sum().drop(columns=mean_cols), history.groupby('round')[mean_cols].mean()], axis=1)\n",
    "\n",
    "    # Finding empty gameweeks\n",
    "    for empty_gw in np.arange(1,max(history.index)):\n",
    "        if empty_gw not in history.index:\n",
    "            history.loc[empty_gw] = None\n",
    "    history = history.sort_index()\n",
    "\n",
    "    # filling interpolated transfer data or zeros for gw data\n",
    "    history[['value', 'transfers_balance', 'selected','transfers_in', 'transfers_out']] = \\\n",
    "        history[['value', 'transfers_balance', 'selected', 'transfers_in', 'transfers_out']].interpolate(method='linear')\n",
    "    history = history.fillna(0)\n",
    "\n",
    "    # Adding a cumulative sum of points\n",
    "    history['points_cumsum'] = history['total_points'].cumsum()\n",
    "\n",
    "    # Adding general player data \n",
    "    player_df = history\n",
    "\n",
    "    # Split the data\n",
    "    slices = [np.arange(i-2,i+1) for i in range(3,len(player_df))]\n",
    "    for slice in slices:\n",
    "        df_slice = player_df.loc[slice,:].iloc[::-1].reset_index(drop=True)\n",
    "        \n",
    "        unstacked = df_slice.unstack().to_frame().T\n",
    "        unstacked.columns = unstacked.columns.map(lambda x: x[0] + '_' + str(1+x[1])+'_weeks_ago')\n",
    "\n",
    "        unstacked['id'] = id\n",
    "        unstacked['target'] = history.loc[max(slice)+1,:]['total_points']\n",
    "        data_points.append(unstacked.to_dict('records')[0])"
   ]
  },
  {
   "cell_type": "code",
   "execution_count": null,
   "metadata": {},
   "outputs": [],
   "source": [
    "value = []\n",
    "label = []\n",
    "fig, ax = plt.subplots()\n",
    "for ind_id, player in enumerate(d):\n",
    "    value = []\n",
    "    for gw in player['history']:\n",
    "        value.append(gw['value'])\n",
    "\n",
    "    if (value[0] + 4) < value[-1]: \n",
    "        #Plotting only people who's value has increased by more than 0.5mill\n",
    "        name = good_players['web_name'].loc[good_players.index[ind_id]]\n",
    "        ax.plot(np.arange(0, len(value)), value, label=name)\n",
    "ax.legend()\n",
    "    #for season in player['history_past']:\n",
    "    #    print(season['season_name'])\n",
    "    #print('----')"
   ]
  },
  {
   "cell_type": "code",
   "execution_count": 54,
   "metadata": {},
   "outputs": [
    {
     "data": {
      "text/html": [
       "<div>\n",
       "<style scoped>\n",
       "    .dataframe tbody tr th:only-of-type {\n",
       "        vertical-align: middle;\n",
       "    }\n",
       "\n",
       "    .dataframe tbody tr th {\n",
       "        vertical-align: top;\n",
       "    }\n",
       "\n",
       "    .dataframe thead th {\n",
       "        text-align: right;\n",
       "    }\n",
       "</style>\n",
       "<table border=\"1\" class=\"dataframe\">\n",
       "  <thead>\n",
       "    <tr style=\"text-align: right;\">\n",
       "      <th></th>\n",
       "      <th>total_points</th>\n",
       "      <th>was_home</th>\n",
       "      <th>minutes</th>\n",
       "      <th>goals_scored</th>\n",
       "      <th>assists</th>\n",
       "      <th>clean_sheets</th>\n",
       "      <th>goals_conceded</th>\n",
       "      <th>own_goals</th>\n",
       "      <th>penalties_saved</th>\n",
       "      <th>penalties_missed</th>\n",
       "      <th>yellow_cards</th>\n",
       "      <th>red_cards</th>\n",
       "      <th>saves</th>\n",
       "      <th>bonus</th>\n",
       "      <th>bps</th>\n",
       "      <th>goals_for</th>\n",
       "      <th>goals_against</th>\n",
       "      <th>value</th>\n",
       "      <th>transfers_balance</th>\n",
       "      <th>selected</th>\n",
       "      <th>transfers_in</th>\n",
       "      <th>transfers_out</th>\n",
       "      <th>points_cumsum</th>\n",
       "    </tr>\n",
       "    <tr>\n",
       "      <th>round</th>\n",
       "      <th></th>\n",
       "      <th></th>\n",
       "      <th></th>\n",
       "      <th></th>\n",
       "      <th></th>\n",
       "      <th></th>\n",
       "      <th></th>\n",
       "      <th></th>\n",
       "      <th></th>\n",
       "      <th></th>\n",
       "      <th></th>\n",
       "      <th></th>\n",
       "      <th></th>\n",
       "      <th></th>\n",
       "      <th></th>\n",
       "      <th></th>\n",
       "      <th></th>\n",
       "      <th></th>\n",
       "      <th></th>\n",
       "      <th></th>\n",
       "      <th></th>\n",
       "      <th></th>\n",
       "      <th></th>\n",
       "    </tr>\n",
       "  </thead>\n",
       "  <tbody>\n",
       "    <tr>\n",
       "      <th>1</th>\n",
       "      <td>13.0</td>\n",
       "      <td>0.0</td>\n",
       "      <td>90.0</td>\n",
       "      <td>1.0</td>\n",
       "      <td>2.0</td>\n",
       "      <td>0.0</td>\n",
       "      <td>2.0</td>\n",
       "      <td>0.0</td>\n",
       "      <td>0.0</td>\n",
       "      <td>1.0</td>\n",
       "      <td>0.0</td>\n",
       "      <td>0.0</td>\n",
       "      <td>0.0</td>\n",
       "      <td>3.0</td>\n",
       "      <td>40.0</td>\n",
       "      <td>4.0</td>\n",
       "      <td>2.0</td>\n",
       "      <td>75.0</td>\n",
       "      <td>0.0</td>\n",
       "      <td>1617415.0</td>\n",
       "      <td>0.0</td>\n",
       "      <td>0.0</td>\n",
       "      <td>13.0</td>\n",
       "    </tr>\n",
       "    <tr>\n",
       "      <th>2</th>\n",
       "      <td>16.0</td>\n",
       "      <td>1.0</td>\n",
       "      <td>88.0</td>\n",
       "      <td>2.0</td>\n",
       "      <td>1.0</td>\n",
       "      <td>0.0</td>\n",
       "      <td>1.0</td>\n",
       "      <td>0.0</td>\n",
       "      <td>0.0</td>\n",
       "      <td>0.0</td>\n",
       "      <td>0.0</td>\n",
       "      <td>0.0</td>\n",
       "      <td>0.0</td>\n",
       "      <td>3.0</td>\n",
       "      <td>67.0</td>\n",
       "      <td>4.0</td>\n",
       "      <td>1.0</td>\n",
       "      <td>76.0</td>\n",
       "      <td>313650.0</td>\n",
       "      <td>2152885.0</td>\n",
       "      <td>377054.0</td>\n",
       "      <td>63404.0</td>\n",
       "      <td>29.0</td>\n",
       "    </tr>\n",
       "    <tr>\n",
       "      <th>3</th>\n",
       "      <td>11.0</td>\n",
       "      <td>1.0</td>\n",
       "      <td>90.0</td>\n",
       "      <td>1.0</td>\n",
       "      <td>1.0</td>\n",
       "      <td>0.0</td>\n",
       "      <td>2.0</td>\n",
       "      <td>0.0</td>\n",
       "      <td>0.0</td>\n",
       "      <td>0.0</td>\n",
       "      <td>0.0</td>\n",
       "      <td>0.0</td>\n",
       "      <td>0.0</td>\n",
       "      <td>2.0</td>\n",
       "      <td>46.0</td>\n",
       "      <td>2.0</td>\n",
       "      <td>2.0</td>\n",
       "      <td>78.0</td>\n",
       "      <td>1011895.0</td>\n",
       "      <td>3317114.0</td>\n",
       "      <td>1064559.0</td>\n",
       "      <td>52664.0</td>\n",
       "      <td>40.0</td>\n",
       "    </tr>\n",
       "    <tr>\n",
       "      <th>4</th>\n",
       "      <td>-1.0</td>\n",
       "      <td>0.0</td>\n",
       "      <td>90.0</td>\n",
       "      <td>0.0</td>\n",
       "      <td>0.0</td>\n",
       "      <td>1.0</td>\n",
       "      <td>0.0</td>\n",
       "      <td>0.0</td>\n",
       "      <td>0.0</td>\n",
       "      <td>0.0</td>\n",
       "      <td>0.0</td>\n",
       "      <td>1.0</td>\n",
       "      <td>0.0</td>\n",
       "      <td>0.0</td>\n",
       "      <td>-6.0</td>\n",
       "      <td>0.0</td>\n",
       "      <td>0.0</td>\n",
       "      <td>80.0</td>\n",
       "      <td>795752.0</td>\n",
       "      <td>4273709.0</td>\n",
       "      <td>951754.0</td>\n",
       "      <td>156002.0</td>\n",
       "      <td>39.0</td>\n",
       "    </tr>\n",
       "    <tr>\n",
       "      <th>5</th>\n",
       "      <td>0.0</td>\n",
       "      <td>1.0</td>\n",
       "      <td>0.0</td>\n",
       "      <td>0.0</td>\n",
       "      <td>0.0</td>\n",
       "      <td>0.0</td>\n",
       "      <td>0.0</td>\n",
       "      <td>0.0</td>\n",
       "      <td>0.0</td>\n",
       "      <td>0.0</td>\n",
       "      <td>0.0</td>\n",
       "      <td>0.0</td>\n",
       "      <td>0.0</td>\n",
       "      <td>0.0</td>\n",
       "      <td>0.0</td>\n",
       "      <td>1.0</td>\n",
       "      <td>2.0</td>\n",
       "      <td>79.0</td>\n",
       "      <td>-1734284.0</td>\n",
       "      <td>2443566.0</td>\n",
       "      <td>48378.0</td>\n",
       "      <td>1782662.0</td>\n",
       "      <td>39.0</td>\n",
       "    </tr>\n",
       "    <tr>\n",
       "      <th>6</th>\n",
       "      <td>8.0</td>\n",
       "      <td>0.0</td>\n",
       "      <td>90.0</td>\n",
       "      <td>1.0</td>\n",
       "      <td>0.0</td>\n",
       "      <td>0.0</td>\n",
       "      <td>1.0</td>\n",
       "      <td>0.0</td>\n",
       "      <td>0.0</td>\n",
       "      <td>0.0</td>\n",
       "      <td>1.0</td>\n",
       "      <td>0.0</td>\n",
       "      <td>0.0</td>\n",
       "      <td>3.0</td>\n",
       "      <td>34.0</td>\n",
       "      <td>2.0</td>\n",
       "      <td>1.0</td>\n",
       "      <td>79.0</td>\n",
       "      <td>769909.0</td>\n",
       "      <td>3358752.0</td>\n",
       "      <td>889821.0</td>\n",
       "      <td>119912.0</td>\n",
       "      <td>47.0</td>\n",
       "    </tr>\n",
       "    <tr>\n",
       "      <th>7</th>\n",
       "      <td>2.0</td>\n",
       "      <td>1.0</td>\n",
       "      <td>90.0</td>\n",
       "      <td>0.0</td>\n",
       "      <td>0.0</td>\n",
       "      <td>0.0</td>\n",
       "      <td>2.0</td>\n",
       "      <td>0.0</td>\n",
       "      <td>0.0</td>\n",
       "      <td>0.0</td>\n",
       "      <td>0.0</td>\n",
       "      <td>0.0</td>\n",
       "      <td>0.0</td>\n",
       "      <td>0.0</td>\n",
       "      <td>12.0</td>\n",
       "      <td>1.0</td>\n",
       "      <td>2.0</td>\n",
       "      <td>80.0</td>\n",
       "      <td>402343.0</td>\n",
       "      <td>3784079.0</td>\n",
       "      <td>472632.0</td>\n",
       "      <td>70289.0</td>\n",
       "      <td>49.0</td>\n",
       "    </tr>\n",
       "    <tr>\n",
       "      <th>8</th>\n",
       "      <td>1.0</td>\n",
       "      <td>0.0</td>\n",
       "      <td>90.0</td>\n",
       "      <td>0.0</td>\n",
       "      <td>0.0</td>\n",
       "      <td>1.0</td>\n",
       "      <td>0.0</td>\n",
       "      <td>0.0</td>\n",
       "      <td>0.0</td>\n",
       "      <td>0.0</td>\n",
       "      <td>1.0</td>\n",
       "      <td>0.0</td>\n",
       "      <td>0.0</td>\n",
       "      <td>0.0</td>\n",
       "      <td>-1.0</td>\n",
       "      <td>1.0</td>\n",
       "      <td>0.0</td>\n",
       "      <td>81.0</td>\n",
       "      <td>69158.0</td>\n",
       "      <td>3863555.0</td>\n",
       "      <td>210545.0</td>\n",
       "      <td>141387.0</td>\n",
       "      <td>50.0</td>\n",
       "    </tr>\n",
       "    <tr>\n",
       "      <th>9</th>\n",
       "      <td>7.0</td>\n",
       "      <td>1.0</td>\n",
       "      <td>90.0</td>\n",
       "      <td>1.0</td>\n",
       "      <td>0.0</td>\n",
       "      <td>1.0</td>\n",
       "      <td>0.0</td>\n",
       "      <td>0.0</td>\n",
       "      <td>0.0</td>\n",
       "      <td>0.0</td>\n",
       "      <td>0.0</td>\n",
       "      <td>0.0</td>\n",
       "      <td>0.0</td>\n",
       "      <td>1.0</td>\n",
       "      <td>26.0</td>\n",
       "      <td>1.0</td>\n",
       "      <td>0.0</td>\n",
       "      <td>81.0</td>\n",
       "      <td>-30109.0</td>\n",
       "      <td>3837127.0</td>\n",
       "      <td>141902.0</td>\n",
       "      <td>172011.0</td>\n",
       "      <td>57.0</td>\n",
       "    </tr>\n",
       "    <tr>\n",
       "      <th>10</th>\n",
       "      <td>2.0</td>\n",
       "      <td>0.0</td>\n",
       "      <td>90.0</td>\n",
       "      <td>0.0</td>\n",
       "      <td>0.0</td>\n",
       "      <td>0.0</td>\n",
       "      <td>1.0</td>\n",
       "      <td>0.0</td>\n",
       "      <td>0.0</td>\n",
       "      <td>0.0</td>\n",
       "      <td>0.0</td>\n",
       "      <td>0.0</td>\n",
       "      <td>0.0</td>\n",
       "      <td>0.0</td>\n",
       "      <td>5.0</td>\n",
       "      <td>4.0</td>\n",
       "      <td>1.0</td>\n",
       "      <td>82.0</td>\n",
       "      <td>247071.0</td>\n",
       "      <td>4136487.0</td>\n",
       "      <td>316719.0</td>\n",
       "      <td>69648.0</td>\n",
       "      <td>59.0</td>\n",
       "    </tr>\n",
       "    <tr>\n",
       "      <th>11</th>\n",
       "      <td>2.0</td>\n",
       "      <td>1.0</td>\n",
       "      <td>90.0</td>\n",
       "      <td>0.0</td>\n",
       "      <td>0.0</td>\n",
       "      <td>0.0</td>\n",
       "      <td>2.0</td>\n",
       "      <td>0.0</td>\n",
       "      <td>0.0</td>\n",
       "      <td>0.0</td>\n",
       "      <td>0.0</td>\n",
       "      <td>0.0</td>\n",
       "      <td>0.0</td>\n",
       "      <td>0.0</td>\n",
       "      <td>4.0</td>\n",
       "      <td>3.0</td>\n",
       "      <td>2.0</td>\n",
       "      <td>82.0</td>\n",
       "      <td>-111803.0</td>\n",
       "      <td>4016151.0</td>\n",
       "      <td>106217.0</td>\n",
       "      <td>218020.0</td>\n",
       "      <td>61.0</td>\n",
       "    </tr>\n",
       "    <tr>\n",
       "      <th>12</th>\n",
       "      <td>2.0</td>\n",
       "      <td>0.0</td>\n",
       "      <td>90.0</td>\n",
       "      <td>0.0</td>\n",
       "      <td>0.0</td>\n",
       "      <td>0.0</td>\n",
       "      <td>1.0</td>\n",
       "      <td>0.0</td>\n",
       "      <td>0.0</td>\n",
       "      <td>0.0</td>\n",
       "      <td>0.0</td>\n",
       "      <td>0.0</td>\n",
       "      <td>0.0</td>\n",
       "      <td>0.0</td>\n",
       "      <td>5.0</td>\n",
       "      <td>0.0</td>\n",
       "      <td>1.0</td>\n",
       "      <td>82.0</td>\n",
       "      <td>138241.0</td>\n",
       "      <td>4191532.0</td>\n",
       "      <td>233939.0</td>\n",
       "      <td>95698.0</td>\n",
       "      <td>63.0</td>\n",
       "    </tr>\n",
       "    <tr>\n",
       "      <th>13</th>\n",
       "      <td>2.0</td>\n",
       "      <td>0.0</td>\n",
       "      <td>90.0</td>\n",
       "      <td>0.0</td>\n",
       "      <td>0.0</td>\n",
       "      <td>0.0</td>\n",
       "      <td>2.0</td>\n",
       "      <td>0.0</td>\n",
       "      <td>0.0</td>\n",
       "      <td>0.0</td>\n",
       "      <td>0.0</td>\n",
       "      <td>0.0</td>\n",
       "      <td>0.0</td>\n",
       "      <td>0.0</td>\n",
       "      <td>0.0</td>\n",
       "      <td>1.0</td>\n",
       "      <td>2.0</td>\n",
       "      <td>81.0</td>\n",
       "      <td>-333147.0</td>\n",
       "      <td>3852686.0</td>\n",
       "      <td>61659.0</td>\n",
       "      <td>394806.0</td>\n",
       "      <td>65.0</td>\n",
       "    </tr>\n",
       "    <tr>\n",
       "      <th>14</th>\n",
       "      <td>1.0</td>\n",
       "      <td>1.0</td>\n",
       "      <td>90.0</td>\n",
       "      <td>0.0</td>\n",
       "      <td>0.0</td>\n",
       "      <td>0.0</td>\n",
       "      <td>1.0</td>\n",
       "      <td>0.0</td>\n",
       "      <td>0.0</td>\n",
       "      <td>0.0</td>\n",
       "      <td>1.0</td>\n",
       "      <td>0.0</td>\n",
       "      <td>0.0</td>\n",
       "      <td>0.0</td>\n",
       "      <td>1.0</td>\n",
       "      <td>1.0</td>\n",
       "      <td>1.0</td>\n",
       "      <td>81.0</td>\n",
       "      <td>-94163.0</td>\n",
       "      <td>3775385.0</td>\n",
       "      <td>67833.0</td>\n",
       "      <td>161996.0</td>\n",
       "      <td>66.0</td>\n",
       "    </tr>\n",
       "    <tr>\n",
       "      <th>15</th>\n",
       "      <td>5.0</td>\n",
       "      <td>1.0</td>\n",
       "      <td>90.0</td>\n",
       "      <td>0.0</td>\n",
       "      <td>1.0</td>\n",
       "      <td>0.0</td>\n",
       "      <td>2.0</td>\n",
       "      <td>0.0</td>\n",
       "      <td>0.0</td>\n",
       "      <td>0.0</td>\n",
       "      <td>0.0</td>\n",
       "      <td>0.0</td>\n",
       "      <td>0.0</td>\n",
       "      <td>0.0</td>\n",
       "      <td>21.0</td>\n",
       "      <td>3.0</td>\n",
       "      <td>2.0</td>\n",
       "      <td>80.0</td>\n",
       "      <td>-410465.0</td>\n",
       "      <td>3363968.0</td>\n",
       "      <td>40779.0</td>\n",
       "      <td>451244.0</td>\n",
       "      <td>71.0</td>\n",
       "    </tr>\n",
       "    <tr>\n",
       "      <th>16</th>\n",
       "      <td>2.0</td>\n",
       "      <td>0.0</td>\n",
       "      <td>90.0</td>\n",
       "      <td>0.0</td>\n",
       "      <td>0.0</td>\n",
       "      <td>1.0</td>\n",
       "      <td>0.0</td>\n",
       "      <td>0.0</td>\n",
       "      <td>0.0</td>\n",
       "      <td>0.0</td>\n",
       "      <td>0.0</td>\n",
       "      <td>0.0</td>\n",
       "      <td>0.0</td>\n",
       "      <td>0.0</td>\n",
       "      <td>-1.0</td>\n",
       "      <td>0.0</td>\n",
       "      <td>0.0</td>\n",
       "      <td>79.0</td>\n",
       "      <td>131667.0</td>\n",
       "      <td>3518849.0</td>\n",
       "      <td>250539.0</td>\n",
       "      <td>118872.0</td>\n",
       "      <td>73.0</td>\n",
       "    </tr>\n",
       "    <tr>\n",
       "      <th>17</th>\n",
       "      <td>2.0</td>\n",
       "      <td>0.0</td>\n",
       "      <td>90.0</td>\n",
       "      <td>0.0</td>\n",
       "      <td>0.0</td>\n",
       "      <td>0.0</td>\n",
       "      <td>2.0</td>\n",
       "      <td>0.0</td>\n",
       "      <td>0.0</td>\n",
       "      <td>0.0</td>\n",
       "      <td>0.0</td>\n",
       "      <td>0.0</td>\n",
       "      <td>0.0</td>\n",
       "      <td>0.0</td>\n",
       "      <td>-3.0</td>\n",
       "      <td>0.0</td>\n",
       "      <td>2.0</td>\n",
       "      <td>79.0</td>\n",
       "      <td>-5644.0</td>\n",
       "      <td>3504865.0</td>\n",
       "      <td>135125.0</td>\n",
       "      <td>140769.0</td>\n",
       "      <td>75.0</td>\n",
       "    </tr>\n",
       "    <tr>\n",
       "      <th>18</th>\n",
       "      <td>0.0</td>\n",
       "      <td>0.0</td>\n",
       "      <td>0.0</td>\n",
       "      <td>0.0</td>\n",
       "      <td>0.0</td>\n",
       "      <td>0.0</td>\n",
       "      <td>0.0</td>\n",
       "      <td>0.0</td>\n",
       "      <td>0.0</td>\n",
       "      <td>0.0</td>\n",
       "      <td>0.0</td>\n",
       "      <td>0.0</td>\n",
       "      <td>0.0</td>\n",
       "      <td>0.0</td>\n",
       "      <td>0.0</td>\n",
       "      <td>0.0</td>\n",
       "      <td>0.0</td>\n",
       "      <td>78.5</td>\n",
       "      <td>-103253.5</td>\n",
       "      <td>3101790.0</td>\n",
       "      <td>101070.0</td>\n",
       "      <td>204323.5</td>\n",
       "      <td>75.0</td>\n",
       "    </tr>\n",
       "    <tr>\n",
       "      <th>19</th>\n",
       "      <td>5.0</td>\n",
       "      <td>1.0</td>\n",
       "      <td>45.0</td>\n",
       "      <td>1.0</td>\n",
       "      <td>0.0</td>\n",
       "      <td>0.0</td>\n",
       "      <td>2.0</td>\n",
       "      <td>0.0</td>\n",
       "      <td>0.0</td>\n",
       "      <td>0.0</td>\n",
       "      <td>0.0</td>\n",
       "      <td>0.0</td>\n",
       "      <td>0.0</td>\n",
       "      <td>0.0</td>\n",
       "      <td>22.0</td>\n",
       "      <td>2.0</td>\n",
       "      <td>3.0</td>\n",
       "      <td>78.0</td>\n",
       "      <td>-200863.0</td>\n",
       "      <td>2698715.0</td>\n",
       "      <td>67015.0</td>\n",
       "      <td>267878.0</td>\n",
       "      <td>80.0</td>\n",
       "    </tr>\n",
       "    <tr>\n",
       "      <th>20</th>\n",
       "      <td>5.0</td>\n",
       "      <td>0.0</td>\n",
       "      <td>90.0</td>\n",
       "      <td>0.0</td>\n",
       "      <td>1.0</td>\n",
       "      <td>0.0</td>\n",
       "      <td>1.0</td>\n",
       "      <td>0.0</td>\n",
       "      <td>0.0</td>\n",
       "      <td>0.0</td>\n",
       "      <td>0.0</td>\n",
       "      <td>0.0</td>\n",
       "      <td>0.0</td>\n",
       "      <td>0.0</td>\n",
       "      <td>10.0</td>\n",
       "      <td>4.0</td>\n",
       "      <td>1.0</td>\n",
       "      <td>77.0</td>\n",
       "      <td>279283.0</td>\n",
       "      <td>3224676.0</td>\n",
       "      <td>314093.0</td>\n",
       "      <td>34810.0</td>\n",
       "      <td>85.0</td>\n",
       "    </tr>\n",
       "    <tr>\n",
       "      <th>21</th>\n",
       "      <td>9.0</td>\n",
       "      <td>1.0</td>\n",
       "      <td>177.0</td>\n",
       "      <td>1.0</td>\n",
       "      <td>0.0</td>\n",
       "      <td>1.0</td>\n",
       "      <td>2.0</td>\n",
       "      <td>0.0</td>\n",
       "      <td>0.0</td>\n",
       "      <td>0.0</td>\n",
       "      <td>0.0</td>\n",
       "      <td>0.0</td>\n",
       "      <td>0.0</td>\n",
       "      <td>1.0</td>\n",
       "      <td>29.0</td>\n",
       "      <td>5.0</td>\n",
       "      <td>2.0</td>\n",
       "      <td>78.0</td>\n",
       "      <td>569305.0</td>\n",
       "      <td>3880687.0</td>\n",
       "      <td>630427.0</td>\n",
       "      <td>61122.0</td>\n",
       "      <td>94.0</td>\n",
       "    </tr>\n",
       "    <tr>\n",
       "      <th>22</th>\n",
       "      <td>4.0</td>\n",
       "      <td>1.0</td>\n",
       "      <td>90.0</td>\n",
       "      <td>0.0</td>\n",
       "      <td>1.0</td>\n",
       "      <td>0.0</td>\n",
       "      <td>3.0</td>\n",
       "      <td>0.0</td>\n",
       "      <td>0.0</td>\n",
       "      <td>0.0</td>\n",
       "      <td>1.0</td>\n",
       "      <td>0.0</td>\n",
       "      <td>0.0</td>\n",
       "      <td>0.0</td>\n",
       "      <td>7.0</td>\n",
       "      <td>2.0</td>\n",
       "      <td>3.0</td>\n",
       "      <td>79.0</td>\n",
       "      <td>82675.0</td>\n",
       "      <td>3610165.0</td>\n",
       "      <td>332187.0</td>\n",
       "      <td>249512.0</td>\n",
       "      <td>98.0</td>\n",
       "    </tr>\n",
       "    <tr>\n",
       "      <th>23</th>\n",
       "      <td>2.0</td>\n",
       "      <td>0.0</td>\n",
       "      <td>90.0</td>\n",
       "      <td>0.0</td>\n",
       "      <td>0.0</td>\n",
       "      <td>0.0</td>\n",
       "      <td>1.0</td>\n",
       "      <td>0.0</td>\n",
       "      <td>0.0</td>\n",
       "      <td>0.0</td>\n",
       "      <td>0.0</td>\n",
       "      <td>0.0</td>\n",
       "      <td>0.0</td>\n",
       "      <td>0.0</td>\n",
       "      <td>7.0</td>\n",
       "      <td>0.0</td>\n",
       "      <td>1.0</td>\n",
       "      <td>79.0</td>\n",
       "      <td>-78104.0</td>\n",
       "      <td>3736105.0</td>\n",
       "      <td>113685.0</td>\n",
       "      <td>191789.0</td>\n",
       "      <td>100.0</td>\n",
       "    </tr>\n",
       "    <tr>\n",
       "      <th>24</th>\n",
       "      <td>2.0</td>\n",
       "      <td>1.0</td>\n",
       "      <td>90.0</td>\n",
       "      <td>0.0</td>\n",
       "      <td>0.0</td>\n",
       "      <td>1.0</td>\n",
       "      <td>0.0</td>\n",
       "      <td>0.0</td>\n",
       "      <td>0.0</td>\n",
       "      <td>0.0</td>\n",
       "      <td>0.0</td>\n",
       "      <td>0.0</td>\n",
       "      <td>0.0</td>\n",
       "      <td>0.0</td>\n",
       "      <td>2.0</td>\n",
       "      <td>1.0</td>\n",
       "      <td>0.0</td>\n",
       "      <td>79.0</td>\n",
       "      <td>-118129.0</td>\n",
       "      <td>3628246.0</td>\n",
       "      <td>135266.0</td>\n",
       "      <td>253395.0</td>\n",
       "      <td>102.0</td>\n",
       "    </tr>\n",
       "    <tr>\n",
       "      <th>25</th>\n",
       "      <td>2.0</td>\n",
       "      <td>0.0</td>\n",
       "      <td>90.0</td>\n",
       "      <td>0.0</td>\n",
       "      <td>0.0</td>\n",
       "      <td>0.0</td>\n",
       "      <td>2.0</td>\n",
       "      <td>0.0</td>\n",
       "      <td>0.0</td>\n",
       "      <td>0.0</td>\n",
       "      <td>0.0</td>\n",
       "      <td>0.0</td>\n",
       "      <td>0.0</td>\n",
       "      <td>0.0</td>\n",
       "      <td>6.0</td>\n",
       "      <td>2.0</td>\n",
       "      <td>2.0</td>\n",
       "      <td>78.0</td>\n",
       "      <td>-175300.0</td>\n",
       "      <td>3447545.0</td>\n",
       "      <td>76234.0</td>\n",
       "      <td>251534.0</td>\n",
       "      <td>104.0</td>\n",
       "    </tr>\n",
       "    <tr>\n",
       "      <th>26</th>\n",
       "      <td>2.0</td>\n",
       "      <td>1.0</td>\n",
       "      <td>90.0</td>\n",
       "      <td>0.0</td>\n",
       "      <td>0.0</td>\n",
       "      <td>0.0</td>\n",
       "      <td>1.0</td>\n",
       "      <td>0.0</td>\n",
       "      <td>0.0</td>\n",
       "      <td>0.0</td>\n",
       "      <td>0.0</td>\n",
       "      <td>0.0</td>\n",
       "      <td>0.0</td>\n",
       "      <td>0.0</td>\n",
       "      <td>5.0</td>\n",
       "      <td>1.0</td>\n",
       "      <td>1.0</td>\n",
       "      <td>77.0</td>\n",
       "      <td>-210912.0</td>\n",
       "      <td>3155345.0</td>\n",
       "      <td>68627.0</td>\n",
       "      <td>279539.0</td>\n",
       "      <td>106.0</td>\n",
       "    </tr>\n",
       "    <tr>\n",
       "      <th>27</th>\n",
       "      <td>4.0</td>\n",
       "      <td>1.0</td>\n",
       "      <td>90.0</td>\n",
       "      <td>0.0</td>\n",
       "      <td>1.0</td>\n",
       "      <td>1.0</td>\n",
       "      <td>0.0</td>\n",
       "      <td>0.0</td>\n",
       "      <td>0.0</td>\n",
       "      <td>0.0</td>\n",
       "      <td>1.0</td>\n",
       "      <td>0.0</td>\n",
       "      <td>0.0</td>\n",
       "      <td>0.0</td>\n",
       "      <td>22.0</td>\n",
       "      <td>1.0</td>\n",
       "      <td>0.0</td>\n",
       "      <td>77.0</td>\n",
       "      <td>-135595.0</td>\n",
       "      <td>3024993.0</td>\n",
       "      <td>46620.0</td>\n",
       "      <td>182215.0</td>\n",
       "      <td>110.0</td>\n",
       "    </tr>\n",
       "    <tr>\n",
       "      <th>28</th>\n",
       "      <td>2.0</td>\n",
       "      <td>0.0</td>\n",
       "      <td>90.0</td>\n",
       "      <td>0.0</td>\n",
       "      <td>0.0</td>\n",
       "      <td>0.0</td>\n",
       "      <td>1.0</td>\n",
       "      <td>0.0</td>\n",
       "      <td>0.0</td>\n",
       "      <td>0.0</td>\n",
       "      <td>0.0</td>\n",
       "      <td>0.0</td>\n",
       "      <td>0.0</td>\n",
       "      <td>0.0</td>\n",
       "      <td>4.0</td>\n",
       "      <td>0.0</td>\n",
       "      <td>1.0</td>\n",
       "      <td>76.0</td>\n",
       "      <td>-277255.0</td>\n",
       "      <td>2814508.0</td>\n",
       "      <td>26914.0</td>\n",
       "      <td>304169.0</td>\n",
       "      <td>112.0</td>\n",
       "    </tr>\n",
       "  </tbody>\n",
       "</table>\n",
       "</div>"
      ],
      "text/plain": [
       "       total_points  was_home  minutes  goals_scored  assists  clean_sheets  \\\n",
       "round                                                                         \n",
       "1              13.0       0.0     90.0           1.0      2.0           0.0   \n",
       "2              16.0       1.0     88.0           2.0      1.0           0.0   \n",
       "3              11.0       1.0     90.0           1.0      1.0           0.0   \n",
       "4              -1.0       0.0     90.0           0.0      0.0           1.0   \n",
       "5               0.0       1.0      0.0           0.0      0.0           0.0   \n",
       "6               8.0       0.0     90.0           1.0      0.0           0.0   \n",
       "7               2.0       1.0     90.0           0.0      0.0           0.0   \n",
       "8               1.0       0.0     90.0           0.0      0.0           1.0   \n",
       "9               7.0       1.0     90.0           1.0      0.0           1.0   \n",
       "10              2.0       0.0     90.0           0.0      0.0           0.0   \n",
       "11              2.0       1.0     90.0           0.0      0.0           0.0   \n",
       "12              2.0       0.0     90.0           0.0      0.0           0.0   \n",
       "13              2.0       0.0     90.0           0.0      0.0           0.0   \n",
       "14              1.0       1.0     90.0           0.0      0.0           0.0   \n",
       "15              5.0       1.0     90.0           0.0      1.0           0.0   \n",
       "16              2.0       0.0     90.0           0.0      0.0           1.0   \n",
       "17              2.0       0.0     90.0           0.0      0.0           0.0   \n",
       "18              0.0       0.0      0.0           0.0      0.0           0.0   \n",
       "19              5.0       1.0     45.0           1.0      0.0           0.0   \n",
       "20              5.0       0.0     90.0           0.0      1.0           0.0   \n",
       "21              9.0       1.0    177.0           1.0      0.0           1.0   \n",
       "22              4.0       1.0     90.0           0.0      1.0           0.0   \n",
       "23              2.0       0.0     90.0           0.0      0.0           0.0   \n",
       "24              2.0       1.0     90.0           0.0      0.0           1.0   \n",
       "25              2.0       0.0     90.0           0.0      0.0           0.0   \n",
       "26              2.0       1.0     90.0           0.0      0.0           0.0   \n",
       "27              4.0       1.0     90.0           0.0      1.0           1.0   \n",
       "28              2.0       0.0     90.0           0.0      0.0           0.0   \n",
       "\n",
       "       goals_conceded  own_goals  penalties_saved  penalties_missed  \\\n",
       "round                                                                 \n",
       "1                 2.0        0.0              0.0               1.0   \n",
       "2                 1.0        0.0              0.0               0.0   \n",
       "3                 2.0        0.0              0.0               0.0   \n",
       "4                 0.0        0.0              0.0               0.0   \n",
       "5                 0.0        0.0              0.0               0.0   \n",
       "6                 1.0        0.0              0.0               0.0   \n",
       "7                 2.0        0.0              0.0               0.0   \n",
       "8                 0.0        0.0              0.0               0.0   \n",
       "9                 0.0        0.0              0.0               0.0   \n",
       "10                1.0        0.0              0.0               0.0   \n",
       "11                2.0        0.0              0.0               0.0   \n",
       "12                1.0        0.0              0.0               0.0   \n",
       "13                2.0        0.0              0.0               0.0   \n",
       "14                1.0        0.0              0.0               0.0   \n",
       "15                2.0        0.0              0.0               0.0   \n",
       "16                0.0        0.0              0.0               0.0   \n",
       "17                2.0        0.0              0.0               0.0   \n",
       "18                0.0        0.0              0.0               0.0   \n",
       "19                2.0        0.0              0.0               0.0   \n",
       "20                1.0        0.0              0.0               0.0   \n",
       "21                2.0        0.0              0.0               0.0   \n",
       "22                3.0        0.0              0.0               0.0   \n",
       "23                1.0        0.0              0.0               0.0   \n",
       "24                0.0        0.0              0.0               0.0   \n",
       "25                2.0        0.0              0.0               0.0   \n",
       "26                1.0        0.0              0.0               0.0   \n",
       "27                0.0        0.0              0.0               0.0   \n",
       "28                1.0        0.0              0.0               0.0   \n",
       "\n",
       "       yellow_cards  red_cards  saves  bonus   bps  goals_for  goals_against  \\\n",
       "round                                                                          \n",
       "1               0.0        0.0    0.0    3.0  40.0        4.0            2.0   \n",
       "2               0.0        0.0    0.0    3.0  67.0        4.0            1.0   \n",
       "3               0.0        0.0    0.0    2.0  46.0        2.0            2.0   \n",
       "4               0.0        1.0    0.0    0.0  -6.0        0.0            0.0   \n",
       "5               0.0        0.0    0.0    0.0   0.0        1.0            2.0   \n",
       "6               1.0        0.0    0.0    3.0  34.0        2.0            1.0   \n",
       "7               0.0        0.0    0.0    0.0  12.0        1.0            2.0   \n",
       "8               1.0        0.0    0.0    0.0  -1.0        1.0            0.0   \n",
       "9               0.0        0.0    0.0    1.0  26.0        1.0            0.0   \n",
       "10              0.0        0.0    0.0    0.0   5.0        4.0            1.0   \n",
       "11              0.0        0.0    0.0    0.0   4.0        3.0            2.0   \n",
       "12              0.0        0.0    0.0    0.0   5.0        0.0            1.0   \n",
       "13              0.0        0.0    0.0    0.0   0.0        1.0            2.0   \n",
       "14              1.0        0.0    0.0    0.0   1.0        1.0            1.0   \n",
       "15              0.0        0.0    0.0    0.0  21.0        3.0            2.0   \n",
       "16              0.0        0.0    0.0    0.0  -1.0        0.0            0.0   \n",
       "17              0.0        0.0    0.0    0.0  -3.0        0.0            2.0   \n",
       "18              0.0        0.0    0.0    0.0   0.0        0.0            0.0   \n",
       "19              0.0        0.0    0.0    0.0  22.0        2.0            3.0   \n",
       "20              0.0        0.0    0.0    0.0  10.0        4.0            1.0   \n",
       "21              0.0        0.0    0.0    1.0  29.0        5.0            2.0   \n",
       "22              1.0        0.0    0.0    0.0   7.0        2.0            3.0   \n",
       "23              0.0        0.0    0.0    0.0   7.0        0.0            1.0   \n",
       "24              0.0        0.0    0.0    0.0   2.0        1.0            0.0   \n",
       "25              0.0        0.0    0.0    0.0   6.0        2.0            2.0   \n",
       "26              0.0        0.0    0.0    0.0   5.0        1.0            1.0   \n",
       "27              1.0        0.0    0.0    0.0  22.0        1.0            0.0   \n",
       "28              0.0        0.0    0.0    0.0   4.0        0.0            1.0   \n",
       "\n",
       "       value  transfers_balance   selected  transfers_in  transfers_out  \\\n",
       "round                                                                     \n",
       "1       75.0                0.0  1617415.0           0.0            0.0   \n",
       "2       76.0           313650.0  2152885.0      377054.0        63404.0   \n",
       "3       78.0          1011895.0  3317114.0     1064559.0        52664.0   \n",
       "4       80.0           795752.0  4273709.0      951754.0       156002.0   \n",
       "5       79.0         -1734284.0  2443566.0       48378.0      1782662.0   \n",
       "6       79.0           769909.0  3358752.0      889821.0       119912.0   \n",
       "7       80.0           402343.0  3784079.0      472632.0        70289.0   \n",
       "8       81.0            69158.0  3863555.0      210545.0       141387.0   \n",
       "9       81.0           -30109.0  3837127.0      141902.0       172011.0   \n",
       "10      82.0           247071.0  4136487.0      316719.0        69648.0   \n",
       "11      82.0          -111803.0  4016151.0      106217.0       218020.0   \n",
       "12      82.0           138241.0  4191532.0      233939.0        95698.0   \n",
       "13      81.0          -333147.0  3852686.0       61659.0       394806.0   \n",
       "14      81.0           -94163.0  3775385.0       67833.0       161996.0   \n",
       "15      80.0          -410465.0  3363968.0       40779.0       451244.0   \n",
       "16      79.0           131667.0  3518849.0      250539.0       118872.0   \n",
       "17      79.0            -5644.0  3504865.0      135125.0       140769.0   \n",
       "18      78.5          -103253.5  3101790.0      101070.0       204323.5   \n",
       "19      78.0          -200863.0  2698715.0       67015.0       267878.0   \n",
       "20      77.0           279283.0  3224676.0      314093.0        34810.0   \n",
       "21      78.0           569305.0  3880687.0      630427.0        61122.0   \n",
       "22      79.0            82675.0  3610165.0      332187.0       249512.0   \n",
       "23      79.0           -78104.0  3736105.0      113685.0       191789.0   \n",
       "24      79.0          -118129.0  3628246.0      135266.0       253395.0   \n",
       "25      78.0          -175300.0  3447545.0       76234.0       251534.0   \n",
       "26      77.0          -210912.0  3155345.0       68627.0       279539.0   \n",
       "27      77.0          -135595.0  3024993.0       46620.0       182215.0   \n",
       "28      76.0          -277255.0  2814508.0       26914.0       304169.0   \n",
       "\n",
       "       points_cumsum  \n",
       "round                 \n",
       "1               13.0  \n",
       "2               29.0  \n",
       "3               40.0  \n",
       "4               39.0  \n",
       "5               39.0  \n",
       "6               47.0  \n",
       "7               49.0  \n",
       "8               50.0  \n",
       "9               57.0  \n",
       "10              59.0  \n",
       "11              61.0  \n",
       "12              63.0  \n",
       "13              65.0  \n",
       "14              66.0  \n",
       "15              71.0  \n",
       "16              73.0  \n",
       "17              75.0  \n",
       "18              75.0  \n",
       "19              80.0  \n",
       "20              85.0  \n",
       "21              94.0  \n",
       "22              98.0  \n",
       "23             100.0  \n",
       "24             102.0  \n",
       "25             104.0  \n",
       "26             106.0  \n",
       "27             110.0  \n",
       "28             112.0  "
      ]
     },
     "execution_count": 54,
     "metadata": {},
     "output_type": "execute_result"
    }
   ],
   "source": [
    "player_df"
   ]
  },
  {
   "cell_type": "code",
   "execution_count": 55,
   "metadata": {},
   "outputs": [
    {
     "data": {
      "text/plain": [
       "<matplotlib.collections.PathCollection at 0x1b41727d3a0>"
      ]
     },
     "execution_count": 55,
     "metadata": {},
     "output_type": "execute_result"
    },
    {
     "name": "stdout",
     "output_type": "stream",
     "text": [
      "<Figure size 432x288 with 1 Axes>\n"
     ]
    }
   ],
   "source": [
    "fig, ax = plt.subplots()\n",
    "ax.scatter(player_df['total_points'], player_df['value'])"
   ]
  },
  {
   "cell_type": "code",
   "execution_count": null,
   "metadata": {},
   "outputs": [],
   "source": [
    "fig, ax = plt.subplots()\n",
    "ax.scatter(players['total_points'], players['now_cost']/10, c=players['element_type'])\n",
    "ax.set_xlim([0, 180])\n",
    "ax.set_ylabel('Value (millions)')\n",
    "ax.set_xlabel('Total points')\n",
    "ax.set_title('FPL Value vs Points')"
   ]
  },
  {
   "cell_type": "code",
   "execution_count": null,
   "metadata": {},
   "outputs": [],
   "source": [
    "players['web_name'].loc[players['total_points'] > 100]"
   ]
  },
  {
   "cell_type": "code",
   "execution_count": null,
   "metadata": {},
   "outputs": [],
   "source": [
    "# identifying the best value for money players\n",
    "for player in data['elements']:\n",
    "    if player['total_points']/player['now_cost'] > 1.7:\n",
    "        print(player['web_name'])"
   ]
  },
  {
   "cell_type": "code",
   "execution_count": null,
   "metadata": {},
   "outputs": [],
   "source": [
    "# using gameweke data d\n",
    "\n",
    "label = []\n",
    "fig, ax = plt.subplots()\n",
    "for ind_id, player in enumerate(d):\n",
    "    points = []\n",
    "    for gw in player['history']:\n",
    "        points.append(gw['total_points'])\n",
    "\n",
    "    if sum(points[-4:]) > 28: \n",
    "        #Plotting only people who's value has increased by more than 0.5mill\n",
    "        name = good_players['web_name'].loc[good_players.index[ind_id]]\n",
    "        ax.plot(np.arange(0, len(points[-4:])), points[-4:], label=name)\n",
    "ax.legend()\n",
    "    #for season in player['history_past']:\n",
    "    #    print(season['season_name'])\n",
    "    #print('----')"
   ]
  },
  {
   "cell_type": "code",
   "execution_count": null,
   "metadata": {},
   "outputs": [],
   "source": [
    "import json\n",
    "players = json.load(open('.data/raw_unistats.json'))\n",
    "players[0].keys()"
   ]
  },
  {
   "cell_type": "code",
   "execution_count": null,
   "metadata": {},
   "outputs": [],
   "source": [
    "players = pd.json_normalize(players).set_index(['id'])\n",
    "players.head()"
   ]
  },
  {
   "cell_type": "code",
   "execution_count": null,
   "metadata": {},
   "outputs": [],
   "source": [
    "players_new = pd.DataFrame()\n",
    "for player in players['player_name']:\n",
    "    name = player.split()\n",
    "    if len(name) < 1:\n",
    "        web_name = name\n",
    "        first_name = None\n",
    "        second_name = None\n",
    "    else:\n",
    "        first_name = name[0]\n",
    "        second_name = name[1:]\n",
    "        web_name = None\n",
    "    player_new = pd.Series([first_name, second_name, web_name])\n",
    "    pd.concat([players_new, player_new], axis=1)\n",
    "\n",
    "players_new.head()"
   ]
  },
  {
   "cell_type": "code",
   "execution_count": null,
   "metadata": {},
   "outputs": [],
   "source": []
  },
  {
   "cell_type": "code",
   "execution_count": null,
   "metadata": {},
   "outputs": [],
   "source": []
  },
  {
   "cell_type": "code",
   "execution_count": null,
   "metadata": {},
   "outputs": [],
   "source": []
  },
  {
   "cell_type": "code",
   "execution_count": null,
   "metadata": {},
   "outputs": [],
   "source": []
  },
  {
   "cell_type": "code",
   "execution_count": null,
   "metadata": {},
   "outputs": [],
   "source": []
  },
  {
   "cell_type": "code",
   "execution_count": null,
   "metadata": {},
   "outputs": [],
   "source": []
  },
  {
   "cell_type": "code",
   "execution_count": null,
   "metadata": {},
   "outputs": [],
   "source": [
    "for player in data['elements']:\n",
    "    if player['in_dreamteam'] is True:\n",
    "        print(player['first_name'] + ' ' + player['second_name'])"
   ]
  },
  {
   "cell_type": "code",
   "execution_count": null,
   "metadata": {},
   "outputs": [],
   "source": [
    "import pandas as pd\n",
    "data_2 = data['elements']\n",
    "players = pd.json_normalize(data_2)\n",
    "players[['web_name', 'form', 'total_points', 'minutes']].sort_values(by=['form'], ascending=False).head(10)"
   ]
  },
  {
   "cell_type": "code",
   "execution_count": null,
   "metadata": {},
   "outputs": [],
   "source": [
    "ppm = 90 * players['total_points'] / players['minutes']"
   ]
  },
  {
   "cell_type": "code",
   "execution_count": null,
   "metadata": {},
   "outputs": [],
   "source": [
    "players = pd.concat([players, ppm], axis=1)\n",
    "players.head()\n",
    "players[['web_name', 'form', 'total_points', 'minutes', 0]].sort_values(by=[0], ascending=False).head(40)"
   ]
  },
  {
   "cell_type": "code",
   "execution_count": null,
   "metadata": {},
   "outputs": [],
   "source": [
    "players.columns"
   ]
  },
  {
   "cell_type": "code",
   "execution_count": 8,
   "metadata": {},
   "outputs": [
    {
     "data": {
      "text/html": [
       "<div>\n",
       "<style scoped>\n",
       "    .dataframe tbody tr th:only-of-type {\n",
       "        vertical-align: middle;\n",
       "    }\n",
       "\n",
       "    .dataframe tbody tr th {\n",
       "        vertical-align: top;\n",
       "    }\n",
       "\n",
       "    .dataframe thead th {\n",
       "        text-align: right;\n",
       "    }\n",
       "</style>\n",
       "<table border=\"1\" class=\"dataframe\">\n",
       "  <thead>\n",
       "    <tr style=\"text-align: right;\">\n",
       "      <th></th>\n",
       "      <th>dreamteam_count</th>\n",
       "      <th>element_type</th>\n",
       "      <th>event_points</th>\n",
       "      <th>form</th>\n",
       "      <th>in_dreamteam</th>\n",
       "      <th>now_cost</th>\n",
       "      <th>points_per_game</th>\n",
       "      <th>selected_by_percent</th>\n",
       "      <th>team</th>\n",
       "      <th>total_points</th>\n",
       "      <th>transfers_in</th>\n",
       "      <th>transfers_out</th>\n",
       "      <th>value_form</th>\n",
       "      <th>value_season</th>\n",
       "      <th>minutes</th>\n",
       "      <th>goals_scored</th>\n",
       "      <th>assists</th>\n",
       "      <th>clean_sheets</th>\n",
       "      <th>goals_conceded</th>\n",
       "      <th>own_goals</th>\n",
       "      <th>penalties_saved</th>\n",
       "      <th>penalties_missed</th>\n",
       "      <th>yellow_cards</th>\n",
       "      <th>red_cards</th>\n",
       "      <th>saves</th>\n",
       "      <th>bonus</th>\n",
       "      <th>bps</th>\n",
       "      <th>influence</th>\n",
       "      <th>creativity</th>\n",
       "      <th>threat</th>\n",
       "      <th>ict_index</th>\n",
       "      <th>influence_rank</th>\n",
       "      <th>creativity_rank</th>\n",
       "      <th>threat_rank</th>\n",
       "      <th>ict_index_rank</th>\n",
       "      <th>player_name</th>\n",
       "      <th>games</th>\n",
       "      <th>xG</th>\n",
       "      <th>xA</th>\n",
       "      <th>shots</th>\n",
       "      <th>key_passes</th>\n",
       "      <th>npg</th>\n",
       "      <th>npxG</th>\n",
       "      <th>xGChain</th>\n",
       "      <th>xGBuildup</th>\n",
       "    </tr>\n",
       "    <tr>\n",
       "      <th>index</th>\n",
       "      <th></th>\n",
       "      <th></th>\n",
       "      <th></th>\n",
       "      <th></th>\n",
       "      <th></th>\n",
       "      <th></th>\n",
       "      <th></th>\n",
       "      <th></th>\n",
       "      <th></th>\n",
       "      <th></th>\n",
       "      <th></th>\n",
       "      <th></th>\n",
       "      <th></th>\n",
       "      <th></th>\n",
       "      <th></th>\n",
       "      <th></th>\n",
       "      <th></th>\n",
       "      <th></th>\n",
       "      <th></th>\n",
       "      <th></th>\n",
       "      <th></th>\n",
       "      <th></th>\n",
       "      <th></th>\n",
       "      <th></th>\n",
       "      <th></th>\n",
       "      <th></th>\n",
       "      <th></th>\n",
       "      <th></th>\n",
       "      <th></th>\n",
       "      <th></th>\n",
       "      <th></th>\n",
       "      <th></th>\n",
       "      <th></th>\n",
       "      <th></th>\n",
       "      <th></th>\n",
       "      <th></th>\n",
       "      <th></th>\n",
       "      <th></th>\n",
       "      <th></th>\n",
       "      <th></th>\n",
       "      <th></th>\n",
       "      <th></th>\n",
       "      <th></th>\n",
       "      <th></th>\n",
       "      <th></th>\n",
       "    </tr>\n",
       "  </thead>\n",
       "  <tbody>\n",
       "    <tr>\n",
       "      <th>1</th>\n",
       "      <td>0</td>\n",
       "      <td>Goalkeeper</td>\n",
       "      <td>0</td>\n",
       "      <td>0.0</td>\n",
       "      <td>False</td>\n",
       "      <td>45</td>\n",
       "      <td>1.3</td>\n",
       "      <td>0.8</td>\n",
       "      <td>1</td>\n",
       "      <td>4</td>\n",
       "      <td>64502</td>\n",
       "      <td>189760</td>\n",
       "      <td>0.0</td>\n",
       "      <td>0.9</td>\n",
       "      <td>270</td>\n",
       "      <td>0</td>\n",
       "      <td>0</td>\n",
       "      <td>0</td>\n",
       "      <td>9</td>\n",
       "      <td>0</td>\n",
       "      <td>0</td>\n",
       "      <td>0</td>\n",
       "      <td>0</td>\n",
       "      <td>0</td>\n",
       "      <td>9</td>\n",
       "      <td>0</td>\n",
       "      <td>48</td>\n",
       "      <td>79.0</td>\n",
       "      <td>0.0</td>\n",
       "      <td>0.0</td>\n",
       "      <td>7.9</td>\n",
       "      <td>367</td>\n",
       "      <td>600</td>\n",
       "      <td>581</td>\n",
       "      <td>425</td>\n",
       "      <td>Bernd Leno</td>\n",
       "      <td>3</td>\n",
       "      <td>0</td>\n",
       "      <td>0</td>\n",
       "      <td>0</td>\n",
       "      <td>0</td>\n",
       "      <td>0</td>\n",
       "      <td>0</td>\n",
       "      <td>0.09702771157026291</td>\n",
       "      <td>0.09702771157026291</td>\n",
       "    </tr>\n",
       "    <tr>\n",
       "      <th>5</th>\n",
       "      <td>0</td>\n",
       "      <td>Defender</td>\n",
       "      <td>0</td>\n",
       "      <td>2.5</td>\n",
       "      <td>False</td>\n",
       "      <td>42</td>\n",
       "      <td>1.5</td>\n",
       "      <td>0.2</td>\n",
       "      <td>1</td>\n",
       "      <td>12</td>\n",
       "      <td>20437</td>\n",
       "      <td>28322</td>\n",
       "      <td>0.6</td>\n",
       "      <td>2.9</td>\n",
       "      <td>559</td>\n",
       "      <td>0</td>\n",
       "      <td>0</td>\n",
       "      <td>1</td>\n",
       "      <td>12</td>\n",
       "      <td>0</td>\n",
       "      <td>0</td>\n",
       "      <td>0</td>\n",
       "      <td>2</td>\n",
       "      <td>0</td>\n",
       "      <td>0</td>\n",
       "      <td>0</td>\n",
       "      <td>96</td>\n",
       "      <td>105.6</td>\n",
       "      <td>112.2</td>\n",
       "      <td>33.0</td>\n",
       "      <td>25.2</td>\n",
       "      <td>348</td>\n",
       "      <td>224</td>\n",
       "      <td>349</td>\n",
       "      <td>341</td>\n",
       "      <td>Cédric Soares</td>\n",
       "      <td>8</td>\n",
       "      <td>0.07110979780554771</td>\n",
       "      <td>0.3677573464810848</td>\n",
       "      <td>3</td>\n",
       "      <td>5</td>\n",
       "      <td>0</td>\n",
       "      <td>0.07110979780554771</td>\n",
       "      <td>1.432391196489334</td>\n",
       "      <td>1.2237752564251423</td>\n",
       "    </tr>\n",
       "    <tr>\n",
       "      <th>6</th>\n",
       "      <td>1</td>\n",
       "      <td>Forward</td>\n",
       "      <td>8</td>\n",
       "      <td>5.8</td>\n",
       "      <td>False</td>\n",
       "      <td>83</td>\n",
       "      <td>3.5</td>\n",
       "      <td>5.7</td>\n",
       "      <td>1</td>\n",
       "      <td>71</td>\n",
       "      <td>1272815</td>\n",
       "      <td>999614</td>\n",
       "      <td>0.7</td>\n",
       "      <td>8.6</td>\n",
       "      <td>1280</td>\n",
       "      <td>3</td>\n",
       "      <td>8</td>\n",
       "      <td>8</td>\n",
       "      <td>9</td>\n",
       "      <td>0</td>\n",
       "      <td>0</td>\n",
       "      <td>1</td>\n",
       "      <td>0</td>\n",
       "      <td>0</td>\n",
       "      <td>0</td>\n",
       "      <td>3</td>\n",
       "      <td>238</td>\n",
       "      <td>326.8</td>\n",
       "      <td>337.7</td>\n",
       "      <td>611.0</td>\n",
       "      <td>127.5</td>\n",
       "      <td>147</td>\n",
       "      <td>74</td>\n",
       "      <td>32</td>\n",
       "      <td>42</td>\n",
       "      <td>Alexandre Lacazette</td>\n",
       "      <td>20</td>\n",
       "      <td>6.137330990284681</td>\n",
       "      <td>2.796951025724411</td>\n",
       "      <td>34</td>\n",
       "      <td>26</td>\n",
       "      <td>2</td>\n",
       "      <td>4.614993255585432</td>\n",
       "      <td>7.631977543234825</td>\n",
       "      <td>2.7071695886552334</td>\n",
       "    </tr>\n",
       "    <tr>\n",
       "      <th>7</th>\n",
       "      <td>0</td>\n",
       "      <td>Midfielder</td>\n",
       "      <td>2</td>\n",
       "      <td>2.0</td>\n",
       "      <td>False</td>\n",
       "      <td>48</td>\n",
       "      <td>1.9</td>\n",
       "      <td>0.3</td>\n",
       "      <td>1</td>\n",
       "      <td>26</td>\n",
       "      <td>28254</td>\n",
       "      <td>87646</td>\n",
       "      <td>0.4</td>\n",
       "      <td>5.4</td>\n",
       "      <td>1185</td>\n",
       "      <td>0</td>\n",
       "      <td>1</td>\n",
       "      <td>4</td>\n",
       "      <td>19</td>\n",
       "      <td>0</td>\n",
       "      <td>0</td>\n",
       "      <td>0</td>\n",
       "      <td>5</td>\n",
       "      <td>1</td>\n",
       "      <td>0</td>\n",
       "      <td>0</td>\n",
       "      <td>148</td>\n",
       "      <td>182.0</td>\n",
       "      <td>224.9</td>\n",
       "      <td>131.0</td>\n",
       "      <td>53.8</td>\n",
       "      <td>270</td>\n",
       "      <td>136</td>\n",
       "      <td>217</td>\n",
       "      <td>230</td>\n",
       "      <td>Granit Xhaka</td>\n",
       "      <td>14</td>\n",
       "      <td>0.5690411180257797</td>\n",
       "      <td>1.1968239024281502</td>\n",
       "      <td>11</td>\n",
       "      <td>14</td>\n",
       "      <td>0</td>\n",
       "      <td>0.5690411180257797</td>\n",
       "      <td>7.182054482400417</td>\n",
       "      <td>5.651868619024754</td>\n",
       "    </tr>\n",
       "    <tr>\n",
       "      <th>12</th>\n",
       "      <td>0</td>\n",
       "      <td>Midfielder</td>\n",
       "      <td>0</td>\n",
       "      <td>0.0</td>\n",
       "      <td>False</td>\n",
       "      <td>44</td>\n",
       "      <td>1.6</td>\n",
       "      <td>0.3</td>\n",
       "      <td>1</td>\n",
       "      <td>11</td>\n",
       "      <td>36110</td>\n",
       "      <td>72681</td>\n",
       "      <td>0.0</td>\n",
       "      <td>2.5</td>\n",
       "      <td>171</td>\n",
       "      <td>0</td>\n",
       "      <td>1</td>\n",
       "      <td>0</td>\n",
       "      <td>6</td>\n",
       "      <td>0</td>\n",
       "      <td>0</td>\n",
       "      <td>0</td>\n",
       "      <td>0</td>\n",
       "      <td>0</td>\n",
       "      <td>0</td>\n",
       "      <td>0</td>\n",
       "      <td>42</td>\n",
       "      <td>44.4</td>\n",
       "      <td>49.3</td>\n",
       "      <td>7.0</td>\n",
       "      <td>10.1</td>\n",
       "      <td>405</td>\n",
       "      <td>310</td>\n",
       "      <td>412</td>\n",
       "      <td>406</td>\n",
       "      <td>Mohamed Naser El Sayed Elneny</td>\n",
       "      <td>7</td>\n",
       "      <td>0.015566117130219936</td>\n",
       "      <td>0.09426746517419815</td>\n",
       "      <td>1</td>\n",
       "      <td>4</td>\n",
       "      <td>0</td>\n",
       "      <td>0.015566117130219936</td>\n",
       "      <td>0.3339325822889805</td>\n",
       "      <td>0.27588820457458496</td>\n",
       "    </tr>\n",
       "    <tr>\n",
       "      <th>...</th>\n",
       "      <td>...</td>\n",
       "      <td>...</td>\n",
       "      <td>...</td>\n",
       "      <td>...</td>\n",
       "      <td>...</td>\n",
       "      <td>...</td>\n",
       "      <td>...</td>\n",
       "      <td>...</td>\n",
       "      <td>...</td>\n",
       "      <td>...</td>\n",
       "      <td>...</td>\n",
       "      <td>...</td>\n",
       "      <td>...</td>\n",
       "      <td>...</td>\n",
       "      <td>...</td>\n",
       "      <td>...</td>\n",
       "      <td>...</td>\n",
       "      <td>...</td>\n",
       "      <td>...</td>\n",
       "      <td>...</td>\n",
       "      <td>...</td>\n",
       "      <td>...</td>\n",
       "      <td>...</td>\n",
       "      <td>...</td>\n",
       "      <td>...</td>\n",
       "      <td>...</td>\n",
       "      <td>...</td>\n",
       "      <td>...</td>\n",
       "      <td>...</td>\n",
       "      <td>...</td>\n",
       "      <td>...</td>\n",
       "      <td>...</td>\n",
       "      <td>...</td>\n",
       "      <td>...</td>\n",
       "      <td>...</td>\n",
       "      <td>...</td>\n",
       "      <td>...</td>\n",
       "      <td>...</td>\n",
       "      <td>...</td>\n",
       "      <td>...</td>\n",
       "      <td>...</td>\n",
       "      <td>...</td>\n",
       "      <td>...</td>\n",
       "      <td>...</td>\n",
       "      <td>...</td>\n",
       "    </tr>\n",
       "    <tr>\n",
       "      <th>461</th>\n",
       "      <td>0</td>\n",
       "      <td>Midfielder</td>\n",
       "      <td>0</td>\n",
       "      <td>0.6</td>\n",
       "      <td>False</td>\n",
       "      <td>56</td>\n",
       "      <td>1.9</td>\n",
       "      <td>0.3</td>\n",
       "      <td>20</td>\n",
       "      <td>39</td>\n",
       "      <td>126323</td>\n",
       "      <td>150674</td>\n",
       "      <td>0.1</td>\n",
       "      <td>7.0</td>\n",
       "      <td>1062</td>\n",
       "      <td>0</td>\n",
       "      <td>0</td>\n",
       "      <td>6</td>\n",
       "      <td>10</td>\n",
       "      <td>0</td>\n",
       "      <td>0</td>\n",
       "      <td>0</td>\n",
       "      <td>0</td>\n",
       "      <td>0</td>\n",
       "      <td>0</td>\n",
       "      <td>0</td>\n",
       "      <td>119</td>\n",
       "      <td>123.0</td>\n",
       "      <td>208.1</td>\n",
       "      <td>282.0</td>\n",
       "      <td>61.3</td>\n",
       "      <td>329</td>\n",
       "      <td>149</td>\n",
       "      <td>115</td>\n",
       "      <td>201</td>\n",
       "      <td>Francisco Machado Mota de Castro Trincão</td>\n",
       "      <td>20</td>\n",
       "      <td>2.9662660770118237</td>\n",
       "      <td>0.9992841091006994</td>\n",
       "      <td>22</td>\n",
       "      <td>12</td>\n",
       "      <td>0</td>\n",
       "      <td>2.9662660770118237</td>\n",
       "      <td>4.48273965343833</td>\n",
       "      <td>1.3097640331834555</td>\n",
       "    </tr>\n",
       "    <tr>\n",
       "      <th>470</th>\n",
       "      <td>1</td>\n",
       "      <td>Defender</td>\n",
       "      <td>0</td>\n",
       "      <td>1.1</td>\n",
       "      <td>False</td>\n",
       "      <td>44</td>\n",
       "      <td>4.1</td>\n",
       "      <td>1.9</td>\n",
       "      <td>20</td>\n",
       "      <td>62</td>\n",
       "      <td>319746</td>\n",
       "      <td>206978</td>\n",
       "      <td>0.2</td>\n",
       "      <td>14.1</td>\n",
       "      <td>1192</td>\n",
       "      <td>0</td>\n",
       "      <td>3</td>\n",
       "      <td>6</td>\n",
       "      <td>9</td>\n",
       "      <td>0</td>\n",
       "      <td>0</td>\n",
       "      <td>0</td>\n",
       "      <td>3</td>\n",
       "      <td>0</td>\n",
       "      <td>0</td>\n",
       "      <td>6</td>\n",
       "      <td>250</td>\n",
       "      <td>266.0</td>\n",
       "      <td>235.4</td>\n",
       "      <td>116.0</td>\n",
       "      <td>61.8</td>\n",
       "      <td>200</td>\n",
       "      <td>126</td>\n",
       "      <td>231</td>\n",
       "      <td>197</td>\n",
       "      <td>Rayan Ait Nouri</td>\n",
       "      <td>15</td>\n",
       "      <td>0.36209866404533386</td>\n",
       "      <td>1.462252995930612</td>\n",
       "      <td>8</td>\n",
       "      <td>13</td>\n",
       "      <td>0</td>\n",
       "      <td>0.36209866404533386</td>\n",
       "      <td>3.034422045573592</td>\n",
       "      <td>2.222881620749831</td>\n",
       "    </tr>\n",
       "    <tr>\n",
       "      <th>475</th>\n",
       "      <td>4</td>\n",
       "      <td>Goalkeeper</td>\n",
       "      <td>3</td>\n",
       "      <td>3.1</td>\n",
       "      <td>False</td>\n",
       "      <td>53</td>\n",
       "      <td>4.4</td>\n",
       "      <td>11.4</td>\n",
       "      <td>20</td>\n",
       "      <td>118</td>\n",
       "      <td>1527425</td>\n",
       "      <td>602111</td>\n",
       "      <td>0.6</td>\n",
       "      <td>22.3</td>\n",
       "      <td>2430</td>\n",
       "      <td>0</td>\n",
       "      <td>1</td>\n",
       "      <td>9</td>\n",
       "      <td>23</td>\n",
       "      <td>1</td>\n",
       "      <td>0</td>\n",
       "      <td>0</td>\n",
       "      <td>3</td>\n",
       "      <td>0</td>\n",
       "      <td>95</td>\n",
       "      <td>11</td>\n",
       "      <td>565</td>\n",
       "      <td>757.4</td>\n",
       "      <td>30.0</td>\n",
       "      <td>0.0</td>\n",
       "      <td>78.5</td>\n",
       "      <td>4</td>\n",
       "      <td>361</td>\n",
       "      <td>690</td>\n",
       "      <td>144</td>\n",
       "      <td>José Malheiro de Sá</td>\n",
       "      <td>27</td>\n",
       "      <td>0</td>\n",
       "      <td>0.3950190395116806</td>\n",
       "      <td>0</td>\n",
       "      <td>2</td>\n",
       "      <td>0</td>\n",
       "      <td>0</td>\n",
       "      <td>1.4153129095211625</td>\n",
       "      <td>1.020293870009482</td>\n",
       "    </tr>\n",
       "    <tr>\n",
       "      <th>583</th>\n",
       "      <td>1</td>\n",
       "      <td>Forward</td>\n",
       "      <td>2</td>\n",
       "      <td>2.1</td>\n",
       "      <td>False</td>\n",
       "      <td>54</td>\n",
       "      <td>3.3</td>\n",
       "      <td>4.1</td>\n",
       "      <td>20</td>\n",
       "      <td>62</td>\n",
       "      <td>1914651</td>\n",
       "      <td>1637667</td>\n",
       "      <td>0.4</td>\n",
       "      <td>11.5</td>\n",
       "      <td>1266</td>\n",
       "      <td>5</td>\n",
       "      <td>0</td>\n",
       "      <td>6</td>\n",
       "      <td>10</td>\n",
       "      <td>0</td>\n",
       "      <td>0</td>\n",
       "      <td>0</td>\n",
       "      <td>1</td>\n",
       "      <td>0</td>\n",
       "      <td>0</td>\n",
       "      <td>11</td>\n",
       "      <td>229</td>\n",
       "      <td>259.4</td>\n",
       "      <td>162.7</td>\n",
       "      <td>318.0</td>\n",
       "      <td>73.5</td>\n",
       "      <td>206</td>\n",
       "      <td>175</td>\n",
       "      <td>97</td>\n",
       "      <td>156</td>\n",
       "      <td>Hee-Chan Hwang</td>\n",
       "      <td>19</td>\n",
       "      <td>3.135462796315551</td>\n",
       "      <td>0.8699445361271501</td>\n",
       "      <td>14</td>\n",
       "      <td>9</td>\n",
       "      <td>5</td>\n",
       "      <td>3.135462796315551</td>\n",
       "      <td>6.538465971127152</td>\n",
       "      <td>3.0046101678162813</td>\n",
       "    </tr>\n",
       "    <tr>\n",
       "      <th>685</th>\n",
       "      <td>0</td>\n",
       "      <td>Defender</td>\n",
       "      <td>0</td>\n",
       "      <td>0.0</td>\n",
       "      <td>False</td>\n",
       "      <td>45</td>\n",
       "      <td>1.5</td>\n",
       "      <td>0.0</td>\n",
       "      <td>20</td>\n",
       "      <td>3</td>\n",
       "      <td>418</td>\n",
       "      <td>299</td>\n",
       "      <td>0.0</td>\n",
       "      <td>0.7</td>\n",
       "      <td>180</td>\n",
       "      <td>0</td>\n",
       "      <td>0</td>\n",
       "      <td>0</td>\n",
       "      <td>2</td>\n",
       "      <td>0</td>\n",
       "      <td>0</td>\n",
       "      <td>0</td>\n",
       "      <td>1</td>\n",
       "      <td>0</td>\n",
       "      <td>0</td>\n",
       "      <td>0</td>\n",
       "      <td>22</td>\n",
       "      <td>41.6</td>\n",
       "      <td>1.8</td>\n",
       "      <td>0.0</td>\n",
       "      <td>4.3</td>\n",
       "      <td>411</td>\n",
       "      <td>445</td>\n",
       "      <td>652</td>\n",
       "      <td>445</td>\n",
       "      <td>Toti António Gomes</td>\n",
       "      <td>2</td>\n",
       "      <td>0</td>\n",
       "      <td>0</td>\n",
       "      <td>0</td>\n",
       "      <td>0</td>\n",
       "      <td>0</td>\n",
       "      <td>0</td>\n",
       "      <td>0.1259562373161316</td>\n",
       "      <td>0.1259562373161316</td>\n",
       "    </tr>\n",
       "  </tbody>\n",
       "</table>\n",
       "<p>421 rows × 45 columns</p>\n",
       "</div>"
      ],
      "text/plain": [
       "       dreamteam_count element_type  event_points form  in_dreamteam  \\\n",
       "index                                                                  \n",
       "1                    0   Goalkeeper             0  0.0         False   \n",
       "5                    0     Defender             0  2.5         False   \n",
       "6                    1      Forward             8  5.8         False   \n",
       "7                    0   Midfielder             2  2.0         False   \n",
       "12                   0   Midfielder             0  0.0         False   \n",
       "...                ...          ...           ...  ...           ...   \n",
       "461                  0   Midfielder             0  0.6         False   \n",
       "470                  1     Defender             0  1.1         False   \n",
       "475                  4   Goalkeeper             3  3.1         False   \n",
       "583                  1      Forward             2  2.1         False   \n",
       "685                  0     Defender             0  0.0         False   \n",
       "\n",
       "       now_cost points_per_game selected_by_percent  team  total_points  \\\n",
       "index                                                                     \n",
       "1            45             1.3                 0.8     1             4   \n",
       "5            42             1.5                 0.2     1            12   \n",
       "6            83             3.5                 5.7     1            71   \n",
       "7            48             1.9                 0.3     1            26   \n",
       "12           44             1.6                 0.3     1            11   \n",
       "...         ...             ...                 ...   ...           ...   \n",
       "461          56             1.9                 0.3    20            39   \n",
       "470          44             4.1                 1.9    20            62   \n",
       "475          53             4.4                11.4    20           118   \n",
       "583          54             3.3                 4.1    20            62   \n",
       "685          45             1.5                 0.0    20             3   \n",
       "\n",
       "       transfers_in  transfers_out value_form value_season  minutes  \\\n",
       "index                                                                 \n",
       "1             64502         189760        0.0          0.9      270   \n",
       "5             20437          28322        0.6          2.9      559   \n",
       "6           1272815         999614        0.7          8.6     1280   \n",
       "7             28254          87646        0.4          5.4     1185   \n",
       "12            36110          72681        0.0          2.5      171   \n",
       "...             ...            ...        ...          ...      ...   \n",
       "461          126323         150674        0.1          7.0     1062   \n",
       "470          319746         206978        0.2         14.1     1192   \n",
       "475         1527425         602111        0.6         22.3     2430   \n",
       "583         1914651        1637667        0.4         11.5     1266   \n",
       "685             418            299        0.0          0.7      180   \n",
       "\n",
       "       goals_scored  assists  clean_sheets  goals_conceded  own_goals  \\\n",
       "index                                                                   \n",
       "1                 0        0             0               9          0   \n",
       "5                 0        0             1              12          0   \n",
       "6                 3        8             8               9          0   \n",
       "7                 0        1             4              19          0   \n",
       "12                0        1             0               6          0   \n",
       "...             ...      ...           ...             ...        ...   \n",
       "461               0        0             6              10          0   \n",
       "470               0        3             6               9          0   \n",
       "475               0        1             9              23          1   \n",
       "583               5        0             6              10          0   \n",
       "685               0        0             0               2          0   \n",
       "\n",
       "       penalties_saved  penalties_missed  yellow_cards  red_cards  saves  \\\n",
       "index                                                                      \n",
       "1                    0                 0             0          0      9   \n",
       "5                    0                 0             2          0      0   \n",
       "6                    0                 1             0          0      0   \n",
       "7                    0                 0             5          1      0   \n",
       "12                   0                 0             0          0      0   \n",
       "...                ...               ...           ...        ...    ...   \n",
       "461                  0                 0             0          0      0   \n",
       "470                  0                 0             3          0      0   \n",
       "475                  0                 0             3          0     95   \n",
       "583                  0                 0             1          0      0   \n",
       "685                  0                 0             1          0      0   \n",
       "\n",
       "       bonus  bps influence creativity threat ict_index  influence_rank  \\\n",
       "index                                                                     \n",
       "1          0   48      79.0        0.0    0.0       7.9             367   \n",
       "5          0   96     105.6      112.2   33.0      25.2             348   \n",
       "6          3  238     326.8      337.7  611.0     127.5             147   \n",
       "7          0  148     182.0      224.9  131.0      53.8             270   \n",
       "12         0   42      44.4       49.3    7.0      10.1             405   \n",
       "...      ...  ...       ...        ...    ...       ...             ...   \n",
       "461        0  119     123.0      208.1  282.0      61.3             329   \n",
       "470        6  250     266.0      235.4  116.0      61.8             200   \n",
       "475       11  565     757.4       30.0    0.0      78.5               4   \n",
       "583       11  229     259.4      162.7  318.0      73.5             206   \n",
       "685        0   22      41.6        1.8    0.0       4.3             411   \n",
       "\n",
       "       creativity_rank  threat_rank  ict_index_rank  \\\n",
       "index                                                 \n",
       "1                  600          581             425   \n",
       "5                  224          349             341   \n",
       "6                   74           32              42   \n",
       "7                  136          217             230   \n",
       "12                 310          412             406   \n",
       "...                ...          ...             ...   \n",
       "461                149          115             201   \n",
       "470                126          231             197   \n",
       "475                361          690             144   \n",
       "583                175           97             156   \n",
       "685                445          652             445   \n",
       "\n",
       "                                    player_name games                    xG  \\\n",
       "index                                                                         \n",
       "1                                    Bernd Leno     3                     0   \n",
       "5                                 Cédric Soares     8   0.07110979780554771   \n",
       "6                           Alexandre Lacazette    20     6.137330990284681   \n",
       "7                                  Granit Xhaka    14    0.5690411180257797   \n",
       "12                Mohamed Naser El Sayed Elneny     7  0.015566117130219936   \n",
       "...                                         ...   ...                   ...   \n",
       "461    Francisco Machado Mota de Castro Trincão    20    2.9662660770118237   \n",
       "470                             Rayan Ait Nouri    15   0.36209866404533386   \n",
       "475                         José Malheiro de Sá    27                     0   \n",
       "583                              Hee-Chan Hwang    19     3.135462796315551   \n",
       "685                          Toti António Gomes     2                     0   \n",
       "\n",
       "                        xA shots key_passes npg                  npxG  \\\n",
       "index                                                                   \n",
       "1                        0     0          0   0                     0   \n",
       "5       0.3677573464810848     3          5   0   0.07110979780554771   \n",
       "6        2.796951025724411    34         26   2     4.614993255585432   \n",
       "7       1.1968239024281502    11         14   0    0.5690411180257797   \n",
       "12     0.09426746517419815     1          4   0  0.015566117130219936   \n",
       "...                    ...   ...        ...  ..                   ...   \n",
       "461     0.9992841091006994    22         12   0    2.9662660770118237   \n",
       "470      1.462252995930612     8         13   0   0.36209866404533386   \n",
       "475     0.3950190395116806     0          2   0                     0   \n",
       "583     0.8699445361271501    14          9   5     3.135462796315551   \n",
       "685                      0     0          0   0                     0   \n",
       "\n",
       "                   xGChain            xGBuildup  \n",
       "index                                            \n",
       "1      0.09702771157026291  0.09702771157026291  \n",
       "5        1.432391196489334   1.2237752564251423  \n",
       "6        7.631977543234825   2.7071695886552334  \n",
       "7        7.182054482400417    5.651868619024754  \n",
       "12      0.3339325822889805  0.27588820457458496  \n",
       "...                    ...                  ...  \n",
       "461       4.48273965343833   1.3097640331834555  \n",
       "470      3.034422045573592    2.222881620749831  \n",
       "475     1.4153129095211625    1.020293870009482  \n",
       "583      6.538465971127152   3.0046101678162813  \n",
       "685     0.1259562373161316   0.1259562373161316  \n",
       "\n",
       "[421 rows x 45 columns]"
      ]
     },
     "execution_count": 8,
     "metadata": {},
     "output_type": "execute_result"
    }
   ],
   "source": [
    "pd.read_pickle('troubleshooting').set_index('index')"
   ]
  },
  {
   "cell_type": "code",
   "execution_count": 63,
   "metadata": {},
   "outputs": [
    {
     "name": "stdout",
     "output_type": "stream",
     "text": [
      "<class 'pandas.core.frame.DataFrame'>\n",
      "Index: 344 entries, 1 to 583\n",
      "Data columns (total 45 columns):\n",
      " #   Column               Non-Null Count  Dtype \n",
      "---  ------               --------------  ----- \n",
      " 0   dreamteam_count      344 non-null    int64 \n",
      " 1   element_type         344 non-null    object\n",
      " 2   event_points         344 non-null    int64 \n",
      " 3   form                 344 non-null    object\n",
      " 4   in_dreamteam         344 non-null    bool  \n",
      " 5   now_cost             344 non-null    int64 \n",
      " 6   points_per_game      344 non-null    object\n",
      " 7   selected_by_percent  344 non-null    object\n",
      " 8   team                 344 non-null    int64 \n",
      " 9   total_points         344 non-null    int64 \n",
      " 10  transfers_in         344 non-null    int64 \n",
      " 11  transfers_out        344 non-null    int64 \n",
      " 12  value_form           344 non-null    object\n",
      " 13  value_season         344 non-null    object\n",
      " 14  minutes              344 non-null    int64 \n",
      " 15  goals_scored         344 non-null    int64 \n",
      " 16  assists              344 non-null    int64 \n",
      " 17  clean_sheets         344 non-null    int64 \n",
      " 18  goals_conceded       344 non-null    int64 \n",
      " 19  own_goals            344 non-null    int64 \n",
      " 20  penalties_saved      344 non-null    int64 \n",
      " 21  penalties_missed     344 non-null    int64 \n",
      " 22  yellow_cards         344 non-null    int64 \n",
      " 23  red_cards            344 non-null    int64 \n",
      " 24  saves                344 non-null    int64 \n",
      " 25  bonus                344 non-null    int64 \n",
      " 26  bps                  344 non-null    int64 \n",
      " 27  influence            344 non-null    object\n",
      " 28  creativity           344 non-null    object\n",
      " 29  threat               344 non-null    object\n",
      " 30  ict_index            344 non-null    object\n",
      " 31  influence_rank       344 non-null    int64 \n",
      " 32  creativity_rank      344 non-null    int64 \n",
      " 33  threat_rank          344 non-null    int64 \n",
      " 34  ict_index_rank       344 non-null    int64 \n",
      " 35  player_name          344 non-null    object\n",
      " 36  games                344 non-null    object\n",
      " 37  xG                   344 non-null    object\n",
      " 38  xA                   344 non-null    object\n",
      " 39  shots                344 non-null    object\n",
      " 40  key_passes           344 non-null    object\n",
      " 41  npg                  344 non-null    object\n",
      " 42  npxG                 344 non-null    object\n",
      " 43  xGChain              344 non-null    object\n",
      " 44  xGBuildup            344 non-null    object\n",
      "dtypes: bool(1), int64(24), object(20)\n",
      "memory usage: 121.3+ KB\n"
     ]
    }
   ],
   "source": [
    "s = df.info(\n",
    ")"
   ]
  },
  {
   "cell_type": "code",
   "execution_count": 64,
   "metadata": {},
   "outputs": [],
   "source": [
    "d= [{'label': 'Arsenal', 'value': 1},\n",
    "                      {'label': 'Aston Villa', 'value': 2},\n",
    "                      {'label': 'Brentford', 'value': 3},\n",
    "                      {'label': 'Brighton and Hove Albion', 'value': 4},\n",
    "                      {'label': 'Burnley', 'value': 5},\n",
    "                      {'label': 'Chelsea', 'value': 6},\n",
    "                      {'label': 'Crystal Palace', 'value': 7},\n",
    "                      {'label': 'Everton', 'value': 8},\n",
    "                      {'label': 'Leeds', 'value': 9},\n",
    "                      {'label': 'Leicester City', 'value': 10},\n",
    "                      {'label': 'Liverpool', 'value': 11},\n",
    "                      {'label': 'Manchester City', 'value': 12},\n",
    "                      {'label': 'Manchester United', 'value': 13},\n",
    "                      {'label': 'Newcastle United', 'value': 14},\n",
    "                      {'label': 'Norwich City', 'value': 15},\n",
    "                      {'label': 'Southampton', 'value': 16},\n",
    "                      {'label': 'Tottenham Hotspur', 'value': 17},\n",
    "                      {'label': 'Watford', 'value': 18},\n",
    "                      {'label': 'West Ham', 'value': 19},\n",
    "                      {'label': 'Wolverhampton Wanderers', 'value': 20}]"
   ]
  },
  {
   "cell_type": "code",
   "execution_count": 67,
   "metadata": {},
   "outputs": [
    {
     "data": {
      "text/plain": [
       "'Arsenal'"
      ]
     },
     "execution_count": 67,
     "metadata": {},
     "output_type": "execute_result"
    }
   ],
   "source": [
    "d[0]['label']"
   ]
  },
  {
   "cell_type": "code",
   "execution_count": 68,
   "metadata": {},
   "outputs": [
    {
     "data": {
      "text/plain": [
       "['Arsenal',\n",
       " 'Aston Villa',\n",
       " 'Brentford',\n",
       " 'Brighton and Hove Albion',\n",
       " 'Burnley',\n",
       " 'Chelsea',\n",
       " 'Crystal Palace',\n",
       " 'Everton',\n",
       " 'Leeds',\n",
       " 'Leicester City',\n",
       " 'Liverpool',\n",
       " 'Manchester City',\n",
       " 'Manchester United',\n",
       " 'Newcastle United',\n",
       " 'Norwich City',\n",
       " 'Southampton',\n",
       " 'Tottenham Hotspur',\n",
       " 'Watford',\n",
       " 'West Ham',\n",
       " 'Wolverhampton Wanderers']"
      ]
     },
     "execution_count": 68,
     "metadata": {},
     "output_type": "execute_result"
    }
   ],
   "source": [
    "[i['label'] for i in d]"
   ]
  },
  {
   "cell_type": "code",
   "execution_count": null,
   "metadata": {},
   "outputs": [],
   "source": []
  }
 ],
 "metadata": {
  "interpreter": {
   "hash": "602ae3b8aa80bb55b57bdc81efe3d4da12a1487e0cb891e0f15a9e50812d75a1"
  },
  "kernelspec": {
   "display_name": "Python 3.9.7 64-bit ('base': conda)",
   "language": "python",
   "name": "python3"
  },
  "language_info": {
   "codemirror_mode": {
    "name": "ipython",
    "version": 3
   },
   "file_extension": ".py",
   "mimetype": "text/x-python",
   "name": "python",
   "nbconvert_exporter": "python",
   "pygments_lexer": "ipython3",
   "version": "3.9.7"
  },
  "orig_nbformat": 4
 },
 "nbformat": 4,
 "nbformat_minor": 2
}
